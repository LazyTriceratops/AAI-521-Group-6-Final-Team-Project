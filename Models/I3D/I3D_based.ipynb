{
 "cells": [
  {
   "cell_type": "code",
   "execution_count": null,
   "metadata": {
    "executionInfo": {
     "elapsed": 3353,
     "status": "ok",
     "timestamp": 1733544725247,
     "user": {
      "displayName": "Aaron Ramirez",
      "userId": "09089953805173967437"
     },
     "user_tz": -540
    },
    "id": "juK-S8QbrQAu"
   },
   "outputs": [],
   "source": [
    "import numpy as np\n",
    "import os\n",
    "import pandas as pd\n",
    "import tensorflow as tf\n",
    "from tensorflow.keras import layers, models\n",
    "from tensorflow.keras.callbacks import EarlyStopping\n",
    "from tensorflow.keras.optimizers import Adam\n",
    "from tensorflow.keras import regularizers\n",
    "import os\n",
    "from sklearn.model_selection import train_test_split"
   ]
  },
  {
   "cell_type": "code",
   "execution_count": 2,
   "metadata": {
    "colab": {
     "base_uri": "https://localhost:8080/"
    },
    "executionInfo": {
     "elapsed": 18771,
     "status": "ok",
     "timestamp": 1733544746731,
     "user": {
      "displayName": "Aaron Ramirez",
      "userId": "09089953805173967437"
     },
     "user_tz": -540
    },
    "id": "6QWUAN8DrT9F",
    "outputId": "108eeda3-cbec-47ee-d69c-cfb1f2a5d78e"
   },
   "outputs": [
    {
     "name": "stdout",
     "output_type": "stream",
     "text": [
      "Mounted at /content/drive\n"
     ]
    }
   ],
   "source": [
    "from google.colab import drive\n",
    "drive.mount('/content/drive')"
   ]
  },
  {
   "cell_type": "code",
   "execution_count": 3,
   "metadata": {
    "executionInfo": {
     "elapsed": 2892,
     "status": "ok",
     "timestamp": 1733544754026,
     "user": {
      "displayName": "Aaron Ramirez",
      "userId": "09089953805173967437"
     },
     "user_tz": -540
    },
    "id": "eLNq9TIhq4Qn"
   },
   "outputs": [],
   "source": [
    "# Load processed data from disk\n",
    "save_path = '/content/drive/MyDrive/Colab Notebooks/AAI-521/Final Project/final_DataSet'\n",
    "\n",
    "X = np.load(os.path.join(save_path, 'X_i3d_100.npy'), mmap_mode='r')\n",
    "y = np.load(os.path.join(save_path, 'y_i3d_100.npy'))"
   ]
  },
  {
   "cell_type": "code",
   "execution_count": null,
   "metadata": {
    "colab": {
     "base_uri": "https://localhost:8080/"
    },
    "executionInfo": {
     "elapsed": 368528,
     "status": "ok",
     "timestamp": 1733545124193,
     "user": {
      "displayName": "Aaron Ramirez",
      "userId": "09089953805173967437"
     },
     "user_tz": -540
    },
    "id": "nqThs5j6u7Su",
    "outputId": "8664a833-ee8b-49ac-fb53-4d36b5019ca6"
   },
   "outputs": [
    {
     "name": "stdout",
     "output_type": "stream",
     "text": [
      "X_train shape: (896, 64, 224, 224, 3)\n",
      "X_val shape: (112, 64, 224, 224, 3)\n",
      "X_test shape: (112, 64, 224, 224, 3)\n"
     ]
    }
   ],
   "source": [
    "# Split data into training and testing sets first\n",
    "X_train, X_temp, y_train, y_temp = train_test_split(X, y, test_size=0.2, random_state=42)\n",
    "\n",
    "# Then split the remaining data into validation and test sets\n",
    "X_val, X_test, y_val, y_test = train_test_split(X_temp, y_temp, test_size=0.5, random_state=42)\n",
    "\n",
    "# Print the shapes of the splits to verify\n",
    "print(f\"X_train shape: {X_train.shape}\")\n",
    "print(f\"X_val shape: {X_val.shape}\")\n",
    "print(f\"X_test shape: {X_test.shape}\")\n"
   ]
  },
  {
   "cell_type": "code",
   "execution_count": 5,
   "metadata": {
    "executionInfo": {
     "elapsed": 591,
     "status": "ok",
     "timestamp": 1733545136682,
     "user": {
      "displayName": "Aaron Ramirez",
      "userId": "09089953805173967437"
     },
     "user_tz": -540
    },
    "id": "KzsE_JZpybfp"
   },
   "outputs": [],
   "source": [
    "# Load the top 100 glosses\n",
    "top_100_path = '/content/drive/MyDrive/Colab Notebooks/AAI-521/Final Project/DataSet/gloss_counts_top_100.csv'\n",
    "df = pd.read_csv(top_100_path)\n",
    "top_100_classes = df['Gloss'].tolist()  # List of the top 100 glosses"
   ]
  },
  {
   "cell_type": "code",
   "execution_count": 6,
   "metadata": {
    "colab": {
     "base_uri": "https://localhost:8080/"
    },
    "executionInfo": {
     "elapsed": 557,
     "status": "ok",
     "timestamp": 1733545141659,
     "user": {
      "displayName": "Aaron Ramirez",
      "userId": "09089953805173967437"
     },
     "user_tz": -540
    },
    "id": "pEYhHSMEzteX",
    "outputId": "51749f6f-6bee-4c30-e19a-99d030b6e861"
   },
   "outputs": [
    {
     "name": "stdout",
     "output_type": "stream",
     "text": [
      "GPU is being used!\n"
     ]
    }
   ],
   "source": [
    "# Ensure TensorFlow is using GPU\n",
    "gpus = tf.config.experimental.list_physical_devices('GPU')\n",
    "if gpus:\n",
    "    try:\n",
    "        # Set memory growth to avoid memory errors\n",
    "        for gpu in gpus:\n",
    "            tf.config.experimental.set_memory_growth(gpu, True)\n",
    "        print(\"GPU is being used!\")\n",
    "    except RuntimeError as e:\n",
    "        print(e)\n",
    "else:\n",
    "    print(\"No GPU found. Using CPU instead.\")"
   ]
  },
  {
   "cell_type": "code",
   "execution_count": 16,
   "metadata": {
    "executionInfo": {
     "elapsed": 271,
     "status": "ok",
     "timestamp": 1733547023563,
     "user": {
      "displayName": "Aaron Ramirez",
      "userId": "09089953805173967437"
     },
     "user_tz": -540
    },
    "id": "7aoFTsgdukOK"
   },
   "outputs": [],
   "source": [
    "# Define the I3D model with adjustable hyperparameters\n",
    "def build_i3d_model(input_shape, num_classes, learning_rate=0.001, dropout_rate=0.5, l2_lambda=0.001):\n",
    "    model = models.Sequential()\n",
    "\n",
    "    # 3D convolution layers with BatchNormalization\n",
    "    model.add(layers.Conv3D(64, (3, 3, 3), activation='relu', padding='same', input_shape=input_shape))\n",
    "    #model.add(layers.BatchNormalization())  # Adding BatchNormalization after Conv3D\n",
    "    model.add(layers.MaxPooling3D((2, 2, 2)))\n",
    "\n",
    "    model.add(layers.Conv3D(128, (3, 3, 3), activation='relu', padding='same'))\n",
    "    #model.add(layers.BatchNormalization())  # Adding BatchNormalization after Conv3D\n",
    "    model.add(layers.MaxPooling3D((2, 2, 2)))\n",
    "\n",
    "    model.add(layers.Conv3D(256, (3, 3, 3), activation='relu', padding='same'))\n",
    "    #model.add(layers.BatchNormalization())  # Adding BatchNormalization after Conv3D\n",
    "    model.add(layers.MaxPooling3D((2, 2, 2)))\n",
    "\n",
    "    model.add(layers.Conv3D(512, (3, 3, 3), activation='relu', padding='same'))\n",
    "    #model.add(layers.BatchNormalization())  # Adding BatchNormalization after Conv3D\n",
    "    model.add(layers.MaxPooling3D((2, 2, 2)))\n",
    "\n",
    "    # Flattening layer\n",
    "    model.add(layers.Flatten())\n",
    "\n",
    "    # Fully connected layers with regularization\n",
    "    model.add(layers.Dense(1024, activation='relu', kernel_regularizer=regularizers.l2(l2_lambda)))\n",
    "    model.add(layers.Dropout(dropout_rate))\n",
    "    model.add(layers.Dense(512, activation='relu', kernel_regularizer=regularizers.l2(l2_lambda)))\n",
    "    model.add(layers.Dropout(dropout_rate))\n",
    "\n",
    "    # Output layer for multi-class classification\n",
    "    model.add(layers.Dense(num_classes, activation='softmax'))\n",
    "\n",
    "    # Compile the model with Adam optimizer\n",
    "    model.compile(optimizer=Adam(learning_rate=learning_rate), loss='categorical_crossentropy', metrics=['accuracy'])\n",
    "\n",
    "    return model\n",
    "\n"
   ]
  },
  {
   "cell_type": "code",
   "execution_count": 17,
   "metadata": {
    "executionInfo": {
     "elapsed": 288,
     "status": "ok",
     "timestamp": 1733547029007,
     "user": {
      "displayName": "Aaron Ramirez",
      "userId": "09089953805173967437"
     },
     "user_tz": -540
    },
    "id": "IXziITL0WKQl"
   },
   "outputs": [],
   "source": [
    "def data_generator(X_data, y_data, batch_size=4):\n",
    "    size = len(X_data)\n",
    "    while True:  # Loop forever so the generator never stops\n",
    "        for i in range(0, size, batch_size):\n",
    "            batch_x = X_data[i:i + batch_size]\n",
    "            batch_y = y_data[i:i + batch_size]\n",
    "            yield batch_x, batch_y\n",
    "\n",
    "# Initialize the generator\n",
    "train_gen = data_generator(X_train, y_train, batch_size=4)\n",
    "val_gen = data_generator(X_val, y_val, batch_size=4)"
   ]
  },
  {
   "cell_type": "code",
   "execution_count": 18,
   "metadata": {
    "colab": {
     "base_uri": "https://localhost:8080/"
    },
    "executionInfo": {
     "elapsed": 954379,
     "status": "ok",
     "timestamp": 1733547984667,
     "user": {
      "displayName": "Aaron Ramirez",
      "userId": "09089953805173967437"
     },
     "user_tz": -540
    },
    "id": "862A7FrFWOZ5",
    "outputId": "ca0942f5-12e5-4042-c657-7c2016837e0c"
   },
   "outputs": [
    {
     "name": "stdout",
     "output_type": "stream",
     "text": [
      "Epoch 1/50\n",
      "\u001b[1m112/112\u001b[0m \u001b[32m━━━━━━━━━━━━━━━━━━━━\u001b[0m\u001b[37m\u001b[0m \u001b[1m28s\u001b[0m 196ms/step - accuracy: 0.0058 - loss: 15.7836 - val_accuracy: 0.0000e+00 - val_loss: 6.8447\n",
      "Epoch 2/50\n",
      "\u001b[1m112/112\u001b[0m \u001b[32m━━━━━━━━━━━━━━━━━━━━\u001b[0m\u001b[37m\u001b[0m \u001b[1m19s\u001b[0m 174ms/step - accuracy: 0.0121 - loss: 6.5327 - val_accuracy: 0.0179 - val_loss: 5.8439\n",
      "Epoch 3/50\n",
      "\u001b[1m112/112\u001b[0m \u001b[32m━━━━━━━━━━━━━━━━━━━━\u001b[0m\u001b[37m\u001b[0m \u001b[1m19s\u001b[0m 171ms/step - accuracy: 0.0162 - loss: 5.6980 - val_accuracy: 0.0000e+00 - val_loss: 5.3914\n",
      "Epoch 4/50\n",
      "\u001b[1m112/112\u001b[0m \u001b[32m━━━━━━━━━━━━━━━━━━━━\u001b[0m\u001b[37m\u001b[0m \u001b[1m19s\u001b[0m 173ms/step - accuracy: 0.0058 - loss: 5.3156 - val_accuracy: 0.0179 - val_loss: 5.1391\n",
      "Epoch 5/50\n",
      "\u001b[1m112/112\u001b[0m \u001b[32m━━━━━━━━━━━━━━━━━━━━\u001b[0m\u001b[37m\u001b[0m \u001b[1m19s\u001b[0m 172ms/step - accuracy: 0.0041 - loss: 5.0765 - val_accuracy: 0.0000e+00 - val_loss: 4.9842\n",
      "Epoch 6/50\n",
      "\u001b[1m112/112\u001b[0m \u001b[32m━━━━━━━━━━━━━━━━━━━━\u001b[0m\u001b[37m\u001b[0m \u001b[1m19s\u001b[0m 173ms/step - accuracy: 0.0184 - loss: 4.9419 - val_accuracy: 0.0179 - val_loss: 4.8830\n",
      "Epoch 7/50\n",
      "\u001b[1m112/112\u001b[0m \u001b[32m━━━━━━━━━━━━━━━━━━━━\u001b[0m\u001b[37m\u001b[0m \u001b[1m19s\u001b[0m 172ms/step - accuracy: 0.0065 - loss: 4.8419 - val_accuracy: 0.0000e+00 - val_loss: 4.8255\n",
      "Epoch 8/50\n",
      "\u001b[1m112/112\u001b[0m \u001b[32m━━━━━━━━━━━━━━━━━━━━\u001b[0m\u001b[37m\u001b[0m \u001b[1m19s\u001b[0m 172ms/step - accuracy: 0.0228 - loss: 4.7888 - val_accuracy: 0.0179 - val_loss: 4.7777\n",
      "Epoch 9/50\n",
      "\u001b[1m112/112\u001b[0m \u001b[32m━━━━━━━━━━━━━━━━━━━━\u001b[0m\u001b[37m\u001b[0m \u001b[1m19s\u001b[0m 172ms/step - accuracy: 0.0121 - loss: 4.7444 - val_accuracy: 0.0000e+00 - val_loss: 4.7584\n",
      "Epoch 10/50\n",
      "\u001b[1m112/112\u001b[0m \u001b[32m━━━━━━━━━━━━━━━━━━━━\u001b[0m\u001b[37m\u001b[0m \u001b[1m19s\u001b[0m 172ms/step - accuracy: 0.0162 - loss: 4.7179 - val_accuracy: 0.0179 - val_loss: 4.7290\n",
      "Epoch 11/50\n",
      "\u001b[1m112/112\u001b[0m \u001b[32m━━━━━━━━━━━━━━━━━━━━\u001b[0m\u001b[37m\u001b[0m \u001b[1m18s\u001b[0m 164ms/step - accuracy: 0.0090 - loss: 4.6933 - val_accuracy: 0.0000e+00 - val_loss: 4.7337\n",
      "Epoch 12/50\n",
      "\u001b[1m112/112\u001b[0m \u001b[32m━━━━━━━━━━━━━━━━━━━━\u001b[0m\u001b[37m\u001b[0m \u001b[1m19s\u001b[0m 172ms/step - accuracy: 0.0066 - loss: 4.6858 - val_accuracy: 0.0179 - val_loss: 4.7118\n",
      "Epoch 13/50\n",
      "\u001b[1m112/112\u001b[0m \u001b[32m━━━━━━━━━━━━━━━━━━━━\u001b[0m\u001b[37m\u001b[0m \u001b[1m18s\u001b[0m 163ms/step - accuracy: 0.0161 - loss: 4.6689 - val_accuracy: 0.0000e+00 - val_loss: 4.7240\n",
      "Epoch 14/50\n",
      "\u001b[1m112/112\u001b[0m \u001b[32m━━━━━━━━━━━━━━━━━━━━\u001b[0m\u001b[37m\u001b[0m \u001b[1m19s\u001b[0m 171ms/step - accuracy: 0.0222 - loss: 4.6678 - val_accuracy: 0.0179 - val_loss: 4.7004\n",
      "Epoch 15/50\n",
      "\u001b[1m112/112\u001b[0m \u001b[32m━━━━━━━━━━━━━━━━━━━━\u001b[0m\u001b[37m\u001b[0m \u001b[1m18s\u001b[0m 163ms/step - accuracy: 0.0057 - loss: 4.6576 - val_accuracy: 0.0000e+00 - val_loss: 4.7180\n",
      "Epoch 16/50\n",
      "\u001b[1m112/112\u001b[0m \u001b[32m━━━━━━━━━━━━━━━━━━━━\u001b[0m\u001b[37m\u001b[0m \u001b[1m19s\u001b[0m 173ms/step - accuracy: 0.0230 - loss: 4.6583 - val_accuracy: 0.0179 - val_loss: 4.6948\n",
      "Epoch 17/50\n",
      "\u001b[1m112/112\u001b[0m \u001b[32m━━━━━━━━━━━━━━━━━━━━\u001b[0m\u001b[37m\u001b[0m \u001b[1m18s\u001b[0m 163ms/step - accuracy: 0.0093 - loss: 4.6500 - val_accuracy: 0.0000e+00 - val_loss: 4.7179\n",
      "Epoch 18/50\n",
      "\u001b[1m112/112\u001b[0m \u001b[32m━━━━━━━━━━━━━━━━━━━━\u001b[0m\u001b[37m\u001b[0m \u001b[1m19s\u001b[0m 172ms/step - accuracy: 0.0174 - loss: 4.6520 - val_accuracy: 0.0179 - val_loss: 4.6924\n",
      "Epoch 19/50\n",
      "\u001b[1m112/112\u001b[0m \u001b[32m━━━━━━━━━━━━━━━━━━━━\u001b[0m\u001b[37m\u001b[0m \u001b[1m18s\u001b[0m 163ms/step - accuracy: 0.0137 - loss: 4.6458 - val_accuracy: 0.0000e+00 - val_loss: 4.7148\n",
      "Epoch 20/50\n",
      "\u001b[1m112/112\u001b[0m \u001b[32m━━━━━━━━━━━━━━━━━━━━\u001b[0m\u001b[37m\u001b[0m \u001b[1m19s\u001b[0m 170ms/step - accuracy: 0.0238 - loss: 4.6471 - val_accuracy: 0.0179 - val_loss: 4.6881\n",
      "Epoch 21/50\n",
      "\u001b[1m112/112\u001b[0m \u001b[32m━━━━━━━━━━━━━━━━━━━━\u001b[0m\u001b[37m\u001b[0m \u001b[1m18s\u001b[0m 163ms/step - accuracy: 0.0112 - loss: 4.6468 - val_accuracy: 0.0000e+00 - val_loss: 4.7109\n",
      "Epoch 22/50\n",
      "\u001b[1m112/112\u001b[0m \u001b[32m━━━━━━━━━━━━━━━━━━━━\u001b[0m\u001b[37m\u001b[0m \u001b[1m19s\u001b[0m 172ms/step - accuracy: 0.0208 - loss: 4.6449 - val_accuracy: 0.0179 - val_loss: 4.6825\n",
      "Epoch 23/50\n",
      "\u001b[1m112/112\u001b[0m \u001b[32m━━━━━━━━━━━━━━━━━━━━\u001b[0m\u001b[37m\u001b[0m \u001b[1m18s\u001b[0m 164ms/step - accuracy: 0.0081 - loss: 4.6420 - val_accuracy: 0.0000e+00 - val_loss: 4.7120\n",
      "Epoch 24/50\n",
      "\u001b[1m112/112\u001b[0m \u001b[32m━━━━━━━━━━━━━━━━━━━━\u001b[0m\u001b[37m\u001b[0m \u001b[1m19s\u001b[0m 172ms/step - accuracy: 0.0399 - loss: 4.6394 - val_accuracy: 0.0179 - val_loss: 4.6821\n",
      "Epoch 25/50\n",
      "\u001b[1m112/112\u001b[0m \u001b[32m━━━━━━━━━━━━━━━━━━━━\u001b[0m\u001b[37m\u001b[0m \u001b[1m18s\u001b[0m 163ms/step - accuracy: 0.0106 - loss: 4.6396 - val_accuracy: 0.0000e+00 - val_loss: 4.7124\n",
      "Epoch 26/50\n",
      "\u001b[1m112/112\u001b[0m \u001b[32m━━━━━━━━━━━━━━━━━━━━\u001b[0m\u001b[37m\u001b[0m \u001b[1m19s\u001b[0m 172ms/step - accuracy: 0.0261 - loss: 4.6363 - val_accuracy: 0.0179 - val_loss: 4.6799\n",
      "Epoch 27/50\n",
      "\u001b[1m112/112\u001b[0m \u001b[32m━━━━━━━━━━━━━━━━━━━━\u001b[0m\u001b[37m\u001b[0m \u001b[1m18s\u001b[0m 163ms/step - accuracy: 0.0112 - loss: 4.6383 - val_accuracy: 0.0000e+00 - val_loss: 4.7131\n",
      "Epoch 28/50\n",
      "\u001b[1m112/112\u001b[0m \u001b[32m━━━━━━━━━━━━━━━━━━━━\u001b[0m\u001b[37m\u001b[0m \u001b[1m19s\u001b[0m 172ms/step - accuracy: 0.0195 - loss: 4.6337 - val_accuracy: 0.0179 - val_loss: 4.6772\n",
      "Epoch 29/50\n",
      "\u001b[1m112/112\u001b[0m \u001b[32m━━━━━━━━━━━━━━━━━━━━\u001b[0m\u001b[37m\u001b[0m \u001b[1m18s\u001b[0m 163ms/step - accuracy: 0.0103 - loss: 4.6351 - val_accuracy: 0.0000e+00 - val_loss: 4.7115\n",
      "Epoch 30/50\n",
      "\u001b[1m112/112\u001b[0m \u001b[32m━━━━━━━━━━━━━━━━━━━━\u001b[0m\u001b[37m\u001b[0m \u001b[1m19s\u001b[0m 171ms/step - accuracy: 0.0254 - loss: 4.6308 - val_accuracy: 0.0179 - val_loss: 4.6748\n",
      "Epoch 31/50\n",
      "\u001b[1m112/112\u001b[0m \u001b[32m━━━━━━━━━━━━━━━━━━━━\u001b[0m\u001b[37m\u001b[0m \u001b[1m18s\u001b[0m 164ms/step - accuracy: 0.0107 - loss: 4.6345 - val_accuracy: 0.0000e+00 - val_loss: 4.7098\n",
      "Epoch 32/50\n",
      "\u001b[1m112/112\u001b[0m \u001b[32m━━━━━━━━━━━━━━━━━━━━\u001b[0m\u001b[37m\u001b[0m \u001b[1m19s\u001b[0m 171ms/step - accuracy: 0.0206 - loss: 4.6259 - val_accuracy: 0.0179 - val_loss: 4.6726\n",
      "Epoch 33/50\n",
      "\u001b[1m112/112\u001b[0m \u001b[32m━━━━━━━━━━━━━━━━━━━━\u001b[0m\u001b[37m\u001b[0m \u001b[1m18s\u001b[0m 163ms/step - accuracy: 0.0103 - loss: 4.6274 - val_accuracy: 0.0000e+00 - val_loss: 4.7081\n",
      "Epoch 34/50\n",
      "\u001b[1m112/112\u001b[0m \u001b[32m━━━━━━━━━━━━━━━━━━━━\u001b[0m\u001b[37m\u001b[0m \u001b[1m19s\u001b[0m 172ms/step - accuracy: 0.0217 - loss: 4.6268 - val_accuracy: 0.0179 - val_loss: 4.6707\n",
      "Epoch 35/50\n",
      "\u001b[1m112/112\u001b[0m \u001b[32m━━━━━━━━━━━━━━━━━━━━\u001b[0m\u001b[37m\u001b[0m \u001b[1m18s\u001b[0m 163ms/step - accuracy: 0.0137 - loss: 4.6289 - val_accuracy: 0.0000e+00 - val_loss: 4.7059\n",
      "Epoch 36/50\n",
      "\u001b[1m112/112\u001b[0m \u001b[32m━━━━━━━━━━━━━━━━━━━━\u001b[0m\u001b[37m\u001b[0m \u001b[1m19s\u001b[0m 173ms/step - accuracy: 0.0290 - loss: 4.6240 - val_accuracy: 0.0179 - val_loss: 4.6670\n",
      "Epoch 37/50\n",
      "\u001b[1m112/112\u001b[0m \u001b[32m━━━━━━━━━━━━━━━━━━━━\u001b[0m\u001b[37m\u001b[0m \u001b[1m18s\u001b[0m 165ms/step - accuracy: 0.0162 - loss: 4.6297 - val_accuracy: 0.0000e+00 - val_loss: 4.7016\n",
      "Epoch 38/50\n",
      "\u001b[1m112/112\u001b[0m \u001b[32m━━━━━━━━━━━━━━━━━━━━\u001b[0m\u001b[37m\u001b[0m \u001b[1m19s\u001b[0m 172ms/step - accuracy: 0.0237 - loss: 4.6230 - val_accuracy: 0.0179 - val_loss: 4.6635\n",
      "Epoch 39/50\n",
      "\u001b[1m112/112\u001b[0m \u001b[32m━━━━━━━━━━━━━━━━━━━━\u001b[0m\u001b[37m\u001b[0m \u001b[1m18s\u001b[0m 163ms/step - accuracy: 0.0110 - loss: 4.6249 - val_accuracy: 0.0000e+00 - val_loss: 4.6998\n",
      "Epoch 40/50\n",
      "\u001b[1m112/112\u001b[0m \u001b[32m━━━━━━━━━━━━━━━━━━━━\u001b[0m\u001b[37m\u001b[0m \u001b[1m19s\u001b[0m 172ms/step - accuracy: 0.0248 - loss: 4.6219 - val_accuracy: 0.0179 - val_loss: 4.6613\n",
      "Epoch 41/50\n",
      "\u001b[1m112/112\u001b[0m \u001b[32m━━━━━━━━━━━━━━━━━━━━\u001b[0m\u001b[37m\u001b[0m \u001b[1m18s\u001b[0m 162ms/step - accuracy: 0.0091 - loss: 4.6181 - val_accuracy: 0.0000e+00 - val_loss: 4.6976\n",
      "Epoch 42/50\n",
      "\u001b[1m112/112\u001b[0m \u001b[32m━━━━━━━━━━━━━━━━━━━━\u001b[0m\u001b[37m\u001b[0m \u001b[1m19s\u001b[0m 172ms/step - accuracy: 0.0251 - loss: 4.6178 - val_accuracy: 0.0179 - val_loss: 4.6596\n",
      "Epoch 43/50\n",
      "\u001b[1m112/112\u001b[0m \u001b[32m━━━━━━━━━━━━━━━━━━━━\u001b[0m\u001b[37m\u001b[0m \u001b[1m18s\u001b[0m 163ms/step - accuracy: 0.0064 - loss: 4.6214 - val_accuracy: 0.0000e+00 - val_loss: 4.6951\n",
      "Epoch 44/50\n",
      "\u001b[1m112/112\u001b[0m \u001b[32m━━━━━━━━━━━━━━━━━━━━\u001b[0m\u001b[37m\u001b[0m \u001b[1m19s\u001b[0m 171ms/step - accuracy: 0.0251 - loss: 4.6117 - val_accuracy: 0.0179 - val_loss: 4.6582\n",
      "Epoch 45/50\n",
      "\u001b[1m112/112\u001b[0m \u001b[32m━━━━━━━━━━━━━━━━━━━━\u001b[0m\u001b[37m\u001b[0m \u001b[1m18s\u001b[0m 164ms/step - accuracy: 0.0046 - loss: 4.6128 - val_accuracy: 0.0000e+00 - val_loss: 4.6953\n",
      "Epoch 46/50\n",
      "\u001b[1m112/112\u001b[0m \u001b[32m━━━━━━━━━━━━━━━━━━━━\u001b[0m\u001b[37m\u001b[0m \u001b[1m19s\u001b[0m 172ms/step - accuracy: 0.0213 - loss: 4.6108 - val_accuracy: 0.0179 - val_loss: 4.6573\n",
      "Epoch 47/50\n",
      "\u001b[1m112/112\u001b[0m \u001b[32m━━━━━━━━━━━━━━━━━━━━\u001b[0m\u001b[37m\u001b[0m \u001b[1m18s\u001b[0m 164ms/step - accuracy: 0.0089 - loss: 4.6166 - val_accuracy: 0.0000e+00 - val_loss: 4.6913\n",
      "Epoch 48/50\n",
      "\u001b[1m112/112\u001b[0m \u001b[32m━━━━━━━━━━━━━━━━━━━━\u001b[0m\u001b[37m\u001b[0m \u001b[1m19s\u001b[0m 171ms/step - accuracy: 0.0280 - loss: 4.6067 - val_accuracy: 0.0179 - val_loss: 4.6541\n",
      "Epoch 49/50\n",
      "\u001b[1m112/112\u001b[0m \u001b[32m━━━━━━━━━━━━━━━━━━━━\u001b[0m\u001b[37m\u001b[0m \u001b[1m18s\u001b[0m 164ms/step - accuracy: 0.0116 - loss: 4.6099 - val_accuracy: 0.0000e+00 - val_loss: 4.6896\n",
      "Epoch 50/50\n",
      "\u001b[1m112/112\u001b[0m \u001b[32m━━━━━━━━━━━━━━━━━━━━\u001b[0m\u001b[37m\u001b[0m \u001b[1m19s\u001b[0m 172ms/step - accuracy: 0.0223 - loss: 4.6081 - val_accuracy: 0.0179 - val_loss: 4.6508\n",
      "Restoring model weights from the end of the best epoch: 50.\n"
     ]
    }
   ],
   "source": [
    "# Define input shape and number of classes\n",
    "input_shape = (X_train.shape[1], X_train.shape[2], X_train.shape[3], X_train.shape[4])  # (num_frames, height, width, channels)\n",
    "num_classes = len(top_100_classes)\n",
    "\n",
    "# Build the model\n",
    "model = build_i3d_model(input_shape, num_classes)\n",
    "\n",
    "# Early stopping to prevent overfitting\n",
    "early_stopping = EarlyStopping(monitor='val_loss', patience=5, restore_best_weights=True, verbose=1)\n",
    "\n",
    "# Use the generators for model training\n",
    "history = model.fit(\n",
    "    train_gen,\n",
    "    epochs=50,\n",
    "    validation_data=val_gen,\n",
    "    steps_per_epoch=len(X_train) // 8,\n",
    "    validation_steps=len(X_val) // 8,\n",
    "    callbacks=[early_stopping]\n",
    ")\n",
    "\n",
    "# Print final validation accuracy and loss after training\n",
    "final_val_accuracy = history.history['val_accuracy'][-1]\n",
    "final_val_loss = history.history['val_loss'][-1]"
   ]
  },
  {
   "cell_type": "code",
   "execution_count": 21,
   "metadata": {
    "colab": {
     "base_uri": "https://localhost:8080/"
    },
    "executionInfo": {
     "elapsed": 63572,
     "status": "ok",
     "timestamp": 1733548216034,
     "user": {
      "displayName": "Aaron Ramirez",
      "userId": "09089953805173967437"
     },
     "user_tz": -540
    },
    "id": "pSSaLELSoxEX",
    "outputId": "0cb20a0d-a014-4cd9-fab1-44f98749b4da"
   },
   "outputs": [
    {
     "name": "stdout",
     "output_type": "stream",
     "text": [
      "Final validation accuracy: 0.01785714365541935\n",
      "Final validation loss: 4.650790214538574\n",
      "Model saved to /content/drive/MyDrive/Colab Notebooks/AAI-521/Final Project/Models/i3d_model_trained.keras\n"
     ]
    }
   ],
   "source": [
    "# Print validation loss and accuracy after training\n",
    "print(f\"Final validation accuracy: {history.history['val_accuracy'][-1]}\")\n",
    "print(f\"Final validation loss: {history.history['val_loss'][-1]}\")\n",
    "\n",
    "# Save the model after training as a Keras model\n",
    "model_save_path = '/content/drive/MyDrive/Colab Notebooks/AAI-521/Final Project/Models/i3d_model_trained.keras'\n",
    "model.save(model_save_path)\n",
    "\n",
    "print(f\"Model saved to {model_save_path}\")"
   ]
  }
 ],
 "metadata": {
  "accelerator": "GPU",
  "colab": {
   "authorship_tag": "ABX9TyOTW3LnpV7Kub5A6IScRL6a",
   "gpuType": "A100",
   "machine_shape": "hm",
   "provenance": []
  },
  "kernelspec": {
   "display_name": "Python 3",
   "name": "python3"
  },
  "language_info": {
   "name": "python"
  }
 },
 "nbformat": 4,
 "nbformat_minor": 0
}

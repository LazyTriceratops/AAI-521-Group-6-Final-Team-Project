{
 "cells": [
  {
   "cell_type": "markdown",
   "metadata": {
    "id": "c_QK-NdajSa1"
   },
   "source": [
    "Preprocessing"
   ]
  },
  {
   "cell_type": "code",
   "execution_count": 1,
   "metadata": {
    "colab": {
     "base_uri": "https://localhost:8080/"
    },
    "executionInfo": {
     "elapsed": 11874,
     "status": "ok",
     "timestamp": 1733455678401,
     "user": {
      "displayName": "Aaron Ramirez",
      "userId": "09089953805173967437"
     },
     "user_tz": -540
    },
    "id": "DLK0M8zVkL_s",
    "outputId": "692ba02d-5a86-472f-e100-aa0ee51ed1c5"
   },
   "outputs": [
    {
     "name": "stdout",
     "output_type": "stream",
     "text": [
      "Collecting mediapipe\n",
      "  Downloading mediapipe-0.10.18-cp310-cp310-manylinux_2_17_x86_64.manylinux2014_x86_64.whl.metadata (9.7 kB)\n",
      "Requirement already satisfied: absl-py in /usr/local/lib/python3.10/dist-packages (from mediapipe) (1.4.0)\n",
      "Requirement already satisfied: attrs>=19.1.0 in /usr/local/lib/python3.10/dist-packages (from mediapipe) (24.2.0)\n",
      "Requirement already satisfied: flatbuffers>=2.0 in /usr/local/lib/python3.10/dist-packages (from mediapipe) (24.3.25)\n",
      "Requirement already satisfied: jax in /usr/local/lib/python3.10/dist-packages (from mediapipe) (0.4.33)\n",
      "Requirement already satisfied: jaxlib in /usr/local/lib/python3.10/dist-packages (from mediapipe) (0.4.33)\n",
      "Requirement already satisfied: matplotlib in /usr/local/lib/python3.10/dist-packages (from mediapipe) (3.8.0)\n",
      "Requirement already satisfied: numpy<2 in /usr/local/lib/python3.10/dist-packages (from mediapipe) (1.26.4)\n",
      "Collecting opencv-contrib-python (from mediapipe)\n",
      "  Downloading opencv_contrib_python-4.10.0.84-cp37-abi3-manylinux_2_17_x86_64.manylinux2014_x86_64.whl.metadata (20 kB)\n",
      "Requirement already satisfied: protobuf<5,>=4.25.3 in /usr/local/lib/python3.10/dist-packages (from mediapipe) (4.25.5)\n",
      "Collecting sounddevice>=0.4.4 (from mediapipe)\n",
      "  Downloading sounddevice-0.5.1-py3-none-any.whl.metadata (1.4 kB)\n",
      "Requirement already satisfied: sentencepiece in /usr/local/lib/python3.10/dist-packages (from mediapipe) (0.2.0)\n",
      "Requirement already satisfied: CFFI>=1.0 in /usr/local/lib/python3.10/dist-packages (from sounddevice>=0.4.4->mediapipe) (1.17.1)\n",
      "Requirement already satisfied: ml-dtypes>=0.2.0 in /usr/local/lib/python3.10/dist-packages (from jax->mediapipe) (0.2.0)\n",
      "Requirement already satisfied: opt-einsum in /usr/local/lib/python3.10/dist-packages (from jax->mediapipe) (3.4.0)\n",
      "Requirement already satisfied: scipy>=1.10 in /usr/local/lib/python3.10/dist-packages (from jax->mediapipe) (1.13.1)\n",
      "Requirement already satisfied: contourpy>=1.0.1 in /usr/local/lib/python3.10/dist-packages (from matplotlib->mediapipe) (1.3.1)\n",
      "Requirement already satisfied: cycler>=0.10 in /usr/local/lib/python3.10/dist-packages (from matplotlib->mediapipe) (0.12.1)\n",
      "Requirement already satisfied: fonttools>=4.22.0 in /usr/local/lib/python3.10/dist-packages (from matplotlib->mediapipe) (4.55.0)\n",
      "Requirement already satisfied: kiwisolver>=1.0.1 in /usr/local/lib/python3.10/dist-packages (from matplotlib->mediapipe) (1.4.7)\n",
      "Requirement already satisfied: packaging>=20.0 in /usr/local/lib/python3.10/dist-packages (from matplotlib->mediapipe) (24.2)\n",
      "Requirement already satisfied: pillow>=6.2.0 in /usr/local/lib/python3.10/dist-packages (from matplotlib->mediapipe) (11.0.0)\n",
      "Requirement already satisfied: pyparsing>=2.3.1 in /usr/local/lib/python3.10/dist-packages (from matplotlib->mediapipe) (3.2.0)\n",
      "Requirement already satisfied: python-dateutil>=2.7 in /usr/local/lib/python3.10/dist-packages (from matplotlib->mediapipe) (2.9.0.post0)\n",
      "Requirement already satisfied: pycparser in /usr/local/lib/python3.10/dist-packages (from CFFI>=1.0->sounddevice>=0.4.4->mediapipe) (2.22)\n",
      "Requirement already satisfied: six>=1.5 in /usr/local/lib/python3.10/dist-packages (from python-dateutil>=2.7->matplotlib->mediapipe) (1.16.0)\n",
      "Downloading mediapipe-0.10.18-cp310-cp310-manylinux_2_17_x86_64.manylinux2014_x86_64.whl (36.1 MB)\n",
      "\u001b[2K   \u001b[90m━━━━━━━━━━━━━━━━━━━━━━━━━━━━━━━━━━━━━━━━\u001b[0m \u001b[32m36.1/36.1 MB\u001b[0m \u001b[31m35.4 MB/s\u001b[0m eta \u001b[36m0:00:00\u001b[0m\n",
      "\u001b[?25hDownloading sounddevice-0.5.1-py3-none-any.whl (32 kB)\n",
      "Downloading opencv_contrib_python-4.10.0.84-cp37-abi3-manylinux_2_17_x86_64.manylinux2014_x86_64.whl (68.7 MB)\n",
      "\u001b[2K   \u001b[90m━━━━━━━━━━━━━━━━━━━━━━━━━━━━━━━━━━━━━━━━\u001b[0m \u001b[32m68.7/68.7 MB\u001b[0m \u001b[31m12.1 MB/s\u001b[0m eta \u001b[36m0:00:00\u001b[0m\n",
      "\u001b[?25hInstalling collected packages: opencv-contrib-python, sounddevice, mediapipe\n",
      "Successfully installed mediapipe-0.10.18 opencv-contrib-python-4.10.0.84 sounddevice-0.5.1\n"
     ]
    }
   ],
   "source": [
    "!pip install mediapipe"
   ]
  },
  {
   "cell_type": "code",
   "execution_count": null,
   "metadata": {
    "executionInfo": {
     "elapsed": 232,
     "status": "ok",
     "timestamp": 1733455777080,
     "user": {
      "displayName": "Aaron Ramirez",
      "userId": "09089953805173967437"
     },
     "user_tz": -540
    },
    "id": "5bL2sKR0kGXs"
   },
   "outputs": [],
   "source": [
    "import cv2\n",
    "import mediapipe as mp\n",
    "import os\n",
    "import numpy as np\n",
    "import json\n",
    "import pandas as pd\n",
    "from concurrent.futures import ThreadPoolExecutor\n",
    "from tqdm import tqdm\n"
   ]
  },
  {
   "cell_type": "code",
   "execution_count": 3,
   "metadata": {
    "colab": {
     "base_uri": "https://localhost:8080/"
    },
    "executionInfo": {
     "elapsed": 16058,
     "status": "ok",
     "timestamp": 1733455703874,
     "user": {
      "displayName": "Aaron Ramirez",
      "userId": "09089953805173967437"
     },
     "user_tz": -540
    },
    "id": "MdtZ4S-2jRp1",
    "outputId": "210750ae-dbc8-4138-84e3-bb952e97361f"
   },
   "outputs": [
    {
     "name": "stdout",
     "output_type": "stream",
     "text": [
      "Mounted at /content/drive\n"
     ]
    }
   ],
   "source": [
    "from google.colab import drive\n",
    "drive.mount('/content/drive')"
   ]
  },
  {
   "cell_type": "code",
   "execution_count": 4,
   "metadata": {
    "executionInfo": {
     "elapsed": 378,
     "status": "ok",
     "timestamp": 1733455705580,
     "user": {
      "displayName": "Aaron Ramirez",
      "userId": "09089953805173967437"
     },
     "user_tz": -540
    },
    "id": "-38jbvIQkZKE"
   },
   "outputs": [],
   "source": [
    "# Mediapipe model and utilities\n",
    "mp_holistic = mp.solutions.holistic\n",
    "mp_drawing = mp.solutions.drawing_utils\n",
    "mp_drawing_styles = mp.solutions.drawing_styles"
   ]
  },
  {
   "cell_type": "code",
   "execution_count": 5,
   "metadata": {
    "executionInfo": {
     "elapsed": 345,
     "status": "ok",
     "timestamp": 1733455758369,
     "user": {
      "displayName": "Aaron Ramirez",
      "userId": "09089953805173967437"
     },
     "user_tz": -540
    },
    "id": "66tSay3BkcL4"
   },
   "outputs": [],
   "source": [
    "# Function to detect and extract landmarks using Mediapipe\n",
    "def mediapipe_detection(image, model):\n",
    "    # Convert the image to RGB for Mediapipe processing\n",
    "    image = cv2.cvtColor(image, cv2.COLOR_BGR2RGB)\n",
    "    image.flags.writeable = False  # Disable writing to the image for performance\n",
    "    results = model.process(image)  # Process the image with Mediapipe\n",
    "    image.flags.writeable = True  # Enable writing back to the image\n",
    "    image = cv2.cvtColor(image, cv2.COLOR_RGB2BGR)  # Convert back to BGR for OpenCV\n",
    "    return image, results\n",
    "\n",
    "# Function to extract pose keypoints from Mediapipe results\n",
    "def extract_keypoints(results):\n",
    "    # Extract pose landmarks (33 landmarks: x, y, z, visibility)\n",
    "    if results.pose_landmarks:\n",
    "        pose = np.array([[res.x, res.y, res.z, res.visibility]\n",
    "                         for res in results.pose_landmarks.landmark]).flatten()\n",
    "    else:\n",
    "        # If no landmarks are detected, return a zero array\n",
    "        pose = np.zeros(33 * 4)\n",
    "\n",
    "    return pose\n"
   ]
  },
  {
   "cell_type": "code",
   "execution_count": 10,
   "metadata": {
    "executionInfo": {
     "elapsed": 222,
     "status": "ok",
     "timestamp": 1733455870384,
     "user": {
      "displayName": "Aaron Ramirez",
      "userId": "09089953805173967437"
     },
     "user_tz": -540
    },
    "id": "FdivDWGhlCmE"
   },
   "outputs": [],
   "source": [
    "# Load metadata from JSON\n",
    "metadata_path = '/content/drive/MyDrive/Colab Notebooks/AAI-521/Final Project/DataSet/WLASL_v0.3.json'\n",
    "with open(metadata_path, 'r') as file:\n",
    "    metadata = json.load(file)\n",
    "\n",
    "# Load top 100 labels from CSV\n",
    "top_100_csv = '/content/drive/MyDrive/Colab Notebooks/AAI-521/Final Project/DataSet/gloss_counts_top_100.csv'\n",
    "top_100_labels = pd.read_csv(top_100_csv)['Gloss'].tolist()  # Assuming the column is named 'label'\n",
    "\n",
    "# Create labelMap for only top 100 labels\n",
    "labelMap = {}\n",
    "for entry in metadata:\n",
    "    label = entry['gloss']\n",
    "    if label in top_100_labels:  # Include only top 100 labels\n",
    "        for instance in entry['instances']:\n",
    "            video_id = int(instance['video_id'])\n",
    "            frame_start = instance['frame_start']\n",
    "            frame_end = instance['frame_end']\n",
    "            fps = instance['fps']\n",
    "            labelMap[video_id] = [label, frame_start, frame_end, fps]"
   ]
  },
  {
   "cell_type": "code",
   "execution_count": 11,
   "metadata": {
    "colab": {
     "base_uri": "https://localhost:8080/"
    },
    "executionInfo": {
     "elapsed": 347,
     "status": "ok",
     "timestamp": 1733455887501,
     "user": {
      "displayName": "Aaron Ramirez",
      "userId": "09089953805173967437"
     },
     "user_tz": -540
    },
    "id": "Rd0FvbS9lKms",
    "outputId": "6cc2fad1-f048-488f-9aec-1b7fa33e7444"
   },
   "outputs": [
    {
     "name": "stdout",
     "output_type": "stream",
     "text": [
      "Found 1120 videos associated with the top 100 labels.\n"
     ]
    }
   ],
   "source": [
    "# Create directory for saving processed data\n",
    "DATA_PATH = '/content/drive/MyDrive/Colab Notebooks/AAI-521/Final Project/Models/MediaPipe_Pose_only100'\n",
    "os.makedirs(DATA_PATH, exist_ok=True)  # Avoid error if directory already exists\n",
    "\n",
    "# Iterate through videos in the dataset folder, filtering for top 100 labels\n",
    "video_path = '/content/drive/MyDrive/Colab Notebooks/AAI-521/Final Project/DataSet/videos'\n",
    "video_files = [\n",
    "    video for video in os.listdir(video_path)\n",
    "    if video.endswith('.mp4') and int(os.path.splitext(video)[0]) in labelMap\n",
    "]\n",
    "\n",
    "print(f\"Found {len(video_files)} videos associated with the top 100 labels.\")"
   ]
  },
  {
   "cell_type": "code",
   "execution_count": null,
   "metadata": {
    "colab": {
     "base_uri": "https://localhost:8080/"
    },
    "executionInfo": {
     "elapsed": 1129771,
     "status": "ok",
     "timestamp": 1733457087058,
     "user": {
      "displayName": "Aaron Ramirez",
      "userId": "09089953805173967437"
     },
     "user_tz": -540
    },
    "id": "lR-BY5oylkn4",
    "outputId": "055853ff-b0e6-4e26-ea2c-7b8103a3c775"
   },
   "outputs": [
    {
     "name": "stderr",
     "output_type": "stream",
     "text": [
      "Processing Videos: 100%|██████████| 1120/1120 [18:48<00:00,  1.01s/it]\n"
     ]
    }
   ],
   "source": [
    "# Function to process a single video\n",
    "def process_video(video):\n",
    "    video_id = int(os.path.splitext(video)[0])\n",
    "    if video_id not in labelMap:  # Ensure video is in filtered labelMap\n",
    "        return\n",
    "\n",
    "    label, start_frame, end_frame, fps = labelMap[video_id]\n",
    "\n",
    "    # Open video file\n",
    "    cap = cv2.VideoCapture(os.path.join(video_path, video))\n",
    "    cap.set(cv2.CAP_PROP_FPS, fps)\n",
    "\n",
    "    with mp_holistic.Holistic(min_detection_confidence=0.5, min_tracking_confidence=0.5) as holistic:\n",
    "        keypoints_data = []\n",
    "        frame_count = 0\n",
    "        while cap.isOpened():\n",
    "            success, image = cap.read()\n",
    "            if not success:\n",
    "                break\n",
    "            frame_count += 1\n",
    "\n",
    "            # Skip frames outside the valid range\n",
    "            if frame_count < start_frame or (end_frame != -1 and frame_count > end_frame):\n",
    "                continue\n",
    "\n",
    "            # Process frame and extract keypoints\n",
    "            image, results = mediapipe_detection(image, holistic)\n",
    "            keypoints = extract_keypoints(results)\n",
    "            keypoints_data.append(keypoints)\n",
    "\n",
    "        # Save keypoints for the entire video\n",
    "        action_path = os.path.join(DATA_PATH, label)\n",
    "        video_path_save = os.path.join(action_path, f'{video_id}_keypoints.npy')\n",
    "        np.save(video_path_save, np.array(keypoints_data))\n",
    "\n",
    "    cap.release()\n",
    "\n",
    "\n",
    "# Pre-create all necessary directories for the top 100 labels\n",
    "unique_labels = set(labelMap[video_id][0] for video_id in labelMap)  # Labels for the top 100\n",
    "for label in unique_labels:\n",
    "    action_path = os.path.join(DATA_PATH, label)\n",
    "    os.makedirs(action_path, exist_ok=True)  # Create directories for top 100 labels only\n",
    "\n",
    "# Filter video files to include only those in the top 100 labels\n",
    "video_files = [video for video in os.listdir(video_path) if video.endswith('.mp4') and int(os.path.splitext(video)[0]) in labelMap]\n",
    "\n",
    "# Use ThreadPoolExecutor for parallel processing\n",
    "with ThreadPoolExecutor(max_workers=4) as executor:\n",
    "    list(tqdm(executor.map(process_video, video_files), total=len(video_files), desc=\"Processing Videos\"))\n",
    "\n",
    "\n",
    "\n"
   ]
  }
 ],
 "metadata": {
  "accelerator": "TPU",
  "colab": {
   "authorship_tag": "ABX9TyOedUaB1RaGNo21PwoczvZL",
   "gpuType": "V28",
   "machine_shape": "hm",
   "mount_file_id": "1WwM5v0BySGk7gxh_Fn607ZDHc6FBjeHP",
   "provenance": []
  },
  "kernelspec": {
   "display_name": "Python 3",
   "name": "python3"
  },
  "language_info": {
   "name": "python"
  }
 },
 "nbformat": 4,
 "nbformat_minor": 0
}

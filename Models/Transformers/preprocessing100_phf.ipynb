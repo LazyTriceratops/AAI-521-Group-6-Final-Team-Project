{
 "cells": [
  {
   "cell_type": "markdown",
   "metadata": {
    "id": "c_QK-NdajSa1"
   },
   "source": [
    "Preprocessing"
   ]
  },
  {
   "cell_type": "code",
   "execution_count": 1,
   "metadata": {
    "colab": {
     "base_uri": "https://localhost:8080/"
    },
    "executionInfo": {
     "elapsed": 5536,
     "status": "ok",
     "timestamp": 1733297662129,
     "user": {
      "displayName": "Aaron Ramirez",
      "userId": "09089953805173967437"
     },
     "user_tz": -540
    },
    "id": "DLK0M8zVkL_s",
    "outputId": "ccaf6a9c-06bc-4690-9cce-033ad544a52a"
   },
   "outputs": [
    {
     "name": "stdout",
     "output_type": "stream",
     "text": [
      "Collecting mediapipe\n",
      "  Downloading mediapipe-0.10.18-cp310-cp310-manylinux_2_17_x86_64.manylinux2014_x86_64.whl.metadata (9.7 kB)\n",
      "Requirement already satisfied: absl-py in /usr/local/lib/python3.10/dist-packages (from mediapipe) (1.4.0)\n",
      "Requirement already satisfied: attrs>=19.1.0 in /usr/local/lib/python3.10/dist-packages (from mediapipe) (24.2.0)\n",
      "Requirement already satisfied: flatbuffers>=2.0 in /usr/local/lib/python3.10/dist-packages (from mediapipe) (24.3.25)\n",
      "Requirement already satisfied: jax in /usr/local/lib/python3.10/dist-packages (from mediapipe) (0.4.33)\n",
      "Requirement already satisfied: jaxlib in /usr/local/lib/python3.10/dist-packages (from mediapipe) (0.4.33)\n",
      "Requirement already satisfied: matplotlib in /usr/local/lib/python3.10/dist-packages (from mediapipe) (3.8.0)\n",
      "Requirement already satisfied: numpy<2 in /usr/local/lib/python3.10/dist-packages (from mediapipe) (1.26.4)\n",
      "Requirement already satisfied: opencv-contrib-python in /usr/local/lib/python3.10/dist-packages (from mediapipe) (4.10.0.84)\n",
      "Requirement already satisfied: protobuf<5,>=4.25.3 in /usr/local/lib/python3.10/dist-packages (from mediapipe) (4.25.5)\n",
      "Collecting sounddevice>=0.4.4 (from mediapipe)\n",
      "  Downloading sounddevice-0.5.1-py3-none-any.whl.metadata (1.4 kB)\n",
      "Requirement already satisfied: sentencepiece in /usr/local/lib/python3.10/dist-packages (from mediapipe) (0.2.0)\n",
      "Requirement already satisfied: CFFI>=1.0 in /usr/local/lib/python3.10/dist-packages (from sounddevice>=0.4.4->mediapipe) (1.17.1)\n",
      "Requirement already satisfied: ml-dtypes>=0.2.0 in /usr/local/lib/python3.10/dist-packages (from jax->mediapipe) (0.4.1)\n",
      "Requirement already satisfied: opt-einsum in /usr/local/lib/python3.10/dist-packages (from jax->mediapipe) (3.4.0)\n",
      "Requirement already satisfied: scipy>=1.10 in /usr/local/lib/python3.10/dist-packages (from jax->mediapipe) (1.13.1)\n",
      "Requirement already satisfied: contourpy>=1.0.1 in /usr/local/lib/python3.10/dist-packages (from matplotlib->mediapipe) (1.3.1)\n",
      "Requirement already satisfied: cycler>=0.10 in /usr/local/lib/python3.10/dist-packages (from matplotlib->mediapipe) (0.12.1)\n",
      "Requirement already satisfied: fonttools>=4.22.0 in /usr/local/lib/python3.10/dist-packages (from matplotlib->mediapipe) (4.55.0)\n",
      "Requirement already satisfied: kiwisolver>=1.0.1 in /usr/local/lib/python3.10/dist-packages (from matplotlib->mediapipe) (1.4.7)\n",
      "Requirement already satisfied: packaging>=20.0 in /usr/local/lib/python3.10/dist-packages (from matplotlib->mediapipe) (24.2)\n",
      "Requirement already satisfied: pillow>=6.2.0 in /usr/local/lib/python3.10/dist-packages (from matplotlib->mediapipe) (11.0.0)\n",
      "Requirement already satisfied: pyparsing>=2.3.1 in /usr/local/lib/python3.10/dist-packages (from matplotlib->mediapipe) (3.2.0)\n",
      "Requirement already satisfied: python-dateutil>=2.7 in /usr/local/lib/python3.10/dist-packages (from matplotlib->mediapipe) (2.8.2)\n",
      "Requirement already satisfied: pycparser in /usr/local/lib/python3.10/dist-packages (from CFFI>=1.0->sounddevice>=0.4.4->mediapipe) (2.22)\n",
      "Requirement already satisfied: six>=1.5 in /usr/local/lib/python3.10/dist-packages (from python-dateutil>=2.7->matplotlib->mediapipe) (1.16.0)\n",
      "Downloading mediapipe-0.10.18-cp310-cp310-manylinux_2_17_x86_64.manylinux2014_x86_64.whl (36.1 MB)\n",
      "\u001b[2K   \u001b[90m━━━━━━━━━━━━━━━━━━━━━━━━━━━━━━━━━━━━━━━━\u001b[0m \u001b[32m36.1/36.1 MB\u001b[0m \u001b[31m52.0 MB/s\u001b[0m eta \u001b[36m0:00:00\u001b[0m\n",
      "\u001b[?25hDownloading sounddevice-0.5.1-py3-none-any.whl (32 kB)\n",
      "Installing collected packages: sounddevice, mediapipe\n",
      "Successfully installed mediapipe-0.10.18 sounddevice-0.5.1\n"
     ]
    }
   ],
   "source": [
    "!pip install mediapipe"
   ]
  },
  {
   "cell_type": "code",
   "execution_count": null,
   "metadata": {
    "executionInfo": {
     "elapsed": 4177,
     "status": "ok",
     "timestamp": 1733297666305,
     "user": {
      "displayName": "Aaron Ramirez",
      "userId": "09089953805173967437"
     },
     "user_tz": -540
    },
    "id": "5bL2sKR0kGXs"
   },
   "outputs": [],
   "source": [
    "import cv2\n",
    "import mediapipe as mp\n",
    "import os\n",
    "import numpy as np\n",
    "import json\n",
    "from concurrent.futures import ThreadPoolExecutor\n",
    "from tqdm import tqdm"
   ]
  },
  {
   "cell_type": "code",
   "execution_count": 3,
   "metadata": {
    "colab": {
     "base_uri": "https://localhost:8080/"
    },
    "executionInfo": {
     "elapsed": 8750,
     "status": "ok",
     "timestamp": 1733297675053,
     "user": {
      "displayName": "Aaron Ramirez",
      "userId": "09089953805173967437"
     },
     "user_tz": -540
    },
    "id": "MdtZ4S-2jRp1",
    "outputId": "489f3030-45dc-4b69-d297-bc6caf1c5a83"
   },
   "outputs": [
    {
     "name": "stdout",
     "output_type": "stream",
     "text": [
      "Drive already mounted at /content/drive; to attempt to forcibly remount, call drive.mount(\"/content/drive\", force_remount=True).\n"
     ]
    }
   ],
   "source": [
    "from google.colab import drive\n",
    "drive.mount('/content/drive')"
   ]
  },
  {
   "cell_type": "code",
   "execution_count": 4,
   "metadata": {
    "executionInfo": {
     "elapsed": 1008,
     "status": "ok",
     "timestamp": 1733297678699,
     "user": {
      "displayName": "Aaron Ramirez",
      "userId": "09089953805173967437"
     },
     "user_tz": -540
    },
    "id": "-38jbvIQkZKE"
   },
   "outputs": [],
   "source": [
    "# Mediapipe model and utilities\n",
    "mp_holistic = mp.solutions.holistic\n",
    "mp_drawing = mp.solutions.drawing_utils\n",
    "mp_drawing_styles = mp.solutions.drawing_styles"
   ]
  },
  {
   "cell_type": "code",
   "execution_count": 5,
   "metadata": {
    "executionInfo": {
     "elapsed": 1,
     "status": "ok",
     "timestamp": 1733297679293,
     "user": {
      "displayName": "Aaron Ramirez",
      "userId": "09089953805173967437"
     },
     "user_tz": -540
    },
    "id": "66tSay3BkcL4"
   },
   "outputs": [],
   "source": [
    "# Function to detect and extract landmarks using Mediapipe\n",
    "def mediapipe_detection(image, model):\n",
    "    image = cv2.cvtColor(image, cv2.COLOR_BGR2RGB)\n",
    "    image.flags.writeable = False\n",
    "    results = model.process(image)\n",
    "    image.flags.writeable = True\n",
    "    image = cv2.cvtColor(image, cv2.COLOR_RGB2BGR)\n",
    "    return image, results\n",
    "\n",
    "  # Function to extract keypoints from Mediapipe results\n",
    "def extract_keypoints(results):\n",
    "    pose = np.array([[res.x, res.y, res.z, res.visibility] for res in results.pose_landmarks.landmark]).flatten() if results.pose_landmarks else np.zeros(33 * 4)\n",
    "    face = np.array([[res.x, res.y, res.z] for res in results.face_landmarks.landmark]).flatten() if results.face_landmarks else np.zeros(468 * 3)\n",
    "    lh = np.array([[res.x, res.y, res.z] for res in results.left_hand_landmarks.landmark]).flatten() if results.left_hand_landmarks else np.zeros(21 * 3)\n",
    "    rh = np.array([[res.x, res.y, res.z] for res in results.right_hand_landmarks.landmark]).flatten() if results.right_hand_landmarks else np.zeros(21 * 3)\n",
    "    return np.concatenate([pose, face, lh, rh])"
   ]
  },
  {
   "cell_type": "code",
   "execution_count": 6,
   "metadata": {
    "executionInfo": {
     "elapsed": 2762,
     "status": "ok",
     "timestamp": 1733297683466,
     "user": {
      "displayName": "Aaron Ramirez",
      "userId": "09089953805173967437"
     },
     "user_tz": -540
    },
    "id": "FdivDWGhlCmE"
   },
   "outputs": [],
   "source": [
    "# Load metadata from JSON\n",
    "metadata = {}\n",
    "with open('/content/drive/MyDrive/Colab Notebooks/AAI-521/Final Project/Models/WLASL_v0.3.json', 'r') as file:\n",
    "    metadata = json.load(file)\n",
    "\n",
    "labelMap = {}\n",
    "for i in metadata:\n",
    "    label = i['gloss']\n",
    "    for instance in i['instances']:\n",
    "        video_id = int(instance['video_id'])\n",
    "        frame_start = instance['frame_start']\n",
    "        frame_end = instance['frame_end']\n",
    "        fps = instance['fps']\n",
    "        labelMap[video_id] = [label, frame_start, frame_end, fps]"
   ]
  },
  {
   "cell_type": "code",
   "execution_count": 12,
   "metadata": {
    "executionInfo": {
     "elapsed": 415,
     "status": "ok",
     "timestamp": 1733297951560,
     "user": {
      "displayName": "Aaron Ramirez",
      "userId": "09089953805173967437"
     },
     "user_tz": -540
    },
    "id": "Rd0FvbS9lKms"
   },
   "outputs": [],
   "source": [
    "# Create directory for saving processed data\n",
    "DATA_PATH = '/content/drive/MyDrive/Colab Notebooks/AAI-521/Final Project/Models/MediaPipe_processed'\n",
    "if not os.path.exists(DATA_PATH):\n",
    "    os.makedirs(DATA_PATH)\n",
    "\n",
    "# Iterate through videos in the dataset folder\n",
    "video_path = '/content/drive/MyDrive/Colab Notebooks/AAI-521/Final Project/DataSet/videos'"
   ]
  },
  {
   "cell_type": "code",
   "execution_count": null,
   "metadata": {
    "colab": {
     "base_uri": "https://localhost:8080/"
    },
    "executionInfo": {
     "elapsed": 2374149,
     "status": "ok",
     "timestamp": 1733308747627,
     "user": {
      "displayName": "Aaron Ramirez",
      "userId": "09089953805173967437"
     },
     "user_tz": -540
    },
    "id": "lR-BY5oylkn4",
    "outputId": "043d7653-b513-4edf-e9e0-9692d046f628"
   },
   "outputs": [
    {
     "name": "stderr",
     "output_type": "stream",
     "text": [
      "Processing Videos: 100%|██████████| 11980/11980 [2:59:51<00:00,  1.11it/s]\n"
     ]
    }
   ],
   "source": [
    "# Function to process a single video\n",
    "def process_video(video):\n",
    "    video_id = int(os.path.splitext(video)[0])\n",
    "    if video_id not in labelMap:\n",
    "        return\n",
    "\n",
    "    label, start_frame, end_frame, fps = labelMap[video_id]\n",
    "\n",
    "    # Open video file\n",
    "    cap = cv2.VideoCapture(os.path.join(video_path, video))\n",
    "    cap.set(cv2.CAP_PROP_FPS, fps)\n",
    "\n",
    "    with mp_holistic.Holistic(min_detection_confidence=0.5, min_tracking_confidence=0.5) as holistic:\n",
    "        # Create directory for the action (label)\n",
    "        action_path = os.path.join(DATA_PATH, label)\n",
    "        if not os.path.exists(action_path):\n",
    "            os.makedirs(action_path)\n",
    "\n",
    "        keypoints_data = []\n",
    "        frame_count = 0\n",
    "        while cap.isOpened():\n",
    "            success, image = cap.read()\n",
    "            if not success:\n",
    "                break\n",
    "            frame_count += 1\n",
    "\n",
    "            # Skip frames outside the valid range\n",
    "            if frame_count < start_frame or (end_frame != -1 and frame_count > end_frame):\n",
    "                continue\n",
    "\n",
    "            # Process frame and extract keypoints\n",
    "            image, results = mediapipe_detection(image, holistic)\n",
    "            keypoints = extract_keypoints(results)\n",
    "            keypoints_data.append(keypoints)\n",
    "\n",
    "        # Save keypoints for the entire video\n",
    "        video_path_save = os.path.join(action_path, f'{video_id}_keypoints.npy')\n",
    "        np.save(video_path_save, np.array(keypoints_data))\n",
    "\n",
    "    cap.release()\n",
    "\n",
    "# List all video files\n",
    "video_files = [video for video in os.listdir(video_path) if video.endswith('.mp4')]\n",
    "\n",
    "# Use ThreadPoolExecutor for parallel processing\n",
    "with ThreadPoolExecutor() as executor:\n",
    "    list(tqdm(executor.map(process_video, video_files), total=len(video_files), desc=\"Processing Videos\"))\n"
   ]
  }
 ],
 "metadata": {
  "accelerator": "GPU",
  "colab": {
   "authorship_tag": "ABX9TyOtkHMf4ejF375P+/qMOR2g",
   "gpuType": "L4",
   "mount_file_id": "1WwM5v0BySGk7gxh_Fn607ZDHc6FBjeHP",
   "provenance": []
  },
  "kernelspec": {
   "display_name": "Python 3",
   "name": "python3"
  },
  "language_info": {
   "name": "python"
  }
 },
 "nbformat": 4,
 "nbformat_minor": 0
}

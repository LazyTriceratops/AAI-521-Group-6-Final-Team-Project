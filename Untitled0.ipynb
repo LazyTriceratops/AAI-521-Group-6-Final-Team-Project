{
 "cells": [
  {
   "cell_type": "markdown",
   "metadata": {
    "id": "CfNET4dfeQ9w"
   },
   "source": [
    "# I3D"
   ]
  },
  {
   "cell_type": "code",
   "execution_count": 1,
   "metadata": {
    "executionInfo": {
     "elapsed": 5171,
     "status": "ok",
     "timestamp": 1733417572360,
     "user": {
      "displayName": "Aaron Ramirez",
      "userId": "09089953805173967437"
     },
     "user_tz": -540
    },
    "id": "LxZT7KBHeNJY"
   },
   "outputs": [],
   "source": [
    "import os\n",
    "import numpy as np\n",
    "from sklearn.model_selection import train_test_split\n",
    "from tensorflow.keras.utils import to_categorical\n",
    "from tqdm import tqdm\n",
    "import pandas as pd"
   ]
  },
  {
   "cell_type": "code",
   "execution_count": 2,
   "metadata": {
    "executionInfo": {
     "elapsed": 421,
     "status": "ok",
     "timestamp": 1733417575426,
     "user": {
      "displayName": "Aaron Ramirez",
      "userId": "09089953805173967437"
     },
     "user_tz": -540
    },
    "id": "RvA9KvjIfTRs"
   },
   "outputs": [],
   "source": [
    "import json\n",
    "from collections import Counter"
   ]
  },
  {
   "cell_type": "code",
   "execution_count": null,
   "metadata": {
    "colab": {
     "base_uri": "https://localhost:8080/"
    },
    "executionInfo": {
     "elapsed": 9495,
     "status": "ok",
     "timestamp": 1733417587091,
     "user": {
      "displayName": "Aaron Ramirez",
      "userId": "09089953805173967437"
     },
     "user_tz": -540
    },
    "id": "xHfuQbqFfYCc",
    "outputId": "d1c2b7b9-ba9a-4fdc-9c80-dd7f6999f01d"
   },
   "outputs": [
    {
     "name": "stdout",
     "output_type": "stream",
     "text": [
      "Drive already mounted at /content/drive; to attempt to forcibly remount, call drive.mount(\"/content/drive\", force_remount=True).\n"
     ]
    }
   ],
   "source": [
    "# from google.colab import drive\n",
    "\n",
    "# # Mount Google Drive\n",
    "# drive.mount('/content/drive')"
   ]
  },
  {
   "cell_type": "code",
   "execution_count": 3,
   "metadata": {
    "executionInfo": {
     "elapsed": 2910,
     "status": "ok",
     "timestamp": 1733417608057,
     "user": {
      "displayName": "Aaron Ramirez",
      "userId": "09089953805173967437"
     },
     "user_tz": -540
    },
    "id": "xaB-a_jNfUIg"
   },
   "outputs": [],
   "source": [
    "# Load the metadata\n",
    "top_100_path = './DataSet/gloss_counts_top_100.csv'\n",
    "SAVE_PATH = \"./DataSet/I3D 100\"\n",
    "\n",
    "# Assuming the uploaded CSV file is named 'top_100_classes.csv'\n",
    "df = pd.read_csv(top_100_path)\n",
    "\n",
    "# Extract the 'Gloss' column for the top 100 classes\n",
    "top_100_classes = df['Gloss'].tolist()\n"
   ]
  },
  {
   "cell_type": "code",
   "execution_count": 4,
   "metadata": {
    "colab": {
     "base_uri": "https://localhost:8080/"
    },
    "executionInfo": {
     "elapsed": 1668856,
     "status": "ok",
     "timestamp": 1733419279070,
     "user": {
      "displayName": "Aaron Ramirez",
      "userId": "09089953805173967437"
     },
     "user_tz": -540
    },
    "id": "TLi7LjzGfsW4",
    "outputId": "f4cec5b6-e967-4805-fb46-c8b6e1129286"
   },
   "outputs": [
    {
     "name": "stderr",
     "output_type": "stream",
     "text": [
      "Loading data for top 100 classes:   0%|          | 0/100 [00:00<?, ?it/s]"
     ]
    },
    {
     "name": "stdout",
     "output_type": "stream",
     "text": [
      "Memory usage: 46.8% of 31.91 GB\n",
      "Memory usage: 47.4% of 31.91 GB\n"
     ]
    },
    {
     "name": "stderr",
     "output_type": "stream",
     "text": [
      "Loading data for top 100 classes:   1%|          | 1/100 [00:00<00:54,  1.83it/s]"
     ]
    },
    {
     "name": "stdout",
     "output_type": "stream",
     "text": [
      "Memory usage: 48.0% of 31.91 GB\n",
      "Memory usage: 48.1% of 31.91 GB\n",
      "Memory usage: 48.6% of 31.91 GB\n",
      "Memory usage: 49.1% of 31.91 GB\n",
      "Memory usage: 49.6% of 31.91 GB\n",
      "Memory usage: 49.7% of 31.91 GB\n"
     ]
    },
    {
     "name": "stderr",
     "output_type": "stream",
     "text": [
      "Loading data for top 100 classes:   2%|▏         | 2/100 [00:01<00:53,  1.83it/s]"
     ]
    },
    {
     "name": "stdout",
     "output_type": "stream",
     "text": [
      "Memory usage: 50.3% of 31.91 GB\n",
      "Memory usage: 50.8% of 31.91 GB\n"
     ]
    },
    {
     "name": "stderr",
     "output_type": "stream",
     "text": [
      "Loading data for top 100 classes:   3%|▎         | 3/100 [00:01<00:52,  1.83it/s]"
     ]
    },
    {
     "name": "stdout",
     "output_type": "stream",
     "text": [
      "Memory usage: 51.4% of 31.91 GB\n",
      "Memory usage: 51.5% of 31.91 GB\n",
      "Memory usage: 52.1% of 31.91 GB\n"
     ]
    },
    {
     "name": "stderr",
     "output_type": "stream",
     "text": [
      "Loading data for top 100 classes:   4%|▍         | 4/100 [00:02<00:48,  1.97it/s]"
     ]
    },
    {
     "name": "stdout",
     "output_type": "stream",
     "text": [
      "Memory usage: 52.7% of 31.91 GB\n",
      "Memory usage: 53.3% of 31.91 GB\n",
      "Memory usage: 53.8% of 31.91 GB\n",
      "Memory usage: 54.4% of 31.91 GB\n"
     ]
    },
    {
     "name": "stderr",
     "output_type": "stream",
     "text": [
      "Loading data for top 100 classes:   5%|▌         | 5/100 [00:02<00:48,  1.96it/s]"
     ]
    },
    {
     "name": "stdout",
     "output_type": "stream",
     "text": [
      "Memory usage: 54.9% of 31.91 GB\n",
      "Memory usage: 55.5% of 31.91 GB\n"
     ]
    },
    {
     "name": "stderr",
     "output_type": "stream",
     "text": [
      "Loading data for top 100 classes:   6%|▌         | 6/100 [00:03<00:50,  1.86it/s]"
     ]
    },
    {
     "name": "stdout",
     "output_type": "stream",
     "text": [
      "Memory usage: 56.1% of 31.91 GB\n",
      "Memory usage: 56.6% of 31.91 GB\n",
      "Memory usage: 57.2% of 31.91 GB\n",
      "Memory usage: 57.7% of 31.91 GB\n"
     ]
    },
    {
     "name": "stderr",
     "output_type": "stream",
     "text": [
      "Loading data for top 100 classes:   7%|▋         | 7/100 [00:03<00:51,  1.79it/s]"
     ]
    },
    {
     "name": "stdout",
     "output_type": "stream",
     "text": [
      "Memory usage: 58.1% of 31.91 GB\n",
      "Memory usage: 58.7% of 31.91 GB\n"
     ]
    },
    {
     "name": "stderr",
     "output_type": "stream",
     "text": [
      "Loading data for top 100 classes:   8%|▊         | 8/100 [00:04<00:52,  1.74it/s]"
     ]
    },
    {
     "name": "stdout",
     "output_type": "stream",
     "text": [
      "Memory usage: 59.2% of 31.91 GB\n",
      "Memory usage: 59.6% of 31.91 GB\n",
      "Memory usage: 60.2% of 31.91 GB\n",
      "Memory usage: 60.7% of 31.91 GB\n"
     ]
    },
    {
     "name": "stderr",
     "output_type": "stream",
     "text": [
      "Loading data for top 100 classes:   9%|▉         | 9/100 [00:05<00:53,  1.71it/s]"
     ]
    },
    {
     "name": "stdout",
     "output_type": "stream",
     "text": [
      "Memory usage: 61.1% of 31.91 GB\n",
      "Memory usage: 61.7% of 31.91 GB\n"
     ]
    },
    {
     "name": "stderr",
     "output_type": "stream",
     "text": [
      "Loading data for top 100 classes:  10%|█         | 10/100 [00:05<00:52,  1.71it/s]"
     ]
    },
    {
     "name": "stdout",
     "output_type": "stream",
     "text": [
      "Memory usage: 62.2% of 31.91 GB\n",
      "Memory usage: 62.6% of 31.91 GB\n",
      "Memory usage: 63.2% of 31.91 GB\n",
      "Memory usage: 63.7% of 31.91 GB\n"
     ]
    },
    {
     "name": "stderr",
     "output_type": "stream",
     "text": [
      "Loading data for top 100 classes:  11%|█         | 11/100 [00:06<00:51,  1.72it/s]"
     ]
    },
    {
     "name": "stdout",
     "output_type": "stream",
     "text": [
      "Memory usage: 64.1% of 31.91 GB\n",
      "Memory usage: 64.6% of 31.91 GB\n"
     ]
    },
    {
     "name": "stderr",
     "output_type": "stream",
     "text": [
      "Loading data for top 100 classes:  12%|█▏        | 12/100 [00:06<00:51,  1.72it/s]"
     ]
    },
    {
     "name": "stdout",
     "output_type": "stream",
     "text": [
      "Memory usage: 65.2% of 31.91 GB\n",
      "Memory usage: 65.5% of 31.91 GB\n",
      "Memory usage: 66.1% of 31.91 GB\n",
      "Memory usage: 66.6% of 31.91 GB\n"
     ]
    },
    {
     "name": "stderr",
     "output_type": "stream",
     "text": [
      "Loading data for top 100 classes:  13%|█▎        | 13/100 [00:07<00:50,  1.72it/s]"
     ]
    },
    {
     "name": "stdout",
     "output_type": "stream",
     "text": [
      "Memory usage: 66.9% of 31.91 GB\n",
      "Memory usage: 67.5% of 31.91 GB\n"
     ]
    },
    {
     "name": "stderr",
     "output_type": "stream",
     "text": [
      "Loading data for top 100 classes:  14%|█▍        | 14/100 [00:07<00:49,  1.73it/s]"
     ]
    },
    {
     "name": "stdout",
     "output_type": "stream",
     "text": [
      "Memory usage: 68.0% of 31.91 GB\n",
      "Memory usage: 68.4% of 31.91 GB\n",
      "Memory usage: 68.9% of 31.91 GB\n",
      "Memory usage: 69.5% of 31.91 GB\n"
     ]
    },
    {
     "name": "stderr",
     "output_type": "stream",
     "text": [
      "Loading data for top 100 classes:  15%|█▌        | 15/100 [00:08<00:49,  1.73it/s]"
     ]
    },
    {
     "name": "stdout",
     "output_type": "stream",
     "text": [
      "Memory usage: 69.9% of 31.91 GB\n",
      "Memory usage: 70.4% of 31.91 GB\n"
     ]
    },
    {
     "name": "stderr",
     "output_type": "stream",
     "text": [
      "Loading data for top 100 classes:  16%|█▌        | 16/100 [00:09<00:48,  1.74it/s]"
     ]
    },
    {
     "name": "stdout",
     "output_type": "stream",
     "text": [
      "Memory usage: 71.0% of 31.91 GB\n",
      "Memory usage: 71.3% of 31.91 GB\n",
      "Memory usage: 71.8% of 31.91 GB\n",
      "Memory usage: 72.3% of 31.91 GB\n"
     ]
    },
    {
     "name": "stderr",
     "output_type": "stream",
     "text": [
      "Loading data for top 100 classes:  17%|█▋        | 17/100 [00:09<00:47,  1.73it/s]"
     ]
    },
    {
     "name": "stdout",
     "output_type": "stream",
     "text": [
      "Memory usage: 72.7% of 31.91 GB\n",
      "Memory usage: 73.2% of 31.91 GB\n"
     ]
    },
    {
     "name": "stderr",
     "output_type": "stream",
     "text": [
      "Loading data for top 100 classes:  18%|█▊        | 18/100 [00:10<00:47,  1.73it/s]"
     ]
    },
    {
     "name": "stdout",
     "output_type": "stream",
     "text": [
      "Memory usage: 73.7% of 31.91 GB\n",
      "Memory usage: 73.9% of 31.91 GB\n",
      "Memory usage: 74.4% of 31.91 GB\n",
      "Memory usage: 75.0% of 31.91 GB\n"
     ]
    },
    {
     "name": "stderr",
     "output_type": "stream",
     "text": [
      "Loading data for top 100 classes:  19%|█▉        | 19/100 [00:10<00:46,  1.75it/s]"
     ]
    },
    {
     "name": "stdout",
     "output_type": "stream",
     "text": [
      "Memory usage: 75.2% of 31.91 GB\n",
      "Memory usage: 75.8% of 31.91 GB\n"
     ]
    },
    {
     "name": "stderr",
     "output_type": "stream",
     "text": [
      "Loading data for top 100 classes:  20%|██        | 20/100 [00:11<00:45,  1.76it/s]"
     ]
    },
    {
     "name": "stdout",
     "output_type": "stream",
     "text": [
      "Memory usage: 76.3% of 31.91 GB\n",
      "Memory usage: 76.4% of 31.91 GB\n",
      "Memory usage: 76.5% of 31.91 GB\n",
      "Memory usage: 76.9% of 31.91 GB\n"
     ]
    },
    {
     "name": "stderr",
     "output_type": "stream",
     "text": [
      "Loading data for top 100 classes:  21%|██        | 21/100 [00:11<00:45,  1.75it/s]"
     ]
    },
    {
     "name": "stdout",
     "output_type": "stream",
     "text": [
      "Memory usage: 77.0% of 31.91 GB\n",
      "Memory usage: 77.6% of 31.91 GB\n"
     ]
    },
    {
     "name": "stderr",
     "output_type": "stream",
     "text": [
      "Loading data for top 100 classes:  22%|██▏       | 22/100 [00:12<00:43,  1.78it/s]"
     ]
    },
    {
     "name": "stdout",
     "output_type": "stream",
     "text": [
      "Memory usage: 78.2% of 31.91 GB\n",
      "Memory usage: 78.4% of 31.91 GB\n",
      "Memory usage: 79.1% of 31.91 GB\n",
      "Memory usage: 79.7% of 31.91 GB\n"
     ]
    },
    {
     "name": "stderr",
     "output_type": "stream",
     "text": [
      "Loading data for top 100 classes:  23%|██▎       | 23/100 [00:13<00:43,  1.77it/s]"
     ]
    },
    {
     "name": "stdout",
     "output_type": "stream",
     "text": [
      "Memory usage: 79.8% of 31.91 GB\n",
      "Memory usage: 80.3% of 31.91 GB\n"
     ]
    },
    {
     "name": "stderr",
     "output_type": "stream",
     "text": [
      "Loading data for top 100 classes:  24%|██▍       | 24/100 [00:13<00:42,  1.79it/s]"
     ]
    },
    {
     "name": "stdout",
     "output_type": "stream",
     "text": [
      "Memory usage: 80.9% of 31.91 GB\n",
      "Memory usage: 81.1% of 31.91 GB\n",
      "Memory usage: 81.7% of 31.91 GB\n",
      "Memory usage: 82.3% of 31.91 GB\n"
     ]
    },
    {
     "name": "stderr",
     "output_type": "stream",
     "text": [
      "Loading data for top 100 classes:  25%|██▌       | 25/100 [00:14<00:41,  1.80it/s]"
     ]
    },
    {
     "name": "stdout",
     "output_type": "stream",
     "text": [
      "Memory usage: 82.5% of 31.91 GB\n",
      "Memory usage: 82.9% of 31.91 GB\n"
     ]
    },
    {
     "name": "stderr",
     "output_type": "stream",
     "text": [
      "Loading data for top 100 classes:  26%|██▌       | 26/100 [00:14<00:41,  1.80it/s]"
     ]
    },
    {
     "name": "stdout",
     "output_type": "stream",
     "text": [
      "Memory usage: 83.3% of 31.91 GB\n",
      "Memory usage: 83.5% of 31.91 GB\n",
      "Memory usage: 84.1% of 31.91 GB\n",
      "Memory usage: 84.6% of 31.91 GB\n"
     ]
    },
    {
     "name": "stderr",
     "output_type": "stream",
     "text": [
      "Loading data for top 100 classes:  27%|██▋       | 27/100 [00:15<00:40,  1.81it/s]"
     ]
    },
    {
     "name": "stdout",
     "output_type": "stream",
     "text": [
      "Memory usage: 84.9% of 31.91 GB\n",
      "Memory usage: 85.4% of 31.91 GB\n"
     ]
    },
    {
     "name": "stderr",
     "output_type": "stream",
     "text": [
      "Loading data for top 100 classes:  28%|██▊       | 28/100 [00:15<00:39,  1.81it/s]"
     ]
    },
    {
     "name": "stdout",
     "output_type": "stream",
     "text": [
      "Memory usage: 86.0% of 31.91 GB\n",
      "Memory usage: 86.1% of 31.91 GB\n",
      "Memory usage: 86.6% of 31.91 GB\n",
      "Memory usage: 87.1% of 31.91 GB\n"
     ]
    },
    {
     "name": "stderr",
     "output_type": "stream",
     "text": [
      "Loading data for top 100 classes:  29%|██▉       | 29/100 [00:16<00:39,  1.81it/s]"
     ]
    },
    {
     "name": "stdout",
     "output_type": "stream",
     "text": [
      "Memory usage: 87.3% of 31.91 GB\n",
      "Memory usage: 87.9% of 31.91 GB\n"
     ]
    },
    {
     "name": "stderr",
     "output_type": "stream",
     "text": [
      "Loading data for top 100 classes:  30%|███       | 30/100 [00:16<00:38,  1.81it/s]"
     ]
    },
    {
     "name": "stdout",
     "output_type": "stream",
     "text": [
      "Memory usage: 88.4% of 31.91 GB\n",
      "Memory usage: 88.6% of 31.91 GB\n",
      "Memory usage: 89.1% of 31.91 GB\n",
      "Memory usage: 89.6% of 31.91 GB\n"
     ]
    },
    {
     "name": "stderr",
     "output_type": "stream",
     "text": [
      "Loading data for top 100 classes:  31%|███       | 31/100 [00:17<00:37,  1.84it/s]"
     ]
    },
    {
     "name": "stdout",
     "output_type": "stream",
     "text": [
      "Memory usage: 89.8% of 31.91 GB\n",
      "Memory usage: 90.3% of 31.91 GB\n"
     ]
    },
    {
     "name": "stderr",
     "output_type": "stream",
     "text": [
      "Loading data for top 100 classes:  32%|███▏      | 32/100 [00:17<00:36,  1.87it/s]"
     ]
    },
    {
     "name": "stdout",
     "output_type": "stream",
     "text": [
      "Memory usage: 90.9% of 31.91 GB\n",
      "Memory usage: 91.0% of 31.91 GB\n",
      "Memory usage: 91.6% of 31.91 GB\n",
      "Memory usage: 91.7% of 31.91 GB\n"
     ]
    },
    {
     "name": "stderr",
     "output_type": "stream",
     "text": [
      "Loading data for top 100 classes:  33%|███▎      | 33/100 [00:18<00:35,  1.86it/s]"
     ]
    },
    {
     "name": "stdout",
     "output_type": "stream",
     "text": [
      "Memory usage: 90.9% of 31.91 GB\n",
      "Memory usage: 90.0% of 31.91 GB\n"
     ]
    },
    {
     "name": "stderr",
     "output_type": "stream",
     "text": [
      "Loading data for top 100 classes:  34%|███▍      | 34/100 [00:19<00:35,  1.84it/s]"
     ]
    },
    {
     "name": "stdout",
     "output_type": "stream",
     "text": [
      "Memory usage: 89.1% of 31.91 GB\n",
      "Memory usage: 87.9% of 31.91 GB\n",
      "Memory usage: 88.1% of 31.91 GB\n",
      "Memory usage: 88.7% of 31.91 GB\n"
     ]
    },
    {
     "name": "stderr",
     "output_type": "stream",
     "text": [
      "Loading data for top 100 classes:  35%|███▌      | 35/100 [00:19<00:34,  1.87it/s]"
     ]
    },
    {
     "name": "stdout",
     "output_type": "stream",
     "text": [
      "Memory usage: 88.8% of 31.91 GB\n",
      "Memory usage: 89.4% of 31.91 GB\n"
     ]
    },
    {
     "name": "stderr",
     "output_type": "stream",
     "text": [
      "Loading data for top 100 classes:  36%|███▌      | 36/100 [00:20<00:33,  1.88it/s]"
     ]
    },
    {
     "name": "stdout",
     "output_type": "stream",
     "text": [
      "Memory usage: 90.0% of 31.91 GB\n",
      "Memory usage: 90.0% of 31.91 GB\n",
      "Memory usage: 90.6% of 31.91 GB\n",
      "Memory usage: 91.2% of 31.91 GB\n"
     ]
    },
    {
     "name": "stderr",
     "output_type": "stream",
     "text": [
      "Loading data for top 100 classes:  37%|███▋      | 37/100 [00:20<00:33,  1.90it/s]"
     ]
    },
    {
     "name": "stdout",
     "output_type": "stream",
     "text": [
      "Memory usage: 91.3% of 31.91 GB\n",
      "Memory usage: 91.9% of 31.91 GB\n"
     ]
    },
    {
     "name": "stderr",
     "output_type": "stream",
     "text": [
      "Loading data for top 100 classes:  38%|███▊      | 38/100 [00:21<00:32,  1.90it/s]"
     ]
    },
    {
     "name": "stdout",
     "output_type": "stream",
     "text": [
      "Memory usage: 92.5% of 31.91 GB\n",
      "Memory usage: 92.4% of 31.91 GB\n",
      "Memory usage: 93.0% of 31.91 GB\n",
      "Memory usage: 93.5% of 31.91 GB\n"
     ]
    },
    {
     "name": "stderr",
     "output_type": "stream",
     "text": [
      "Loading data for top 100 classes:  39%|███▉      | 39/100 [00:21<00:31,  1.91it/s]"
     ]
    },
    {
     "name": "stdout",
     "output_type": "stream",
     "text": [
      "Memory usage: 93.6% of 31.91 GB\n",
      "Memory usage: 94.2% of 31.91 GB\n"
     ]
    },
    {
     "name": "stderr",
     "output_type": "stream",
     "text": [
      "Loading data for top 100 classes:  40%|████      | 40/100 [00:22<00:31,  1.91it/s]"
     ]
    },
    {
     "name": "stdout",
     "output_type": "stream",
     "text": [
      "Memory usage: 94.8% of 31.91 GB\n",
      "Memory usage: 94.7% of 31.91 GB\n",
      "Memory usage: 95.2% of 31.91 GB\n",
      "Memory usage: 95.7% of 31.91 GB\n"
     ]
    },
    {
     "name": "stderr",
     "output_type": "stream",
     "text": [
      "Loading data for top 100 classes:  41%|████      | 41/100 [00:25<01:16,  1.29s/it]"
     ]
    },
    {
     "name": "stdout",
     "output_type": "stream",
     "text": [
      "Memory usage: 95.8% of 31.91 GB\n",
      "Memory usage: 96.3% of 31.91 GB\n",
      "Memory usage: 96.8% of 31.91 GB\n"
     ]
    },
    {
     "name": "stderr",
     "output_type": "stream",
     "text": [
      "Loading data for top 100 classes:  42%|████▏     | 42/100 [00:27<01:25,  1.47s/it]"
     ]
    },
    {
     "name": "stdout",
     "output_type": "stream",
     "text": [
      "Memory usage: 96.9% of 31.91 GB\n",
      "Memory usage: 97.5% of 31.91 GB\n"
     ]
    },
    {
     "name": "stderr",
     "output_type": "stream",
     "text": [
      "Loading data for top 100 classes:  43%|████▎     | 43/100 [00:27<01:07,  1.19s/it]"
     ]
    },
    {
     "name": "stdout",
     "output_type": "stream",
     "text": [
      "Memory usage: 98.0% of 31.91 GB\n",
      "Memory usage: 98.1% of 31.91 GB\n",
      "Memory usage: 98.7% of 31.91 GB\n",
      "Memory usage: 98.5% of 31.91 GB\n"
     ]
    },
    {
     "name": "stderr",
     "output_type": "stream",
     "text": [
      "Loading data for top 100 classes:  44%|████▍     | 44/100 [00:28<00:57,  1.03s/it]"
     ]
    },
    {
     "name": "stdout",
     "output_type": "stream",
     "text": [
      "Memory usage: 98.3% of 31.91 GB\n",
      "Memory usage: 98.1% of 31.91 GB\n"
     ]
    },
    {
     "name": "stderr",
     "output_type": "stream",
     "text": [
      "Loading data for top 100 classes:  45%|████▌     | 45/100 [00:29<00:52,  1.04it/s]"
     ]
    },
    {
     "name": "stdout",
     "output_type": "stream",
     "text": [
      "Memory usage: 98.1% of 31.91 GB\n",
      "Memory usage: 98.0% of 31.91 GB\n",
      "Memory usage: 98.2% of 31.91 GB\n"
     ]
    },
    {
     "name": "stderr",
     "output_type": "stream",
     "text": [
      "Loading data for top 100 classes:  46%|████▌     | 46/100 [00:29<00:48,  1.12it/s]"
     ]
    },
    {
     "name": "stdout",
     "output_type": "stream",
     "text": [
      "Memory usage: 98.7% of 31.91 GB\n",
      "Memory usage: 98.8% of 31.91 GB\n",
      "Memory usage: 98.7% of 31.91 GB\n"
     ]
    },
    {
     "name": "stderr",
     "output_type": "stream",
     "text": [
      "Loading data for top 100 classes:  47%|████▋     | 47/100 [00:30<00:46,  1.14it/s]"
     ]
    },
    {
     "name": "stdout",
     "output_type": "stream",
     "text": [
      "Memory usage: 99.1% of 31.91 GB\n",
      "Memory usage: 99.2% of 31.91 GB\n",
      "Memory usage: 99.7% of 31.91 GB\n",
      "Memory usage: 99.6% of 31.91 GB\n"
     ]
    },
    {
     "name": "stderr",
     "output_type": "stream",
     "text": [
      "Loading data for top 100 classes:  48%|████▊     | 48/100 [00:31<00:47,  1.10it/s]"
     ]
    },
    {
     "name": "stdout",
     "output_type": "stream",
     "text": [
      "Memory usage: 99.7% of 31.91 GB\n",
      "Memory usage: 99.7% of 31.91 GB\n"
     ]
    },
    {
     "name": "stderr",
     "output_type": "stream",
     "text": [
      "Loading data for top 100 classes:  49%|████▉     | 49/100 [00:34<01:12,  1.42s/it]"
     ]
    },
    {
     "name": "stdout",
     "output_type": "stream",
     "text": [
      "Memory usage: 99.9% of 31.91 GB\n",
      "Memory usage: 99.6% of 31.91 GB\n",
      "Memory usage: 99.2% of 31.91 GB\n"
     ]
    },
    {
     "name": "stderr",
     "output_type": "stream",
     "text": [
      "Loading data for top 100 classes:  50%|█████     | 50/100 [00:35<01:07,  1.35s/it]"
     ]
    },
    {
     "name": "stdout",
     "output_type": "stream",
     "text": [
      "Memory usage: 99.5% of 31.91 GB\n",
      "Memory usage: 99.1% of 31.91 GB\n",
      "Memory usage: 98.6% of 31.91 GB\n"
     ]
    },
    {
     "name": "stderr",
     "output_type": "stream",
     "text": [
      "Loading data for top 100 classes:  51%|█████     | 51/100 [00:36<00:58,  1.20s/it]"
     ]
    },
    {
     "name": "stdout",
     "output_type": "stream",
     "text": [
      "Memory usage: 98.6% of 31.91 GB\n",
      "Memory usage: 98.5% of 31.91 GB\n",
      "Memory usage: 98.6% of 31.91 GB\n",
      "Memory usage: 98.6% of 31.91 GB\n"
     ]
    },
    {
     "name": "stderr",
     "output_type": "stream",
     "text": [
      "Loading data for top 100 classes:  52%|█████▏    | 52/100 [00:37<00:51,  1.06s/it]"
     ]
    },
    {
     "name": "stdout",
     "output_type": "stream",
     "text": [
      "Memory usage: 98.4% of 31.91 GB\n",
      "Memory usage: 98.6% of 31.91 GB\n"
     ]
    },
    {
     "name": "stderr",
     "output_type": "stream",
     "text": [
      "Loading data for top 100 classes:  53%|█████▎    | 53/100 [00:37<00:43,  1.07it/s]"
     ]
    },
    {
     "name": "stdout",
     "output_type": "stream",
     "text": [
      "Memory usage: 98.6% of 31.91 GB\n",
      "Memory usage: 98.6% of 31.91 GB\n",
      "Memory usage: 98.6% of 31.91 GB\n",
      "Memory usage: 98.6% of 31.91 GB\n"
     ]
    },
    {
     "name": "stderr",
     "output_type": "stream",
     "text": [
      "Loading data for top 100 classes:  54%|█████▍    | 54/100 [00:38<00:39,  1.17it/s]"
     ]
    },
    {
     "name": "stdout",
     "output_type": "stream",
     "text": [
      "Memory usage: 98.5% of 31.91 GB\n",
      "Memory usage: 98.6% of 31.91 GB\n"
     ]
    },
    {
     "name": "stderr",
     "output_type": "stream",
     "text": [
      "Loading data for top 100 classes:  55%|█████▌    | 55/100 [00:39<00:36,  1.25it/s]"
     ]
    },
    {
     "name": "stdout",
     "output_type": "stream",
     "text": [
      "Memory usage: 98.6% of 31.91 GB\n",
      "Memory usage: 97.8% of 31.91 GB\n",
      "Memory usage: 96.7% of 31.91 GB\n",
      "Memory usage: 96.4% of 31.91 GB\n"
     ]
    },
    {
     "name": "stderr",
     "output_type": "stream",
     "text": [
      "Loading data for top 100 classes:  56%|█████▌    | 56/100 [00:39<00:32,  1.36it/s]"
     ]
    },
    {
     "name": "stdout",
     "output_type": "stream",
     "text": [
      "Memory usage: 96.3% of 31.91 GB\n",
      "Memory usage: 96.6% of 31.91 GB\n"
     ]
    },
    {
     "name": "stderr",
     "output_type": "stream",
     "text": [
      "Loading data for top 100 classes:  57%|█████▋    | 57/100 [00:40<00:28,  1.53it/s]"
     ]
    },
    {
     "name": "stdout",
     "output_type": "stream",
     "text": [
      "Memory usage: 97.0% of 31.91 GB\n",
      "Memory usage: 97.3% of 31.91 GB\n"
     ]
    },
    {
     "name": "stderr",
     "output_type": "stream",
     "text": [
      "Loading data for top 100 classes:  58%|█████▊    | 58/100 [00:40<00:24,  1.69it/s]"
     ]
    },
    {
     "name": "stdout",
     "output_type": "stream",
     "text": [
      "Memory usage: 97.6% of 31.91 GB\n",
      "Memory usage: 98.3% of 31.91 GB\n"
     ]
    },
    {
     "name": "stderr",
     "output_type": "stream",
     "text": [
      "Loading data for top 100 classes:  59%|█████▉    | 59/100 [00:41<00:24,  1.67it/s]"
     ]
    },
    {
     "name": "stdout",
     "output_type": "stream",
     "text": [
      "Memory usage: 98.5% of 31.91 GB\n",
      "Memory usage: 98.6% of 31.91 GB\n"
     ]
    },
    {
     "name": "stderr",
     "output_type": "stream",
     "text": [
      "Loading data for top 100 classes:  60%|██████    | 60/100 [00:41<00:26,  1.52it/s]"
     ]
    },
    {
     "name": "stdout",
     "output_type": "stream",
     "text": [
      "Memory usage: 98.6% of 31.91 GB\n",
      "Memory usage: 98.6% of 31.91 GB\n"
     ]
    },
    {
     "name": "stderr",
     "output_type": "stream",
     "text": [
      "Loading data for top 100 classes:  61%|██████    | 61/100 [00:42<00:26,  1.48it/s]"
     ]
    },
    {
     "name": "stdout",
     "output_type": "stream",
     "text": [
      "Memory usage: 98.6% of 31.91 GB\n",
      "Memory usage: 98.6% of 31.91 GB\n"
     ]
    },
    {
     "name": "stderr",
     "output_type": "stream",
     "text": [
      "Loading data for top 100 classes:  62%|██████▏   | 62/100 [00:43<00:27,  1.40it/s]"
     ]
    },
    {
     "name": "stdout",
     "output_type": "stream",
     "text": [
      "Memory usage: 98.6% of 31.91 GB\n",
      "Memory usage: 98.6% of 31.91 GB\n"
     ]
    },
    {
     "name": "stderr",
     "output_type": "stream",
     "text": [
      "Loading data for top 100 classes:  63%|██████▎   | 63/100 [00:44<00:25,  1.45it/s]"
     ]
    },
    {
     "name": "stdout",
     "output_type": "stream",
     "text": [
      "Memory usage: 98.6% of 31.91 GB\n",
      "Memory usage: 98.6% of 31.91 GB\n"
     ]
    },
    {
     "name": "stderr",
     "output_type": "stream",
     "text": [
      "Loading data for top 100 classes:  64%|██████▍   | 64/100 [00:44<00:24,  1.46it/s]"
     ]
    },
    {
     "name": "stdout",
     "output_type": "stream",
     "text": [
      "Memory usage: 98.6% of 31.91 GB\n",
      "Memory usage: 98.5% of 31.91 GB\n",
      "Memory usage: 98.2% of 31.91 GB\n"
     ]
    },
    {
     "name": "stderr",
     "output_type": "stream",
     "text": [
      "Loading data for top 100 classes:  65%|██████▌   | 65/100 [00:45<00:22,  1.54it/s]"
     ]
    },
    {
     "name": "stdout",
     "output_type": "stream",
     "text": [
      "Memory usage: 97.0% of 31.91 GB\n",
      "Memory usage: 97.0% of 31.91 GB\n"
     ]
    },
    {
     "name": "stderr",
     "output_type": "stream",
     "text": [
      "Loading data for top 100 classes:  66%|██████▌   | 66/100 [00:45<00:20,  1.68it/s]"
     ]
    },
    {
     "name": "stdout",
     "output_type": "stream",
     "text": [
      "Memory usage: 96.9% of 31.91 GB\n",
      "Memory usage: 97.4% of 31.91 GB\n"
     ]
    },
    {
     "name": "stderr",
     "output_type": "stream",
     "text": [
      "Loading data for top 100 classes:  68%|██████▊   | 68/100 [00:46<00:16,  1.97it/s]"
     ]
    },
    {
     "name": "stdout",
     "output_type": "stream",
     "text": [
      "Memory usage: 97.9% of 31.91 GB\n",
      "Memory usage: 98.5% of 31.91 GB\n",
      "Memory usage: 98.7% of 31.91 GB\n"
     ]
    },
    {
     "name": "stderr",
     "output_type": "stream",
     "text": [
      "Loading data for top 100 classes:  69%|██████▉   | 69/100 [00:47<00:18,  1.67it/s]"
     ]
    },
    {
     "name": "stdout",
     "output_type": "stream",
     "text": [
      "Memory usage: 98.6% of 31.91 GB\n",
      "Memory usage: 98.6% of 31.91 GB\n"
     ]
    },
    {
     "name": "stderr",
     "output_type": "stream",
     "text": [
      "Loading data for top 100 classes:  70%|███████   | 70/100 [00:48<00:18,  1.66it/s]"
     ]
    },
    {
     "name": "stdout",
     "output_type": "stream",
     "text": [
      "Memory usage: 98.6% of 31.91 GB\n",
      "Memory usage: 98.7% of 31.91 GB\n"
     ]
    },
    {
     "name": "stderr",
     "output_type": "stream",
     "text": [
      "Loading data for top 100 classes:  71%|███████   | 71/100 [00:48<00:16,  1.73it/s]"
     ]
    },
    {
     "name": "stdout",
     "output_type": "stream",
     "text": [
      "Memory usage: 98.8% of 31.91 GB\n",
      "Memory usage: 98.8% of 31.91 GB\n",
      "Memory usage: 98.8% of 31.91 GB\n"
     ]
    },
    {
     "name": "stderr",
     "output_type": "stream",
     "text": [
      "Loading data for top 100 classes:  72%|███████▏  | 72/100 [00:49<00:16,  1.69it/s]"
     ]
    },
    {
     "name": "stdout",
     "output_type": "stream",
     "text": [
      "Memory usage: 98.8% of 31.91 GB\n"
     ]
    },
    {
     "name": "stderr",
     "output_type": "stream",
     "text": [
      "Loading data for top 100 classes:  73%|███████▎  | 73/100 [00:49<00:16,  1.61it/s]"
     ]
    },
    {
     "name": "stdout",
     "output_type": "stream",
     "text": [
      "Memory usage: 98.8% of 31.91 GB\n",
      "Memory usage: 98.8% of 31.91 GB\n",
      "Memory usage: 98.8% of 31.91 GB\n"
     ]
    },
    {
     "name": "stderr",
     "output_type": "stream",
     "text": [
      "Loading data for top 100 classes:  74%|███████▍  | 74/100 [00:50<00:16,  1.55it/s]"
     ]
    },
    {
     "name": "stdout",
     "output_type": "stream",
     "text": [
      "Memory usage: 98.8% of 31.91 GB\n"
     ]
    },
    {
     "name": "stderr",
     "output_type": "stream",
     "text": [
      "Loading data for top 100 classes:  75%|███████▌  | 75/100 [00:51<00:16,  1.56it/s]"
     ]
    },
    {
     "name": "stdout",
     "output_type": "stream",
     "text": [
      "Memory usage: 98.8% of 31.91 GB\n",
      "Memory usage: 98.8% of 31.91 GB\n"
     ]
    },
    {
     "name": "stderr",
     "output_type": "stream",
     "text": [
      "Loading data for top 100 classes:  76%|███████▌  | 76/100 [00:51<00:14,  1.61it/s]"
     ]
    },
    {
     "name": "stdout",
     "output_type": "stream",
     "text": [
      "Memory usage: 98.9% of 31.91 GB\n",
      "Memory usage: 98.9% of 31.91 GB\n"
     ]
    },
    {
     "name": "stderr",
     "output_type": "stream",
     "text": [
      "Loading data for top 100 classes:  77%|███████▋  | 77/100 [00:52<00:14,  1.55it/s]"
     ]
    },
    {
     "name": "stdout",
     "output_type": "stream",
     "text": [
      "Memory usage: 98.8% of 31.91 GB\n",
      "Memory usage: 98.8% of 31.91 GB\n"
     ]
    },
    {
     "name": "stderr",
     "output_type": "stream",
     "text": [
      "Loading data for top 100 classes:  78%|███████▊  | 78/100 [00:53<00:14,  1.52it/s]"
     ]
    },
    {
     "name": "stdout",
     "output_type": "stream",
     "text": [
      "Memory usage: 98.8% of 31.91 GB\n",
      "Memory usage: 98.8% of 31.91 GB\n"
     ]
    },
    {
     "name": "stderr",
     "output_type": "stream",
     "text": [
      "Loading data for top 100 classes:  79%|███████▉  | 79/100 [00:53<00:13,  1.51it/s]"
     ]
    },
    {
     "name": "stdout",
     "output_type": "stream",
     "text": [
      "Memory usage: 98.8% of 31.91 GB\n",
      "Memory usage: 98.9% of 31.91 GB\n"
     ]
    },
    {
     "name": "stderr",
     "output_type": "stream",
     "text": [
      "Loading data for top 100 classes:  80%|████████  | 80/100 [00:54<00:12,  1.64it/s]"
     ]
    },
    {
     "name": "stdout",
     "output_type": "stream",
     "text": [
      "Memory usage: 99.2% of 31.91 GB\n",
      "Memory usage: 99.0% of 31.91 GB\n"
     ]
    },
    {
     "name": "stderr",
     "output_type": "stream",
     "text": [
      "Loading data for top 100 classes:  81%|████████  | 81/100 [00:54<00:10,  1.77it/s]"
     ]
    },
    {
     "name": "stdout",
     "output_type": "stream",
     "text": [
      "Memory usage: 98.2% of 31.91 GB\n",
      "Memory usage: 97.4% of 31.91 GB\n"
     ]
    },
    {
     "name": "stderr",
     "output_type": "stream",
     "text": [
      "Loading data for top 100 classes:  82%|████████▏ | 82/100 [00:55<00:09,  1.88it/s]"
     ]
    },
    {
     "name": "stdout",
     "output_type": "stream",
     "text": [
      "Memory usage: 97.6% of 31.91 GB\n",
      "Memory usage: 98.0% of 31.91 GB\n"
     ]
    },
    {
     "name": "stderr",
     "output_type": "stream",
     "text": [
      "Loading data for top 100 classes:  83%|████████▎ | 83/100 [00:55<00:08,  1.98it/s]"
     ]
    },
    {
     "name": "stdout",
     "output_type": "stream",
     "text": [
      "Memory usage: 98.0% of 31.91 GB\n",
      "Memory usage: 98.6% of 31.91 GB\n"
     ]
    },
    {
     "name": "stderr",
     "output_type": "stream",
     "text": [
      "Loading data for top 100 classes:  84%|████████▍ | 84/100 [00:56<00:07,  2.08it/s]"
     ]
    },
    {
     "name": "stdout",
     "output_type": "stream",
     "text": [
      "Memory usage: 99.1% of 31.91 GB\n",
      "Memory usage: 99.3% of 31.91 GB\n"
     ]
    },
    {
     "name": "stderr",
     "output_type": "stream",
     "text": [
      "Loading data for top 100 classes:  85%|████████▌ | 85/100 [00:57<00:09,  1.54it/s]"
     ]
    },
    {
     "name": "stdout",
     "output_type": "stream",
     "text": [
      "Memory usage: 99.1% of 31.91 GB\n",
      "Memory usage: 99.1% of 31.91 GB\n"
     ]
    },
    {
     "name": "stderr",
     "output_type": "stream",
     "text": [
      "Loading data for top 100 classes:  86%|████████▌ | 86/100 [00:57<00:09,  1.49it/s]"
     ]
    },
    {
     "name": "stdout",
     "output_type": "stream",
     "text": [
      "Memory usage: 99.1% of 31.91 GB\n",
      "Memory usage: 99.1% of 31.91 GB\n"
     ]
    },
    {
     "name": "stderr",
     "output_type": "stream",
     "text": [
      "Loading data for top 100 classes:  87%|████████▋ | 87/100 [00:58<00:08,  1.47it/s]"
     ]
    },
    {
     "name": "stdout",
     "output_type": "stream",
     "text": [
      "Memory usage: 99.1% of 31.91 GB\n",
      "Memory usage: 99.1% of 31.91 GB\n"
     ]
    },
    {
     "name": "stderr",
     "output_type": "stream",
     "text": [
      "Loading data for top 100 classes:  88%|████████▊ | 88/100 [00:59<00:07,  1.51it/s]"
     ]
    },
    {
     "name": "stdout",
     "output_type": "stream",
     "text": [
      "Memory usage: 99.1% of 31.91 GB\n",
      "Memory usage: 99.1% of 31.91 GB\n"
     ]
    },
    {
     "name": "stderr",
     "output_type": "stream",
     "text": [
      "Loading data for top 100 classes:  89%|████████▉ | 89/100 [00:59<00:07,  1.46it/s]"
     ]
    },
    {
     "name": "stdout",
     "output_type": "stream",
     "text": [
      "Memory usage: 99.1% of 31.91 GB\n",
      "Memory usage: 99.1% of 31.91 GB\n"
     ]
    },
    {
     "name": "stderr",
     "output_type": "stream",
     "text": [
      "Loading data for top 100 classes:  90%|█████████ | 90/100 [01:00<00:07,  1.27it/s]"
     ]
    },
    {
     "name": "stdout",
     "output_type": "stream",
     "text": [
      "Memory usage: 99.4% of 31.91 GB\n",
      "Memory usage: 99.1% of 31.91 GB\n"
     ]
    },
    {
     "name": "stderr",
     "output_type": "stream",
     "text": [
      "Loading data for top 100 classes:  91%|█████████ | 91/100 [01:01<00:07,  1.17it/s]"
     ]
    },
    {
     "name": "stdout",
     "output_type": "stream",
     "text": [
      "Memory usage: 99.1% of 31.91 GB\n",
      "Memory usage: 99.1% of 31.91 GB\n"
     ]
    },
    {
     "name": "stderr",
     "output_type": "stream",
     "text": [
      "Loading data for top 100 classes:  92%|█████████▏| 92/100 [01:02<00:06,  1.21it/s]"
     ]
    },
    {
     "name": "stdout",
     "output_type": "stream",
     "text": [
      "Memory usage: 99.1% of 31.91 GB\n",
      "Memory usage: 98.9% of 31.91 GB\n"
     ]
    },
    {
     "name": "stderr",
     "output_type": "stream",
     "text": [
      "Loading data for top 100 classes:  93%|█████████▎| 93/100 [01:03<00:05,  1.27it/s]"
     ]
    },
    {
     "name": "stdout",
     "output_type": "stream",
     "text": [
      "Memory usage: 99.1% of 31.91 GB\n",
      "Memory usage: 99.3% of 31.91 GB\n"
     ]
    },
    {
     "name": "stderr",
     "output_type": "stream",
     "text": [
      "Loading data for top 100 classes:  94%|█████████▍| 94/100 [01:03<00:04,  1.40it/s]"
     ]
    },
    {
     "name": "stdout",
     "output_type": "stream",
     "text": [
      "Memory usage: 98.9% of 31.91 GB\n",
      "Memory usage: 98.6% of 31.91 GB\n"
     ]
    },
    {
     "name": "stderr",
     "output_type": "stream",
     "text": [
      "Loading data for top 100 classes:  95%|█████████▌| 95/100 [01:04<00:03,  1.56it/s]"
     ]
    },
    {
     "name": "stdout",
     "output_type": "stream",
     "text": [
      "Memory usage: 97.7% of 31.91 GB\n",
      "Memory usage: 97.7% of 31.91 GB\n"
     ]
    },
    {
     "name": "stderr",
     "output_type": "stream",
     "text": [
      "Loading data for top 100 classes:  96%|█████████▌| 96/100 [01:04<00:02,  1.71it/s]"
     ]
    },
    {
     "name": "stdout",
     "output_type": "stream",
     "text": [
      "Memory usage: 98.0% of 31.91 GB\n",
      "Memory usage: 98.1% of 31.91 GB\n"
     ]
    },
    {
     "name": "stderr",
     "output_type": "stream",
     "text": [
      "Loading data for top 100 classes:  97%|█████████▋| 97/100 [01:05<00:01,  1.84it/s]"
     ]
    },
    {
     "name": "stdout",
     "output_type": "stream",
     "text": [
      "Memory usage: 98.1% of 31.91 GB\n",
      "Memory usage: 98.7% of 31.91 GB\n"
     ]
    },
    {
     "name": "stderr",
     "output_type": "stream",
     "text": [
      "Loading data for top 100 classes:  98%|█████████▊| 98/100 [01:05<00:01,  1.96it/s]"
     ]
    },
    {
     "name": "stdout",
     "output_type": "stream",
     "text": [
      "Memory usage: 99.2% of 31.91 GB\n",
      "Memory usage: 99.3% of 31.91 GB\n"
     ]
    },
    {
     "name": "stderr",
     "output_type": "stream",
     "text": [
      "Loading data for top 100 classes:  99%|█████████▉| 99/100 [01:06<00:00,  1.65it/s]"
     ]
    },
    {
     "name": "stdout",
     "output_type": "stream",
     "text": [
      "Memory usage: 99.3% of 31.91 GB\n",
      "Memory usage: 99.3% of 31.91 GB\n"
     ]
    },
    {
     "name": "stderr",
     "output_type": "stream",
     "text": [
      "Loading data for top 100 classes: 100%|██████████| 100/100 [01:07<00:00,  1.48it/s]"
     ]
    },
    {
     "name": "stdout",
     "output_type": "stream",
     "text": [
      "Memory usage: 99.3% of 31.91 GB\n"
     ]
    },
    {
     "name": "stderr",
     "output_type": "stream",
     "text": [
      "\n"
     ]
    },
    {
     "name": "stdout",
     "output_type": "stream",
     "text": [
      "X shape: (1120, 64, 224, 224, 3)\n",
      "y shape: (1120, 100)\n"
     ]
    }
   ],
   "source": [
    "import numpy as np\n",
    "import os\n",
    "import psutil\n",
    "import gc\n",
    "from tqdm import tqdm\n",
    "from tensorflow.keras.utils import to_categorical\n",
    "\n",
    "# Function to check memory usage\n",
    "def check_memory():\n",
    "    memory = psutil.virtual_memory()\n",
    "    print(f\"Memory usage: {memory.percent}% of {memory.total / (1024 ** 3):.2f} GB\")\n",
    "\n",
    "# Initialize variables\n",
    "sequences = []\n",
    "labels = []\n",
    "batch_size = 5  # Reduced batch size to prevent high memory usage\n",
    "\n",
    "# Start processing the videos\n",
    "for action in tqdm(top_100_classes, desc=\"Loading data for top 100 classes\"):\n",
    "    action_dir = os.path.join(SAVE_PATH, action)\n",
    "\n",
    "    # Check if the directory exists for the action class\n",
    "    if os.path.exists(action_dir):\n",
    "        batch_sequences = []  # Temporary storage for the current batch\n",
    "        batch_labels = []     # Temporary storage for the current batch\n",
    "\n",
    "        for video_file in os.listdir(action_dir):\n",
    "            if video_file.endswith('_frames.npy'):\n",
    "                # Load the processed video frames\n",
    "                video_path = os.path.join(action_dir, video_file)\n",
    "                frames = np.load(video_path)\n",
    "\n",
    "                # Append frames and labels to the current batch\n",
    "                batch_sequences.append(frames)\n",
    "                batch_labels.append(action)\n",
    "\n",
    "                # If batch is full, process it\n",
    "                if len(batch_sequences) == batch_size:\n",
    "                    sequences.extend(batch_sequences)\n",
    "                    labels.extend(batch_labels)\n",
    "\n",
    "                    # Clear the current batch\n",
    "                    batch_sequences = []\n",
    "                    batch_labels = []\n",
    "\n",
    "                    # Check memory usage after processing each batch\n",
    "                    check_memory()\n",
    "                    gc.collect()  # Explicitly clear memory\n",
    "\n",
    "        # Process any remaining videos in the batch\n",
    "        if batch_sequences:\n",
    "            sequences.extend(batch_sequences)\n",
    "            labels.extend(batch_labels)\n",
    "\n",
    "            # Check memory usage after final batch\n",
    "            check_memory()\n",
    "            gc.collect()  # Explicitly clear memory\n",
    "\n",
    "    else:\n",
    "        print(f\"Missing directory for class: {action}\")\n",
    "\n",
    "# Convert sequences and labels to NumPy arrays\n",
    "X = np.array(sequences)\n",
    "y = [top_100_classes.index(label) for label in labels]\n",
    "y = to_categorical(y, num_classes=len(top_100_classes))  # One-hot encode the labels\n",
    "\n",
    "# Print shapes to verify\n",
    "print(f\"X shape: {X.shape}\")\n",
    "print(f\"y shape: {y.shape}\")\n"
   ]
  },
  {
   "cell_type": "code",
   "execution_count": 5,
   "metadata": {
    "id": "i_FKncmjBsod"
   },
   "outputs": [],
   "source": [
    "# Save the data as X_i3d_100.npy and y_i3d_100.npy\n",
    "np.save('./Dataset/final_Dataset/X_i3d_100.npy', X)\n",
    "np.save('./Dataset/final_Dataset/y_i3d_100.npy', y)\n"
   ]
  },
  {
   "cell_type": "markdown",
   "metadata": {
    "id": "AAhmTAOvBteN"
   },
   "source": [
    "## Modeling"
   ]
  },
  {
   "cell_type": "code",
   "execution_count": null,
   "metadata": {
    "colab": {
     "base_uri": "https://localhost:8080/"
    },
    "executionInfo": {
     "elapsed": 11298,
     "status": "ok",
     "timestamp": 1733400857639,
     "user": {
      "displayName": "Aaron Ramirez",
      "userId": "09089953805173967437"
     },
     "user_tz": -540
    },
    "id": "SuDvcBCdtNxv",
    "outputId": "16f7f12a-da88-4f78-a68d-9f94eec01703"
   },
   "outputs": [
    {
     "name": "stdout",
     "output_type": "stream",
     "text": [
      "X_train shape: (255, 64, 224, 224, 3)\n",
      "X_val shape: (64, 64, 224, 224, 3)\n"
     ]
    }
   ],
   "source": [
    "from sklearn.model_selection import train_test_split\n",
    "\n",
    "# Split the data into training and validation sets (80% training, 20% validation)\n",
    "X_train, X_val, y_train, y_val = train_test_split(X, y, test_size=0.2, random_state=42)\n",
    "\n",
    "# Print the shapes to verify\n",
    "print(f\"X_train shape: {X_train.shape}\")\n",
    "print(f\"X_val shape: {X_val.shape}\")\n"
   ]
  },
  {
   "cell_type": "code",
   "execution_count": null,
   "metadata": {
    "id": "RAn4S4xD3mob"
   },
   "outputs": [],
   "source": [
    "import tensorflow as tf\n",
    "import tensorflow_hub as hub\n",
    "import numpy as np\n",
    "\n",
    "# Load the pre-trained I3D model from TensorFlow Hub (Kinetics-based)\n",
    "I3D_model_url = 'https://tfhub.dev/google/i3d/inception_i3d/kinetics400/1'  # Kinetics Pretrained model\n",
    "i3d_model = hub.KerasLayer(I3D_model_url)\n",
    "\n",
    "# Modify the model for WLASL dataset by adding a classification layer\n",
    "model = tf.keras.Sequential([\n",
    "    i3d_model,\n",
    "    tf.keras.layers.Dense(100, activation='softmax')  # 100 classes for top 100 WLASL words\n",
    "])\n",
    "\n",
    "# Compile the model\n",
    "model.compile(optimizer='adam', loss='categorical_crossentropy', metrics=['accuracy'])\n"
   ]
  }
 ],
 "metadata": {
  "accelerator": "GPU",
  "colab": {
   "authorship_tag": "ABX9TyNShqWo1hG5RJNRFBXIBA6d",
   "gpuType": "A100",
   "machine_shape": "hm",
   "mount_file_id": "1KYEW5zkMhtf70XWzkXLa7iK_L0sMjcOr",
   "provenance": []
  },
  "kernelspec": {
   "display_name": "TensorFlow",
   "language": "python",
   "name": "python3"
  },
  "language_info": {
   "codemirror_mode": {
    "name": "ipython",
    "version": 3
   },
   "file_extension": ".py",
   "mimetype": "text/x-python",
   "name": "python",
   "nbconvert_exporter": "python",
   "pygments_lexer": "ipython3",
   "version": "3.9.18"
  }
 },
 "nbformat": 4,
 "nbformat_minor": 0
}

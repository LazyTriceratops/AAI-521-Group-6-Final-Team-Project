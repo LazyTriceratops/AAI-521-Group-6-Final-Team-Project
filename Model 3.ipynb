{
 "cells": [
  {
   "cell_type": "markdown",
   "metadata": {
    "id": "1lEBvAyR-UPM"
   },
   "source": [
    "Paper Based I3D\n"
   ]
  },
  {
   "cell_type": "code",
   "execution_count": null,
   "metadata": {
    "colab": {
     "base_uri": "https://localhost:8080/"
    },
    "executionInfo": {
     "elapsed": 9867,
     "status": "ok",
     "timestamp": 1733328801166,
     "user": {
      "displayName": "Aaron Ramirez",
      "userId": "09089953805173967437"
     },
     "user_tz": -540
    },
    "id": "LRiltpKNK6lJ",
    "outputId": "8f0c6a0e-0877-468e-c414-733805bb5910"
   },
   "outputs": [
    {
     "name": "stdout",
     "output_type": "stream",
     "text": [
      "Drive already mounted at /content/drive; to attempt to forcibly remount, call drive.mount(\"/content/drive\", force_remount=True).\n"
     ]
    }
   ],
   "source": [
    "# from google.colab import drive\n",
    "# drive.mount('/content/drive')"
   ]
  },
  {
   "cell_type": "code",
   "execution_count": null,
   "metadata": {
    "executionInfo": {
     "elapsed": 550,
     "status": "ok",
     "timestamp": 1733328804032,
     "user": {
      "displayName": "Aaron Ramirez",
      "userId": "09089953805173967437"
     },
     "user_tz": -540
    },
    "id": "skF2IAiPKJGR"
   },
   "outputs": [],
   "source": [
    "import cv2\n",
    "import numpy as np\n",
    "import os\n",
    "from concurrent.futures import ThreadPoolExecutor, as_completed\n",
    "from tqdm import tqdm\n",
    "import json\n",
    "\n",
    "# Constants for resizing and sampling\n",
    "NUM_FRAMES = 64  # Number of frames to sample\n",
    "FRAME_HEIGHT = 224  # Resize height for I3D\n",
    "FRAME_WIDTH = 224  # Resize width for I3D\n",
    "CHANNELS = 3  # RGB channels\n",
    "VIDEO_PATH = \"./Dataset/videos\"\n",
    "SAVE_PATH = \"./Dataset/I3D\"\n",
    "METADATA_PATH = \"DataSet/WLASL_v0.3.json\"\n",
    "\n"
   ]
  },
  {
   "cell_type": "code",
   "execution_count": 3,
   "metadata": {
    "colab": {
     "base_uri": "https://localhost:8080/"
    },
    "executionInfo": {
     "elapsed": 1790,
     "status": "ok",
     "timestamp": 1733328809941,
     "user": {
      "displayName": "Aaron Ramirez",
      "userId": "09089953805173967437"
     },
     "user_tz": -540
    },
    "id": "Ce4SdcTgOgje",
    "outputId": "59def741-939f-44ee-95eb-e1ec45959b74"
   },
   "outputs": [
    {
     "name": "stdout",
     "output_type": "stream",
     "text": [
      "Created SAVE_PATH directory: /content/drive/MyDrive/Colab Notebooks/AAI-521/Final Project/I3D_processed\n"
     ]
    }
   ],
   "source": [
    "# Create SAVE_PATH directory if it doesn't exist\n",
    "if not os.path.exists(SAVE_PATH):\n",
    "    os.makedirs(SAVE_PATH)\n",
    "    print(f\"Created SAVE_PATH directory: {SAVE_PATH}\")\n",
    "else:\n",
    "    print(f\"SAVE_PATH already exists: {SAVE_PATH}\")\n",
    "\n",
    "# Load metadata from the JSON file\n",
    "with open(METADATA_PATH, 'r') as f:\n",
    "    metadata = json.load(f)\n",
    "\n",
    "video_label_map = {}\n",
    "for entry in metadata:\n",
    "    label = entry['gloss']  # Action label\n",
    "    for instance in entry['instances']:\n",
    "        video_id = int(instance['video_id'])\n",
    "        video_label_map[video_id] = label  # Map video ID to label"
   ]
  },
  {
   "cell_type": "code",
   "execution_count": 4,
   "metadata": {
    "executionInfo": {
     "elapsed": 288,
     "status": "ok",
     "timestamp": 1733328819724,
     "user": {
      "displayName": "Aaron Ramirez",
      "userId": "09089953805173967437"
     },
     "user_tz": -540
    },
    "id": "-tnp3hGVKDxJ"
   },
   "outputs": [],
   "source": [
    "# Function to preprocess video for I3D\n",
    "def preprocess_video(video_path, num_frames=NUM_FRAMES, target_size=(FRAME_HEIGHT, FRAME_WIDTH)):\n",
    "    \"\"\"Preprocess a video file for I3D input\"\"\"\n",
    "    try:\n",
    "        cap = cv2.VideoCapture(video_path)\n",
    "        frames = []\n",
    "        frame_count = int(cap.get(cv2.CAP_PROP_FRAME_COUNT))  # Total number of frames in the video\n",
    "\n",
    "        if frame_count == 0:\n",
    "            print(f\"Skipping video (no frames found): {video_path}\")\n",
    "            return None\n",
    "\n",
    "        # Sample frames uniformly from the video\n",
    "        for i in range(min(num_frames, frame_count)):\n",
    "            cap.set(cv2.CAP_PROP_POS_FRAMES, int(i * frame_count / num_frames))  # Set the frame position\n",
    "            success, frame = cap.read()\n",
    "\n",
    "            if success:\n",
    "                frame = cv2.resize(frame, target_size)  # Resize frame to target size\n",
    "                frame = cv2.cvtColor(frame, cv2.COLOR_BGR2RGB)  # Convert to RGB\n",
    "                frame = frame.astype(np.float32) / 255.0  # Normalize pixel values (0-1)\n",
    "                frames.append(frame)\n",
    "\n",
    "        cap.release()\n",
    "\n",
    "        frames = np.stack(frames, axis=0)  # Stack frames to create a (num_frames, height, width, channels) tensor\n",
    "\n",
    "        # If fewer frames are available, pad with zeros (optional)\n",
    "        if len(frames) < num_frames:\n",
    "            frames = np.pad(frames, ((0, num_frames - len(frames)), (0, 0), (0, 0), (0, 0)), 'constant')\n",
    "\n",
    "        return frames\n",
    "    except Exception as e:\n",
    "        print(f\"Error processing video {video_path}: {e}\")\n",
    "        return None\n"
   ]
  },
  {
   "cell_type": "code",
   "execution_count": 5,
   "metadata": {
    "executionInfo": {
     "elapsed": 282,
     "status": "ok",
     "timestamp": 1733328821601,
     "user": {
      "displayName": "Aaron Ramirez",
      "userId": "09089953805173967437"
     },
     "user_tz": -540
    },
    "id": "qYIokuvqKDuh"
   },
   "outputs": [],
   "source": [
    "# Process each video file sequentially and save it immediately to free up memory\n",
    "def process_and_save_video(video_file):\n",
    "    \"\"\"Process a single video file and save its frames.\"\"\"\n",
    "    video_path = os.path.join(VIDEO_PATH, video_file)\n",
    "\n",
    "    # Extract the video ID from the file name (assuming video file names are in the format of video_id.mp4)\n",
    "    video_id = int(video_file.split('.')[0])\n",
    "\n",
    "    # Get the label (action) from video_label_map\n",
    "    if video_id in video_label_map:\n",
    "        label = video_label_map[video_id]\n",
    "    else:\n",
    "        print(f\"Warning: No label found for video {video_file}\")\n",
    "        return None\n",
    "\n",
    "    # Preprocess the video\n",
    "    frames = preprocess_video(video_path)\n",
    "\n",
    "    if frames is not None:\n",
    "        # Save the processed frames as a .npy file\n",
    "        action_save_dir = os.path.join(SAVE_PATH, label)\n",
    "        os.makedirs(action_save_dir, exist_ok=True)\n",
    "\n",
    "        # Save processed frames\n",
    "        np.save(os.path.join(action_save_dir, video_file.replace('.mp4', '_frames.npy')), frames)\n",
    "        print(f\"Saved {video_file} as {label}_frames.npy\")\n",
    "        return True\n",
    "\n",
    "    return None"
   ]
  },
  {
   "cell_type": "code",
   "execution_count": 6,
   "metadata": {
    "executionInfo": {
     "elapsed": 17910,
     "status": "ok",
     "timestamp": 1733328841547,
     "user": {
      "displayName": "Aaron Ramirez",
      "userId": "09089953805173967437"
     },
     "user_tz": -540
    },
    "id": "zu9qlrTaaC8I"
   },
   "outputs": [],
   "source": [
    "# Get list of all mp4 files in VIDEO_PATH\n",
    "video_files = [file for file in os.listdir(VIDEO_PATH) if file.endswith('.mp4')]"
   ]
  },
  {
   "cell_type": "code",
   "execution_count": null,
   "metadata": {
    "colab": {
     "base_uri": "https://localhost:8080/"
    },
    "id": "ytmeK6JyKDsV",
    "outputId": "f570baf1-2a1a-445c-b270-a27617371ab6"
   },
   "outputs": [
    {
     "name": "stderr",
     "output_type": "stream",
     "text": [
      "Processing Videos:   0%|          | 1/11980 [00:01<3:34:11,  1.07s/video]"
     ]
    },
    {
     "name": "stdout",
     "output_type": "stream",
     "text": [
      "Saved 65449.mp4 as decide_frames.npy\n"
     ]
    },
    {
     "name": "stderr",
     "output_type": "stream",
     "text": [
      "\rProcessing Videos:   0%|          | 2/11980 [00:02<4:19:03,  1.30s/video]"
     ]
    },
    {
     "name": "stdout",
     "output_type": "stream",
     "text": [
      "Saved 65394.mp4 as conflict_frames.npy\n"
     ]
    },
    {
     "name": "stderr",
     "output_type": "stream",
     "text": [
      "\rProcessing Videos:   0%|          | 3/11980 [00:03<3:28:52,  1.05s/video]"
     ]
    },
    {
     "name": "stdout",
     "output_type": "stream",
     "text": [
      "Saved 65402.mp4 as cool_frames.npy\n"
     ]
    },
    {
     "name": "stderr",
     "output_type": "stream",
     "text": [
      "\rProcessing Videos:   0%|          | 4/11980 [00:04<4:02:02,  1.21s/video]"
     ]
    },
    {
     "name": "stdout",
     "output_type": "stream",
     "text": [
      "Saved 65405.mp4 as copy_frames.npy\n"
     ]
    },
    {
     "name": "stderr",
     "output_type": "stream",
     "text": [
      "\rProcessing Videos:   0%|          | 5/11980 [00:05<3:30:17,  1.05s/video]"
     ]
    },
    {
     "name": "stdout",
     "output_type": "stream",
     "text": [
      "Saved 65397.mp4 as connect_frames.npy\n"
     ]
    },
    {
     "name": "stderr",
     "output_type": "stream",
     "text": [
      "\rProcessing Videos:   0%|          | 6/11980 [00:06<3:45:15,  1.13s/video]"
     ]
    },
    {
     "name": "stdout",
     "output_type": "stream",
     "text": [
      "Saved 65415.mp4 as cousin_frames.npy\n"
     ]
    },
    {
     "name": "stderr",
     "output_type": "stream",
     "text": [
      "\rProcessing Videos:   0%|          | 7/11980 [00:07<3:31:17,  1.06s/video]"
     ]
    },
    {
     "name": "stdout",
     "output_type": "stream",
     "text": [
      "Saved 65438.mp4 as dangerous_frames.npy\n"
     ]
    },
    {
     "name": "stderr",
     "output_type": "stream",
     "text": [
      "\rProcessing Videos:   0%|          | 8/11980 [00:09<4:04:22,  1.22s/video]"
     ]
    },
    {
     "name": "stdout",
     "output_type": "stream",
     "text": [
      "Saved 65453.mp4 as deep_frames.npy\n"
     ]
    },
    {
     "name": "stderr",
     "output_type": "stream",
     "text": [
      "\rProcessing Videos:   0%|          | 9/11980 [00:10<4:16:29,  1.29s/video]"
     ]
    },
    {
     "name": "stdout",
     "output_type": "stream",
     "text": [
      "Saved 65410.mp4 as correct_frames.npy\n"
     ]
    },
    {
     "name": "stderr",
     "output_type": "stream",
     "text": [
      "\rProcessing Videos:   0%|          | 10/11980 [00:11<4:07:35,  1.24s/video]"
     ]
    },
    {
     "name": "stdout",
     "output_type": "stream",
     "text": [
      "Saved 65398.mp4 as consume_frames.npy\n"
     ]
    },
    {
     "name": "stderr",
     "output_type": "stream",
     "text": [
      "\rProcessing Videos:   0%|          | 11/11980 [00:13<4:21:12,  1.31s/video]"
     ]
    },
    {
     "name": "stdout",
     "output_type": "stream",
     "text": [
      "Saved 65392.mp4 as concept_frames.npy\n"
     ]
    },
    {
     "name": "stderr",
     "output_type": "stream",
     "text": [
      "\rProcessing Videos:   0%|          | 12/11980 [00:14<3:51:15,  1.16s/video]"
     ]
    },
    {
     "name": "stdout",
     "output_type": "stream",
     "text": [
      "Saved 65416.mp4 as cover_frames.npy\n"
     ]
    },
    {
     "name": "stderr",
     "output_type": "stream",
     "text": [
      "\rProcessing Videos:   0%|          | 13/11980 [00:15<3:46:26,  1.14s/video]"
     ]
    },
    {
     "name": "stdout",
     "output_type": "stream",
     "text": [
      "Saved 65443.mp4 as daughter_frames.npy\n"
     ]
    },
    {
     "name": "stderr",
     "output_type": "stream",
     "text": [
      "\rProcessing Videos:   0%|          | 14/11980 [00:16<3:37:18,  1.09s/video]"
     ]
    },
    {
     "name": "stdout",
     "output_type": "stream",
     "text": [
      "Saved 65436.mp4 as dancer_frames.npy\n"
     ]
    },
    {
     "name": "stderr",
     "output_type": "stream",
     "text": [
      "\rProcessing Videos:   0%|          | 15/11980 [00:17<3:48:31,  1.15s/video]"
     ]
    },
    {
     "name": "stdout",
     "output_type": "stream",
     "text": [
      "Saved 65434.mp4 as dance_frames.npy\n"
     ]
    },
    {
     "name": "stderr",
     "output_type": "stream",
     "text": [
      "\rProcessing Videos:   0%|          | 16/11980 [00:20<6:01:52,  1.81s/video]"
     ]
    },
    {
     "name": "stdout",
     "output_type": "stream",
     "text": [
      "Saved 65439.mp4 as dark_frames.npy\n"
     ]
    },
    {
     "name": "stderr",
     "output_type": "stream",
     "text": [
      "\rProcessing Videos:   0%|          | 17/11980 [00:22<5:41:51,  1.71s/video]"
     ]
    },
    {
     "name": "stdout",
     "output_type": "stream",
     "text": [
      "Saved 65388.mp4 as complex_frames.npy\n"
     ]
    },
    {
     "name": "stderr",
     "output_type": "stream",
     "text": [
      "\rProcessing Videos:   0%|          | 18/11980 [00:23<5:23:08,  1.62s/video]"
     ]
    },
    {
     "name": "stdout",
     "output_type": "stream",
     "text": [
      "Saved 65444.mp4 as day_frames.npy\n"
     ]
    },
    {
     "name": "stderr",
     "output_type": "stream",
     "text": [
      "\rProcessing Videos:   0%|          | 19/11980 [00:25<5:13:24,  1.57s/video]"
     ]
    },
    {
     "name": "stdout",
     "output_type": "stream",
     "text": [
      "Saved 65412.mp4 as counsel_frames.npy\n"
     ]
    },
    {
     "name": "stderr",
     "output_type": "stream",
     "text": [
      "\rProcessing Videos:   0%|          | 20/11980 [00:26<5:08:28,  1.55s/video]"
     ]
    },
    {
     "name": "stdout",
     "output_type": "stream",
     "text": [
      "Saved 65382.mp4 as comment_frames.npy\n"
     ]
    },
    {
     "name": "stderr",
     "output_type": "stream",
     "text": [
      "\rProcessing Videos:   0%|          | 21/11980 [00:28<4:57:27,  1.49s/video]"
     ]
    },
    {
     "name": "stdout",
     "output_type": "stream",
     "text": [
      "Saved 65442.mp4 as date_frames.npy\n"
     ]
    },
    {
     "name": "stderr",
     "output_type": "stream",
     "text": [
      "\rProcessing Videos:   0%|          | 22/11980 [00:29<4:45:22,  1.43s/video]"
     ]
    },
    {
     "name": "stdout",
     "output_type": "stream",
     "text": [
      "Saved 65400.mp4 as convince_frames.npy\n"
     ]
    },
    {
     "name": "stderr",
     "output_type": "stream",
     "text": [
      "\rProcessing Videos:   0%|          | 23/11980 [00:30<4:11:42,  1.26s/video]"
     ]
    },
    {
     "name": "stdout",
     "output_type": "stream",
     "text": [
      "Saved 65414.mp4 as country_frames.npy\n"
     ]
    },
    {
     "name": "stderr",
     "output_type": "stream",
     "text": [
      "\rProcessing Videos:   0%|          | 24/11980 [00:31<4:18:45,  1.30s/video]"
     ]
    },
    {
     "name": "stdout",
     "output_type": "stream",
     "text": [
      "Saved 65429.mp4 as curious_frames.npy\n"
     ]
    },
    {
     "name": "stderr",
     "output_type": "stream",
     "text": [
      "\rProcessing Videos:   0%|          | 25/11980 [00:32<4:25:48,  1.33s/video]"
     ]
    },
    {
     "name": "stdout",
     "output_type": "stream",
     "text": [
      "Saved 65422.mp4 as crazy_frames.npy\n"
     ]
    },
    {
     "name": "stderr",
     "output_type": "stream",
     "text": [
      "\rProcessing Videos:   0%|          | 26/11980 [00:34<4:29:59,  1.36s/video]"
     ]
    },
    {
     "name": "stdout",
     "output_type": "stream",
     "text": [
      "Saved 65421.mp4 as crazy_frames.npy\n"
     ]
    },
    {
     "name": "stderr",
     "output_type": "stream",
     "text": [
      "\rProcessing Videos:   0%|          | 27/11980 [00:35<3:53:54,  1.17s/video]"
     ]
    },
    {
     "name": "stdout",
     "output_type": "stream",
     "text": [
      "Saved 65413.mp4 as count_frames.npy\n"
     ]
    },
    {
     "name": "stderr",
     "output_type": "stream",
     "text": [
      "\rProcessing Videos:   0%|          | 28/11980 [00:35<3:32:47,  1.07s/video]"
     ]
    },
    {
     "name": "stdout",
     "output_type": "stream",
     "text": [
      "Saved 65427.mp4 as cry_frames.npy\n"
     ]
    },
    {
     "name": "stderr",
     "output_type": "stream",
     "text": [
      "\rProcessing Videos:   0%|          | 29/11980 [00:37<3:49:37,  1.15s/video]"
     ]
    },
    {
     "name": "stdout",
     "output_type": "stream",
     "text": [
      "Saved 65383.mp4 as committee_frames.npy\n"
     ]
    },
    {
     "name": "stderr",
     "output_type": "stream",
     "text": [
      "\rProcessing Videos:   0%|          | 30/11980 [00:38<4:03:00,  1.22s/video]"
     ]
    },
    {
     "name": "stdout",
     "output_type": "stream",
     "text": [
      "Saved 65420.mp4 as crave_frames.npy\n"
     ]
    },
    {
     "name": "stderr",
     "output_type": "stream",
     "text": [
      "\rProcessing Videos:   0%|          | 31/11980 [00:40<4:33:04,  1.37s/video]"
     ]
    },
    {
     "name": "stdout",
     "output_type": "stream",
     "text": [
      "Saved 65393.mp4 as concern_frames.npy\n"
     ]
    },
    {
     "name": "stderr",
     "output_type": "stream",
     "text": [
      "\rProcessing Videos:   0%|          | 32/11980 [00:41<3:55:45,  1.18s/video]"
     ]
    },
    {
     "name": "stdout",
     "output_type": "stream",
     "text": [
      "Saved 65518.mp4 as don't want_frames.npy\n"
     ]
    },
    {
     "name": "stderr",
     "output_type": "stream",
     "text": [
      "\rProcessing Videos:   0%|          | 33/11980 [00:41<3:22:36,  1.02s/video]"
     ]
    },
    {
     "name": "stdout",
     "output_type": "stream",
     "text": [
      "Saved 65540.mp4 as drink_frames.npy\n"
     ]
    },
    {
     "name": "stderr",
     "output_type": "stream",
     "text": [
      "\rProcessing Videos:   0%|          | 34/11980 [00:42<3:02:46,  1.09video/s]"
     ]
    },
    {
     "name": "stdout",
     "output_type": "stream",
     "text": [
      "Saved 65535.mp4 as dress_frames.npy\n"
     ]
    },
    {
     "name": "stderr",
     "output_type": "stream",
     "text": [
      "\rProcessing Videos:   0%|          | 35/11980 [00:43<2:57:29,  1.12video/s]"
     ]
    },
    {
     "name": "stdout",
     "output_type": "stream",
     "text": [
      "Saved 65476.mp4 as diamond_frames.npy\n"
     ]
    },
    {
     "name": "stderr",
     "output_type": "stream",
     "text": [
      "\rProcessing Videos:   0%|          | 36/11980 [00:43<2:40:32,  1.24video/s]"
     ]
    },
    {
     "name": "stdout",
     "output_type": "stream",
     "text": [
      "Saved 65485.mp4 as dirty_frames.npy\n"
     ]
    },
    {
     "name": "stderr",
     "output_type": "stream",
     "text": [
      "\rProcessing Videos:   0%|          | 37/11980 [00:45<3:04:05,  1.08video/s]"
     ]
    },
    {
     "name": "stdout",
     "output_type": "stream",
     "text": [
      "Saved 65461.mp4 as deny_frames.npy\n"
     ]
    },
    {
     "name": "stderr",
     "output_type": "stream",
     "text": [
      "\rProcessing Videos:   0%|          | 38/11980 [00:45<2:58:46,  1.11video/s]"
     ]
    },
    {
     "name": "stdout",
     "output_type": "stream",
     "text": [
      "Saved 65539.mp4 as drink_frames.npy\n"
     ]
    },
    {
     "name": "stderr",
     "output_type": "stream",
     "text": [
      "\rProcessing Videos:   0%|          | 39/11980 [00:46<2:55:30,  1.13video/s]"
     ]
    },
    {
     "name": "stdout",
     "output_type": "stream",
     "text": [
      "Saved 65520.mp4 as door_frames.npy\n"
     ]
    },
    {
     "name": "stderr",
     "output_type": "stream",
     "text": [
      "\rProcessing Videos:   0%|          | 40/11980 [00:48<3:17:32,  1.01video/s]"
     ]
    },
    {
     "name": "stdout",
     "output_type": "stream",
     "text": [
      "Saved 65472.mp4 as develop_frames.npy\n"
     ]
    },
    {
     "name": "stderr",
     "output_type": "stream",
     "text": [
      "\rProcessing Videos:   0%|          | 41/11980 [00:48<2:59:59,  1.11video/s]"
     ]
    },
    {
     "name": "stdout",
     "output_type": "stream",
     "text": [
      "Saved 65499.mp4 as divide_frames.npy\n"
     ]
    },
    {
     "name": "stderr",
     "output_type": "stream",
     "text": [
      "\rProcessing Videos:   0%|          | 42/11980 [00:49<3:02:58,  1.09video/s]"
     ]
    },
    {
     "name": "stdout",
     "output_type": "stream",
     "text": [
      "Saved 65460.mp4 as dentist_frames.npy\n"
     ]
    },
    {
     "name": "stderr",
     "output_type": "stream",
     "text": [
      "\rProcessing Videos:   0%|          | 43/11980 [00:50<2:56:35,  1.13video/s]"
     ]
    },
    {
     "name": "stdout",
     "output_type": "stream",
     "text": [
      "Saved 65533.mp4 as dream_frames.npy\n"
     ]
    },
    {
     "name": "stderr",
     "output_type": "stream",
     "text": [
      "\rProcessing Videos:   0%|          | 44/11980 [00:51<2:47:44,  1.19video/s]"
     ]
    },
    {
     "name": "stdout",
     "output_type": "stream",
     "text": [
      "Saved 65523.mp4 as double_frames.npy\n"
     ]
    },
    {
     "name": "stderr",
     "output_type": "stream",
     "text": [
      "\rProcessing Videos:   0%|          | 45/11980 [00:51<2:37:28,  1.26video/s]"
     ]
    },
    {
     "name": "stdout",
     "output_type": "stream",
     "text": [
      "Saved 65480.mp4 as different_frames.npy\n"
     ]
    },
    {
     "name": "stderr",
     "output_type": "stream",
     "text": [
      "\rProcessing Videos:   0%|          | 46/11980 [00:53<3:10:12,  1.05video/s]"
     ]
    },
    {
     "name": "stdout",
     "output_type": "stream",
     "text": [
      "Saved 65492.mp4 as disgusted_frames.npy\n"
     ]
    },
    {
     "name": "stderr",
     "output_type": "stream",
     "text": [
      "\rProcessing Videos:   0%|          | 47/11980 [00:54<2:57:45,  1.12video/s]"
     ]
    },
    {
     "name": "stdout",
     "output_type": "stream",
     "text": [
      "Saved 65503.mp4 as doctor_frames.npy\n"
     ]
    },
    {
     "name": "stderr",
     "output_type": "stream",
     "text": [
      "\rProcessing Videos:   0%|          | 48/11980 [00:55<3:27:50,  1.05s/video]"
     ]
    },
    {
     "name": "stdout",
     "output_type": "stream",
     "text": [
      "Saved 65464.mp4 as department_frames.npy\n"
     ]
    },
    {
     "name": "stderr",
     "output_type": "stream",
     "text": [
      "\rProcessing Videos:   0%|          | 49/11980 [00:56<3:43:51,  1.13s/video]"
     ]
    },
    {
     "name": "stdout",
     "output_type": "stream",
     "text": [
      "Saved 65457.mp4 as delicious_frames.npy\n"
     ]
    },
    {
     "name": "stderr",
     "output_type": "stream",
     "text": [
      "\rProcessing Videos:   0%|          | 50/11980 [00:57<3:49:22,  1.15s/video]"
     ]
    },
    {
     "name": "stdout",
     "output_type": "stream",
     "text": [
      "Saved 65465.mp4 as depend_frames.npy\n"
     ]
    },
    {
     "name": "stderr",
     "output_type": "stream",
     "text": [
      "\rProcessing Videos:   0%|          | 51/11980 [00:59<3:57:55,  1.20s/video]"
     ]
    },
    {
     "name": "stdout",
     "output_type": "stream",
     "text": [
      "Saved 65494.mp4 as dissolve_frames.npy\n"
     ]
    },
    {
     "name": "stderr",
     "output_type": "stream",
     "text": [
      "\rProcessing Videos:   0%|          | 52/11980 [00:59<3:28:56,  1.05s/video]"
     ]
    },
    {
     "name": "stdout",
     "output_type": "stream",
     "text": [
      "Saved 65504.mp4 as doctor_frames.npy\n"
     ]
    },
    {
     "name": "stderr",
     "output_type": "stream",
     "text": [
      "\rProcessing Videos:   0%|          | 53/11980 [01:01<4:09:34,  1.26s/video]"
     ]
    },
    {
     "name": "stdout",
     "output_type": "stream",
     "text": [
      "Saved 65467.mp4 as desert_frames.npy\n"
     ]
    },
    {
     "name": "stderr",
     "output_type": "stream",
     "text": [
      "\rProcessing Videos:   0%|          | 54/11980 [01:02<4:09:12,  1.25s/video]"
     ]
    },
    {
     "name": "stdout",
     "output_type": "stream",
     "text": [
      "Saved 65477.mp4 as diaper_frames.npy\n"
     ]
    },
    {
     "name": "stderr",
     "output_type": "stream",
     "text": [
      "\rProcessing Videos:   0%|          | 55/11980 [01:04<4:21:29,  1.32s/video]"
     ]
    },
    {
     "name": "stdout",
     "output_type": "stream",
     "text": [
      "Saved 65501.mp4 as dizzy_frames.npy\n"
     ]
    },
    {
     "name": "stderr",
     "output_type": "stream",
     "text": [
      "\rProcessing Videos:   0%|          | 56/11980 [01:05<4:30:28,  1.36s/video]"
     ]
    },
    {
     "name": "stdout",
     "output_type": "stream",
     "text": [
      "Saved 65526.mp4 as down_frames.npy\n"
     ]
    },
    {
     "name": "stderr",
     "output_type": "stream",
     "text": [
      "\rProcessing Videos:   0%|          | 57/11980 [01:09<6:31:13,  1.97s/video]"
     ]
    },
    {
     "name": "stdout",
     "output_type": "stream",
     "text": [
      "Saved 65479.mp4 as die_frames.npy\n"
     ]
    },
    {
     "name": "stderr",
     "output_type": "stream",
     "text": [
      "\rProcessing Videos:   0%|          | 58/11980 [01:14<9:57:33,  3.01s/video]"
     ]
    },
    {
     "name": "stdout",
     "output_type": "stream",
     "text": [
      "Saved 65470.mp4 as dessert_frames.npy\n"
     ]
    },
    {
     "name": "stderr",
     "output_type": "stream",
     "text": [
      "\rProcessing Videos:   0%|          | 59/11980 [01:17<10:14:47,  3.09s/video]"
     ]
    },
    {
     "name": "stdout",
     "output_type": "stream",
     "text": [
      "Saved 65488.mp4 as disconnect_frames.npy\n"
     ]
    },
    {
     "name": "stderr",
     "output_type": "stream",
     "text": [
      "\rProcessing Videos:   1%|          | 60/11980 [01:21<10:36:56,  3.21s/video]"
     ]
    },
    {
     "name": "stdout",
     "output_type": "stream",
     "text": [
      "Saved 65458.mp4 as demand_frames.npy\n"
     ]
    },
    {
     "name": "stderr",
     "output_type": "stream",
     "text": [
      "\rProcessing Videos:   1%|          | 61/11980 [01:23<9:50:25,  2.97s/video] "
     ]
    },
    {
     "name": "stdout",
     "output_type": "stream",
     "text": [
      "Saved 65478.mp4 as dice_frames.npy\n"
     ]
    },
    {
     "name": "stderr",
     "output_type": "stream",
     "text": [
      "\rProcessing Videos:   1%|          | 62/11980 [01:26<9:50:57,  2.98s/video]"
     ]
    },
    {
     "name": "stdout",
     "output_type": "stream",
     "text": [
      "Saved 65468.mp4 as design_frames.npy\n"
     ]
    },
    {
     "name": "stderr",
     "output_type": "stream",
     "text": [
      "\rProcessing Videos:   1%|          | 63/11980 [01:28<8:10:28,  2.47s/video]"
     ]
    },
    {
     "name": "stdout",
     "output_type": "stream",
     "text": [
      "Saved 65474.mp4 as devil_frames.npy\n"
     ]
    },
    {
     "name": "stderr",
     "output_type": "stream",
     "text": [
      "\rProcessing Videos:   1%|          | 64/11980 [01:28<6:30:07,  1.96s/video]"
     ]
    },
    {
     "name": "stdout",
     "output_type": "stream",
     "text": [
      "Saved 65531.mp4 as draw_frames.npy\n"
     ]
    },
    {
     "name": "stderr",
     "output_type": "stream",
     "text": [
      "\rProcessing Videos:   1%|          | 65/11980 [01:30<5:59:40,  1.81s/video]"
     ]
    },
    {
     "name": "stdout",
     "output_type": "stream",
     "text": [
      "Saved 65532.mp4 as drawer_frames.npy\n"
     ]
    },
    {
     "name": "stderr",
     "output_type": "stream",
     "text": [
      "\rProcessing Videos:   1%|          | 66/11980 [01:32<6:45:10,  2.04s/video]"
     ]
    },
    {
     "name": "stdout",
     "output_type": "stream",
     "text": [
      "Saved 65489.mp4 as disconnect_frames.npy\n"
     ]
    },
    {
     "name": "stderr",
     "output_type": "stream",
     "text": [
      "\rProcessing Videos:   1%|          | 67/11980 [01:37<8:55:05,  2.69s/video]"
     ]
    },
    {
     "name": "stdout",
     "output_type": "stream",
     "text": [
      "Saved 65484.mp4 as director_frames.npy\n"
     ]
    },
    {
     "name": "stderr",
     "output_type": "stream",
     "text": [
      "\rProcessing Videos:   1%|          | 68/11980 [01:37<7:01:15,  2.12s/video]"
     ]
    },
    {
     "name": "stdout",
     "output_type": "stream",
     "text": [
      "Saved 65510.mp4 as doll_frames.npy\n"
     ]
    },
    {
     "name": "stderr",
     "output_type": "stream",
     "text": [
      "\rProcessing Videos:   1%|          | 69/11980 [01:41<8:19:31,  2.52s/video]"
     ]
    },
    {
     "name": "stdout",
     "output_type": "stream",
     "text": [
      "Saved 65505.mp4 as document_frames.npy\n"
     ]
    },
    {
     "name": "stderr",
     "output_type": "stream",
     "text": [
      "\rProcessing Videos:   1%|          | 70/11980 [01:46<10:46:05,  3.25s/video]"
     ]
    },
    {
     "name": "stdout",
     "output_type": "stream",
     "text": [
      "Saved 65534.mp4 as dream_frames.npy\n"
     ]
    },
    {
     "name": "stderr",
     "output_type": "stream",
     "text": [
      "\rProcessing Videos:   1%|          | 71/11980 [01:48<9:19:53,  2.82s/video] "
     ]
    },
    {
     "name": "stdout",
     "output_type": "stream",
     "text": [
      "Saved 65491.mp4 as discuss_frames.npy\n"
     ]
    },
    {
     "name": "stderr",
     "output_type": "stream",
     "text": [
      "\rProcessing Videos:   1%|          | 72/11980 [01:50<8:59:09,  2.72s/video]"
     ]
    },
    {
     "name": "stdout",
     "output_type": "stream",
     "text": [
      "Saved 65524.mp4 as doubt_frames.npy\n"
     ]
    },
    {
     "name": "stderr",
     "output_type": "stream",
     "text": [
      "\rProcessing Videos:   1%|          | 73/11980 [01:52<8:21:59,  2.53s/video]"
     ]
    },
    {
     "name": "stdout",
     "output_type": "stream",
     "text": [
      "Saved 65462.mp4 as deodorant_frames.npy\n"
     ]
    },
    {
     "name": "stderr",
     "output_type": "stream",
     "text": [
      "\rProcessing Videos:   1%|          | 74/11980 [01:54<7:10:43,  2.17s/video]"
     ]
    },
    {
     "name": "stdout",
     "output_type": "stream",
     "text": [
      "Saved 65483.mp4 as dinosaur_frames.npy\n"
     ]
    },
    {
     "name": "stderr",
     "output_type": "stream",
     "text": [
      "\rProcessing Videos:   1%|          | 75/11980 [01:55<6:28:37,  1.96s/video]"
     ]
    },
    {
     "name": "stdout",
     "output_type": "stream",
     "text": [
      "Saved 65466.mp4 as depressed_frames.npy\n"
     ]
    },
    {
     "name": "stderr",
     "output_type": "stream",
     "text": [
      "\rProcessing Videos:   1%|          | 76/11980 [01:56<5:46:20,  1.75s/video]"
     ]
    },
    {
     "name": "stdout",
     "output_type": "stream",
     "text": [
      "Saved 65473.mp4 as develop_frames.npy\n"
     ]
    },
    {
     "name": "stderr",
     "output_type": "stream",
     "text": [
      "\rProcessing Videos:   1%|          | 77/11980 [01:58<5:15:38,  1.59s/video]"
     ]
    },
    {
     "name": "stdout",
     "output_type": "stream",
     "text": [
      "Saved 65506.mp4 as dog_frames.npy\n"
     ]
    },
    {
     "name": "stderr",
     "output_type": "stream",
     "text": [
      "\rProcessing Videos:   1%|          | 78/11980 [01:59<4:40:31,  1.41s/video]"
     ]
    },
    {
     "name": "stdout",
     "output_type": "stream",
     "text": [
      "Saved 65507.mp4 as dog_frames.npy\n"
     ]
    },
    {
     "name": "stderr",
     "output_type": "stream",
     "text": [
      "\rProcessing Videos:   1%|          | 79/11980 [02:00<5:03:44,  1.53s/video]"
     ]
    },
    {
     "name": "stdout",
     "output_type": "stream",
     "text": [
      "Saved 65471.mp4 as destroy_frames.npy\n"
     ]
    },
    {
     "name": "stderr",
     "output_type": "stream",
     "text": [
      "\rProcessing Videos:   1%|          | 80/11980 [02:02<5:01:43,  1.52s/video]"
     ]
    },
    {
     "name": "stdout",
     "output_type": "stream",
     "text": [
      "Saved 65522.mp4 as dormitory_frames.npy\n"
     ]
    },
    {
     "name": "stderr",
     "output_type": "stream",
     "text": [
      "\rProcessing Videos:   1%|          | 81/11980 [02:03<4:33:21,  1.38s/video]"
     ]
    },
    {
     "name": "stdout",
     "output_type": "stream",
     "text": [
      "Saved 65495.mp4 as dive_frames.npy\n"
     ]
    },
    {
     "name": "stderr",
     "output_type": "stream",
     "text": [
      "\rProcessing Videos:   1%|          | 82/11980 [02:04<4:40:08,  1.41s/video]"
     ]
    },
    {
     "name": "stdout",
     "output_type": "stream",
     "text": [
      "Saved 65454.mp4 as degree_frames.npy\n"
     ]
    },
    {
     "name": "stderr",
     "output_type": "stream",
     "text": [
      "\rProcessing Videos:   1%|          | 83/11980 [02:06<4:44:52,  1.44s/video]"
     ]
    },
    {
     "name": "stdout",
     "output_type": "stream",
     "text": [
      "Saved 65607.mp4 as egg_frames.npy\n"
     ]
    },
    {
     "name": "stderr",
     "output_type": "stream",
     "text": [
      "\rProcessing Videos:   1%|          | 84/11980 [02:09<6:51:25,  2.08s/video]"
     ]
    },
    {
     "name": "stdout",
     "output_type": "stream",
     "text": [
      "Saved 65627.mp4 as empty_frames.npy\n"
     ]
    },
    {
     "name": "stderr",
     "output_type": "stream",
     "text": [
      "\rProcessing Videos:   1%|          | 85/11980 [02:11<6:47:36,  2.06s/video]"
     ]
    },
    {
     "name": "stdout",
     "output_type": "stream",
     "text": [
      "Saved 65635.mp4 as enjoy_frames.npy\n"
     ]
    },
    {
     "name": "stderr",
     "output_type": "stream",
     "text": [
      "\rProcessing Videos:   1%|          | 86/11980 [02:12<5:31:39,  1.67s/video]"
     ]
    },
    {
     "name": "stdout",
     "output_type": "stream",
     "text": [
      "Saved 65551.mp4 as duck_frames.npy\n"
     ]
    },
    {
     "name": "stderr",
     "output_type": "stream",
     "text": [
      "\rProcessing Videos:   1%|          | 87/11980 [02:14<5:35:12,  1.69s/video]"
     ]
    },
    {
     "name": "stdout",
     "output_type": "stream",
     "text": [
      "Saved 65600.mp4 as easy_frames.npy\n"
     ]
    },
    {
     "name": "stderr",
     "output_type": "stream",
     "text": [
      "\rProcessing Videos:   1%|          | 88/11980 [02:15<4:39:26,  1.41s/video]"
     ]
    },
    {
     "name": "stdout",
     "output_type": "stream",
     "text": [
      "Saved 65544.mp4 as drop_frames.npy\n"
     ]
    },
    {
     "name": "stderr",
     "output_type": "stream",
     "text": [
      "\rProcessing Videos:   1%|          | 89/11980 [02:17<5:21:37,  1.62s/video]"
     ]
    },
    {
     "name": "stdout",
     "output_type": "stream",
     "text": [
      "Saved 65552.mp4 as due_frames.npy\n"
     ]
    },
    {
     "name": "stderr",
     "output_type": "stream",
     "text": [
      "\rProcessing Videos:   1%|          | 90/11980 [02:18<5:17:07,  1.60s/video]"
     ]
    },
    {
     "name": "stdout",
     "output_type": "stream",
     "text": [
      "Saved 65553.mp4 as dumb_frames.npy\n"
     ]
    },
    {
     "name": "stderr",
     "output_type": "stream",
     "text": [
      "\rProcessing Videos:   1%|          | 91/11980 [02:22<7:04:49,  2.14s/video]"
     ]
    },
    {
     "name": "stdout",
     "output_type": "stream",
     "text": [
      "Saved 65644.mp4 as escape_frames.npy\n"
     ]
    },
    {
     "name": "stderr",
     "output_type": "stream",
     "text": [
      "\rProcessing Videos:   1%|          | 92/11980 [02:24<7:01:16,  2.13s/video]"
     ]
    },
    {
     "name": "stdout",
     "output_type": "stream",
     "text": [
      "Saved 65575.mp4 as perfect_frames.npy\n"
     ]
    },
    {
     "name": "stderr",
     "output_type": "stream",
     "text": [
      "\rProcessing Videos:   1%|          | 93/11980 [02:26<7:23:46,  2.24s/video]"
     ]
    },
    {
     "name": "stdout",
     "output_type": "stream",
     "text": [
      "Saved 65588.mp4 as eagle_frames.npy\n"
     ]
    },
    {
     "name": "stderr",
     "output_type": "stream",
     "text": [
      "\rProcessing Videos:   1%|          | 94/11980 [02:30<9:09:04,  2.77s/video]"
     ]
    },
    {
     "name": "stdout",
     "output_type": "stream",
     "text": [
      "Saved 65589.mp4 as eagle_frames.npy\n"
     ]
    },
    {
     "name": "stderr",
     "output_type": "stream",
     "text": [
      "\rProcessing Videos:   1%|          | 95/11980 [02:36<12:12:04,  3.70s/video]"
     ]
    },
    {
     "name": "stdout",
     "output_type": "stream",
     "text": [
      "Saved 65628.mp4 as encourage_frames.npy\n"
     ]
    },
    {
     "name": "stderr",
     "output_type": "stream",
     "text": [
      "\rProcessing Videos:   1%|          | 96/11980 [02:40<12:10:47,  3.69s/video]"
     ]
    },
    {
     "name": "stdout",
     "output_type": "stream",
     "text": [
      "Saved 65650.mp4 as exact_frames.npy\n"
     ]
    },
    {
     "name": "stderr",
     "output_type": "stream",
     "text": [
      "\rProcessing Videos:   1%|          | 97/11980 [02:44<12:44:11,  3.86s/video]"
     ]
    },
    {
     "name": "stdout",
     "output_type": "stream",
     "text": [
      "Saved 65609.mp4 as egypt_frames.npy\n"
     ]
    },
    {
     "name": "stderr",
     "output_type": "stream",
     "text": [
      "\rProcessing Videos:   1%|          | 98/11980 [02:47<11:17:51,  3.42s/video]"
     ]
    },
    {
     "name": "stdout",
     "output_type": "stream",
     "text": [
      "Saved 65649.mp4 as everything_frames.npy\n"
     ]
    },
    {
     "name": "stderr",
     "output_type": "stream",
     "text": [
      "\rProcessing Videos:   1%|          | 99/11980 [02:49<10:45:53,  3.26s/video]"
     ]
    },
    {
     "name": "stdout",
     "output_type": "stream",
     "text": [
      "Saved 65595.mp4 as earring_frames.npy\n"
     ]
    },
    {
     "name": "stderr",
     "output_type": "stream",
     "text": [
      "\rProcessing Videos:   1%|          | 100/11980 [02:50<8:33:20,  2.59s/video]"
     ]
    },
    {
     "name": "stdout",
     "output_type": "stream",
     "text": [
      "Saved 65633.mp4 as engage_frames.npy\n"
     ]
    },
    {
     "name": "stderr",
     "output_type": "stream",
     "text": [
      "\rProcessing Videos:   1%|          | 101/11980 [02:52<7:10:35,  2.17s/video]"
     ]
    },
    {
     "name": "stdout",
     "output_type": "stream",
     "text": [
      "Saved 65617.mp4 as either_frames.npy\n"
     ]
    },
    {
     "name": "stderr",
     "output_type": "stream",
     "text": [
      "\rProcessing Videos:   1%|          | 102/11980 [02:53<5:56:59,  1.80s/video]"
     ]
    },
    {
     "name": "stdout",
     "output_type": "stream",
     "text": [
      "Saved 65618.mp4 as electrician_frames.npy\n"
     ]
    },
    {
     "name": "stderr",
     "output_type": "stream",
     "text": [
      "\rProcessing Videos:   1%|          | 103/11980 [02:54<5:39:27,  1.71s/video]"
     ]
    },
    {
     "name": "stdout",
     "output_type": "stream",
     "text": [
      "Saved 65547.mp4 as drum_frames.npy\n"
     ]
    },
    {
     "name": "stderr",
     "output_type": "stream",
     "text": [
      "\rProcessing Videos:   1%|          | 104/11980 [02:55<5:00:07,  1.52s/video]"
     ]
    },
    {
     "name": "stdout",
     "output_type": "stream",
     "text": [
      "Saved 65634.mp4 as english_frames.npy\n"
     ]
    },
    {
     "name": "stderr",
     "output_type": "stream",
     "text": [
      "\rProcessing Videos:   1%|          | 105/11980 [02:56<4:23:52,  1.33s/video]"
     ]
    },
    {
     "name": "stdout",
     "output_type": "stream",
     "text": [
      "Saved 65591.mp4 as ear_frames.npy\n"
     ]
    },
    {
     "name": "stderr",
     "output_type": "stream",
     "text": [
      "\rProcessing Videos:   1%|          | 106/11980 [02:57<3:53:47,  1.18s/video]"
     ]
    },
    {
     "name": "stdout",
     "output_type": "stream",
     "text": [
      "Saved 65625.mp4 as email_frames.npy\n"
     ]
    },
    {
     "name": "stderr",
     "output_type": "stream",
     "text": [
      "\rProcessing Videos:   1%|          | 107/11980 [02:59<4:30:06,  1.37s/video]"
     ]
    },
    {
     "name": "stdout",
     "output_type": "stream",
     "text": [
      "Saved 65596.mp4 as earthquake_frames.npy\n"
     ]
    },
    {
     "name": "stderr",
     "output_type": "stream",
     "text": [
      "\rProcessing Videos:   1%|          | 108/11980 [03:00<4:11:25,  1.27s/video]"
     ]
    },
    {
     "name": "stdout",
     "output_type": "stream",
     "text": [
      "Saved 65554.mp4 as duty_frames.npy\n"
     ]
    },
    {
     "name": "stderr",
     "output_type": "stream",
     "text": [
      "\rProcessing Videos:   1%|          | 109/11980 [03:01<3:46:09,  1.14s/video]"
     ]
    },
    {
     "name": "stdout",
     "output_type": "stream",
     "text": [
      "Saved 65542.mp4 as drive_frames.npy\n"
     ]
    },
    {
     "name": "stderr",
     "output_type": "stream",
     "text": [
      "\rProcessing Videos:   1%|          | 110/11980 [03:02<3:47:38,  1.15s/video]"
     ]
    },
    {
     "name": "stdout",
     "output_type": "stream",
     "text": [
      "Saved 65548.mp4 as drunk_frames.npy\n"
     ]
    },
    {
     "name": "stderr",
     "output_type": "stream",
     "text": [
      "\rProcessing Videos:   1%|          | 111/11980 [03:05<5:37:26,  1.71s/video]"
     ]
    },
    {
     "name": "stdout",
     "output_type": "stream",
     "text": [
      "Saved 65597.mp4 as east_frames.npy\n"
     ]
    },
    {
     "name": "stderr",
     "output_type": "stream",
     "text": [
      "\rProcessing Videos:   1%|          | 112/11980 [03:10<9:34:50,  2.91s/video]"
     ]
    },
    {
     "name": "stdout",
     "output_type": "stream",
     "text": [
      "Saved 65637.mp4 as enough_frames.npy\n"
     ]
    },
    {
     "name": "stderr",
     "output_type": "stream",
     "text": [
      "\rProcessing Videos:   1%|          | 113/11980 [03:14<9:42:36,  2.95s/video]"
     ]
    },
    {
     "name": "stdout",
     "output_type": "stream",
     "text": [
      "Saved 65647.mp4 as event_frames.npy\n"
     ]
    },
    {
     "name": "stderr",
     "output_type": "stream",
     "text": [
      "\rProcessing Videos:   1%|          | 114/11980 [03:14<7:33:21,  2.29s/video]"
     ]
    },
    {
     "name": "stdout",
     "output_type": "stream",
     "text": [
      "Saved 65556.mp4 as call_frames.npy\n"
     ]
    },
    {
     "name": "stderr",
     "output_type": "stream",
     "text": [
      "\rProcessing Videos:   1%|          | 115/11980 [03:16<7:07:40,  2.16s/video]"
     ]
    },
    {
     "name": "stdout",
     "output_type": "stream",
     "text": [
      "Saved 65549.mp4 as dry_frames.npy\n"
     ]
    },
    {
     "name": "stderr",
     "output_type": "stream",
     "text": [
      "\rProcessing Videos:   1%|          | 116/11980 [03:21<9:33:36,  2.90s/video]"
     ]
    },
    {
     "name": "stdout",
     "output_type": "stream",
     "text": [
      "Saved 65638.mp4 as environment_frames.npy\n"
     ]
    },
    {
     "name": "stderr",
     "output_type": "stream",
     "text": [
      "\rProcessing Videos:   1%|          | 117/11980 [03:24<10:07:33,  3.07s/video]"
     ]
    },
    {
     "name": "stdout",
     "output_type": "stream",
     "text": [
      "Saved 65639.mp4 as environment_frames.npy\n"
     ]
    },
    {
     "name": "stderr",
     "output_type": "stream",
     "text": [
      "\rProcessing Videos:   1%|          | 118/11980 [03:26<8:27:19,  2.57s/video] "
     ]
    },
    {
     "name": "stdout",
     "output_type": "stream",
     "text": [
      "Saved 65599.mp4 as easter_frames.npy\n"
     ]
    },
    {
     "name": "stderr",
     "output_type": "stream",
     "text": [
      "\rProcessing Videos:   1%|          | 119/11980 [03:27<6:57:15,  2.11s/video]"
     ]
    },
    {
     "name": "stdout",
     "output_type": "stream",
     "text": [
      "Saved 65626.mp4 as embarrass_frames.npy\n"
     ]
    },
    {
     "name": "stderr",
     "output_type": "stream",
     "text": [
      "\rProcessing Videos:   1%|          | 120/11980 [03:28<5:54:01,  1.79s/video]"
     ]
    },
    {
     "name": "stdout",
     "output_type": "stream",
     "text": [
      "Saved 65577.mp4 as scold_frames.npy\n"
     ]
    },
    {
     "name": "stderr",
     "output_type": "stream",
     "text": [
      "\rProcessing Videos:   1%|          | 121/11980 [03:29<5:22:21,  1.63s/video]"
     ]
    },
    {
     "name": "stdout",
     "output_type": "stream",
     "text": [
      "Saved 65601.mp4 as eat_frames.npy\n"
     ]
    },
    {
     "name": "stderr",
     "output_type": "stream",
     "text": [
      "\rProcessing Videos:   1%|          | 122/11980 [03:30<5:13:28,  1.59s/video]"
     ]
    },
    {
     "name": "stdout",
     "output_type": "stream",
     "text": [
      "Saved 65640.mp4 as equal_frames.npy\n"
     ]
    },
    {
     "name": "stderr",
     "output_type": "stream",
     "text": [
      "\rProcessing Videos:   1%|          | 123/11980 [03:32<4:47:49,  1.46s/video]"
     ]
    },
    {
     "name": "stdout",
     "output_type": "stream",
     "text": [
      "Saved 65630.mp4 as energy_frames.npy\n"
     ]
    },
    {
     "name": "stderr",
     "output_type": "stream",
     "text": [
      "\rProcessing Videos:   1%|          | 124/11980 [03:33<4:29:14,  1.36s/video]"
     ]
    },
    {
     "name": "stdout",
     "output_type": "stream",
     "text": [
      "Saved 65614.mp4 as eighteen_frames.npy\n"
     ]
    },
    {
     "name": "stderr",
     "output_type": "stream",
     "text": [
      "\rProcessing Videos:   1%|          | 125/11980 [03:34<4:11:21,  1.27s/video]"
     ]
    },
    {
     "name": "stdout",
     "output_type": "stream",
     "text": [
      "Saved 65652.mp4 as example_frames.npy\n"
     ]
    },
    {
     "name": "stderr",
     "output_type": "stream",
     "text": [
      "\rProcessing Videos:   1%|          | 126/11980 [03:35<3:56:06,  1.20s/video]"
     ]
    },
    {
     "name": "stdout",
     "output_type": "stream",
     "text": [
      "Saved 65641.mp4 as erase_frames.npy\n"
     ]
    },
    {
     "name": "stderr",
     "output_type": "stream",
     "text": [
      "\rProcessing Videos:   1%|          | 127/11980 [03:36<4:08:30,  1.26s/video]"
     ]
    },
    {
     "name": "stdout",
     "output_type": "stream",
     "text": [
      "Saved 65606.mp4 as education_frames.npy\n"
     ]
    },
    {
     "name": "stderr",
     "output_type": "stream",
     "text": [
      "\rProcessing Videos:   1%|          | 128/11980 [03:37<3:54:55,  1.19s/video]"
     ]
    },
    {
     "name": "stdout",
     "output_type": "stream",
     "text": [
      "Saved 65654.mp4 as example_frames.npy\n"
     ]
    },
    {
     "name": "stderr",
     "output_type": "stream",
     "text": [
      "\rProcessing Videos:   1%|          | 129/11980 [03:39<4:47:41,  1.46s/video]"
     ]
    },
    {
     "name": "stdout",
     "output_type": "stream",
     "text": [
      "Saved 65558.mp4 as come here_frames.npy\n"
     ]
    },
    {
     "name": "stderr",
     "output_type": "stream",
     "text": [
      "\rProcessing Videos:   1%|          | 130/11980 [03:46<9:41:19,  2.94s/video]"
     ]
    },
    {
     "name": "stdout",
     "output_type": "stream",
     "text": [
      "Saved 65653.mp4 as example_frames.npy\n"
     ]
    },
    {
     "name": "stderr",
     "output_type": "stream",
     "text": [
      "\rProcessing Videos:   1%|          | 131/11980 [03:47<8:29:02,  2.58s/video]"
     ]
    },
    {
     "name": "stdout",
     "output_type": "stream",
     "text": [
      "Saved 65594.mp4 as earn_frames.npy\n"
     ]
    },
    {
     "name": "stderr",
     "output_type": "stream",
     "text": [
      "\rProcessing Videos:   1%|          | 132/11980 [03:49<7:36:00,  2.31s/video]"
     ]
    },
    {
     "name": "stdout",
     "output_type": "stream",
     "text": [
      "Saved 65590.mp4 as ear_frames.npy\n"
     ]
    },
    {
     "name": "stderr",
     "output_type": "stream",
     "text": [
      "\rProcessing Videos:   1%|          | 133/11980 [03:52<7:58:41,  2.42s/video]"
     ]
    },
    {
     "name": "stdout",
     "output_type": "stream",
     "text": [
      "Saved 65620.mp4 as elephant_frames.npy\n"
     ]
    },
    {
     "name": "stderr",
     "output_type": "stream",
     "text": [
      "\rProcessing Videos:   1%|          | 134/11980 [03:53<6:26:29,  1.96s/video]"
     ]
    },
    {
     "name": "stdout",
     "output_type": "stream",
     "text": [
      "Saved 65621.mp4 as elevator_frames.npy\n"
     ]
    },
    {
     "name": "stderr",
     "output_type": "stream",
     "text": [
      "\rProcessing Videos:   1%|          | 135/11980 [03:54<5:26:02,  1.65s/video]"
     ]
    },
    {
     "name": "stdout",
     "output_type": "stream",
     "text": [
      "Saved 65752.mp4 as follow_frames.npy\n"
     ]
    },
    {
     "name": "stderr",
     "output_type": "stream",
     "text": [
      "\rProcessing Videos:   1%|          | 136/11980 [03:55<4:44:19,  1.44s/video]"
     ]
    },
    {
     "name": "stdout",
     "output_type": "stream",
     "text": [
      "Saved 65750.mp4 as fold_frames.npy\n"
     ]
    },
    {
     "name": "stderr",
     "output_type": "stream",
     "text": [
      "\rProcessing Videos:   1%|          | 137/11980 [03:56<5:00:58,  1.52s/video]"
     ]
    },
    {
     "name": "stdout",
     "output_type": "stream",
     "text": [
      "Saved 65739.mp4 as flag_frames.npy\n"
     ]
    },
    {
     "name": "stderr",
     "output_type": "stream",
     "text": [
      "\rProcessing Videos:   1%|          | 138/11980 [03:59<5:52:06,  1.78s/video]"
     ]
    },
    {
     "name": "stdout",
     "output_type": "stream",
     "text": [
      "Saved 65662.mp4 as explode_frames.npy\n"
     ]
    },
    {
     "name": "stderr",
     "output_type": "stream",
     "text": [
      "\rProcessing Videos:   1%|          | 139/11980 [04:00<5:04:34,  1.54s/video]"
     ]
    },
    {
     "name": "stdout",
     "output_type": "stream",
     "text": [
      "Saved 65682.mp4 as far_frames.npy\n"
     ]
    },
    {
     "name": "stderr",
     "output_type": "stream",
     "text": [
      "\rProcessing Videos:   1%|          | 140/11980 [04:01<4:36:18,  1.40s/video]"
     ]
    },
    {
     "name": "stdout",
     "output_type": "stream",
     "text": [
      "Saved 65746.mp4 as flower_frames.npy\n"
     ]
    },
    {
     "name": "stderr",
     "output_type": "stream",
     "text": [
      "\rProcessing Videos:   1%|          | 141/11980 [04:01<3:53:21,  1.18s/video]"
     ]
    },
    {
     "name": "stdout",
     "output_type": "stream",
     "text": [
      "Saved 65721.mp4 as finish_frames.npy\n"
     ]
    },
    {
     "name": "stderr",
     "output_type": "stream",
     "text": [
      "\rProcessing Videos:   1%|          | 142/11980 [04:03<3:47:56,  1.16s/video]"
     ]
    },
    {
     "name": "stdout",
     "output_type": "stream",
     "text": [
      "Saved 65664.mp4 as express_frames.npy\n"
     ]
    },
    {
     "name": "stderr",
     "output_type": "stream",
     "text": [
      "\rProcessing Videos:   1%|          | 143/11980 [04:04<4:32:05,  1.38s/video]"
     ]
    },
    {
     "name": "stdout",
     "output_type": "stream",
     "text": [
      "Saved 65761.mp4 as forget_frames.npy\n"
     ]
    },
    {
     "name": "stderr",
     "output_type": "stream",
     "text": [
      "\rProcessing Videos:   1%|          | 144/11980 [04:07<5:50:13,  1.78s/video]"
     ]
    },
    {
     "name": "stdout",
     "output_type": "stream",
     "text": [
      "Saved 65672.mp4 as fail_frames.npy\n"
     ]
    },
    {
     "name": "stderr",
     "output_type": "stream",
     "text": [
      "\rProcessing Videos:   1%|          | 145/11980 [04:09<6:06:01,  1.86s/video]"
     ]
    },
    {
     "name": "stdout",
     "output_type": "stream",
     "text": [
      "Saved 65685.mp4 as farm_frames.npy\n"
     ]
    },
    {
     "name": "stderr",
     "output_type": "stream",
     "text": [
      "\rProcessing Videos:   1%|          | 146/11980 [04:11<5:53:08,  1.79s/video]"
     ]
    },
    {
     "name": "stdout",
     "output_type": "stream",
     "text": [
      "Saved 65699.mp4 as fence_frames.npy\n"
     ]
    },
    {
     "name": "stderr",
     "output_type": "stream",
     "text": [
      "\rProcessing Videos:   1%|          | 147/11980 [04:14<7:11:16,  2.19s/video]"
     ]
    },
    {
     "name": "stdout",
     "output_type": "stream",
     "text": [
      "Saved 65668.mp4 as face_frames.npy\n"
     ]
    },
    {
     "name": "stderr",
     "output_type": "stream",
     "text": [
      "\rProcessing Videos:   1%|          | 148/11980 [04:19<10:16:55,  3.13s/video]"
     ]
    },
    {
     "name": "stdout",
     "output_type": "stream",
     "text": [
      "Saved 65747.mp4 as flute_frames.npy\n"
     ]
    },
    {
     "name": "stderr",
     "output_type": "stream",
     "text": [
      "\rProcessing Videos:   1%|          | 149/11980 [04:22<9:29:18,  2.89s/video] "
     ]
    },
    {
     "name": "stdout",
     "output_type": "stream",
     "text": [
      "Saved 65696.mp4 as feel_frames.npy\n"
     ]
    },
    {
     "name": "stderr",
     "output_type": "stream",
     "text": [
      "\rProcessing Videos:   1%|▏         | 150/11980 [04:23<8:23:27,  2.55s/video]"
     ]
    },
    {
     "name": "stdout",
     "output_type": "stream",
     "text": [
      "Saved 65731.mp4 as fish_frames.npy\n"
     ]
    },
    {
     "name": "stderr",
     "output_type": "stream",
     "text": [
      "\rProcessing Videos:   1%|▏         | 151/11980 [04:25<7:19:20,  2.23s/video]"
     ]
    },
    {
     "name": "stdout",
     "output_type": "stream",
     "text": [
      "Saved 65744.mp4 as flirt_frames.npy\n"
     ]
    },
    {
     "name": "stderr",
     "output_type": "stream",
     "text": [
      "\rProcessing Videos:   1%|▏         | 152/11980 [04:28<8:16:35,  2.52s/video]"
     ]
    },
    {
     "name": "stdout",
     "output_type": "stream",
     "text": [
      "Saved 65730.mp4 as first_frames.npy\n"
     ]
    },
    {
     "name": "stderr",
     "output_type": "stream",
     "text": [
      "\rProcessing Videos:   1%|▏         | 153/11980 [04:31<9:01:35,  2.75s/video]"
     ]
    },
    {
     "name": "stdout",
     "output_type": "stream",
     "text": [
      "Saved 65677.mp4 as family_frames.npy\n"
     ]
    },
    {
     "name": "stderr",
     "output_type": "stream",
     "text": [
      "\rProcessing Videos:   1%|▏         | 154/11980 [04:33<7:50:07,  2.39s/video]"
     ]
    },
    {
     "name": "stdout",
     "output_type": "stream",
     "text": [
      "Saved 65759.mp4 as forest_frames.npy\n"
     ]
    },
    {
     "name": "stderr",
     "output_type": "stream",
     "text": [
      "\rProcessing Videos:   1%|▏         | 155/11980 [04:34<7:01:25,  2.14s/video]"
     ]
    },
    {
     "name": "stdout",
     "output_type": "stream",
     "text": [
      "Saved 65669.mp4 as face_frames.npy\n"
     ]
    },
    {
     "name": "stderr",
     "output_type": "stream",
     "text": [
      "\rProcessing Videos:   1%|▏         | 156/11980 [04:38<8:46:30,  2.67s/video]"
     ]
    },
    {
     "name": "stdout",
     "output_type": "stream",
     "text": [
      "Saved 65691.mp4 as fast_frames.npy\n"
     ]
    },
    {
     "name": "stderr",
     "output_type": "stream",
     "text": [
      "\rProcessing Videos:   1%|▏         | 157/11980 [04:40<8:07:57,  2.48s/video]"
     ]
    },
    {
     "name": "stdout",
     "output_type": "stream",
     "text": [
      "Saved 65754.mp4 as fool_frames.npy\n"
     ]
    },
    {
     "name": "stderr",
     "output_type": "stream",
     "text": [
      "\rProcessing Videos:   1%|▏         | 158/11980 [04:45<9:48:31,  2.99s/video]"
     ]
    },
    {
     "name": "stdout",
     "output_type": "stream",
     "text": [
      "Saved 65755.mp4 as football_frames.npy\n"
     ]
    },
    {
     "name": "stderr",
     "output_type": "stream",
     "text": [
      "\rProcessing Videos:   1%|▏         | 159/11980 [04:48<10:42:40,  3.26s/video]"
     ]
    },
    {
     "name": "stdout",
     "output_type": "stream",
     "text": [
      "Saved 65760.mp4 as forever_frames.npy\n"
     ]
    },
    {
     "name": "stderr",
     "output_type": "stream",
     "text": [
      "\rProcessing Videos:   1%|▏         | 160/11980 [04:52<10:38:02,  3.24s/video]"
     ]
    },
    {
     "name": "stdout",
     "output_type": "stream",
     "text": [
      "Saved 65655.mp4 as excited_frames.npy\n"
     ]
    },
    {
     "name": "stderr",
     "output_type": "stream",
     "text": [
      "\rProcessing Videos:   1%|▏         | 161/11980 [04:55<10:46:28,  3.28s/video]"
     ]
    },
    {
     "name": "stdout",
     "output_type": "stream",
     "text": [
      "Saved 65757.mp4 as forbid_frames.npy\n"
     ]
    },
    {
     "name": "stderr",
     "output_type": "stream",
     "text": [
      "\rProcessing Videos:   1%|▏         | 162/11980 [04:58<10:16:49,  3.13s/video]"
     ]
    },
    {
     "name": "stdout",
     "output_type": "stream",
     "text": [
      "Saved 65695.mp4 as feedback_frames.npy\n"
     ]
    },
    {
     "name": "stderr",
     "output_type": "stream",
     "text": [
      "\rProcessing Videos:   1%|▏         | 163/11980 [05:00<9:38:54,  2.94s/video] "
     ]
    },
    {
     "name": "stdout",
     "output_type": "stream",
     "text": [
      "Saved 65656.mp4 as excuse_frames.npy\n"
     ]
    },
    {
     "name": "stderr",
     "output_type": "stream",
     "text": [
      "\rProcessing Videos:   1%|▏         | 164/11980 [05:03<9:44:14,  2.97s/video]"
     ]
    },
    {
     "name": "stdout",
     "output_type": "stream",
     "text": [
      "Saved 65692.mp4 as fat_frames.npy\n"
     ]
    },
    {
     "name": "stderr",
     "output_type": "stream",
     "text": [
      "\rProcessing Videos:   1%|▏         | 165/11980 [05:05<8:43:57,  2.66s/video]"
     ]
    },
    {
     "name": "stdout",
     "output_type": "stream",
     "text": [
      "Saved 65762.mp4 as fork_frames.npy\n"
     ]
    },
    {
     "name": "stderr",
     "output_type": "stream",
     "text": [
      "\rProcessing Videos:   1%|▏         | 166/11980 [05:08<9:08:44,  2.79s/video]"
     ]
    },
    {
     "name": "stdout",
     "output_type": "stream",
     "text": [
      "Saved 65690.mp4 as fast_frames.npy\n"
     ]
    },
    {
     "name": "stderr",
     "output_type": "stream",
     "text": [
      "\rProcessing Videos:   1%|▏         | 167/11980 [05:12<9:33:08,  2.91s/video]"
     ]
    },
    {
     "name": "stdout",
     "output_type": "stream",
     "text": [
      "Saved 65659.mp4 as experience_frames.npy\n"
     ]
    },
    {
     "name": "stderr",
     "output_type": "stream",
     "text": [
      "\rProcessing Videos:   1%|▏         | 168/11980 [05:13<7:39:51,  2.34s/video]"
     ]
    },
    {
     "name": "stdout",
     "output_type": "stream",
     "text": [
      "Saved 65671.mp4 as faculty_frames.npy\n"
     ]
    },
    {
     "name": "stderr",
     "output_type": "stream",
     "text": [
      "\rProcessing Videos:   1%|▏         | 169/11980 [05:14<6:52:36,  2.10s/video]"
     ]
    },
    {
     "name": "stdout",
     "output_type": "stream",
     "text": [
      "Saved 65734.mp4 as five_frames.npy\n"
     ]
    },
    {
     "name": "stderr",
     "output_type": "stream",
     "text": [
      "\rProcessing Videos:   1%|▏         | 170/11980 [05:17<7:21:07,  2.24s/video]"
     ]
    },
    {
     "name": "stdout",
     "output_type": "stream",
     "text": [
      "Saved 65665.mp4 as eye_frames.npy\n"
     ]
    },
    {
     "name": "stderr",
     "output_type": "stream",
     "text": [
      "\rProcessing Videos:   1%|▏         | 171/11980 [05:18<6:29:55,  1.98s/video]"
     ]
    },
    {
     "name": "stdout",
     "output_type": "stream",
     "text": [
      "Saved 65732.mp4 as fishing_frames.npy\n"
     ]
    },
    {
     "name": "stderr",
     "output_type": "stream",
     "text": [
      "\rProcessing Videos:   1%|▏         | 172/11980 [05:19<5:50:58,  1.78s/video]"
     ]
    },
    {
     "name": "stdout",
     "output_type": "stream",
     "text": [
      "Saved 65660.mp4 as experiment_frames.npy\n"
     ]
    },
    {
     "name": "stderr",
     "output_type": "stream",
     "text": [
      "\rProcessing Videos:   1%|▏         | 173/11980 [05:21<5:40:56,  1.73s/video]"
     ]
    },
    {
     "name": "stdout",
     "output_type": "stream",
     "text": [
      "Saved 65667.mp4 as eyes_frames.npy\n"
     ]
    },
    {
     "name": "stderr",
     "output_type": "stream",
     "text": [
      "\rProcessing Videos:   1%|▏         | 174/11980 [05:22<4:44:28,  1.45s/video]"
     ]
    },
    {
     "name": "stdout",
     "output_type": "stream",
     "text": [
      "Saved 65657.mp4 as exercise_frames.npy\n"
     ]
    },
    {
     "name": "stderr",
     "output_type": "stream",
     "text": [
      "\rProcessing Videos:   1%|▏         | 175/11980 [05:22<3:59:38,  1.22s/video]"
     ]
    },
    {
     "name": "stdout",
     "output_type": "stream",
     "text": [
      "Saved 65711.mp4 as fight_frames.npy\n"
     ]
    },
    {
     "name": "stderr",
     "output_type": "stream",
     "text": [
      "\rProcessing Videos:   1%|▏         | 176/11980 [05:23<3:33:30,  1.09s/video]"
     ]
    },
    {
     "name": "stdout",
     "output_type": "stream",
     "text": [
      "Saved 65689.mp4 as fast_frames.npy\n"
     ]
    },
    {
     "name": "stderr",
     "output_type": "stream",
     "text": [
      "\rProcessing Videos:   1%|▏         | 177/11980 [05:24<3:06:06,  1.06video/s]"
     ]
    },
    {
     "name": "stdout",
     "output_type": "stream",
     "text": [
      "Saved 65674.mp4 as fake_frames.npy\n"
     ]
    },
    {
     "name": "stderr",
     "output_type": "stream",
     "text": [
      "\rProcessing Videos:   1%|▏         | 178/11980 [05:25<2:55:50,  1.12video/s]"
     ]
    },
    {
     "name": "stdout",
     "output_type": "stream",
     "text": [
      "Saved 65751.mp4 as follow_frames.npy\n"
     ]
    },
    {
     "name": "stderr",
     "output_type": "stream",
     "text": [
      "\rProcessing Videos:   1%|▏         | 179/11980 [05:26<3:00:00,  1.09video/s]"
     ]
    },
    {
     "name": "stdout",
     "output_type": "stream",
     "text": [
      "Saved 65729.mp4 as first_frames.npy\n"
     ]
    },
    {
     "name": "stderr",
     "output_type": "stream",
     "text": [
      "\rProcessing Videos:   2%|▏         | 180/11980 [05:27<3:08:27,  1.04video/s]"
     ]
    },
    {
     "name": "stdout",
     "output_type": "stream",
     "text": [
      "Saved 65678.mp4 as famous_frames.npy\n"
     ]
    },
    {
     "name": "stderr",
     "output_type": "stream",
     "text": [
      "\rProcessing Videos:   2%|▏         | 181/11980 [05:28<3:06:45,  1.05video/s]"
     ]
    },
    {
     "name": "stdout",
     "output_type": "stream",
     "text": [
      "Saved 65694.mp4 as favorite_frames.npy\n"
     ]
    },
    {
     "name": "stderr",
     "output_type": "stream",
     "text": [
      "\rProcessing Videos:   2%|▏         | 182/11980 [05:28<2:53:31,  1.13video/s]"
     ]
    },
    {
     "name": "stdout",
     "output_type": "stream",
     "text": [
      "Saved 65756.mp4 as for_frames.npy\n"
     ]
    },
    {
     "name": "stderr",
     "output_type": "stream",
     "text": [
      "\rProcessing Videos:   2%|▏         | 183/11980 [05:29<2:45:04,  1.19video/s]"
     ]
    },
    {
     "name": "stdout",
     "output_type": "stream",
     "text": [
      "Saved 65726.mp4 as firefighter_frames.npy\n"
     ]
    },
    {
     "name": "stderr",
     "output_type": "stream",
     "text": [
      "\rProcessing Videos:   2%|▏         | 184/11980 [05:31<3:32:17,  1.08s/video]"
     ]
    },
    {
     "name": "stdout",
     "output_type": "stream",
     "text": [
      "Saved 65748.mp4 as fly_frames.npy\n"
     ]
    },
    {
     "name": "stderr",
     "output_type": "stream",
     "text": [
      "\rProcessing Videos:   2%|▏         | 185/11980 [05:32<3:40:20,  1.12s/video]"
     ]
    },
    {
     "name": "stdout",
     "output_type": "stream",
     "text": [
      "Saved 65728.mp4 as first_frames.npy\n"
     ]
    },
    {
     "name": "stderr",
     "output_type": "stream",
     "text": [
      "\rProcessing Videos:   2%|▏         | 186/11980 [05:33<3:34:23,  1.09s/video]"
     ]
    },
    {
     "name": "stdout",
     "output_type": "stream",
     "text": [
      "Saved 65680.mp4 as fancy_frames.npy\n"
     ]
    },
    {
     "name": "stderr",
     "output_type": "stream",
     "text": [
      "\rProcessing Videos:   2%|▏         | 187/11980 [05:34<3:27:49,  1.06s/video]"
     ]
    },
    {
     "name": "stdout",
     "output_type": "stream",
     "text": [
      "Saved 65785.mp4 as from_frames.npy\n"
     ]
    },
    {
     "name": "stderr",
     "output_type": "stream",
     "text": [
      "\rProcessing Videos:   2%|▏         | 188/11980 [05:35<3:24:41,  1.04s/video]"
     ]
    },
    {
     "name": "stdout",
     "output_type": "stream",
     "text": [
      "Saved 65780.mp4 as french fries_frames.npy\n"
     ]
    },
    {
     "name": "stderr",
     "output_type": "stream",
     "text": [
      "\rProcessing Videos:   2%|▏         | 189/11980 [05:36<3:48:24,  1.16s/video]"
     ]
    },
    {
     "name": "stdout",
     "output_type": "stream",
     "text": [
      "Saved 65815.mp4 as ghost_frames.npy\n"
     ]
    },
    {
     "name": "stderr",
     "output_type": "stream",
     "text": [
      "\rProcessing Videos:   2%|▏         | 190/11980 [05:38<4:04:07,  1.24s/video]"
     ]
    },
    {
     "name": "stdout",
     "output_type": "stream",
     "text": [
      "Saved 65847.mp4 as grandmother_frames.npy\n"
     ]
    },
    {
     "name": "stderr",
     "output_type": "stream",
     "text": [
      "\rProcessing Videos:   2%|▏         | 191/11980 [05:39<3:56:05,  1.20s/video]"
     ]
    },
    {
     "name": "stdout",
     "output_type": "stream",
     "text": [
      "Saved 65775.mp4 as fox_frames.npy\n"
     ]
    },
    {
     "name": "stderr",
     "output_type": "stream",
     "text": [
      "\rProcessing Videos:   2%|▏         | 192/11980 [05:41<5:07:59,  1.57s/video]"
     ]
    },
    {
     "name": "stdout",
     "output_type": "stream",
     "text": [
      "Saved 65843.mp4 as graduate_frames.npy\n"
     ]
    },
    {
     "name": "stderr",
     "output_type": "stream",
     "text": [
      "\rProcessing Videos:   2%|▏         | 193/11980 [05:43<5:04:50,  1.55s/video]"
     ]
    },
    {
     "name": "stdout",
     "output_type": "stream",
     "text": [
      "Saved 65779.mp4 as freeze_frames.npy\n"
     ]
    },
    {
     "name": "stderr",
     "output_type": "stream",
     "text": [
      "\rProcessing Videos:   2%|▏         | 194/11980 [05:46<6:14:10,  1.90s/video]"
     ]
    },
    {
     "name": "stdout",
     "output_type": "stream",
     "text": [
      "Saved 65783.mp4 as friendly_frames.npy\n"
     ]
    },
    {
     "name": "stderr",
     "output_type": "stream",
     "text": [
      "\rProcessing Videos:   2%|▏         | 195/11980 [05:48<7:00:49,  2.14s/video]"
     ]
    },
    {
     "name": "stdout",
     "output_type": "stream",
     "text": [
      "Saved 65854.mp4 as green_frames.npy\n"
     ]
    },
    {
     "name": "stderr",
     "output_type": "stream",
     "text": [
      "\rProcessing Videos:   2%|▏         | 196/11980 [05:50<6:41:04,  2.04s/video]"
     ]
    },
    {
     "name": "stdout",
     "output_type": "stream",
     "text": [
      "Saved 65784.mp4 as frog_frames.npy\n"
     ]
    },
    {
     "name": "stderr",
     "output_type": "stream",
     "text": [
      "\rProcessing Videos:   2%|▏         | 197/11980 [05:52<6:13:26,  1.90s/video]"
     ]
    },
    {
     "name": "stdout",
     "output_type": "stream",
     "text": [
      "Saved 65829.mp4 as goal_frames.npy\n"
     ]
    },
    {
     "name": "stderr",
     "output_type": "stream",
     "text": [
      "\rProcessing Videos:   2%|▏         | 198/11980 [05:53<5:35:08,  1.71s/video]"
     ]
    },
    {
     "name": "stdout",
     "output_type": "stream",
     "text": [
      "Saved 65840.mp4 as government_frames.npy\n"
     ]
    },
    {
     "name": "stderr",
     "output_type": "stream",
     "text": [
      "\rProcessing Videos:   2%|▏         | 199/11980 [05:54<5:12:40,  1.59s/video]"
     ]
    },
    {
     "name": "stdout",
     "output_type": "stream",
     "text": [
      "Saved 65806.mp4 as germany_frames.npy\n"
     ]
    },
    {
     "name": "stderr",
     "output_type": "stream",
     "text": [
      "\rProcessing Videos:   2%|▏         | 200/11980 [05:55<4:47:06,  1.46s/video]"
     ]
    },
    {
     "name": "stdout",
     "output_type": "stream",
     "text": [
      "Saved 65816.mp4 as giraffe_frames.npy\n"
     ]
    },
    {
     "name": "stderr",
     "output_type": "stream",
     "text": [
      "\rProcessing Videos:   2%|▏         | 201/11980 [05:58<5:36:08,  1.71s/video]"
     ]
    },
    {
     "name": "stdout",
     "output_type": "stream",
     "text": [
      "Saved 65845.mp4 as grammar_frames.npy\n"
     ]
    },
    {
     "name": "stderr",
     "output_type": "stream",
     "text": [
      "\rProcessing Videos:   2%|▏         | 202/11980 [05:59<4:53:41,  1.50s/video]"
     ]
    },
    {
     "name": "stdout",
     "output_type": "stream",
     "text": [
      "Saved 65798.mp4 as future_frames.npy\n"
     ]
    },
    {
     "name": "stderr",
     "output_type": "stream",
     "text": [
      "\rProcessing Videos:   2%|▏         | 203/11980 [06:00<4:19:45,  1.32s/video]"
     ]
    },
    {
     "name": "stdout",
     "output_type": "stream",
     "text": [
      "Saved 65804.mp4 as gay_frames.npy\n"
     ]
    },
    {
     "name": "stderr",
     "output_type": "stream",
     "text": [
      "\rProcessing Videos:   2%|▏         | 204/11980 [06:00<3:57:53,  1.21s/video]"
     ]
    },
    {
     "name": "stdout",
     "output_type": "stream",
     "text": [
      "Saved 65822.mp4 as glasses_frames.npy\n"
     ]
    },
    {
     "name": "stderr",
     "output_type": "stream",
     "text": [
      "\rProcessing Videos:   2%|▏         | 205/11980 [06:01<3:32:12,  1.08s/video]"
     ]
    },
    {
     "name": "stdout",
     "output_type": "stream",
     "text": [
      "Saved 65781.mp4 as friday_frames.npy\n"
     ]
    },
    {
     "name": "stderr",
     "output_type": "stream",
     "text": [
      "\rProcessing Videos:   2%|▏         | 206/11980 [06:02<3:23:45,  1.04s/video]"
     ]
    },
    {
     "name": "stdout",
     "output_type": "stream",
     "text": [
      "Saved 65808.mp4 as get_frames.npy\n"
     ]
    },
    {
     "name": "stderr",
     "output_type": "stream",
     "text": [
      "\rProcessing Videos:   2%|▏         | 207/11980 [06:03<3:14:28,  1.01video/s]"
     ]
    },
    {
     "name": "stdout",
     "output_type": "stream",
     "text": [
      "Saved 65789.mp4 as fruit_frames.npy\n"
     ]
    },
    {
     "name": "stderr",
     "output_type": "stream",
     "text": [
      "\rProcessing Videos:   2%|▏         | 208/11980 [06:04<3:00:15,  1.09video/s]"
     ]
    },
    {
     "name": "stdout",
     "output_type": "stream",
     "text": [
      "Saved 65838.mp4 as gorilla_frames.npy\n"
     ]
    },
    {
     "name": "stderr",
     "output_type": "stream",
     "text": [
      "\rProcessing Videos:   2%|▏         | 209/11980 [06:04<2:42:44,  1.21video/s]"
     ]
    },
    {
     "name": "stdout",
     "output_type": "stream",
     "text": [
      "Saved 65814.mp4 as get up_frames.npy\n"
     ]
    },
    {
     "name": "stderr",
     "output_type": "stream",
     "text": [
      "\rProcessing Videos:   2%|▏         | 210/11980 [06:05<2:36:54,  1.25video/s]"
     ]
    },
    {
     "name": "stdout",
     "output_type": "stream",
     "text": [
      "Saved 65821.mp4 as glass_frames.npy\n"
     ]
    },
    {
     "name": "stderr",
     "output_type": "stream",
     "text": [
      "\rProcessing Videos:   2%|▏         | 211/11980 [06:06<2:54:55,  1.12video/s]"
     ]
    },
    {
     "name": "stdout",
     "output_type": "stream",
     "text": [
      "Saved 65803.mp4 as gather_frames.npy\n"
     ]
    },
    {
     "name": "stderr",
     "output_type": "stream",
     "text": [
      "\rProcessing Videos:   2%|▏         | 212/11980 [06:07<2:44:37,  1.19video/s]"
     ]
    },
    {
     "name": "stdout",
     "output_type": "stream",
     "text": [
      "Saved 65793.mp4 as fun_frames.npy\n"
     ]
    },
    {
     "name": "stderr",
     "output_type": "stream",
     "text": [
      "\rProcessing Videos:   2%|▏         | 213/11980 [06:08<2:44:33,  1.19video/s]"
     ]
    },
    {
     "name": "stdout",
     "output_type": "stream",
     "text": [
      "Saved 65850.mp4 as grass_frames.npy\n"
     ]
    },
    {
     "name": "stderr",
     "output_type": "stream",
     "text": [
      "\rProcessing Videos:   2%|▏         | 214/11980 [06:09<2:51:20,  1.14video/s]"
     ]
    },
    {
     "name": "stdout",
     "output_type": "stream",
     "text": [
      "Saved 65833.mp4 as golf_frames.npy\n"
     ]
    },
    {
     "name": "stderr",
     "output_type": "stream",
     "text": [
      "\rProcessing Videos:   2%|▏         | 215/11980 [06:10<2:57:23,  1.11video/s]"
     ]
    },
    {
     "name": "stdout",
     "output_type": "stream",
     "text": [
      "Saved 65797.mp4 as future_frames.npy\n"
     ]
    },
    {
     "name": "stderr",
     "output_type": "stream",
     "text": [
      "\rProcessing Videos:   2%|▏         | 216/11980 [06:11<3:00:35,  1.09video/s]"
     ]
    },
    {
     "name": "stdout",
     "output_type": "stream",
     "text": [
      "Saved 65852.mp4 as gray_frames.npy\n"
     ]
    },
    {
     "name": "stderr",
     "output_type": "stream",
     "text": [
      "\rProcessing Videos:   2%|▏         | 217/11980 [06:12<3:05:26,  1.06video/s]"
     ]
    },
    {
     "name": "stdout",
     "output_type": "stream",
     "text": [
      "Saved 65777.mp4 as france_frames.npy\n"
     ]
    },
    {
     "name": "stderr",
     "output_type": "stream",
     "text": [
      "\rProcessing Videos:   2%|▏         | 218/11980 [06:13<2:58:57,  1.10video/s]"
     ]
    },
    {
     "name": "stdout",
     "output_type": "stream",
     "text": [
      "Saved 65830.mp4 as goat_frames.npy\n"
     ]
    },
    {
     "name": "stderr",
     "output_type": "stream",
     "text": [
      "\rProcessing Videos:   2%|▏         | 219/11980 [06:13<2:59:17,  1.09video/s]"
     ]
    },
    {
     "name": "stdout",
     "output_type": "stream",
     "text": [
      "Saved 65800.mp4 as game_frames.npy\n"
     ]
    },
    {
     "name": "stderr",
     "output_type": "stream",
     "text": [
      "\rProcessing Videos:   2%|▏         | 220/11980 [06:15<3:12:44,  1.02video/s]"
     ]
    },
    {
     "name": "stdout",
     "output_type": "stream",
     "text": [
      "Saved 65796.mp4 as function_frames.npy\n"
     ]
    },
    {
     "name": "stderr",
     "output_type": "stream",
     "text": [
      "\rProcessing Videos:   2%|▏         | 221/11980 [06:16<3:12:30,  1.02video/s]"
     ]
    },
    {
     "name": "stdout",
     "output_type": "stream",
     "text": [
      "Saved 65834.mp4 as gone_frames.npy\n"
     ]
    },
    {
     "name": "stderr",
     "output_type": "stream",
     "text": [
      "\rProcessing Videos:   2%|▏         | 222/11980 [06:17<3:53:24,  1.19s/video]"
     ]
    },
    {
     "name": "stdout",
     "output_type": "stream",
     "text": [
      "Saved 65786.mp4 as front_frames.npy\n"
     ]
    },
    {
     "name": "stderr",
     "output_type": "stream",
     "text": [
      "\rProcessing Videos:   2%|▏         | 223/11980 [06:18<3:24:06,  1.04s/video]"
     ]
    },
    {
     "name": "stdout",
     "output_type": "stream",
     "text": [
      "Saved 65802.mp4 as gas_frames.npy\n"
     ]
    },
    {
     "name": "stderr",
     "output_type": "stream",
     "text": [
      "\rProcessing Videos:   2%|▏         | 224/11980 [06:19<3:08:42,  1.04video/s]"
     ]
    },
    {
     "name": "stdout",
     "output_type": "stream",
     "text": [
      "Saved 65768.mp4 as four_frames.npy\n"
     ]
    },
    {
     "name": "stderr",
     "output_type": "stream",
     "text": [
      "\rProcessing Videos:   2%|▏         | 225/11980 [06:20<3:15:31,  1.00video/s]"
     ]
    },
    {
     "name": "stdout",
     "output_type": "stream",
     "text": [
      "Saved 65799.mp4 as gallaudet_frames.npy\n"
     ]
    },
    {
     "name": "stderr",
     "output_type": "stream",
     "text": [
      "\rProcessing Videos:   2%|▏         | 226/11980 [06:21<3:10:39,  1.03video/s]"
     ]
    },
    {
     "name": "stdout",
     "output_type": "stream",
     "text": [
      "Saved 65846.mp4 as grandfather_frames.npy\n"
     ]
    },
    {
     "name": "stderr",
     "output_type": "stream",
     "text": [
      "\rProcessing Videos:   2%|▏         | 227/11980 [06:22<3:08:11,  1.04video/s]"
     ]
    },
    {
     "name": "stdout",
     "output_type": "stream",
     "text": [
      "Saved 65764.mp4 as former_frames.npy\n"
     ]
    },
    {
     "name": "stderr",
     "output_type": "stream",
     "text": [
      "\rProcessing Videos:   2%|▏         | 228/11980 [06:23<3:06:48,  1.05video/s]"
     ]
    },
    {
     "name": "stdout",
     "output_type": "stream",
     "text": [
      "Saved 65820.mp4 as give up_frames.npy\n"
     ]
    },
    {
     "name": "stderr",
     "output_type": "stream",
     "text": [
      "\rProcessing Videos:   2%|▏         | 229/11980 [06:23<2:49:57,  1.15video/s]"
     ]
    },
    {
     "name": "stdout",
     "output_type": "stream",
     "text": [
      "Saved 65832.mp4 as god_frames.npy\n"
     ]
    },
    {
     "name": "stderr",
     "output_type": "stream",
     "text": [
      "\rProcessing Videos:   2%|▏         | 230/11980 [06:24<2:49:49,  1.15video/s]"
     ]
    },
    {
     "name": "stdout",
     "output_type": "stream",
     "text": [
      "Saved 65859.mp4 as group_frames.npy\n"
     ]
    },
    {
     "name": "stderr",
     "output_type": "stream",
     "text": [
      "\rProcessing Videos:   2%|▏         | 231/11980 [06:25<2:47:09,  1.17video/s]"
     ]
    },
    {
     "name": "stdout",
     "output_type": "stream",
     "text": [
      "Saved 65835.mp4 as good_frames.npy\n"
     ]
    },
    {
     "name": "stderr",
     "output_type": "stream",
     "text": [
      "\rProcessing Videos:   2%|▏         | 232/11980 [06:26<2:50:48,  1.15video/s]"
     ]
    },
    {
     "name": "stdout",
     "output_type": "stream",
     "text": [
      "Saved 65782.mp4 as friend_frames.npy\n"
     ]
    },
    {
     "name": "stderr",
     "output_type": "stream",
     "text": [
      "\rProcessing Videos:   2%|▏         | 233/11980 [06:27<2:51:30,  1.14video/s]"
     ]
    },
    {
     "name": "stdout",
     "output_type": "stream",
     "text": [
      "Saved 65853.mp4 as greece_frames.npy\n"
     ]
    },
    {
     "name": "stderr",
     "output_type": "stream",
     "text": [
      "\rProcessing Videos:   2%|▏         | 234/11980 [06:27<2:38:01,  1.24video/s]"
     ]
    },
    {
     "name": "stdout",
     "output_type": "stream",
     "text": [
      "Saved 65849.mp4 as grapes_frames.npy\n"
     ]
    },
    {
     "name": "stderr",
     "output_type": "stream",
     "text": [
      "\rProcessing Videos:   2%|▏         | 235/11980 [06:28<2:29:13,  1.31video/s]"
     ]
    },
    {
     "name": "stdout",
     "output_type": "stream",
     "text": [
      "Saved 65824.mp4 as go_frames.npy\n"
     ]
    },
    {
     "name": "stderr",
     "output_type": "stream",
     "text": [
      "\rProcessing Videos:   2%|▏         | 236/11980 [06:29<2:24:08,  1.36video/s]"
     ]
    },
    {
     "name": "stdout",
     "output_type": "stream",
     "text": [
      "Saved 65817.mp4 as girl_frames.npy\n"
     ]
    },
    {
     "name": "stderr",
     "output_type": "stream",
     "text": [
      "\rProcessing Videos:   2%|▏         | 237/11980 [06:30<2:30:06,  1.30video/s]"
     ]
    },
    {
     "name": "stdout",
     "output_type": "stream",
     "text": [
      "Saved 65841.mp4 as grab_frames.npy\n"
     ]
    },
    {
     "name": "stderr",
     "output_type": "stream",
     "text": [
      "\rProcessing Videos:   2%|▏         | 238/11980 [06:30<2:33:01,  1.28video/s]"
     ]
    },
    {
     "name": "stdout",
     "output_type": "stream",
     "text": [
      "Saved 65778.mp4 as free_frames.npy\n"
     ]
    },
    {
     "name": "stderr",
     "output_type": "stream",
     "text": [
      "\rProcessing Videos:   2%|▏         | 239/11980 [06:33<4:16:04,  1.31s/video]"
     ]
    },
    {
     "name": "stdout",
     "output_type": "stream",
     "text": [
      "Saved 65774.mp4 as fourth_frames.npy\n"
     ]
    },
    {
     "name": "stderr",
     "output_type": "stream",
     "text": [
      "\rProcessing Videos:   2%|▏         | 240/11980 [06:34<3:48:57,  1.17s/video]"
     ]
    },
    {
     "name": "stdout",
     "output_type": "stream",
     "text": [
      "Saved 65792.mp4 as full_frames.npy\n"
     ]
    },
    {
     "name": "stderr",
     "output_type": "stream",
     "text": [
      "\rProcessing Videos:   2%|▏         | 241/11980 [06:35<3:46:25,  1.16s/video]"
     ]
    },
    {
     "name": "stdout",
     "output_type": "stream",
     "text": [
      "Saved 65940.mp4 as inform_frames.npy\n"
     ]
    },
    {
     "name": "stderr",
     "output_type": "stream",
     "text": [
      "\rProcessing Videos:   2%|▏         | 242/11980 [06:37<4:28:21,  1.37s/video]"
     ]
    },
    {
     "name": "stdout",
     "output_type": "stream",
     "text": [
      "Saved 65942.mp4 as inside_frames.npy\n"
     ]
    },
    {
     "name": "stderr",
     "output_type": "stream",
     "text": [
      "\rProcessing Videos:   2%|▏         | 243/11980 [06:38<4:07:02,  1.26s/video]"
     ]
    },
    {
     "name": "stdout",
     "output_type": "stream",
     "text": [
      "Saved 65927.mp4 as impossible_frames.npy\n"
     ]
    },
    {
     "name": "stderr",
     "output_type": "stream",
     "text": [
      "\rProcessing Videos:   2%|▏         | 244/11980 [06:41<6:27:22,  1.98s/video]"
     ]
    },
    {
     "name": "stdout",
     "output_type": "stream",
     "text": [
      "Saved 65926.mp4 as important_frames.npy\n"
     ]
    },
    {
     "name": "stderr",
     "output_type": "stream",
     "text": [
      "\rProcessing Videos:   2%|▏         | 245/11980 [06:45<8:18:58,  2.55s/video]"
     ]
    },
    {
     "name": "stdout",
     "output_type": "stream",
     "text": [
      "Saved 65958.mp4 as introduce_frames.npy\n"
     ]
    },
    {
     "name": "stderr",
     "output_type": "stream",
     "text": [
      "\rProcessing Videos:   2%|▏         | 246/11980 [06:47<7:54:47,  2.43s/video]"
     ]
    },
    {
     "name": "stdout",
     "output_type": "stream",
     "text": [
      "Saved 65899.mp4 as honey_frames.npy\n"
     ]
    },
    {
     "name": "stderr",
     "output_type": "stream",
     "text": [
      "\rProcessing Videos:   2%|▏         | 247/11980 [06:49<7:12:42,  2.21s/video]"
     ]
    },
    {
     "name": "stdout",
     "output_type": "stream",
     "text": [
      "Saved 65887.mp4 as heaven_frames.npy\n"
     ]
    },
    {
     "name": "stderr",
     "output_type": "stream",
     "text": [
      "\rProcessing Videos:   2%|▏         | 248/11980 [06:51<6:19:12,  1.94s/video]"
     ]
    },
    {
     "name": "stdout",
     "output_type": "stream",
     "text": [
      "Saved 65929.mp4 as improve_frames.npy\n"
     ]
    },
    {
     "name": "stderr",
     "output_type": "stream",
     "text": [
      "\rProcessing Videos:   2%|▏         | 249/11980 [06:52<5:28:45,  1.68s/video]"
     ]
    },
    {
     "name": "stdout",
     "output_type": "stream",
     "text": [
      "Saved 65947.mp4 as institute_frames.npy\n"
     ]
    },
    {
     "name": "stderr",
     "output_type": "stream",
     "text": [
      "\rProcessing Videos:   2%|▏         | 250/11980 [06:53<5:23:16,  1.65s/video]"
     ]
    },
    {
     "name": "stdout",
     "output_type": "stream",
     "text": [
      "Saved 65873.mp4 as halloween_frames.npy\n"
     ]
    },
    {
     "name": "stderr",
     "output_type": "stream",
     "text": [
      "\rProcessing Videos:   2%|▏         | 251/11980 [06:54<4:57:50,  1.52s/video]"
     ]
    },
    {
     "name": "stdout",
     "output_type": "stream",
     "text": [
      "Saved 65956.mp4 as interview_frames.npy\n"
     ]
    },
    {
     "name": "stderr",
     "output_type": "stream",
     "text": [
      "\rProcessing Videos:   2%|▏         | 252/11980 [06:55<4:11:51,  1.29s/video]"
     ]
    },
    {
     "name": "stdout",
     "output_type": "stream",
     "text": [
      "Saved 65959.mp4 as invest_frames.npy\n"
     ]
    },
    {
     "name": "stderr",
     "output_type": "stream",
     "text": [
      "\rProcessing Videos:   2%|▏         | 253/11980 [06:57<4:18:25,  1.32s/video]"
     ]
    },
    {
     "name": "stdout",
     "output_type": "stream",
     "text": [
      "Saved 65939.mp4 as influence_frames.npy\n"
     ]
    },
    {
     "name": "stderr",
     "output_type": "stream",
     "text": [
      "\rProcessing Videos:   2%|▏         | 254/11980 [06:58<4:26:49,  1.37s/video]"
     ]
    },
    {
     "name": "stdout",
     "output_type": "stream",
     "text": [
      "Saved 65892.mp4 as here_frames.npy\n"
     ]
    },
    {
     "name": "stderr",
     "output_type": "stream",
     "text": [
      "\rProcessing Videos:   2%|▏         | 255/11980 [07:00<4:49:38,  1.48s/video]"
     ]
    },
    {
     "name": "stdout",
     "output_type": "stream",
     "text": [
      "Saved 65891.mp4 as help_frames.npy\n"
     ]
    },
    {
     "name": "stderr",
     "output_type": "stream",
     "text": [
      "\rProcessing Videos:   2%|▏         | 256/11980 [07:01<4:47:50,  1.47s/video]"
     ]
    },
    {
     "name": "stdout",
     "output_type": "stream",
     "text": [
      "Saved 65961.mp4 as invite_frames.npy\n"
     ]
    },
    {
     "name": "stderr",
     "output_type": "stream",
     "text": [
      "\rProcessing Videos:   2%|▏         | 257/11980 [07:02<4:12:25,  1.29s/video]"
     ]
    },
    {
     "name": "stdout",
     "output_type": "stream",
     "text": [
      "Saved 65950.mp4 as interest_frames.npy\n"
     ]
    },
    {
     "name": "stderr",
     "output_type": "stream",
     "text": [
      "\rProcessing Videos:   2%|▏         | 258/11980 [07:03<4:00:49,  1.23s/video]"
     ]
    },
    {
     "name": "stdout",
     "output_type": "stream",
     "text": [
      "Saved 65918.mp4 as idea_frames.npy\n"
     ]
    },
    {
     "name": "stderr",
     "output_type": "stream",
     "text": [
      "\rProcessing Videos:   2%|▏         | 259/11980 [07:04<3:37:45,  1.11s/video]"
     ]
    },
    {
     "name": "stdout",
     "output_type": "stream",
     "text": [
      "Saved 65938.mp4 as infection_frames.npy\n"
     ]
    },
    {
     "name": "stderr",
     "output_type": "stream",
     "text": [
      "\rProcessing Videos:   2%|▏         | 260/11980 [07:05<3:35:09,  1.10s/video]"
     ]
    },
    {
     "name": "stdout",
     "output_type": "stream",
     "text": [
      "Saved 65890.mp4 as help_frames.npy\n"
     ]
    },
    {
     "name": "stderr",
     "output_type": "stream",
     "text": [
      "\rProcessing Videos:   2%|▏         | 261/11980 [07:07<3:59:49,  1.23s/video]"
     ]
    },
    {
     "name": "stdout",
     "output_type": "stream",
     "text": [
      "Saved 65954.mp4 as interpreter_frames.npy\n"
     ]
    },
    {
     "name": "stderr",
     "output_type": "stream",
     "text": [
      "\rProcessing Videos:   2%|▏         | 262/11980 [07:08<3:57:34,  1.22s/video]"
     ]
    },
    {
     "name": "stdout",
     "output_type": "stream",
     "text": [
      "Saved 65866.mp4 as guilty_frames.npy\n"
     ]
    },
    {
     "name": "stderr",
     "output_type": "stream",
     "text": [
      "\rProcessing Videos:   2%|▏         | 263/11980 [07:09<3:42:06,  1.14s/video]"
     ]
    },
    {
     "name": "stdout",
     "output_type": "stream",
     "text": [
      "Saved 65870.mp4 as hair_frames.npy\n"
     ]
    },
    {
     "name": "stderr",
     "output_type": "stream",
     "text": [
      "\rProcessing Videos:   2%|▏         | 264/11980 [07:10<3:34:33,  1.10s/video]"
     ]
    },
    {
     "name": "stdout",
     "output_type": "stream",
     "text": [
      "Saved 65865.mp4 as guilty_frames.npy\n"
     ]
    },
    {
     "name": "stderr",
     "output_type": "stream",
     "text": [
      "\rProcessing Videos:   2%|▏         | 265/11980 [07:11<3:58:05,  1.22s/video]"
     ]
    },
    {
     "name": "stdout",
     "output_type": "stream",
     "text": [
      "Saved 65933.mp4 as individual_frames.npy\n"
     ]
    },
    {
     "name": "stderr",
     "output_type": "stream",
     "text": [
      "\rProcessing Videos:   2%|▏         | 266/11980 [07:12<3:31:29,  1.08s/video]"
     ]
    },
    {
     "name": "stdout",
     "output_type": "stream",
     "text": [
      "Saved 65863.mp4 as grow up_frames.npy\n"
     ]
    },
    {
     "name": "stderr",
     "output_type": "stream",
     "text": [
      "\rProcessing Videos:   2%|▏         | 267/11980 [07:13<3:49:42,  1.18s/video]"
     ]
    },
    {
     "name": "stdout",
     "output_type": "stream",
     "text": [
      "Saved 65905.mp4 as hope_frames.npy\n"
     ]
    },
    {
     "name": "stderr",
     "output_type": "stream",
     "text": [
      "\rProcessing Videos:   2%|▏         | 268/11980 [07:15<3:49:21,  1.18s/video]"
     ]
    },
    {
     "name": "stdout",
     "output_type": "stream",
     "text": [
      "Saved 65895.mp4 as hockey_frames.npy\n"
     ]
    },
    {
     "name": "stderr",
     "output_type": "stream",
     "text": [
      "\rProcessing Videos:   2%|▏         | 269/11980 [07:16<4:05:50,  1.26s/video]"
     ]
    },
    {
     "name": "stdout",
     "output_type": "stream",
     "text": [
      "Saved 65888.mp4 as helicopter_frames.npy\n"
     ]
    },
    {
     "name": "stderr",
     "output_type": "stream",
     "text": [
      "\rProcessing Videos:   2%|▏         | 270/11980 [07:18<4:23:29,  1.35s/video]"
     ]
    },
    {
     "name": "stdout",
     "output_type": "stream",
     "text": [
      "Saved 65889.mp4 as help_frames.npy\n"
     ]
    },
    {
     "name": "stderr",
     "output_type": "stream",
     "text": [
      "\rProcessing Videos:   2%|▏         | 271/11980 [07:19<4:10:36,  1.28s/video]"
     ]
    },
    {
     "name": "stdout",
     "output_type": "stream",
     "text": [
      "Saved 65909.mp4 as hug_frames.npy\n"
     ]
    },
    {
     "name": "stderr",
     "output_type": "stream",
     "text": [
      "\rProcessing Videos:   2%|▏         | 272/11980 [07:20<3:47:12,  1.16s/video]"
     ]
    },
    {
     "name": "stdout",
     "output_type": "stream",
     "text": [
      "Saved 65867.mp4 as guitar_frames.npy\n"
     ]
    },
    {
     "name": "stderr",
     "output_type": "stream",
     "text": [
      "\rProcessing Videos:   2%|▏         | 273/11980 [07:21<3:55:39,  1.21s/video]"
     ]
    },
    {
     "name": "stdout",
     "output_type": "stream",
     "text": [
      "Saved 65883.mp4 as heap_frames.npy\n"
     ]
    },
    {
     "name": "stderr",
     "output_type": "stream",
     "text": [
      "\rProcessing Videos:   2%|▏         | 274/11980 [07:22<3:32:06,  1.09s/video]"
     ]
    },
    {
     "name": "stdout",
     "output_type": "stream",
     "text": [
      "Saved 65923.mp4 as ignore_frames.npy\n"
     ]
    },
    {
     "name": "stderr",
     "output_type": "stream",
     "text": [
      "\rProcessing Videos:   2%|▏         | 275/11980 [07:23<3:30:43,  1.08s/video]"
     ]
    },
    {
     "name": "stdout",
     "output_type": "stream",
     "text": [
      "Saved 65945.mp4 as instead_frames.npy\n"
     ]
    },
    {
     "name": "stderr",
     "output_type": "stream",
     "text": [
      "\rProcessing Videos:   2%|▏         | 276/11980 [07:24<3:34:34,  1.10s/video]"
     ]
    },
    {
     "name": "stdout",
     "output_type": "stream",
     "text": [
      "Saved 65913.mp4 as husband_frames.npy\n"
     ]
    },
    {
     "name": "stderr",
     "output_type": "stream",
     "text": [
      "\rProcessing Videos:   2%|▏         | 277/11980 [07:25<3:21:22,  1.03s/video]"
     ]
    },
    {
     "name": "stdout",
     "output_type": "stream",
     "text": [
      "Saved 65860.mp4 as group_frames.npy\n"
     ]
    },
    {
     "name": "stderr",
     "output_type": "stream",
     "text": [
      "\rProcessing Videos:   2%|▏         | 278/11980 [07:26<3:32:16,  1.09s/video]"
     ]
    },
    {
     "name": "stdout",
     "output_type": "stream",
     "text": [
      "Saved 65943.mp4 as inspire_frames.npy\n"
     ]
    },
    {
     "name": "stderr",
     "output_type": "stream",
     "text": [
      "\rProcessing Videos:   2%|▏         | 279/11980 [07:27<3:20:38,  1.03s/video]"
     ]
    },
    {
     "name": "stdout",
     "output_type": "stream",
     "text": [
      "Saved 65912.mp4 as hunt_frames.npy\n"
     ]
    },
    {
     "name": "stderr",
     "output_type": "stream",
     "text": [
      "\rProcessing Videos:   2%|▏         | 280/11980 [07:28<3:45:27,  1.16s/video]"
     ]
    },
    {
     "name": "stdout",
     "output_type": "stream",
     "text": [
      "Saved 65919.mp4 as identify_frames.npy\n"
     ]
    },
    {
     "name": "stderr",
     "output_type": "stream",
     "text": [
      "\rProcessing Videos:   2%|▏         | 281/11980 [07:29<3:35:22,  1.10s/video]"
     ]
    },
    {
     "name": "stdout",
     "output_type": "stream",
     "text": [
      "Saved 65885.mp4 as hearing aid_frames.npy\n"
     ]
    },
    {
     "name": "stderr",
     "output_type": "stream",
     "text": [
      "\rProcessing Videos:   2%|▏         | 282/11980 [07:30<3:26:25,  1.06s/video]"
     ]
    },
    {
     "name": "stdout",
     "output_type": "stream",
     "text": [
      "Saved 65874.mp4 as halloween_frames.npy\n"
     ]
    },
    {
     "name": "stderr",
     "output_type": "stream",
     "text": [
      "\rProcessing Videos:   2%|▏         | 283/11980 [07:32<3:46:57,  1.16s/video]"
     ]
    },
    {
     "name": "stdout",
     "output_type": "stream",
     "text": [
      "Saved 65881.mp4 as headache_frames.npy\n"
     ]
    },
    {
     "name": "stderr",
     "output_type": "stream",
     "text": [
      "\rProcessing Videos:   2%|▏         | 284/11980 [07:32<3:22:06,  1.04s/video]"
     ]
    },
    {
     "name": "stdout",
     "output_type": "stream",
     "text": [
      "Saved 65898.mp4 as honey_frames.npy\n"
     ]
    },
    {
     "name": "stderr",
     "output_type": "stream",
     "text": [
      "\rProcessing Videos:   2%|▏         | 285/11980 [07:33<3:15:55,  1.01s/video]"
     ]
    },
    {
     "name": "stdout",
     "output_type": "stream",
     "text": [
      "Saved 65875.mp4 as hammer_frames.npy\n"
     ]
    },
    {
     "name": "stderr",
     "output_type": "stream",
     "text": [
      "\rProcessing Videos:   2%|▏         | 286/11980 [07:35<3:22:25,  1.04s/video]"
     ]
    },
    {
     "name": "stdout",
     "output_type": "stream",
     "text": [
      "Saved 65884.mp4 as hearing_frames.npy\n"
     ]
    },
    {
     "name": "stderr",
     "output_type": "stream",
     "text": [
      "\rProcessing Videos:   2%|▏         | 287/11980 [07:36<3:50:15,  1.18s/video]"
     ]
    },
    {
     "name": "stdout",
     "output_type": "stream",
     "text": [
      "Saved 65894.mp4 as history_frames.npy\n"
     ]
    },
    {
     "name": "stderr",
     "output_type": "stream",
     "text": [
      "\rProcessing Videos:   2%|▏         | 288/11980 [07:37<3:28:29,  1.07s/video]"
     ]
    },
    {
     "name": "stdout",
     "output_type": "stream",
     "text": [
      "Saved 65864.mp4 as guess_frames.npy\n"
     ]
    },
    {
     "name": "stderr",
     "output_type": "stream",
     "text": [
      "\rProcessing Videos:   2%|▏         | 289/11980 [07:38<3:08:50,  1.03video/s]"
     ]
    },
    {
     "name": "stdout",
     "output_type": "stream",
     "text": [
      "Saved 65925.mp4 as impact_frames.npy\n"
     ]
    },
    {
     "name": "stderr",
     "output_type": "stream",
     "text": [
      "\rProcessing Videos:   2%|▏         | 290/11980 [07:39<3:14:27,  1.00video/s]"
     ]
    },
    {
     "name": "stdout",
     "output_type": "stream",
     "text": [
      "Saved 65893.mp4 as high_frames.npy\n"
     ]
    },
    {
     "name": "stderr",
     "output_type": "stream",
     "text": [
      "\rProcessing Videos:   2%|▏         | 291/11980 [07:40<3:24:21,  1.05s/video]"
     ]
    },
    {
     "name": "stdout",
     "output_type": "stream",
     "text": [
      "Saved 65932.mp4 as independent_frames.npy\n"
     ]
    },
    {
     "name": "stderr",
     "output_type": "stream",
     "text": [
      "\rProcessing Videos:   2%|▏         | 292/11980 [07:41<3:13:47,  1.01video/s]"
     ]
    },
    {
     "name": "stdout",
     "output_type": "stream",
     "text": [
      "Saved 65868.mp4 as gum_frames.npy\n"
     ]
    },
    {
     "name": "stderr",
     "output_type": "stream",
     "text": [
      "\rProcessing Videos:   2%|▏         | 293/11980 [07:41<2:56:45,  1.10video/s]"
     ]
    },
    {
     "name": "stdout",
     "output_type": "stream",
     "text": [
      "Saved 65963.mp4 as ireland_frames.npy\n"
     ]
    },
    {
     "name": "stderr",
     "output_type": "stream",
     "text": [
      "\rProcessing Videos:   2%|▏         | 294/11980 [07:43<3:28:12,  1.07s/video]"
     ]
    },
    {
     "name": "stdout",
     "output_type": "stream",
     "text": [
      "Saved 66006.mp4 as label_frames.npy\n"
     ]
    },
    {
     "name": "stderr",
     "output_type": "stream",
     "text": [
      "\rProcessing Videos:   2%|▏         | 295/11980 [07:44<3:12:59,  1.01video/s]"
     ]
    },
    {
     "name": "stdout",
     "output_type": "stream",
     "text": [
      "Saved 66037.mp4 as lesson_frames.npy\n"
     ]
    },
    {
     "name": "stderr",
     "output_type": "stream",
     "text": [
      "\rProcessing Videos:   2%|▏         | 296/11980 [07:45<3:28:22,  1.07s/video]"
     ]
    },
    {
     "name": "stdout",
     "output_type": "stream",
     "text": [
      "Saved 66038.mp4 as letter_frames.npy\n"
     ]
    },
    {
     "name": "stderr",
     "output_type": "stream",
     "text": [
      "\rProcessing Videos:   2%|▏         | 297/11980 [07:46<3:14:10,  1.00video/s]"
     ]
    },
    {
     "name": "stdout",
     "output_type": "stream",
     "text": [
      "Saved 66017.mp4 as law_frames.npy\n"
     ]
    },
    {
     "name": "stderr",
     "output_type": "stream",
     "text": [
      "\rProcessing Videos:   2%|▏         | 298/11980 [07:47<3:27:26,  1.07s/video]"
     ]
    },
    {
     "name": "stdout",
     "output_type": "stream",
     "text": [
      "Saved 65966.mp4 as island_frames.npy\n"
     ]
    },
    {
     "name": "stderr",
     "output_type": "stream",
     "text": [
      "\rProcessing Videos:   2%|▏         | 299/11980 [07:48<3:45:43,  1.16s/video]"
     ]
    },
    {
     "name": "stdout",
     "output_type": "stream",
     "text": [
      "Saved 66010.mp4 as last_frames.npy\n"
     ]
    },
    {
     "name": "stderr",
     "output_type": "stream",
     "text": [
      "\rProcessing Videos:   3%|▎         | 300/11980 [07:52<5:50:46,  1.80s/video]"
     ]
    },
    {
     "name": "stdout",
     "output_type": "stream",
     "text": [
      "Saved 65996.mp4 as kiss_frames.npy\n"
     ]
    },
    {
     "name": "stderr",
     "output_type": "stream",
     "text": [
      "\rProcessing Videos:   3%|▎         | 301/11980 [07:52<4:50:03,  1.49s/video]"
     ]
    },
    {
     "name": "stdout",
     "output_type": "stream",
     "text": [
      "Saved 66043.mp4 as e_frames.npy\n"
     ]
    },
    {
     "name": "stderr",
     "output_type": "stream",
     "text": [
      "\rProcessing Videos:   3%|▎         | 302/11980 [07:53<4:19:36,  1.33s/video]"
     ]
    },
    {
     "name": "stdout",
     "output_type": "stream",
     "text": [
      "Saved 66009.mp4 as laptop_frames.npy\n"
     ]
    },
    {
     "name": "stderr",
     "output_type": "stream",
     "text": [
      "\rProcessing Videos:   3%|▎         | 303/11980 [07:54<3:46:10,  1.16s/video]"
     ]
    },
    {
     "name": "stdout",
     "output_type": "stream",
     "text": [
      "Saved 66012.mp4 as last year_frames.npy\n"
     ]
    },
    {
     "name": "stderr",
     "output_type": "stream",
     "text": [
      "\rProcessing Videos:   3%|▎         | 304/11980 [07:55<3:34:21,  1.10s/video]"
     ]
    },
    {
     "name": "stdout",
     "output_type": "stream",
     "text": [
      "Saved 65981.mp4 as join_frames.npy\n"
     ]
    },
    {
     "name": "stderr",
     "output_type": "stream",
     "text": [
      "\rProcessing Videos:   3%|▎         | 305/11980 [07:56<3:35:06,  1.11s/video]"
     ]
    },
    {
     "name": "stdout",
     "output_type": "stream",
     "text": [
      "Saved 66022.mp4 as league_frames.npy\n"
     ]
    },
    {
     "name": "stderr",
     "output_type": "stream",
     "text": [
      "\rProcessing Videos:   3%|▎         | 306/11980 [07:57<3:14:18,  1.00video/s]"
     ]
    },
    {
     "name": "stdout",
     "output_type": "stream",
     "text": [
      "Saved 65969.mp4 as italy_frames.npy\n"
     ]
    },
    {
     "name": "stderr",
     "output_type": "stream",
     "text": [
      "\rProcessing Videos:   3%|▎         | 307/11980 [07:59<3:50:27,  1.18s/video]"
     ]
    },
    {
     "name": "stdout",
     "output_type": "stream",
     "text": [
      "Saved 66019.mp4 as lazy_frames.npy\n"
     ]
    },
    {
     "name": "stderr",
     "output_type": "stream",
     "text": [
      "\rProcessing Videos:   3%|▎         | 308/11980 [07:59<3:20:45,  1.03s/video]"
     ]
    },
    {
     "name": "stdout",
     "output_type": "stream",
     "text": [
      "Saved 66040.mp4 as b_frames.npy\n"
     ]
    },
    {
     "name": "stderr",
     "output_type": "stream",
     "text": [
      "\rProcessing Videos:   3%|▎         | 309/11980 [08:00<3:19:50,  1.03s/video]"
     ]
    },
    {
     "name": "stdout",
     "output_type": "stream",
     "text": [
      "Saved 66030.mp4 as lemon_frames.npy\n"
     ]
    },
    {
     "name": "stderr",
     "output_type": "stream",
     "text": [
      "\rProcessing Videos:   3%|▎         | 310/11980 [08:01<3:25:14,  1.06s/video]"
     ]
    },
    {
     "name": "stdout",
     "output_type": "stream",
     "text": [
      "Saved 65978.mp4 as jewelry_frames.npy\n"
     ]
    },
    {
     "name": "stderr",
     "output_type": "stream",
     "text": [
      "\rProcessing Videos:   3%|▎         | 311/11980 [08:03<3:30:37,  1.08s/video]"
     ]
    },
    {
     "name": "stdout",
     "output_type": "stream",
     "text": [
      "Saved 66011.mp4 as last week_frames.npy\n"
     ]
    },
    {
     "name": "stderr",
     "output_type": "stream",
     "text": [
      "\rProcessing Videos:   3%|▎         | 312/11980 [08:04<3:44:53,  1.16s/video]"
     ]
    },
    {
     "name": "stdout",
     "output_type": "stream",
     "text": [
      "Saved 65979.mp4 as jewish_frames.npy\n"
     ]
    },
    {
     "name": "stderr",
     "output_type": "stream",
     "text": [
      "\rProcessing Videos:   3%|▎         | 313/11980 [08:05<3:27:38,  1.07s/video]"
     ]
    },
    {
     "name": "stdout",
     "output_type": "stream",
     "text": [
      "Saved 66035.mp4 as lesbian_frames.npy\n"
     ]
    },
    {
     "name": "stderr",
     "output_type": "stream",
     "text": [
      "\rProcessing Videos:   3%|▎         | 314/11980 [08:06<3:30:03,  1.08s/video]"
     ]
    },
    {
     "name": "stdout",
     "output_type": "stream",
     "text": [
      "Saved 66001.mp4 as knock_frames.npy\n"
     ]
    },
    {
     "name": "stderr",
     "output_type": "stream",
     "text": [
      "\rProcessing Videos:   3%|▎         | 315/11980 [08:07<3:15:20,  1.00s/video]"
     ]
    },
    {
     "name": "stdout",
     "output_type": "stream",
     "text": [
      "Saved 66032.mp4 as lemon_frames.npy\n"
     ]
    },
    {
     "name": "stderr",
     "output_type": "stream",
     "text": [
      "\rProcessing Videos:   3%|▎         | 316/11980 [08:08<3:37:21,  1.12s/video]"
     ]
    },
    {
     "name": "stdout",
     "output_type": "stream",
     "text": [
      "Saved 65983.mp4 as jump_frames.npy\n"
     ]
    },
    {
     "name": "stderr",
     "output_type": "stream",
     "text": [
      "\rProcessing Videos:   3%|▎         | 317/11980 [08:09<3:13:48,  1.00video/s]"
     ]
    },
    {
     "name": "stdout",
     "output_type": "stream",
     "text": [
      "Saved 66031.mp4 as lemon_frames.npy\n"
     ]
    },
    {
     "name": "stderr",
     "output_type": "stream",
     "text": [
      "\rProcessing Videos:   3%|▎         | 318/11980 [08:10<3:52:29,  1.20s/video]"
     ]
    },
    {
     "name": "stdout",
     "output_type": "stream",
     "text": [
      "Saved 66008.mp4 as language_frames.npy\n"
     ]
    },
    {
     "name": "stderr",
     "output_type": "stream",
     "text": [
      "\rProcessing Videos:   3%|▎         | 319/11980 [08:12<4:00:38,  1.24s/video]"
     ]
    },
    {
     "name": "stdout",
     "output_type": "stream",
     "text": [
      "Saved 66034.mp4 as lend_frames.npy\n"
     ]
    },
    {
     "name": "stderr",
     "output_type": "stream",
     "text": [
      "\rProcessing Videos:   3%|▎         | 320/11980 [08:13<3:57:32,  1.22s/video]"
     ]
    },
    {
     "name": "stdout",
     "output_type": "stream",
     "text": [
      "Saved 66007.mp4 as language_frames.npy\n"
     ]
    },
    {
     "name": "stderr",
     "output_type": "stream",
     "text": [
      "\rProcessing Videos:   3%|▎         | 321/11980 [08:14<4:02:10,  1.25s/video]"
     ]
    },
    {
     "name": "stdout",
     "output_type": "stream",
     "text": [
      "Saved 65992.mp4 as kill_frames.npy\n"
     ]
    },
    {
     "name": "stderr",
     "output_type": "stream",
     "text": [
      "\rProcessing Videos:   3%|▎         | 322/11980 [08:15<3:28:16,  1.07s/video]"
     ]
    },
    {
     "name": "stdout",
     "output_type": "stream",
     "text": [
      "Saved 65962.mp4 as involve_frames.npy\n"
     ]
    },
    {
     "name": "stderr",
     "output_type": "stream",
     "text": [
      "\rProcessing Videos:   3%|▎         | 323/11980 [08:16<3:44:00,  1.15s/video]"
     ]
    },
    {
     "name": "stdout",
     "output_type": "stream",
     "text": [
      "Saved 66020.mp4 as lead_frames.npy\n"
     ]
    },
    {
     "name": "stderr",
     "output_type": "stream",
     "text": [
      "\rProcessing Videos:   3%|▎         | 324/11980 [08:17<3:39:20,  1.13s/video]"
     ]
    },
    {
     "name": "stdout",
     "output_type": "stream",
     "text": [
      "Saved 66042.mp4 as d_frames.npy\n"
     ]
    },
    {
     "name": "stderr",
     "output_type": "stream",
     "text": [
      "\rProcessing Videos:   3%|▎         | 325/11980 [08:19<3:48:29,  1.18s/video]"
     ]
    },
    {
     "name": "stdout",
     "output_type": "stream",
     "text": [
      "Saved 66002.mp4 as know_frames.npy\n"
     ]
    },
    {
     "name": "stderr",
     "output_type": "stream",
     "text": [
      "\rProcessing Videos:   3%|▎         | 326/11980 [08:20<3:59:17,  1.23s/video]"
     ]
    },
    {
     "name": "stdout",
     "output_type": "stream",
     "text": [
      "Saved 65991.mp4 as kid_frames.npy\n"
     ]
    },
    {
     "name": "stderr",
     "output_type": "stream",
     "text": [
      "\rProcessing Videos:   3%|▎         | 327/11980 [08:22<4:25:59,  1.37s/video]"
     ]
    },
    {
     "name": "stdout",
     "output_type": "stream",
     "text": [
      "Saved 66000.mp4 as knife_frames.npy\n"
     ]
    },
    {
     "name": "stderr",
     "output_type": "stream",
     "text": [
      "\rProcessing Videos:   3%|▎         | 328/11980 [08:22<3:53:35,  1.20s/video]"
     ]
    },
    {
     "name": "stdout",
     "output_type": "stream",
     "text": [
      "Saved 66013.mp4 as late_frames.npy\n"
     ]
    },
    {
     "name": "stderr",
     "output_type": "stream",
     "text": [
      "\rProcessing Videos:   3%|▎         | 329/11980 [08:23<3:30:40,  1.08s/video]"
     ]
    },
    {
     "name": "stdout",
     "output_type": "stream",
     "text": [
      "Saved 66033.mp4 as lemon_frames.npy\n"
     ]
    },
    {
     "name": "stderr",
     "output_type": "stream",
     "text": [
      "\rProcessing Videos:   3%|▎         | 330/11980 [08:25<3:45:05,  1.16s/video]"
     ]
    },
    {
     "name": "stdout",
     "output_type": "stream",
     "text": [
      "Saved 65989.mp4 as key_frames.npy\n"
     ]
    },
    {
     "name": "stderr",
     "output_type": "stream",
     "text": [
      "\rProcessing Videos:   3%|▎         | 331/11980 [08:26<3:49:17,  1.18s/video]"
     ]
    },
    {
     "name": "stdout",
     "output_type": "stream",
     "text": [
      "Saved 66015.mp4 as later_frames.npy\n"
     ]
    },
    {
     "name": "stderr",
     "output_type": "stream",
     "text": [
      "\rProcessing Videos:   3%|▎         | 332/11980 [08:27<4:17:01,  1.32s/video]"
     ]
    },
    {
     "name": "stdout",
     "output_type": "stream",
     "text": [
      "Saved 65990.mp4 as kick_frames.npy\n"
     ]
    },
    {
     "name": "stderr",
     "output_type": "stream",
     "text": [
      "\rProcessing Videos:   3%|▎         | 333/11980 [08:28<3:53:48,  1.20s/video]"
     ]
    },
    {
     "name": "stdout",
     "output_type": "stream",
     "text": [
      "Saved 66025.mp4 as leave_frames.npy\n"
     ]
    },
    {
     "name": "stderr",
     "output_type": "stream",
     "text": [
      "\rProcessing Videos:   3%|▎         | 334/11980 [08:30<4:23:44,  1.36s/video]"
     ]
    },
    {
     "name": "stdout",
     "output_type": "stream",
     "text": [
      "Saved 65964.mp4 as iron_frames.npy\n"
     ]
    },
    {
     "name": "stderr",
     "output_type": "stream",
     "text": [
      "\rProcessing Videos:   3%|▎         | 335/11980 [08:32<4:26:51,  1.37s/video]"
     ]
    },
    {
     "name": "stdout",
     "output_type": "stream",
     "text": [
      "Saved 66016.mp4 as laugh_frames.npy\n"
     ]
    },
    {
     "name": "stderr",
     "output_type": "stream",
     "text": [
      "\rProcessing Videos:   3%|▎         | 336/11980 [08:33<4:15:38,  1.32s/video]"
     ]
    },
    {
     "name": "stdout",
     "output_type": "stream",
     "text": [
      "Saved 65986.mp4 as kangaroo_frames.npy\n"
     ]
    },
    {
     "name": "stderr",
     "output_type": "stream",
     "text": [
      "\rProcessing Videos:   3%|▎         | 337/11980 [08:34<4:21:37,  1.35s/video]"
     ]
    },
    {
     "name": "stdout",
     "output_type": "stream",
     "text": [
      "Saved 66014.mp4 as later_frames.npy\n"
     ]
    },
    {
     "name": "stderr",
     "output_type": "stream",
     "text": [
      "\rProcessing Videos:   3%|▎         | 338/11980 [08:36<4:22:57,  1.36s/video]"
     ]
    },
    {
     "name": "stdout",
     "output_type": "stream",
     "text": [
      "Saved 65994.mp4 as king_frames.npy\n"
     ]
    },
    {
     "name": "stderr",
     "output_type": "stream",
     "text": [
      "\rProcessing Videos:   3%|▎         | 339/11980 [08:37<4:27:41,  1.38s/video]"
     ]
    },
    {
     "name": "stdout",
     "output_type": "stream",
     "text": [
      "Saved 66039.mp4 as a_frames.npy\n"
     ]
    },
    {
     "name": "stderr",
     "output_type": "stream",
     "text": [
      "\rProcessing Videos:   3%|▎         | 340/11980 [08:38<4:28:11,  1.38s/video]"
     ]
    },
    {
     "name": "stdout",
     "output_type": "stream",
     "text": [
      "Saved 65997.mp4 as kitchen_frames.npy\n"
     ]
    },
    {
     "name": "stderr",
     "output_type": "stream",
     "text": [
      "\rProcessing Videos:   3%|▎         | 341/11980 [08:41<6:09:16,  1.90s/video]"
     ]
    },
    {
     "name": "stdout",
     "output_type": "stream",
     "text": [
      "Saved 66021.mp4 as leaf_frames.npy\n"
     ]
    },
    {
     "name": "stderr",
     "output_type": "stream",
     "text": [
      "\rProcessing Videos:   3%|▎         | 342/11980 [08:43<5:30:32,  1.70s/video]"
     ]
    },
    {
     "name": "stdout",
     "output_type": "stream",
     "text": [
      "Saved 65987.mp4 as keep_frames.npy\n"
     ]
    },
    {
     "name": "stderr",
     "output_type": "stream",
     "text": [
      "\rProcessing Videos:   3%|▎         | 343/11980 [08:44<5:12:34,  1.61s/video]"
     ]
    },
    {
     "name": "stdout",
     "output_type": "stream",
     "text": [
      "Saved 66024.mp4 as learn_frames.npy\n"
     ]
    },
    {
     "name": "stderr",
     "output_type": "stream",
     "text": [
      "\rProcessing Videos:   3%|▎         | 344/11980 [08:46<5:02:53,  1.56s/video]"
     ]
    },
    {
     "name": "stdout",
     "output_type": "stream",
     "text": [
      "Saved 66122.mp4 as middle_frames.npy\n"
     ]
    },
    {
     "name": "stderr",
     "output_type": "stream",
     "text": [
      "\rProcessing Videos:   3%|▎         | 345/11980 [08:47<4:48:18,  1.49s/video]"
     ]
    },
    {
     "name": "stdout",
     "output_type": "stream",
     "text": [
      "Saved 66111.mp4 as medicine_frames.npy\n"
     ]
    },
    {
     "name": "stderr",
     "output_type": "stream",
     "text": [
      "\rProcessing Videos:   3%|▎         | 346/11980 [08:48<4:26:08,  1.37s/video]"
     ]
    },
    {
     "name": "stdout",
     "output_type": "stream",
     "text": [
      "Saved 66065.mp4 as lettuce_frames.npy\n"
     ]
    },
    {
     "name": "stderr",
     "output_type": "stream",
     "text": [
      "\rProcessing Videos:   3%|▎         | 347/11980 [08:49<3:50:13,  1.19s/video]"
     ]
    },
    {
     "name": "stdout",
     "output_type": "stream",
     "text": [
      "Saved 66090.mp4 as lucky_frames.npy\n"
     ]
    },
    {
     "name": "stderr",
     "output_type": "stream",
     "text": [
      "\rProcessing Videos:   3%|▎         | 348/11980 [08:50<3:51:03,  1.19s/video]"
     ]
    },
    {
     "name": "stdout",
     "output_type": "stream",
     "text": [
      "Saved 66099.mp4 as man_frames.npy\n"
     ]
    },
    {
     "name": "stderr",
     "output_type": "stream",
     "text": [
      "\rProcessing Videos:   3%|▎         | 349/11980 [08:51<3:55:53,  1.22s/video]"
     ]
    },
    {
     "name": "stdout",
     "output_type": "stream",
     "text": [
      "Saved 66106.mp4 as match_frames.npy\n"
     ]
    },
    {
     "name": "stderr",
     "output_type": "stream",
     "text": [
      "\rProcessing Videos:   3%|▎         | 350/11980 [08:53<4:05:06,  1.26s/video]"
     ]
    },
    {
     "name": "stdout",
     "output_type": "stream",
     "text": [
      "Saved 66100.mp4 as manage_frames.npy\n"
     ]
    },
    {
     "name": "stderr",
     "output_type": "stream",
     "text": [
      "\rProcessing Videos:   3%|▎         | 351/11980 [08:54<3:46:19,  1.17s/video]"
     ]
    },
    {
     "name": "stdout",
     "output_type": "stream",
     "text": [
      "Saved 66051.mp4 as m_frames.npy\n"
     ]
    },
    {
     "name": "stderr",
     "output_type": "stream",
     "text": [
      "\rProcessing Videos:   3%|▎         | 352/11980 [08:55<3:45:04,  1.16s/video]"
     ]
    },
    {
     "name": "stdout",
     "output_type": "stream",
     "text": [
      "Saved 66107.mp4 as math_frames.npy\n"
     ]
    },
    {
     "name": "stderr",
     "output_type": "stream",
     "text": [
      "\rProcessing Videos:   3%|▎         | 353/11980 [08:56<3:47:36,  1.17s/video]"
     ]
    },
    {
     "name": "stdout",
     "output_type": "stream",
     "text": [
      "Saved 66079.mp4 as live_frames.npy\n"
     ]
    },
    {
     "name": "stderr",
     "output_type": "stream",
     "text": [
      "\rProcessing Videos:   3%|▎         | 354/11980 [08:57<3:35:40,  1.11s/video]"
     ]
    },
    {
     "name": "stdout",
     "output_type": "stream",
     "text": [
      "Saved 66112.mp4 as meet_frames.npy\n"
     ]
    },
    {
     "name": "stderr",
     "output_type": "stream",
     "text": [
      "\rProcessing Videos:   3%|▎         | 355/11980 [08:58<3:42:03,  1.15s/video]"
     ]
    },
    {
     "name": "stdout",
     "output_type": "stream",
     "text": [
      "Saved 66121.mp4 as microwave_frames.npy\n"
     ]
    },
    {
     "name": "stderr",
     "output_type": "stream",
     "text": [
      "\rProcessing Videos:   3%|▎         | 356/11980 [08:59<3:28:25,  1.08s/video]"
     ]
    },
    {
     "name": "stdout",
     "output_type": "stream",
     "text": [
      "Saved 66098.mp4 as man_frames.npy\n"
     ]
    },
    {
     "name": "stderr",
     "output_type": "stream",
     "text": [
      "\rProcessing Videos:   3%|▎         | 357/11980 [09:00<3:04:08,  1.05video/s]"
     ]
    },
    {
     "name": "stdout",
     "output_type": "stream",
     "text": [
      "Saved 66045.mp4 as g_frames.npy\n"
     ]
    },
    {
     "name": "stderr",
     "output_type": "stream",
     "text": [
      "\rProcessing Videos:   3%|▎         | 358/11980 [09:01<3:03:16,  1.06video/s]"
     ]
    },
    {
     "name": "stdout",
     "output_type": "stream",
     "text": [
      "Saved 66053.mp4 as o_frames.npy\n"
     ]
    },
    {
     "name": "stderr",
     "output_type": "stream",
     "text": [
      "\rProcessing Videos:   3%|▎         | 359/11980 [09:02<3:28:39,  1.08s/video]"
     ]
    },
    {
     "name": "stdout",
     "output_type": "stream",
     "text": [
      "Saved 66115.mp4 as mention_frames.npy\n"
     ]
    },
    {
     "name": "stderr",
     "output_type": "stream",
     "text": [
      "\rProcessing Videos:   3%|▎         | 360/11980 [09:03<3:01:38,  1.07video/s]"
     ]
    },
    {
     "name": "stdout",
     "output_type": "stream",
     "text": [
      "Saved 66088.mp4 as lousy_frames.npy\n"
     ]
    },
    {
     "name": "stderr",
     "output_type": "stream",
     "text": [
      "\rProcessing Videos:   3%|▎         | 361/11980 [09:03<2:58:08,  1.09video/s]"
     ]
    },
    {
     "name": "stdout",
     "output_type": "stream",
     "text": [
      "Saved 66056.mp4 as r_frames.npy\n"
     ]
    },
    {
     "name": "stderr",
     "output_type": "stream",
     "text": [
      "\rProcessing Videos:   3%|▎         | 362/11980 [09:04<2:45:50,  1.17video/s]"
     ]
    },
    {
     "name": "stdout",
     "output_type": "stream",
     "text": [
      "Saved 66060.mp4 as v_frames.npy\n"
     ]
    },
    {
     "name": "stderr",
     "output_type": "stream",
     "text": [
      "\rProcessing Videos:   3%|▎         | 363/11980 [09:05<2:59:34,  1.08video/s]"
     ]
    },
    {
     "name": "stdout",
     "output_type": "stream",
     "text": [
      "Saved 66075.mp4 as list_frames.npy\n"
     ]
    },
    {
     "name": "stderr",
     "output_type": "stream",
     "text": [
      "\rProcessing Videos:   3%|▎         | 364/11980 [09:06<2:49:18,  1.14video/s]"
     ]
    },
    {
     "name": "stdout",
     "output_type": "stream",
     "text": [
      "Saved 66044.mp4 as f_frames.npy\n"
     ]
    },
    {
     "name": "stderr",
     "output_type": "stream",
     "text": [
      "\rProcessing Videos:   3%|▎         | 365/11980 [09:07<2:39:00,  1.22video/s]"
     ]
    },
    {
     "name": "stdout",
     "output_type": "stream",
     "text": [
      "Saved 66055.mp4 as q_frames.npy\n"
     ]
    },
    {
     "name": "stderr",
     "output_type": "stream",
     "text": [
      "\rProcessing Videos:   3%|▎         | 366/11980 [09:08<3:06:27,  1.04video/s]"
     ]
    },
    {
     "name": "stdout",
     "output_type": "stream",
     "text": [
      "Saved 66047.mp4 as i_frames.npy\n"
     ]
    },
    {
     "name": "stderr",
     "output_type": "stream",
     "text": [
      "\rProcessing Videos:   3%|▎         | 367/11980 [09:09<3:21:26,  1.04s/video]"
     ]
    },
    {
     "name": "stdout",
     "output_type": "stream",
     "text": [
      "Saved 66087.mp4 as loud_frames.npy\n"
     ]
    },
    {
     "name": "stderr",
     "output_type": "stream",
     "text": [
      "\rProcessing Videos:   3%|▎         | 368/11980 [09:10<3:28:38,  1.08s/video]"
     ]
    },
    {
     "name": "stdout",
     "output_type": "stream",
     "text": [
      "Saved 66110.mp4 as mechanic_frames.npy\n"
     ]
    },
    {
     "name": "stderr",
     "output_type": "stream",
     "text": [
      "\rProcessing Videos:   3%|▎         | 369/11980 [09:12<3:50:33,  1.19s/video]"
     ]
    },
    {
     "name": "stdout",
     "output_type": "stream",
     "text": [
      "Saved 66080.mp4 as lock_frames.npy\n"
     ]
    },
    {
     "name": "stderr",
     "output_type": "stream",
     "text": [
      "\rProcessing Videos:   3%|▎         | 370/11980 [09:13<3:33:46,  1.10s/video]"
     ]
    },
    {
     "name": "stdout",
     "output_type": "stream",
     "text": [
      "Saved 66049.mp4 as k_frames.npy\n"
     ]
    },
    {
     "name": "stderr",
     "output_type": "stream",
     "text": [
      "\rProcessing Videos:   3%|▎         | 371/11980 [09:14<3:43:06,  1.15s/video]"
     ]
    },
    {
     "name": "stdout",
     "output_type": "stream",
     "text": [
      "Saved 66073.mp4 as linguistics_frames.npy\n"
     ]
    },
    {
     "name": "stderr",
     "output_type": "stream",
     "text": [
      "\rProcessing Videos:   3%|▎         | 372/11980 [09:15<3:31:26,  1.09s/video]"
     ]
    },
    {
     "name": "stdout",
     "output_type": "stream",
     "text": [
      "Saved 66054.mp4 as p_frames.npy\n"
     ]
    },
    {
     "name": "stderr",
     "output_type": "stream",
     "text": [
      "\rProcessing Videos:   3%|▎         | 373/11980 [09:16<3:41:52,  1.15s/video]"
     ]
    },
    {
     "name": "stdout",
     "output_type": "stream",
     "text": [
      "Saved 66091.mp4 as machine_frames.npy\n"
     ]
    },
    {
     "name": "stderr",
     "output_type": "stream",
     "text": [
      "\rProcessing Videos:   3%|▎         | 374/11980 [09:17<3:17:19,  1.02s/video]"
     ]
    },
    {
     "name": "stdout",
     "output_type": "stream",
     "text": [
      "Saved 66061.mp4 as w_frames.npy\n"
     ]
    },
    {
     "name": "stderr",
     "output_type": "stream",
     "text": [
      "\rProcessing Videos:   3%|▎         | 375/11980 [09:18<2:53:53,  1.11video/s]"
     ]
    },
    {
     "name": "stdout",
     "output_type": "stream",
     "text": [
      "Saved 66058.mp4 as t_frames.npy\n"
     ]
    },
    {
     "name": "stderr",
     "output_type": "stream",
     "text": [
      "\rProcessing Videos:   3%|▎         | 376/11980 [09:18<2:41:49,  1.20video/s]"
     ]
    },
    {
     "name": "stdout",
     "output_type": "stream",
     "text": [
      "Saved 66048.mp4 as j_frames.npy\n"
     ]
    },
    {
     "name": "stderr",
     "output_type": "stream",
     "text": [
      "\rProcessing Videos:   3%|▎         | 377/11980 [09:19<2:45:35,  1.17video/s]"
     ]
    },
    {
     "name": "stdout",
     "output_type": "stream",
     "text": [
      "Saved 66123.mp4 as mind_frames.npy\n"
     ]
    },
    {
     "name": "stderr",
     "output_type": "stream",
     "text": [
      "\rProcessing Videos:   3%|▎         | 378/11980 [09:20<3:11:19,  1.01video/s]"
     ]
    },
    {
     "name": "stdout",
     "output_type": "stream",
     "text": [
      "Saved 66104.mp4 as marry_frames.npy\n"
     ]
    },
    {
     "name": "stderr",
     "output_type": "stream",
     "text": [
      "\rProcessing Videos:   3%|▎         | 379/11980 [09:21<3:07:19,  1.03video/s]"
     ]
    },
    {
     "name": "stdout",
     "output_type": "stream",
     "text": [
      "Saved 66072.mp4 as limit_frames.npy\n"
     ]
    },
    {
     "name": "stderr",
     "output_type": "stream",
     "text": [
      "\rProcessing Videos:   3%|▎         | 380/11980 [09:23<3:50:31,  1.19s/video]"
     ]
    },
    {
     "name": "stdout",
     "output_type": "stream",
     "text": [
      "Saved 66067.mp4 as lie_frames.npy\n"
     ]
    },
    {
     "name": "stderr",
     "output_type": "stream",
     "text": [
      "\rProcessing Videos:   3%|▎         | 381/11980 [09:24<3:42:30,  1.15s/video]"
     ]
    },
    {
     "name": "stdout",
     "output_type": "stream",
     "text": [
      "Saved 66116.mp4 as mention_frames.npy\n"
     ]
    },
    {
     "name": "stderr",
     "output_type": "stream",
     "text": [
      "\rProcessing Videos:   3%|▎         | 382/11980 [09:25<3:19:03,  1.03s/video]"
     ]
    },
    {
     "name": "stdout",
     "output_type": "stream",
     "text": [
      "Saved 66078.mp4 as live_frames.npy\n"
     ]
    },
    {
     "name": "stderr",
     "output_type": "stream",
     "text": [
      "\rProcessing Videos:   3%|▎         | 383/11980 [09:26<3:30:03,  1.09s/video]"
     ]
    },
    {
     "name": "stdout",
     "output_type": "stream",
     "text": [
      "Saved 66097.mp4 as man_frames.npy\n"
     ]
    },
    {
     "name": "stderr",
     "output_type": "stream",
     "text": [
      "\rProcessing Videos:   3%|▎         | 384/11980 [09:27<3:40:54,  1.14s/video]"
     ]
    },
    {
     "name": "stdout",
     "output_type": "stream",
     "text": [
      "Saved 66092.mp4 as magic_frames.npy\n"
     ]
    },
    {
     "name": "stderr",
     "output_type": "stream",
     "text": [
      "\rProcessing Videos:   3%|▎         | 385/11980 [09:28<3:34:50,  1.11s/video]"
     ]
    },
    {
     "name": "stdout",
     "output_type": "stream",
     "text": [
      "Saved 66108.mp4 as measure_frames.npy\n"
     ]
    },
    {
     "name": "stderr",
     "output_type": "stream",
     "text": [
      "\rProcessing Videos:   3%|▎         | 386/11980 [09:29<3:14:02,  1.00s/video]"
     ]
    },
    {
     "name": "stdout",
     "output_type": "stream",
     "text": [
      "Saved 66059.mp4 as u_frames.npy\n"
     ]
    },
    {
     "name": "stderr",
     "output_type": "stream",
     "text": [
      "\rProcessing Videos:   3%|▎         | 387/11980 [09:30<3:08:35,  1.02video/s]"
     ]
    },
    {
     "name": "stdout",
     "output_type": "stream",
     "text": [
      "Saved 66052.mp4 as n_frames.npy\n"
     ]
    },
    {
     "name": "stderr",
     "output_type": "stream",
     "text": [
      "\rProcessing Videos:   3%|▎         | 388/11980 [09:32<3:51:04,  1.20s/video]"
     ]
    },
    {
     "name": "stdout",
     "output_type": "stream",
     "text": [
      "Saved 66046.mp4 as h_frames.npy\n"
     ]
    },
    {
     "name": "stderr",
     "output_type": "stream",
     "text": [
      "\rProcessing Videos:   3%|▎         | 389/11980 [09:33<3:49:13,  1.19s/video]"
     ]
    },
    {
     "name": "stdout",
     "output_type": "stream",
     "text": [
      "Saved 66114.mp4 as memorize_frames.npy\n"
     ]
    },
    {
     "name": "stderr",
     "output_type": "stream",
     "text": [
      "\rProcessing Videos:   3%|▎         | 390/11980 [09:34<4:04:43,  1.27s/video]"
     ]
    },
    {
     "name": "stdout",
     "output_type": "stream",
     "text": [
      "Saved 66081.mp4 as lonely_frames.npy\n"
     ]
    },
    {
     "name": "stderr",
     "output_type": "stream",
     "text": [
      "\rProcessing Videos:   3%|▎         | 391/11980 [09:37<4:58:02,  1.54s/video]"
     ]
    },
    {
     "name": "stdout",
     "output_type": "stream",
     "text": [
      "Saved 66109.mp4 as meat_frames.npy\n"
     ]
    },
    {
     "name": "stderr",
     "output_type": "stream",
     "text": [
      "\rProcessing Videos:   3%|▎         | 392/11980 [09:38<4:51:55,  1.51s/video]"
     ]
    },
    {
     "name": "stdout",
     "output_type": "stream",
     "text": [
      "Saved 66119.mp4 as mexico_frames.npy\n"
     ]
    },
    {
     "name": "stderr",
     "output_type": "stream",
     "text": [
      "\rProcessing Videos:   3%|▎         | 393/11980 [09:39<4:12:54,  1.31s/video]"
     ]
    },
    {
     "name": "stdout",
     "output_type": "stream",
     "text": [
      "Saved 66057.mp4 as s_frames.npy\n"
     ]
    },
    {
     "name": "stderr",
     "output_type": "stream",
     "text": [
      "\rProcessing Videos:   3%|▎         | 394/11980 [09:40<4:03:42,  1.26s/video]"
     ]
    },
    {
     "name": "stdout",
     "output_type": "stream",
     "text": [
      "Saved 66068.mp4 as lift_frames.npy\n"
     ]
    },
    {
     "name": "stderr",
     "output_type": "stream",
     "text": [
      "\rProcessing Videos:   3%|▎         | 395/11980 [09:42<4:41:16,  1.46s/video]"
     ]
    },
    {
     "name": "stdout",
     "output_type": "stream",
     "text": [
      "Saved 66127.mp4 as minute_frames.npy\n"
     ]
    },
    {
     "name": "stderr",
     "output_type": "stream",
     "text": [
      "\rProcessing Videos:   3%|▎         | 396/11980 [09:43<4:39:36,  1.45s/video]"
     ]
    },
    {
     "name": "stdout",
     "output_type": "stream",
     "text": [
      "Saved 66069.mp4 as light_frames.npy\n"
     ]
    },
    {
     "name": "stderr",
     "output_type": "stream",
     "text": [
      "\rProcessing Videos:   3%|▎         | 397/11980 [09:44<4:10:46,  1.30s/video]"
     ]
    },
    {
     "name": "stdout",
     "output_type": "stream",
     "text": [
      "Saved 66173.mp4 as nine_frames.npy\n"
     ]
    },
    {
     "name": "stderr",
     "output_type": "stream",
     "text": [
      "\rProcessing Videos:   3%|▎         | 398/11980 [09:46<4:08:36,  1.29s/video]"
     ]
    },
    {
     "name": "stdout",
     "output_type": "stream",
     "text": [
      "Saved 66222.mp4 as octopus_frames.npy\n"
     ]
    },
    {
     "name": "stderr",
     "output_type": "stream",
     "text": [
      "\rProcessing Videos:   3%|▎         | 399/11980 [09:46<3:35:32,  1.12s/video]"
     ]
    },
    {
     "name": "stdout",
     "output_type": "stream",
     "text": [
      "Saved 66159.mp4 as napkin_frames.npy\n"
     ]
    },
    {
     "name": "stderr",
     "output_type": "stream",
     "text": [
      "\rProcessing Videos:   3%|▎         | 400/11980 [09:48<4:02:56,  1.26s/video]"
     ]
    },
    {
     "name": "stdout",
     "output_type": "stream",
     "text": [
      "Saved 66193.mp4 as notice_frames.npy\n"
     ]
    },
    {
     "name": "stderr",
     "output_type": "stream",
     "text": [
      "\rProcessing Videos:   3%|▎         | 401/11980 [09:49<4:19:38,  1.35s/video]"
     ]
    },
    {
     "name": "stdout",
     "output_type": "stream",
     "text": [
      "Saved 66164.mp4 as negative_frames.npy\n"
     ]
    },
    {
     "name": "stderr",
     "output_type": "stream",
     "text": [
      "\rProcessing Videos:   3%|▎         | 402/11980 [09:50<3:50:29,  1.19s/video]"
     ]
    },
    {
     "name": "stdout",
     "output_type": "stream",
     "text": [
      "Saved 66227.mp4 as once_frames.npy\n"
     ]
    },
    {
     "name": "stderr",
     "output_type": "stream",
     "text": [
      "\rProcessing Videos:   3%|▎         | 403/11980 [09:51<3:46:17,  1.17s/video]"
     ]
    },
    {
     "name": "stdout",
     "output_type": "stream",
     "text": [
      "Saved 66178.mp4 as nineteen_frames.npy\n"
     ]
    },
    {
     "name": "stderr",
     "output_type": "stream",
     "text": [
      "\rProcessing Videos:   3%|▎         | 404/11980 [09:52<3:30:13,  1.09s/video]"
     ]
    },
    {
     "name": "stdout",
     "output_type": "stream",
     "text": [
      "Saved 66224.mp4 as office_frames.npy\n"
     ]
    },
    {
     "name": "stderr",
     "output_type": "stream",
     "text": [
      "\rProcessing Videos:   3%|▎         | 405/11980 [09:54<3:46:51,  1.18s/video]"
     ]
    },
    {
     "name": "stdout",
     "output_type": "stream",
     "text": [
      "Saved 66148.mp4 as motivate_frames.npy\n"
     ]
    },
    {
     "name": "stderr",
     "output_type": "stream",
     "text": [
      "\rProcessing Videos:   3%|▎         | 406/11980 [09:55<3:29:04,  1.08s/video]"
     ]
    },
    {
     "name": "stdout",
     "output_type": "stream",
     "text": [
      "Saved 66228.mp4 as one_frames.npy\n"
     ]
    },
    {
     "name": "stderr",
     "output_type": "stream",
     "text": [
      "\rProcessing Videos:   3%|▎         | 407/11980 [09:56<3:43:54,  1.16s/video]"
     ]
    },
    {
     "name": "stdout",
     "output_type": "stream",
     "text": [
      "Saved 66221.mp4 as obsess_frames.npy\n"
     ]
    },
    {
     "name": "stderr",
     "output_type": "stream",
     "text": [
      "\rProcessing Videos:   3%|▎         | 408/11980 [09:57<3:53:41,  1.21s/video]"
     ]
    },
    {
     "name": "stdout",
     "output_type": "stream",
     "text": [
      "Saved 66165.mp4 as network_frames.npy\n"
     ]
    },
    {
     "name": "stderr",
     "output_type": "stream",
     "text": [
      "\rProcessing Videos:   3%|▎         | 409/11980 [09:59<4:02:56,  1.26s/video]"
     ]
    },
    {
     "name": "stdout",
     "output_type": "stream",
     "text": [
      "Saved 66156.mp4 as music_frames.npy\n"
     ]
    },
    {
     "name": "stderr",
     "output_type": "stream",
     "text": [
      "\rProcessing Videos:   3%|▎         | 410/11980 [10:00<3:51:28,  1.20s/video]"
     ]
    },
    {
     "name": "stdout",
     "output_type": "stream",
     "text": [
      "Saved 66147.mp4 as mother_frames.npy\n"
     ]
    },
    {
     "name": "stderr",
     "output_type": "stream",
     "text": [
      "\rProcessing Videos:   3%|▎         | 411/11980 [10:01<3:44:48,  1.17s/video]"
     ]
    },
    {
     "name": "stdout",
     "output_type": "stream",
     "text": [
      "Saved 66149.mp4 as mouth_frames.npy\n"
     ]
    },
    {
     "name": "stderr",
     "output_type": "stream",
     "text": [
      "\rProcessing Videos:   3%|▎         | 412/11980 [10:02<3:31:24,  1.10s/video]"
     ]
    },
    {
     "name": "stdout",
     "output_type": "stream",
     "text": [
      "Saved 66171.mp4 as niece_frames.npy\n"
     ]
    },
    {
     "name": "stderr",
     "output_type": "stream",
     "text": [
      "\rProcessing Videos:   3%|▎         | 413/11980 [10:03<3:21:43,  1.05s/video]"
     ]
    },
    {
     "name": "stdout",
     "output_type": "stream",
     "text": [
      "Saved 66253.mp4 as overlook_frames.npy\n"
     ]
    },
    {
     "name": "stderr",
     "output_type": "stream",
     "text": [
      "\rProcessing Videos:   3%|▎         | 414/11980 [10:04<3:35:10,  1.12s/video]"
     ]
    },
    {
     "name": "stdout",
     "output_type": "stream",
     "text": [
      "Saved 66256.mp4 as owl_frames.npy\n"
     ]
    },
    {
     "name": "stderr",
     "output_type": "stream",
     "text": [
      "\rProcessing Videos:   3%|▎         | 415/11980 [10:05<3:44:16,  1.16s/video]"
     ]
    },
    {
     "name": "stdout",
     "output_type": "stream",
     "text": [
      "Saved 66129.mp4 as mirror_frames.npy\n"
     ]
    },
    {
     "name": "stderr",
     "output_type": "stream",
     "text": [
      "\rProcessing Videos:   3%|▎         | 416/11980 [10:06<3:42:39,  1.16s/video]"
     ]
    },
    {
     "name": "stdout",
     "output_type": "stream",
     "text": [
      "Saved 66192.mp4 as nothing_frames.npy\n"
     ]
    },
    {
     "name": "stderr",
     "output_type": "stream",
     "text": [
      "\rProcessing Videos:   3%|▎         | 417/11980 [10:08<3:56:38,  1.23s/video]"
     ]
    },
    {
     "name": "stdout",
     "output_type": "stream",
     "text": [
      "Saved 66258.mp4 as pack_frames.npy\n"
     ]
    },
    {
     "name": "stderr",
     "output_type": "stream",
     "text": [
      "\rProcessing Videos:   3%|▎         | 418/11980 [10:09<3:54:37,  1.22s/video]"
     ]
    },
    {
     "name": "stdout",
     "output_type": "stream",
     "text": [
      "Saved 66265.mp4 as party_frames.npy\n"
     ]
    },
    {
     "name": "stderr",
     "output_type": "stream",
     "text": [
      "\rProcessing Videos:   3%|▎         | 419/11980 [10:10<3:37:24,  1.13s/video]"
     ]
    },
    {
     "name": "stdout",
     "output_type": "stream",
     "text": [
      "Saved 66136.mp4 as monday_frames.npy\n"
     ]
    },
    {
     "name": "stderr",
     "output_type": "stream",
     "text": [
      "\rProcessing Videos:   4%|▎         | 420/11980 [10:11<3:28:51,  1.08s/video]"
     ]
    },
    {
     "name": "stdout",
     "output_type": "stream",
     "text": [
      "Saved 66220.mp4 as nut_frames.npy\n"
     ]
    },
    {
     "name": "stderr",
     "output_type": "stream",
     "text": [
      "\rProcessing Videos:   4%|▎         | 421/11980 [10:12<3:13:55,  1.01s/video]"
     ]
    },
    {
     "name": "stdout",
     "output_type": "stream",
     "text": [
      "Saved 66166.mp4 as never_frames.npy\n"
     ]
    },
    {
     "name": "stderr",
     "output_type": "stream",
     "text": [
      "\rProcessing Videos:   4%|▎         | 422/11980 [10:13<3:25:23,  1.07s/video]"
     ]
    },
    {
     "name": "stdout",
     "output_type": "stream",
     "text": [
      "Saved 66138.mp4 as money_frames.npy\n"
     ]
    },
    {
     "name": "stderr",
     "output_type": "stream",
     "text": [
      "\rProcessing Videos:   4%|▎         | 423/11980 [10:14<3:38:20,  1.13s/video]"
     ]
    },
    {
     "name": "stdout",
     "output_type": "stream",
     "text": [
      "Saved 66141.mp4 as month_frames.npy\n"
     ]
    },
    {
     "name": "stderr",
     "output_type": "stream",
     "text": [
      "\rProcessing Videos:   4%|▎         | 424/11980 [10:15<3:47:19,  1.18s/video]"
     ]
    },
    {
     "name": "stdout",
     "output_type": "stream",
     "text": [
      "Saved 66267.mp4 as pass_frames.npy\n"
     ]
    },
    {
     "name": "stderr",
     "output_type": "stream",
     "text": [
      "\rProcessing Videos:   4%|▎         | 425/11980 [10:17<3:55:45,  1.22s/video]"
     ]
    },
    {
     "name": "stdout",
     "output_type": "stream",
     "text": [
      "Saved 66133.mp4 as mix_frames.npy\n"
     ]
    },
    {
     "name": "stderr",
     "output_type": "stream",
     "text": [
      "\rProcessing Videos:   4%|▎         | 426/11980 [10:18<3:55:01,  1.22s/video]"
     ]
    },
    {
     "name": "stdout",
     "output_type": "stream",
     "text": [
      "Saved 66145.mp4 as most_frames.npy\n"
     ]
    },
    {
     "name": "stderr",
     "output_type": "stream",
     "text": [
      "\rProcessing Videos:   4%|▎         | 427/11980 [10:19<4:03:22,  1.26s/video]"
     ]
    },
    {
     "name": "stdout",
     "output_type": "stream",
     "text": [
      "Saved 66155.mp4 as museum_frames.npy\n"
     ]
    },
    {
     "name": "stderr",
     "output_type": "stream",
     "text": [
      "\rProcessing Videos:   4%|▎         | 428/11980 [10:20<3:44:55,  1.17s/video]"
     ]
    },
    {
     "name": "stdout",
     "output_type": "stream",
     "text": [
      "Saved 66161.mp4 as neck_frames.npy\n"
     ]
    },
    {
     "name": "stderr",
     "output_type": "stream",
     "text": [
      "\rProcessing Videos:   4%|▎         | 429/11980 [10:21<3:36:43,  1.13s/video]"
     ]
    },
    {
     "name": "stdout",
     "output_type": "stream",
     "text": [
      "Saved 66240.mp4 as opinion_frames.npy\n"
     ]
    },
    {
     "name": "stderr",
     "output_type": "stream",
     "text": [
      "\rProcessing Videos:   4%|▎         | 430/11980 [10:23<3:48:49,  1.19s/video]"
     ]
    },
    {
     "name": "stdout",
     "output_type": "stream",
     "text": [
      "Saved 66162.mp4 as necklace_frames.npy\n"
     ]
    },
    {
     "name": "stderr",
     "output_type": "stream",
     "text": [
      "\rProcessing Videos:   4%|▎         | 431/11980 [10:24<3:57:52,  1.24s/video]"
     ]
    },
    {
     "name": "stdout",
     "output_type": "stream",
     "text": [
      "Saved 66140.mp4 as monkey_frames.npy\n"
     ]
    },
    {
     "name": "stderr",
     "output_type": "stream",
     "text": [
      "\rProcessing Videos:   4%|▎         | 432/11980 [10:25<4:09:00,  1.29s/video]"
     ]
    },
    {
     "name": "stdout",
     "output_type": "stream",
     "text": [
      "Saved 66154.mp4 as much_frames.npy\n"
     ]
    },
    {
     "name": "stderr",
     "output_type": "stream",
     "text": [
      "\rProcessing Videos:   4%|▎         | 433/11980 [10:27<4:15:02,  1.33s/video]"
     ]
    },
    {
     "name": "stdout",
     "output_type": "stream",
     "text": [
      "Saved 66261.mp4 as pants_frames.npy\n"
     ]
    },
    {
     "name": "stderr",
     "output_type": "stream",
     "text": [
      "\rProcessing Videos:   4%|▎         | 434/11980 [10:29<4:41:59,  1.47s/video]"
     ]
    },
    {
     "name": "stdout",
     "output_type": "stream",
     "text": [
      "Saved 66255.mp4 as overwhelm_frames.npy\n"
     ]
    },
    {
     "name": "stderr",
     "output_type": "stream",
     "text": [
      "\rProcessing Videos:   4%|▎         | 435/11980 [10:30<4:16:14,  1.33s/video]"
     ]
    },
    {
     "name": "stdout",
     "output_type": "stream",
     "text": [
      "Saved 66246.mp4 as orange_frames.npy\n"
     ]
    },
    {
     "name": "stderr",
     "output_type": "stream",
     "text": [
      "\rProcessing Videos:   4%|▎         | 436/11980 [10:31<3:53:03,  1.21s/video]"
     ]
    },
    {
     "name": "stdout",
     "output_type": "stream",
     "text": [
      "Saved 66177.mp4 as nineteen_frames.npy\n"
     ]
    },
    {
     "name": "stderr",
     "output_type": "stream",
     "text": [
      "\rProcessing Videos:   4%|▎         | 437/11980 [10:32<4:02:35,  1.26s/video]"
     ]
    },
    {
     "name": "stdout",
     "output_type": "stream",
     "text": [
      "Saved 66189.mp4 as normal_frames.npy\n"
     ]
    },
    {
     "name": "stderr",
     "output_type": "stream",
     "text": [
      "\rProcessing Videos:   4%|▎         | 438/11980 [10:33<3:55:37,  1.22s/video]"
     ]
    },
    {
     "name": "stdout",
     "output_type": "stream",
     "text": [
      "Saved 66248.mp4 as order_frames.npy\n"
     ]
    },
    {
     "name": "stderr",
     "output_type": "stream",
     "text": [
      "\rProcessing Videos:   4%|▎         | 439/11980 [10:34<3:44:13,  1.17s/video]"
     ]
    },
    {
     "name": "stdout",
     "output_type": "stream",
     "text": [
      "Saved 66183.mp4 as no_frames.npy\n"
     ]
    },
    {
     "name": "stderr",
     "output_type": "stream",
     "text": [
      "\rProcessing Videos:   4%|▎         | 440/11980 [10:35<3:32:24,  1.10s/video]"
     ]
    },
    {
     "name": "stdout",
     "output_type": "stream",
     "text": [
      "Saved 66131.mp4 as miss_frames.npy\n"
     ]
    },
    {
     "name": "stderr",
     "output_type": "stream",
     "text": [
      "\rProcessing Videos:   4%|▎         | 441/11980 [10:36<3:28:52,  1.09s/video]"
     ]
    },
    {
     "name": "stdout",
     "output_type": "stream",
     "text": [
      "Saved 66249.mp4 as order_frames.npy\n"
     ]
    },
    {
     "name": "stderr",
     "output_type": "stream",
     "text": [
      "\rProcessing Videos:   4%|▎         | 442/11980 [10:37<3:31:45,  1.10s/video]"
     ]
    },
    {
     "name": "stdout",
     "output_type": "stream",
     "text": [
      "Saved 66146.mp4 as mother_frames.npy\n"
     ]
    },
    {
     "name": "stderr",
     "output_type": "stream",
     "text": [
      "\rProcessing Videos:   4%|▎         | 443/11980 [10:39<3:43:08,  1.16s/video]"
     ]
    },
    {
     "name": "stdout",
     "output_type": "stream",
     "text": [
      "Saved 66151.mp4 as move_frames.npy\n"
     ]
    },
    {
     "name": "stderr",
     "output_type": "stream",
     "text": [
      "\rProcessing Videos:   4%|▎         | 444/11980 [10:40<3:43:25,  1.16s/video]"
     ]
    },
    {
     "name": "stdout",
     "output_type": "stream",
     "text": [
      "Saved 66142.mp4 as moon_frames.npy\n"
     ]
    },
    {
     "name": "stderr",
     "output_type": "stream",
     "text": [
      "\rProcessing Videos:   4%|▎         | 445/11980 [10:41<3:52:17,  1.21s/video]"
     ]
    },
    {
     "name": "stdout",
     "output_type": "stream",
     "text": [
      "Saved 66128.mp4 as minute_frames.npy\n"
     ]
    },
    {
     "name": "stderr",
     "output_type": "stream",
     "text": [
      "\rProcessing Videos:   4%|▎         | 446/11980 [10:42<3:51:26,  1.20s/video]"
     ]
    },
    {
     "name": "stdout",
     "output_type": "stream",
     "text": [
      "Saved 66263.mp4 as parallel_frames.npy\n"
     ]
    },
    {
     "name": "stderr",
     "output_type": "stream",
     "text": [
      "\rProcessing Videos:   4%|▎         | 447/11980 [10:44<4:06:22,  1.28s/video]"
     ]
    },
    {
     "name": "stdout",
     "output_type": "stream",
     "text": [
      "Saved 66245.mp4 as oral_frames.npy\n"
     ]
    },
    {
     "name": "stderr",
     "output_type": "stream",
     "text": [
      "\rProcessing Videos:   4%|▎         | 448/11980 [10:45<3:43:26,  1.16s/video]"
     ]
    },
    {
     "name": "stdout",
     "output_type": "stream",
     "text": [
      "Saved 66239.mp4 as opinion_frames.npy\n"
     ]
    },
    {
     "name": "stderr",
     "output_type": "stream",
     "text": [
      "\rProcessing Videos:   4%|▎         | 449/11980 [10:45<3:28:32,  1.09s/video]"
     ]
    },
    {
     "name": "stdout",
     "output_type": "stream",
     "text": [
      "Saved 66186.mp4 as none_frames.npy\n"
     ]
    },
    {
     "name": "stderr",
     "output_type": "stream",
     "text": [
      "\rProcessing Videos:   4%|▍         | 450/11980 [10:47<3:32:58,  1.11s/video]"
     ]
    },
    {
     "name": "stdout",
     "output_type": "stream",
     "text": [
      "Saved 66281.mp4 as perspective_frames.npy\n"
     ]
    },
    {
     "name": "stderr",
     "output_type": "stream",
     "text": [
      "\rProcessing Videos:   4%|▍         | 451/11980 [10:48<3:34:38,  1.12s/video]"
     ]
    },
    {
     "name": "stdout",
     "output_type": "stream",
     "text": [
      "Saved 66306.mp4 as police_frames.npy\n"
     ]
    },
    {
     "name": "stderr",
     "output_type": "stream",
     "text": [
      "\rProcessing Videos:   4%|▍         | 452/11980 [10:49<3:41:08,  1.15s/video]"
     ]
    },
    {
     "name": "stdout",
     "output_type": "stream",
     "text": [
      "Saved 66318.mp4 as potato_frames.npy\n"
     ]
    },
    {
     "name": "stderr",
     "output_type": "stream",
     "text": [
      "\rProcessing Videos:   4%|▍         | 453/11980 [10:50<3:50:36,  1.20s/video]"
     ]
    },
    {
     "name": "stdout",
     "output_type": "stream",
     "text": [
      "Saved 66299.mp4 as plate_frames.npy\n"
     ]
    },
    {
     "name": "stderr",
     "output_type": "stream",
     "text": [
      "\rProcessing Videos:   4%|▍         | 454/11980 [10:52<4:32:18,  1.42s/video]"
     ]
    },
    {
     "name": "stdout",
     "output_type": "stream",
     "text": [
      "Saved 66356.mp4 as push_frames.npy\n"
     ]
    },
    {
     "name": "stderr",
     "output_type": "stream",
     "text": [
      "\rProcessing Videos:   4%|▍         | 455/11980 [10:54<4:28:46,  1.40s/video]"
     ]
    },
    {
     "name": "stdout",
     "output_type": "stream",
     "text": [
      "Saved 66296.mp4 as pink_frames.npy\n"
     ]
    },
    {
     "name": "stderr",
     "output_type": "stream",
     "text": [
      "\rProcessing Videos:   4%|▍         | 456/11980 [10:55<4:12:49,  1.32s/video]"
     ]
    },
    {
     "name": "stdout",
     "output_type": "stream",
     "text": [
      "Saved 66271.mp4 as pay_frames.npy\n"
     ]
    },
    {
     "name": "stderr",
     "output_type": "stream",
     "text": [
      "\rProcessing Videos:   4%|▍         | 457/11980 [10:56<3:58:58,  1.24s/video]"
     ]
    },
    {
     "name": "stdout",
     "output_type": "stream",
     "text": [
      "Saved 66298.mp4 as plan_frames.npy\n"
     ]
    },
    {
     "name": "stderr",
     "output_type": "stream",
     "text": [
      "\rProcessing Videos:   4%|▍         | 458/11980 [10:57<3:51:13,  1.20s/video]"
     ]
    },
    {
     "name": "stdout",
     "output_type": "stream",
     "text": [
      "Saved 66284.mp4 as philadelphia_frames.npy\n"
     ]
    },
    {
     "name": "stderr",
     "output_type": "stream",
     "text": [
      "\rProcessing Videos:   4%|▍         | 459/11980 [10:58<3:48:33,  1.19s/video]"
     ]
    },
    {
     "name": "stdout",
     "output_type": "stream",
     "text": [
      "Saved 66300.mp4 as player_frames.npy\n"
     ]
    },
    {
     "name": "stderr",
     "output_type": "stream",
     "text": [
      "\rProcessing Videos:   4%|▍         | 460/11980 [10:59<3:50:40,  1.20s/video]"
     ]
    },
    {
     "name": "stdout",
     "output_type": "stream",
     "text": [
      "Saved 66331.mp4 as principal_frames.npy\n"
     ]
    },
    {
     "name": "stderr",
     "output_type": "stream",
     "text": [
      "\rProcessing Videos:   4%|▍         | 461/11980 [11:00<3:48:44,  1.19s/video]"
     ]
    },
    {
     "name": "stdout",
     "output_type": "stream",
     "text": [
      "Saved 66319.mp4 as power_frames.npy\n"
     ]
    },
    {
     "name": "stderr",
     "output_type": "stream",
     "text": [
      "\rProcessing Videos:   4%|▍         | 462/11980 [11:02<4:17:44,  1.34s/video]"
     ]
    },
    {
     "name": "stdout",
     "output_type": "stream",
     "text": [
      "Saved 66332.mp4 as print_frames.npy\n"
     ]
    },
    {
     "name": "stderr",
     "output_type": "stream",
     "text": [
      "\rProcessing Videos:   4%|▍         | 463/11980 [11:04<4:31:58,  1.42s/video]"
     ]
    },
    {
     "name": "stdout",
     "output_type": "stream",
     "text": [
      "Saved 66338.mp4 as project_frames.npy\n"
     ]
    },
    {
     "name": "stderr",
     "output_type": "stream",
     "text": [
      "\rProcessing Videos:   4%|▍         | 464/11980 [11:05<4:23:21,  1.37s/video]"
     ]
    },
    {
     "name": "stdout",
     "output_type": "stream",
     "text": [
      "Saved 66279.mp4 as period_frames.npy\n"
     ]
    },
    {
     "name": "stderr",
     "output_type": "stream",
     "text": [
      "\rProcessing Videos:   4%|▍         | 465/11980 [11:06<4:13:23,  1.32s/video]"
     ]
    },
    {
     "name": "stdout",
     "output_type": "stream",
     "text": [
      "Saved 66334.mp4 as prison_frames.npy\n"
     ]
    },
    {
     "name": "stderr",
     "output_type": "stream",
     "text": [
      "\rProcessing Videos:   4%|▍         | 466/11980 [11:07<4:11:07,  1.31s/video]"
     ]
    },
    {
     "name": "stdout",
     "output_type": "stream",
     "text": [
      "Saved 66340.mp4 as promote_frames.npy\n"
     ]
    },
    {
     "name": "stderr",
     "output_type": "stream",
     "text": [
      "\rProcessing Videos:   4%|▍         | 467/11980 [11:09<4:13:53,  1.32s/video]"
     ]
    },
    {
     "name": "stdout",
     "output_type": "stream",
     "text": [
      "Saved 66308.mp4 as polite_frames.npy\n"
     ]
    },
    {
     "name": "stderr",
     "output_type": "stream",
     "text": [
      "\rProcessing Videos:   4%|▍         | 468/11980 [11:10<4:08:42,  1.30s/video]"
     ]
    },
    {
     "name": "stdout",
     "output_type": "stream",
     "text": [
      "Saved 66287.mp4 as philosophy_frames.npy\n"
     ]
    },
    {
     "name": "stderr",
     "output_type": "stream",
     "text": [
      "\rProcessing Videos:   4%|▍         | 469/11980 [11:11<4:08:01,  1.29s/video]"
     ]
    },
    {
     "name": "stdout",
     "output_type": "stream",
     "text": [
      "Saved 66337.mp4 as program_frames.npy\n"
     ]
    },
    {
     "name": "stderr",
     "output_type": "stream",
     "text": [
      "\rProcessing Videos:   4%|▍         | 470/11980 [11:13<4:27:00,  1.39s/video]"
     ]
    },
    {
     "name": "stdout",
     "output_type": "stream",
     "text": [
      "Saved 66354.mp4 as punish_frames.npy\n"
     ]
    },
    {
     "name": "stderr",
     "output_type": "stream",
     "text": [
      "\rProcessing Videos:   4%|▍         | 471/11980 [11:14<4:17:56,  1.34s/video]"
     ]
    },
    {
     "name": "stdout",
     "output_type": "stream",
     "text": [
      "Saved 66280.mp4 as person_frames.npy\n"
     ]
    },
    {
     "name": "stderr",
     "output_type": "stream",
     "text": [
      "\rProcessing Videos:   4%|▍         | 472/11980 [11:16<4:34:22,  1.43s/video]"
     ]
    },
    {
     "name": "stdout",
     "output_type": "stream",
     "text": [
      "Saved 66313.mp4 as positive_frames.npy\n"
     ]
    },
    {
     "name": "stderr",
     "output_type": "stream",
     "text": [
      "\rProcessing Videos:   4%|▍         | 473/11980 [11:17<4:13:59,  1.32s/video]"
     ]
    },
    {
     "name": "stdout",
     "output_type": "stream",
     "text": [
      "Saved 66324.mp4 as prepare_frames.npy\n"
     ]
    },
    {
     "name": "stderr",
     "output_type": "stream",
     "text": [
      "\rProcessing Videos:   4%|▍         | 474/11980 [11:18<3:54:29,  1.22s/video]"
     ]
    },
    {
     "name": "stdout",
     "output_type": "stream",
     "text": [
      "Saved 66341.mp4 as proof_frames.npy\n"
     ]
    },
    {
     "name": "stderr",
     "output_type": "stream",
     "text": [
      "\rProcessing Videos:   4%|▍         | 475/11980 [11:19<4:09:48,  1.30s/video]"
     ]
    },
    {
     "name": "stdout",
     "output_type": "stream",
     "text": [
      "Saved 66297.mp4 as pizza_frames.npy\n"
     ]
    },
    {
     "name": "stderr",
     "output_type": "stream",
     "text": [
      "\rProcessing Videos:   4%|▍         | 476/11980 [11:21<4:09:42,  1.30s/video]"
     ]
    },
    {
     "name": "stdout",
     "output_type": "stream",
     "text": [
      "Saved 66346.mp4 as provide_frames.npy\n"
     ]
    },
    {
     "name": "stderr",
     "output_type": "stream",
     "text": [
      "\rProcessing Videos:   4%|▍         | 477/11980 [11:22<3:57:33,  1.24s/video]"
     ]
    },
    {
     "name": "stdout",
     "output_type": "stream",
     "text": [
      "Saved 66291.mp4 as pick_frames.npy\n"
     ]
    },
    {
     "name": "stderr",
     "output_type": "stream",
     "text": [
      "\rProcessing Videos:   4%|▍         | 478/11980 [11:23<3:53:37,  1.22s/video]"
     ]
    },
    {
     "name": "stdout",
     "output_type": "stream",
     "text": [
      "Saved 66343.mp4 as protect_frames.npy\n"
     ]
    },
    {
     "name": "stderr",
     "output_type": "stream",
     "text": [
      "\rProcessing Videos:   4%|▍         | 479/11980 [11:25<4:14:37,  1.33s/video]"
     ]
    },
    {
     "name": "stdout",
     "output_type": "stream",
     "text": [
      "Saved 66307.mp4 as policy_frames.npy\n"
     ]
    },
    {
     "name": "stderr",
     "output_type": "stream",
     "text": [
      "\rProcessing Videos:   4%|▍         | 480/11980 [11:25<3:53:26,  1.22s/video]"
     ]
    },
    {
     "name": "stdout",
     "output_type": "stream",
     "text": [
      "Saved 66321.mp4 as precious_frames.npy\n"
     ]
    },
    {
     "name": "stderr",
     "output_type": "stream",
     "text": [
      "\rProcessing Videos:   4%|▍         | 481/11980 [11:27<3:55:50,  1.23s/video]"
     ]
    },
    {
     "name": "stdout",
     "output_type": "stream",
     "text": [
      "Saved 66352.mp4 as pumpkin_frames.npy\n"
     ]
    },
    {
     "name": "stderr",
     "output_type": "stream",
     "text": [
      "\rProcessing Videos:   4%|▍         | 482/11980 [11:28<3:46:37,  1.18s/video]"
     ]
    },
    {
     "name": "stdout",
     "output_type": "stream",
     "text": [
      "Saved 66285.mp4 as philadelphia_frames.npy\n"
     ]
    },
    {
     "name": "stderr",
     "output_type": "stream",
     "text": [
      "\rProcessing Videos:   4%|▍         | 483/11980 [11:29<3:58:09,  1.24s/video]"
     ]
    },
    {
     "name": "stdout",
     "output_type": "stream",
     "text": [
      "Saved 66330.mp4 as price_frames.npy\n"
     ]
    },
    {
     "name": "stderr",
     "output_type": "stream",
     "text": [
      "\rProcessing Videos:   4%|▍         | 484/11980 [11:31<4:01:53,  1.26s/video]"
     ]
    },
    {
     "name": "stdout",
     "output_type": "stream",
     "text": [
      "Saved 66283.mp4 as pet_frames.npy\n"
     ]
    },
    {
     "name": "stderr",
     "output_type": "stream",
     "text": [
      "\rProcessing Videos:   4%|▍         | 485/11980 [11:32<4:00:31,  1.26s/video]"
     ]
    },
    {
     "name": "stdout",
     "output_type": "stream",
     "text": [
      "Saved 66272.mp4 as peanut butter_frames.npy\n"
     ]
    },
    {
     "name": "stderr",
     "output_type": "stream",
     "text": [
      "\rProcessing Videos:   4%|▍         | 486/11980 [11:33<4:02:04,  1.26s/video]"
     ]
    },
    {
     "name": "stdout",
     "output_type": "stream",
     "text": [
      "Saved 66320.mp4 as practice_frames.npy\n"
     ]
    },
    {
     "name": "stderr",
     "output_type": "stream",
     "text": [
      "\rProcessing Videos:   4%|▍         | 487/11980 [11:34<3:47:32,  1.19s/video]"
     ]
    },
    {
     "name": "stdout",
     "output_type": "stream",
     "text": [
      "Saved 66339.mp4 as promise_frames.npy\n"
     ]
    },
    {
     "name": "stderr",
     "output_type": "stream",
     "text": [
      "\rProcessing Videos:   4%|▍         | 488/11980 [11:35<3:55:07,  1.23s/video]"
     ]
    },
    {
     "name": "stdout",
     "output_type": "stream",
     "text": [
      "Saved 66355.mp4 as purple_frames.npy\n"
     ]
    },
    {
     "name": "stderr",
     "output_type": "stream",
     "text": [
      "\rProcessing Videos:   4%|▍         | 489/11980 [11:37<3:51:58,  1.21s/video]"
     ]
    },
    {
     "name": "stdout",
     "output_type": "stream",
     "text": [
      "Saved 66335.mp4 as problem_frames.npy\n"
     ]
    },
    {
     "name": "stderr",
     "output_type": "stream",
     "text": [
      "\rProcessing Videos:   4%|▍         | 490/11980 [11:38<3:59:53,  1.25s/video]"
     ]
    },
    {
     "name": "stdout",
     "output_type": "stream",
     "text": [
      "Saved 66311.mp4 as poop_frames.npy\n"
     ]
    },
    {
     "name": "stderr",
     "output_type": "stream",
     "text": [
      "\rProcessing Videos:   4%|▍         | 491/11980 [11:39<3:55:57,  1.23s/video]"
     ]
    },
    {
     "name": "stdout",
     "output_type": "stream",
     "text": [
      "Saved 66351.mp4 as pull_frames.npy\n"
     ]
    },
    {
     "name": "stderr",
     "output_type": "stream",
     "text": [
      "\rProcessing Videos:   4%|▍         | 492/11980 [11:45<8:06:10,  2.54s/video]"
     ]
    },
    {
     "name": "stdout",
     "output_type": "stream",
     "text": [
      "Saved 66309.mp4 as politics_frames.npy\n"
     ]
    },
    {
     "name": "stderr",
     "output_type": "stream",
     "text": [
      "\rProcessing Videos:   4%|▍         | 493/11980 [11:46<6:57:15,  2.18s/video]"
     ]
    },
    {
     "name": "stdout",
     "output_type": "stream",
     "text": [
      "Saved 66304.mp4 as point_frames.npy\n"
     ]
    },
    {
     "name": "stderr",
     "output_type": "stream",
     "text": [
      "\rProcessing Videos:   4%|▍         | 494/11980 [11:47<6:10:02,  1.93s/video]"
     ]
    },
    {
     "name": "stdout",
     "output_type": "stream",
     "text": [
      "Saved 66303.mp4 as plus_frames.npy\n"
     ]
    },
    {
     "name": "stderr",
     "output_type": "stream",
     "text": [
      "\rProcessing Videos:   4%|▍         | 495/11980 [11:49<5:31:00,  1.73s/video]"
     ]
    },
    {
     "name": "stdout",
     "output_type": "stream",
     "text": [
      "Saved 66328.mp4 as pretty_frames.npy\n"
     ]
    },
    {
     "name": "stderr",
     "output_type": "stream",
     "text": [
      "\rProcessing Videos:   4%|▍         | 496/11980 [11:50<4:59:40,  1.57s/video]"
     ]
    },
    {
     "name": "stdout",
     "output_type": "stream",
     "text": [
      "Saved 66277.mp4 as pennsylvania_frames.npy\n"
     ]
    },
    {
     "name": "stderr",
     "output_type": "stream",
     "text": [
      "\rProcessing Videos:   4%|▍         | 497/11980 [11:51<4:48:58,  1.51s/video]"
     ]
    },
    {
     "name": "stdout",
     "output_type": "stream",
     "text": [
      "Saved 66326.mp4 as president_frames.npy\n"
     ]
    },
    {
     "name": "stderr",
     "output_type": "stream",
     "text": [
      "\rProcessing Videos:   4%|▍         | 498/11980 [11:52<4:26:52,  1.39s/video]"
     ]
    },
    {
     "name": "stdout",
     "output_type": "stream",
     "text": [
      "Saved 66316.mp4 as possible_frames.npy\n"
     ]
    },
    {
     "name": "stderr",
     "output_type": "stream",
     "text": [
      "\rProcessing Videos:   4%|▍         | 499/11980 [11:54<4:16:58,  1.34s/video]"
     ]
    },
    {
     "name": "stdout",
     "output_type": "stream",
     "text": [
      "Saved 66312.mp4 as popular_frames.npy\n"
     ]
    },
    {
     "name": "stderr",
     "output_type": "stream",
     "text": [
      "\rProcessing Videos:   4%|▍         | 500/11980 [11:55<4:07:17,  1.29s/video]"
     ]
    },
    {
     "name": "stdout",
     "output_type": "stream",
     "text": [
      "Saved 66270.mp4 as patient_frames.npy\n"
     ]
    },
    {
     "name": "stderr",
     "output_type": "stream",
     "text": [
      "\rProcessing Videos:   4%|▍         | 501/11980 [11:56<4:05:21,  1.28s/video]"
     ]
    },
    {
     "name": "stdout",
     "output_type": "stream",
     "text": [
      "Saved 66273.mp4 as pear_frames.npy\n"
     ]
    },
    {
     "name": "stderr",
     "output_type": "stream",
     "text": [
      "\rProcessing Videos:   4%|▍         | 502/11980 [11:57<3:27:05,  1.08s/video]"
     ]
    },
    {
     "name": "stdout",
     "output_type": "stream",
     "text": [
      "Saved 66439.mp4 as second_frames.npy\n"
     ]
    },
    {
     "name": "stderr",
     "output_type": "stream",
     "text": [
      "\rProcessing Videos:   4%|▍         | 503/11980 [11:57<3:03:03,  1.04video/s]"
     ]
    },
    {
     "name": "stdout",
     "output_type": "stream",
     "text": [
      "Saved 66428.mp4 as saturday_frames.npy\n"
     ]
    },
    {
     "name": "stderr",
     "output_type": "stream",
     "text": [
      "\rProcessing Videos:   4%|▍         | 504/11980 [11:58<3:13:02,  1.01s/video]"
     ]
    },
    {
     "name": "stdout",
     "output_type": "stream",
     "text": [
      "Saved 66398.mp4 as restaurant_frames.npy\n"
     ]
    },
    {
     "name": "stderr",
     "output_type": "stream",
     "text": [
      "\rProcessing Videos:   4%|▍         | 505/11980 [11:59<3:10:05,  1.01video/s]"
     ]
    },
    {
     "name": "stdout",
     "output_type": "stream",
     "text": [
      "Saved 66374.mp4 as ready_frames.npy\n"
     ]
    },
    {
     "name": "stderr",
     "output_type": "stream",
     "text": [
      "\rProcessing Videos:   4%|▍         | 506/11980 [12:01<3:29:20,  1.09s/video]"
     ]
    },
    {
     "name": "stdout",
     "output_type": "stream",
     "text": [
      "Saved 66363.mp4 as quick_frames.npy\n"
     ]
    },
    {
     "name": "stderr",
     "output_type": "stream",
     "text": [
      "\rProcessing Videos:   4%|▍         | 507/11980 [12:02<3:30:19,  1.10s/video]"
     ]
    },
    {
     "name": "stdout",
     "output_type": "stream",
     "text": [
      "Saved 66415.mp4 as room_frames.npy\n"
     ]
    },
    {
     "name": "stderr",
     "output_type": "stream",
     "text": [
      "\rProcessing Videos:   4%|▍         | 508/11980 [12:03<3:24:07,  1.07s/video]"
     ]
    },
    {
     "name": "stdout",
     "output_type": "stream",
     "text": [
      "Saved 66376.mp4 as recent_frames.npy\n"
     ]
    },
    {
     "name": "stderr",
     "output_type": "stream",
     "text": [
      "\rProcessing Videos:   4%|▍         | 509/11980 [12:03<3:04:48,  1.03video/s]"
     ]
    },
    {
     "name": "stdout",
     "output_type": "stream",
     "text": [
      "Saved 66403.mp4 as revenge_frames.npy\n"
     ]
    },
    {
     "name": "stderr",
     "output_type": "stream",
     "text": [
      "\rProcessing Videos:   4%|▍         | 510/11980 [12:05<3:16:22,  1.03s/video]"
     ]
    },
    {
     "name": "stdout",
     "output_type": "stream",
     "text": [
      "Saved 66419.mp4 as rule_frames.npy\n"
     ]
    },
    {
     "name": "stderr",
     "output_type": "stream",
     "text": [
      "\rProcessing Videos:   4%|▍         | 511/11980 [12:06<3:14:21,  1.02s/video]"
     ]
    },
    {
     "name": "stdout",
     "output_type": "stream",
     "text": [
      "Saved 66423.mp4 as sandwich_frames.npy\n"
     ]
    },
    {
     "name": "stderr",
     "output_type": "stream",
     "text": [
      "\rProcessing Videos:   4%|▍         | 512/11980 [12:07<3:13:13,  1.01s/video]"
     ]
    },
    {
     "name": "stdout",
     "output_type": "stream",
     "text": [
      "Saved 66395.mp4 as resist_frames.npy\n"
     ]
    },
    {
     "name": "stderr",
     "output_type": "stream",
     "text": [
      "\rProcessing Videos:   4%|▍         | 513/11980 [12:08<3:29:25,  1.10s/video]"
     ]
    },
    {
     "name": "stdout",
     "output_type": "stream",
     "text": [
      "Saved 66368.mp4 as raccoon_frames.npy\n"
     ]
    },
    {
     "name": "stderr",
     "output_type": "stream",
     "text": [
      "\rProcessing Videos:   4%|▍         | 514/11980 [12:09<3:43:03,  1.17s/video]"
     ]
    },
    {
     "name": "stdout",
     "output_type": "stream",
     "text": [
      "Saved 66370.mp4 as rake_frames.npy\n"
     ]
    },
    {
     "name": "stderr",
     "output_type": "stream",
     "text": [
      "\rProcessing Videos:   4%|▍         | 515/11980 [12:10<3:43:41,  1.17s/video]"
     ]
    },
    {
     "name": "stdout",
     "output_type": "stream",
     "text": [
      "Saved 66360.mp4 as quality_frames.npy\n"
     ]
    },
    {
     "name": "stderr",
     "output_type": "stream",
     "text": [
      "\rProcessing Videos:   4%|▍         | 516/11980 [12:12<3:39:20,  1.15s/video]"
     ]
    },
    {
     "name": "stdout",
     "output_type": "stream",
     "text": [
      "Saved 66410.mp4 as river_frames.npy\n"
     ]
    },
    {
     "name": "stderr",
     "output_type": "stream",
     "text": [
      "\rProcessing Videos:   4%|▍         | 517/11980 [12:13<3:33:28,  1.12s/video]"
     ]
    },
    {
     "name": "stdout",
     "output_type": "stream",
     "text": [
      "Saved 66386.mp4 as religion_frames.npy\n"
     ]
    },
    {
     "name": "stderr",
     "output_type": "stream",
     "text": [
      "\rProcessing Videos:   4%|▍         | 518/11980 [12:14<3:46:10,  1.18s/video]"
     ]
    },
    {
     "name": "stdout",
     "output_type": "stream",
     "text": [
      "Saved 66384.mp4 as relationship_frames.npy\n"
     ]
    },
    {
     "name": "stderr",
     "output_type": "stream",
     "text": [
      "\rProcessing Videos:   4%|▍         | 519/11980 [12:15<3:19:22,  1.04s/video]"
     ]
    },
    {
     "name": "stdout",
     "output_type": "stream",
     "text": [
      "Saved 66429.mp4 as say_frames.npy\n"
     ]
    },
    {
     "name": "stderr",
     "output_type": "stream",
     "text": [
      "\rProcessing Videos:   4%|▍         | 520/11980 [12:16<3:20:50,  1.05s/video]"
     ]
    },
    {
     "name": "stdout",
     "output_type": "stream",
     "text": [
      "Saved 66402.mp4 as revenge_frames.npy\n"
     ]
    },
    {
     "name": "stderr",
     "output_type": "stream",
     "text": [
      "\rProcessing Videos:   4%|▍         | 521/11980 [12:17<3:39:12,  1.15s/video]"
     ]
    },
    {
     "name": "stdout",
     "output_type": "stream",
     "text": [
      "Saved 66377.mp4 as recent_frames.npy\n"
     ]
    },
    {
     "name": "stderr",
     "output_type": "stream",
     "text": [
      "\rProcessing Videos:   4%|▍         | 522/11980 [12:18<3:39:28,  1.15s/video]"
     ]
    },
    {
     "name": "stdout",
     "output_type": "stream",
     "text": [
      "Saved 66397.mp4 as responsibility_frames.npy\n"
     ]
    },
    {
     "name": "stderr",
     "output_type": "stream",
     "text": [
      "\rProcessing Videos:   4%|▍         | 523/11980 [12:20<3:48:26,  1.20s/video]"
     ]
    },
    {
     "name": "stdout",
     "output_type": "stream",
     "text": [
      "Saved 66399.mp4 as result_frames.npy\n"
     ]
    },
    {
     "name": "stderr",
     "output_type": "stream",
     "text": [
      "\rProcessing Videos:   4%|▍         | 524/11980 [12:21<3:37:32,  1.14s/video]"
     ]
    },
    {
     "name": "stdout",
     "output_type": "stream",
     "text": [
      "Saved 66416.mp4 as room_frames.npy\n"
     ]
    },
    {
     "name": "stderr",
     "output_type": "stream",
     "text": [
      "\rProcessing Videos:   4%|▍         | 525/11980 [12:22<3:41:16,  1.16s/video]"
     ]
    },
    {
     "name": "stdout",
     "output_type": "stream",
     "text": [
      "Saved 66396.mp4 as respect_frames.npy\n"
     ]
    },
    {
     "name": "stderr",
     "output_type": "stream",
     "text": [
      "\rProcessing Videos:   4%|▍         | 526/11980 [12:23<3:33:28,  1.12s/video]"
     ]
    },
    {
     "name": "stdout",
     "output_type": "stream",
     "text": [
      "Saved 66387.mp4 as remember_frames.npy\n"
     ]
    },
    {
     "name": "stderr",
     "output_type": "stream",
     "text": [
      "\rProcessing Videos:   4%|▍         | 527/11980 [12:24<3:22:39,  1.06s/video]"
     ]
    },
    {
     "name": "stdout",
     "output_type": "stream",
     "text": [
      "Saved 66418.mp4 as rough_frames.npy\n"
     ]
    },
    {
     "name": "stderr",
     "output_type": "stream",
     "text": [
      "\rProcessing Videos:   4%|▍         | 528/11980 [12:25<3:34:32,  1.12s/video]"
     ]
    },
    {
     "name": "stdout",
     "output_type": "stream",
     "text": [
      "Saved 66405.mp4 as ride_frames.npy\n"
     ]
    },
    {
     "name": "stderr",
     "output_type": "stream",
     "text": [
      "\rProcessing Videos:   4%|▍         | 529/11980 [12:26<3:29:57,  1.10s/video]"
     ]
    },
    {
     "name": "stdout",
     "output_type": "stream",
     "text": [
      "Saved 66394.mp4 as resign_frames.npy\n"
     ]
    },
    {
     "name": "stderr",
     "output_type": "stream",
     "text": [
      "\rProcessing Videos:   4%|▍         | 530/11980 [12:27<3:06:29,  1.02video/s]"
     ]
    },
    {
     "name": "stdout",
     "output_type": "stream",
     "text": [
      "Saved 66422.mp4 as salt_frames.npy\n"
     ]
    },
    {
     "name": "stderr",
     "output_type": "stream",
     "text": [
      "\rProcessing Videos:   4%|▍         | 531/11980 [12:28<3:42:13,  1.16s/video]"
     ]
    },
    {
     "name": "stdout",
     "output_type": "stream",
     "text": [
      "Saved 66367.mp4 as raccoon_frames.npy\n"
     ]
    },
    {
     "name": "stderr",
     "output_type": "stream",
     "text": [
      "\rProcessing Videos:   4%|▍         | 532/11980 [12:29<3:31:24,  1.11s/video]"
     ]
    },
    {
     "name": "stdout",
     "output_type": "stream",
     "text": [
      "Saved 66383.mp4 as regular_frames.npy\n"
     ]
    },
    {
     "name": "stderr",
     "output_type": "stream",
     "text": [
      "\rProcessing Videos:   4%|▍         | 533/11980 [12:30<3:22:28,  1.06s/video]"
     ]
    },
    {
     "name": "stdout",
     "output_type": "stream",
     "text": [
      "Saved 66364.mp4 as quick_frames.npy\n"
     ]
    },
    {
     "name": "stderr",
     "output_type": "stream",
     "text": [
      "\rProcessing Videos:   4%|▍         | 534/11980 [12:31<3:16:30,  1.03s/video]"
     ]
    },
    {
     "name": "stdout",
     "output_type": "stream",
     "text": [
      "Saved 66362.mp4 as queen_frames.npy\n"
     ]
    },
    {
     "name": "stderr",
     "output_type": "stream",
     "text": [
      "\rProcessing Videos:   4%|▍         | 535/11980 [12:32<3:28:49,  1.09s/video]"
     ]
    },
    {
     "name": "stdout",
     "output_type": "stream",
     "text": [
      "Saved 66421.mp4 as salad_frames.npy\n"
     ]
    },
    {
     "name": "stderr",
     "output_type": "stream",
     "text": [
      "\rProcessing Videos:   4%|▍         | 536/11980 [12:34<3:31:21,  1.11s/video]"
     ]
    },
    {
     "name": "stdout",
     "output_type": "stream",
     "text": [
      "Saved 66389.mp4 as remote control_frames.npy\n"
     ]
    },
    {
     "name": "stderr",
     "output_type": "stream",
     "text": [
      "\rProcessing Videos:   4%|▍         | 537/11980 [12:35<3:30:23,  1.10s/video]"
     ]
    },
    {
     "name": "stdout",
     "output_type": "stream",
     "text": [
      "Saved 66434.mp4 as score_frames.npy\n"
     ]
    },
    {
     "name": "stderr",
     "output_type": "stream",
     "text": [
      "\rProcessing Videos:   4%|▍         | 538/11980 [12:36<3:31:04,  1.11s/video]"
     ]
    },
    {
     "name": "stdout",
     "output_type": "stream",
     "text": [
      "Saved 66424.mp4 as sandwich_frames.npy\n"
     ]
    },
    {
     "name": "stderr",
     "output_type": "stream",
     "text": [
      "\rProcessing Videos:   4%|▍         | 539/11980 [12:37<3:23:13,  1.07s/video]"
     ]
    },
    {
     "name": "stdout",
     "output_type": "stream",
     "text": [
      "Saved 66411.mp4 as rock_frames.npy\n"
     ]
    },
    {
     "name": "stderr",
     "output_type": "stream",
     "text": [
      "\rProcessing Videos:   5%|▍         | 540/11980 [12:38<3:40:50,  1.16s/video]"
     ]
    },
    {
     "name": "stdout",
     "output_type": "stream",
     "text": [
      "Saved 66427.mp4 as satisfy_frames.npy\n"
     ]
    },
    {
     "name": "stderr",
     "output_type": "stream",
     "text": [
      "\rProcessing Videos:   5%|▍         | 541/11980 [12:39<3:48:58,  1.20s/video]"
     ]
    },
    {
     "name": "stdout",
     "output_type": "stream",
     "text": [
      "Saved 66359.mp4 as puzzled_frames.npy\n"
     ]
    },
    {
     "name": "stderr",
     "output_type": "stream",
     "text": [
      "\rProcessing Videos:   5%|▍         | 542/11980 [12:40<3:17:58,  1.04s/video]"
     ]
    },
    {
     "name": "stdout",
     "output_type": "stream",
     "text": [
      "Saved 66407.mp4 as ridiculous_frames.npy\n"
     ]
    },
    {
     "name": "stderr",
     "output_type": "stream",
     "text": [
      "\rProcessing Videos:   5%|▍         | 543/11980 [12:41<3:20:22,  1.05s/video]"
     ]
    },
    {
     "name": "stdout",
     "output_type": "stream",
     "text": [
      "Saved 66417.mp4 as roommate_frames.npy\n"
     ]
    },
    {
     "name": "stderr",
     "output_type": "stream",
     "text": [
      "\rProcessing Videos:   5%|▍         | 544/11980 [12:43<3:39:03,  1.15s/video]"
     ]
    },
    {
     "name": "stdout",
     "output_type": "stream",
     "text": [
      "Saved 66375.mp4 as reason_frames.npy\n"
     ]
    },
    {
     "name": "stderr",
     "output_type": "stream",
     "text": [
      "\rProcessing Videos:   5%|▍         | 545/11980 [12:44<3:30:43,  1.11s/video]"
     ]
    },
    {
     "name": "stdout",
     "output_type": "stream",
     "text": [
      "Saved 66400.mp4 as retire_frames.npy\n"
     ]
    },
    {
     "name": "stderr",
     "output_type": "stream",
     "text": [
      "\rProcessing Videos:   5%|▍         | 546/11980 [12:45<3:38:30,  1.15s/video]"
     ]
    },
    {
     "name": "stdout",
     "output_type": "stream",
     "text": [
      "Saved 66365.mp4 as quiet_frames.npy\n"
     ]
    },
    {
     "name": "stderr",
     "output_type": "stream",
     "text": [
      "\rProcessing Videos:   5%|▍         | 547/11980 [12:46<3:46:38,  1.19s/video]"
     ]
    },
    {
     "name": "stdout",
     "output_type": "stream",
     "text": [
      "Saved 66369.mp4 as rain_frames.npy\n"
     ]
    },
    {
     "name": "stderr",
     "output_type": "stream",
     "text": [
      "\rProcessing Videos:   5%|▍         | 548/11980 [12:47<3:40:54,  1.16s/video]"
     ]
    },
    {
     "name": "stdout",
     "output_type": "stream",
     "text": [
      "Saved 66393.mp4 as research_frames.npy\n"
     ]
    },
    {
     "name": "stderr",
     "output_type": "stream",
     "text": [
      "\rProcessing Videos:   5%|▍         | 549/11980 [12:48<3:32:55,  1.12s/video]"
     ]
    },
    {
     "name": "stdout",
     "output_type": "stream",
     "text": [
      "Saved 66385.mp4 as relief_frames.npy\n"
     ]
    },
    {
     "name": "stderr",
     "output_type": "stream",
     "text": [
      "\rProcessing Videos:   5%|▍         | 550/11980 [12:49<3:35:14,  1.13s/video]"
     ]
    },
    {
     "name": "stdout",
     "output_type": "stream",
     "text": [
      "Saved 66392.mp4 as replace_frames.npy\n"
     ]
    },
    {
     "name": "stderr",
     "output_type": "stream",
     "text": [
      "\rProcessing Videos:   5%|▍         | 551/11980 [12:51<3:39:31,  1.15s/video]"
     ]
    },
    {
     "name": "stdout",
     "output_type": "stream",
     "text": [
      "Saved 66390.mp4 as remove_frames.npy\n"
     ]
    },
    {
     "name": "stderr",
     "output_type": "stream",
     "text": [
      "\rProcessing Videos:   5%|▍         | 552/11980 [12:51<3:15:50,  1.03s/video]"
     ]
    },
    {
     "name": "stdout",
     "output_type": "stream",
     "text": [
      "Saved 66381.mp4 as refuse_frames.npy\n"
     ]
    },
    {
     "name": "stderr",
     "output_type": "stream",
     "text": [
      "\rProcessing Videos:   5%|▍         | 553/11980 [12:52<3:18:30,  1.04s/video]"
     ]
    },
    {
     "name": "stdout",
     "output_type": "stream",
     "text": [
      "Saved 66432.mp4 as scared_frames.npy\n"
     ]
    },
    {
     "name": "stderr",
     "output_type": "stream",
     "text": [
      "\rProcessing Videos:   5%|▍         | 554/11980 [12:53<2:53:58,  1.09video/s]"
     ]
    },
    {
     "name": "stdout",
     "output_type": "stream",
     "text": [
      "Saved 66433.mp4 as scissors_frames.npy\n"
     ]
    },
    {
     "name": "stderr",
     "output_type": "stream",
     "text": [
      "\rProcessing Videos:   5%|▍         | 555/11980 [12:54<3:06:53,  1.02video/s]"
     ]
    },
    {
     "name": "stdout",
     "output_type": "stream",
     "text": [
      "Saved 66449.mp4 as serve_frames.npy\n"
     ]
    },
    {
     "name": "stderr",
     "output_type": "stream",
     "text": [
      "\rProcessing Videos:   5%|▍         | 556/11980 [12:55<3:26:36,  1.09s/video]"
     ]
    },
    {
     "name": "stdout",
     "output_type": "stream",
     "text": [
      "Saved 66520.mp4 as snowman_frames.npy\n"
     ]
    },
    {
     "name": "stderr",
     "output_type": "stream",
     "text": [
      "\rProcessing Videos:   5%|▍         | 557/11980 [12:57<3:36:15,  1.14s/video]"
     ]
    },
    {
     "name": "stdout",
     "output_type": "stream",
     "text": [
      "Saved 66459.mp4 as sew_frames.npy\n"
     ]
    },
    {
     "name": "stderr",
     "output_type": "stream",
     "text": [
      "\rProcessing Videos:   5%|▍         | 558/11980 [12:58<3:51:29,  1.22s/video]"
     ]
    },
    {
     "name": "stdout",
     "output_type": "stream",
     "text": [
      "Saved 66486.mp4 as siren_frames.npy\n"
     ]
    },
    {
     "name": "stderr",
     "output_type": "stream",
     "text": [
      "\rProcessing Videos:   5%|▍         | 559/11980 [12:59<3:51:00,  1.21s/video]"
     ]
    },
    {
     "name": "stdout",
     "output_type": "stream",
     "text": [
      "Saved 66523.mp4 as soccer_frames.npy\n"
     ]
    },
    {
     "name": "stderr",
     "output_type": "stream",
     "text": [
      "\rProcessing Videos:   5%|▍         | 560/11980 [13:01<3:52:47,  1.22s/video]"
     ]
    },
    {
     "name": "stdout",
     "output_type": "stream",
     "text": [
      "Saved 66510.mp4 as smell_frames.npy\n"
     ]
    },
    {
     "name": "stderr",
     "output_type": "stream",
     "text": [
      "\rProcessing Videos:   5%|▍         | 561/11980 [13:02<4:13:08,  1.33s/video]"
     ]
    },
    {
     "name": "stdout",
     "output_type": "stream",
     "text": [
      "Saved 66518.mp4 as snow_frames.npy\n"
     ]
    },
    {
     "name": "stderr",
     "output_type": "stream",
     "text": [
      "\rProcessing Videos:   5%|▍         | 562/11980 [13:03<4:05:36,  1.29s/video]"
     ]
    },
    {
     "name": "stdout",
     "output_type": "stream",
     "text": [
      "Saved 66533.mp4 as soon_frames.npy\n"
     ]
    },
    {
     "name": "stderr",
     "output_type": "stream",
     "text": [
      "\rProcessing Videos:   5%|▍         | 563/11980 [13:05<4:26:55,  1.40s/video]"
     ]
    },
    {
     "name": "stdout",
     "output_type": "stream",
     "text": [
      "Saved 66484.mp4 as single_frames.npy\n"
     ]
    },
    {
     "name": "stderr",
     "output_type": "stream",
     "text": [
      "\rProcessing Videos:   5%|▍         | 564/11980 [13:06<3:44:47,  1.18s/video]"
     ]
    },
    {
     "name": "stdout",
     "output_type": "stream",
     "text": [
      "Saved 66442.mp4 as seem_frames.npy\n"
     ]
    },
    {
     "name": "stderr",
     "output_type": "stream",
     "text": [
      "\rProcessing Videos:   5%|▍         | 565/11980 [13:07<3:50:06,  1.21s/video]"
     ]
    },
    {
     "name": "stdout",
     "output_type": "stream",
     "text": [
      "Saved 66531.mp4 as son_frames.npy\n"
     ]
    },
    {
     "name": "stderr",
     "output_type": "stream",
     "text": [
      "\rProcessing Videos:   5%|▍         | 566/11980 [13:08<4:03:38,  1.28s/video]"
     ]
    },
    {
     "name": "stdout",
     "output_type": "stream",
     "text": [
      "Saved 66522.mp4 as soap_frames.npy\n"
     ]
    },
    {
     "name": "stderr",
     "output_type": "stream",
     "text": [
      "\rProcessing Videos:   5%|▍         | 567/11980 [13:09<3:50:23,  1.21s/video]"
     ]
    },
    {
     "name": "stdout",
     "output_type": "stream",
     "text": [
      "Saved 66477.mp4 as side_frames.npy\n"
     ]
    },
    {
     "name": "stderr",
     "output_type": "stream",
     "text": [
      "\rProcessing Videos:   5%|▍         | 568/11980 [13:11<4:03:02,  1.28s/video]"
     ]
    },
    {
     "name": "stdout",
     "output_type": "stream",
     "text": [
      "Saved 66478.mp4 as sign_frames.npy\n"
     ]
    },
    {
     "name": "stderr",
     "output_type": "stream",
     "text": [
      "\rProcessing Videos:   5%|▍         | 569/11980 [13:12<4:17:26,  1.35s/video]"
     ]
    },
    {
     "name": "stdout",
     "output_type": "stream",
     "text": [
      "Saved 66505.mp4 as slice_frames.npy\n"
     ]
    },
    {
     "name": "stderr",
     "output_type": "stream",
     "text": [
      "\rProcessing Videos:   5%|▍         | 570/11980 [13:14<4:16:20,  1.35s/video]"
     ]
    },
    {
     "name": "stdout",
     "output_type": "stream",
     "text": [
      "Saved 66482.mp4 as since_frames.npy\n"
     ]
    },
    {
     "name": "stderr",
     "output_type": "stream",
     "text": [
      "\rProcessing Videos:   5%|▍         | 571/11980 [13:15<4:14:13,  1.34s/video]"
     ]
    },
    {
     "name": "stdout",
     "output_type": "stream",
     "text": [
      "Saved 66527.mp4 as socks_frames.npy\n"
     ]
    },
    {
     "name": "stderr",
     "output_type": "stream",
     "text": [
      "\rProcessing Videos:   5%|▍         | 572/11980 [13:16<4:07:20,  1.30s/video]"
     ]
    },
    {
     "name": "stdout",
     "output_type": "stream",
     "text": [
      "Saved 66441.mp4 as secretary_frames.npy\n"
     ]
    },
    {
     "name": "stderr",
     "output_type": "stream",
     "text": [
      "\rProcessing Videos:   5%|▍         | 573/11980 [13:18<4:09:44,  1.31s/video]"
     ]
    },
    {
     "name": "stdout",
     "output_type": "stream",
     "text": [
      "Saved 66512.mp4 as smile_frames.npy\n"
     ]
    },
    {
     "name": "stderr",
     "output_type": "stream",
     "text": [
      "\rProcessing Videos:   5%|▍         | 574/11980 [13:19<4:07:35,  1.30s/video]"
     ]
    },
    {
     "name": "stdout",
     "output_type": "stream",
     "text": [
      "Saved 66494.mp4 as sixteen_frames.npy\n"
     ]
    },
    {
     "name": "stderr",
     "output_type": "stream",
     "text": [
      "\rProcessing Videos:   5%|▍         | 575/11980 [13:20<4:04:28,  1.29s/video]"
     ]
    },
    {
     "name": "stdout",
     "output_type": "stream",
     "text": [
      "Saved 66481.mp4 as silly_frames.npy\n"
     ]
    },
    {
     "name": "stderr",
     "output_type": "stream",
     "text": [
      "\rProcessing Videos:   5%|▍         | 576/11980 [13:22<4:25:37,  1.40s/video]"
     ]
    },
    {
     "name": "stdout",
     "output_type": "stream",
     "text": [
      "Saved 66507.mp4 as slip_frames.npy\n"
     ]
    },
    {
     "name": "stderr",
     "output_type": "stream",
     "text": [
      "\rProcessing Videos:   5%|▍         | 577/11980 [13:23<4:09:01,  1.31s/video]"
     ]
    },
    {
     "name": "stdout",
     "output_type": "stream",
     "text": [
      "Saved 66504.mp4 as skip_frames.npy\n"
     ]
    },
    {
     "name": "stderr",
     "output_type": "stream",
     "text": [
      "\rProcessing Videos:   5%|▍         | 578/11980 [13:24<3:49:22,  1.21s/video]"
     ]
    },
    {
     "name": "stdout",
     "output_type": "stream",
     "text": [
      "Saved 66474.mp4 as shy_frames.npy\n"
     ]
    },
    {
     "name": "stderr",
     "output_type": "stream",
     "text": [
      "\rProcessing Videos:   5%|▍         | 579/11980 [13:25<3:54:51,  1.24s/video]"
     ]
    },
    {
     "name": "stdout",
     "output_type": "stream",
     "text": [
      "Saved 66466.mp4 as shock_frames.npy\n"
     ]
    },
    {
     "name": "stderr",
     "output_type": "stream",
     "text": [
      "\rProcessing Videos:   5%|▍         | 580/11980 [13:26<3:51:10,  1.22s/video]"
     ]
    },
    {
     "name": "stdout",
     "output_type": "stream",
     "text": [
      "Saved 66526.mp4 as society_frames.npy\n"
     ]
    },
    {
     "name": "stderr",
     "output_type": "stream",
     "text": [
      "\rProcessing Videos:   5%|▍         | 581/11980 [13:28<3:50:01,  1.21s/video]"
     ]
    },
    {
     "name": "stdout",
     "output_type": "stream",
     "text": [
      "Saved 66489.mp4 as situation_frames.npy\n"
     ]
    },
    {
     "name": "stderr",
     "output_type": "stream",
     "text": [
      "\rProcessing Videos:   5%|▍         | 582/11980 [13:29<3:40:40,  1.16s/video]"
     ]
    },
    {
     "name": "stdout",
     "output_type": "stream",
     "text": [
      "Saved 66468.mp4 as shop_frames.npy\n"
     ]
    },
    {
     "name": "stderr",
     "output_type": "stream",
     "text": [
      "\rProcessing Videos:   5%|▍         | 583/11980 [13:30<3:55:15,  1.24s/video]"
     ]
    },
    {
     "name": "stdout",
     "output_type": "stream",
     "text": [
      "Saved 66519.mp4 as snow_frames.npy\n"
     ]
    },
    {
     "name": "stderr",
     "output_type": "stream",
     "text": [
      "\rProcessing Videos:   5%|▍         | 584/11980 [13:31<3:44:24,  1.18s/video]"
     ]
    },
    {
     "name": "stdout",
     "output_type": "stream",
     "text": [
      "Saved 66461.mp4 as share_frames.npy\n"
     ]
    },
    {
     "name": "stderr",
     "output_type": "stream",
     "text": [
      "\rProcessing Videos:   5%|▍         | 585/11980 [13:32<3:17:30,  1.04s/video]"
     ]
    },
    {
     "name": "stdout",
     "output_type": "stream",
     "text": [
      "Saved 66447.mp4 as sensitive_frames.npy\n"
     ]
    },
    {
     "name": "stderr",
     "output_type": "stream",
     "text": [
      "\rProcessing Videos:   5%|▍         | 586/11980 [13:33<3:31:50,  1.12s/video]"
     ]
    },
    {
     "name": "stdout",
     "output_type": "stream",
     "text": [
      "Saved 66534.mp4 as soon_frames.npy\n"
     ]
    },
    {
     "name": "stderr",
     "output_type": "stream",
     "text": [
      "\rProcessing Videos:   5%|▍         | 587/11980 [13:34<3:16:26,  1.03s/video]"
     ]
    },
    {
     "name": "stdout",
     "output_type": "stream",
     "text": [
      "Saved 66490.mp4 as six_frames.npy\n"
     ]
    },
    {
     "name": "stderr",
     "output_type": "stream",
     "text": [
      "\rProcessing Videos:   5%|▍         | 588/11980 [13:35<3:27:05,  1.09s/video]"
     ]
    },
    {
     "name": "stdout",
     "output_type": "stream",
     "text": [
      "Saved 66528.mp4 as solid_frames.npy\n"
     ]
    },
    {
     "name": "stderr",
     "output_type": "stream",
     "text": [
      "\rProcessing Videos:   5%|▍         | 589/11980 [13:36<3:21:36,  1.06s/video]"
     ]
    },
    {
     "name": "stdout",
     "output_type": "stream",
     "text": [
      "Saved 66473.mp4 as show_frames.npy\n"
     ]
    },
    {
     "name": "stderr",
     "output_type": "stream",
     "text": [
      "\rProcessing Videos:   5%|▍         | 590/11980 [13:38<3:52:16,  1.22s/video]"
     ]
    },
    {
     "name": "stdout",
     "output_type": "stream",
     "text": [
      "Saved 66483.mp4 as since_frames.npy\n"
     ]
    },
    {
     "name": "stderr",
     "output_type": "stream",
     "text": [
      "\rProcessing Videos:   5%|▍         | 591/11980 [13:39<3:47:44,  1.20s/video]"
     ]
    },
    {
     "name": "stdout",
     "output_type": "stream",
     "text": [
      "Saved 66515.mp4 as snake_frames.npy\n"
     ]
    },
    {
     "name": "stderr",
     "output_type": "stream",
     "text": [
      "\rProcessing Videos:   5%|▍         | 592/11980 [13:40<3:36:08,  1.14s/video]"
     ]
    },
    {
     "name": "stdout",
     "output_type": "stream",
     "text": [
      "Saved 66453.mp4 as seven_frames.npy\n"
     ]
    },
    {
     "name": "stderr",
     "output_type": "stream",
     "text": [
      "\rProcessing Videos:   5%|▍         | 593/11980 [13:41<3:24:15,  1.08s/video]"
     ]
    },
    {
     "name": "stdout",
     "output_type": "stream",
     "text": [
      "Saved 66469.mp4 as short_frames.npy\n"
     ]
    },
    {
     "name": "stderr",
     "output_type": "stream",
     "text": [
      "\rProcessing Videos:   5%|▍         | 594/11980 [13:42<3:18:15,  1.04s/video]"
     ]
    },
    {
     "name": "stdout",
     "output_type": "stream",
     "text": [
      "Saved 66475.mp4 as sick_frames.npy\n"
     ]
    },
    {
     "name": "stderr",
     "output_type": "stream",
     "text": [
      "\rProcessing Videos:   5%|▍         | 595/11980 [13:43<3:27:12,  1.09s/video]"
     ]
    },
    {
     "name": "stdout",
     "output_type": "stream",
     "text": [
      "Saved 66452.mp4 as settle_frames.npy\n"
     ]
    },
    {
     "name": "stderr",
     "output_type": "stream",
     "text": [
      "\rProcessing Videos:   5%|▍         | 596/11980 [13:44<3:05:51,  1.02video/s]"
     ]
    },
    {
     "name": "stdout",
     "output_type": "stream",
     "text": [
      "Saved 66444.mp4 as senate_frames.npy\n"
     ]
    },
    {
     "name": "stderr",
     "output_type": "stream",
     "text": [
      "\rProcessing Videos:   5%|▍         | 597/11980 [13:45<3:23:39,  1.07s/video]"
     ]
    },
    {
     "name": "stdout",
     "output_type": "stream",
     "text": [
      "Saved 66487.mp4 as siren_frames.npy\n"
     ]
    },
    {
     "name": "stderr",
     "output_type": "stream",
     "text": [
      "\rProcessing Videos:   5%|▍         | 598/11980 [13:46<3:23:14,  1.07s/video]"
     ]
    },
    {
     "name": "stdout",
     "output_type": "stream",
     "text": [
      "Saved 66502.mp4 as skill_frames.npy\n"
     ]
    },
    {
     "name": "stderr",
     "output_type": "stream",
     "text": [
      "\rProcessing Videos:   5%|▌         | 599/11980 [13:47<3:08:11,  1.01video/s]"
     ]
    },
    {
     "name": "stdout",
     "output_type": "stream",
     "text": [
      "Saved 66448.mp4 as serious_frames.npy\n"
     ]
    },
    {
     "name": "stderr",
     "output_type": "stream",
     "text": [
      "\rProcessing Videos:   5%|▌         | 600/11980 [13:48<2:50:12,  1.11video/s]"
     ]
    },
    {
     "name": "stdout",
     "output_type": "stream",
     "text": [
      "Saved 66458.mp4 as several_frames.npy\n"
     ]
    },
    {
     "name": "stderr",
     "output_type": "stream",
     "text": [
      "\rProcessing Videos:   5%|▌         | 601/11980 [13:49<3:23:44,  1.07s/video]"
     ]
    },
    {
     "name": "stdout",
     "output_type": "stream",
     "text": [
      "Saved 66511.mp4 as smile_frames.npy\n"
     ]
    },
    {
     "name": "stderr",
     "output_type": "stream",
     "text": [
      "\rProcessing Videos:   5%|▌         | 602/11980 [13:50<3:40:03,  1.16s/video]"
     ]
    },
    {
     "name": "stdout",
     "output_type": "stream",
     "text": [
      "Saved 66508.mp4 as slow_frames.npy\n"
     ]
    },
    {
     "name": "stderr",
     "output_type": "stream",
     "text": [
      "\rProcessing Videos:   5%|▌         | 603/11980 [13:52<3:44:43,  1.19s/video]"
     ]
    },
    {
     "name": "stdout",
     "output_type": "stream",
     "text": [
      "Saved 66532.mp4 as son_frames.npy\n"
     ]
    },
    {
     "name": "stderr",
     "output_type": "stream",
     "text": [
      "\rProcessing Videos:   5%|▌         | 604/11980 [13:53<3:36:59,  1.14s/video]"
     ]
    },
    {
     "name": "stdout",
     "output_type": "stream",
     "text": [
      "Saved 66440.mp4 as secret_frames.npy\n"
     ]
    },
    {
     "name": "stderr",
     "output_type": "stream",
     "text": [
      "\rProcessing Videos:   5%|▌         | 605/11980 [13:54<3:49:52,  1.21s/video]"
     ]
    },
    {
     "name": "stdout",
     "output_type": "stream",
     "text": [
      "Saved 66472.mp4 as shoulder_frames.npy\n"
     ]
    },
    {
     "name": "stderr",
     "output_type": "stream",
     "text": [
      "\rProcessing Videos:   5%|▌         | 606/11980 [13:55<3:49:16,  1.21s/video]"
     ]
    },
    {
     "name": "stdout",
     "output_type": "stream",
     "text": [
      "Saved 66488.mp4 as sister_frames.npy\n"
     ]
    },
    {
     "name": "stderr",
     "output_type": "stream",
     "text": [
      "\rProcessing Videos:   5%|▌         | 607/11980 [13:57<4:07:16,  1.30s/video]"
     ]
    },
    {
     "name": "stdout",
     "output_type": "stream",
     "text": [
      "Saved 66521.mp4 as snowman_frames.npy\n"
     ]
    },
    {
     "name": "stderr",
     "output_type": "stream",
     "text": [
      "\rProcessing Videos:   5%|▌         | 608/11980 [13:58<4:18:21,  1.36s/video]"
     ]
    },
    {
     "name": "stdout",
     "output_type": "stream",
     "text": [
      "Saved 66555.mp4 as still_frames.npy\n"
     ]
    },
    {
     "name": "stderr",
     "output_type": "stream",
     "text": [
      "\rProcessing Videos:   5%|▌         | 609/11980 [14:00<4:11:45,  1.33s/video]"
     ]
    },
    {
     "name": "stdout",
     "output_type": "stream",
     "text": [
      "Saved 66552.mp4 as stairs_frames.npy\n"
     ]
    },
    {
     "name": "stderr",
     "output_type": "stream",
     "text": [
      "\rProcessing Videos:   5%|▌         | 610/11980 [14:00<3:35:14,  1.14s/video]"
     ]
    },
    {
     "name": "stdout",
     "output_type": "stream",
     "text": [
      "Saved 66573.mp4 as struggle_frames.npy\n"
     ]
    },
    {
     "name": "stderr",
     "output_type": "stream",
     "text": [
      "\rProcessing Videos:   5%|▌         | 611/11980 [14:02<4:14:14,  1.34s/video]"
     ]
    },
    {
     "name": "stdout",
     "output_type": "stream",
     "text": [
      "Saved 66558.mp4 as stink_frames.npy\n"
     ]
    },
    {
     "name": "stderr",
     "output_type": "stream",
     "text": [
      "\rProcessing Videos:   5%|▌         | 612/11980 [14:03<4:15:28,  1.35s/video]"
     ]
    },
    {
     "name": "stdout",
     "output_type": "stream",
     "text": [
      "Saved 66561.mp4 as story_frames.npy\n"
     ]
    },
    {
     "name": "stderr",
     "output_type": "stream",
     "text": [
      "\rProcessing Videos:   5%|▌         | 613/11980 [14:04<3:34:50,  1.13s/video]"
     ]
    },
    {
     "name": "stdout",
     "output_type": "stream",
     "text": [
      "Saved 66571.mp4 as strict_frames.npy\n"
     ]
    },
    {
     "name": "stderr",
     "output_type": "stream",
     "text": [
      "\rProcessing Videos:   5%|▌         | 614/11980 [14:05<3:51:46,  1.22s/video]"
     ]
    },
    {
     "name": "stdout",
     "output_type": "stream",
     "text": [
      "Saved 66580.mp4 as sunrise_frames.npy\n"
     ]
    },
    {
     "name": "stderr",
     "output_type": "stream",
     "text": [
      "\rProcessing Videos:   5%|▌         | 615/11980 [14:06<3:34:11,  1.13s/video]"
     ]
    },
    {
     "name": "stdout",
     "output_type": "stream",
     "text": [
      "Saved 66537.mp4 as sound_frames.npy\n"
     ]
    },
    {
     "name": "stderr",
     "output_type": "stream",
     "text": [
      "\rProcessing Videos:   5%|▌         | 616/11980 [14:08<3:50:59,  1.22s/video]"
     ]
    },
    {
     "name": "stdout",
     "output_type": "stream",
     "text": [
      "Saved 66570.mp4 as stress_frames.npy\n"
     ]
    },
    {
     "name": "stderr",
     "output_type": "stream",
     "text": [
      "\rProcessing Videos:   5%|▌         | 617/11980 [14:09<3:25:31,  1.09s/video]"
     ]
    },
    {
     "name": "stdout",
     "output_type": "stream",
     "text": [
      "Saved 66575.mp4 as study_frames.npy\n"
     ]
    },
    {
     "name": "stderr",
     "output_type": "stream",
     "text": [
      "\rProcessing Videos:   5%|▌         | 618/11980 [14:10<3:42:14,  1.17s/video]"
     ]
    },
    {
     "name": "stdout",
     "output_type": "stream",
     "text": [
      "Saved 66584.mp4 as sweater_frames.npy\n"
     ]
    },
    {
     "name": "stderr",
     "output_type": "stream",
     "text": [
      "\rProcessing Videos:   5%|▌         | 619/11980 [14:11<3:33:38,  1.13s/video]"
     ]
    },
    {
     "name": "stdout",
     "output_type": "stream",
     "text": [
      "Saved 66591.mp4 as tall_frames.npy\n"
     ]
    },
    {
     "name": "stderr",
     "output_type": "stream",
     "text": [
      "\rProcessing Videos:   5%|▌         | 620/11980 [14:12<3:50:58,  1.22s/video]"
     ]
    },
    {
     "name": "stdout",
     "output_type": "stream",
     "text": [
      "Saved 66538.mp4 as soup_frames.npy\n"
     ]
    },
    {
     "name": "stderr",
     "output_type": "stream",
     "text": [
      "\rProcessing Videos:   5%|▌         | 621/11980 [14:13<3:41:51,  1.17s/video]"
     ]
    },
    {
     "name": "stdout",
     "output_type": "stream",
     "text": [
      "Saved 66596.mp4 as text_frames.npy\n"
     ]
    },
    {
     "name": "stderr",
     "output_type": "stream",
     "text": [
      "\rProcessing Videos:   5%|▌         | 622/11980 [14:15<3:54:20,  1.24s/video]"
     ]
    },
    {
     "name": "stdout",
     "output_type": "stream",
     "text": [
      "Saved 66593.mp4 as teacher_frames.npy\n"
     ]
    },
    {
     "name": "stderr",
     "output_type": "stream",
     "text": [
      "\rProcessing Videos:   5%|▌         | 623/11980 [14:16<4:08:26,  1.31s/video]"
     ]
    },
    {
     "name": "stdout",
     "output_type": "stream",
     "text": [
      "Saved 66546.mp4 as spider_frames.npy\n"
     ]
    },
    {
     "name": "stderr",
     "output_type": "stream",
     "text": [
      "\rProcessing Videos:   5%|▌         | 624/11980 [14:18<4:08:19,  1.31s/video]"
     ]
    },
    {
     "name": "stdout",
     "output_type": "stream",
     "text": [
      "Saved 66595.mp4 as text_frames.npy\n"
     ]
    },
    {
     "name": "stderr",
     "output_type": "stream",
     "text": [
      "\rProcessing Videos:   5%|▌         | 625/11980 [14:19<4:38:13,  1.47s/video]"
     ]
    },
    {
     "name": "stdout",
     "output_type": "stream",
     "text": [
      "Saved 66598.mp4 as thank you_frames.npy\n"
     ]
    },
    {
     "name": "stderr",
     "output_type": "stream",
     "text": [
      "\rProcessing Videos:   5%|▌         | 626/11980 [14:21<4:26:44,  1.41s/video]"
     ]
    },
    {
     "name": "stdout",
     "output_type": "stream",
     "text": [
      "Saved 66542.mp4 as special_frames.npy\n"
     ]
    },
    {
     "name": "stderr",
     "output_type": "stream",
     "text": [
      "\rProcessing Videos:   5%|▌         | 627/11980 [14:22<4:32:57,  1.44s/video]"
     ]
    },
    {
     "name": "stdout",
     "output_type": "stream",
     "text": [
      "Saved 66563.mp4 as straight_frames.npy\n"
     ]
    },
    {
     "name": "stderr",
     "output_type": "stream",
     "text": [
      "\rProcessing Videos:   5%|▌         | 628/11980 [14:24<4:24:24,  1.40s/video]"
     ]
    },
    {
     "name": "stdout",
     "output_type": "stream",
     "text": [
      "Saved 66541.mp4 as spanish_frames.npy\n"
     ]
    },
    {
     "name": "stderr",
     "output_type": "stream",
     "text": [
      "\rProcessing Videos:   5%|▌         | 629/11980 [14:25<4:28:25,  1.42s/video]"
     ]
    },
    {
     "name": "stdout",
     "output_type": "stream",
     "text": [
      "Saved 66577.mp4 as subtract_frames.npy\n"
     ]
    },
    {
     "name": "stderr",
     "output_type": "stream",
     "text": [
      "\rProcessing Videos:   5%|▌         | 630/11980 [14:26<4:10:20,  1.32s/video]"
     ]
    },
    {
     "name": "stdout",
     "output_type": "stream",
     "text": [
      "Saved 66568.mp4 as strawberry_frames.npy\n"
     ]
    },
    {
     "name": "stderr",
     "output_type": "stream",
     "text": [
      "\rProcessing Videos:   5%|▌         | 631/11980 [14:27<4:02:36,  1.28s/video]"
     ]
    },
    {
     "name": "stdout",
     "output_type": "stream",
     "text": [
      "Saved 66585.mp4 as sweet_frames.npy\n"
     ]
    },
    {
     "name": "stderr",
     "output_type": "stream",
     "text": [
      "\rProcessing Videos:   5%|▌         | 632/11980 [14:28<3:48:33,  1.21s/video]"
     ]
    },
    {
     "name": "stdout",
     "output_type": "stream",
     "text": [
      "Saved 66543.mp4 as special_frames.npy\n"
     ]
    },
    {
     "name": "stderr",
     "output_type": "stream",
     "text": [
      "\rProcessing Videos:   5%|▌         | 633/11980 [14:30<3:50:53,  1.22s/video]"
     ]
    },
    {
     "name": "stdout",
     "output_type": "stream",
     "text": [
      "Saved 66605.mp4 as therapy_frames.npy\n"
     ]
    },
    {
     "name": "stderr",
     "output_type": "stream",
     "text": [
      "\rProcessing Videos:   5%|▌         | 634/11980 [14:32<4:33:52,  1.45s/video]"
     ]
    },
    {
     "name": "stdout",
     "output_type": "stream",
     "text": [
      "Saved 66604.mp4 as theory_frames.npy\n"
     ]
    },
    {
     "name": "stderr",
     "output_type": "stream",
     "text": [
      "\rProcessing Videos:   5%|▌         | 635/11980 [14:33<4:20:18,  1.38s/video]"
     ]
    },
    {
     "name": "stdout",
     "output_type": "stream",
     "text": [
      "Saved 66579.mp4 as summer_frames.npy\n"
     ]
    },
    {
     "name": "stderr",
     "output_type": "stream",
     "text": [
      "\rProcessing Videos:   5%|▌         | 636/11980 [14:34<4:05:25,  1.30s/video]"
     ]
    },
    {
     "name": "stdout",
     "output_type": "stream",
     "text": [
      "Saved 66615.mp4 as thirsty_frames.npy\n"
     ]
    },
    {
     "name": "stderr",
     "output_type": "stream",
     "text": [
      "\rProcessing Videos:   5%|▌         | 637/11980 [14:35<3:46:32,  1.20s/video]"
     ]
    },
    {
     "name": "stdout",
     "output_type": "stream",
     "text": [
      "Saved 66599.mp4 as that_frames.npy\n"
     ]
    },
    {
     "name": "stderr",
     "output_type": "stream",
     "text": [
      "\rProcessing Videos:   5%|▌         | 638/11980 [14:36<3:48:27,  1.21s/video]"
     ]
    },
    {
     "name": "stdout",
     "output_type": "stream",
     "text": [
      "Saved 66583.mp4 as surprise_frames.npy\n"
     ]
    },
    {
     "name": "stderr",
     "output_type": "stream",
     "text": [
      "\rProcessing Videos:   5%|▌         | 639/11980 [14:37<3:47:09,  1.20s/video]"
     ]
    },
    {
     "name": "stdout",
     "output_type": "stream",
     "text": [
      "Saved 66553.mp4 as stand_frames.npy\n"
     ]
    },
    {
     "name": "stderr",
     "output_type": "stream",
     "text": [
      "\rProcessing Videos:   5%|▌         | 640/11980 [14:38<3:15:27,  1.03s/video]"
     ]
    },
    {
     "name": "stdout",
     "output_type": "stream",
     "text": [
      "Saved 66557.mp4 as stink_frames.npy\n"
     ]
    },
    {
     "name": "stderr",
     "output_type": "stream",
     "text": [
      "\rProcessing Videos:   5%|▌         | 641/11980 [14:39<3:09:50,  1.00s/video]"
     ]
    },
    {
     "name": "stdout",
     "output_type": "stream",
     "text": [
      "Saved 66572.mp4 as strong_frames.npy\n"
     ]
    },
    {
     "name": "stderr",
     "output_type": "stream",
     "text": [
      "\rProcessing Videos:   5%|▌         | 642/11980 [14:40<3:40:22,  1.17s/video]"
     ]
    },
    {
     "name": "stdout",
     "output_type": "stream",
     "text": [
      "Saved 66602.mp4 as then_frames.npy\n"
     ]
    },
    {
     "name": "stderr",
     "output_type": "stream",
     "text": [
      "\rProcessing Videos:   5%|▌         | 643/11980 [14:41<3:28:26,  1.10s/video]"
     ]
    },
    {
     "name": "stdout",
     "output_type": "stream",
     "text": [
      "Saved 66614.mp4 as third_frames.npy\n"
     ]
    },
    {
     "name": "stderr",
     "output_type": "stream",
     "text": [
      "\rProcessing Videos:   5%|▌         | 644/11980 [14:43<3:37:05,  1.15s/video]"
     ]
    },
    {
     "name": "stdout",
     "output_type": "stream",
     "text": [
      "Saved 66608.mp4 as thing_frames.npy\n"
     ]
    },
    {
     "name": "stderr",
     "output_type": "stream",
     "text": [
      "\rProcessing Videos:   5%|▌         | 645/11980 [14:44<3:30:59,  1.12s/video]"
     ]
    },
    {
     "name": "stdout",
     "output_type": "stream",
     "text": [
      "Saved 66564.mp4 as strange_frames.npy\n"
     ]
    },
    {
     "name": "stderr",
     "output_type": "stream",
     "text": [
      "\rProcessing Videos:   5%|▌         | 646/11980 [14:45<3:41:02,  1.17s/video]"
     ]
    },
    {
     "name": "stdout",
     "output_type": "stream",
     "text": [
      "Saved 66562.mp4 as story_frames.npy\n"
     ]
    },
    {
     "name": "stderr",
     "output_type": "stream",
     "text": [
      "\rProcessing Videos:   5%|▌         | 647/11980 [14:46<3:47:44,  1.21s/video]"
     ]
    },
    {
     "name": "stdout",
     "output_type": "stream",
     "text": [
      "Saved 66551.mp4 as squirrel_frames.npy\n"
     ]
    },
    {
     "name": "stderr",
     "output_type": "stream",
     "text": [
      "\rProcessing Videos:   5%|▌         | 648/11980 [14:48<3:56:06,  1.25s/video]"
     ]
    },
    {
     "name": "stdout",
     "output_type": "stream",
     "text": [
      "Saved 66592.mp4 as tall_frames.npy\n"
     ]
    },
    {
     "name": "stderr",
     "output_type": "stream",
     "text": [
      "\rProcessing Videos:   5%|▌         | 649/11980 [14:49<3:51:28,  1.23s/video]"
     ]
    },
    {
     "name": "stdout",
     "output_type": "stream",
     "text": [
      "Saved 66606.mp4 as thin_frames.npy\n"
     ]
    },
    {
     "name": "stderr",
     "output_type": "stream",
     "text": [
      "\rProcessing Videos:   5%|▌         | 650/11980 [14:50<3:52:48,  1.23s/video]"
     ]
    },
    {
     "name": "stdout",
     "output_type": "stream",
     "text": [
      "Saved 66569.mp4 as street_frames.npy\n"
     ]
    },
    {
     "name": "stderr",
     "output_type": "stream",
     "text": [
      "\rProcessing Videos:   5%|▌         | 651/11980 [14:51<3:46:34,  1.20s/video]"
     ]
    },
    {
     "name": "stdout",
     "output_type": "stream",
     "text": [
      "Saved 66603.mp4 as theory_frames.npy\n"
     ]
    },
    {
     "name": "stderr",
     "output_type": "stream",
     "text": [
      "\rProcessing Videos:   5%|▌         | 652/11980 [14:52<3:27:01,  1.10s/video]"
     ]
    },
    {
     "name": "stdout",
     "output_type": "stream",
     "text": [
      "Saved 66574.mp4 as stubborn_frames.npy\n"
     ]
    },
    {
     "name": "stderr",
     "output_type": "stream",
     "text": [
      "\rProcessing Videos:   5%|▌         | 653/11980 [14:53<3:40:03,  1.17s/video]"
     ]
    },
    {
     "name": "stdout",
     "output_type": "stream",
     "text": [
      "Saved 66607.mp4 as thin_frames.npy\n"
     ]
    },
    {
     "name": "stderr",
     "output_type": "stream",
     "text": [
      "\rProcessing Videos:   5%|▌         | 654/11980 [14:54<3:14:58,  1.03s/video]"
     ]
    },
    {
     "name": "stdout",
     "output_type": "stream",
     "text": [
      "Saved 66567.mp4 as strawberry_frames.npy\n"
     ]
    },
    {
     "name": "stderr",
     "output_type": "stream",
     "text": [
      "\rProcessing Videos:   5%|▌         | 655/11980 [14:55<3:24:19,  1.08s/video]"
     ]
    },
    {
     "name": "stdout",
     "output_type": "stream",
     "text": [
      "Saved 66581.mp4 as sunset_frames.npy\n"
     ]
    },
    {
     "name": "stderr",
     "output_type": "stream",
     "text": [
      "\rProcessing Videos:   5%|▌         | 656/11980 [14:56<2:58:47,  1.06video/s]"
     ]
    },
    {
     "name": "stdout",
     "output_type": "stream",
     "text": [
      "Saved 66560.mp4 as stomach_frames.npy\n"
     ]
    },
    {
     "name": "stderr",
     "output_type": "stream",
     "text": [
      "\rProcessing Videos:   5%|▌         | 657/11980 [14:57<3:19:56,  1.06s/video]"
     ]
    },
    {
     "name": "stdout",
     "output_type": "stream",
     "text": [
      "Saved 66609.mp4 as think_frames.npy\n"
     ]
    },
    {
     "name": "stderr",
     "output_type": "stream",
     "text": [
      "\rProcessing Videos:   5%|▌         | 658/11980 [14:58<3:01:17,  1.04video/s]"
     ]
    },
    {
     "name": "stdout",
     "output_type": "stream",
     "text": [
      "Saved 66597.mp4 as than_frames.npy\n"
     ]
    },
    {
     "name": "stderr",
     "output_type": "stream",
     "text": [
      "\rProcessing Videos:   6%|▌         | 659/11980 [14:59<3:11:28,  1.01s/video]"
     ]
    },
    {
     "name": "stdout",
     "output_type": "stream",
     "text": [
      "Saved 66536.mp4 as sorry_frames.npy\n"
     ]
    },
    {
     "name": "stderr",
     "output_type": "stream",
     "text": [
      "\rProcessing Videos:   6%|▌         | 660/11980 [15:00<2:52:07,  1.10video/s]"
     ]
    },
    {
     "name": "stdout",
     "output_type": "stream",
     "text": [
      "Saved 66712.mp4 as upset_frames.npy\n"
     ]
    },
    {
     "name": "stderr",
     "output_type": "stream",
     "text": [
      "\rProcessing Videos:   6%|▌         | 661/11980 [15:01<3:18:53,  1.05s/video]"
     ]
    },
    {
     "name": "stdout",
     "output_type": "stream",
     "text": [
      "Saved 66652.mp4 as toast_frames.npy\n"
     ]
    },
    {
     "name": "stderr",
     "output_type": "stream",
     "text": [
      "\rProcessing Videos:   6%|▌         | 662/11980 [15:02<3:29:10,  1.11s/video]"
     ]
    },
    {
     "name": "stdout",
     "output_type": "stream",
     "text": [
      "Saved 66678.mp4 as truck_frames.npy\n"
     ]
    },
    {
     "name": "stderr",
     "output_type": "stream",
     "text": [
      "\rProcessing Videos:   6%|▌         | 663/11980 [15:04<3:40:16,  1.17s/video]"
     ]
    },
    {
     "name": "stdout",
     "output_type": "stream",
     "text": [
      "Saved 66628.mp4 as this_frames.npy\n"
     ]
    },
    {
     "name": "stderr",
     "output_type": "stream",
     "text": [
      "\rProcessing Videos:   6%|▌         | 664/11980 [15:05<3:59:15,  1.27s/video]"
     ]
    },
    {
     "name": "stdout",
     "output_type": "stream",
     "text": [
      "Saved 66656.mp4 as tongue_frames.npy\n"
     ]
    },
    {
     "name": "stderr",
     "output_type": "stream",
     "text": [
      "\rProcessing Videos:   6%|▌         | 665/11980 [15:06<3:30:46,  1.12s/video]"
     ]
    },
    {
     "name": "stdout",
     "output_type": "stream",
     "text": [
      "Saved 66707.mp4 as university_frames.npy\n"
     ]
    },
    {
     "name": "stderr",
     "output_type": "stream",
     "text": [
      "\rProcessing Videos:   6%|▌         | 666/11980 [15:08<4:05:50,  1.30s/video]"
     ]
    },
    {
     "name": "stdout",
     "output_type": "stream",
     "text": [
      "Saved 66683.mp4 as turkey_frames.npy\n"
     ]
    },
    {
     "name": "stderr",
     "output_type": "stream",
     "text": [
      "\rProcessing Videos:   6%|▌         | 667/11980 [15:09<3:41:38,  1.18s/video]"
     ]
    },
    {
     "name": "stdout",
     "output_type": "stream",
     "text": [
      "Saved 66639.mp4 as thursday_frames.npy\n"
     ]
    },
    {
     "name": "stderr",
     "output_type": "stream",
     "text": [
      "\rProcessing Videos:   6%|▌         | 668/11980 [15:10<3:55:22,  1.25s/video]"
     ]
    },
    {
     "name": "stdout",
     "output_type": "stream",
     "text": [
      "Saved 66657.mp4 as toothbrush_frames.npy\n"
     ]
    },
    {
     "name": "stderr",
     "output_type": "stream",
     "text": [
      "\rProcessing Videos:   6%|▌         | 669/11980 [15:11<3:52:17,  1.23s/video]"
     ]
    },
    {
     "name": "stdout",
     "output_type": "stream",
     "text": [
      "Saved 66672.mp4 as travel_frames.npy\n"
     ]
    },
    {
     "name": "stderr",
     "output_type": "stream",
     "text": [
      "\rProcessing Videos:   6%|▌         | 670/11980 [15:12<3:48:23,  1.21s/video]"
     ]
    },
    {
     "name": "stdout",
     "output_type": "stream",
     "text": [
      "Saved 66711.mp4 as upset_frames.npy\n"
     ]
    },
    {
     "name": "stderr",
     "output_type": "stream",
     "text": [
      "\rProcessing Videos:   6%|▌         | 671/11980 [15:14<3:51:06,  1.23s/video]"
     ]
    },
    {
     "name": "stdout",
     "output_type": "stream",
     "text": [
      "Saved 66649.mp4 as tissue_frames.npy\n"
     ]
    },
    {
     "name": "stderr",
     "output_type": "stream",
     "text": [
      "\rProcessing Videos:   6%|▌         | 672/11980 [15:15<3:51:54,  1.23s/video]"
     ]
    },
    {
     "name": "stdout",
     "output_type": "stream",
     "text": [
      "Saved 66654.mp4 as tomato_frames.npy\n"
     ]
    },
    {
     "name": "stderr",
     "output_type": "stream",
     "text": [
      "\rProcessing Videos:   6%|▌         | 673/11980 [15:16<3:39:35,  1.17s/video]"
     ]
    },
    {
     "name": "stdout",
     "output_type": "stream",
     "text": [
      "Saved 66681.mp4 as try_frames.npy\n"
     ]
    },
    {
     "name": "stderr",
     "output_type": "stream",
     "text": [
      "\rProcessing Videos:   6%|▌         | 674/11980 [15:23<9:05:39,  2.90s/video]"
     ]
    },
    {
     "name": "stdout",
     "output_type": "stream",
     "text": [
      "Saved 66629.mp4 as thousand_frames.npy\n"
     ]
    },
    {
     "name": "stderr",
     "output_type": "stream",
     "text": [
      "\rProcessing Videos:   6%|▌         | 675/11980 [15:24<7:19:19,  2.33s/video]"
     ]
    },
    {
     "name": "stdout",
     "output_type": "stream",
     "text": [
      "Saved 66655.mp4 as tomorrow_frames.npy\n"
     ]
    },
    {
     "name": "stderr",
     "output_type": "stream",
     "text": [
      "\rProcessing Videos:   6%|▌         | 676/11980 [15:25<6:10:52,  1.97s/video]"
     ]
    },
    {
     "name": "stdout",
     "output_type": "stream",
     "text": [
      "Saved 66673.mp4 as tree_frames.npy\n"
     ]
    },
    {
     "name": "stderr",
     "output_type": "stream",
     "text": [
      "\rProcessing Videos:   6%|▌         | 677/11980 [15:26<5:12:17,  1.66s/video]"
     ]
    },
    {
     "name": "stdout",
     "output_type": "stream",
     "text": [
      "Saved 66637.mp4 as thursday_frames.npy\n"
     ]
    },
    {
     "name": "stderr",
     "output_type": "stream",
     "text": [
      "\rProcessing Videos:   6%|▌         | 678/11980 [15:27<4:35:52,  1.46s/video]"
     ]
    },
    {
     "name": "stdout",
     "output_type": "stream",
     "text": [
      "Saved 66638.mp4 as thursday_frames.npy\n"
     ]
    },
    {
     "name": "stderr",
     "output_type": "stream",
     "text": [
      "\rProcessing Videos:   6%|▌         | 679/11980 [15:28<4:07:02,  1.31s/video]"
     ]
    },
    {
     "name": "stdout",
     "output_type": "stream",
     "text": [
      "Saved 66729.mp4 as violin_frames.npy\n"
     ]
    },
    {
     "name": "stderr",
     "output_type": "stream",
     "text": [
      "\rProcessing Videos:   6%|▌         | 680/11980 [15:29<4:10:13,  1.33s/video]"
     ]
    },
    {
     "name": "stdout",
     "output_type": "stream",
     "text": [
      "Saved 66636.mp4 as throw_frames.npy\n"
     ]
    },
    {
     "name": "stderr",
     "output_type": "stream",
     "text": [
      "\rProcessing Videos:   6%|▌         | 681/11980 [15:31<4:14:19,  1.35s/video]"
     ]
    },
    {
     "name": "stdout",
     "output_type": "stream",
     "text": [
      "Saved 66642.mp4 as tie_frames.npy\n"
     ]
    },
    {
     "name": "stderr",
     "output_type": "stream",
     "text": [
      "\rProcessing Videos:   6%|▌         | 682/11980 [15:32<4:09:09,  1.32s/video]"
     ]
    },
    {
     "name": "stdout",
     "output_type": "stream",
     "text": [
      "Saved 66640.mp4 as thursday_frames.npy\n"
     ]
    },
    {
     "name": "stderr",
     "output_type": "stream",
     "text": [
      "\rProcessing Videos:   6%|▌         | 683/11980 [15:33<3:54:42,  1.25s/video]"
     ]
    },
    {
     "name": "stdout",
     "output_type": "stream",
     "text": [
      "Saved 66704.mp4 as understand_frames.npy\n"
     ]
    },
    {
     "name": "stderr",
     "output_type": "stream",
     "text": [
      "\rProcessing Videos:   6%|▌         | 684/11980 [15:34<4:02:09,  1.29s/video]"
     ]
    },
    {
     "name": "stdout",
     "output_type": "stream",
     "text": [
      "Saved 66659.mp4 as topic_frames.npy\n"
     ]
    },
    {
     "name": "stderr",
     "output_type": "stream",
     "text": [
      "\rProcessing Videos:   6%|▌         | 685/11980 [15:35<3:29:47,  1.11s/video]"
     ]
    },
    {
     "name": "stdout",
     "output_type": "stream",
     "text": [
      "Saved 66708.mp4 as until_frames.npy\n"
     ]
    },
    {
     "name": "stderr",
     "output_type": "stream",
     "text": [
      "\rProcessing Videos:   6%|▌         | 686/11980 [15:36<3:37:03,  1.15s/video]"
     ]
    },
    {
     "name": "stdout",
     "output_type": "stream",
     "text": [
      "Saved 66699.mp4 as umbrella_frames.npy\n"
     ]
    },
    {
     "name": "stderr",
     "output_type": "stream",
     "text": [
      "\rProcessing Videos:   6%|▌         | 687/11980 [15:38<3:57:13,  1.26s/video]"
     ]
    },
    {
     "name": "stdout",
     "output_type": "stream",
     "text": [
      "Saved 66658.mp4 as top_frames.npy\n"
     ]
    },
    {
     "name": "stderr",
     "output_type": "stream",
     "text": [
      "\rProcessing Videos:   6%|▌         | 688/11980 [15:39<4:06:39,  1.31s/video]"
     ]
    },
    {
     "name": "stdout",
     "output_type": "stream",
     "text": [
      "Saved 66653.mp4 as together_frames.npy\n"
     ]
    },
    {
     "name": "stderr",
     "output_type": "stream",
     "text": [
      "\rProcessing Videos:   6%|▌         | 689/11980 [15:40<3:40:36,  1.17s/video]"
     ]
    },
    {
     "name": "stdout",
     "output_type": "stream",
     "text": [
      "Saved 66667.mp4 as transfer_frames.npy\n"
     ]
    },
    {
     "name": "stderr",
     "output_type": "stream",
     "text": [
      "\rProcessing Videos:   6%|▌         | 690/11980 [15:41<3:12:29,  1.02s/video]"
     ]
    },
    {
     "name": "stdout",
     "output_type": "stream",
     "text": [
      "Saved 66718.mp4 as vampire_frames.npy\n"
     ]
    },
    {
     "name": "stderr",
     "output_type": "stream",
     "text": [
      "\rProcessing Videos:   6%|▌         | 691/11980 [15:42<3:25:08,  1.09s/video]"
     ]
    },
    {
     "name": "stdout",
     "output_type": "stream",
     "text": [
      "Saved 66664.mp4 as traffic_frames.npy\n"
     ]
    },
    {
     "name": "stderr",
     "output_type": "stream",
     "text": [
      "\rProcessing Videos:   6%|▌         | 692/11980 [15:43<3:29:15,  1.11s/video]"
     ]
    },
    {
     "name": "stdout",
     "output_type": "stream",
     "text": [
      "Saved 66670.mp4 as translate_frames.npy\n"
     ]
    },
    {
     "name": "stderr",
     "output_type": "stream",
     "text": [
      "\rProcessing Videos:   6%|▌         | 693/11980 [15:44<3:41:21,  1.18s/video]"
     ]
    },
    {
     "name": "stdout",
     "output_type": "stream",
     "text": [
      "Saved 66643.mp4 as tiger_frames.npy\n"
     ]
    },
    {
     "name": "stderr",
     "output_type": "stream",
     "text": [
      "\rProcessing Videos:   6%|▌         | 694/11980 [15:46<4:00:32,  1.28s/video]"
     ]
    },
    {
     "name": "stdout",
     "output_type": "stream",
     "text": [
      "Saved 66676.mp4 as trouble_frames.npy\n"
     ]
    },
    {
     "name": "stderr",
     "output_type": "stream",
     "text": [
      "\rProcessing Videos:   6%|▌         | 695/11980 [15:47<3:54:45,  1.25s/video]"
     ]
    },
    {
     "name": "stdout",
     "output_type": "stream",
     "text": [
      "Saved 66720.mp4 as vegetable_frames.npy\n"
     ]
    },
    {
     "name": "stderr",
     "output_type": "stream",
     "text": [
      "\rProcessing Videos:   6%|▌         | 696/11980 [15:49<4:14:22,  1.35s/video]"
     ]
    },
    {
     "name": "stdout",
     "output_type": "stream",
     "text": [
      "Saved 66665.mp4 as train_frames.npy\n"
     ]
    },
    {
     "name": "stderr",
     "output_type": "stream",
     "text": [
      "\rProcessing Videos:   6%|▌         | 697/11980 [15:50<4:14:30,  1.35s/video]"
     ]
    },
    {
     "name": "stdout",
     "output_type": "stream",
     "text": [
      "Saved 66650.mp4 as title_frames.npy\n"
     ]
    },
    {
     "name": "stderr",
     "output_type": "stream",
     "text": [
      "\rProcessing Videos:   6%|▌         | 698/11980 [15:51<4:06:47,  1.31s/video]"
     ]
    },
    {
     "name": "stdout",
     "output_type": "stream",
     "text": [
      "Saved 66677.mp4 as truck_frames.npy\n"
     ]
    },
    {
     "name": "stderr",
     "output_type": "stream",
     "text": [
      "\rProcessing Videos:   6%|▌         | 699/11980 [15:52<3:44:43,  1.20s/video]"
     ]
    },
    {
     "name": "stdout",
     "output_type": "stream",
     "text": [
      "Saved 66722.mp4 as very_frames.npy\n"
     ]
    },
    {
     "name": "stderr",
     "output_type": "stream",
     "text": [
      "\rProcessing Videos:   6%|▌         | 700/11980 [15:53<3:44:51,  1.20s/video]"
     ]
    },
    {
     "name": "stdout",
     "output_type": "stream",
     "text": [
      "Saved 66644.mp4 as time_frames.npy\n"
     ]
    },
    {
     "name": "stderr",
     "output_type": "stream",
     "text": [
      "\rProcessing Videos:   6%|▌         | 701/11980 [15:55<3:58:52,  1.27s/video]"
     ]
    },
    {
     "name": "stdout",
     "output_type": "stream",
     "text": [
      "Saved 66663.mp4 as tradition_frames.npy\n"
     ]
    },
    {
     "name": "stderr",
     "output_type": "stream",
     "text": [
      "\rProcessing Videos:   6%|▌         | 702/11980 [15:56<4:02:38,  1.29s/video]"
     ]
    },
    {
     "name": "stdout",
     "output_type": "stream",
     "text": [
      "Saved 66684.mp4 as turn_frames.npy\n"
     ]
    },
    {
     "name": "stderr",
     "output_type": "stream",
     "text": [
      "\rProcessing Videos:   6%|▌         | 703/11980 [15:57<3:29:49,  1.12s/video]"
     ]
    },
    {
     "name": "stdout",
     "output_type": "stream",
     "text": [
      "Saved 66705.mp4 as underwear_frames.npy\n"
     ]
    },
    {
     "name": "stderr",
     "output_type": "stream",
     "text": [
      "\rProcessing Videos:   6%|▌         | 704/11980 [15:58<3:39:37,  1.17s/video]"
     ]
    },
    {
     "name": "stdout",
     "output_type": "stream",
     "text": [
      "Saved 66630.mp4 as three_frames.npy\n"
     ]
    },
    {
     "name": "stderr",
     "output_type": "stream",
     "text": [
      "\rProcessing Videos:   6%|▌         | 705/11980 [16:00<4:09:23,  1.33s/video]"
     ]
    },
    {
     "name": "stdout",
     "output_type": "stream",
     "text": [
      "Saved 66634.mp4 as thrill_frames.npy\n"
     ]
    },
    {
     "name": "stderr",
     "output_type": "stream",
     "text": [
      "\rProcessing Videos:   6%|▌         | 706/11980 [16:01<4:05:00,  1.30s/video]"
     ]
    },
    {
     "name": "stdout",
     "output_type": "stream",
     "text": [
      "Saved 66669.mp4 as translate_frames.npy\n"
     ]
    },
    {
     "name": "stderr",
     "output_type": "stream",
     "text": [
      "\rProcessing Videos:   6%|▌         | 707/11980 [16:02<4:00:13,  1.28s/video]"
     ]
    },
    {
     "name": "stdout",
     "output_type": "stream",
     "text": [
      "Saved 66680.mp4 as try_frames.npy\n"
     ]
    },
    {
     "name": "stderr",
     "output_type": "stream",
     "text": [
      "\rProcessing Videos:   6%|▌         | 708/11980 [16:03<3:24:42,  1.09s/video]"
     ]
    },
    {
     "name": "stdout",
     "output_type": "stream",
     "text": [
      "Saved 66709.mp4 as up_frames.npy\n"
     ]
    },
    {
     "name": "stderr",
     "output_type": "stream",
     "text": [
      "\rProcessing Videos:   6%|▌         | 709/11980 [16:04<3:44:01,  1.19s/video]"
     ]
    },
    {
     "name": "stdout",
     "output_type": "stream",
     "text": [
      "Saved 66661.mp4 as town_frames.npy\n"
     ]
    },
    {
     "name": "stderr",
     "output_type": "stream",
     "text": [
      "\rProcessing Videos:   6%|▌         | 710/11980 [16:05<3:12:38,  1.03s/video]"
     ]
    },
    {
     "name": "stdout",
     "output_type": "stream",
     "text": [
      "Saved 66715.mp4 as vacation_frames.npy\n"
     ]
    },
    {
     "name": "stderr",
     "output_type": "stream",
     "text": [
      "\rProcessing Videos:   6%|▌         | 711/11980 [16:06<3:30:44,  1.12s/video]"
     ]
    },
    {
     "name": "stdout",
     "output_type": "stream",
     "text": [
      "Saved 66756.mp4 as wear_frames.npy\n"
     ]
    },
    {
     "name": "stderr",
     "output_type": "stream",
     "text": [
      "\rProcessing Videos:   6%|▌         | 712/11980 [16:07<2:59:29,  1.05video/s]"
     ]
    },
    {
     "name": "stdout",
     "output_type": "stream",
     "text": [
      "Saved 66763.mp4 as welcome_frames.npy\n"
     ]
    },
    {
     "name": "stderr",
     "output_type": "stream",
     "text": [
      "\rProcessing Videos:   6%|▌         | 713/11980 [16:08<2:57:37,  1.06video/s]"
     ]
    },
    {
     "name": "stdout",
     "output_type": "stream",
     "text": [
      "Saved 66748.mp4 as wash face_frames.npy\n"
     ]
    },
    {
     "name": "stderr",
     "output_type": "stream",
     "text": [
      "\rProcessing Videos:   6%|▌         | 714/11980 [16:09<3:18:45,  1.06s/video]"
     ]
    },
    {
     "name": "stdout",
     "output_type": "stream",
     "text": [
      "Saved 66775.mp4 as which_frames.npy\n"
     ]
    },
    {
     "name": "stderr",
     "output_type": "stream",
     "text": [
      "\rProcessing Videos:   6%|▌         | 715/11980 [16:10<2:51:54,  1.09video/s]"
     ]
    },
    {
     "name": "stdout",
     "output_type": "stream",
     "text": [
      "Saved 66734.mp4 as vlog_frames.npy\n"
     ]
    },
    {
     "name": "stderr",
     "output_type": "stream",
     "text": [
      "\rProcessing Videos:   6%|▌         | 716/11980 [16:11<3:16:42,  1.05s/video]"
     ]
    },
    {
     "name": "stdout",
     "output_type": "stream",
     "text": [
      "Saved 66731.mp4 as visit_frames.npy\n"
     ]
    },
    {
     "name": "stderr",
     "output_type": "stream",
     "text": [
      "\rProcessing Videos:   6%|▌         | 717/11980 [16:13<3:43:59,  1.19s/video]"
     ]
    },
    {
     "name": "stdout",
     "output_type": "stream",
     "text": [
      "Saved 66760.mp4 as weekend_frames.npy\n"
     ]
    },
    {
     "name": "stderr",
     "output_type": "stream",
     "text": [
      "\rProcessing Videos:   6%|▌         | 718/11980 [16:14<3:54:23,  1.25s/video]"
     ]
    },
    {
     "name": "stdout",
     "output_type": "stream",
     "text": [
      "Saved 66745.mp4 as wallet_frames.npy\n"
     ]
    },
    {
     "name": "stderr",
     "output_type": "stream",
     "text": [
      "\rProcessing Videos:   6%|▌         | 719/11980 [16:15<3:49:32,  1.22s/video]"
     ]
    },
    {
     "name": "stdout",
     "output_type": "stream",
     "text": [
      "Saved 66781.mp4 as why_frames.npy\n"
     ]
    },
    {
     "name": "stderr",
     "output_type": "stream",
     "text": [
      "\rProcessing Videos:   6%|▌         | 720/11980 [16:17<3:55:29,  1.25s/video]"
     ]
    },
    {
     "name": "stdout",
     "output_type": "stream",
     "text": [
      "Saved 66750.mp4 as waste_frames.npy\n"
     ]
    },
    {
     "name": "stderr",
     "output_type": "stream",
     "text": [
      "\rProcessing Videos:   6%|▌         | 721/11980 [16:18<3:49:46,  1.22s/video]"
     ]
    },
    {
     "name": "stdout",
     "output_type": "stream",
     "text": [
      "Saved 66757.mp4 as wedding_frames.npy\n"
     ]
    },
    {
     "name": "stderr",
     "output_type": "stream",
     "text": [
      "\rProcessing Videos:   6%|▌         | 722/11980 [16:19<3:56:19,  1.26s/video]"
     ]
    },
    {
     "name": "stdout",
     "output_type": "stream",
     "text": [
      "Saved 66799.mp4 as woman_frames.npy\n"
     ]
    },
    {
     "name": "stderr",
     "output_type": "stream",
     "text": [
      "\rProcessing Videos:   6%|▌         | 723/11980 [16:20<3:44:43,  1.20s/video]"
     ]
    },
    {
     "name": "stdout",
     "output_type": "stream",
     "text": [
      "Saved 66776.mp4 as while_frames.npy\n"
     ]
    },
    {
     "name": "stderr",
     "output_type": "stream",
     "text": [
      "\rProcessing Videos:   6%|▌         | 724/11980 [16:22<3:53:13,  1.24s/video]"
     ]
    },
    {
     "name": "stdout",
     "output_type": "stream",
     "text": [
      "Saved 66791.mp4 as window_frames.npy\n"
     ]
    },
    {
     "name": "stderr",
     "output_type": "stream",
     "text": [
      "\rProcessing Videos:   6%|▌         | 725/11980 [16:23<3:58:09,  1.27s/video]"
     ]
    },
    {
     "name": "stdout",
     "output_type": "stream",
     "text": [
      "Saved 66801.mp4 as wonderful_frames.npy\n"
     ]
    },
    {
     "name": "stderr",
     "output_type": "stream",
     "text": [
      "\rProcessing Videos:   6%|▌         | 726/11980 [16:24<3:43:40,  1.19s/video]"
     ]
    },
    {
     "name": "stdout",
     "output_type": "stream",
     "text": [
      "Saved 66788.mp4 as willing_frames.npy\n"
     ]
    },
    {
     "name": "stderr",
     "output_type": "stream",
     "text": [
      "\rProcessing Videos:   6%|▌         | 727/11980 [16:25<3:19:31,  1.06s/video]"
     ]
    },
    {
     "name": "stdout",
     "output_type": "stream",
     "text": [
      "Saved 66758.mp4 as wednesday_frames.npy\n"
     ]
    },
    {
     "name": "stderr",
     "output_type": "stream",
     "text": [
      "\rProcessing Videos:   6%|▌         | 728/11980 [16:26<3:24:11,  1.09s/video]"
     ]
    },
    {
     "name": "stdout",
     "output_type": "stream",
     "text": [
      "Saved 66774.mp4 as where_frames.npy\n"
     ]
    },
    {
     "name": "stderr",
     "output_type": "stream",
     "text": [
      "\rProcessing Videos:   6%|▌         | 729/11980 [16:27<3:11:42,  1.02s/video]"
     ]
    },
    {
     "name": "stdout",
     "output_type": "stream",
     "text": [
      "Saved 66739.mp4 as volunteer_frames.npy\n"
     ]
    },
    {
     "name": "stderr",
     "output_type": "stream",
     "text": [
      "\rProcessing Videos:   6%|▌         | 730/11980 [16:27<2:51:50,  1.09video/s]"
     ]
    },
    {
     "name": "stdout",
     "output_type": "stream",
     "text": [
      "Saved 66735.mp4 as vocabulary_frames.npy\n"
     ]
    },
    {
     "name": "stderr",
     "output_type": "stream",
     "text": [
      "\rProcessing Videos:   6%|▌         | 731/11980 [16:28<3:00:31,  1.04video/s]"
     ]
    },
    {
     "name": "stdout",
     "output_type": "stream",
     "text": [
      "Saved 66764.mp4 as welcome_frames.npy\n"
     ]
    },
    {
     "name": "stderr",
     "output_type": "stream",
     "text": [
      "\rProcessing Videos:   6%|▌         | 732/11980 [16:29<2:43:21,  1.15video/s]"
     ]
    },
    {
     "name": "stdout",
     "output_type": "stream",
     "text": [
      "Saved 66747.mp4 as warn_frames.npy\n"
     ]
    },
    {
     "name": "stderr",
     "output_type": "stream",
     "text": [
      "\rProcessing Videos:   6%|▌         | 733/11980 [16:30<3:14:09,  1.04s/video]"
     ]
    },
    {
     "name": "stdout",
     "output_type": "stream",
     "text": [
      "Saved 66742.mp4 as walk_frames.npy\n"
     ]
    },
    {
     "name": "stderr",
     "output_type": "stream",
     "text": [
      "\rProcessing Videos:   6%|▌         | 734/11980 [16:32<3:23:28,  1.09s/video]"
     ]
    },
    {
     "name": "stdout",
     "output_type": "stream",
     "text": [
      "Saved 66783.mp4 as wide_frames.npy\n"
     ]
    },
    {
     "name": "stderr",
     "output_type": "stream",
     "text": [
      "\rProcessing Videos:   6%|▌         | 735/11980 [16:32<3:00:18,  1.04video/s]"
     ]
    },
    {
     "name": "stdout",
     "output_type": "stream",
     "text": [
      "Saved 66755.mp4 as we_frames.npy\n"
     ]
    },
    {
     "name": "stderr",
     "output_type": "stream",
     "text": [
      "\rProcessing Videos:   6%|▌         | 736/11980 [16:34<3:18:42,  1.06s/video]"
     ]
    },
    {
     "name": "stdout",
     "output_type": "stream",
     "text": [
      "Saved 66740.mp4 as wait_frames.npy\n"
     ]
    },
    {
     "name": "stderr",
     "output_type": "stream",
     "text": [
      "\rProcessing Videos:   6%|▌         | 737/11980 [16:35<3:47:55,  1.22s/video]"
     ]
    },
    {
     "name": "stdout",
     "output_type": "stream",
     "text": [
      "Saved 66746.mp4 as war_frames.npy\n"
     ]
    },
    {
     "name": "stderr",
     "output_type": "stream",
     "text": [
      "\rProcessing Videos:   6%|▌         | 738/11980 [16:36<3:20:45,  1.07s/video]"
     ]
    },
    {
     "name": "stdout",
     "output_type": "stream",
     "text": [
      "Saved 66759.mp4 as week_frames.npy\n"
     ]
    },
    {
     "name": "stderr",
     "output_type": "stream",
     "text": [
      "\rProcessing Videos:   6%|▌         | 739/11980 [16:37<3:05:45,  1.01video/s]"
     ]
    },
    {
     "name": "stdout",
     "output_type": "stream",
     "text": [
      "Saved 66743.mp4 as walk_frames.npy\n"
     ]
    },
    {
     "name": "stderr",
     "output_type": "stream",
     "text": [
      "\rProcessing Videos:   6%|▌         | 740/11980 [16:38<3:10:30,  1.02s/video]"
     ]
    },
    {
     "name": "stdout",
     "output_type": "stream",
     "text": [
      "Saved 66800.mp4 as wonder_frames.npy\n"
     ]
    },
    {
     "name": "stderr",
     "output_type": "stream",
     "text": [
      "\rProcessing Videos:   6%|▌         | 741/11980 [16:38<2:51:34,  1.09video/s]"
     ]
    },
    {
     "name": "stdout",
     "output_type": "stream",
     "text": [
      "Saved 66732.mp4 as visitor_frames.npy\n"
     ]
    },
    {
     "name": "stderr",
     "output_type": "stream",
     "text": [
      "\rProcessing Videos:   6%|▌         | 742/11980 [16:40<3:16:44,  1.05s/video]"
     ]
    },
    {
     "name": "stdout",
     "output_type": "stream",
     "text": [
      "Saved 66733.mp4 as visualize_frames.npy\n"
     ]
    },
    {
     "name": "stderr",
     "output_type": "stream",
     "text": [
      "\rProcessing Videos:   6%|▌         | 743/11980 [16:41<3:24:05,  1.09s/video]"
     ]
    },
    {
     "name": "stdout",
     "output_type": "stream",
     "text": [
      "Saved 66797.mp4 as wolf_frames.npy\n"
     ]
    },
    {
     "name": "stderr",
     "output_type": "stream",
     "text": [
      "\rProcessing Videos:   6%|▌         | 744/11980 [16:42<3:30:00,  1.12s/video]"
     ]
    },
    {
     "name": "stdout",
     "output_type": "stream",
     "text": [
      "Saved 66785.mp4 as wife_frames.npy\n"
     ]
    },
    {
     "name": "stderr",
     "output_type": "stream",
     "text": [
      "\rProcessing Videos:   6%|▌         | 745/11980 [16:44<4:06:12,  1.31s/video]"
     ]
    },
    {
     "name": "stdout",
     "output_type": "stream",
     "text": [
      "Saved 66790.mp4 as wind_frames.npy\n"
     ]
    },
    {
     "name": "stderr",
     "output_type": "stream",
     "text": [
      "\rProcessing Videos:   6%|▌         | 746/11980 [16:45<4:07:17,  1.32s/video]"
     ]
    },
    {
     "name": "stdout",
     "output_type": "stream",
     "text": [
      "Saved 66795.mp4 as with_frames.npy\n"
     ]
    },
    {
     "name": "stderr",
     "output_type": "stream",
     "text": [
      "\rProcessing Videos:   6%|▌         | 747/11980 [16:47<4:28:53,  1.44s/video]"
     ]
    },
    {
     "name": "stdout",
     "output_type": "stream",
     "text": [
      "Saved 66769.mp4 as what_frames.npy\n"
     ]
    },
    {
     "name": "stderr",
     "output_type": "stream",
     "text": [
      "\rProcessing Videos:   6%|▌         | 748/11980 [16:48<3:51:14,  1.24s/video]"
     ]
    },
    {
     "name": "stdout",
     "output_type": "stream",
     "text": [
      "Saved 66744.mp4 as wall_frames.npy\n"
     ]
    },
    {
     "name": "stderr",
     "output_type": "stream",
     "text": [
      "\rProcessing Videos:   6%|▋         | 749/11980 [16:49<3:42:38,  1.19s/video]"
     ]
    },
    {
     "name": "stdout",
     "output_type": "stream",
     "text": [
      "Saved 66796.mp4 as without_frames.npy\n"
     ]
    },
    {
     "name": "stderr",
     "output_type": "stream",
     "text": [
      "\rProcessing Videos:   6%|▋         | 750/11980 [16:50<3:13:46,  1.04s/video]"
     ]
    },
    {
     "name": "stdout",
     "output_type": "stream",
     "text": [
      "Saved 66762.mp4 as weird_frames.npy\n"
     ]
    },
    {
     "name": "stderr",
     "output_type": "stream",
     "text": [
      "\rProcessing Videos:   6%|▋         | 751/11980 [16:50<2:58:17,  1.05video/s]"
     ]
    },
    {
     "name": "stdout",
     "output_type": "stream",
     "text": [
      "Saved 66736.mp4 as voice_frames.npy\n"
     ]
    },
    {
     "name": "stderr",
     "output_type": "stream",
     "text": [
      "\rProcessing Videos:   6%|▋         | 752/11980 [16:51<3:06:25,  1.00video/s]"
     ]
    },
    {
     "name": "stdout",
     "output_type": "stream",
     "text": [
      "Saved 66778.mp4 as who_frames.npy\n"
     ]
    },
    {
     "name": "stderr",
     "output_type": "stream",
     "text": [
      "\rProcessing Videos:   6%|▋         | 753/11980 [16:52<3:09:29,  1.01s/video]"
     ]
    },
    {
     "name": "stdout",
     "output_type": "stream",
     "text": [
      "Saved 66789.mp4 as win_frames.npy\n"
     ]
    },
    {
     "name": "stderr",
     "output_type": "stream",
     "text": [
      "\rProcessing Videos:   6%|▋         | 754/11980 [16:53<3:05:53,  1.01video/s]"
     ]
    },
    {
     "name": "stdout",
     "output_type": "stream",
     "text": [
      "Saved 66798.mp4 as woman_frames.npy\n"
     ]
    },
    {
     "name": "stderr",
     "output_type": "stream",
     "text": [
      "\rProcessing Videos:   6%|▋         | 755/11980 [16:55<3:21:02,  1.07s/video]"
     ]
    },
    {
     "name": "stdout",
     "output_type": "stream",
     "text": [
      "Saved 66773.mp4 as when_frames.npy\n"
     ]
    },
    {
     "name": "stderr",
     "output_type": "stream",
     "text": [
      "\rProcessing Videos:   6%|▋         | 756/11980 [16:55<3:01:33,  1.03video/s]"
     ]
    },
    {
     "name": "stdout",
     "output_type": "stream",
     "text": [
      "Saved 66752.mp4 as water_frames.npy\n"
     ]
    },
    {
     "name": "stderr",
     "output_type": "stream",
     "text": [
      "\rProcessing Videos:   6%|▋         | 757/11980 [16:56<2:41:41,  1.16video/s]"
     ]
    },
    {
     "name": "stdout",
     "output_type": "stream",
     "text": [
      "Saved 66765.mp4 as west_frames.npy\n"
     ]
    },
    {
     "name": "stderr",
     "output_type": "stream",
     "text": [
      "\rProcessing Videos:   6%|▋         | 758/11980 [16:57<3:03:04,  1.02video/s]"
     ]
    },
    {
     "name": "stdout",
     "output_type": "stream",
     "text": [
      "Saved 66779.mp4 as who_frames.npy\n"
     ]
    },
    {
     "name": "stderr",
     "output_type": "stream",
     "text": [
      "\rProcessing Videos:   6%|▋         | 759/11980 [16:59<3:21:00,  1.07s/video]"
     ]
    },
    {
     "name": "stdout",
     "output_type": "stream",
     "text": [
      "Saved 66784.mp4 as wife_frames.npy\n"
     ]
    },
    {
     "name": "stderr",
     "output_type": "stream",
     "text": [
      "\rProcessing Videos:   6%|▋         | 760/11980 [17:00<3:22:23,  1.08s/video]"
     ]
    },
    {
     "name": "stdout",
     "output_type": "stream",
     "text": [
      "Saved 66766.mp4 as wet_frames.npy\n"
     ]
    },
    {
     "name": "stderr",
     "output_type": "stream",
     "text": [
      "\rProcessing Videos:   6%|▋         | 761/11980 [17:01<3:35:23,  1.15s/video]"
     ]
    },
    {
     "name": "stdout",
     "output_type": "stream",
     "text": [
      "Saved 66767.mp4 as wet_frames.npy\n"
     ]
    },
    {
     "name": "stderr",
     "output_type": "stream",
     "text": [
      "\rProcessing Videos:   6%|▋         | 762/11980 [17:02<3:54:58,  1.26s/video]"
     ]
    },
    {
     "name": "stdout",
     "output_type": "stream",
     "text": [
      "Saved 66772.mp4 as whatever_frames.npy\n"
     ]
    },
    {
     "name": "stderr",
     "output_type": "stream",
     "text": [
      "\rProcessing Videos:   6%|▋         | 763/11980 [17:03<3:23:03,  1.09s/video]"
     ]
    },
    {
     "name": "stdout",
     "output_type": "stream",
     "text": [
      "Saved 66761.mp4 as weekend_frames.npy\n"
     ]
    },
    {
     "name": "stderr",
     "output_type": "stream",
     "text": [
      "\rProcessing Videos:   6%|▋         | 764/11980 [17:10<8:18:09,  2.66s/video]"
     ]
    },
    {
     "name": "stdout",
     "output_type": "stream",
     "text": [
      "Saved 69207.mp4 as also_frames.npy\n"
     ]
    },
    {
     "name": "stderr",
     "output_type": "stream",
     "text": [
      "\rProcessing Videos:   6%|▋         | 765/11980 [17:15<11:04:15,  3.55s/video]"
     ]
    },
    {
     "name": "stdout",
     "output_type": "stream",
     "text": [
      "Saved 69206.mp4 as all_frames.npy\n"
     ]
    },
    {
     "name": "stderr",
     "output_type": "stream",
     "text": [
      "\rProcessing Videos:   6%|▋         | 766/11980 [17:16<8:40:30,  2.78s/video] "
     ]
    },
    {
     "name": "stdout",
     "output_type": "stream",
     "text": [
      "Saved 66802.mp4 as wood_frames.npy\n"
     ]
    },
    {
     "name": "stderr",
     "output_type": "stream",
     "text": [
      "\rProcessing Videos:   6%|▋         | 767/11980 [17:17<6:54:35,  2.22s/video]"
     ]
    },
    {
     "name": "stdout",
     "output_type": "stream",
     "text": [
      "Saved 66818.mp4 as year_frames.npy\n"
     ]
    },
    {
     "name": "stderr",
     "output_type": "stream",
     "text": [
      "\rProcessing Videos:   6%|▋         | 768/11980 [17:20<7:38:04,  2.45s/video]"
     ]
    },
    {
     "name": "stdout",
     "output_type": "stream",
     "text": [
      "Saved 69219.mp4 as bad_frames.npy\n"
     ]
    },
    {
     "name": "stderr",
     "output_type": "stream",
     "text": [
      "\rProcessing Videos:   6%|▋         | 769/11980 [17:21<5:59:22,  1.92s/video]"
     ]
    },
    {
     "name": "stdout",
     "output_type": "stream",
     "text": [
      "Saved 66820.mp4 as yes_frames.npy\n"
     ]
    },
    {
     "name": "stderr",
     "output_type": "stream",
     "text": [
      "\rProcessing Videos:   6%|▋         | 770/11980 [17:24<6:52:20,  2.21s/video]"
     ]
    },
    {
     "name": "stdout",
     "output_type": "stream",
     "text": [
      "Saved 69211.mp4 as animal_frames.npy\n"
     ]
    },
    {
     "name": "stderr",
     "output_type": "stream",
     "text": [
      "\rProcessing Videos:   6%|▋         | 771/11980 [17:24<5:30:42,  1.77s/video]"
     ]
    },
    {
     "name": "stdout",
     "output_type": "stream",
     "text": [
      "Saved 66805.mp4 as worker_frames.npy\n"
     ]
    },
    {
     "name": "stderr",
     "output_type": "stream",
     "text": [
      "\rProcessing Videos:   6%|▋         | 772/11980 [17:28<6:55:56,  2.23s/video]"
     ]
    },
    {
     "name": "stdout",
     "output_type": "stream",
     "text": [
      "Saved 69205.mp4 as add_frames.npy\n"
     ]
    },
    {
     "name": "stderr",
     "output_type": "stream",
     "text": [
      "\rProcessing Videos:   6%|▋         | 773/11980 [17:29<5:48:07,  1.86s/video]"
     ]
    },
    {
     "name": "stdout",
     "output_type": "stream",
     "text": [
      "Saved 66822.mp4 as yesterday_frames.npy\n"
     ]
    },
    {
     "name": "stderr",
     "output_type": "stream",
     "text": [
      "\rProcessing Videos:   6%|▋         | 774/11980 [17:30<5:03:09,  1.62s/video]"
     ]
    },
    {
     "name": "stdout",
     "output_type": "stream",
     "text": [
      "Saved 66811.mp4 as worse_frames.npy\n"
     ]
    },
    {
     "name": "stderr",
     "output_type": "stream",
     "text": [
      "\rProcessing Videos:   6%|▋         | 775/11980 [17:31<4:35:12,  1.47s/video]"
     ]
    },
    {
     "name": "stdout",
     "output_type": "stream",
     "text": [
      "Saved 66803.mp4 as word_frames.npy\n"
     ]
    },
    {
     "name": "stderr",
     "output_type": "stream",
     "text": [
      "\rProcessing Videos:   6%|▋         | 776/11980 [17:35<6:44:32,  2.17s/video]"
     ]
    },
    {
     "name": "stdout",
     "output_type": "stream",
     "text": [
      "Saved 69210.mp4 as angle_frames.npy\n"
     ]
    },
    {
     "name": "stderr",
     "output_type": "stream",
     "text": [
      "\rProcessing Videos:   6%|▋         | 777/11980 [17:36<5:32:24,  1.78s/video]"
     ]
    },
    {
     "name": "stdout",
     "output_type": "stream",
     "text": [
      "Saved 66806.mp4 as workshop_frames.npy\n"
     ]
    },
    {
     "name": "stderr",
     "output_type": "stream",
     "text": [
      "\rProcessing Videos:   6%|▋         | 778/11980 [17:37<5:10:41,  1.66s/video]"
     ]
    },
    {
     "name": "stdout",
     "output_type": "stream",
     "text": [
      "Saved 66807.mp4 as world_frames.npy\n"
     ]
    },
    {
     "name": "stderr",
     "output_type": "stream",
     "text": [
      "\rProcessing Videos:   7%|▋         | 779/11980 [17:41<7:10:35,  2.31s/video]"
     ]
    },
    {
     "name": "stdout",
     "output_type": "stream",
     "text": [
      "Saved 69217.mp4 as baby_frames.npy\n"
     ]
    },
    {
     "name": "stderr",
     "output_type": "stream",
     "text": [
      "\rProcessing Videos:   7%|▋         | 780/11980 [17:42<5:47:55,  1.86s/video]"
     ]
    },
    {
     "name": "stdout",
     "output_type": "stream",
     "text": [
      "Saved 66814.mp4 as wristwatch_frames.npy\n"
     ]
    },
    {
     "name": "stderr",
     "output_type": "stream",
     "text": [
      "\rProcessing Videos:   7%|▋         | 781/11980 [17:43<5:51:58,  1.89s/video]"
     ]
    },
    {
     "name": "stdout",
     "output_type": "stream",
     "text": [
      "Saved 66812.mp4 as worthless_frames.npy\n"
     ]
    },
    {
     "name": "stderr",
     "output_type": "stream",
     "text": [
      "\rProcessing Videos:   7%|▋         | 782/11980 [17:47<7:04:00,  2.27s/video]"
     ]
    },
    {
     "name": "stdout",
     "output_type": "stream",
     "text": [
      "Saved 69213.mp4 as apple_frames.npy\n"
     ]
    },
    {
     "name": "stderr",
     "output_type": "stream",
     "text": [
      "\rProcessing Videos:   7%|▋         | 783/11980 [17:48<5:45:29,  1.85s/video]"
     ]
    },
    {
     "name": "stdout",
     "output_type": "stream",
     "text": [
      "Saved 66825.mp4 as zero_frames.npy\n"
     ]
    },
    {
     "name": "stderr",
     "output_type": "stream",
     "text": [
      "\rProcessing Videos:   7%|▋         | 784/11980 [17:49<5:12:14,  1.67s/video]"
     ]
    },
    {
     "name": "stdout",
     "output_type": "stream",
     "text": [
      "Saved 66808.mp4 as worm_frames.npy\n"
     ]
    },
    {
     "name": "stderr",
     "output_type": "stream",
     "text": [
      "\rProcessing Videos:   7%|▋         | 785/11980 [17:50<4:39:21,  1.50s/video]"
     ]
    },
    {
     "name": "stdout",
     "output_type": "stream",
     "text": [
      "Saved 66821.mp4 as yesterday_frames.npy\n"
     ]
    },
    {
     "name": "stderr",
     "output_type": "stream",
     "text": [
      "\rProcessing Videos:   7%|▋         | 786/11980 [17:53<6:06:11,  1.96s/video]"
     ]
    },
    {
     "name": "stdout",
     "output_type": "stream",
     "text": [
      "Saved 69216.mp4 as away_frames.npy\n"
     ]
    },
    {
     "name": "stderr",
     "output_type": "stream",
     "text": [
      "\rProcessing Videos:   7%|▋         | 787/11980 [17:56<7:06:55,  2.29s/video]"
     ]
    },
    {
     "name": "stdout",
     "output_type": "stream",
     "text": [
      "Saved 69218.mp4 as back_frames.npy\n"
     ]
    },
    {
     "name": "stderr",
     "output_type": "stream",
     "text": [
      "\rProcessing Videos:   7%|▋         | 788/11980 [17:59<8:00:50,  2.58s/video]"
     ]
    },
    {
     "name": "stdout",
     "output_type": "stream",
     "text": [
      "Saved 69215.mp4 as arm_frames.npy\n"
     ]
    },
    {
     "name": "stderr",
     "output_type": "stream",
     "text": [
      "\rProcessing Videos:   7%|▋         | 789/11980 [18:00<6:25:57,  2.07s/video]"
     ]
    },
    {
     "name": "stdout",
     "output_type": "stream",
     "text": [
      "Saved 66804.mp4 as work_frames.npy\n"
     ]
    },
    {
     "name": "stderr",
     "output_type": "stream",
     "text": [
      "\rProcessing Videos:   7%|▋         | 790/11980 [18:06<9:42:58,  3.13s/video]"
     ]
    },
    {
     "name": "stdout",
     "output_type": "stream",
     "text": [
      "Saved 69212.mp4 as any_frames.npy\n"
     ]
    },
    {
     "name": "stderr",
     "output_type": "stream",
     "text": [
      "\rProcessing Videos:   7%|▋         | 791/11980 [18:07<7:48:54,  2.51s/video]"
     ]
    },
    {
     "name": "stdout",
     "output_type": "stream",
     "text": [
      "Saved 66810.mp4 as worry_frames.npy\n"
     ]
    },
    {
     "name": "stderr",
     "output_type": "stream",
     "text": [
      "\rProcessing Videos:   7%|▋         | 792/11980 [18:08<6:55:08,  2.23s/video]"
     ]
    },
    {
     "name": "stdout",
     "output_type": "stream",
     "text": [
      "Saved 66815.mp4 as write_frames.npy\n"
     ]
    },
    {
     "name": "stderr",
     "output_type": "stream",
     "text": [
      "\rProcessing Videos:   7%|▋         | 793/11980 [18:09<5:50:32,  1.88s/video]"
     ]
    },
    {
     "name": "stdout",
     "output_type": "stream",
     "text": [
      "Saved 66816.mp4 as year_frames.npy\n"
     ]
    },
    {
     "name": "stderr",
     "output_type": "stream",
     "text": [
      "\rProcessing Videos:   7%|▋         | 794/11980 [18:10<4:50:04,  1.56s/video]"
     ]
    },
    {
     "name": "stdout",
     "output_type": "stream",
     "text": [
      "Saved 66819.mp4 as yellow_frames.npy\n"
     ]
    },
    {
     "name": "stderr",
     "output_type": "stream",
     "text": [
      "\rProcessing Videos:   7%|▋         | 795/11980 [18:14<7:08:04,  2.30s/video]"
     ]
    },
    {
     "name": "stdout",
     "output_type": "stream",
     "text": [
      "Saved 69252.mp4 as brown_frames.npy\n"
     ]
    },
    {
     "name": "stderr",
     "output_type": "stream",
     "text": [
      "\rProcessing Videos:   7%|▋         | 796/11980 [18:18<8:31:45,  2.75s/video]"
     ]
    },
    {
     "name": "stdout",
     "output_type": "stream",
     "text": [
      "Saved 69251.mp4 as brother_frames.npy\n"
     ]
    },
    {
     "name": "stderr",
     "output_type": "stream",
     "text": [
      "\rProcessing Videos:   7%|▋         | 797/11980 [18:21<8:56:48,  2.88s/video]"
     ]
    },
    {
     "name": "stdout",
     "output_type": "stream",
     "text": [
      "Saved 69244.mp4 as box_frames.npy\n"
     ]
    },
    {
     "name": "stderr",
     "output_type": "stream",
     "text": [
      "\rProcessing Videos:   7%|▋         | 798/11980 [18:24<9:12:47,  2.97s/video]"
     ]
    },
    {
     "name": "stdout",
     "output_type": "stream",
     "text": [
      "Saved 69243.mp4 as bottle_frames.npy\n"
     ]
    },
    {
     "name": "stderr",
     "output_type": "stream",
     "text": [
      "\rProcessing Videos:   7%|▋         | 799/11980 [18:30<11:32:23,  3.72s/video]"
     ]
    },
    {
     "name": "stdout",
     "output_type": "stream",
     "text": [
      "Saved 69233.mp4 as bird_frames.npy\n"
     ]
    },
    {
     "name": "stderr",
     "output_type": "stream",
     "text": [
      "\rProcessing Videos:   7%|▋         | 800/11980 [18:33<11:06:34,  3.58s/video]"
     ]
    },
    {
     "name": "stdout",
     "output_type": "stream",
     "text": [
      "Saved 69236.mp4 as black_frames.npy\n"
     ]
    },
    {
     "name": "stderr",
     "output_type": "stream",
     "text": [
      "\rProcessing Videos:   7%|▋         | 801/11980 [18:36<10:51:21,  3.50s/video]"
     ]
    },
    {
     "name": "stdout",
     "output_type": "stream",
     "text": [
      "Saved 69230.mp4 as bet_frames.npy\n"
     ]
    },
    {
     "name": "stderr",
     "output_type": "stream",
     "text": [
      "\rProcessing Videos:   7%|▋         | 802/11980 [18:42<12:37:17,  4.06s/video]"
     ]
    },
    {
     "name": "stdout",
     "output_type": "stream",
     "text": [
      "Saved 69226.mp4 as bear_frames.npy\n"
     ]
    },
    {
     "name": "stderr",
     "output_type": "stream",
     "text": [
      "\rProcessing Videos:   7%|▋         | 803/11980 [18:45<11:47:27,  3.80s/video]"
     ]
    },
    {
     "name": "stdout",
     "output_type": "stream",
     "text": [
      "Saved 69239.mp4 as boat_frames.npy\n"
     ]
    },
    {
     "name": "stderr",
     "output_type": "stream",
     "text": [
      "\rProcessing Videos:   7%|▋         | 804/11980 [18:49<11:33:17,  3.72s/video]"
     ]
    },
    {
     "name": "stdout",
     "output_type": "stream",
     "text": [
      "Saved 69256.mp4 as cake_frames.npy\n"
     ]
    },
    {
     "name": "stderr",
     "output_type": "stream",
     "text": [
      "\rProcessing Videos:   7%|▋         | 805/11980 [18:54<13:15:10,  4.27s/video]"
     ]
    },
    {
     "name": "stdout",
     "output_type": "stream",
     "text": [
      "Saved 69255.mp4 as buy_frames.npy\n"
     ]
    },
    {
     "name": "stderr",
     "output_type": "stream",
     "text": [
      "\rProcessing Videos:   7%|▋         | 806/11980 [18:57<12:27:51,  4.02s/video]"
     ]
    },
    {
     "name": "stdout",
     "output_type": "stream",
     "text": [
      "Saved 69221.mp4 as ball_frames.npy\n"
     ]
    },
    {
     "name": "stderr",
     "output_type": "stream",
     "text": [
      "\rProcessing Videos:   7%|▋         | 807/11980 [19:01<12:01:33,  3.87s/video]"
     ]
    },
    {
     "name": "stdout",
     "output_type": "stream",
     "text": [
      "Saved 69240.mp4 as body_frames.npy\n"
     ]
    },
    {
     "name": "stderr",
     "output_type": "stream",
     "text": [
      "\rProcessing Videos:   7%|▋         | 808/11980 [19:06<13:17:26,  4.28s/video]"
     ]
    },
    {
     "name": "stdout",
     "output_type": "stream",
     "text": [
      "Saved 69225.mp4 as basketball_frames.npy\n"
     ]
    },
    {
     "name": "stderr",
     "output_type": "stream",
     "text": [
      "\rProcessing Videos:   7%|▋         | 809/11980 [19:09<12:16:59,  3.96s/video]"
     ]
    },
    {
     "name": "stdout",
     "output_type": "stream",
     "text": [
      "Saved 69241.mp4 as book_frames.npy\n"
     ]
    },
    {
     "name": "stderr",
     "output_type": "stream",
     "text": [
      "\rProcessing Videos:   7%|▋         | 810/11980 [19:13<11:43:09,  3.78s/video]"
     ]
    },
    {
     "name": "stdout",
     "output_type": "stream",
     "text": [
      "Saved 69238.mp4 as blue_frames.npy\n"
     ]
    },
    {
     "name": "stderr",
     "output_type": "stream",
     "text": [
      "\rProcessing Videos:   7%|▋         | 811/11980 [19:16<11:25:21,  3.68s/video]"
     ]
    },
    {
     "name": "stdout",
     "output_type": "stream",
     "text": [
      "Saved 69250.mp4 as bring_frames.npy\n"
     ]
    },
    {
     "name": "stderr",
     "output_type": "stream",
     "text": [
      "\rProcessing Videos:   7%|▋         | 812/11980 [19:20<11:14:51,  3.63s/video]"
     ]
    },
    {
     "name": "stdout",
     "output_type": "stream",
     "text": [
      "Saved 69242.mp4 as both_frames.npy\n"
     ]
    },
    {
     "name": "stderr",
     "output_type": "stream",
     "text": [
      "\rProcessing Videos:   7%|▋         | 813/11980 [19:23<11:03:45,  3.57s/video]"
     ]
    },
    {
     "name": "stdout",
     "output_type": "stream",
     "text": [
      "Saved 69231.mp4 as big_frames.npy\n"
     ]
    },
    {
     "name": "stderr",
     "output_type": "stream",
     "text": [
      "\rProcessing Videos:   7%|▋         | 814/11980 [19:27<10:52:41,  3.51s/video]"
     ]
    },
    {
     "name": "stdout",
     "output_type": "stream",
     "text": [
      "Saved 69245.mp4 as boy_frames.npy\n"
     ]
    },
    {
     "name": "stderr",
     "output_type": "stream",
     "text": [
      "\rProcessing Videos:   7%|▋         | 815/11980 [19:29<9:31:52,  3.07s/video] "
     ]
    },
    {
     "name": "stdout",
     "output_type": "stream",
     "text": [
      "Saved 69274.mp4 as color_frames.npy\n"
     ]
    },
    {
     "name": "stderr",
     "output_type": "stream",
     "text": [
      "\rProcessing Videos:   7%|▋         | 816/11980 [19:34<11:51:58,  3.83s/video]"
     ]
    },
    {
     "name": "stdout",
     "output_type": "stream",
     "text": [
      "Saved 69269.mp4 as city_frames.npy\n"
     ]
    },
    {
     "name": "stderr",
     "output_type": "stream",
     "text": [
      "\rProcessing Videos:   7%|▋         | 817/11980 [19:37<11:18:33,  3.65s/video]"
     ]
    },
    {
     "name": "stdout",
     "output_type": "stream",
     "text": [
      "Saved 69270.mp4 as class_frames.npy\n"
     ]
    },
    {
     "name": "stderr",
     "output_type": "stream",
     "text": [
      "\rProcessing Videos:   7%|▋         | 818/11980 [19:41<10:49:08,  3.49s/video]"
     ]
    },
    {
     "name": "stdout",
     "output_type": "stream",
     "text": [
      "Saved 69284.mp4 as crash_frames.npy\n"
     ]
    },
    {
     "name": "stderr",
     "output_type": "stream",
     "text": [
      "\rProcessing Videos:   7%|▋         | 819/11980 [19:44<10:37:00,  3.42s/video]"
     ]
    },
    {
     "name": "stdout",
     "output_type": "stream",
     "text": [
      "Saved 69261.mp4 as cat_frames.npy\n"
     ]
    },
    {
     "name": "stderr",
     "output_type": "stream",
     "text": [
      "\rProcessing Videos:   7%|▋         | 820/11980 [19:47<10:35:23,  3.42s/video]"
     ]
    },
    {
     "name": "stdout",
     "output_type": "stream",
     "text": [
      "Saved 69259.mp4 as carrot_frames.npy\n"
     ]
    },
    {
     "name": "stderr",
     "output_type": "stream",
     "text": [
      "\rProcessing Videos:   7%|▋         | 821/11980 [19:51<10:27:49,  3.38s/video]"
     ]
    },
    {
     "name": "stdout",
     "output_type": "stream",
     "text": [
      "Saved 69276.mp4 as common_frames.npy\n"
     ]
    },
    {
     "name": "stderr",
     "output_type": "stream",
     "text": [
      "\rProcessing Videos:   7%|▋         | 822/11980 [19:54<10:38:48,  3.44s/video]"
     ]
    },
    {
     "name": "stdout",
     "output_type": "stream",
     "text": [
      "Saved 69289.mp4 as dad_frames.npy\n"
     ]
    },
    {
     "name": "stderr",
     "output_type": "stream",
     "text": [
      "\rProcessing Videos:   7%|▋         | 823/11980 [19:57<10:33:09,  3.40s/video]"
     ]
    },
    {
     "name": "stdout",
     "output_type": "stream",
     "text": [
      "Saved 69271.mp4 as coat_frames.npy\n"
     ]
    },
    {
     "name": "stderr",
     "output_type": "stream",
     "text": [
      "\rProcessing Videos:   7%|▋         | 824/11980 [20:00<10:12:27,  3.29s/video]"
     ]
    },
    {
     "name": "stdout",
     "output_type": "stream",
     "text": [
      "Saved 69282.mp4 as corn_frames.npy\n"
     ]
    },
    {
     "name": "stderr",
     "output_type": "stream",
     "text": [
      "\rProcessing Videos:   7%|▋         | 825/11980 [20:03<9:53:35,  3.19s/video] "
     ]
    },
    {
     "name": "stdout",
     "output_type": "stream",
     "text": [
      "Saved 69290.mp4 as dark_frames.npy\n"
     ]
    },
    {
     "name": "stderr",
     "output_type": "stream",
     "text": [
      "\rProcessing Videos:   7%|▋         | 826/11980 [20:07<9:51:36,  3.18s/video]"
     ]
    },
    {
     "name": "stdout",
     "output_type": "stream",
     "text": [
      "Saved 69291.mp4 as day_frames.npy\n"
     ]
    },
    {
     "name": "stderr",
     "output_type": "stream",
     "text": [
      "\rProcessing Videos:   7%|▋         | 827/11980 [20:10<9:53:42,  3.19s/video]"
     ]
    },
    {
     "name": "stdout",
     "output_type": "stream",
     "text": [
      "Saved 69275.mp4 as come_frames.npy\n"
     ]
    },
    {
     "name": "stderr",
     "output_type": "stream",
     "text": [
      "\rProcessing Videos:   7%|▋         | 828/11980 [20:13<10:08:25,  3.27s/video]"
     ]
    },
    {
     "name": "stdout",
     "output_type": "stream",
     "text": [
      "Saved 69262.mp4 as catch_frames.npy\n"
     ]
    },
    {
     "name": "stderr",
     "output_type": "stream",
     "text": [
      "\rProcessing Videos:   7%|▋         | 829/11980 [20:16<9:46:21,  3.15s/video] "
     ]
    },
    {
     "name": "stdout",
     "output_type": "stream",
     "text": [
      "Saved 69257.mp4 as can_frames.npy\n"
     ]
    },
    {
     "name": "stderr",
     "output_type": "stream",
     "text": [
      "\rProcessing Videos:   7%|▋         | 830/11980 [20:20<10:08:09,  3.27s/video]"
     ]
    },
    {
     "name": "stdout",
     "output_type": "stream",
     "text": [
      "Saved 69280.mp4 as cookie_frames.npy\n"
     ]
    },
    {
     "name": "stderr",
     "output_type": "stream",
     "text": [
      "\rProcessing Videos:   7%|▋         | 831/11980 [20:21<8:44:36,  2.82s/video] "
     ]
    },
    {
     "name": "stdout",
     "output_type": "stream",
     "text": [
      "Saved 69281.mp4 as cool_frames.npy\n"
     ]
    },
    {
     "name": "stderr",
     "output_type": "stream",
     "text": [
      "\rProcessing Videos:   7%|▋         | 832/11980 [20:25<9:19:50,  3.01s/video]"
     ]
    },
    {
     "name": "stdout",
     "output_type": "stream",
     "text": [
      "Saved 69258.mp4 as car_frames.npy\n"
     ]
    },
    {
     "name": "stderr",
     "output_type": "stream",
     "text": [
      "\rProcessing Videos:   7%|▋         | 833/11980 [20:28<9:38:15,  3.11s/video]"
     ]
    },
    {
     "name": "stdout",
     "output_type": "stream",
     "text": [
      "Saved 69286.mp4 as crush_frames.npy\n"
     ]
    },
    {
     "name": "stderr",
     "output_type": "stream",
     "text": [
      "\rProcessing Videos:   7%|▋         | 834/11980 [20:30<8:36:04,  2.78s/video]"
     ]
    },
    {
     "name": "stdout",
     "output_type": "stream",
     "text": [
      "Saved 69292.mp4 as deer_frames.npy\n"
     ]
    },
    {
     "name": "stderr",
     "output_type": "stream",
     "text": [
      "\rProcessing Videos:   7%|▋         | 835/11980 [20:34<9:07:37,  2.95s/video]"
     ]
    },
    {
     "name": "stdout",
     "output_type": "stream",
     "text": [
      "Saved 69264.mp4 as cereal_frames.npy\n"
     ]
    },
    {
     "name": "stderr",
     "output_type": "stream",
     "text": [
      "\rProcessing Videos:   7%|▋         | 836/11980 [20:37<9:41:53,  3.13s/video]"
     ]
    },
    {
     "name": "stdout",
     "output_type": "stream",
     "text": [
      "Saved 69283.mp4 as cow_frames.npy\n"
     ]
    },
    {
     "name": "stderr",
     "output_type": "stream",
     "text": [
      "\rProcessing Videos:   7%|▋         | 837/11980 [20:41<10:04:07,  3.25s/video]"
     ]
    },
    {
     "name": "stdout",
     "output_type": "stream",
     "text": [
      "Saved 69266.mp4 as chapter_frames.npy\n"
     ]
    },
    {
     "name": "stderr",
     "output_type": "stream",
     "text": [
      "\rProcessing Videos:   7%|▋         | 838/11980 [20:44<10:14:15,  3.31s/video]"
     ]
    },
    {
     "name": "stdout",
     "output_type": "stream",
     "text": [
      "Saved 69260.mp4 as carry_frames.npy\n"
     ]
    },
    {
     "name": "stderr",
     "output_type": "stream",
     "text": [
      "\rProcessing Videos:   7%|▋         | 839/11980 [20:47<9:52:04,  3.19s/video] "
     ]
    },
    {
     "name": "stdout",
     "output_type": "stream",
     "text": [
      "Saved 69325.mp4 as fish_frames.npy\n"
     ]
    },
    {
     "name": "stderr",
     "output_type": "stream",
     "text": [
      "\rProcessing Videos:   7%|▋         | 840/11980 [20:50<9:43:25,  3.14s/video]"
     ]
    },
    {
     "name": "stdout",
     "output_type": "stream",
     "text": [
      "Saved 69304.mp4 as dry_frames.npy\n"
     ]
    },
    {
     "name": "stderr",
     "output_type": "stream",
     "text": [
      "\rProcessing Videos:   7%|▋         | 841/11980 [20:53<9:13:06,  2.98s/video]"
     ]
    },
    {
     "name": "stdout",
     "output_type": "stream",
     "text": [
      "Saved 69314.mp4 as eye_frames.npy\n"
     ]
    },
    {
     "name": "stderr",
     "output_type": "stream",
     "text": [
      "\rProcessing Videos:   7%|▋         | 842/11980 [20:56<9:11:36,  2.97s/video]"
     ]
    },
    {
     "name": "stdout",
     "output_type": "stream",
     "text": [
      "Saved 69299.mp4 as doll_frames.npy\n"
     ]
    },
    {
     "name": "stderr",
     "output_type": "stream",
     "text": [
      "\rProcessing Videos:   7%|▋         | 843/11980 [20:58<8:23:13,  2.71s/video]"
     ]
    },
    {
     "name": "stdout",
     "output_type": "stream",
     "text": [
      "Saved 69318.mp4 as father_frames.npy\n"
     ]
    },
    {
     "name": "stderr",
     "output_type": "stream",
     "text": [
      "\rProcessing Videos:   7%|▋         | 844/11980 [21:01<8:43:27,  2.82s/video]"
     ]
    },
    {
     "name": "stdout",
     "output_type": "stream",
     "text": [
      "Saved 69315.mp4 as fact_frames.npy\n"
     ]
    },
    {
     "name": "stderr",
     "output_type": "stream",
     "text": [
      "\rProcessing Videos:   7%|▋         | 845/11980 [21:04<9:18:59,  3.01s/video]"
     ]
    },
    {
     "name": "stdout",
     "output_type": "stream",
     "text": [
      "Saved 69294.mp4 as describe_frames.npy\n"
     ]
    },
    {
     "name": "stderr",
     "output_type": "stream",
     "text": [
      "\rProcessing Videos:   7%|▋         | 846/11980 [21:10<11:35:11,  3.75s/video]"
     ]
    },
    {
     "name": "stdout",
     "output_type": "stream",
     "text": [
      "Saved 69302.mp4 as drink_frames.npy\n"
     ]
    },
    {
     "name": "stderr",
     "output_type": "stream",
     "text": [
      "\rProcessing Videos:   7%|▋         | 847/11980 [21:12<9:57:48,  3.22s/video] "
     ]
    },
    {
     "name": "stdout",
     "output_type": "stream",
     "text": [
      "Saved 69317.mp4 as farm_frames.npy\n"
     ]
    },
    {
     "name": "stderr",
     "output_type": "stream",
     "text": [
      "\rProcessing Videos:   7%|▋         | 848/11980 [21:15<10:04:48,  3.26s/video]"
     ]
    },
    {
     "name": "stdout",
     "output_type": "stream",
     "text": [
      "Saved 69319.mp4 as feel_frames.npy\n"
     ]
    },
    {
     "name": "stderr",
     "output_type": "stream",
     "text": [
      "\rProcessing Videos:   7%|▋         | 849/11980 [21:21<12:18:03,  3.98s/video]"
     ]
    },
    {
     "name": "stdout",
     "output_type": "stream",
     "text": [
      "Saved 69311.mp4 as every_frames.npy\n"
     ]
    },
    {
     "name": "stderr",
     "output_type": "stream",
     "text": [
      "\rProcessing Videos:   7%|▋         | 850/11980 [21:24<11:20:32,  3.67s/video]"
     ]
    },
    {
     "name": "stdout",
     "output_type": "stream",
     "text": [
      "Saved 69326.mp4 as five_frames.npy\n"
     ]
    },
    {
     "name": "stderr",
     "output_type": "stream",
     "text": [
      "\rProcessing Videos:   7%|▋         | 851/11980 [21:29<12:53:16,  4.17s/video]"
     ]
    },
    {
     "name": "stdout",
     "output_type": "stream",
     "text": [
      "Saved 69323.mp4 as find_frames.npy\n"
     ]
    },
    {
     "name": "stderr",
     "output_type": "stream",
     "text": [
      "\rProcessing Videos:   7%|▋         | 852/11980 [21:32<11:53:56,  3.85s/video]"
     ]
    },
    {
     "name": "stdout",
     "output_type": "stream",
     "text": [
      "Saved 69298.mp4 as dog_frames.npy\n"
     ]
    },
    {
     "name": "stderr",
     "output_type": "stream",
     "text": [
      "\rProcessing Videos:   7%|▋         | 853/11980 [21:35<11:06:16,  3.59s/video]"
     ]
    },
    {
     "name": "stdout",
     "output_type": "stream",
     "text": [
      "Saved 69301.mp4 as down_frames.npy\n"
     ]
    },
    {
     "name": "stderr",
     "output_type": "stream",
     "text": [
      "\rProcessing Videos:   7%|▋         | 854/11980 [21:39<11:10:35,  3.62s/video]"
     ]
    },
    {
     "name": "stdout",
     "output_type": "stream",
     "text": [
      "Saved 69316.mp4 as family_frames.npy\n"
     ]
    },
    {
     "name": "stderr",
     "output_type": "stream",
     "text": [
      "\rProcessing Videos:   7%|▋         | 855/11980 [21:42<10:43:29,  3.47s/video]"
     ]
    },
    {
     "name": "stdout",
     "output_type": "stream",
     "text": [
      "Saved 69309.mp4 as eight_frames.npy\n"
     ]
    },
    {
     "name": "stderr",
     "output_type": "stream",
     "text": [
      "\rProcessing Videos:   7%|▋         | 856/11980 [21:45<10:29:56,  3.40s/video]"
     ]
    },
    {
     "name": "stdout",
     "output_type": "stream",
     "text": [
      "Saved 69305.mp4 as duck_frames.npy\n"
     ]
    },
    {
     "name": "stderr",
     "output_type": "stream",
     "text": [
      "\rProcessing Videos:   7%|▋         | 857/11980 [21:47<9:31:47,  3.08s/video] "
     ]
    },
    {
     "name": "stdout",
     "output_type": "stream",
     "text": [
      "Saved 69296.mp4 as dirty_frames.npy\n"
     ]
    },
    {
     "name": "stderr",
     "output_type": "stream",
     "text": [
      "\rProcessing Videos:   7%|▋         | 858/11980 [21:51<9:41:44,  3.14s/video]"
     ]
    },
    {
     "name": "stdout",
     "output_type": "stream",
     "text": [
      "Saved 69303.mp4 as drum_frames.npy\n"
     ]
    },
    {
     "name": "stderr",
     "output_type": "stream",
     "text": [
      "\rProcessing Videos:   7%|▋         | 859/11980 [21:54<9:54:58,  3.21s/video]"
     ]
    },
    {
     "name": "stdout",
     "output_type": "stream",
     "text": [
      "Saved 69306.mp4 as ear_frames.npy\n"
     ]
    },
    {
     "name": "stderr",
     "output_type": "stream",
     "text": [
      "\rProcessing Videos:   7%|▋         | 860/11980 [21:57<9:44:59,  3.16s/video]"
     ]
    },
    {
     "name": "stdout",
     "output_type": "stream",
     "text": [
      "Saved 69307.mp4 as eat_frames.npy\n"
     ]
    },
    {
     "name": "stderr",
     "output_type": "stream",
     "text": [
      "\rProcessing Videos:   7%|▋         | 861/11980 [22:00<9:45:04,  3.16s/video]"
     ]
    },
    {
     "name": "stdout",
     "output_type": "stream",
     "text": [
      "Saved 69300.mp4 as done_frames.npy\n"
     ]
    },
    {
     "name": "stderr",
     "output_type": "stream",
     "text": [
      "\rProcessing Videos:   7%|▋         | 862/11980 [22:04<9:46:52,  3.17s/video]"
     ]
    },
    {
     "name": "stdout",
     "output_type": "stream",
     "text": [
      "Saved 69360.mp4 as have_frames.npy\n"
     ]
    },
    {
     "name": "stderr",
     "output_type": "stream",
     "text": [
      "\rProcessing Videos:   7%|▋         | 863/11980 [22:06<9:33:14,  3.09s/video]"
     ]
    },
    {
     "name": "stdout",
     "output_type": "stream",
     "text": [
      "Saved 69368.mp4 as hot_frames.npy\n"
     ]
    },
    {
     "name": "stderr",
     "output_type": "stream",
     "text": [
      "\rProcessing Videos:   7%|▋         | 864/11980 [22:12<11:42:05,  3.79s/video]"
     ]
    },
    {
     "name": "stdout",
     "output_type": "stream",
     "text": [
      "Saved 69364.mp4 as help_frames.npy\n"
     ]
    },
    {
     "name": "stderr",
     "output_type": "stream",
     "text": [
      "\rProcessing Videos:   7%|▋         | 865/11980 [22:17<13:08:30,  4.26s/video]"
     ]
    },
    {
     "name": "stdout",
     "output_type": "stream",
     "text": [
      "Saved 69358.mp4 as hard_frames.npy\n"
     ]
    },
    {
     "name": "stderr",
     "output_type": "stream",
     "text": [
      "\rProcessing Videos:   7%|▋         | 866/11980 [22:20<11:51:38,  3.84s/video]"
     ]
    },
    {
     "name": "stdout",
     "output_type": "stream",
     "text": [
      "Saved 69362.mp4 as head_frames.npy\n"
     ]
    },
    {
     "name": "stderr",
     "output_type": "stream",
     "text": [
      "\rProcessing Videos:   7%|▋         | 867/11980 [22:23<10:36:33,  3.44s/video]"
     ]
    },
    {
     "name": "stdout",
     "output_type": "stream",
     "text": [
      "Saved 69359.mp4 as hat_frames.npy\n"
     ]
    },
    {
     "name": "stderr",
     "output_type": "stream",
     "text": [
      "\rProcessing Videos:   7%|▋         | 868/11980 [22:26<10:20:03,  3.35s/video]"
     ]
    },
    {
     "name": "stdout",
     "output_type": "stream",
     "text": [
      "Saved 69345.mp4 as go_frames.npy\n"
     ]
    },
    {
     "name": "stderr",
     "output_type": "stream",
     "text": [
      "\rProcessing Videos:   7%|▋         | 869/11980 [22:29<10:18:16,  3.34s/video]"
     ]
    },
    {
     "name": "stdout",
     "output_type": "stream",
     "text": [
      "Saved 69338.mp4 as fun_frames.npy\n"
     ]
    },
    {
     "name": "stderr",
     "output_type": "stream",
     "text": [
      "\rProcessing Videos:   7%|▋         | 870/11980 [22:32<10:07:15,  3.28s/video]"
     ]
    },
    {
     "name": "stdout",
     "output_type": "stream",
     "text": [
      "Saved 69330.mp4 as food_frames.npy\n"
     ]
    },
    {
     "name": "stderr",
     "output_type": "stream",
     "text": [
      "\rProcessing Videos:   7%|▋         | 871/11980 [22:35<10:00:41,  3.24s/video]"
     ]
    },
    {
     "name": "stdout",
     "output_type": "stream",
     "text": [
      "Saved 69333.mp4 as four_frames.npy\n"
     ]
    },
    {
     "name": "stderr",
     "output_type": "stream",
     "text": [
      "\rProcessing Videos:   7%|▋         | 872/11980 [22:38<9:50:57,  3.19s/video] "
     ]
    },
    {
     "name": "stdout",
     "output_type": "stream",
     "text": [
      "Saved 69337.mp4 as from_frames.npy\n"
     ]
    },
    {
     "name": "stderr",
     "output_type": "stream",
     "text": [
      "\rProcessing Videos:   7%|▋         | 873/11980 [22:42<10:07:24,  3.28s/video]"
     ]
    },
    {
     "name": "stdout",
     "output_type": "stream",
     "text": [
      "Saved 69354.mp4 as grow_frames.npy\n"
     ]
    },
    {
     "name": "stderr",
     "output_type": "stream",
     "text": [
      "\rProcessing Videos:   7%|▋         | 874/11980 [22:45<9:30:32,  3.08s/video] "
     ]
    },
    {
     "name": "stdout",
     "output_type": "stream",
     "text": [
      "Saved 69347.mp4 as good_frames.npy\n"
     ]
    },
    {
     "name": "stderr",
     "output_type": "stream",
     "text": [
      "\rProcessing Videos:   7%|▋         | 875/11980 [22:48<9:39:15,  3.13s/video]"
     ]
    },
    {
     "name": "stdout",
     "output_type": "stream",
     "text": [
      "Saved 69343.mp4 as give_frames.npy\n"
     ]
    },
    {
     "name": "stderr",
     "output_type": "stream",
     "text": [
      "\rProcessing Videos:   7%|▋         | 876/11980 [22:51<9:54:18,  3.21s/video]"
     ]
    },
    {
     "name": "stdout",
     "output_type": "stream",
     "text": [
      "Saved 69327.mp4 as fix_frames.npy\n"
     ]
    },
    {
     "name": "stderr",
     "output_type": "stream",
     "text": [
      "\rProcessing Videos:   7%|▋         | 877/11980 [22:54<9:42:48,  3.15s/video]"
     ]
    },
    {
     "name": "stdout",
     "output_type": "stream",
     "text": [
      "Saved 69341.mp4 as get_frames.npy\n"
     ]
    },
    {
     "name": "stderr",
     "output_type": "stream",
     "text": [
      "\rProcessing Videos:   7%|▋         | 878/11980 [22:57<9:51:59,  3.20s/video]"
     ]
    },
    {
     "name": "stdout",
     "output_type": "stream",
     "text": [
      "Saved 69342.mp4 as girl_frames.npy\n"
     ]
    },
    {
     "name": "stderr",
     "output_type": "stream",
     "text": [
      "\rProcessing Videos:   7%|▋         | 879/11980 [23:01<10:11:39,  3.31s/video]"
     ]
    },
    {
     "name": "stdout",
     "output_type": "stream",
     "text": [
      "Saved 69352.mp4 as great_frames.npy\n"
     ]
    },
    {
     "name": "stderr",
     "output_type": "stream",
     "text": [
      "\rProcessing Videos:   7%|▋         | 880/11980 [23:04<10:14:58,  3.32s/video]"
     ]
    },
    {
     "name": "stdout",
     "output_type": "stream",
     "text": [
      "Saved 69331.mp4 as football_frames.npy\n"
     ]
    },
    {
     "name": "stderr",
     "output_type": "stream",
     "text": [
      "\rProcessing Videos:   7%|▋         | 881/11980 [23:07<9:52:48,  3.20s/video] "
     ]
    },
    {
     "name": "stdout",
     "output_type": "stream",
     "text": [
      "Saved 69365.mp4 as here_frames.npy\n"
     ]
    },
    {
     "name": "stderr",
     "output_type": "stream",
     "text": [
      "\rProcessing Videos:   7%|▋         | 882/11980 [23:10<9:50:50,  3.19s/video]"
     ]
    },
    {
     "name": "stdout",
     "output_type": "stream",
     "text": [
      "Saved 69344.mp4 as glass_frames.npy\n"
     ]
    },
    {
     "name": "stderr",
     "output_type": "stream",
     "text": [
      "\rProcessing Videos:   7%|▋         | 883/11980 [23:12<8:43:30,  2.83s/video]"
     ]
    },
    {
     "name": "stdout",
     "output_type": "stream",
     "text": [
      "Saved 69349.mp4 as grandma_frames.npy\n"
     ]
    },
    {
     "name": "stderr",
     "output_type": "stream",
     "text": [
      "\rProcessing Videos:   7%|▋         | 884/11980 [23:16<9:06:27,  2.95s/video]"
     ]
    },
    {
     "name": "stdout",
     "output_type": "stream",
     "text": [
      "Saved 69366.mp4 as home_frames.npy\n"
     ]
    },
    {
     "name": "stderr",
     "output_type": "stream",
     "text": [
      "\rProcessing Videos:   7%|▋         | 885/11980 [23:19<9:45:36,  3.17s/video]"
     ]
    },
    {
     "name": "stdout",
     "output_type": "stream",
     "text": [
      "Saved 69353.mp4 as green_frames.npy\n"
     ]
    },
    {
     "name": "stderr",
     "output_type": "stream",
     "text": [
      "\rProcessing Videos:   7%|▋         | 886/11980 [23:23<9:49:45,  3.19s/video]"
     ]
    },
    {
     "name": "stdout",
     "output_type": "stream",
     "text": [
      "Saved 69387.mp4 as lift_frames.npy\n"
     ]
    },
    {
     "name": "stderr",
     "output_type": "stream",
     "text": [
      "\rProcessing Videos:   7%|▋         | 887/11980 [23:26<10:16:22,  3.33s/video]"
     ]
    },
    {
     "name": "stdout",
     "output_type": "stream",
     "text": [
      "Saved 69380.mp4 as jump_frames.npy\n"
     ]
    },
    {
     "name": "stderr",
     "output_type": "stream",
     "text": [
      "\rProcessing Videos:   7%|▋         | 888/11980 [23:30<10:16:30,  3.33s/video]"
     ]
    },
    {
     "name": "stdout",
     "output_type": "stream",
     "text": [
      "Saved 69376.mp4 as important_frames.npy\n"
     ]
    },
    {
     "name": "stderr",
     "output_type": "stream",
     "text": [
      "\rProcessing Videos:   7%|▋         | 889/11980 [23:32<9:50:24,  3.19s/video] "
     ]
    },
    {
     "name": "stdout",
     "output_type": "stream",
     "text": [
      "Saved 69389.mp4 as like_frames.npy\n"
     ]
    },
    {
     "name": "stderr",
     "output_type": "stream",
     "text": [
      "\rProcessing Videos:   7%|▋         | 890/11980 [23:34<8:42:54,  2.83s/video]"
     ]
    },
    {
     "name": "stdout",
     "output_type": "stream",
     "text": [
      "Saved 69388.mp4 as lightning_frames.npy\n"
     ]
    },
    {
     "name": "stderr",
     "output_type": "stream",
     "text": [
      "\rProcessing Videos:   7%|▋         | 891/11980 [23:38<9:16:14,  3.01s/video]"
     ]
    },
    {
     "name": "stdout",
     "output_type": "stream",
     "text": [
      "Saved 69396.mp4 as many_frames.npy\n"
     ]
    },
    {
     "name": "stderr",
     "output_type": "stream",
     "text": [
      "\rProcessing Videos:   7%|▋         | 892/11980 [23:41<9:42:23,  3.15s/video]"
     ]
    },
    {
     "name": "stdout",
     "output_type": "stream",
     "text": [
      "Saved 69404.mp4 as my_frames.npy\n"
     ]
    },
    {
     "name": "stderr",
     "output_type": "stream",
     "text": [
      "\rProcessing Videos:   7%|▋         | 893/11980 [23:45<10:17:07,  3.34s/video]"
     ]
    },
    {
     "name": "stdout",
     "output_type": "stream",
     "text": [
      "Saved 69390.mp4 as line_frames.npy\n"
     ]
    },
    {
     "name": "stderr",
     "output_type": "stream",
     "text": [
      "\rProcessing Videos:   7%|▋         | 894/11980 [23:48<10:14:15,  3.32s/video]"
     ]
    },
    {
     "name": "stdout",
     "output_type": "stream",
     "text": [
      "Saved 69401.mp4 as more_frames.npy\n"
     ]
    },
    {
     "name": "stderr",
     "output_type": "stream",
     "text": [
      "\rProcessing Videos:   7%|▋         | 895/11980 [23:52<10:27:20,  3.40s/video]"
     ]
    },
    {
     "name": "stdout",
     "output_type": "stream",
     "text": [
      "Saved 69370.mp4 as how_frames.npy\n"
     ]
    },
    {
     "name": "stderr",
     "output_type": "stream",
     "text": [
      "\rProcessing Videos:   7%|▋         | 896/11980 [23:55<10:14:16,  3.33s/video]"
     ]
    },
    {
     "name": "stdout",
     "output_type": "stream",
     "text": [
      "Saved 69399.mp4 as mom_frames.npy\n"
     ]
    },
    {
     "name": "stderr",
     "output_type": "stream",
     "text": [
      "\rProcessing Videos:   7%|▋         | 897/11980 [23:57<9:05:23,  2.95s/video] "
     ]
    },
    {
     "name": "stdout",
     "output_type": "stream",
     "text": [
      "Saved 69384.mp4 as leaf_frames.npy\n"
     ]
    },
    {
     "name": "stderr",
     "output_type": "stream",
     "text": [
      "\rProcessing Videos:   7%|▋         | 898/11980 [24:00<9:17:46,  3.02s/video]"
     ]
    },
    {
     "name": "stdout",
     "output_type": "stream",
     "text": [
      "Saved 69386.mp4 as less_frames.npy\n"
     ]
    },
    {
     "name": "stderr",
     "output_type": "stream",
     "text": [
      "\rProcessing Videos:   8%|▊         | 899/11980 [24:04<9:43:45,  3.16s/video]"
     ]
    },
    {
     "name": "stdout",
     "output_type": "stream",
     "text": [
      "Saved 69395.mp4 as man_frames.npy\n"
     ]
    },
    {
     "name": "stderr",
     "output_type": "stream",
     "text": [
      "\rProcessing Videos:   8%|▊         | 900/11980 [24:06<8:24:14,  2.73s/video]"
     ]
    },
    {
     "name": "stdout",
     "output_type": "stream",
     "text": [
      "Saved 69402.mp4 as mother_frames.npy\n"
     ]
    },
    {
     "name": "stderr",
     "output_type": "stream",
     "text": [
      "\rProcessing Videos:   8%|▊         | 901/11980 [24:09<8:50:55,  2.88s/video]"
     ]
    },
    {
     "name": "stdout",
     "output_type": "stream",
     "text": [
      "Saved 69377.mp4 as in_frames.npy\n"
     ]
    },
    {
     "name": "stderr",
     "output_type": "stream",
     "text": [
      "\rProcessing Videos:   8%|▊         | 902/11980 [24:12<9:12:55,  2.99s/video]"
     ]
    },
    {
     "name": "stdout",
     "output_type": "stream",
     "text": [
      "Saved 69369.mp4 as house_frames.npy\n"
     ]
    },
    {
     "name": "stderr",
     "output_type": "stream",
     "text": [
      "\rProcessing Videos:   8%|▊         | 903/11980 [24:15<9:25:24,  3.06s/video]"
     ]
    },
    {
     "name": "stdout",
     "output_type": "stream",
     "text": [
      "Saved 69405.mp4 as name_frames.npy\n"
     ]
    },
    {
     "name": "stderr",
     "output_type": "stream",
     "text": [
      "\rProcessing Videos:   8%|▊         | 904/11980 [24:21<11:22:16,  3.70s/video]"
     ]
    },
    {
     "name": "stdout",
     "output_type": "stream",
     "text": [
      "Saved 69382.mp4 as land_frames.npy\n"
     ]
    },
    {
     "name": "stderr",
     "output_type": "stream",
     "text": [
      "\rProcessing Videos:   8%|▊         | 905/11980 [24:26<12:35:49,  4.09s/video]"
     ]
    },
    {
     "name": "stdout",
     "output_type": "stream",
     "text": [
      "Saved 69397.mp4 as maybe_frames.npy\n"
     ]
    },
    {
     "name": "stderr",
     "output_type": "stream",
     "text": [
      "\rProcessing Videos:   8%|▊         | 906/11980 [24:31<13:59:49,  4.55s/video]"
     ]
    },
    {
     "name": "stdout",
     "output_type": "stream",
     "text": [
      "Saved 69375.mp4 as if_frames.npy\n"
     ]
    },
    {
     "name": "stderr",
     "output_type": "stream",
     "text": [
      "\rProcessing Videos:   8%|▊         | 907/11980 [24:34<12:46:26,  4.15s/video]"
     ]
    },
    {
     "name": "stdout",
     "output_type": "stream",
     "text": [
      "Saved 69403.mp4 as motor_frames.npy\n"
     ]
    },
    {
     "name": "stderr",
     "output_type": "stream",
     "text": [
      "\rProcessing Videos:   8%|▊         | 908/11980 [24:37<11:42:26,  3.81s/video]"
     ]
    },
    {
     "name": "stdout",
     "output_type": "stream",
     "text": [
      "Saved 69411.mp4 as no_frames.npy\n"
     ]
    },
    {
     "name": "stderr",
     "output_type": "stream",
     "text": [
      "\rProcessing Videos:   8%|▊         | 909/11980 [24:41<11:26:13,  3.72s/video]"
     ]
    },
    {
     "name": "stdout",
     "output_type": "stream",
     "text": [
      "Saved 69432.mp4 as place_frames.npy\n"
     ]
    },
    {
     "name": "stderr",
     "output_type": "stream",
     "text": [
      "\rProcessing Videos:   8%|▊         | 910/11980 [24:44<10:57:30,  3.56s/video]"
     ]
    },
    {
     "name": "stdout",
     "output_type": "stream",
     "text": [
      "Saved 69420.mp4 as on_frames.npy\n"
     ]
    },
    {
     "name": "stderr",
     "output_type": "stream",
     "text": [
      "\rProcessing Videos:   8%|▊         | 911/11980 [24:47<10:43:38,  3.49s/video]"
     ]
    },
    {
     "name": "stdout",
     "output_type": "stream",
     "text": [
      "Saved 69416.mp4 as ocean_frames.npy\n"
     ]
    },
    {
     "name": "stderr",
     "output_type": "stream",
     "text": [
      "\rProcessing Videos:   8%|▊         | 912/11980 [24:50<10:19:29,  3.36s/video]"
     ]
    },
    {
     "name": "stdout",
     "output_type": "stream",
     "text": [
      "Saved 69421.mp4 as one_frames.npy\n"
     ]
    },
    {
     "name": "stderr",
     "output_type": "stream",
     "text": [
      "\rProcessing Videos:   8%|▊         | 913/11980 [24:55<11:05:13,  3.61s/video]"
     ]
    },
    {
     "name": "stdout",
     "output_type": "stream",
     "text": [
      "Saved 69431.mp4 as pizza_frames.npy\n"
     ]
    },
    {
     "name": "stderr",
     "output_type": "stream",
     "text": [
      "\rProcessing Videos:   8%|▊         | 914/11980 [24:58<10:27:51,  3.40s/video]"
     ]
    },
    {
     "name": "stdout",
     "output_type": "stream",
     "text": [
      "Saved 69413.mp4 as now_frames.npy\n"
     ]
    },
    {
     "name": "stderr",
     "output_type": "stream",
     "text": [
      "\rProcessing Videos:   8%|▊         | 915/11980 [25:03<12:10:03,  3.96s/video]"
     ]
    },
    {
     "name": "stdout",
     "output_type": "stream",
     "text": [
      "Saved 69437.mp4 as pretty_frames.npy\n"
     ]
    },
    {
     "name": "stderr",
     "output_type": "stream",
     "text": [
      "\rProcessing Videos:   8%|▊         | 916/11980 [25:06<11:27:29,  3.73s/video]"
     ]
    },
    {
     "name": "stdout",
     "output_type": "stream",
     "text": [
      "Saved 69419.mp4 as old_frames.npy\n"
     ]
    },
    {
     "name": "stderr",
     "output_type": "stream",
     "text": [
      "\rProcessing Videos:   8%|▊         | 917/11980 [25:12<13:03:31,  4.25s/video]"
     ]
    },
    {
     "name": "stdout",
     "output_type": "stream",
     "text": [
      "Saved 69412.mp4 as none_frames.npy\n"
     ]
    },
    {
     "name": "stderr",
     "output_type": "stream",
     "text": [
      "\rProcessing Videos:   8%|▊         | 918/11980 [25:15<12:12:39,  3.97s/video]"
     ]
    },
    {
     "name": "stdout",
     "output_type": "stream",
     "text": [
      "Saved 69407.mp4 as new_frames.npy\n"
     ]
    },
    {
     "name": "stderr",
     "output_type": "stream",
     "text": [
      "\rProcessing Videos:   8%|▊         | 919/11980 [25:18<11:37:56,  3.79s/video]"
     ]
    },
    {
     "name": "stdout",
     "output_type": "stream",
     "text": [
      "Saved 69438.mp4 as print_frames.npy\n"
     ]
    },
    {
     "name": "stderr",
     "output_type": "stream",
     "text": [
      "\rProcessing Videos:   8%|▊         | 920/11980 [25:22<11:15:34,  3.66s/video]"
     ]
    },
    {
     "name": "stdout",
     "output_type": "stream",
     "text": [
      "Saved 69439.mp4 as pull_frames.npy\n"
     ]
    },
    {
     "name": "stderr",
     "output_type": "stream",
     "text": [
      "\rProcessing Videos:   8%|▊         | 921/11980 [25:25<10:49:47,  3.53s/video]"
     ]
    },
    {
     "name": "stdout",
     "output_type": "stream",
     "text": [
      "Saved 69418.mp4 as off_frames.npy\n"
     ]
    },
    {
     "name": "stderr",
     "output_type": "stream",
     "text": [
      "\rProcessing Videos:   8%|▊         | 922/11980 [25:28<10:28:02,  3.41s/video]"
     ]
    },
    {
     "name": "stdout",
     "output_type": "stream",
     "text": [
      "Saved 69430.mp4 as pink_frames.npy\n"
     ]
    },
    {
     "name": "stderr",
     "output_type": "stream",
     "text": [
      "\rProcessing Videos:   8%|▊         | 923/11980 [25:31<10:21:05,  3.37s/video]"
     ]
    },
    {
     "name": "stdout",
     "output_type": "stream",
     "text": [
      "Saved 69426.mp4 as people_frames.npy\n"
     ]
    },
    {
     "name": "stderr",
     "output_type": "stream",
     "text": [
      "\rProcessing Videos:   8%|▊         | 924/11980 [25:37<12:12:09,  3.97s/video]"
     ]
    },
    {
     "name": "stdout",
     "output_type": "stream",
     "text": [
      "Saved 69406.mp4 as negative_frames.npy\n"
     ]
    },
    {
     "name": "stderr",
     "output_type": "stream",
     "text": [
      "\rProcessing Videos:   8%|▊         | 925/11980 [25:40<11:42:37,  3.81s/video]"
     ]
    },
    {
     "name": "stdout",
     "output_type": "stream",
     "text": [
      "Saved 69429.mp4 as pig_frames.npy\n"
     ]
    },
    {
     "name": "stderr",
     "output_type": "stream",
     "text": [
      "\rProcessing Videos:   8%|▊         | 926/11980 [25:43<10:56:04,  3.56s/video]"
     ]
    },
    {
     "name": "stdout",
     "output_type": "stream",
     "text": [
      "Saved 69422.mp4 as orange_frames.npy\n"
     ]
    },
    {
     "name": "stderr",
     "output_type": "stream",
     "text": [
      "\rProcessing Videos:   8%|▊         | 927/11980 [25:46<10:53:42,  3.55s/video]"
     ]
    },
    {
     "name": "stdout",
     "output_type": "stream",
     "text": [
      "Saved 69433.mp4 as play_frames.npy\n"
     ]
    },
    {
     "name": "stderr",
     "output_type": "stream",
     "text": [
      "\rProcessing Videos:   8%|▊         | 928/11980 [25:50<10:28:11,  3.41s/video]"
     ]
    },
    {
     "name": "stdout",
     "output_type": "stream",
     "text": [
      "Saved 69417.mp4 as octopus_frames.npy\n"
     ]
    },
    {
     "name": "stderr",
     "output_type": "stream",
     "text": [
      "\rProcessing Videos:   8%|▊         | 929/11980 [25:53<10:22:27,  3.38s/video]"
     ]
    },
    {
     "name": "stdout",
     "output_type": "stream",
     "text": [
      "Saved 69434.mp4 as please_frames.npy\n"
     ]
    },
    {
     "name": "stderr",
     "output_type": "stream",
     "text": [
      "\rProcessing Videos:   8%|▊         | 930/11980 [25:57<10:35:34,  3.45s/video]"
     ]
    },
    {
     "name": "stdout",
     "output_type": "stream",
     "text": [
      "Saved 69459.mp4 as sea_frames.npy\n"
     ]
    },
    {
     "name": "stderr",
     "output_type": "stream",
     "text": [
      "\rProcessing Videos:   8%|▊         | 931/11980 [26:00<10:15:08,  3.34s/video]"
     ]
    },
    {
     "name": "stdout",
     "output_type": "stream",
     "text": [
      "Saved 69476.mp4 as skate_frames.npy\n"
     ]
    },
    {
     "name": "stderr",
     "output_type": "stream",
     "text": [
      "\rProcessing Videos:   8%|▊         | 932/11980 [26:05<12:34:26,  4.10s/video]"
     ]
    },
    {
     "name": "stdout",
     "output_type": "stream",
     "text": [
      "Saved 69441.mp4 as put_frames.npy\n"
     ]
    },
    {
     "name": "stderr",
     "output_type": "stream",
     "text": [
      "\rProcessing Videos:   8%|▊         | 933/11980 [26:09<12:15:48,  4.00s/video]"
     ]
    },
    {
     "name": "stdout",
     "output_type": "stream",
     "text": [
      "Saved 69477.mp4 as sky_frames.npy\n"
     ]
    },
    {
     "name": "stderr",
     "output_type": "stream",
     "text": [
      "\rProcessing Videos:   8%|▊         | 934/11980 [26:12<11:27:15,  3.73s/video]"
     ]
    },
    {
     "name": "stdout",
     "output_type": "stream",
     "text": [
      "Saved 69442.mp4 as question_frames.npy\n"
     ]
    },
    {
     "name": "stderr",
     "output_type": "stream",
     "text": [
      "\rProcessing Videos:   8%|▊         | 935/11980 [26:18<12:56:40,  4.22s/video]"
     ]
    },
    {
     "name": "stdout",
     "output_type": "stream",
     "text": [
      "Saved 69465.mp4 as shape_frames.npy\n"
     ]
    },
    {
     "name": "stderr",
     "output_type": "stream",
     "text": [
      "\rProcessing Videos:   8%|▊         | 936/11980 [26:21<11:49:19,  3.85s/video]"
     ]
    },
    {
     "name": "stdout",
     "output_type": "stream",
     "text": [
      "Saved 69463.mp4 as seven_frames.npy\n"
     ]
    },
    {
     "name": "stderr",
     "output_type": "stream",
     "text": [
      "\rProcessing Videos:   8%|▊         | 937/11980 [26:24<11:14:07,  3.66s/video]"
     ]
    },
    {
     "name": "stdout",
     "output_type": "stream",
     "text": [
      "Saved 69455.mp4 as school_frames.npy\n"
     ]
    },
    {
     "name": "stderr",
     "output_type": "stream",
     "text": [
      "\rProcessing Videos:   8%|▊         | 938/11980 [26:27<10:54:55,  3.56s/video]"
     ]
    },
    {
     "name": "stdout",
     "output_type": "stream",
     "text": [
      "Saved 69470.mp4 as sick_frames.npy\n"
     ]
    },
    {
     "name": "stderr",
     "output_type": "stream",
     "text": [
      "\rProcessing Videos:   8%|▊         | 939/11980 [26:30<10:35:13,  3.45s/video]"
     ]
    },
    {
     "name": "stdout",
     "output_type": "stream",
     "text": [
      "Saved 69472.mp4 as since_frames.npy\n"
     ]
    },
    {
     "name": "stderr",
     "output_type": "stream",
     "text": [
      "\rProcessing Videos:   8%|▊         | 940/11980 [26:35<12:04:50,  3.94s/video]"
     ]
    },
    {
     "name": "stdout",
     "output_type": "stream",
     "text": [
      "Saved 69445.mp4 as really_frames.npy\n"
     ]
    },
    {
     "name": "stderr",
     "output_type": "stream",
     "text": [
      "\rProcessing Videos:   8%|▊         | 941/11980 [26:39<11:20:42,  3.70s/video]"
     ]
    },
    {
     "name": "stdout",
     "output_type": "stream",
     "text": [
      "Saved 69466.mp4 as she_frames.npy\n"
     ]
    },
    {
     "name": "stderr",
     "output_type": "stream",
     "text": [
      "\rProcessing Videos:   8%|▊         | 942/11980 [26:41<10:26:35,  3.41s/video]"
     ]
    },
    {
     "name": "stdout",
     "output_type": "stream",
     "text": [
      "Saved 69446.mp4 as red_frames.npy\n"
     ]
    },
    {
     "name": "stderr",
     "output_type": "stream",
     "text": [
      "\rProcessing Videos:   8%|▊         | 943/11980 [26:44<10:09:22,  3.31s/video]"
     ]
    },
    {
     "name": "stdout",
     "output_type": "stream",
     "text": [
      "Saved 69460.mp4 as see_frames.npy\n"
     ]
    },
    {
     "name": "stderr",
     "output_type": "stream",
     "text": [
      "\rProcessing Videos:   8%|▊         | 944/11980 [26:47<9:52:37,  3.22s/video] "
     ]
    },
    {
     "name": "stdout",
     "output_type": "stream",
     "text": [
      "Saved 69454.mp4 as say_frames.npy\n"
     ]
    },
    {
     "name": "stderr",
     "output_type": "stream",
     "text": [
      "\rProcessing Videos:   8%|▊         | 945/11980 [26:51<10:13:47,  3.34s/video]"
     ]
    },
    {
     "name": "stdout",
     "output_type": "stream",
     "text": [
      "Saved 69451.mp4 as salt_frames.npy\n"
     ]
    },
    {
     "name": "stderr",
     "output_type": "stream",
     "text": [
      "\rProcessing Videos:   8%|▊         | 946/11980 [26:55<10:21:31,  3.38s/video]"
     ]
    },
    {
     "name": "stdout",
     "output_type": "stream",
     "text": [
      "Saved 69450.mp4 as sad_frames.npy\n"
     ]
    },
    {
     "name": "stderr",
     "output_type": "stream",
     "text": [
      "\rProcessing Videos:   8%|▊         | 947/11980 [26:58<10:15:33,  3.35s/video]"
     ]
    },
    {
     "name": "stdout",
     "output_type": "stream",
     "text": [
      "Saved 69461.mp4 as sell_frames.npy\n"
     ]
    },
    {
     "name": "stderr",
     "output_type": "stream",
     "text": [
      "\rProcessing Videos:   8%|▊         | 948/11980 [27:03<11:57:20,  3.90s/video]"
     ]
    },
    {
     "name": "stdout",
     "output_type": "stream",
     "text": [
      "Saved 69475.mp4 as size_frames.npy\n"
     ]
    },
    {
     "name": "stderr",
     "output_type": "stream",
     "text": [
      "\rProcessing Videos:   8%|▊         | 949/11980 [27:06<11:24:05,  3.72s/video]"
     ]
    },
    {
     "name": "stdout",
     "output_type": "stream",
     "text": [
      "Saved 69440.mp4 as purple_frames.npy\n"
     ]
    },
    {
     "name": "stderr",
     "output_type": "stream",
     "text": [
      "\rProcessing Videos:   8%|▊         | 950/11980 [27:10<11:06:41,  3.63s/video]"
     ]
    },
    {
     "name": "stdout",
     "output_type": "stream",
     "text": [
      "Saved 69467.mp4 as shelf_frames.npy\n"
     ]
    },
    {
     "name": "stderr",
     "output_type": "stream",
     "text": [
      "\rProcessing Videos:   8%|▊         | 951/11980 [27:13<10:29:10,  3.42s/video]"
     ]
    },
    {
     "name": "stdout",
     "output_type": "stream",
     "text": [
      "Saved 69474.mp4 as six_frames.npy\n"
     ]
    },
    {
     "name": "stderr",
     "output_type": "stream",
     "text": [
      "\rProcessing Videos:   8%|▊         | 952/11980 [27:16<10:12:19,  3.33s/video]"
     ]
    },
    {
     "name": "stdout",
     "output_type": "stream",
     "text": [
      "Saved 69502.mp4 as thank you_frames.npy\n"
     ]
    },
    {
     "name": "stderr",
     "output_type": "stream",
     "text": [
      "\rProcessing Videos:   8%|▊         | 953/11980 [27:19<10:02:32,  3.28s/video]"
     ]
    },
    {
     "name": "stdout",
     "output_type": "stream",
     "text": [
      "Saved 69493.mp4 as strong_frames.npy\n"
     ]
    },
    {
     "name": "stderr",
     "output_type": "stream",
     "text": [
      "\rProcessing Videos:   8%|▊         | 954/11980 [27:22<10:11:32,  3.33s/video]"
     ]
    },
    {
     "name": "stdout",
     "output_type": "stream",
     "text": [
      "Saved 69489.mp4 as store_frames.npy\n"
     ]
    },
    {
     "name": "stderr",
     "output_type": "stream",
     "text": [
      "\rProcessing Videos:   8%|▊         | 955/11980 [27:26<10:09:32,  3.32s/video]"
     ]
    },
    {
     "name": "stdout",
     "output_type": "stream",
     "text": [
      "Saved 69484.mp4 as some_frames.npy\n"
     ]
    },
    {
     "name": "stderr",
     "output_type": "stream",
     "text": [
      "\rProcessing Videos:   8%|▊         | 956/11980 [27:29<10:06:57,  3.30s/video]"
     ]
    },
    {
     "name": "stdout",
     "output_type": "stream",
     "text": [
      "Saved 69503.mp4 as them_frames.npy\n"
     ]
    },
    {
     "name": "stderr",
     "output_type": "stream",
     "text": [
      "\rProcessing Videos:   8%|▊         | 957/11980 [27:32<9:59:52,  3.27s/video] "
     ]
    },
    {
     "name": "stdout",
     "output_type": "stream",
     "text": [
      "Saved 69497.mp4 as suppose_frames.npy\n"
     ]
    },
    {
     "name": "stderr",
     "output_type": "stream",
     "text": [
      "\rProcessing Videos:   8%|▊         | 958/11980 [27:34<9:03:54,  2.96s/video]"
     ]
    },
    {
     "name": "stdout",
     "output_type": "stream",
     "text": [
      "Saved 69481.mp4 as snow_frames.npy\n"
     ]
    },
    {
     "name": "stderr",
     "output_type": "stream",
     "text": [
      "\rProcessing Videos:   8%|▊         | 959/11980 [27:40<11:53:36,  3.89s/video]"
     ]
    },
    {
     "name": "stdout",
     "output_type": "stream",
     "text": [
      "Saved 69483.mp4 as soft_frames.npy\n"
     ]
    },
    {
     "name": "stderr",
     "output_type": "stream",
     "text": [
      "\rProcessing Videos:   8%|▊         | 960/11980 [27:43<11:04:53,  3.62s/video]"
     ]
    },
    {
     "name": "stdout",
     "output_type": "stream",
     "text": [
      "Saved 69491.mp4 as strange_frames.npy\n"
     ]
    },
    {
     "name": "stderr",
     "output_type": "stream",
     "text": [
      "\rProcessing Videos:   8%|▊         | 961/11980 [27:47<10:58:47,  3.59s/video]"
     ]
    },
    {
     "name": "stdout",
     "output_type": "stream",
     "text": [
      "Saved 69485.mp4 as soup_frames.npy\n"
     ]
    },
    {
     "name": "stderr",
     "output_type": "stream",
     "text": [
      "\rProcessing Videos:   8%|▊         | 962/11980 [27:51<11:15:27,  3.68s/video]"
     ]
    },
    {
     "name": "stdout",
     "output_type": "stream",
     "text": [
      "Saved 69492.mp4 as strawberry_frames.npy\n"
     ]
    },
    {
     "name": "stderr",
     "output_type": "stream",
     "text": [
      "\rProcessing Videos:   8%|▊         | 963/11980 [27:54<10:42:19,  3.50s/video]"
     ]
    },
    {
     "name": "stdout",
     "output_type": "stream",
     "text": [
      "Saved 69504.mp4 as thing_frames.npy\n"
     ]
    },
    {
     "name": "stderr",
     "output_type": "stream",
     "text": [
      "\rProcessing Videos:   8%|▊         | 964/11980 [27:57<10:29:27,  3.43s/video]"
     ]
    },
    {
     "name": "stdout",
     "output_type": "stream",
     "text": [
      "Saved 69501.mp4 as tent_frames.npy\n"
     ]
    },
    {
     "name": "stderr",
     "output_type": "stream",
     "text": [
      "\rProcessing Videos:   8%|▊         | 965/11980 [28:00<10:03:30,  3.29s/video]"
     ]
    },
    {
     "name": "stdout",
     "output_type": "stream",
     "text": [
      "Saved 69486.mp4 as special_frames.npy\n"
     ]
    },
    {
     "name": "stderr",
     "output_type": "stream",
     "text": [
      "\rProcessing Videos:   8%|▊         | 966/11980 [28:03<10:02:17,  3.28s/video]"
     ]
    },
    {
     "name": "stdout",
     "output_type": "stream",
     "text": [
      "Saved 69500.mp4 as take_frames.npy\n"
     ]
    },
    {
     "name": "stderr",
     "output_type": "stream",
     "text": [
      "\rProcessing Videos:   8%|▊         | 967/11980 [28:07<10:02:54,  3.28s/video]"
     ]
    },
    {
     "name": "stdout",
     "output_type": "stream",
     "text": [
      "Saved 69479.mp4 as sleep_frames.npy\n"
     ]
    },
    {
     "name": "stderr",
     "output_type": "stream",
     "text": [
      "\rProcessing Videos:   8%|▊         | 968/11980 [28:10<9:55:35,  3.25s/video] "
     ]
    },
    {
     "name": "stdout",
     "output_type": "stream",
     "text": [
      "Saved 69495.mp4 as summer_frames.npy\n"
     ]
    },
    {
     "name": "stderr",
     "output_type": "stream",
     "text": [
      "\rProcessing Videos:   8%|▊         | 969/11980 [28:13<10:01:48,  3.28s/video]"
     ]
    },
    {
     "name": "stdout",
     "output_type": "stream",
     "text": [
      "Saved 69482.mp4 as soda_frames.npy\n"
     ]
    },
    {
     "name": "stderr",
     "output_type": "stream",
     "text": [
      "\rProcessing Videos:   8%|▊         | 970/11980 [28:17<10:03:32,  3.29s/video]"
     ]
    },
    {
     "name": "stdout",
     "output_type": "stream",
     "text": [
      "Saved 69494.mp4 as student_frames.npy\n"
     ]
    },
    {
     "name": "stderr",
     "output_type": "stream",
     "text": [
      "\rProcessing Videos:   8%|▊         | 971/11980 [28:21<11:34:04,  3.78s/video]"
     ]
    },
    {
     "name": "stdout",
     "output_type": "stream",
     "text": [
      "Saved 69499.mp4 as sweet_frames.npy\n"
     ]
    },
    {
     "name": "stderr",
     "output_type": "stream",
     "text": [
      "\rProcessing Videos:   8%|▊         | 972/11980 [28:25<11:06:14,  3.63s/video]"
     ]
    },
    {
     "name": "stdout",
     "output_type": "stream",
     "text": [
      "Saved 69487.mp4 as spell_frames.npy\n"
     ]
    },
    {
     "name": "stderr",
     "output_type": "stream",
     "text": [
      "\rProcessing Videos:   8%|▊         | 973/11980 [28:28<10:55:00,  3.57s/video]"
     ]
    },
    {
     "name": "stdout",
     "output_type": "stream",
     "text": [
      "Saved 69532.mp4 as when_frames.npy\n"
     ]
    },
    {
     "name": "stderr",
     "output_type": "stream",
     "text": [
      "\rProcessing Videos:   8%|▊         | 974/11980 [28:32<10:50:20,  3.55s/video]"
     ]
    },
    {
     "name": "stdout",
     "output_type": "stream",
     "text": [
      "Saved 69527.mp4 as we_frames.npy\n"
     ]
    },
    {
     "name": "stderr",
     "output_type": "stream",
     "text": [
      "\rProcessing Videos:   8%|▊         | 975/11980 [28:36<11:51:58,  3.88s/video]"
     ]
    },
    {
     "name": "stdout",
     "output_type": "stream",
     "text": [
      "Saved 69536.mp4 as will_frames.npy\n"
     ]
    },
    {
     "name": "stderr",
     "output_type": "stream",
     "text": [
      "\rProcessing Videos:   8%|▊         | 976/11980 [28:40<11:16:46,  3.69s/video]"
     ]
    },
    {
     "name": "stdout",
     "output_type": "stream",
     "text": [
      "Saved 69521.mp4 as two_frames.npy\n"
     ]
    },
    {
     "name": "stderr",
     "output_type": "stream",
     "text": [
      "\rProcessing Videos:   8%|▊         | 977/11980 [28:43<10:39:39,  3.49s/video]"
     ]
    },
    {
     "name": "stdout",
     "output_type": "stream",
     "text": [
      "Saved 69531.mp4 as what_frames.npy\n"
     ]
    },
    {
     "name": "stderr",
     "output_type": "stream",
     "text": [
      "\rProcessing Videos:   8%|▊         | 978/11980 [28:46<10:32:36,  3.45s/video]"
     ]
    },
    {
     "name": "stdout",
     "output_type": "stream",
     "text": [
      "Saved 69512.mp4 as today_frames.npy\n"
     ]
    },
    {
     "name": "stderr",
     "output_type": "stream",
     "text": [
      "\rProcessing Videos:   8%|▊         | 979/11980 [28:51<11:37:33,  3.80s/video]"
     ]
    },
    {
     "name": "stdout",
     "output_type": "stream",
     "text": [
      "Saved 69538.mp4 as wish_frames.npy\n"
     ]
    },
    {
     "name": "stderr",
     "output_type": "stream",
     "text": [
      "\rProcessing Videos:   8%|▊         | 980/11980 [28:53<10:44:45,  3.52s/video]"
     ]
    },
    {
     "name": "stdout",
     "output_type": "stream",
     "text": [
      "Saved 69522.mp4 as up_frames.npy\n"
     ]
    },
    {
     "name": "stderr",
     "output_type": "stream",
     "text": [
      "\rProcessing Videos:   8%|▊         | 981/11980 [28:57<10:28:48,  3.43s/video]"
     ]
    },
    {
     "name": "stdout",
     "output_type": "stream",
     "text": [
      "Saved 69524.mp4 as want_frames.npy\n"
     ]
    },
    {
     "name": "stderr",
     "output_type": "stream",
     "text": [
      "\rProcessing Videos:   8%|▊         | 982/11980 [29:00<10:06:40,  3.31s/video]"
     ]
    },
    {
     "name": "stdout",
     "output_type": "stream",
     "text": [
      "Saved 69534.mp4 as who_frames.npy\n"
     ]
    },
    {
     "name": "stderr",
     "output_type": "stream",
     "text": [
      "\rProcessing Videos:   8%|▊         | 983/11980 [29:03<9:57:21,  3.26s/video] "
     ]
    },
    {
     "name": "stdout",
     "output_type": "stream",
     "text": [
      "Saved 69530.mp4 as whale_frames.npy\n"
     ]
    },
    {
     "name": "stderr",
     "output_type": "stream",
     "text": [
      "\rProcessing Videos:   8%|▊         | 984/11980 [29:06<10:03:21,  3.29s/video]"
     ]
    },
    {
     "name": "stdout",
     "output_type": "stream",
     "text": [
      "Saved 69510.mp4 as tiger_frames.npy\n"
     ]
    },
    {
     "name": "stderr",
     "output_type": "stream",
     "text": [
      "\rProcessing Videos:   8%|▊         | 985/11980 [29:10<10:10:20,  3.33s/video]"
     ]
    },
    {
     "name": "stdout",
     "output_type": "stream",
     "text": [
      "Saved 69511.mp4 as time_frames.npy\n"
     ]
    },
    {
     "name": "stderr",
     "output_type": "stream",
     "text": [
      "\rProcessing Videos:   8%|▊         | 986/11980 [29:13<9:59:23,  3.27s/video] "
     ]
    },
    {
     "name": "stdout",
     "output_type": "stream",
     "text": [
      "Saved 69508.mp4 as three_frames.npy\n"
     ]
    },
    {
     "name": "stderr",
     "output_type": "stream",
     "text": [
      "\rProcessing Videos:   8%|▊         | 987/11980 [29:16<9:49:47,  3.22s/video]"
     ]
    },
    {
     "name": "stdout",
     "output_type": "stream",
     "text": [
      "Saved 69529.mp4 as wet_frames.npy\n"
     ]
    },
    {
     "name": "stderr",
     "output_type": "stream",
     "text": [
      "\rProcessing Videos:   8%|▊         | 988/11980 [29:21<11:44:24,  3.84s/video]"
     ]
    },
    {
     "name": "stdout",
     "output_type": "stream",
     "text": [
      "Saved 69523.mp4 as very_frames.npy\n"
     ]
    },
    {
     "name": "stderr",
     "output_type": "stream",
     "text": [
      "\rProcessing Videos:   8%|▊         | 989/11980 [29:24<11:14:57,  3.68s/video]"
     ]
    },
    {
     "name": "stdout",
     "output_type": "stream",
     "text": [
      "Saved 69533.mp4 as white_frames.npy\n"
     ]
    },
    {
     "name": "stderr",
     "output_type": "stream",
     "text": [
      "\rProcessing Videos:   8%|▊         | 990/11980 [29:28<10:44:53,  3.52s/video]"
     ]
    },
    {
     "name": "stdout",
     "output_type": "stream",
     "text": [
      "Saved 69507.mp4 as this_frames.npy\n"
     ]
    },
    {
     "name": "stderr",
     "output_type": "stream",
     "text": [
      "\rProcessing Videos:   8%|▊         | 991/11980 [29:31<10:28:08,  3.43s/video]"
     ]
    },
    {
     "name": "stdout",
     "output_type": "stream",
     "text": [
      "Saved 69505.mp4 as think_frames.npy\n"
     ]
    },
    {
     "name": "stderr",
     "output_type": "stream",
     "text": [
      "\rProcessing Videos:   8%|▊         | 992/11980 [29:34<10:00:28,  3.28s/video]"
     ]
    },
    {
     "name": "stdout",
     "output_type": "stream",
     "text": [
      "Saved 69520.mp4 as tv_frames.npy\n"
     ]
    },
    {
     "name": "stderr",
     "output_type": "stream",
     "text": [
      "\rProcessing Videos:   8%|▊         | 993/11980 [29:37<9:44:18,  3.19s/video] "
     ]
    },
    {
     "name": "stdout",
     "output_type": "stream",
     "text": [
      "Saved 69541.mp4 as worm_frames.npy\n"
     ]
    },
    {
     "name": "stderr",
     "output_type": "stream",
     "text": [
      "\rProcessing Videos:   8%|▊         | 994/11980 [29:41<11:08:22,  3.65s/video]"
     ]
    },
    {
     "name": "stdout",
     "output_type": "stream",
     "text": [
      "Saved 69539.mp4 as with_frames.npy\n"
     ]
    },
    {
     "name": "stderr",
     "output_type": "stream",
     "text": [
      "\rProcessing Videos:   8%|▊         | 995/11980 [29:44<10:28:49,  3.43s/video]"
     ]
    },
    {
     "name": "stdout",
     "output_type": "stream",
     "text": [
      "Saved 69506.mp4 as thirsty_frames.npy\n"
     ]
    },
    {
     "name": "stderr",
     "output_type": "stream",
     "text": [
      "\rProcessing Videos:   8%|▊         | 996/11980 [29:48<10:15:38,  3.36s/video]"
     ]
    },
    {
     "name": "stdout",
     "output_type": "stream",
     "text": [
      "Saved 69545.mp4 as yellow_frames.npy\n"
     ]
    },
    {
     "name": "stderr",
     "output_type": "stream",
     "text": [
      "\rProcessing Videos:   8%|▊         | 997/11980 [29:51<10:09:27,  3.33s/video]"
     ]
    },
    {
     "name": "stdout",
     "output_type": "stream",
     "text": [
      "Saved 69547.mp4 as you_frames.npy\n"
     ]
    },
    {
     "name": "stderr",
     "output_type": "stream",
     "text": [
      "\rProcessing Videos:   8%|▊         | 998/11980 [29:54<10:01:02,  3.28s/video]"
     ]
    },
    {
     "name": "stdout",
     "output_type": "stream",
     "text": [
      "Saved 69546.mp4 as yes_frames.npy\n"
     ]
    },
    {
     "name": "stderr",
     "output_type": "stream",
     "text": [
      "\rProcessing Videos:   8%|▊         | 999/11980 [29:57<9:55:07,  3.25s/video] "
     ]
    },
    {
     "name": "stdout",
     "output_type": "stream",
     "text": [
      "Saved 69544.mp4 as write_frames.npy\n"
     ]
    },
    {
     "name": "stderr",
     "output_type": "stream",
     "text": [
      "\rProcessing Videos:   8%|▊         | 1000/11980 [30:01<10:10:16,  3.33s/video]"
     ]
    },
    {
     "name": "stdout",
     "output_type": "stream",
     "text": [
      "Saved 69542.mp4 as wrap_frames.npy\n"
     ]
    },
    {
     "name": "stderr",
     "output_type": "stream",
     "text": [
      "\rProcessing Videos:   8%|▊         | 1001/11980 [30:03<8:51:50,  2.91s/video] "
     ]
    },
    {
     "name": "stdout",
     "output_type": "stream",
     "text": [
      "Saved 59906.mp4 as tuesday_frames.npy\n"
     ]
    },
    {
     "name": "stderr",
     "output_type": "stream",
     "text": [
      "\rProcessing Videos:   8%|▊         | 1002/11980 [30:03<6:39:57,  2.19s/video]"
     ]
    },
    {
     "name": "stdout",
     "output_type": "stream",
     "text": [
      "Saved 60225.mp4 as two_frames.npy\n"
     ]
    },
    {
     "name": "stderr",
     "output_type": "stream",
     "text": [
      "\rProcessing Videos:   8%|▊         | 1003/11980 [30:04<5:46:39,  1.89s/video]"
     ]
    },
    {
     "name": "stdout",
     "output_type": "stream",
     "text": [
      "Saved 60064.mp4 as tutor_frames.npy\n"
     ]
    },
    {
     "name": "stderr",
     "output_type": "stream",
     "text": [
      "\rProcessing Videos:   8%|▊         | 1004/11980 [30:06<5:50:23,  1.92s/video]"
     ]
    },
    {
     "name": "stdout",
     "output_type": "stream",
     "text": [
      "Saved 60059.mp4 as tutor_frames.npy\n"
     ]
    },
    {
     "name": "stderr",
     "output_type": "stream",
     "text": [
      "\rProcessing Videos:   8%|▊         | 1005/11980 [30:09<6:25:51,  2.11s/video]"
     ]
    },
    {
     "name": "stdout",
     "output_type": "stream",
     "text": [
      "Saved 60045.mp4 as turtle_frames.npy\n"
     ]
    },
    {
     "name": "stderr",
     "output_type": "stream",
     "text": [
      "\rProcessing Videos:   8%|▊         | 1006/11980 [30:12<7:21:57,  2.42s/video]"
     ]
    },
    {
     "name": "stdout",
     "output_type": "stream",
     "text": [
      "Saved 59953.mp4 as turkey_frames.npy\n"
     ]
    },
    {
     "name": "stderr",
     "output_type": "stream",
     "text": [
      "\rProcessing Videos:   8%|▊         | 1007/11980 [30:14<6:49:22,  2.24s/video]"
     ]
    },
    {
     "name": "stdout",
     "output_type": "stream",
     "text": [
      "Saved 60075.mp4 as tv_frames.npy\n"
     ]
    },
    {
     "name": "stderr",
     "output_type": "stream",
     "text": [
      "\rProcessing Videos:   8%|▊         | 1008/11980 [30:15<5:44:30,  1.88s/video]"
     ]
    },
    {
     "name": "stdout",
     "output_type": "stream",
     "text": [
      "Saved 59903.mp4 as tuesday_frames.npy\n"
     ]
    },
    {
     "name": "stderr",
     "output_type": "stream",
     "text": [
      "\rProcessing Videos:   8%|▊         | 1009/11980 [30:15<4:34:49,  1.50s/video]"
     ]
    },
    {
     "name": "stdout",
     "output_type": "stream",
     "text": [
      "Saved 60161.mp4 as twin_frames.npy\n"
     ]
    },
    {
     "name": "stderr",
     "output_type": "stream",
     "text": [
      "\rProcessing Videos:   8%|▊         | 1010/11980 [30:17<4:49:55,  1.59s/video]"
     ]
    },
    {
     "name": "stdout",
     "output_type": "stream",
     "text": [
      "Saved 59966.mp4 as turkey_frames.npy\n"
     ]
    },
    {
     "name": "stderr",
     "output_type": "stream",
     "text": [
      "\rProcessing Videos:   8%|▊         | 1011/11980 [30:18<3:49:10,  1.25s/video]"
     ]
    },
    {
     "name": "stdout",
     "output_type": "stream",
     "text": [
      "Saved 59843.mp4 as truth_frames.npy\n"
     ]
    },
    {
     "name": "stderr",
     "output_type": "stream",
     "text": [
      "\rProcessing Videos:   8%|▊         | 1012/11980 [30:18<3:12:27,  1.05s/video]"
     ]
    },
    {
     "name": "stdout",
     "output_type": "stream",
     "text": [
      "Saved 59992.mp4 as turn_frames.npy\n"
     ]
    },
    {
     "name": "stderr",
     "output_type": "stream",
     "text": [
      "\rProcessing Videos:   8%|▊         | 1013/11980 [30:20<3:53:40,  1.28s/video]"
     ]
    },
    {
     "name": "stdout",
     "output_type": "stream",
     "text": [
      "Saved 60522.mp4 as under_frames.npy\n"
     ]
    },
    {
     "name": "stderr",
     "output_type": "stream",
     "text": [
      "\rProcessing Videos:   8%|▊         | 1014/11980 [30:23<5:37:00,  1.84s/video]"
     ]
    },
    {
     "name": "stdout",
     "output_type": "stream",
     "text": [
      "Saved 60380.mp4 as umbrella_frames.npy\n"
     ]
    },
    {
     "name": "stderr",
     "output_type": "stream",
     "text": [
      "\rProcessing Videos:   8%|▊         | 1015/11980 [30:25<5:56:53,  1.95s/video]"
     ]
    },
    {
     "name": "stdout",
     "output_type": "stream",
     "text": [
      "Saved 60385.mp4 as umbrella_frames.npy\n"
     ]
    },
    {
     "name": "stderr",
     "output_type": "stream",
     "text": [
      "\rProcessing Videos:   8%|▊         | 1016/11980 [30:27<5:07:36,  1.68s/video]"
     ]
    },
    {
     "name": "stdout",
     "output_type": "stream",
     "text": [
      "Saved 60379.mp4 as umbrella_frames.npy\n"
     ]
    },
    {
     "name": "stderr",
     "output_type": "stream",
     "text": [
      "\rProcessing Videos:   8%|▊         | 1017/11980 [30:28<5:21:36,  1.76s/video]"
     ]
    },
    {
     "name": "stdout",
     "output_type": "stream",
     "text": [
      "Saved 60547.mp4 as understand_frames.npy\n"
     ]
    },
    {
     "name": "stderr",
     "output_type": "stream",
     "text": [
      "\rProcessing Videos:   8%|▊         | 1018/11980 [30:31<5:41:44,  1.87s/video]"
     ]
    },
    {
     "name": "stdout",
     "output_type": "stream",
     "text": [
      "Saved 60521.mp4 as under_frames.npy\n"
     ]
    },
    {
     "name": "stderr",
     "output_type": "stream",
     "text": [
      "\rProcessing Videos:   9%|▊         | 1019/11980 [30:31<4:26:30,  1.46s/video]"
     ]
    },
    {
     "name": "stdout",
     "output_type": "stream",
     "text": [
      "Saved 60360.mp4 as u_frames.npy\n"
     ]
    },
    {
     "name": "stderr",
     "output_type": "stream",
     "text": [
      "\rProcessing Videos:   9%|▊         | 1020/11980 [30:32<4:00:26,  1.32s/video]"
     ]
    },
    {
     "name": "stdout",
     "output_type": "stream",
     "text": [
      "Saved 60348.mp4 as ugly_frames.npy\n"
     ]
    },
    {
     "name": "stderr",
     "output_type": "stream",
     "text": [
      "\rProcessing Videos:   9%|▊         | 1021/11980 [30:34<4:36:24,  1.51s/video]"
     ]
    },
    {
     "name": "stdout",
     "output_type": "stream",
     "text": [
      "Saved 60556.mp4 as understand_frames.npy\n"
     ]
    },
    {
     "name": "stderr",
     "output_type": "stream",
     "text": [
      "\rProcessing Videos:   9%|▊         | 1022/11980 [30:38<7:02:02,  2.31s/video]"
     ]
    },
    {
     "name": "stdout",
     "output_type": "stream",
     "text": [
      "Saved 60571.mp4 as underwear_frames.npy\n"
     ]
    },
    {
     "name": "stderr",
     "output_type": "stream",
     "text": [
      "\rProcessing Videos:   9%|▊         | 1023/11980 [30:43<9:07:52,  3.00s/video]"
     ]
    },
    {
     "name": "stdout",
     "output_type": "stream",
     "text": [
      "Saved 60531.mp4 as under_frames.npy\n"
     ]
    },
    {
     "name": "stderr",
     "output_type": "stream",
     "text": [
      "\rProcessing Videos:   9%|▊         | 1024/11980 [30:45<8:20:54,  2.74s/video]"
     ]
    },
    {
     "name": "stdout",
     "output_type": "stream",
     "text": [
      "Saved 60381.mp4 as umbrella_frames.npy\n"
     ]
    },
    {
     "name": "stderr",
     "output_type": "stream",
     "text": [
      "\rProcessing Videos:   9%|▊         | 1025/11980 [30:48<8:08:59,  2.68s/video]"
     ]
    },
    {
     "name": "stdout",
     "output_type": "stream",
     "text": [
      "Saved 60575.mp4 as underwear_frames.npy\n"
     ]
    },
    {
     "name": "stderr",
     "output_type": "stream",
     "text": [
      "\rProcessing Videos:   9%|▊         | 1026/11980 [30:48<6:09:44,  2.03s/video]"
     ]
    },
    {
     "name": "stdout",
     "output_type": "stream",
     "text": [
      "Saved 60579.mp4 as underwear_frames.npy\n"
     ]
    },
    {
     "name": "stderr",
     "output_type": "stream",
     "text": [
      "\rProcessing Videos:   9%|▊         | 1027/11980 [30:52<7:31:46,  2.47s/video]"
     ]
    },
    {
     "name": "stdout",
     "output_type": "stream",
     "text": [
      "Saved 60347.mp4 as ugly_frames.npy\n"
     ]
    },
    {
     "name": "stderr",
     "output_type": "stream",
     "text": [
      "\rProcessing Videos:   9%|▊         | 1028/11980 [30:53<7:02:43,  2.32s/video]"
     ]
    },
    {
     "name": "stdout",
     "output_type": "stream",
     "text": [
      "Saved 60574.mp4 as underwear_frames.npy\n"
     ]
    },
    {
     "name": "stderr",
     "output_type": "stream",
     "text": [
      "\rProcessing Videos:   9%|▊         | 1029/11980 [30:56<7:12:48,  2.37s/video]"
     ]
    },
    {
     "name": "stdout",
     "output_type": "stream",
     "text": [
      "Saved 60546.mp4 as understand_frames.npy\n"
     ]
    },
    {
     "name": "stderr",
     "output_type": "stream",
     "text": [
      "\rProcessing Videos:   9%|▊         | 1030/11980 [30:57<5:58:47,  1.97s/video]"
     ]
    },
    {
     "name": "stdout",
     "output_type": "stream",
     "text": [
      "Saved 60457.mp4 as uncle_frames.npy\n"
     ]
    },
    {
     "name": "stderr",
     "output_type": "stream",
     "text": [
      "\rProcessing Videos:   9%|▊         | 1031/11980 [30:59<5:42:33,  1.88s/video]"
     ]
    },
    {
     "name": "stdout",
     "output_type": "stream",
     "text": [
      "Saved 60459.mp4 as uncle_frames.npy\n"
     ]
    },
    {
     "name": "stderr",
     "output_type": "stream",
     "text": [
      "\rProcessing Videos:   9%|▊         | 1032/11980 [31:00<5:30:30,  1.81s/video]"
     ]
    },
    {
     "name": "stdout",
     "output_type": "stream",
     "text": [
      "Saved 60702.mp4 as unique_frames.npy\n"
     ]
    },
    {
     "name": "stderr",
     "output_type": "stream",
     "text": [
      "\rProcessing Videos:   9%|▊         | 1033/11980 [31:02<5:32:14,  1.82s/video]"
     ]
    },
    {
     "name": "stdout",
     "output_type": "stream",
     "text": [
      "Saved 60458.mp4 as uncle_frames.npy\n"
     ]
    },
    {
     "name": "stderr",
     "output_type": "stream",
     "text": [
      "\rProcessing Videos:   9%|▊         | 1034/11980 [31:03<4:52:04,  1.60s/video]"
     ]
    },
    {
     "name": "stdout",
     "output_type": "stream",
     "text": [
      "Saved 60703.mp4 as unique_frames.npy\n"
     ]
    },
    {
     "name": "stderr",
     "output_type": "stream",
     "text": [
      "\rProcessing Videos:   9%|▊         | 1035/11980 [31:05<5:05:24,  1.67s/video]"
     ]
    },
    {
     "name": "stdout",
     "output_type": "stream",
     "text": [
      "Saved 60576.mp4 as underwear_frames.npy\n"
     ]
    },
    {
     "name": "stderr",
     "output_type": "stream",
     "text": [
      "\rProcessing Videos:   9%|▊         | 1036/11980 [31:07<5:12:18,  1.71s/video]"
     ]
    },
    {
     "name": "stdout",
     "output_type": "stream",
     "text": [
      "Saved 60705.mp4 as unique_frames.npy\n"
     ]
    },
    {
     "name": "stderr",
     "output_type": "stream",
     "text": [
      "\rProcessing Videos:   9%|▊         | 1037/11980 [31:09<5:11:40,  1.71s/video]"
     ]
    },
    {
     "name": "stdout",
     "output_type": "stream",
     "text": [
      "Saved 60362.mp4 as u_frames.npy\n"
     ]
    },
    {
     "name": "stderr",
     "output_type": "stream",
     "text": [
      "\rProcessing Videos:   9%|▊         | 1038/11980 [31:11<5:33:26,  1.83s/video]"
     ]
    },
    {
     "name": "stdout",
     "output_type": "stream",
     "text": [
      "Saved 60358.mp4 as u_frames.npy\n"
     ]
    },
    {
     "name": "stderr",
     "output_type": "stream",
     "text": [
      "\rProcessing Videos:   9%|▊         | 1039/11980 [31:12<5:24:36,  1.78s/video]"
     ]
    },
    {
     "name": "stdout",
     "output_type": "stream",
     "text": [
      "Saved 60357.mp4 as ugly_frames.npy\n"
     ]
    },
    {
     "name": "stderr",
     "output_type": "stream",
     "text": [
      "\rProcessing Videos:   9%|▊         | 1040/11980 [31:13<4:24:48,  1.45s/video]"
     ]
    },
    {
     "name": "stdout",
     "output_type": "stream",
     "text": [
      "Saved 60551.mp4 as understand_frames.npy\n"
     ]
    },
    {
     "name": "stderr",
     "output_type": "stream",
     "text": [
      "\rProcessing Videos:   9%|▊         | 1041/11980 [31:14<3:38:50,  1.20s/video]"
     ]
    },
    {
     "name": "stdout",
     "output_type": "stream",
     "text": [
      "Saved 60383.mp4 as umbrella_frames.npy\n"
     ]
    },
    {
     "name": "stderr",
     "output_type": "stream",
     "text": [
      "\rProcessing Videos:   9%|▊         | 1042/11980 [31:14<3:01:01,  1.01video/s]"
     ]
    },
    {
     "name": "stdout",
     "output_type": "stream",
     "text": [
      "Saved 60527.mp4 as under_frames.npy\n"
     ]
    },
    {
     "name": "stderr",
     "output_type": "stream",
     "text": [
      "\rProcessing Videos:   9%|▊         | 1043/11980 [31:15<2:54:05,  1.05video/s]"
     ]
    },
    {
     "name": "stdout",
     "output_type": "stream",
     "text": [
      "Saved 60346.mp4 as ugly_frames.npy\n"
     ]
    },
    {
     "name": "stderr",
     "output_type": "stream",
     "text": [
      "\rProcessing Videos:   9%|▊         | 1044/11980 [31:17<3:54:04,  1.28s/video]"
     ]
    },
    {
     "name": "stdout",
     "output_type": "stream",
     "text": [
      "Saved 60350.mp4 as ugly_frames.npy\n"
     ]
    },
    {
     "name": "stderr",
     "output_type": "stream",
     "text": [
      "\rProcessing Videos:   9%|▊         | 1045/11980 [31:19<4:24:05,  1.45s/video]"
     ]
    },
    {
     "name": "stdout",
     "output_type": "stream",
     "text": [
      "Saved 60548.mp4 as understand_frames.npy\n"
     ]
    },
    {
     "name": "stderr",
     "output_type": "stream",
     "text": [
      "\rProcessing Videos:   9%|▊         | 1046/11980 [31:21<4:31:18,  1.49s/video]"
     ]
    },
    {
     "name": "stdout",
     "output_type": "stream",
     "text": [
      "Saved 60572.mp4 as underwear_frames.npy\n"
     ]
    },
    {
     "name": "stderr",
     "output_type": "stream",
     "text": [
      "\rProcessing Videos:   9%|▊         | 1047/11980 [31:22<4:36:56,  1.52s/video]"
     ]
    },
    {
     "name": "stdout",
     "output_type": "stream",
     "text": [
      "Saved 60460.mp4 as uncle_frames.npy\n"
     ]
    },
    {
     "name": "stderr",
     "output_type": "stream",
     "text": [
      "\rProcessing Videos:   9%|▊         | 1048/11980 [31:24<4:44:06,  1.56s/video]"
     ]
    },
    {
     "name": "stdout",
     "output_type": "stream",
     "text": [
      "Saved 60349.mp4 as ugly_frames.npy\n"
     ]
    },
    {
     "name": "stderr",
     "output_type": "stream",
     "text": [
      "\rProcessing Videos:   9%|▉         | 1049/11980 [31:26<5:01:39,  1.66s/video]"
     ]
    },
    {
     "name": "stdout",
     "output_type": "stream",
     "text": [
      "Saved 60465.mp4 as uncle_frames.npy\n"
     ]
    },
    {
     "name": "stderr",
     "output_type": "stream",
     "text": [
      "\rProcessing Videos:   9%|▉         | 1050/11980 [31:26<3:57:07,  1.30s/video]"
     ]
    },
    {
     "name": "stdout",
     "output_type": "stream",
     "text": [
      "Saved 60352.mp4 as ugly_frames.npy\n"
     ]
    },
    {
     "name": "stderr",
     "output_type": "stream",
     "text": [
      "\rProcessing Videos:   9%|▉         | 1051/11980 [31:28<4:22:17,  1.44s/video]"
     ]
    },
    {
     "name": "stdout",
     "output_type": "stream",
     "text": [
      "Saved 60583.mp4 as underwear_frames.npy\n"
     ]
    },
    {
     "name": "stderr",
     "output_type": "stream",
     "text": [
      "\rProcessing Videos:   9%|▉         | 1052/11980 [31:29<3:54:09,  1.29s/video]"
     ]
    },
    {
     "name": "stdout",
     "output_type": "stream",
     "text": [
      "Saved 60520.mp4 as under_frames.npy\n"
     ]
    },
    {
     "name": "stderr",
     "output_type": "stream",
     "text": [
      "\rProcessing Videos:   9%|▉         | 1053/11980 [31:30<3:27:43,  1.14s/video]"
     ]
    },
    {
     "name": "stdout",
     "output_type": "stream",
     "text": [
      "Saved 60309.mp4 as type_frames.npy\n"
     ]
    },
    {
     "name": "stderr",
     "output_type": "stream",
     "text": [
      "\rProcessing Videos:   9%|▉         | 1054/11980 [31:32<4:37:46,  1.53s/video]"
     ]
    },
    {
     "name": "stdout",
     "output_type": "stream",
     "text": [
      "Saved 60704.mp4 as unique_frames.npy\n"
     ]
    },
    {
     "name": "stderr",
     "output_type": "stream",
     "text": [
      "\rProcessing Videos:   9%|▉         | 1055/11980 [31:33<3:51:25,  1.27s/video]"
     ]
    },
    {
     "name": "stdout",
     "output_type": "stream",
     "text": [
      "Saved 60462.mp4 as uncle_frames.npy\n"
     ]
    },
    {
     "name": "stderr",
     "output_type": "stream",
     "text": [
      "\rProcessing Videos:   9%|▉         | 1056/11980 [31:34<4:14:34,  1.40s/video]"
     ]
    },
    {
     "name": "stdout",
     "output_type": "stream",
     "text": [
      "Saved 60312.mp4 as type_frames.npy\n"
     ]
    },
    {
     "name": "stderr",
     "output_type": "stream",
     "text": [
      "\rProcessing Videos:   9%|▉         | 1057/11980 [31:35<3:29:08,  1.15s/video]"
     ]
    },
    {
     "name": "stdout",
     "output_type": "stream",
     "text": [
      "Saved 60354.mp4 as ugly_frames.npy\n"
     ]
    },
    {
     "name": "stderr",
     "output_type": "stream",
     "text": [
      "\rProcessing Videos:   9%|▉         | 1058/11980 [31:36<3:16:43,  1.08s/video]"
     ]
    },
    {
     "name": "stdout",
     "output_type": "stream",
     "text": [
      "Saved 60545.mp4 as understand_frames.npy\n"
     ]
    },
    {
     "name": "stderr",
     "output_type": "stream",
     "text": [
      "\rProcessing Videos:   9%|▉         | 1059/11980 [31:36<2:44:09,  1.11video/s]"
     ]
    },
    {
     "name": "stdout",
     "output_type": "stream",
     "text": [
      "Saved 60353.mp4 as ugly_frames.npy\n"
     ]
    },
    {
     "name": "stderr",
     "output_type": "stream",
     "text": [
      "\rProcessing Videos:   9%|▉         | 1060/11980 [31:38<3:42:42,  1.22s/video]"
     ]
    },
    {
     "name": "stdout",
     "output_type": "stream",
     "text": [
      "Saved 60915.mp4 as up_frames.npy\n"
     ]
    },
    {
     "name": "stderr",
     "output_type": "stream",
     "text": [
      "\rProcessing Videos:   9%|▉         | 1061/11980 [31:39<3:01:35,  1.00video/s]"
     ]
    },
    {
     "name": "stdout",
     "output_type": "stream",
     "text": [
      "Saved 60708.mp4 as unique_frames.npy\n"
     ]
    },
    {
     "name": "stderr",
     "output_type": "stream",
     "text": [
      "\rProcessing Videos:   9%|▉         | 1062/11980 [31:42<5:02:16,  1.66s/video]"
     ]
    },
    {
     "name": "stdout",
     "output_type": "stream",
     "text": [
      "Saved 61143.mp4 as vacation_frames.npy\n"
     ]
    },
    {
     "name": "stderr",
     "output_type": "stream",
     "text": [
      "\rProcessing Videos:   9%|▉         | 1063/11980 [31:43<4:17:14,  1.41s/video]"
     ]
    },
    {
     "name": "stdout",
     "output_type": "stream",
     "text": [
      "Saved 60954.mp4 as upset_frames.npy\n"
     ]
    },
    {
     "name": "stderr",
     "output_type": "stream",
     "text": [
      "\rProcessing Videos:   9%|▉         | 1064/11980 [31:45<4:31:16,  1.49s/video]"
     ]
    },
    {
     "name": "stdout",
     "output_type": "stream",
     "text": [
      "Saved 60968.mp4 as upstairs_frames.npy\n"
     ]
    },
    {
     "name": "stderr",
     "output_type": "stream",
     "text": [
      "\rProcessing Videos:   9%|▉         | 1065/11980 [31:45<3:57:10,  1.30s/video]"
     ]
    },
    {
     "name": "stdout",
     "output_type": "stream",
     "text": [
      "Saved 60907.mp4 as up_frames.npy\n"
     ]
    },
    {
     "name": "stderr",
     "output_type": "stream",
     "text": [
      "\rProcessing Videos:   9%|▉         | 1066/11980 [31:47<4:38:52,  1.53s/video]"
     ]
    },
    {
     "name": "stdout",
     "output_type": "stream",
     "text": [
      "Saved 61144.mp4 as vacation_frames.npy\n"
     ]
    },
    {
     "name": "stderr",
     "output_type": "stream",
     "text": [
      "\rProcessing Videos:   9%|▉         | 1067/11980 [31:48<4:04:00,  1.34s/video]"
     ]
    },
    {
     "name": "stdout",
     "output_type": "stream",
     "text": [
      "Saved 61142.mp4 as vacation_frames.npy\n"
     ]
    },
    {
     "name": "stderr",
     "output_type": "stream",
     "text": [
      "\rProcessing Videos:   9%|▉         | 1068/11980 [31:51<5:29:02,  1.81s/video]"
     ]
    },
    {
     "name": "stdout",
     "output_type": "stream",
     "text": [
      "Saved 60724.mp4 as united states_frames.npy\n"
     ]
    },
    {
     "name": "stderr",
     "output_type": "stream",
     "text": [
      "\rProcessing Videos:   9%|▉         | 1069/11980 [31:53<5:20:19,  1.76s/video]"
     ]
    },
    {
     "name": "stdout",
     "output_type": "stream",
     "text": [
      "Saved 60860.mp4 as until_frames.npy\n"
     ]
    },
    {
     "name": "stderr",
     "output_type": "stream",
     "text": [
      "\rProcessing Videos:   9%|▉         | 1070/11980 [31:55<5:25:53,  1.79s/video]"
     ]
    },
    {
     "name": "stdout",
     "output_type": "stream",
     "text": [
      "Saved 60951.mp4 as upset_frames.npy\n"
     ]
    },
    {
     "name": "stderr",
     "output_type": "stream",
     "text": [
      "\rProcessing Videos:   9%|▉         | 1071/11980 [31:56<4:31:40,  1.49s/video]"
     ]
    },
    {
     "name": "stdout",
     "output_type": "stream",
     "text": [
      "Saved 60765.mp4 as university_frames.npy\n"
     ]
    },
    {
     "name": "stderr",
     "output_type": "stream",
     "text": [
      "\rProcessing Videos:   9%|▉         | 1072/11980 [31:57<4:00:27,  1.32s/video]"
     ]
    },
    {
     "name": "stdout",
     "output_type": "stream",
     "text": [
      "Saved 60760.mp4 as university_frames.npy\n"
     ]
    },
    {
     "name": "stderr",
     "output_type": "stream",
     "text": [
      "\rProcessing Videos:   9%|▉         | 1073/11980 [32:00<6:01:15,  1.99s/video]"
     ]
    },
    {
     "name": "stdout",
     "output_type": "stream",
     "text": [
      "Saved 60761.mp4 as university_frames.npy\n"
     ]
    },
    {
     "name": "stderr",
     "output_type": "stream",
     "text": [
      "\rProcessing Videos:   9%|▉         | 1074/11980 [32:01<4:54:22,  1.62s/video]"
     ]
    },
    {
     "name": "stdout",
     "output_type": "stream",
     "text": [
      "Saved 60722.mp4 as united states_frames.npy\n"
     ]
    },
    {
     "name": "stderr",
     "output_type": "stream",
     "text": [
      "\rProcessing Videos:   9%|▉         | 1075/11980 [32:02<4:52:24,  1.61s/video]"
     ]
    },
    {
     "name": "stdout",
     "output_type": "stream",
     "text": [
      "Saved 60768.mp4 as university_frames.npy\n"
     ]
    },
    {
     "name": "stderr",
     "output_type": "stream",
     "text": [
      "\rProcessing Videos:   9%|▉         | 1076/11980 [32:06<6:15:32,  2.07s/video]"
     ]
    },
    {
     "name": "stdout",
     "output_type": "stream",
     "text": [
      "Saved 61057.mp4 as use_frames.npy\n"
     ]
    },
    {
     "name": "stderr",
     "output_type": "stream",
     "text": [
      "\rProcessing Videos:   9%|▉         | 1077/11980 [32:07<5:44:18,  1.89s/video]"
     ]
    },
    {
     "name": "stdout",
     "output_type": "stream",
     "text": [
      "Saved 60709.mp4 as unique_frames.npy\n"
     ]
    },
    {
     "name": "stderr",
     "output_type": "stream",
     "text": [
      "\rProcessing Videos:   9%|▉         | 1078/11980 [32:08<4:52:17,  1.61s/video]"
     ]
    },
    {
     "name": "stdout",
     "output_type": "stream",
     "text": [
      "Saved 60948.mp4 as upset_frames.npy\n"
     ]
    },
    {
     "name": "stderr",
     "output_type": "stream",
     "text": [
      "\rProcessing Videos:   9%|▉         | 1079/11980 [32:11<6:10:07,  2.04s/video]"
     ]
    },
    {
     "name": "stdout",
     "output_type": "stream",
     "text": [
      "Saved 60723.mp4 as united states_frames.npy\n"
     ]
    },
    {
     "name": "stderr",
     "output_type": "stream",
     "text": [
      "\rProcessing Videos:   9%|▉         | 1080/11980 [32:12<5:24:08,  1.78s/video]"
     ]
    },
    {
     "name": "stdout",
     "output_type": "stream",
     "text": [
      "Saved 60762.mp4 as university_frames.npy\n"
     ]
    },
    {
     "name": "stderr",
     "output_type": "stream",
     "text": [
      "\rProcessing Videos:   9%|▉         | 1081/11980 [32:13<4:15:14,  1.41s/video]"
     ]
    },
    {
     "name": "stdout",
     "output_type": "stream",
     "text": [
      "Saved 61138.mp4 as vacant_frames.npy\n"
     ]
    },
    {
     "name": "stderr",
     "output_type": "stream",
     "text": [
      "\rProcessing Videos:   9%|▉         | 1082/11980 [32:14<4:31:12,  1.49s/video]"
     ]
    },
    {
     "name": "stdout",
     "output_type": "stream",
     "text": [
      "Saved 60763.mp4 as university_frames.npy\n"
     ]
    },
    {
     "name": "stderr",
     "output_type": "stream",
     "text": [
      "\rProcessing Videos:   9%|▉         | 1083/11980 [32:16<4:58:23,  1.64s/video]"
     ]
    },
    {
     "name": "stdout",
     "output_type": "stream",
     "text": [
      "Saved 60853.mp4 as until_frames.npy\n"
     ]
    },
    {
     "name": "stderr",
     "output_type": "stream",
     "text": [
      "\rProcessing Videos:   9%|▉         | 1084/11980 [32:17<4:15:30,  1.41s/video]"
     ]
    },
    {
     "name": "stdout",
     "output_type": "stream",
     "text": [
      "Saved 61135.mp4 as vacant_frames.npy\n"
     ]
    },
    {
     "name": "stderr",
     "output_type": "stream",
     "text": [
      "\rProcessing Videos:   9%|▉         | 1085/11980 [32:19<4:39:25,  1.54s/video]"
     ]
    },
    {
     "name": "stdout",
     "output_type": "stream",
     "text": [
      "Saved 60952.mp4 as upset_frames.npy\n"
     ]
    },
    {
     "name": "stderr",
     "output_type": "stream",
     "text": [
      "\rProcessing Videos:   9%|▉         | 1086/11980 [32:21<5:08:41,  1.70s/video]"
     ]
    },
    {
     "name": "stdout",
     "output_type": "stream",
     "text": [
      "Saved 61140.mp4 as vacant_frames.npy\n"
     ]
    },
    {
     "name": "stderr",
     "output_type": "stream",
     "text": [
      "\rProcessing Videos:   9%|▉         | 1087/11980 [32:23<5:15:58,  1.74s/video]"
     ]
    },
    {
     "name": "stdout",
     "output_type": "stream",
     "text": [
      "Saved 61058.mp4 as use_frames.npy\n"
     ]
    },
    {
     "name": "stderr",
     "output_type": "stream",
     "text": [
      "\rProcessing Videos:   9%|▉         | 1088/11980 [32:25<5:22:27,  1.78s/video]"
     ]
    },
    {
     "name": "stdout",
     "output_type": "stream",
     "text": [
      "Saved 61070.mp4 as use_frames.npy\n"
     ]
    },
    {
     "name": "stderr",
     "output_type": "stream",
     "text": [
      "\rProcessing Videos:   9%|▉         | 1089/11980 [32:25<4:12:08,  1.39s/video]"
     ]
    },
    {
     "name": "stdout",
     "output_type": "stream",
     "text": [
      "Saved 61146.mp4 as vacation_frames.npy\n"
     ]
    },
    {
     "name": "stderr",
     "output_type": "stream",
     "text": [
      "\rProcessing Videos:   9%|▉         | 1090/11980 [32:26<3:30:53,  1.16s/video]"
     ]
    },
    {
     "name": "stdout",
     "output_type": "stream",
     "text": [
      "Saved 60970.mp4 as upstairs_frames.npy\n"
     ]
    },
    {
     "name": "stderr",
     "output_type": "stream",
     "text": [
      "\rProcessing Videos:   9%|▉         | 1091/11980 [32:28<3:51:41,  1.28s/video]"
     ]
    },
    {
     "name": "stdout",
     "output_type": "stream",
     "text": [
      "Saved 60730.mp4 as united states_frames.npy\n"
     ]
    },
    {
     "name": "stderr",
     "output_type": "stream",
     "text": [
      "\rProcessing Videos:   9%|▉         | 1092/11980 [32:30<5:16:34,  1.74s/video]"
     ]
    },
    {
     "name": "stdout",
     "output_type": "stream",
     "text": [
      "Saved 60949.mp4 as upset_frames.npy\n"
     ]
    },
    {
     "name": "stderr",
     "output_type": "stream",
     "text": [
      "\rProcessing Videos:   9%|▉         | 1093/11980 [32:31<4:36:17,  1.52s/video]"
     ]
    },
    {
     "name": "stdout",
     "output_type": "stream",
     "text": [
      "Saved 60851.mp4 as until_frames.npy\n"
     ]
    },
    {
     "name": "stderr",
     "output_type": "stream",
     "text": [
      "\rProcessing Videos:   9%|▉         | 1094/11980 [32:34<6:01:21,  1.99s/video]"
     ]
    },
    {
     "name": "stdout",
     "output_type": "stream",
     "text": [
      "Saved 60852.mp4 as until_frames.npy\n"
     ]
    },
    {
     "name": "stderr",
     "output_type": "stream",
     "text": [
      "\rProcessing Videos:   9%|▉         | 1095/11980 [32:36<5:48:36,  1.92s/video]"
     ]
    },
    {
     "name": "stdout",
     "output_type": "stream",
     "text": [
      "Saved 60909.mp4 as up_frames.npy\n"
     ]
    },
    {
     "name": "stderr",
     "output_type": "stream",
     "text": [
      "\rProcessing Videos:   9%|▉         | 1096/11980 [32:38<5:38:21,  1.87s/video]"
     ]
    },
    {
     "name": "stdout",
     "output_type": "stream",
     "text": [
      "Saved 60910.mp4 as up_frames.npy\n"
     ]
    },
    {
     "name": "stderr",
     "output_type": "stream",
     "text": [
      "\rProcessing Videos:   9%|▉         | 1097/11980 [32:40<5:47:11,  1.91s/video]"
     ]
    },
    {
     "name": "stdout",
     "output_type": "stream",
     "text": [
      "Saved 60967.mp4 as upstairs_frames.npy\n"
     ]
    },
    {
     "name": "stderr",
     "output_type": "stream",
     "text": [
      "\rProcessing Videos:   9%|▉         | 1098/11980 [32:42<5:46:36,  1.91s/video]"
     ]
    },
    {
     "name": "stdout",
     "output_type": "stream",
     "text": [
      "Saved 60950.mp4 as upset_frames.npy\n"
     ]
    },
    {
     "name": "stderr",
     "output_type": "stream",
     "text": [
      "\rProcessing Videos:   9%|▉         | 1099/11980 [32:43<4:51:24,  1.61s/video]"
     ]
    },
    {
     "name": "stdout",
     "output_type": "stream",
     "text": [
      "Saved 61056.mp4 as use_frames.npy\n"
     ]
    },
    {
     "name": "stderr",
     "output_type": "stream",
     "text": [
      "\rProcessing Videos:   9%|▉         | 1100/11980 [32:45<5:00:11,  1.66s/video]"
     ]
    },
    {
     "name": "stdout",
     "output_type": "stream",
     "text": [
      "Saved 60854.mp4 as until_frames.npy\n"
     ]
    },
    {
     "name": "stderr",
     "output_type": "stream",
     "text": [
      "\rProcessing Videos:   9%|▉         | 1101/11980 [32:45<3:54:14,  1.29s/video]"
     ]
    },
    {
     "name": "stdout",
     "output_type": "stream",
     "text": [
      "Saved 60856.mp4 as until_frames.npy\n"
     ]
    },
    {
     "name": "stderr",
     "output_type": "stream",
     "text": [
      "\rProcessing Videos:   9%|▉         | 1102/11980 [32:46<3:20:44,  1.11s/video]"
     ]
    },
    {
     "name": "stdout",
     "output_type": "stream",
     "text": [
      "Saved 60728.mp4 as united states_frames.npy\n"
     ]
    },
    {
     "name": "stderr",
     "output_type": "stream",
     "text": [
      "\rProcessing Videos:   9%|▉         | 1103/11980 [32:48<4:04:57,  1.35s/video]"
     ]
    },
    {
     "name": "stdout",
     "output_type": "stream",
     "text": [
      "Saved 61136.mp4 as vacant_frames.npy\n"
     ]
    },
    {
     "name": "stderr",
     "output_type": "stream",
     "text": [
      "\rProcessing Videos:   9%|▉         | 1104/11980 [32:48<3:21:48,  1.11s/video]"
     ]
    },
    {
     "name": "stdout",
     "output_type": "stream",
     "text": [
      "Saved 60912.mp4 as up_frames.npy\n"
     ]
    },
    {
     "name": "stderr",
     "output_type": "stream",
     "text": [
      "\rProcessing Videos:   9%|▉         | 1105/11980 [32:50<3:39:39,  1.21s/video]"
     ]
    },
    {
     "name": "stdout",
     "output_type": "stream",
     "text": [
      "Saved 60956.mp4 as upset_frames.npy\n"
     ]
    },
    {
     "name": "stderr",
     "output_type": "stream",
     "text": [
      "\rProcessing Videos:   9%|▉         | 1106/11980 [32:50<3:02:14,  1.01s/video]"
     ]
    },
    {
     "name": "stdout",
     "output_type": "stream",
     "text": [
      "Saved 61062.mp4 as use_frames.npy\n"
     ]
    },
    {
     "name": "stderr",
     "output_type": "stream",
     "text": [
      "\rProcessing Videos:   9%|▉         | 1107/11980 [32:52<4:00:25,  1.33s/video]"
     ]
    },
    {
     "name": "stdout",
     "output_type": "stream",
     "text": [
      "Saved 61370.mp4 as vegetable_frames.npy\n"
     ]
    },
    {
     "name": "stderr",
     "output_type": "stream",
     "text": [
      "\rProcessing Videos:   9%|▉         | 1108/11980 [32:54<4:39:00,  1.54s/video]"
     ]
    },
    {
     "name": "stdout",
     "output_type": "stream",
     "text": [
      "Saved 61222.mp4 as valley_frames.npy\n"
     ]
    },
    {
     "name": "stderr",
     "output_type": "stream",
     "text": [
      "\rProcessing Videos:   9%|▉         | 1109/11980 [32:55<4:06:41,  1.36s/video]"
     ]
    },
    {
     "name": "stdout",
     "output_type": "stream",
     "text": [
      "Saved 61738.mp4 as violin_frames.npy\n"
     ]
    },
    {
     "name": "stderr",
     "output_type": "stream",
     "text": [
      "\rProcessing Videos:   9%|▉         | 1110/11980 [32:57<4:20:41,  1.44s/video]"
     ]
    },
    {
     "name": "stdout",
     "output_type": "stream",
     "text": [
      "Saved 61515.mp4 as very_frames.npy\n"
     ]
    },
    {
     "name": "stderr",
     "output_type": "stream",
     "text": [
      "\rProcessing Videos:   9%|▉         | 1111/11980 [32:57<3:30:14,  1.16s/video]"
     ]
    },
    {
     "name": "stdout",
     "output_type": "stream",
     "text": [
      "Saved 61563.mp4 as v_frames.npy\n"
     ]
    },
    {
     "name": "stderr",
     "output_type": "stream",
     "text": [
      "\rProcessing Videos:   9%|▉         | 1112/11980 [33:00<4:33:02,  1.51s/video]"
     ]
    },
    {
     "name": "stdout",
     "output_type": "stream",
     "text": [
      "Saved 61739.mp4 as violin_frames.npy\n"
     ]
    },
    {
     "name": "stderr",
     "output_type": "stream",
     "text": [
      "\rProcessing Videos:   9%|▉         | 1113/11980 [33:01<4:41:37,  1.55s/video]"
     ]
    },
    {
     "name": "stdout",
     "output_type": "stream",
     "text": [
      "Saved 61702.mp4 as viewpoint_frames.npy\n"
     ]
    },
    {
     "name": "stderr",
     "output_type": "stream",
     "text": [
      "\rProcessing Videos:   9%|▉         | 1114/11980 [33:02<3:51:49,  1.28s/video]"
     ]
    },
    {
     "name": "stdout",
     "output_type": "stream",
     "text": [
      "Saved 61368.mp4 as vegetable_frames.npy\n"
     ]
    },
    {
     "name": "stderr",
     "output_type": "stream",
     "text": [
      "\rProcessing Videos:   9%|▉         | 1115/11980 [33:02<3:09:52,  1.05s/video]"
     ]
    },
    {
     "name": "stdout",
     "output_type": "stream",
     "text": [
      "Saved 61700.mp4 as viewpoint_frames.npy\n"
     ]
    },
    {
     "name": "stderr",
     "output_type": "stream",
     "text": [
      "\rProcessing Videos:   9%|▉         | 1116/11980 [33:04<3:52:26,  1.28s/video]"
     ]
    },
    {
     "name": "stdout",
     "output_type": "stream",
     "text": [
      "Saved 61444.mp4 as verb_frames.npy\n"
     ]
    },
    {
     "name": "stderr",
     "output_type": "stream",
     "text": [
      "\rProcessing Videos:   9%|▉         | 1117/11980 [33:06<4:19:44,  1.43s/video]"
     ]
    },
    {
     "name": "stdout",
     "output_type": "stream",
     "text": [
      "Saved 61233.mp4 as value_frames.npy\n"
     ]
    },
    {
     "name": "stderr",
     "output_type": "stream",
     "text": [
      "\rProcessing Videos:   9%|▉         | 1118/11980 [33:07<3:42:42,  1.23s/video]"
     ]
    },
    {
     "name": "stdout",
     "output_type": "stream",
     "text": [
      "Saved 61191.mp4 as vague_frames.npy\n"
     ]
    },
    {
     "name": "stderr",
     "output_type": "stream",
     "text": [
      "\rProcessing Videos:   9%|▉         | 1119/11980 [33:09<4:14:30,  1.41s/video]"
     ]
    },
    {
     "name": "stdout",
     "output_type": "stream",
     "text": [
      "Saved 61740.mp4 as violin_frames.npy\n"
     ]
    },
    {
     "name": "stderr",
     "output_type": "stream",
     "text": [
      "\rProcessing Videos:   9%|▉         | 1120/11980 [33:11<5:10:35,  1.72s/video]"
     ]
    },
    {
     "name": "stdout",
     "output_type": "stream",
     "text": [
      "Saved 61189.mp4 as vague_frames.npy\n"
     ]
    },
    {
     "name": "stderr",
     "output_type": "stream",
     "text": [
      "\rProcessing Videos:   9%|▉         | 1121/11980 [33:12<4:44:16,  1.57s/video]"
     ]
    },
    {
     "name": "stdout",
     "output_type": "stream",
     "text": [
      "Saved 61509.mp4 as very_frames.npy\n"
     ]
    },
    {
     "name": "stderr",
     "output_type": "stream",
     "text": [
      "\rProcessing Videos:   9%|▉         | 1122/11980 [33:14<4:51:30,  1.61s/video]"
     ]
    },
    {
     "name": "stdout",
     "output_type": "stream",
     "text": [
      "Saved 61745.mp4 as violin_frames.npy\n"
     ]
    },
    {
     "name": "stderr",
     "output_type": "stream",
     "text": [
      "\rProcessing Videos:   9%|▉         | 1123/11980 [33:15<4:08:19,  1.37s/video]"
     ]
    },
    {
     "name": "stdout",
     "output_type": "stream",
     "text": [
      "Saved 61246.mp4 as vampire_frames.npy\n"
     ]
    },
    {
     "name": "stderr",
     "output_type": "stream",
     "text": [
      "\rProcessing Videos:   9%|▉         | 1124/11980 [33:16<3:35:01,  1.19s/video]"
     ]
    },
    {
     "name": "stdout",
     "output_type": "stream",
     "text": [
      "Saved 61701.mp4 as viewpoint_frames.npy\n"
     ]
    },
    {
     "name": "stderr",
     "output_type": "stream",
     "text": [
      "\rProcessing Videos:   9%|▉         | 1125/11980 [33:17<3:24:28,  1.13s/video]"
     ]
    },
    {
     "name": "stdout",
     "output_type": "stream",
     "text": [
      "Saved 61188.mp4 as vague_frames.npy\n"
     ]
    },
    {
     "name": "stderr",
     "output_type": "stream",
     "text": [
      "\rProcessing Videos:   9%|▉         | 1126/11980 [33:17<3:10:40,  1.05s/video]"
     ]
    },
    {
     "name": "stdout",
     "output_type": "stream",
     "text": [
      "Saved 61743.mp4 as violin_frames.npy\n"
     ]
    },
    {
     "name": "stderr",
     "output_type": "stream",
     "text": [
      "\rProcessing Videos:   9%|▉         | 1127/11980 [33:19<3:52:56,  1.29s/video]"
     ]
    },
    {
     "name": "stdout",
     "output_type": "stream",
     "text": [
      "Saved 61193.mp4 as vague_frames.npy\n"
     ]
    },
    {
     "name": "stderr",
     "output_type": "stream",
     "text": [
      "\rProcessing Videos:   9%|▉         | 1128/11980 [33:21<4:19:02,  1.43s/video]"
     ]
    },
    {
     "name": "stdout",
     "output_type": "stream",
     "text": [
      "Saved 61371.mp4 as vegetable_frames.npy\n"
     ]
    },
    {
     "name": "stderr",
     "output_type": "stream",
     "text": [
      "\rProcessing Videos:   9%|▉         | 1129/11980 [33:23<4:58:54,  1.65s/video]"
     ]
    },
    {
     "name": "stdout",
     "output_type": "stream",
     "text": [
      "Saved 61561.mp4 as v_frames.npy\n"
     ]
    },
    {
     "name": "stderr",
     "output_type": "stream",
     "text": [
      "\rProcessing Videos:   9%|▉         | 1130/11980 [33:25<5:05:00,  1.69s/video]"
     ]
    },
    {
     "name": "stdout",
     "output_type": "stream",
     "text": [
      "Saved 61247.mp4 as vampire_frames.npy\n"
     ]
    },
    {
     "name": "stderr",
     "output_type": "stream",
     "text": [
      "\rProcessing Videos:   9%|▉         | 1131/11980 [33:26<4:36:49,  1.53s/video]"
     ]
    },
    {
     "name": "stdout",
     "output_type": "stream",
     "text": [
      "Saved 61443.mp4 as verb_frames.npy\n"
     ]
    },
    {
     "name": "stderr",
     "output_type": "stream",
     "text": [
      "\rProcessing Videos:   9%|▉         | 1132/11980 [33:28<4:59:09,  1.65s/video]"
     ]
    },
    {
     "name": "stdout",
     "output_type": "stream",
     "text": [
      "Saved 61365.mp4 as vegetable_frames.npy\n"
     ]
    },
    {
     "name": "stderr",
     "output_type": "stream",
     "text": [
      "\rProcessing Videos:   9%|▉         | 1133/11980 [33:29<3:56:40,  1.31s/video]"
     ]
    },
    {
     "name": "stdout",
     "output_type": "stream",
     "text": [
      "Saved 61236.mp4 as value_frames.npy\n"
     ]
    },
    {
     "name": "stderr",
     "output_type": "stream",
     "text": [
      "\rProcessing Videos:   9%|▉         | 1134/11980 [33:30<4:18:34,  1.43s/video]"
     ]
    },
    {
     "name": "stdout",
     "output_type": "stream",
     "text": [
      "Saved 61150.mp4 as vacation_frames.npy\n"
     ]
    },
    {
     "name": "stderr",
     "output_type": "stream",
     "text": [
      "\rProcessing Videos:   9%|▉         | 1135/11980 [33:31<3:48:49,  1.27s/video]"
     ]
    },
    {
     "name": "stdout",
     "output_type": "stream",
     "text": [
      "Saved 61742.mp4 as violin_frames.npy\n"
     ]
    },
    {
     "name": "stderr",
     "output_type": "stream",
     "text": [
      "\rProcessing Videos:   9%|▉         | 1136/11980 [33:33<4:28:01,  1.48s/video]"
     ]
    },
    {
     "name": "stdout",
     "output_type": "stream",
     "text": [
      "Saved 61590.mp4 as vice president_frames.npy\n"
     ]
    },
    {
     "name": "stderr",
     "output_type": "stream",
     "text": [
      "\rProcessing Videos:   9%|▉         | 1137/11980 [33:35<4:30:24,  1.50s/video]"
     ]
    },
    {
     "name": "stdout",
     "output_type": "stream",
     "text": [
      "Saved 61565.mp4 as v_frames.npy\n"
     ]
    },
    {
     "name": "stderr",
     "output_type": "stream",
     "text": [
      "\rProcessing Videos:   9%|▉         | 1138/11980 [33:36<4:06:54,  1.37s/video]"
     ]
    },
    {
     "name": "stdout",
     "output_type": "stream",
     "text": [
      "Saved 61805.mp4 as visit_frames.npy\n"
     ]
    },
    {
     "name": "stderr",
     "output_type": "stream",
     "text": [
      "\rProcessing Videos:  10%|▉         | 1139/11980 [33:37<4:18:26,  1.43s/video]"
     ]
    },
    {
     "name": "stdout",
     "output_type": "stream",
     "text": [
      "Saved 61510.mp4 as very_frames.npy\n"
     ]
    },
    {
     "name": "stderr",
     "output_type": "stream",
     "text": [
      "\rProcessing Videos:  10%|▉         | 1140/11980 [33:39<4:38:50,  1.54s/video]"
     ]
    },
    {
     "name": "stdout",
     "output_type": "stream",
     "text": [
      "Saved 61221.mp4 as valley_frames.npy\n"
     ]
    },
    {
     "name": "stderr",
     "output_type": "stream",
     "text": [
      "\rProcessing Videos:  10%|▉         | 1141/11980 [33:40<3:58:51,  1.32s/video]"
     ]
    },
    {
     "name": "stdout",
     "output_type": "stream",
     "text": [
      "Saved 61699.mp4 as viewpoint_frames.npy\n"
     ]
    },
    {
     "name": "stderr",
     "output_type": "stream",
     "text": [
      "\rProcessing Videos:  10%|▉         | 1142/11980 [33:41<3:16:47,  1.09s/video]"
     ]
    },
    {
     "name": "stdout",
     "output_type": "stream",
     "text": [
      "Saved 61237.mp4 as value_frames.npy\n"
     ]
    },
    {
     "name": "stderr",
     "output_type": "stream",
     "text": [
      "\rProcessing Videos:  10%|▉         | 1143/11980 [33:42<3:56:46,  1.31s/video]"
     ]
    },
    {
     "name": "stdout",
     "output_type": "stream",
     "text": [
      "Saved 61697.mp4 as viewpoint_frames.npy\n"
     ]
    },
    {
     "name": "stderr",
     "output_type": "stream",
     "text": [
      "\rProcessing Videos:  10%|▉         | 1144/11980 [33:43<3:13:14,  1.07s/video]"
     ]
    },
    {
     "name": "stdout",
     "output_type": "stream",
     "text": [
      "Saved 61592.mp4 as vice president_frames.npy\n"
     ]
    },
    {
     "name": "stderr",
     "output_type": "stream",
     "text": [
      "\rProcessing Videos:  10%|▉         | 1145/11980 [33:43<2:42:51,  1.11video/s]"
     ]
    },
    {
     "name": "stdout",
     "output_type": "stream",
     "text": [
      "Saved 61512.mp4 as very_frames.npy\n"
     ]
    },
    {
     "name": "stderr",
     "output_type": "stream",
     "text": [
      "\rProcessing Videos:  10%|▉         | 1146/11980 [33:45<3:17:06,  1.09s/video]"
     ]
    },
    {
     "name": "stdout",
     "output_type": "stream",
     "text": [
      "Saved 61226.mp4 as valley_frames.npy\n"
     ]
    },
    {
     "name": "stderr",
     "output_type": "stream",
     "text": [
      "\rProcessing Videos:  10%|▉         | 1147/11980 [33:46<3:16:46,  1.09s/video]"
     ]
    },
    {
     "name": "stdout",
     "output_type": "stream",
     "text": [
      "Saved 61224.mp4 as valley_frames.npy\n"
     ]
    },
    {
     "name": "stderr",
     "output_type": "stream",
     "text": [
      "\rProcessing Videos:  10%|▉         | 1148/11980 [33:47<3:15:56,  1.09s/video]"
     ]
    },
    {
     "name": "stdout",
     "output_type": "stream",
     "text": [
      "Saved 61442.mp4 as verb_frames.npy\n"
     ]
    },
    {
     "name": "stderr",
     "output_type": "stream",
     "text": [
      "\rProcessing Videos:  10%|▉         | 1149/11980 [33:48<3:05:26,  1.03s/video]"
     ]
    },
    {
     "name": "stdout",
     "output_type": "stream",
     "text": [
      "Saved 61588.mp4 as vice president_frames.npy\n"
     ]
    },
    {
     "name": "stderr",
     "output_type": "stream",
     "text": [
      "\rProcessing Videos:  10%|▉         | 1150/11980 [33:50<3:40:35,  1.22s/video]"
     ]
    },
    {
     "name": "stdout",
     "output_type": "stream",
     "text": [
      "Saved 61595.mp4 as vice president_frames.npy\n"
     ]
    },
    {
     "name": "stderr",
     "output_type": "stream",
     "text": [
      "\rProcessing Videos:  10%|▉         | 1151/11980 [33:51<3:55:56,  1.31s/video]"
     ]
    },
    {
     "name": "stdout",
     "output_type": "stream",
     "text": [
      "Saved 61251.mp4 as vampire_frames.npy\n"
     ]
    },
    {
     "name": "stderr",
     "output_type": "stream",
     "text": [
      "\rProcessing Videos:  10%|▉         | 1152/11980 [33:53<4:11:20,  1.39s/video]"
     ]
    },
    {
     "name": "stdout",
     "output_type": "stream",
     "text": [
      "Saved 61449.mp4 as verb_frames.npy\n"
     ]
    },
    {
     "name": "stderr",
     "output_type": "stream",
     "text": [
      "\rProcessing Videos:  10%|▉         | 1153/11980 [33:53<3:18:46,  1.10s/video]"
     ]
    },
    {
     "name": "stdout",
     "output_type": "stream",
     "text": [
      "Saved 61249.mp4 as vampire_frames.npy\n"
     ]
    },
    {
     "name": "stderr",
     "output_type": "stream",
     "text": [
      "\rProcessing Videos:  10%|▉         | 1154/11980 [33:55<3:50:27,  1.28s/video]"
     ]
    },
    {
     "name": "stdout",
     "output_type": "stream",
     "text": [
      "Saved 61918.mp4 as voice_frames.npy\n"
     ]
    },
    {
     "name": "stderr",
     "output_type": "stream",
     "text": [
      "\rProcessing Videos:  10%|▉         | 1155/11980 [33:56<3:28:37,  1.16s/video]"
     ]
    },
    {
     "name": "stdout",
     "output_type": "stream",
     "text": [
      "Saved 61978.mp4 as vomit_frames.npy\n"
     ]
    },
    {
     "name": "stderr",
     "output_type": "stream",
     "text": [
      "\rProcessing Videos:  10%|▉         | 1156/11980 [33:57<3:13:28,  1.07s/video]"
     ]
    },
    {
     "name": "stdout",
     "output_type": "stream",
     "text": [
      "Saved 61915.mp4 as voice_frames.npy\n"
     ]
    },
    {
     "name": "stderr",
     "output_type": "stream",
     "text": [
      "\rProcessing Videos:  10%|▉         | 1157/11980 [33:58<3:30:51,  1.17s/video]"
     ]
    },
    {
     "name": "stdout",
     "output_type": "stream",
     "text": [
      "Saved 61980.mp4 as vomit_frames.npy\n"
     ]
    },
    {
     "name": "stderr",
     "output_type": "stream",
     "text": [
      "\rProcessing Videos:  10%|▉         | 1158/11980 [34:00<4:39:51,  1.55s/video]"
     ]
    },
    {
     "name": "stdout",
     "output_type": "stream",
     "text": [
      "Saved 61870.mp4 as vlog_frames.npy\n"
     ]
    },
    {
     "name": "stderr",
     "output_type": "stream",
     "text": [
      "\rProcessing Videos:  10%|▉         | 1159/11980 [34:01<3:48:50,  1.27s/video]"
     ]
    },
    {
     "name": "stdout",
     "output_type": "stream",
     "text": [
      "Saved 61850.mp4 as visualize_frames.npy\n"
     ]
    },
    {
     "name": "stderr",
     "output_type": "stream",
     "text": [
      "\rProcessing Videos:  10%|▉         | 1160/11980 [34:02<3:23:40,  1.13s/video]"
     ]
    },
    {
     "name": "stdout",
     "output_type": "stream",
     "text": [
      "Saved 61921.mp4 as voice_frames.npy\n"
     ]
    },
    {
     "name": "stderr",
     "output_type": "stream",
     "text": [
      "\rProcessing Videos:  10%|▉         | 1161/11980 [34:05<5:03:41,  1.68s/video]"
     ]
    },
    {
     "name": "stdout",
     "output_type": "stream",
     "text": [
      "Saved 61948.mp4 as volleyball_frames.npy\n"
     ]
    },
    {
     "name": "stderr",
     "output_type": "stream",
     "text": [
      "\rProcessing Videos:  10%|▉         | 1162/11980 [34:06<4:20:04,  1.44s/video]"
     ]
    },
    {
     "name": "stdout",
     "output_type": "stream",
     "text": [
      "Saved 61967.mp4 as volunteer_frames.npy\n"
     ]
    },
    {
     "name": "stderr",
     "output_type": "stream",
     "text": [
      "\rProcessing Videos:  10%|▉         | 1163/11980 [34:08<5:06:16,  1.70s/video]"
     ]
    },
    {
     "name": "stdout",
     "output_type": "stream",
     "text": [
      "Saved 61806.mp4 as visit_frames.npy\n"
     ]
    },
    {
     "name": "stderr",
     "output_type": "stream",
     "text": [
      "\rProcessing Videos:  10%|▉         | 1164/11980 [34:10<5:22:04,  1.79s/video]"
     ]
    },
    {
     "name": "stdout",
     "output_type": "stream",
     "text": [
      "Saved 61848.mp4 as visualize_frames.npy\n"
     ]
    },
    {
     "name": "stderr",
     "output_type": "stream",
     "text": [
      "\rProcessing Videos:  10%|▉         | 1165/11980 [34:11<4:28:29,  1.49s/video]"
     ]
    },
    {
     "name": "stdout",
     "output_type": "stream",
     "text": [
      "Saved 61846.mp4 as visualize_frames.npy\n"
     ]
    },
    {
     "name": "stderr",
     "output_type": "stream",
     "text": [
      "\rProcessing Videos:  10%|▉         | 1166/11980 [34:12<4:04:46,  1.36s/video]"
     ]
    },
    {
     "name": "stdout",
     "output_type": "stream",
     "text": [
      "Saved 61966.mp4 as volunteer_frames.npy\n"
     ]
    },
    {
     "name": "stderr",
     "output_type": "stream",
     "text": [
      "\rProcessing Videos:  10%|▉         | 1167/11980 [34:14<4:23:52,  1.46s/video]"
     ]
    },
    {
     "name": "stdout",
     "output_type": "stream",
     "text": [
      "Saved 61882.mp4 as vocabulary_frames.npy\n"
     ]
    },
    {
     "name": "stderr",
     "output_type": "stream",
     "text": [
      "\rProcessing Videos:  10%|▉         | 1168/11980 [34:14<3:33:28,  1.18s/video]"
     ]
    },
    {
     "name": "stdout",
     "output_type": "stream",
     "text": [
      "Saved 61971.mp4 as volunteer_frames.npy\n"
     ]
    },
    {
     "name": "stderr",
     "output_type": "stream",
     "text": [
      "\rProcessing Videos:  10%|▉         | 1169/11980 [34:18<5:37:26,  1.87s/video]"
     ]
    },
    {
     "name": "stdout",
     "output_type": "stream",
     "text": [
      "Saved 61869.mp4 as vlog_frames.npy\n"
     ]
    },
    {
     "name": "stderr",
     "output_type": "stream",
     "text": [
      "\rProcessing Videos:  10%|▉         | 1170/11980 [34:20<6:09:48,  2.05s/video]"
     ]
    },
    {
     "name": "stdout",
     "output_type": "stream",
     "text": [
      "Saved 61973.mp4 as volunteer_frames.npy\n"
     ]
    },
    {
     "name": "stderr",
     "output_type": "stream",
     "text": [
      "\rProcessing Videos:  10%|▉         | 1171/11980 [34:22<6:11:53,  2.06s/video]"
     ]
    },
    {
     "name": "stdout",
     "output_type": "stream",
     "text": [
      "Saved 61969.mp4 as volunteer_frames.npy\n"
     ]
    },
    {
     "name": "stderr",
     "output_type": "stream",
     "text": [
      "\rProcessing Videos:  10%|▉         | 1172/11980 [34:24<6:01:32,  2.01s/video]"
     ]
    },
    {
     "name": "stdout",
     "output_type": "stream",
     "text": [
      "Saved 61881.mp4 as vocabulary_frames.npy\n"
     ]
    },
    {
     "name": "stderr",
     "output_type": "stream",
     "text": [
      "\rProcessing Videos:  10%|▉         | 1173/11980 [34:27<7:13:39,  2.41s/video]"
     ]
    },
    {
     "name": "stdout",
     "output_type": "stream",
     "text": [
      "Saved 61979.mp4 as vomit_frames.npy\n"
     ]
    },
    {
     "name": "stderr",
     "output_type": "stream",
     "text": [
      "\rProcessing Videos:  10%|▉         | 1174/11980 [34:30<7:05:45,  2.36s/video]"
     ]
    },
    {
     "name": "stdout",
     "output_type": "stream",
     "text": [
      "Saved 61810.mp4 as visit_frames.npy\n"
     ]
    },
    {
     "name": "stderr",
     "output_type": "stream",
     "text": [
      "\rProcessing Videos:  10%|▉         | 1175/11980 [34:30<5:39:17,  1.88s/video]"
     ]
    },
    {
     "name": "stdout",
     "output_type": "stream",
     "text": [
      "Saved 61812.mp4 as visit_frames.npy\n"
     ]
    },
    {
     "name": "stderr",
     "output_type": "stream",
     "text": [
      "\rProcessing Videos:  10%|▉         | 1176/11980 [34:31<4:42:49,  1.57s/video]"
     ]
    },
    {
     "name": "stdout",
     "output_type": "stream",
     "text": [
      "Saved 61879.mp4 as vocabulary_frames.npy\n"
     ]
    },
    {
     "name": "stderr",
     "output_type": "stream",
     "text": [
      "\rProcessing Videos:  10%|▉         | 1177/11980 [34:33<4:56:31,  1.65s/video]"
     ]
    },
    {
     "name": "stdout",
     "output_type": "stream",
     "text": [
      "Saved 61827.mp4 as visitor_frames.npy\n"
     ]
    },
    {
     "name": "stderr",
     "output_type": "stream",
     "text": [
      "\rProcessing Videos:  10%|▉         | 1178/11980 [34:35<4:50:31,  1.61s/video]"
     ]
    },
    {
     "name": "stdout",
     "output_type": "stream",
     "text": [
      "Saved 61982.mp4 as vomit_frames.npy\n"
     ]
    },
    {
     "name": "stderr",
     "output_type": "stream",
     "text": [
      "\rProcessing Videos:  10%|▉         | 1179/11980 [34:36<5:05:20,  1.70s/video]"
     ]
    },
    {
     "name": "stdout",
     "output_type": "stream",
     "text": [
      "Saved 61917.mp4 as voice_frames.npy\n"
     ]
    },
    {
     "name": "stderr",
     "output_type": "stream",
     "text": [
      "\rProcessing Videos:  10%|▉         | 1180/11980 [34:38<4:46:55,  1.59s/video]"
     ]
    },
    {
     "name": "stdout",
     "output_type": "stream",
     "text": [
      "Saved 61914.mp4 as voice_frames.npy\n"
     ]
    },
    {
     "name": "stderr",
     "output_type": "stream",
     "text": [
      "\rProcessing Videos:  10%|▉         | 1181/11980 [34:40<4:58:22,  1.66s/video]"
     ]
    },
    {
     "name": "stdout",
     "output_type": "stream",
     "text": [
      "Saved 61950.mp4 as volleyball_frames.npy\n"
     ]
    },
    {
     "name": "stderr",
     "output_type": "stream",
     "text": [
      "\rProcessing Videos:  10%|▉         | 1182/11980 [34:42<5:35:54,  1.87s/video]"
     ]
    },
    {
     "name": "stdout",
     "output_type": "stream",
     "text": [
      "Saved 61968.mp4 as volunteer_frames.npy\n"
     ]
    },
    {
     "name": "stderr",
     "output_type": "stream",
     "text": [
      "\rProcessing Videos:  10%|▉         | 1183/11980 [34:43<4:25:30,  1.48s/video]"
     ]
    },
    {
     "name": "stdout",
     "output_type": "stream",
     "text": [
      "Saved 61886.mp4 as vocabulary_frames.npy\n"
     ]
    },
    {
     "name": "stderr",
     "output_type": "stream",
     "text": [
      "\rProcessing Videos:  10%|▉         | 1184/11980 [34:43<3:34:13,  1.19s/video]"
     ]
    },
    {
     "name": "stdout",
     "output_type": "stream",
     "text": [
      "Saved 61953.mp4 as volleyball_frames.npy\n"
     ]
    },
    {
     "name": "stderr",
     "output_type": "stream",
     "text": [
      "\rProcessing Videos:  10%|▉         | 1185/11980 [34:45<4:23:10,  1.46s/video]"
     ]
    },
    {
     "name": "stdout",
     "output_type": "stream",
     "text": [
      "Saved 61983.mp4 as vomit_frames.npy\n"
     ]
    },
    {
     "name": "stderr",
     "output_type": "stream",
     "text": [
      "\rProcessing Videos:  10%|▉         | 1186/11980 [34:46<3:58:44,  1.33s/video]"
     ]
    },
    {
     "name": "stdout",
     "output_type": "stream",
     "text": [
      "Saved 61826.mp4 as visitor_frames.npy\n"
     ]
    },
    {
     "name": "stderr",
     "output_type": "stream",
     "text": [
      "\rProcessing Videos:  10%|▉         | 1187/11980 [34:48<4:16:26,  1.43s/video]"
     ]
    },
    {
     "name": "stdout",
     "output_type": "stream",
     "text": [
      "Saved 61809.mp4 as visit_frames.npy\n"
     ]
    },
    {
     "name": "stderr",
     "output_type": "stream",
     "text": [
      "\rProcessing Videos:  10%|▉         | 1188/11980 [34:50<4:33:51,  1.52s/video]"
     ]
    },
    {
     "name": "stdout",
     "output_type": "stream",
     "text": [
      "Saved 61916.mp4 as voice_frames.npy\n"
     ]
    },
    {
     "name": "stderr",
     "output_type": "stream",
     "text": [
      "\rProcessing Videos:  10%|▉         | 1189/11980 [34:52<5:31:52,  1.85s/video]"
     ]
    },
    {
     "name": "stdout",
     "output_type": "stream",
     "text": [
      "Saved 61851.mp4 as visualize_frames.npy\n"
     ]
    },
    {
     "name": "stderr",
     "output_type": "stream",
     "text": [
      "\rProcessing Videos:  10%|▉         | 1190/11980 [34:53<4:44:30,  1.58s/video]"
     ]
    },
    {
     "name": "stdout",
     "output_type": "stream",
     "text": [
      "Saved 61947.mp4 as volleyball_frames.npy\n"
     ]
    },
    {
     "name": "stderr",
     "output_type": "stream",
     "text": [
      "\rProcessing Videos:  10%|▉         | 1191/11980 [34:54<4:10:13,  1.39s/video]"
     ]
    },
    {
     "name": "stdout",
     "output_type": "stream",
     "text": [
      "Saved 61829.mp4 as visitor_frames.npy\n"
     ]
    },
    {
     "name": "stderr",
     "output_type": "stream",
     "text": [
      "\rProcessing Videos:  10%|▉         | 1192/11980 [34:55<3:26:35,  1.15s/video]"
     ]
    },
    {
     "name": "stdout",
     "output_type": "stream",
     "text": [
      "Saved 61920.mp4 as voice_frames.npy\n"
     ]
    },
    {
     "name": "stderr",
     "output_type": "stream",
     "text": [
      "\rProcessing Videos:  10%|▉         | 1193/11980 [34:56<4:03:41,  1.36s/video]"
     ]
    },
    {
     "name": "stdout",
     "output_type": "stream",
     "text": [
      "Saved 61831.mp4 as visitor_frames.npy\n"
     ]
    },
    {
     "name": "stderr",
     "output_type": "stream",
     "text": [
      "\rProcessing Videos:  10%|▉         | 1194/11980 [34:58<4:16:56,  1.43s/video]"
     ]
    },
    {
     "name": "stdout",
     "output_type": "stream",
     "text": [
      "Saved 61889.mp4 as vocabulary_frames.npy\n"
     ]
    },
    {
     "name": "stderr",
     "output_type": "stream",
     "text": [
      "\rProcessing Videos:  10%|▉         | 1195/11980 [35:00<4:26:24,  1.48s/video]"
     ]
    },
    {
     "name": "stdout",
     "output_type": "stream",
     "text": [
      "Saved 61808.mp4 as visit_frames.npy\n"
     ]
    },
    {
     "name": "stderr",
     "output_type": "stream",
     "text": [
      "\rProcessing Videos:  10%|▉         | 1196/11980 [35:02<5:30:26,  1.84s/video]"
     ]
    },
    {
     "name": "stdout",
     "output_type": "stream",
     "text": [
      "Saved 61807.mp4 as visit_frames.npy\n"
     ]
    },
    {
     "name": "stderr",
     "output_type": "stream",
     "text": [
      "\rProcessing Videos:  10%|▉         | 1197/11980 [35:03<4:26:49,  1.48s/video]"
     ]
    },
    {
     "name": "stdout",
     "output_type": "stream",
     "text": [
      "Saved 61874.mp4 as vlog_frames.npy\n"
     ]
    },
    {
     "name": "stderr",
     "output_type": "stream",
     "text": [
      "\rProcessing Videos:  10%|█         | 1198/11980 [35:03<3:30:48,  1.17s/video]"
     ]
    },
    {
     "name": "stdout",
     "output_type": "stream",
     "text": [
      "Saved 61952.mp4 as volleyball_frames.npy\n"
     ]
    },
    {
     "name": "stderr",
     "output_type": "stream",
     "text": [
      "\rProcessing Videos:  10%|█         | 1199/11980 [35:05<4:05:08,  1.36s/video]"
     ]
    },
    {
     "name": "stdout",
     "output_type": "stream",
     "text": [
      "Saved 61819.mp4 as visit_frames.npy\n"
     ]
    },
    {
     "name": "stderr",
     "output_type": "stream",
     "text": [
      "\rProcessing Videos:  10%|█         | 1200/11980 [35:07<4:11:07,  1.40s/video]"
     ]
    },
    {
     "name": "stdout",
     "output_type": "stream",
     "text": [
      "Saved 61924.mp4 as voice_frames.npy\n"
     ]
    },
    {
     "name": "stderr",
     "output_type": "stream",
     "text": [
      "\rProcessing Videos:  10%|█         | 1201/11980 [35:08<4:24:02,  1.47s/video]"
     ]
    },
    {
     "name": "stdout",
     "output_type": "stream",
     "text": [
      "Saved 62150.mp4 as wake up_frames.npy\n"
     ]
    },
    {
     "name": "stderr",
     "output_type": "stream",
     "text": [
      "\rProcessing Videos:  10%|█         | 1202/11980 [35:09<4:03:25,  1.36s/video]"
     ]
    },
    {
     "name": "stdout",
     "output_type": "stream",
     "text": [
      "Saved 62097.mp4 as wait_frames.npy\n"
     ]
    },
    {
     "name": "stderr",
     "output_type": "stream",
     "text": [
      "\rProcessing Videos:  10%|█         | 1203/11980 [35:11<4:20:14,  1.45s/video]"
     ]
    },
    {
     "name": "stdout",
     "output_type": "stream",
     "text": [
      "Saved 61997.mp4 as vote_frames.npy\n"
     ]
    },
    {
     "name": "stderr",
     "output_type": "stream",
     "text": [
      "\rProcessing Videos:  10%|█         | 1204/11980 [35:13<4:40:24,  1.56s/video]"
     ]
    },
    {
     "name": "stdout",
     "output_type": "stream",
     "text": [
      "Saved 62203.mp4 as wall_frames.npy\n"
     ]
    },
    {
     "name": "stderr",
     "output_type": "stream",
     "text": [
      "\rProcessing Videos:  10%|█         | 1205/11980 [35:14<3:54:42,  1.31s/video]"
     ]
    },
    {
     "name": "stdout",
     "output_type": "stream",
     "text": [
      "Saved 62168.mp4 as walk_frames.npy\n"
     ]
    },
    {
     "name": "stderr",
     "output_type": "stream",
     "text": [
      "\rProcessing Videos:  10%|█         | 1206/11980 [35:15<4:16:40,  1.43s/video]"
     ]
    },
    {
     "name": "stdout",
     "output_type": "stream",
     "text": [
      "Saved 62003.mp4 as vote_frames.npy\n"
     ]
    },
    {
     "name": "stderr",
     "output_type": "stream",
     "text": [
      "\rProcessing Videos:  10%|█         | 1207/11980 [35:16<3:29:47,  1.17s/video]"
     ]
    },
    {
     "name": "stdout",
     "output_type": "stream",
     "text": [
      "Saved 62106.mp4 as wait_frames.npy\n"
     ]
    },
    {
     "name": "stderr",
     "output_type": "stream",
     "text": [
      "\rProcessing Videos:  10%|█         | 1208/11980 [35:17<3:15:10,  1.09s/video]"
     ]
    },
    {
     "name": "stdout",
     "output_type": "stream",
     "text": [
      "Saved 62229.mp4 as wander_frames.npy\n"
     ]
    },
    {
     "name": "stderr",
     "output_type": "stream",
     "text": [
      "\rProcessing Videos:  10%|█         | 1209/11980 [35:19<3:47:29,  1.27s/video]"
     ]
    },
    {
     "name": "stdout",
     "output_type": "stream",
     "text": [
      "Saved 62191.mp4 as wallet_frames.npy\n"
     ]
    },
    {
     "name": "stderr",
     "output_type": "stream",
     "text": [
      "\rProcessing Videos:  10%|█         | 1210/11980 [35:19<3:08:56,  1.05s/video]"
     ]
    },
    {
     "name": "stdout",
     "output_type": "stream",
     "text": [
      "Saved 62192.mp4 as wallet_frames.npy\n"
     ]
    },
    {
     "name": "stderr",
     "output_type": "stream",
     "text": [
      "\rProcessing Videos:  10%|█         | 1211/11980 [35:21<4:16:56,  1.43s/video]"
     ]
    },
    {
     "name": "stdout",
     "output_type": "stream",
     "text": [
      "Saved 62145.mp4 as wake up_frames.npy\n"
     ]
    },
    {
     "name": "stderr",
     "output_type": "stream",
     "text": [
      "\rProcessing Videos:  10%|█         | 1212/11980 [35:24<4:54:19,  1.64s/video]"
     ]
    },
    {
     "name": "stdout",
     "output_type": "stream",
     "text": [
      "Saved 62197.mp4 as wall_frames.npy\n"
     ]
    },
    {
     "name": "stderr",
     "output_type": "stream",
     "text": [
      "\rProcessing Videos:  10%|█         | 1213/11980 [35:25<5:04:56,  1.70s/video]"
     ]
    },
    {
     "name": "stdout",
     "output_type": "stream",
     "text": [
      "Saved 62103.mp4 as wait_frames.npy\n"
     ]
    },
    {
     "name": "stderr",
     "output_type": "stream",
     "text": [
      "\rProcessing Videos:  10%|█         | 1214/11980 [35:26<4:23:13,  1.47s/video]"
     ]
    },
    {
     "name": "stdout",
     "output_type": "stream",
     "text": [
      "Saved 62143.mp4 as wake up_frames.npy\n"
     ]
    },
    {
     "name": "stderr",
     "output_type": "stream",
     "text": [
      "\rProcessing Videos:  10%|█         | 1215/11980 [35:28<4:50:54,  1.62s/video]"
     ]
    },
    {
     "name": "stdout",
     "output_type": "stream",
     "text": [
      "Saved 61994.mp4 as vote_frames.npy\n"
     ]
    },
    {
     "name": "stderr",
     "output_type": "stream",
     "text": [
      "\rProcessing Videos:  10%|█         | 1216/11980 [35:30<4:55:53,  1.65s/video]"
     ]
    },
    {
     "name": "stdout",
     "output_type": "stream",
     "text": [
      "Saved 61990.mp4 as vomit_frames.npy\n"
     ]
    },
    {
     "name": "stderr",
     "output_type": "stream",
     "text": [
      "\rProcessing Videos:  10%|█         | 1217/11980 [35:32<5:03:09,  1.69s/video]"
     ]
    },
    {
     "name": "stdout",
     "output_type": "stream",
     "text": [
      "Saved 61984.mp4 as vomit_frames.npy\n"
     ]
    },
    {
     "name": "stderr",
     "output_type": "stream",
     "text": [
      "\rProcessing Videos:  10%|█         | 1218/11980 [35:33<4:50:50,  1.62s/video]"
     ]
    },
    {
     "name": "stdout",
     "output_type": "stream",
     "text": [
      "Saved 62175.mp4 as walk_frames.npy\n"
     ]
    },
    {
     "name": "stderr",
     "output_type": "stream",
     "text": [
      "\rProcessing Videos:  10%|█         | 1219/11980 [35:36<5:40:06,  1.90s/video]"
     ]
    },
    {
     "name": "stdout",
     "output_type": "stream",
     "text": [
      "Saved 62088.mp4 as waiter_frames.npy\n"
     ]
    },
    {
     "name": "stderr",
     "output_type": "stream",
     "text": [
      "\rProcessing Videos:  10%|█         | 1220/11980 [35:37<4:36:58,  1.54s/video]"
     ]
    },
    {
     "name": "stdout",
     "output_type": "stream",
     "text": [
      "Saved 62092.mp4 as waiter_frames.npy\n"
     ]
    },
    {
     "name": "stderr",
     "output_type": "stream",
     "text": [
      "\rProcessing Videos:  10%|█         | 1221/11980 [35:38<4:49:03,  1.61s/video]"
     ]
    },
    {
     "name": "stdout",
     "output_type": "stream",
     "text": [
      "Saved 62146.mp4 as wake up_frames.npy\n"
     ]
    },
    {
     "name": "stderr",
     "output_type": "stream",
     "text": [
      "\rProcessing Videos:  10%|█         | 1222/11980 [35:39<3:51:14,  1.29s/video]"
     ]
    },
    {
     "name": "stdout",
     "output_type": "stream",
     "text": [
      "Saved 62199.mp4 as wall_frames.npy\n"
     ]
    },
    {
     "name": "stderr",
     "output_type": "stream",
     "text": [
      "\rProcessing Videos:  10%|█         | 1223/11980 [35:40<4:06:33,  1.38s/video]"
     ]
    },
    {
     "name": "stdout",
     "output_type": "stream",
     "text": [
      "Saved 62195.mp4 as wallet_frames.npy\n"
     ]
    },
    {
     "name": "stderr",
     "output_type": "stream",
     "text": [
      "\rProcessing Videos:  10%|█         | 1224/11980 [35:41<3:19:56,  1.12s/video]"
     ]
    },
    {
     "name": "stdout",
     "output_type": "stream",
     "text": [
      "Saved 61986.mp4 as vomit_frames.npy\n"
     ]
    },
    {
     "name": "stderr",
     "output_type": "stream",
     "text": [
      "\rProcessing Videos:  10%|█         | 1225/11980 [35:42<3:07:19,  1.05s/video]"
     ]
    },
    {
     "name": "stdout",
     "output_type": "stream",
     "text": [
      "Saved 62189.mp4 as wallet_frames.npy\n"
     ]
    },
    {
     "name": "stderr",
     "output_type": "stream",
     "text": [
      "\rProcessing Videos:  10%|█         | 1226/11980 [35:45<4:38:29,  1.55s/video]"
     ]
    },
    {
     "name": "stdout",
     "output_type": "stream",
     "text": [
      "Saved 62196.mp4 as wall_frames.npy\n"
     ]
    },
    {
     "name": "stderr",
     "output_type": "stream",
     "text": [
      "\rProcessing Videos:  10%|█         | 1227/11980 [35:45<4:04:32,  1.36s/video]"
     ]
    },
    {
     "name": "stdout",
     "output_type": "stream",
     "text": [
      "Saved 62159.mp4 as walk_frames.npy\n"
     ]
    },
    {
     "name": "stderr",
     "output_type": "stream",
     "text": [
      "\rProcessing Videos:  10%|█         | 1228/11980 [35:46<3:33:52,  1.19s/video]"
     ]
    },
    {
     "name": "stdout",
     "output_type": "stream",
     "text": [
      "Saved 62000.mp4 as vote_frames.npy\n"
     ]
    },
    {
     "name": "stderr",
     "output_type": "stream",
     "text": [
      "\rProcessing Videos:  10%|█         | 1229/11980 [35:47<3:11:02,  1.07s/video]"
     ]
    },
    {
     "name": "stdout",
     "output_type": "stream",
     "text": [
      "Saved 62107.mp4 as wait_frames.npy\n"
     ]
    },
    {
     "name": "stderr",
     "output_type": "stream",
     "text": [
      "\rProcessing Videos:  10%|█         | 1230/11980 [35:48<3:09:29,  1.06s/video]"
     ]
    },
    {
     "name": "stdout",
     "output_type": "stream",
     "text": [
      "Saved 62087.mp4 as waiter_frames.npy\n"
     ]
    },
    {
     "name": "stderr",
     "output_type": "stream",
     "text": [
      "\rProcessing Videos:  10%|█         | 1231/11980 [35:50<3:41:58,  1.24s/video]"
     ]
    },
    {
     "name": "stdout",
     "output_type": "stream",
     "text": [
      "Saved 62164.mp4 as walk_frames.npy\n"
     ]
    },
    {
     "name": "stderr",
     "output_type": "stream",
     "text": [
      "\rProcessing Videos:  10%|█         | 1232/11980 [35:51<3:24:57,  1.14s/video]"
     ]
    },
    {
     "name": "stdout",
     "output_type": "stream",
     "text": [
      "Saved 61992.mp4 as vote_frames.npy\n"
     ]
    },
    {
     "name": "stderr",
     "output_type": "stream",
     "text": [
      "\rProcessing Videos:  10%|█         | 1233/11980 [35:53<4:25:25,  1.48s/video]"
     ]
    },
    {
     "name": "stdout",
     "output_type": "stream",
     "text": [
      "Saved 62102.mp4 as wait_frames.npy\n"
     ]
    },
    {
     "name": "stderr",
     "output_type": "stream",
     "text": [
      "\rProcessing Videos:  10%|█         | 1234/11980 [35:54<3:38:08,  1.22s/video]"
     ]
    },
    {
     "name": "stdout",
     "output_type": "stream",
     "text": [
      "Saved 62170.mp4 as walk_frames.npy\n"
     ]
    },
    {
     "name": "stderr",
     "output_type": "stream",
     "text": [
      "\rProcessing Videos:  10%|█         | 1235/11980 [35:54<2:57:10,  1.01video/s]"
     ]
    },
    {
     "name": "stdout",
     "output_type": "stream",
     "text": [
      "Saved 61987.mp4 as vomit_frames.npy\n"
     ]
    },
    {
     "name": "stderr",
     "output_type": "stream",
     "text": [
      "\rProcessing Videos:  10%|█         | 1236/11980 [35:56<3:26:49,  1.16s/video]"
     ]
    },
    {
     "name": "stdout",
     "output_type": "stream",
     "text": [
      "Saved 62160.mp4 as walk_frames.npy\n"
     ]
    },
    {
     "name": "stderr",
     "output_type": "stream",
     "text": [
      "\rProcessing Videos:  10%|█         | 1237/11980 [35:57<3:49:56,  1.28s/video]"
     ]
    },
    {
     "name": "stdout",
     "output_type": "stream",
     "text": [
      "Saved 62113.mp4 as wait_frames.npy\n"
     ]
    },
    {
     "name": "stderr",
     "output_type": "stream",
     "text": [
      "\rProcessing Videos:  10%|█         | 1238/11980 [35:58<3:23:00,  1.13s/video]"
     ]
    },
    {
     "name": "stdout",
     "output_type": "stream",
     "text": [
      "Saved 61993.mp4 as vote_frames.npy\n"
     ]
    },
    {
     "name": "stderr",
     "output_type": "stream",
     "text": [
      "\rProcessing Videos:  10%|█         | 1239/11980 [36:00<4:07:02,  1.38s/video]"
     ]
    },
    {
     "name": "stdout",
     "output_type": "stream",
     "text": [
      "Saved 62190.mp4 as wallet_frames.npy\n"
     ]
    },
    {
     "name": "stderr",
     "output_type": "stream",
     "text": [
      "\rProcessing Videos:  10%|█         | 1240/11980 [36:03<5:47:41,  1.94s/video]"
     ]
    },
    {
     "name": "stdout",
     "output_type": "stream",
     "text": [
      "Saved 62098.mp4 as wait_frames.npy\n"
     ]
    },
    {
     "name": "stderr",
     "output_type": "stream",
     "text": [
      "\rProcessing Videos:  10%|█         | 1241/11980 [36:04<4:49:47,  1.62s/video]"
     ]
    },
    {
     "name": "stdout",
     "output_type": "stream",
     "text": [
      "Saved 62158.mp4 as walk_frames.npy\n"
     ]
    },
    {
     "name": "stderr",
     "output_type": "stream",
     "text": [
      "\rProcessing Videos:  10%|█         | 1242/11980 [36:06<4:59:49,  1.68s/video]"
     ]
    },
    {
     "name": "stdout",
     "output_type": "stream",
     "text": [
      "Saved 62100.mp4 as wait_frames.npy\n"
     ]
    },
    {
     "name": "stderr",
     "output_type": "stream",
     "text": [
      "\rProcessing Videos:  10%|█         | 1243/11980 [36:07<5:02:39,  1.69s/video]"
     ]
    },
    {
     "name": "stdout",
     "output_type": "stream",
     "text": [
      "Saved 62163.mp4 as walk_frames.npy\n"
     ]
    },
    {
     "name": "stderr",
     "output_type": "stream",
     "text": [
      "\rProcessing Videos:  10%|█         | 1244/11980 [36:10<6:02:34,  2.03s/video]"
     ]
    },
    {
     "name": "stdout",
     "output_type": "stream",
     "text": [
      "Saved 61996.mp4 as vote_frames.npy\n"
     ]
    },
    {
     "name": "stderr",
     "output_type": "stream",
     "text": [
      "\rProcessing Videos:  10%|█         | 1245/11980 [36:12<5:40:28,  1.90s/video]"
     ]
    },
    {
     "name": "stdout",
     "output_type": "stream",
     "text": [
      "Saved 62101.mp4 as wait_frames.npy\n"
     ]
    },
    {
     "name": "stderr",
     "output_type": "stream",
     "text": [
      "\rProcessing Videos:  10%|█         | 1246/11980 [36:13<4:46:20,  1.60s/video]"
     ]
    },
    {
     "name": "stdout",
     "output_type": "stream",
     "text": [
      "Saved 62169.mp4 as walk_frames.npy\n"
     ]
    },
    {
     "name": "stderr",
     "output_type": "stream",
     "text": [
      "\rProcessing Videos:  10%|█         | 1247/11980 [36:15<5:25:55,  1.82s/video]"
     ]
    },
    {
     "name": "stdout",
     "output_type": "stream",
     "text": [
      "Saved 61995.mp4 as vote_frames.npy\n"
     ]
    },
    {
     "name": "stderr",
     "output_type": "stream",
     "text": [
      "\rProcessing Videos:  10%|█         | 1248/11980 [36:16<4:17:14,  1.44s/video]"
     ]
    },
    {
     "name": "stdout",
     "output_type": "stream",
     "text": [
      "Saved 62148.mp4 as wake up_frames.npy\n"
     ]
    },
    {
     "name": "stderr",
     "output_type": "stream",
     "text": [
      "\rProcessing Videos:  10%|█         | 1249/11980 [36:16<3:40:48,  1.23s/video]"
     ]
    },
    {
     "name": "stdout",
     "output_type": "stream",
     "text": [
      "Saved 62234.mp4 as wander_frames.npy\n"
     ]
    },
    {
     "name": "stderr",
     "output_type": "stream",
     "text": [
      "\rProcessing Videos:  10%|█         | 1250/11980 [36:18<4:23:45,  1.47s/video]"
     ]
    },
    {
     "name": "stdout",
     "output_type": "stream",
     "text": [
      "Saved 62303.mp4 as warn_frames.npy\n"
     ]
    },
    {
     "name": "stderr",
     "output_type": "stream",
     "text": [
      "\rProcessing Videos:  10%|█         | 1251/11980 [36:20<4:51:06,  1.63s/video]"
     ]
    },
    {
     "name": "stdout",
     "output_type": "stream",
     "text": [
      "Saved 62309.mp4 as warn_frames.npy\n"
     ]
    },
    {
     "name": "stderr",
     "output_type": "stream",
     "text": [
      "\rProcessing Videos:  10%|█         | 1252/11980 [36:22<4:59:43,  1.68s/video]"
     ]
    },
    {
     "name": "stdout",
     "output_type": "stream",
     "text": [
      "Saved 62276.mp4 as war_frames.npy\n"
     ]
    },
    {
     "name": "stderr",
     "output_type": "stream",
     "text": [
      "\rProcessing Videos:  10%|█         | 1253/11980 [36:23<4:22:39,  1.47s/video]"
     ]
    },
    {
     "name": "stdout",
     "output_type": "stream",
     "text": [
      "Saved 62246.mp4 as want_frames.npy\n"
     ]
    },
    {
     "name": "stderr",
     "output_type": "stream",
     "text": [
      "\rProcessing Videos:  10%|█         | 1254/11980 [36:25<4:37:06,  1.55s/video]"
     ]
    },
    {
     "name": "stdout",
     "output_type": "stream",
     "text": [
      "Saved 62284.mp4 as war_frames.npy\n"
     ]
    },
    {
     "name": "stderr",
     "output_type": "stream",
     "text": [
      "\rProcessing Videos:  10%|█         | 1255/11980 [36:27<4:57:37,  1.67s/video]"
     ]
    },
    {
     "name": "stdout",
     "output_type": "stream",
     "text": [
      "Saved 62231.mp4 as wander_frames.npy\n"
     ]
    },
    {
     "name": "stderr",
     "output_type": "stream",
     "text": [
      "\rProcessing Videos:  10%|█         | 1256/11980 [36:29<5:04:32,  1.70s/video]"
     ]
    },
    {
     "name": "stdout",
     "output_type": "stream",
     "text": [
      "Saved 62259.mp4 as want_frames.npy\n"
     ]
    },
    {
     "name": "stderr",
     "output_type": "stream",
     "text": [
      "\rProcessing Videos:  10%|█         | 1257/11980 [36:30<5:02:34,  1.69s/video]"
     ]
    },
    {
     "name": "stdout",
     "output_type": "stream",
     "text": [
      "Saved 62349.mp4 as wash face_frames.npy\n"
     ]
    },
    {
     "name": "stderr",
     "output_type": "stream",
     "text": [
      "\rProcessing Videos:  11%|█         | 1258/11980 [36:31<4:02:10,  1.36s/video]"
     ]
    },
    {
     "name": "stdout",
     "output_type": "stream",
     "text": [
      "Saved 62427.mp4 as waste_frames.npy\n"
     ]
    },
    {
     "name": "stderr",
     "output_type": "stream",
     "text": [
      "\rProcessing Videos:  11%|█         | 1259/11980 [36:32<3:39:31,  1.23s/video]"
     ]
    },
    {
     "name": "stdout",
     "output_type": "stream",
     "text": [
      "Saved 62302.mp4 as warn_frames.npy\n"
     ]
    },
    {
     "name": "stderr",
     "output_type": "stream",
     "text": [
      "\rProcessing Videos:  11%|█         | 1260/11980 [36:34<4:23:46,  1.48s/video]"
     ]
    },
    {
     "name": "stdout",
     "output_type": "stream",
     "text": [
      "Saved 62393.mp4 as washington_frames.npy\n"
     ]
    },
    {
     "name": "stderr",
     "output_type": "stream",
     "text": [
      "\rProcessing Videos:  11%|█         | 1261/11980 [36:36<4:32:32,  1.53s/video]"
     ]
    },
    {
     "name": "stdout",
     "output_type": "stream",
     "text": [
      "Saved 62230.mp4 as wander_frames.npy\n"
     ]
    },
    {
     "name": "stderr",
     "output_type": "stream",
     "text": [
      "\rProcessing Videos:  11%|█         | 1262/11980 [36:37<4:50:22,  1.63s/video]"
     ]
    },
    {
     "name": "stdout",
     "output_type": "stream",
     "text": [
      "Saved 62291.mp4 as warm_frames.npy\n"
     ]
    },
    {
     "name": "stderr",
     "output_type": "stream",
     "text": [
      "\rProcessing Videos:  11%|█         | 1263/11980 [36:38<3:53:07,  1.31s/video]"
     ]
    },
    {
     "name": "stdout",
     "output_type": "stream",
     "text": [
      "Saved 62251.mp4 as want_frames.npy\n"
     ]
    },
    {
     "name": "stderr",
     "output_type": "stream",
     "text": [
      "\rProcessing Videos:  11%|█         | 1264/11980 [36:39<3:58:48,  1.34s/video]"
     ]
    },
    {
     "name": "stdout",
     "output_type": "stream",
     "text": [
      "Saved 62290.mp4 as warm_frames.npy\n"
     ]
    },
    {
     "name": "stderr",
     "output_type": "stream",
     "text": [
      "\rProcessing Videos:  11%|█         | 1265/11980 [36:41<4:04:18,  1.37s/video]"
     ]
    },
    {
     "name": "stdout",
     "output_type": "stream",
     "text": [
      "Saved 62430.mp4 as waste_frames.npy\n"
     ]
    },
    {
     "name": "stderr",
     "output_type": "stream",
     "text": [
      "\rProcessing Videos:  11%|█         | 1266/11980 [36:41<3:21:29,  1.13s/video]"
     ]
    },
    {
     "name": "stdout",
     "output_type": "stream",
     "text": [
      "Saved 62250.mp4 as want_frames.npy\n"
     ]
    },
    {
     "name": "stderr",
     "output_type": "stream",
     "text": [
      "\rProcessing Videos:  11%|█         | 1267/11980 [36:42<2:53:00,  1.03video/s]"
     ]
    },
    {
     "name": "stdout",
     "output_type": "stream",
     "text": [
      "Saved 62365.mp4 as wash_frames.npy\n"
     ]
    },
    {
     "name": "stderr",
     "output_type": "stream",
     "text": [
      "\rProcessing Videos:  11%|█         | 1268/11980 [36:43<2:50:37,  1.05video/s]"
     ]
    },
    {
     "name": "stdout",
     "output_type": "stream",
     "text": [
      "Saved 62356.mp4 as wash_frames.npy\n"
     ]
    },
    {
     "name": "stderr",
     "output_type": "stream",
     "text": [
      "\rProcessing Videos:  11%|█         | 1269/11980 [36:44<3:18:42,  1.11s/video]"
     ]
    },
    {
     "name": "stdout",
     "output_type": "stream",
     "text": [
      "Saved 62423.mp4 as waste_frames.npy\n"
     ]
    },
    {
     "name": "stderr",
     "output_type": "stream",
     "text": [
      "\rProcessing Videos:  11%|█         | 1270/11980 [36:46<4:09:27,  1.40s/video]"
     ]
    },
    {
     "name": "stdout",
     "output_type": "stream",
     "text": [
      "Saved 62395.mp4 as washington_frames.npy\n"
     ]
    },
    {
     "name": "stderr",
     "output_type": "stream",
     "text": [
      "\rProcessing Videos:  11%|█         | 1271/11980 [36:49<4:54:10,  1.65s/video]"
     ]
    },
    {
     "name": "stdout",
     "output_type": "stream",
     "text": [
      "Saved 62443.mp4 as watch_frames.npy\n"
     ]
    },
    {
     "name": "stderr",
     "output_type": "stream",
     "text": [
      "\rProcessing Videos:  11%|█         | 1272/11980 [36:50<4:43:16,  1.59s/video]"
     ]
    },
    {
     "name": "stdout",
     "output_type": "stream",
     "text": [
      "Saved 62248.mp4 as want_frames.npy\n"
     ]
    },
    {
     "name": "stderr",
     "output_type": "stream",
     "text": [
      "\rProcessing Videos:  11%|█         | 1273/11980 [36:52<4:59:08,  1.68s/video]"
     ]
    },
    {
     "name": "stdout",
     "output_type": "stream",
     "text": [
      "Saved 62440.mp4 as watch_frames.npy\n"
     ]
    },
    {
     "name": "stderr",
     "output_type": "stream",
     "text": [
      "\rProcessing Videos:  11%|█         | 1274/11980 [36:55<6:15:28,  2.10s/video]"
     ]
    },
    {
     "name": "stdout",
     "output_type": "stream",
     "text": [
      "Saved 62245.mp4 as want_frames.npy\n"
     ]
    },
    {
     "name": "stderr",
     "output_type": "stream",
     "text": [
      "\rProcessing Videos:  11%|█         | 1275/11980 [36:56<5:09:49,  1.74s/video]"
     ]
    },
    {
     "name": "stdout",
     "output_type": "stream",
     "text": [
      "Saved 62273.mp4 as war_frames.npy\n"
     ]
    },
    {
     "name": "stderr",
     "output_type": "stream",
     "text": [
      "\rProcessing Videos:  11%|█         | 1276/11980 [36:57<4:43:42,  1.59s/video]"
     ]
    },
    {
     "name": "stdout",
     "output_type": "stream",
     "text": [
      "Saved 62274.mp4 as war_frames.npy\n"
     ]
    },
    {
     "name": "stderr",
     "output_type": "stream",
     "text": [
      "\rProcessing Videos:  11%|█         | 1277/11980 [37:01<6:12:30,  2.09s/video]"
     ]
    },
    {
     "name": "stdout",
     "output_type": "stream",
     "text": [
      "Saved 62289.mp4 as warm_frames.npy\n"
     ]
    },
    {
     "name": "stderr",
     "output_type": "stream",
     "text": [
      "\rProcessing Videos:  11%|█         | 1278/11980 [37:04<7:12:09,  2.42s/video]"
     ]
    },
    {
     "name": "stdout",
     "output_type": "stream",
     "text": [
      "Saved 62357.mp4 as wash_frames.npy\n"
     ]
    },
    {
     "name": "stderr",
     "output_type": "stream",
     "text": [
      "\rProcessing Videos:  11%|█         | 1279/11980 [37:07<7:36:21,  2.56s/video]"
     ]
    },
    {
     "name": "stdout",
     "output_type": "stream",
     "text": [
      "Saved 62275.mp4 as war_frames.npy\n"
     ]
    },
    {
     "name": "stderr",
     "output_type": "stream",
     "text": [
      "\rProcessing Videos:  11%|█         | 1280/11980 [37:07<6:07:53,  2.06s/video]"
     ]
    },
    {
     "name": "stdout",
     "output_type": "stream",
     "text": [
      "Saved 62244.mp4 as want_frames.npy\n"
     ]
    },
    {
     "name": "stderr",
     "output_type": "stream",
     "text": [
      "\rProcessing Videos:  11%|█         | 1281/11980 [37:11<7:21:51,  2.48s/video]"
     ]
    },
    {
     "name": "stdout",
     "output_type": "stream",
     "text": [
      "Saved 62439.mp4 as watch_frames.npy\n"
     ]
    },
    {
     "name": "stderr",
     "output_type": "stream",
     "text": [
      "\rProcessing Videos:  11%|█         | 1282/11980 [37:12<5:47:26,  1.95s/video]"
     ]
    },
    {
     "name": "stdout",
     "output_type": "stream",
     "text": [
      "Saved 62367.mp4 as wash_frames.npy\n"
     ]
    },
    {
     "name": "stderr",
     "output_type": "stream",
     "text": [
      "\rProcessing Videos:  11%|█         | 1283/11980 [37:12<4:40:18,  1.57s/video]"
     ]
    },
    {
     "name": "stdout",
     "output_type": "stream",
     "text": [
      "Saved 62305.mp4 as warn_frames.npy\n"
     ]
    },
    {
     "name": "stderr",
     "output_type": "stream",
     "text": [
      "\rProcessing Videos:  11%|█         | 1284/11980 [37:13<3:58:47,  1.34s/video]"
     ]
    },
    {
     "name": "stdout",
     "output_type": "stream",
     "text": [
      "Saved 62396.mp4 as washington_frames.npy\n"
     ]
    },
    {
     "name": "stderr",
     "output_type": "stream",
     "text": [
      "\rProcessing Videos:  11%|█         | 1285/11980 [37:14<3:12:55,  1.08s/video]"
     ]
    },
    {
     "name": "stdout",
     "output_type": "stream",
     "text": [
      "Saved 62294.mp4 as warm_frames.npy\n"
     ]
    },
    {
     "name": "stderr",
     "output_type": "stream",
     "text": [
      "\rProcessing Videos:  11%|█         | 1286/11980 [37:17<5:29:54,  1.85s/video]"
     ]
    },
    {
     "name": "stdout",
     "output_type": "stream",
     "text": [
      "Saved 62394.mp4 as washington_frames.npy\n"
     ]
    },
    {
     "name": "stderr",
     "output_type": "stream",
     "text": [
      "\rProcessing Videos:  11%|█         | 1287/11980 [37:18<4:29:46,  1.51s/video]"
     ]
    },
    {
     "name": "stdout",
     "output_type": "stream",
     "text": [
      "Saved 62279.mp4 as war_frames.npy\n"
     ]
    },
    {
     "name": "stderr",
     "output_type": "stream",
     "text": [
      "\rProcessing Videos:  11%|█         | 1288/11980 [37:20<4:49:27,  1.62s/video]"
     ]
    },
    {
     "name": "stdout",
     "output_type": "stream",
     "text": [
      "Saved 62372.mp4 as wash_frames.npy\n"
     ]
    },
    {
     "name": "stderr",
     "output_type": "stream",
     "text": [
      "\rProcessing Videos:  11%|█         | 1289/11980 [37:22<4:58:48,  1.68s/video]"
     ]
    },
    {
     "name": "stdout",
     "output_type": "stream",
     "text": [
      "Saved 62424.mp4 as waste_frames.npy\n"
     ]
    },
    {
     "name": "stderr",
     "output_type": "stream",
     "text": [
      "\rProcessing Videos:  11%|█         | 1290/11980 [37:23<4:49:06,  1.62s/video]"
     ]
    },
    {
     "name": "stdout",
     "output_type": "stream",
     "text": [
      "Saved 62398.mp4 as washington_frames.npy\n"
     ]
    },
    {
     "name": "stderr",
     "output_type": "stream",
     "text": [
      "\rProcessing Videos:  11%|█         | 1291/11980 [37:24<4:23:16,  1.48s/video]"
     ]
    },
    {
     "name": "stdout",
     "output_type": "stream",
     "text": [
      "Saved 62247.mp4 as want_frames.npy\n"
     ]
    },
    {
     "name": "stderr",
     "output_type": "stream",
     "text": [
      "\rProcessing Videos:  11%|█         | 1292/11980 [37:26<4:23:41,  1.48s/video]"
     ]
    },
    {
     "name": "stdout",
     "output_type": "stream",
     "text": [
      "Saved 62236.mp4 as wander_frames.npy\n"
     ]
    },
    {
     "name": "stderr",
     "output_type": "stream",
     "text": [
      "\rProcessing Videos:  11%|█         | 1293/11980 [37:27<4:33:28,  1.54s/video]"
     ]
    },
    {
     "name": "stdout",
     "output_type": "stream",
     "text": [
      "Saved 62358.mp4 as wash_frames.npy\n"
     ]
    },
    {
     "name": "stderr",
     "output_type": "stream",
     "text": [
      "\rProcessing Videos:  11%|█         | 1294/11980 [37:29<4:36:02,  1.55s/video]"
     ]
    },
    {
     "name": "stdout",
     "output_type": "stream",
     "text": [
      "Saved 62297.mp4 as warm_frames.npy\n"
     ]
    },
    {
     "name": "stderr",
     "output_type": "stream",
     "text": [
      "\rProcessing Videos:  11%|█         | 1295/11980 [37:30<3:39:30,  1.23s/video]"
     ]
    },
    {
     "name": "stdout",
     "output_type": "stream",
     "text": [
      "Saved 62591.mp4 as weak_frames.npy\n"
     ]
    },
    {
     "name": "stderr",
     "output_type": "stream",
     "text": [
      "\rProcessing Videos:  11%|█         | 1296/11980 [37:31<4:01:09,  1.35s/video]"
     ]
    },
    {
     "name": "stdout",
     "output_type": "stream",
     "text": [
      "Saved 62524.mp4 as watermelon_frames.npy\n"
     ]
    },
    {
     "name": "stderr",
     "output_type": "stream",
     "text": [
      "\rProcessing Videos:  11%|█         | 1297/11980 [37:32<3:36:21,  1.22s/video]"
     ]
    },
    {
     "name": "stdout",
     "output_type": "stream",
     "text": [
      "Saved 62500.mp4 as water_frames.npy\n"
     ]
    },
    {
     "name": "stderr",
     "output_type": "stream",
     "text": [
      "\rProcessing Videos:  11%|█         | 1298/11980 [37:33<3:11:24,  1.08s/video]"
     ]
    },
    {
     "name": "stdout",
     "output_type": "stream",
     "text": [
      "Saved 62570.mp4 as way_frames.npy\n"
     ]
    },
    {
     "name": "stderr",
     "output_type": "stream",
     "text": [
      "\rProcessing Videos:  11%|█         | 1299/11980 [37:35<3:52:49,  1.31s/video]"
     ]
    },
    {
     "name": "stdout",
     "output_type": "stream",
     "text": [
      "Saved 62503.mp4 as water_frames.npy\n"
     ]
    },
    {
     "name": "stderr",
     "output_type": "stream",
     "text": [
      "\rProcessing Videos:  11%|█         | 1300/11980 [37:37<4:54:36,  1.66s/video]"
     ]
    },
    {
     "name": "stdout",
     "output_type": "stream",
     "text": [
      "Saved 62641.mp4 as weather_frames.npy\n"
     ]
    },
    {
     "name": "stderr",
     "output_type": "stream",
     "text": [
      "\rProcessing Videos:  11%|█         | 1301/11980 [37:41<6:31:21,  2.20s/video]"
     ]
    },
    {
     "name": "stdout",
     "output_type": "stream",
     "text": [
      "Saved 62586.mp4 as weak_frames.npy\n"
     ]
    },
    {
     "name": "stderr",
     "output_type": "stream",
     "text": [
      "\rProcessing Videos:  11%|█         | 1302/11980 [37:43<6:49:03,  2.30s/video]"
     ]
    },
    {
     "name": "stdout",
     "output_type": "stream",
     "text": [
      "Saved 62489.mp4 as waterfall_frames.npy\n"
     ]
    },
    {
     "name": "stderr",
     "output_type": "stream",
     "text": [
      "\rProcessing Videos:  11%|█         | 1303/11980 [37:44<5:17:18,  1.78s/video]"
     ]
    },
    {
     "name": "stdout",
     "output_type": "stream",
     "text": [
      "Saved 62453.mp4 as watch_frames.npy\n"
     ]
    },
    {
     "name": "stderr",
     "output_type": "stream",
     "text": [
      "\rProcessing Videos:  11%|█         | 1304/11980 [37:45<4:32:41,  1.53s/video]"
     ]
    },
    {
     "name": "stdout",
     "output_type": "stream",
     "text": [
      "Saved 62488.mp4 as waterfall_frames.npy\n"
     ]
    },
    {
     "name": "stderr",
     "output_type": "stream",
     "text": [
      "\rProcessing Videos:  11%|█         | 1305/11980 [37:47<5:09:34,  1.74s/video]"
     ]
    },
    {
     "name": "stdout",
     "output_type": "stream",
     "text": [
      "Saved 62588.mp4 as weak_frames.npy\n"
     ]
    },
    {
     "name": "stderr",
     "output_type": "stream",
     "text": [
      "\rProcessing Videos:  11%|█         | 1306/11980 [37:49<5:22:35,  1.81s/video]"
     ]
    },
    {
     "name": "stdout",
     "output_type": "stream",
     "text": [
      "Saved 62493.mp4 as waterfall_frames.npy\n"
     ]
    },
    {
     "name": "stderr",
     "output_type": "stream",
     "text": [
      "\rProcessing Videos:  11%|█         | 1307/11980 [37:51<5:38:31,  1.90s/video]"
     ]
    },
    {
     "name": "stdout",
     "output_type": "stream",
     "text": [
      "Saved 62445.mp4 as watch_frames.npy\n"
     ]
    },
    {
     "name": "stderr",
     "output_type": "stream",
     "text": [
      "\rProcessing Videos:  11%|█         | 1308/11980 [37:52<4:54:52,  1.66s/video]"
     ]
    },
    {
     "name": "stdout",
     "output_type": "stream",
     "text": [
      "Saved 62646.mp4 as weather_frames.npy\n"
     ]
    },
    {
     "name": "stderr",
     "output_type": "stream",
     "text": [
      "\rProcessing Videos:  11%|█         | 1309/11980 [37:53<4:19:51,  1.46s/video]"
     ]
    },
    {
     "name": "stdout",
     "output_type": "stream",
     "text": [
      "Saved 62492.mp4 as waterfall_frames.npy\n"
     ]
    },
    {
     "name": "stderr",
     "output_type": "stream",
     "text": [
      "\rProcessing Videos:  11%|█         | 1310/11980 [37:55<4:37:06,  1.56s/video]"
     ]
    },
    {
     "name": "stdout",
     "output_type": "stream",
     "text": [
      "Saved 62622.mp4 as wear_frames.npy\n"
     ]
    },
    {
     "name": "stderr",
     "output_type": "stream",
     "text": [
      "\rProcessing Videos:  11%|█         | 1311/11980 [37:56<4:04:17,  1.37s/video]"
     ]
    },
    {
     "name": "stdout",
     "output_type": "stream",
     "text": [
      "Saved 62501.mp4 as water_frames.npy\n"
     ]
    },
    {
     "name": "stderr",
     "output_type": "stream",
     "text": [
      "\rProcessing Videos:  11%|█         | 1312/11980 [37:58<4:30:42,  1.52s/video]"
     ]
    },
    {
     "name": "stdout",
     "output_type": "stream",
     "text": [
      "Saved 62510.mp4 as water_frames.npy\n"
     ]
    },
    {
     "name": "stderr",
     "output_type": "stream",
     "text": [
      "\rProcessing Videos:  11%|█         | 1313/11980 [37:59<4:32:32,  1.53s/video]"
     ]
    },
    {
     "name": "stdout",
     "output_type": "stream",
     "text": [
      "Saved 62615.mp4 as wear_frames.npy\n"
     ]
    },
    {
     "name": "stderr",
     "output_type": "stream",
     "text": [
      "\rProcessing Videos:  11%|█         | 1314/11980 [38:00<3:37:17,  1.22s/video]"
     ]
    },
    {
     "name": "stdout",
     "output_type": "stream",
     "text": [
      "Saved 62590.mp4 as weak_frames.npy\n"
     ]
    },
    {
     "name": "stderr",
     "output_type": "stream",
     "text": [
      "\rProcessing Videos:  11%|█         | 1315/11980 [38:01<3:57:39,  1.34s/video]"
     ]
    },
    {
     "name": "stdout",
     "output_type": "stream",
     "text": [
      "Saved 62650.mp4 as weather_frames.npy\n"
     ]
    },
    {
     "name": "stderr",
     "output_type": "stream",
     "text": [
      "\rProcessing Videos:  11%|█         | 1316/11980 [38:02<3:22:49,  1.14s/video]"
     ]
    },
    {
     "name": "stdout",
     "output_type": "stream",
     "text": [
      "Saved 62619.mp4 as wear_frames.npy\n"
     ]
    },
    {
     "name": "stderr",
     "output_type": "stream",
     "text": [
      "\rProcessing Videos:  11%|█         | 1317/11980 [38:04<3:55:20,  1.32s/video]"
     ]
    },
    {
     "name": "stdout",
     "output_type": "stream",
     "text": [
      "Saved 62458.mp4 as watch_frames.npy\n"
     ]
    },
    {
     "name": "stderr",
     "output_type": "stream",
     "text": [
      "\rProcessing Videos:  11%|█         | 1318/11980 [38:05<4:15:57,  1.44s/video]"
     ]
    },
    {
     "name": "stdout",
     "output_type": "stream",
     "text": [
      "Saved 62519.mp4 as watermelon_frames.npy\n"
     ]
    },
    {
     "name": "stderr",
     "output_type": "stream",
     "text": [
      "\rProcessing Videos:  11%|█         | 1319/11980 [38:06<3:33:13,  1.20s/video]"
     ]
    },
    {
     "name": "stdout",
     "output_type": "stream",
     "text": [
      "Saved 62506.mp4 as water_frames.npy\n"
     ]
    },
    {
     "name": "stderr",
     "output_type": "stream",
     "text": [
      "\rProcessing Videos:  11%|█         | 1320/11980 [38:07<3:26:49,  1.16s/video]"
     ]
    },
    {
     "name": "stdout",
     "output_type": "stream",
     "text": [
      "Saved 62499.mp4 as water_frames.npy\n"
     ]
    },
    {
     "name": "stderr",
     "output_type": "stream",
     "text": [
      "\rProcessing Videos:  11%|█         | 1321/11980 [38:09<3:49:28,  1.29s/video]"
     ]
    },
    {
     "name": "stdout",
     "output_type": "stream",
     "text": [
      "Saved 62572.mp4 as way_frames.npy\n"
     ]
    },
    {
     "name": "stderr",
     "output_type": "stream",
     "text": [
      "\rProcessing Videos:  11%|█         | 1322/11980 [38:12<5:15:48,  1.78s/video]"
     ]
    },
    {
     "name": "stdout",
     "output_type": "stream",
     "text": [
      "Saved 62642.mp4 as weather_frames.npy\n"
     ]
    },
    {
     "name": "stderr",
     "output_type": "stream",
     "text": [
      "\rProcessing Videos:  11%|█         | 1323/11980 [38:13<5:11:40,  1.75s/video]"
     ]
    },
    {
     "name": "stdout",
     "output_type": "stream",
     "text": [
      "Saved 62643.mp4 as weather_frames.npy\n"
     ]
    },
    {
     "name": "stderr",
     "output_type": "stream",
     "text": [
      "\rProcessing Videos:  11%|█         | 1324/11980 [38:15<5:11:37,  1.75s/video]"
     ]
    },
    {
     "name": "stdout",
     "output_type": "stream",
     "text": [
      "Saved 62502.mp4 as water_frames.npy\n"
     ]
    },
    {
     "name": "stderr",
     "output_type": "stream",
     "text": [
      "\rProcessing Videos:  11%|█         | 1325/11980 [38:17<5:09:58,  1.75s/video]"
     ]
    },
    {
     "name": "stdout",
     "output_type": "stream",
     "text": [
      "Saved 62593.mp4 as weak_frames.npy\n"
     ]
    },
    {
     "name": "stderr",
     "output_type": "stream",
     "text": [
      "\rProcessing Videos:  11%|█         | 1326/11980 [38:17<4:01:26,  1.36s/video]"
     ]
    },
    {
     "name": "stdout",
     "output_type": "stream",
     "text": [
      "Saved 62452.mp4 as watch_frames.npy\n"
     ]
    },
    {
     "name": "stderr",
     "output_type": "stream",
     "text": [
      "\rProcessing Videos:  11%|█         | 1327/11980 [38:19<4:43:40,  1.60s/video]"
     ]
    },
    {
     "name": "stdout",
     "output_type": "stream",
     "text": [
      "Saved 62490.mp4 as waterfall_frames.npy\n"
     ]
    },
    {
     "name": "stderr",
     "output_type": "stream",
     "text": [
      "\rProcessing Videos:  11%|█         | 1328/11980 [38:23<6:06:11,  2.06s/video]"
     ]
    },
    {
     "name": "stdout",
     "output_type": "stream",
     "text": [
      "Saved 62517.mp4 as watermelon_frames.npy\n"
     ]
    },
    {
     "name": "stderr",
     "output_type": "stream",
     "text": [
      "\rProcessing Videos:  11%|█         | 1329/11980 [38:26<7:18:28,  2.47s/video]"
     ]
    },
    {
     "name": "stdout",
     "output_type": "stream",
     "text": [
      "Saved 62639.mp4 as weather_frames.npy\n"
     ]
    },
    {
     "name": "stderr",
     "output_type": "stream",
     "text": [
      "\rProcessing Videos:  11%|█         | 1330/11980 [38:28<7:04:15,  2.39s/video]"
     ]
    },
    {
     "name": "stdout",
     "output_type": "stream",
     "text": [
      "Saved 62577.mp4 as way_frames.npy\n"
     ]
    },
    {
     "name": "stderr",
     "output_type": "stream",
     "text": [
      "\rProcessing Videos:  11%|█         | 1331/11980 [38:30<6:26:55,  2.18s/video]"
     ]
    },
    {
     "name": "stdout",
     "output_type": "stream",
     "text": [
      "Saved 62444.mp4 as watch_frames.npy\n"
     ]
    },
    {
     "name": "stderr",
     "output_type": "stream",
     "text": [
      "\rProcessing Videos:  11%|█         | 1332/11980 [38:31<5:09:59,  1.75s/video]"
     ]
    },
    {
     "name": "stdout",
     "output_type": "stream",
     "text": [
      "Saved 62521.mp4 as watermelon_frames.npy\n"
     ]
    },
    {
     "name": "stderr",
     "output_type": "stream",
     "text": [
      "\rProcessing Videos:  11%|█         | 1333/11980 [38:32<4:25:35,  1.50s/video]"
     ]
    },
    {
     "name": "stdout",
     "output_type": "stream",
     "text": [
      "Saved 62614.mp4 as wear_frames.npy\n"
     ]
    },
    {
     "name": "stderr",
     "output_type": "stream",
     "text": [
      "\rProcessing Videos:  11%|█         | 1334/11980 [38:34<4:48:39,  1.63s/video]"
     ]
    },
    {
     "name": "stdout",
     "output_type": "stream",
     "text": [
      "Saved 62587.mp4 as weak_frames.npy\n"
     ]
    },
    {
     "name": "stderr",
     "output_type": "stream",
     "text": [
      "\rProcessing Videos:  11%|█         | 1335/11980 [38:34<3:51:08,  1.30s/video]"
     ]
    },
    {
     "name": "stdout",
     "output_type": "stream",
     "text": [
      "Saved 62618.mp4 as wear_frames.npy\n"
     ]
    },
    {
     "name": "stderr",
     "output_type": "stream",
     "text": [
      "\rProcessing Videos:  11%|█         | 1336/11980 [38:35<3:28:18,  1.17s/video]"
     ]
    },
    {
     "name": "stdout",
     "output_type": "stream",
     "text": [
      "Saved 62585.mp4 as weak_frames.npy\n"
     ]
    },
    {
     "name": "stderr",
     "output_type": "stream",
     "text": [
      "\rProcessing Videos:  11%|█         | 1337/11980 [38:36<3:15:19,  1.10s/video]"
     ]
    },
    {
     "name": "stdout",
     "output_type": "stream",
     "text": [
      "Saved 62638.mp4 as weather_frames.npy\n"
     ]
    },
    {
     "name": "stderr",
     "output_type": "stream",
     "text": [
      "\rProcessing Videos:  11%|█         | 1338/11980 [38:37<2:56:11,  1.01video/s]"
     ]
    },
    {
     "name": "stdout",
     "output_type": "stream",
     "text": [
      "Saved 62516.mp4 as watermelon_frames.npy\n"
     ]
    },
    {
     "name": "stderr",
     "output_type": "stream",
     "text": [
      "\rProcessing Videos:  11%|█         | 1339/11980 [38:37<2:37:18,  1.13video/s]"
     ]
    },
    {
     "name": "stdout",
     "output_type": "stream",
     "text": [
      "Saved 62645.mp4 as weather_frames.npy\n"
     ]
    },
    {
     "name": "stderr",
     "output_type": "stream",
     "text": [
      "\rProcessing Videos:  11%|█         | 1340/11980 [38:41<5:13:06,  1.77s/video]"
     ]
    },
    {
     "name": "stdout",
     "output_type": "stream",
     "text": [
      "Saved 62505.mp4 as water_frames.npy\n"
     ]
    },
    {
     "name": "stderr",
     "output_type": "stream",
     "text": [
      "\rProcessing Videos:  11%|█         | 1341/11980 [38:43<5:29:23,  1.86s/video]"
     ]
    },
    {
     "name": "stdout",
     "output_type": "stream",
     "text": [
      "Saved 62571.mp4 as way_frames.npy\n"
     ]
    },
    {
     "name": "stderr",
     "output_type": "stream",
     "text": [
      "\rProcessing Videos:  11%|█         | 1342/11980 [38:44<4:15:41,  1.44s/video]"
     ]
    },
    {
     "name": "stdout",
     "output_type": "stream",
     "text": [
      "Saved 62575.mp4 as way_frames.npy\n"
     ]
    },
    {
     "name": "stderr",
     "output_type": "stream",
     "text": [
      "\rProcessing Videos:  11%|█         | 1343/11980 [38:45<4:00:32,  1.36s/video]"
     ]
    },
    {
     "name": "stdout",
     "output_type": "stream",
     "text": [
      "Saved 62707.mp4 as wednesday_frames.npy\n"
     ]
    },
    {
     "name": "stderr",
     "output_type": "stream",
     "text": [
      "\rProcessing Videos:  11%|█         | 1344/11980 [38:45<3:12:06,  1.08s/video]"
     ]
    },
    {
     "name": "stdout",
     "output_type": "stream",
     "text": [
      "Saved 62746.mp4 as week_frames.npy\n"
     ]
    },
    {
     "name": "stderr",
     "output_type": "stream",
     "text": [
      "\rProcessing Videos:  11%|█         | 1345/11980 [38:46<2:55:18,  1.01video/s]"
     ]
    },
    {
     "name": "stdout",
     "output_type": "stream",
     "text": [
      "Saved 62818.mp4 as weird_frames.npy\n"
     ]
    },
    {
     "name": "stderr",
     "output_type": "stream",
     "text": [
      "\rProcessing Videos:  11%|█         | 1346/11980 [38:48<4:03:01,  1.37s/video]"
     ]
    },
    {
     "name": "stdout",
     "output_type": "stream",
     "text": [
      "Saved 62733.mp4 as weekend_frames.npy\n"
     ]
    },
    {
     "name": "stderr",
     "output_type": "stream",
     "text": [
      "\rProcessing Videos:  11%|█         | 1347/11980 [38:50<4:47:37,  1.62s/video]"
     ]
    },
    {
     "name": "stdout",
     "output_type": "stream",
     "text": [
      "Saved 62734.mp4 as weekend_frames.npy\n"
     ]
    },
    {
     "name": "stderr",
     "output_type": "stream",
     "text": [
      "\rProcessing Videos:  11%|█▏        | 1348/11980 [38:51<3:53:29,  1.32s/video]"
     ]
    },
    {
     "name": "stdout",
     "output_type": "stream",
     "text": [
      "Saved 62796.mp4 as weight_frames.npy\n"
     ]
    },
    {
     "name": "stderr",
     "output_type": "stream",
     "text": [
      "\rProcessing Videos:  11%|█▏        | 1349/11980 [38:53<4:25:04,  1.50s/video]"
     ]
    },
    {
     "name": "stdout",
     "output_type": "stream",
     "text": [
      "Saved 62742.mp4 as week_frames.npy\n"
     ]
    },
    {
     "name": "stderr",
     "output_type": "stream",
     "text": [
      "\rProcessing Videos:  11%|█▏        | 1350/11980 [38:56<5:59:30,  2.03s/video]"
     ]
    },
    {
     "name": "stdout",
     "output_type": "stream",
     "text": [
      "Saved 62792.mp4 as weight_frames.npy\n"
     ]
    },
    {
     "name": "stderr",
     "output_type": "stream",
     "text": [
      "\rProcessing Videos:  11%|█▏        | 1351/11980 [38:58<6:01:56,  2.04s/video]"
     ]
    },
    {
     "name": "stdout",
     "output_type": "stream",
     "text": [
      "Saved 62697.mp4 as wedding_frames.npy\n"
     ]
    },
    {
     "name": "stderr",
     "output_type": "stream",
     "text": [
      "\rProcessing Videos:  11%|█▏        | 1352/11980 [38:59<4:42:54,  1.60s/video]"
     ]
    },
    {
     "name": "stdout",
     "output_type": "stream",
     "text": [
      "Saved 62783.mp4 as weigh_frames.npy\n"
     ]
    },
    {
     "name": "stderr",
     "output_type": "stream",
     "text": [
      "\rProcessing Videos:  11%|█▏        | 1353/11980 [39:00<4:09:36,  1.41s/video]"
     ]
    },
    {
     "name": "stdout",
     "output_type": "stream",
     "text": [
      "Saved 62754.mp4 as weekly_frames.npy\n"
     ]
    },
    {
     "name": "stderr",
     "output_type": "stream",
     "text": [
      "\rProcessing Videos:  11%|█▏        | 1354/11980 [39:00<3:24:20,  1.15s/video]"
     ]
    },
    {
     "name": "stdout",
     "output_type": "stream",
     "text": [
      "Saved 62821.mp4 as weird_frames.npy\n"
     ]
    },
    {
     "name": "stderr",
     "output_type": "stream",
     "text": [
      "\rProcessing Videos:  11%|█▏        | 1355/11980 [39:04<5:37:30,  1.91s/video]"
     ]
    },
    {
     "name": "stdout",
     "output_type": "stream",
     "text": [
      "Saved 62732.mp4 as weekend_frames.npy\n"
     ]
    },
    {
     "name": "stderr",
     "output_type": "stream",
     "text": [
      "\rProcessing Videos:  11%|█▏        | 1356/11980 [39:06<5:21:54,  1.82s/video]"
     ]
    },
    {
     "name": "stdout",
     "output_type": "stream",
     "text": [
      "Saved 62738.mp4 as weekend_frames.npy\n"
     ]
    },
    {
     "name": "stderr",
     "output_type": "stream",
     "text": [
      "\rProcessing Videos:  11%|█▏        | 1357/11980 [39:08<5:25:22,  1.84s/video]"
     ]
    },
    {
     "name": "stdout",
     "output_type": "stream",
     "text": [
      "Saved 62710.mp4 as wednesday_frames.npy\n"
     ]
    },
    {
     "name": "stderr",
     "output_type": "stream",
     "text": [
      "\rProcessing Videos:  11%|█▏        | 1358/11980 [39:09<5:23:17,  1.83s/video]"
     ]
    },
    {
     "name": "stdout",
     "output_type": "stream",
     "text": [
      "Saved 62776.mp4 as we_frames.npy\n"
     ]
    },
    {
     "name": "stderr",
     "output_type": "stream",
     "text": [
      "\rProcessing Videos:  11%|█▏        | 1359/11980 [39:11<5:11:55,  1.76s/video]"
     ]
    },
    {
     "name": "stdout",
     "output_type": "stream",
     "text": [
      "Saved 62717.mp4 as wednesday_frames.npy\n"
     ]
    },
    {
     "name": "stderr",
     "output_type": "stream",
     "text": [
      "\rProcessing Videos:  11%|█▏        | 1360/11980 [39:12<4:11:18,  1.42s/video]"
     ]
    },
    {
     "name": "stdout",
     "output_type": "stream",
     "text": [
      "Saved 62756.mp4 as weekly_frames.npy\n"
     ]
    },
    {
     "name": "stderr",
     "output_type": "stream",
     "text": [
      "\rProcessing Videos:  11%|█▏        | 1361/11980 [39:14<4:45:31,  1.61s/video]"
     ]
    },
    {
     "name": "stdout",
     "output_type": "stream",
     "text": [
      "Saved 62793.mp4 as weight_frames.npy\n"
     ]
    },
    {
     "name": "stderr",
     "output_type": "stream",
     "text": [
      "\rProcessing Videos:  11%|█▏        | 1362/11980 [39:14<3:59:36,  1.35s/video]"
     ]
    },
    {
     "name": "stdout",
     "output_type": "stream",
     "text": [
      "Saved 62713.mp4 as wednesday_frames.npy\n"
     ]
    },
    {
     "name": "stderr",
     "output_type": "stream",
     "text": [
      "\rProcessing Videos:  11%|█▏        | 1363/11980 [39:15<3:18:48,  1.12s/video]"
     ]
    },
    {
     "name": "stdout",
     "output_type": "stream",
     "text": [
      "Saved 62736.mp4 as weekend_frames.npy\n"
     ]
    },
    {
     "name": "stderr",
     "output_type": "stream",
     "text": [
      "\rProcessing Videos:  11%|█▏        | 1364/11980 [39:16<3:09:55,  1.07s/video]"
     ]
    },
    {
     "name": "stdout",
     "output_type": "stream",
     "text": [
      "Saved 62782.mp4 as weigh_frames.npy\n"
     ]
    },
    {
     "name": "stderr",
     "output_type": "stream",
     "text": [
      "\rProcessing Videos:  11%|█▏        | 1365/11980 [39:17<2:57:44,  1.00s/video]"
     ]
    },
    {
     "name": "stdout",
     "output_type": "stream",
     "text": [
      "Saved 62740.mp4 as week_frames.npy\n"
     ]
    },
    {
     "name": "stderr",
     "output_type": "stream",
     "text": [
      "\rProcessing Videos:  11%|█▏        | 1366/11980 [39:17<2:31:30,  1.17video/s]"
     ]
    },
    {
     "name": "stdout",
     "output_type": "stream",
     "text": [
      "Saved 62712.mp4 as wednesday_frames.npy\n"
     ]
    },
    {
     "name": "stderr",
     "output_type": "stream",
     "text": [
      "\rProcessing Videos:  11%|█▏        | 1367/11980 [39:19<3:07:04,  1.06s/video]"
     ]
    },
    {
     "name": "stdout",
     "output_type": "stream",
     "text": [
      "Saved 62785.mp4 as weigh_frames.npy\n"
     ]
    },
    {
     "name": "stderr",
     "output_type": "stream",
     "text": [
      "\rProcessing Videos:  11%|█▏        | 1368/11980 [39:21<3:40:35,  1.25s/video]"
     ]
    },
    {
     "name": "stdout",
     "output_type": "stream",
     "text": [
      "Saved 62731.mp4 as weekend_frames.npy\n"
     ]
    },
    {
     "name": "stderr",
     "output_type": "stream",
     "text": [
      "\rProcessing Videos:  11%|█▏        | 1369/11980 [39:21<3:06:35,  1.06s/video]"
     ]
    },
    {
     "name": "stdout",
     "output_type": "stream",
     "text": [
      "Saved 62747.mp4 as week_frames.npy\n"
     ]
    },
    {
     "name": "stderr",
     "output_type": "stream",
     "text": [
      "\rProcessing Videos:  11%|█▏        | 1370/11980 [39:22<2:50:43,  1.04video/s]"
     ]
    },
    {
     "name": "stdout",
     "output_type": "stream",
     "text": [
      "Saved 62694.mp4 as wedding_frames.npy\n"
     ]
    },
    {
     "name": "stderr",
     "output_type": "stream",
     "text": [
      "\rProcessing Videos:  11%|█▏        | 1371/11980 [39:24<3:25:02,  1.16s/video]"
     ]
    },
    {
     "name": "stdout",
     "output_type": "stream",
     "text": [
      "Saved 62819.mp4 as weird_frames.npy\n"
     ]
    },
    {
     "name": "stderr",
     "output_type": "stream",
     "text": [
      "\rProcessing Videos:  11%|█▏        | 1372/11980 [39:24<3:02:44,  1.03s/video]"
     ]
    },
    {
     "name": "stdout",
     "output_type": "stream",
     "text": [
      "Saved 62757.mp4 as weekly_frames.npy\n"
     ]
    },
    {
     "name": "stderr",
     "output_type": "stream",
     "text": [
      "\rProcessing Videos:  11%|█▏        | 1373/11980 [39:26<3:40:52,  1.25s/video]"
     ]
    },
    {
     "name": "stdout",
     "output_type": "stream",
     "text": [
      "Saved 62692.mp4 as wedding_frames.npy\n"
     ]
    },
    {
     "name": "stderr",
     "output_type": "stream",
     "text": [
      "\rProcessing Videos:  11%|█▏        | 1374/11980 [39:27<3:32:30,  1.20s/video]"
     ]
    },
    {
     "name": "stdout",
     "output_type": "stream",
     "text": [
      "Saved 62790.mp4 as weight_frames.npy\n"
     ]
    },
    {
     "name": "stderr",
     "output_type": "stream",
     "text": [
      "\rProcessing Videos:  11%|█▏        | 1375/11980 [39:30<5:15:56,  1.79s/video]"
     ]
    },
    {
     "name": "stdout",
     "output_type": "stream",
     "text": [
      "Saved 62708.mp4 as wednesday_frames.npy\n"
     ]
    },
    {
     "name": "stderr",
     "output_type": "stream",
     "text": [
      "\rProcessing Videos:  11%|█▏        | 1376/11980 [39:31<4:08:48,  1.41s/video]"
     ]
    },
    {
     "name": "stdout",
     "output_type": "stream",
     "text": [
      "Saved 62748.mp4 as week_frames.npy\n"
     ]
    },
    {
     "name": "stderr",
     "output_type": "stream",
     "text": [
      "\rProcessing Videos:  11%|█▏        | 1377/11980 [39:32<3:53:31,  1.32s/video]"
     ]
    },
    {
     "name": "stdout",
     "output_type": "stream",
     "text": [
      "Saved 62691.mp4 as wedding_frames.npy\n"
     ]
    },
    {
     "name": "stderr",
     "output_type": "stream",
     "text": [
      "\rProcessing Videos:  12%|█▏        | 1378/11980 [39:35<5:02:37,  1.71s/video]"
     ]
    },
    {
     "name": "stdout",
     "output_type": "stream",
     "text": [
      "Saved 62775.mp4 as we_frames.npy\n"
     ]
    },
    {
     "name": "stderr",
     "output_type": "stream",
     "text": [
      "\rProcessing Videos:  12%|█▏        | 1379/11980 [39:35<4:01:58,  1.37s/video]"
     ]
    },
    {
     "name": "stdout",
     "output_type": "stream",
     "text": [
      "Saved 62778.mp4 as we_frames.npy\n"
     ]
    },
    {
     "name": "stderr",
     "output_type": "stream",
     "text": [
      "\rProcessing Videos:  12%|█▏        | 1380/11980 [39:36<3:39:48,  1.24s/video]"
     ]
    },
    {
     "name": "stdout",
     "output_type": "stream",
     "text": [
      "Saved 62774.mp4 as we_frames.npy\n"
     ]
    },
    {
     "name": "stderr",
     "output_type": "stream",
     "text": [
      "\rProcessing Videos:  12%|█▏        | 1381/11980 [39:38<4:01:47,  1.37s/video]"
     ]
    },
    {
     "name": "stdout",
     "output_type": "stream",
     "text": [
      "Saved 62780.mp4 as we_frames.npy\n"
     ]
    },
    {
     "name": "stderr",
     "output_type": "stream",
     "text": [
      "\rProcessing Videos:  12%|█▏        | 1382/11980 [39:40<4:25:30,  1.50s/video]"
     ]
    },
    {
     "name": "stdout",
     "output_type": "stream",
     "text": [
      "Saved 62761.mp4 as weekly_frames.npy\n"
     ]
    },
    {
     "name": "stderr",
     "output_type": "stream",
     "text": [
      "\rProcessing Videos:  12%|█▏        | 1383/11980 [39:41<4:25:35,  1.50s/video]"
     ]
    },
    {
     "name": "stdout",
     "output_type": "stream",
     "text": [
      "Saved 62797.mp4 as weight_frames.npy\n"
     ]
    },
    {
     "name": "stderr",
     "output_type": "stream",
     "text": [
      "\rProcessing Videos:  12%|█▏        | 1384/11980 [39:43<4:39:37,  1.58s/video]"
     ]
    },
    {
     "name": "stdout",
     "output_type": "stream",
     "text": [
      "Saved 62743.mp4 as week_frames.npy\n"
     ]
    },
    {
     "name": "stderr",
     "output_type": "stream",
     "text": [
      "\rProcessing Videos:  12%|█▏        | 1385/11980 [39:44<4:06:40,  1.40s/video]"
     ]
    },
    {
     "name": "stdout",
     "output_type": "stream",
     "text": [
      "Saved 62730.mp4 as weekend_frames.npy\n"
     ]
    },
    {
     "name": "stderr",
     "output_type": "stream",
     "text": [
      "\rProcessing Videos:  12%|█▏        | 1386/11980 [39:45<3:48:59,  1.30s/video]"
     ]
    },
    {
     "name": "stdout",
     "output_type": "stream",
     "text": [
      "Saved 62741.mp4 as week_frames.npy\n"
     ]
    },
    {
     "name": "stderr",
     "output_type": "stream",
     "text": [
      "\rProcessing Videos:  12%|█▏        | 1387/11980 [39:48<5:43:33,  1.95s/video]"
     ]
    },
    {
     "name": "stdout",
     "output_type": "stream",
     "text": [
      "Saved 62709.mp4 as wednesday_frames.npy\n"
     ]
    },
    {
     "name": "stderr",
     "output_type": "stream",
     "text": [
      "\rProcessing Videos:  12%|█▏        | 1388/11980 [39:50<5:14:21,  1.78s/video]"
     ]
    },
    {
     "name": "stdout",
     "output_type": "stream",
     "text": [
      "Saved 62752.mp4 as week_frames.npy\n"
     ]
    },
    {
     "name": "stderr",
     "output_type": "stream",
     "text": [
      "\rProcessing Videos:  12%|█▏        | 1389/11980 [39:50<4:17:25,  1.46s/video]"
     ]
    },
    {
     "name": "stdout",
     "output_type": "stream",
     "text": [
      "Saved 62791.mp4 as weight_frames.npy\n"
     ]
    },
    {
     "name": "stderr",
     "output_type": "stream",
     "text": [
      "\rProcessing Videos:  12%|█▏        | 1390/11980 [39:52<4:04:16,  1.38s/video]"
     ]
    },
    {
     "name": "stdout",
     "output_type": "stream",
     "text": [
      "Saved 62689.mp4 as wedding_frames.npy\n"
     ]
    },
    {
     "name": "stderr",
     "output_type": "stream",
     "text": [
      "\rProcessing Videos:  12%|█▏        | 1391/11980 [39:54<5:16:33,  1.79s/video]"
     ]
    },
    {
     "name": "stdout",
     "output_type": "stream",
     "text": [
      "Saved 62690.mp4 as wedding_frames.npy\n"
     ]
    },
    {
     "name": "stderr",
     "output_type": "stream",
     "text": [
      "\rProcessing Videos:  12%|█▏        | 1392/11980 [39:56<4:49:03,  1.64s/video]"
     ]
    },
    {
     "name": "stdout",
     "output_type": "stream",
     "text": [
      "Saved 62967.mp4 as what_frames.npy\n"
     ]
    },
    {
     "name": "stderr",
     "output_type": "stream",
     "text": [
      "\rProcessing Videos:  12%|█▏        | 1393/11980 [39:57<4:47:05,  1.63s/video]"
     ]
    },
    {
     "name": "stdout",
     "output_type": "stream",
     "text": [
      "Saved 62915.mp4 as west_frames.npy\n"
     ]
    },
    {
     "name": "stderr",
     "output_type": "stream",
     "text": [
      "\rProcessing Videos:  12%|█▏        | 1394/11980 [39:59<5:03:24,  1.72s/video]"
     ]
    },
    {
     "name": "stdout",
     "output_type": "stream",
     "text": [
      "Saved 63044.mp4 as wheelchair_frames.npy\n"
     ]
    },
    {
     "name": "stderr",
     "output_type": "stream",
     "text": [
      "\rProcessing Videos:  12%|█▏        | 1395/11980 [40:01<4:53:07,  1.66s/video]"
     ]
    },
    {
     "name": "stdout",
     "output_type": "stream",
     "text": [
      "Saved 62988.mp4 as what_frames.npy\n"
     ]
    },
    {
     "name": "stderr",
     "output_type": "stream",
     "text": [
      "\rProcessing Videos:  12%|█▏        | 1396/11980 [40:03<5:16:44,  1.80s/video]"
     ]
    },
    {
     "name": "stdout",
     "output_type": "stream",
     "text": [
      "Saved 62968.mp4 as what_frames.npy\n"
     ]
    },
    {
     "name": "stderr",
     "output_type": "stream",
     "text": [
      "\rProcessing Videos:  12%|█▏        | 1397/11980 [40:05<5:43:19,  1.95s/video]"
     ]
    },
    {
     "name": "stdout",
     "output_type": "stream",
     "text": [
      "Saved 62937.mp4 as whale_frames.npy\n"
     ]
    },
    {
     "name": "stderr",
     "output_type": "stream",
     "text": [
      "\rProcessing Videos:  12%|█▏        | 1398/11980 [40:06<4:49:41,  1.64s/video]"
     ]
    },
    {
     "name": "stdout",
     "output_type": "stream",
     "text": [
      "Saved 63067.mp4 as when_frames.npy\n"
     ]
    },
    {
     "name": "stderr",
     "output_type": "stream",
     "text": [
      "\rProcessing Videos:  12%|█▏        | 1399/11980 [40:08<4:56:32,  1.68s/video]"
     ]
    },
    {
     "name": "stdout",
     "output_type": "stream",
     "text": [
      "Saved 62910.mp4 as west_frames.npy\n"
     ]
    },
    {
     "name": "stderr",
     "output_type": "stream",
     "text": [
      "\rProcessing Videos:  12%|█▏        | 1400/11980 [40:10<5:12:24,  1.77s/video]"
     ]
    },
    {
     "name": "stdout",
     "output_type": "stream",
     "text": [
      "Saved 62923.mp4 as wet_frames.npy\n"
     ]
    },
    {
     "name": "stderr",
     "output_type": "stream",
     "text": [
      "\rProcessing Videos:  12%|█▏        | 1401/11980 [40:10<4:09:56,  1.42s/video]"
     ]
    },
    {
     "name": "stdout",
     "output_type": "stream",
     "text": [
      "Saved 63046.mp4 as wheelchair_frames.npy\n"
     ]
    },
    {
     "name": "stderr",
     "output_type": "stream",
     "text": [
      "\rProcessing Videos:  12%|█▏        | 1402/11980 [40:11<3:41:08,  1.25s/video]"
     ]
    },
    {
     "name": "stdout",
     "output_type": "stream",
     "text": [
      "Saved 62952.mp4 as whatever_frames.npy\n"
     ]
    },
    {
     "name": "stderr",
     "output_type": "stream",
     "text": [
      "\rProcessing Videos:  12%|█▏        | 1403/11980 [40:12<3:16:49,  1.12s/video]"
     ]
    },
    {
     "name": "stdout",
     "output_type": "stream",
     "text": [
      "Saved 63066.mp4 as when_frames.npy\n"
     ]
    },
    {
     "name": "stderr",
     "output_type": "stream",
     "text": [
      "\rProcessing Videos:  12%|█▏        | 1404/11980 [40:14<3:50:01,  1.31s/video]"
     ]
    },
    {
     "name": "stdout",
     "output_type": "stream",
     "text": [
      "Saved 62924.mp4 as wet_frames.npy\n"
     ]
    },
    {
     "name": "stderr",
     "output_type": "stream",
     "text": [
      "\rProcessing Videos:  12%|█▏        | 1405/11980 [40:15<3:44:35,  1.27s/video]"
     ]
    },
    {
     "name": "stdout",
     "output_type": "stream",
     "text": [
      "Saved 62933.mp4 as whale_frames.npy\n"
     ]
    },
    {
     "name": "stderr",
     "output_type": "stream",
     "text": [
      "\rProcessing Videos:  12%|█▏        | 1406/11980 [40:16<3:15:33,  1.11s/video]"
     ]
    },
    {
     "name": "stdout",
     "output_type": "stream",
     "text": [
      "Saved 62833.mp4 as welcome_frames.npy\n"
     ]
    },
    {
     "name": "stderr",
     "output_type": "stream",
     "text": [
      "\rProcessing Videos:  12%|█▏        | 1407/11980 [40:17<3:12:15,  1.09s/video]"
     ]
    },
    {
     "name": "stdout",
     "output_type": "stream",
     "text": [
      "Saved 62965.mp4 as what_frames.npy\n"
     ]
    },
    {
     "name": "stderr",
     "output_type": "stream",
     "text": [
      "\rProcessing Videos:  12%|█▏        | 1408/11980 [40:19<3:55:27,  1.34s/video]"
     ]
    },
    {
     "name": "stdout",
     "output_type": "stream",
     "text": [
      "Saved 62824.mp4 as weird_frames.npy\n"
     ]
    },
    {
     "name": "stderr",
     "output_type": "stream",
     "text": [
      "\rProcessing Videos:  12%|█▏        | 1409/11980 [40:20<3:58:15,  1.35s/video]"
     ]
    },
    {
     "name": "stdout",
     "output_type": "stream",
     "text": [
      "Saved 62837.mp4 as welcome_frames.npy\n"
     ]
    },
    {
     "name": "stderr",
     "output_type": "stream",
     "text": [
      "\rProcessing Videos:  12%|█▏        | 1410/11980 [40:23<5:31:53,  1.88s/video]"
     ]
    },
    {
     "name": "stdout",
     "output_type": "stream",
     "text": [
      "Saved 62908.mp4 as west_frames.npy\n"
     ]
    },
    {
     "name": "stderr",
     "output_type": "stream",
     "text": [
      "\rProcessing Videos:  12%|█▏        | 1411/11980 [40:25<5:13:19,  1.78s/video]"
     ]
    },
    {
     "name": "stdout",
     "output_type": "stream",
     "text": [
      "Saved 62987.mp4 as what_frames.npy\n"
     ]
    },
    {
     "name": "stderr",
     "output_type": "stream",
     "text": [
      "\rProcessing Videos:  12%|█▏        | 1412/11980 [40:26<5:12:17,  1.77s/video]"
     ]
    },
    {
     "name": "stdout",
     "output_type": "stream",
     "text": [
      "Saved 62925.mp4 as wet_frames.npy\n"
     ]
    },
    {
     "name": "stderr",
     "output_type": "stream",
     "text": [
      "\rProcessing Videos:  12%|█▏        | 1413/11980 [40:27<4:27:26,  1.52s/video]"
     ]
    },
    {
     "name": "stdout",
     "output_type": "stream",
     "text": [
      "Saved 63081.mp4 as where_frames.npy\n"
     ]
    },
    {
     "name": "stderr",
     "output_type": "stream",
     "text": [
      "\rProcessing Videos:  12%|█▏        | 1414/11980 [40:29<4:38:16,  1.58s/video]"
     ]
    },
    {
     "name": "stdout",
     "output_type": "stream",
     "text": [
      "Saved 62934.mp4 as whale_frames.npy\n"
     ]
    },
    {
     "name": "stderr",
     "output_type": "stream",
     "text": [
      "\rProcessing Videos:  12%|█▏        | 1415/11980 [40:30<3:44:45,  1.28s/video]"
     ]
    },
    {
     "name": "stdout",
     "output_type": "stream",
     "text": [
      "Saved 62906.mp4 as west_frames.npy\n"
     ]
    },
    {
     "name": "stderr",
     "output_type": "stream",
     "text": [
      "\rProcessing Videos:  12%|█▏        | 1416/11980 [40:30<3:19:01,  1.13s/video]"
     ]
    },
    {
     "name": "stdout",
     "output_type": "stream",
     "text": [
      "Saved 62955.mp4 as whatever_frames.npy\n"
     ]
    },
    {
     "name": "stderr",
     "output_type": "stream",
     "text": [
      "\rProcessing Videos:  12%|█▏        | 1417/11980 [40:33<4:16:19,  1.46s/video]"
     ]
    },
    {
     "name": "stdout",
     "output_type": "stream",
     "text": [
      "Saved 63069.mp4 as when_frames.npy\n"
     ]
    },
    {
     "name": "stderr",
     "output_type": "stream",
     "text": [
      "\rProcessing Videos:  12%|█▏        | 1418/11980 [40:34<4:16:53,  1.46s/video]"
     ]
    },
    {
     "name": "stdout",
     "output_type": "stream",
     "text": [
      "Saved 62966.mp4 as what_frames.npy\n"
     ]
    },
    {
     "name": "stderr",
     "output_type": "stream",
     "text": [
      "\rProcessing Videos:  12%|█▏        | 1419/11980 [40:35<3:35:17,  1.22s/video]"
     ]
    },
    {
     "name": "stdout",
     "output_type": "stream",
     "text": [
      "Saved 62979.mp4 as what_frames.npy\n"
     ]
    },
    {
     "name": "stderr",
     "output_type": "stream",
     "text": [
      "\rProcessing Videos:  12%|█▏        | 1420/11980 [40:35<2:52:32,  1.02video/s]"
     ]
    },
    {
     "name": "stdout",
     "output_type": "stream",
     "text": [
      "Saved 62912.mp4 as west_frames.npy\n"
     ]
    },
    {
     "name": "stderr",
     "output_type": "stream",
     "text": [
      "\rProcessing Videos:  12%|█▏        | 1421/11980 [40:36<2:32:40,  1.15video/s]"
     ]
    },
    {
     "name": "stdout",
     "output_type": "stream",
     "text": [
      "Saved 62975.mp4 as what_frames.npy\n"
     ]
    },
    {
     "name": "stderr",
     "output_type": "stream",
     "text": [
      "\rProcessing Videos:  12%|█▏        | 1422/11980 [40:38<3:20:46,  1.14s/video]"
     ]
    },
    {
     "name": "stdout",
     "output_type": "stream",
     "text": [
      "Saved 63077.mp4 as when_frames.npy\n"
     ]
    },
    {
     "name": "stderr",
     "output_type": "stream",
     "text": [
      "\rProcessing Videos:  12%|█▏        | 1423/11980 [40:39<3:10:54,  1.09s/video]"
     ]
    },
    {
     "name": "stdout",
     "output_type": "stream",
     "text": [
      "Saved 62964.mp4 as what_frames.npy\n"
     ]
    },
    {
     "name": "stderr",
     "output_type": "stream",
     "text": [
      "\rProcessing Videos:  12%|█▏        | 1424/11980 [40:40<3:45:17,  1.28s/video]"
     ]
    },
    {
     "name": "stdout",
     "output_type": "stream",
     "text": [
      "Saved 63050.mp4 as wheelchair_frames.npy\n"
     ]
    },
    {
     "name": "stderr",
     "output_type": "stream",
     "text": [
      "\rProcessing Videos:  12%|█▏        | 1425/11980 [40:43<4:54:23,  1.67s/video]"
     ]
    },
    {
     "name": "stdout",
     "output_type": "stream",
     "text": [
      "Saved 62909.mp4 as west_frames.npy\n"
     ]
    },
    {
     "name": "stderr",
     "output_type": "stream",
     "text": [
      "\rProcessing Videos:  12%|█▏        | 1426/11980 [40:45<5:18:41,  1.81s/video]"
     ]
    },
    {
     "name": "stdout",
     "output_type": "stream",
     "text": [
      "Saved 62953.mp4 as whatever_frames.npy\n"
     ]
    },
    {
     "name": "stderr",
     "output_type": "stream",
     "text": [
      "\rProcessing Videos:  12%|█▏        | 1427/11980 [40:46<4:12:53,  1.44s/video]"
     ]
    },
    {
     "name": "stdout",
     "output_type": "stream",
     "text": [
      "Saved 62927.mp4 as wet_frames.npy\n"
     ]
    },
    {
     "name": "stderr",
     "output_type": "stream",
     "text": [
      "\rProcessing Videos:  12%|█▏        | 1428/11980 [40:48<4:54:06,  1.67s/video]"
     ]
    },
    {
     "name": "stdout",
     "output_type": "stream",
     "text": [
      "Saved 62936.mp4 as whale_frames.npy\n"
     ]
    },
    {
     "name": "stderr",
     "output_type": "stream",
     "text": [
      "\rProcessing Videos:  12%|█▏        | 1429/11980 [40:50<5:09:44,  1.76s/video]"
     ]
    },
    {
     "name": "stdout",
     "output_type": "stream",
     "text": [
      "Saved 63070.mp4 as when_frames.npy\n"
     ]
    },
    {
     "name": "stderr",
     "output_type": "stream",
     "text": [
      "\rProcessing Videos:  12%|█▏        | 1430/11980 [40:51<4:51:22,  1.66s/video]"
     ]
    },
    {
     "name": "stdout",
     "output_type": "stream",
     "text": [
      "Saved 62930.mp4 as wet_frames.npy\n"
     ]
    },
    {
     "name": "stderr",
     "output_type": "stream",
     "text": [
      "\rProcessing Videos:  12%|█▏        | 1431/11980 [40:52<3:58:48,  1.36s/video]"
     ]
    },
    {
     "name": "stdout",
     "output_type": "stream",
     "text": [
      "Saved 63072.mp4 as when_frames.npy\n"
     ]
    },
    {
     "name": "stderr",
     "output_type": "stream",
     "text": [
      "\rProcessing Videos:  12%|█▏        | 1432/11980 [40:54<4:15:15,  1.45s/video]"
     ]
    },
    {
     "name": "stdout",
     "output_type": "stream",
     "text": [
      "Saved 62942.mp4 as whale_frames.npy\n"
     ]
    },
    {
     "name": "stderr",
     "output_type": "stream",
     "text": [
      "\rProcessing Videos:  12%|█▏        | 1433/11980 [40:54<3:30:52,  1.20s/video]"
     ]
    },
    {
     "name": "stdout",
     "output_type": "stream",
     "text": [
      "Saved 63047.mp4 as wheelchair_frames.npy\n"
     ]
    },
    {
     "name": "stderr",
     "output_type": "stream",
     "text": [
      "\rProcessing Videos:  12%|█▏        | 1434/11980 [40:56<4:11:38,  1.43s/video]"
     ]
    },
    {
     "name": "stdout",
     "output_type": "stream",
     "text": [
      "Saved 62970.mp4 as what_frames.npy\n"
     ]
    },
    {
     "name": "stderr",
     "output_type": "stream",
     "text": [
      "\rProcessing Videos:  12%|█▏        | 1435/11980 [40:57<3:38:59,  1.25s/video]"
     ]
    },
    {
     "name": "stdout",
     "output_type": "stream",
     "text": [
      "Saved 62922.mp4 as wet_frames.npy\n"
     ]
    },
    {
     "name": "stderr",
     "output_type": "stream",
     "text": [
      "\rProcessing Videos:  12%|█▏        | 1436/11980 [40:58<3:12:33,  1.10s/video]"
     ]
    },
    {
     "name": "stdout",
     "output_type": "stream",
     "text": [
      "Saved 62907.mp4 as west_frames.npy\n"
     ]
    },
    {
     "name": "stderr",
     "output_type": "stream",
     "text": [
      "\rProcessing Videos:  12%|█▏        | 1437/11980 [41:01<5:05:56,  1.74s/video]"
     ]
    },
    {
     "name": "stdout",
     "output_type": "stream",
     "text": [
      "Saved 62829.mp4 as welcome_frames.npy\n"
     ]
    },
    {
     "name": "stderr",
     "output_type": "stream",
     "text": [
      "\rProcessing Videos:  12%|█▏        | 1438/11980 [41:03<4:58:07,  1.70s/video]"
     ]
    },
    {
     "name": "stdout",
     "output_type": "stream",
     "text": [
      "Saved 63214.mp4 as white_frames.npy\n"
     ]
    },
    {
     "name": "stderr",
     "output_type": "stream",
     "text": [
      "\rProcessing Videos:  12%|█▏        | 1439/11980 [41:04<4:57:43,  1.69s/video]"
     ]
    },
    {
     "name": "stdout",
     "output_type": "stream",
     "text": [
      "Saved 63203.mp4 as white_frames.npy\n"
     ]
    },
    {
     "name": "stderr",
     "output_type": "stream",
     "text": [
      "\rProcessing Videos:  12%|█▏        | 1440/11980 [41:07<5:31:28,  1.89s/video]"
     ]
    },
    {
     "name": "stdout",
     "output_type": "stream",
     "text": [
      "Saved 63274.mp4 as w_frames.npy\n"
     ]
    },
    {
     "name": "stderr",
     "output_type": "stream",
     "text": [
      "\rProcessing Videos:  12%|█▏        | 1441/11980 [41:07<4:20:35,  1.48s/video]"
     ]
    },
    {
     "name": "stdout",
     "output_type": "stream",
     "text": [
      "Saved 63208.mp4 as white_frames.npy\n"
     ]
    },
    {
     "name": "stderr",
     "output_type": "stream",
     "text": [
      "\rProcessing Videos:  12%|█▏        | 1442/11980 [41:10<5:13:49,  1.79s/video]"
     ]
    },
    {
     "name": "stdout",
     "output_type": "stream",
     "text": [
      "Saved 63283.mp4 as why_frames.npy\n"
     ]
    },
    {
     "name": "stderr",
     "output_type": "stream",
     "text": [
      "\rProcessing Videos:  12%|█▏        | 1443/11980 [41:11<5:05:27,  1.74s/video]"
     ]
    },
    {
     "name": "stdout",
     "output_type": "stream",
     "text": [
      "Saved 63190.mp4 as whistle_frames.npy\n"
     ]
    },
    {
     "name": "stderr",
     "output_type": "stream",
     "text": [
      "\rProcessing Videos:  12%|█▏        | 1444/11980 [41:12<4:18:40,  1.47s/video]"
     ]
    },
    {
     "name": "stdout",
     "output_type": "stream",
     "text": [
      "Saved 63200.mp4 as white_frames.npy\n"
     ]
    },
    {
     "name": "stderr",
     "output_type": "stream",
     "text": [
      "\rProcessing Videos:  12%|█▏        | 1445/11980 [41:14<4:16:34,  1.46s/video]"
     ]
    },
    {
     "name": "stdout",
     "output_type": "stream",
     "text": [
      "Saved 63108.mp4 as which_frames.npy\n"
     ]
    },
    {
     "name": "stderr",
     "output_type": "stream",
     "text": [
      "\rProcessing Videos:  12%|█▏        | 1446/11980 [41:14<3:28:10,  1.19s/video]"
     ]
    },
    {
     "name": "stdout",
     "output_type": "stream",
     "text": [
      "Saved 63276.mp4 as w_frames.npy\n"
     ]
    },
    {
     "name": "stderr",
     "output_type": "stream",
     "text": [
      "\rProcessing Videos:  12%|█▏        | 1447/11980 [41:16<4:12:01,  1.44s/video]"
     ]
    },
    {
     "name": "stdout",
     "output_type": "stream",
     "text": [
      "Saved 63106.mp4 as which_frames.npy\n"
     ]
    },
    {
     "name": "stderr",
     "output_type": "stream",
     "text": [
      "\rProcessing Videos:  12%|█▏        | 1448/11980 [41:18<4:45:22,  1.63s/video]"
     ]
    },
    {
     "name": "stdout",
     "output_type": "stream",
     "text": [
      "Saved 63204.mp4 as white_frames.npy\n"
     ]
    },
    {
     "name": "stderr",
     "output_type": "stream",
     "text": [
      "\rProcessing Videos:  12%|█▏        | 1449/11980 [41:19<3:50:09,  1.31s/video]"
     ]
    },
    {
     "name": "stdout",
     "output_type": "stream",
     "text": [
      "Saved 63188.mp4 as whistle_frames.npy\n"
     ]
    },
    {
     "name": "stderr",
     "output_type": "stream",
     "text": [
      "\rProcessing Videos:  12%|█▏        | 1450/11980 [41:22<5:55:27,  2.03s/video]"
     ]
    },
    {
     "name": "stdout",
     "output_type": "stream",
     "text": [
      "Saved 63230.mp4 as who_frames.npy\n"
     ]
    },
    {
     "name": "stderr",
     "output_type": "stream",
     "text": [
      "\rProcessing Videos:  12%|█▏        | 1451/11980 [41:24<5:38:50,  1.93s/video]"
     ]
    },
    {
     "name": "stdout",
     "output_type": "stream",
     "text": [
      "Saved 63126.mp4 as while_frames.npy\n"
     ]
    },
    {
     "name": "stderr",
     "output_type": "stream",
     "text": [
      "\rProcessing Videos:  12%|█▏        | 1452/11980 [41:26<5:35:27,  1.91s/video]"
     ]
    },
    {
     "name": "stdout",
     "output_type": "stream",
     "text": [
      "Saved 63231.mp4 as who_frames.npy\n"
     ]
    },
    {
     "name": "stderr",
     "output_type": "stream",
     "text": [
      "\rProcessing Videos:  12%|█▏        | 1453/11980 [41:28<5:30:03,  1.88s/video]"
     ]
    },
    {
     "name": "stdout",
     "output_type": "stream",
     "text": [
      "Saved 63227.mp4 as who_frames.npy\n"
     ]
    },
    {
     "name": "stderr",
     "output_type": "stream",
     "text": [
      "\rProcessing Videos:  12%|█▏        | 1454/11980 [41:28<4:12:16,  1.44s/video]"
     ]
    },
    {
     "name": "stdout",
     "output_type": "stream",
     "text": [
      "Saved 63287.mp4 as why_frames.npy\n"
     ]
    },
    {
     "name": "stderr",
     "output_type": "stream",
     "text": [
      "\rProcessing Videos:  12%|█▏        | 1455/11980 [41:30<4:46:52,  1.64s/video]"
     ]
    },
    {
     "name": "stdout",
     "output_type": "stream",
     "text": [
      "Saved 63105.mp4 as which_frames.npy\n"
     ]
    },
    {
     "name": "stderr",
     "output_type": "stream",
     "text": [
      "\rProcessing Videos:  12%|█▏        | 1456/11980 [41:32<4:47:04,  1.64s/video]"
     ]
    },
    {
     "name": "stdout",
     "output_type": "stream",
     "text": [
      "Saved 63083.mp4 as where_frames.npy\n"
     ]
    },
    {
     "name": "stderr",
     "output_type": "stream",
     "text": [
      "\rProcessing Videos:  12%|█▏        | 1457/11980 [41:33<4:10:28,  1.43s/video]"
     ]
    },
    {
     "name": "stdout",
     "output_type": "stream",
     "text": [
      "Saved 63186.mp4 as whistle_frames.npy\n"
     ]
    },
    {
     "name": "stderr",
     "output_type": "stream",
     "text": [
      "\rProcessing Videos:  12%|█▏        | 1458/11980 [41:35<4:25:55,  1.52s/video]"
     ]
    },
    {
     "name": "stdout",
     "output_type": "stream",
     "text": [
      "Saved 63091.mp4 as where_frames.npy\n"
     ]
    },
    {
     "name": "stderr",
     "output_type": "stream",
     "text": [
      "\rProcessing Videos:  12%|█▏        | 1459/11980 [41:37<4:53:29,  1.67s/video]"
     ]
    },
    {
     "name": "stdout",
     "output_type": "stream",
     "text": [
      "Saved 63285.mp4 as why_frames.npy\n"
     ]
    },
    {
     "name": "stderr",
     "output_type": "stream",
     "text": [
      "\rProcessing Videos:  12%|█▏        | 1460/11980 [41:39<5:32:59,  1.90s/video]"
     ]
    },
    {
     "name": "stdout",
     "output_type": "stream",
     "text": [
      "Saved 63228.mp4 as who_frames.npy\n"
     ]
    },
    {
     "name": "stderr",
     "output_type": "stream",
     "text": [
      "\rProcessing Videos:  12%|█▏        | 1461/11980 [41:42<6:08:05,  2.10s/video]"
     ]
    },
    {
     "name": "stdout",
     "output_type": "stream",
     "text": [
      "Saved 63229.mp4 as who_frames.npy\n"
     ]
    },
    {
     "name": "stderr",
     "output_type": "stream",
     "text": [
      "\rProcessing Videos:  12%|█▏        | 1462/11980 [41:45<6:59:15,  2.39s/video]"
     ]
    },
    {
     "name": "stdout",
     "output_type": "stream",
     "text": [
      "Saved 63284.mp4 as why_frames.npy\n"
     ]
    },
    {
     "name": "stderr",
     "output_type": "stream",
     "text": [
      "\rProcessing Videos:  12%|█▏        | 1463/11980 [41:46<6:24:02,  2.19s/video]"
     ]
    },
    {
     "name": "stdout",
     "output_type": "stream",
     "text": [
      "Saved 63120.mp4 as while_frames.npy\n"
     ]
    },
    {
     "name": "stderr",
     "output_type": "stream",
     "text": [
      "\rProcessing Videos:  12%|█▏        | 1464/11980 [41:47<5:20:30,  1.83s/video]"
     ]
    },
    {
     "name": "stdout",
     "output_type": "stream",
     "text": [
      "Saved 63082.mp4 as where_frames.npy\n"
     ]
    },
    {
     "name": "stderr",
     "output_type": "stream",
     "text": [
      "\rProcessing Videos:  12%|█▏        | 1465/11980 [41:49<5:17:03,  1.81s/video]"
     ]
    },
    {
     "name": "stdout",
     "output_type": "stream",
     "text": [
      "Saved 63205.mp4 as white_frames.npy\n"
     ]
    },
    {
     "name": "stderr",
     "output_type": "stream",
     "text": [
      "\rProcessing Videos:  12%|█▏        | 1466/11980 [41:50<4:30:39,  1.54s/video]"
     ]
    },
    {
     "name": "stdout",
     "output_type": "stream",
     "text": [
      "Saved 63226.mp4 as who_frames.npy\n"
     ]
    },
    {
     "name": "stderr",
     "output_type": "stream",
     "text": [
      "\rProcessing Videos:  12%|█▏        | 1467/11980 [41:52<4:24:31,  1.51s/video]"
     ]
    },
    {
     "name": "stdout",
     "output_type": "stream",
     "text": [
      "Saved 63278.mp4 as w_frames.npy\n"
     ]
    },
    {
     "name": "stderr",
     "output_type": "stream",
     "text": [
      "\rProcessing Videos:  12%|█▏        | 1468/11980 [41:52<3:37:22,  1.24s/video]"
     ]
    },
    {
     "name": "stdout",
     "output_type": "stream",
     "text": [
      "Saved 63236.mp4 as who_frames.npy\n"
     ]
    },
    {
     "name": "stderr",
     "output_type": "stream",
     "text": [
      "\rProcessing Videos:  12%|█▏        | 1469/11980 [41:53<3:25:19,  1.17s/video]"
     ]
    },
    {
     "name": "stdout",
     "output_type": "stream",
     "text": [
      "Saved 63281.mp4 as why_frames.npy\n"
     ]
    },
    {
     "name": "stderr",
     "output_type": "stream",
     "text": [
      "\rProcessing Videos:  12%|█▏        | 1470/11980 [41:55<4:25:52,  1.52s/video]"
     ]
    },
    {
     "name": "stdout",
     "output_type": "stream",
     "text": [
      "Saved 63232.mp4 as who_frames.npy\n"
     ]
    },
    {
     "name": "stderr",
     "output_type": "stream",
     "text": [
      "\rProcessing Videos:  12%|█▏        | 1471/11980 [41:57<4:47:12,  1.64s/video]"
     ]
    },
    {
     "name": "stdout",
     "output_type": "stream",
     "text": [
      "Saved 63282.mp4 as why_frames.npy\n"
     ]
    },
    {
     "name": "stderr",
     "output_type": "stream",
     "text": [
      "\rProcessing Videos:  12%|█▏        | 1472/11980 [41:59<4:56:07,  1.69s/video]"
     ]
    },
    {
     "name": "stdout",
     "output_type": "stream",
     "text": [
      "Saved 63122.mp4 as while_frames.npy\n"
     ]
    },
    {
     "name": "stderr",
     "output_type": "stream",
     "text": [
      "\rProcessing Videos:  12%|█▏        | 1473/11980 [42:00<3:53:52,  1.34s/video]"
     ]
    },
    {
     "name": "stdout",
     "output_type": "stream",
     "text": [
      "Saved 63207.mp4 as white_frames.npy\n"
     ]
    },
    {
     "name": "stderr",
     "output_type": "stream",
     "text": [
      "\rProcessing Videos:  12%|█▏        | 1474/11980 [42:01<3:35:33,  1.23s/video]"
     ]
    },
    {
     "name": "stdout",
     "output_type": "stream",
     "text": [
      "Saved 63119.mp4 as while_frames.npy\n"
     ]
    },
    {
     "name": "stderr",
     "output_type": "stream",
     "text": [
      "\rProcessing Videos:  12%|█▏        | 1475/11980 [42:03<4:05:21,  1.40s/video]"
     ]
    },
    {
     "name": "stdout",
     "output_type": "stream",
     "text": [
      "Saved 63084.mp4 as where_frames.npy\n"
     ]
    },
    {
     "name": "stderr",
     "output_type": "stream",
     "text": [
      "\rProcessing Videos:  12%|█▏        | 1476/11980 [42:03<3:38:37,  1.25s/video]"
     ]
    },
    {
     "name": "stdout",
     "output_type": "stream",
     "text": [
      "Saved 63225.mp4 as who_frames.npy\n"
     ]
    },
    {
     "name": "stderr",
     "output_type": "stream",
     "text": [
      "\rProcessing Videos:  12%|█▏        | 1477/11980 [42:05<3:43:50,  1.28s/video]"
     ]
    },
    {
     "name": "stdout",
     "output_type": "stream",
     "text": [
      "Saved 63104.mp4 as which_frames.npy\n"
     ]
    },
    {
     "name": "stderr",
     "output_type": "stream",
     "text": [
      "\rProcessing Videos:  12%|█▏        | 1478/11980 [42:06<3:30:14,  1.20s/video]"
     ]
    },
    {
     "name": "stdout",
     "output_type": "stream",
     "text": [
      "Saved 63124.mp4 as while_frames.npy\n"
     ]
    },
    {
     "name": "stderr",
     "output_type": "stream",
     "text": [
      "\rProcessing Videos:  12%|█▏        | 1479/11980 [42:07<3:22:19,  1.16s/video]"
     ]
    },
    {
     "name": "stdout",
     "output_type": "stream",
     "text": [
      "Saved 63201.mp4 as white_frames.npy\n"
     ]
    },
    {
     "name": "stderr",
     "output_type": "stream",
     "text": [
      "\rProcessing Videos:  12%|█▏        | 1480/11980 [42:08<3:48:21,  1.30s/video]"
     ]
    },
    {
     "name": "stdout",
     "output_type": "stream",
     "text": [
      "Saved 63113.mp4 as which_frames.npy\n"
     ]
    },
    {
     "name": "stderr",
     "output_type": "stream",
     "text": [
      "\rProcessing Videos:  12%|█▏        | 1481/11980 [42:11<5:13:13,  1.79s/video]"
     ]
    },
    {
     "name": "stdout",
     "output_type": "stream",
     "text": [
      "Saved 63202.mp4 as white_frames.npy\n"
     ]
    },
    {
     "name": "stderr",
     "output_type": "stream",
     "text": [
      "\rProcessing Videos:  12%|█▏        | 1482/11980 [42:12<4:27:55,  1.53s/video]"
     ]
    },
    {
     "name": "stdout",
     "output_type": "stream",
     "text": [
      "Saved 63280.mp4 as why_frames.npy\n"
     ]
    },
    {
     "name": "stderr",
     "output_type": "stream",
     "text": [
      "\rProcessing Videos:  12%|█▏        | 1483/11980 [42:13<3:36:12,  1.24s/video]"
     ]
    },
    {
     "name": "stdout",
     "output_type": "stream",
     "text": [
      "Saved 63237.mp4 as who_frames.npy\n"
     ]
    },
    {
     "name": "stderr",
     "output_type": "stream",
     "text": [
      "\rProcessing Videos:  12%|█▏        | 1484/11980 [42:13<3:00:38,  1.03s/video]"
     ]
    },
    {
     "name": "stdout",
     "output_type": "stream",
     "text": [
      "Saved 63087.mp4 as where_frames.npy\n"
     ]
    },
    {
     "name": "stderr",
     "output_type": "stream",
     "text": [
      "\rProcessing Videos:  12%|█▏        | 1485/11980 [42:15<3:47:01,  1.30s/video]"
     ]
    },
    {
     "name": "stdout",
     "output_type": "stream",
     "text": [
      "Saved 63242.mp4 as who_frames.npy\n"
     ]
    },
    {
     "name": "stderr",
     "output_type": "stream",
     "text": [
      "\rProcessing Videos:  12%|█▏        | 1486/11980 [42:17<4:02:57,  1.39s/video]"
     ]
    },
    {
     "name": "stdout",
     "output_type": "stream",
     "text": [
      "Saved 63417.mp4 as window_frames.npy\n"
     ]
    },
    {
     "name": "stderr",
     "output_type": "stream",
     "text": [
      "\rProcessing Videos:  12%|█▏        | 1487/11980 [42:19<4:23:34,  1.51s/video]"
     ]
    },
    {
     "name": "stdout",
     "output_type": "stream",
     "text": [
      "Saved 63471.mp4 as win_frames.npy\n"
     ]
    },
    {
     "name": "stderr",
     "output_type": "stream",
     "text": [
      "\rProcessing Videos:  12%|█▏        | 1488/11980 [42:19<3:41:16,  1.27s/video]"
     ]
    },
    {
     "name": "stdout",
     "output_type": "stream",
     "text": [
      "Saved 63314.mp4 as wide_frames.npy\n"
     ]
    },
    {
     "name": "stderr",
     "output_type": "stream",
     "text": [
      "\rProcessing Videos:  12%|█▏        | 1489/11980 [42:20<3:17:55,  1.13s/video]"
     ]
    },
    {
     "name": "stdout",
     "output_type": "stream",
     "text": [
      "Saved 63288.mp4 as why_frames.npy\n"
     ]
    },
    {
     "name": "stderr",
     "output_type": "stream",
     "text": [
      "\rProcessing Videos:  12%|█▏        | 1490/11980 [42:22<3:59:32,  1.37s/video]"
     ]
    },
    {
     "name": "stdout",
     "output_type": "stream",
     "text": [
      "Saved 63329.mp4 as wife_frames.npy\n"
     ]
    },
    {
     "name": "stderr",
     "output_type": "stream",
     "text": [
      "\rProcessing Videos:  12%|█▏        | 1491/11980 [42:24<4:17:24,  1.47s/video]"
     ]
    },
    {
     "name": "stdout",
     "output_type": "stream",
     "text": [
      "Saved 63419.mp4 as window_frames.npy\n"
     ]
    },
    {
     "name": "stderr",
     "output_type": "stream",
     "text": [
      "\rProcessing Videos:  12%|█▏        | 1492/11980 [42:25<4:05:28,  1.40s/video]"
     ]
    },
    {
     "name": "stdout",
     "output_type": "stream",
     "text": [
      "Saved 63495.mp4 as winter_frames.npy\n"
     ]
    },
    {
     "name": "stderr",
     "output_type": "stream",
     "text": [
      "\rProcessing Videos:  12%|█▏        | 1493/11980 [42:26<3:47:05,  1.30s/video]"
     ]
    },
    {
     "name": "stdout",
     "output_type": "stream",
     "text": [
      "Saved 63327.mp4 as wife_frames.npy\n"
     ]
    },
    {
     "name": "stderr",
     "output_type": "stream",
     "text": [
      "\rProcessing Videos:  12%|█▏        | 1494/11980 [42:28<4:35:08,  1.57s/video]"
     ]
    },
    {
     "name": "stdout",
     "output_type": "stream",
     "text": [
      "Saved 63455.mp4 as wine_frames.npy\n"
     ]
    },
    {
     "name": "stderr",
     "output_type": "stream",
     "text": [
      "\rProcessing Videos:  12%|█▏        | 1495/11980 [42:30<4:42:00,  1.61s/video]"
     ]
    },
    {
     "name": "stdout",
     "output_type": "stream",
     "text": [
      "Saved 63378.mp4 as willing_frames.npy\n"
     ]
    },
    {
     "name": "stderr",
     "output_type": "stream",
     "text": [
      "\rProcessing Videos:  12%|█▏        | 1496/11980 [42:31<3:46:24,  1.30s/video]"
     ]
    },
    {
     "name": "stdout",
     "output_type": "stream",
     "text": [
      "Saved 63452.mp4 as wine_frames.npy\n"
     ]
    },
    {
     "name": "stderr",
     "output_type": "stream",
     "text": [
      "\rProcessing Videos:  12%|█▏        | 1497/11980 [42:32<4:06:31,  1.41s/video]"
     ]
    },
    {
     "name": "stdout",
     "output_type": "stream",
     "text": [
      "Saved 63383.mp4 as willing_frames.npy\n"
     ]
    },
    {
     "name": "stderr",
     "output_type": "stream",
     "text": [
      "\rProcessing Videos:  13%|█▎        | 1498/11980 [42:33<3:40:29,  1.26s/video]"
     ]
    },
    {
     "name": "stdout",
     "output_type": "stream",
     "text": [
      "Saved 63402.mp4 as wind_frames.npy\n"
     ]
    },
    {
     "name": "stderr",
     "output_type": "stream",
     "text": [
      "\rProcessing Videos:  13%|█▎        | 1499/11980 [42:34<3:20:38,  1.15s/video]"
     ]
    },
    {
     "name": "stdout",
     "output_type": "stream",
     "text": [
      "Saved 63468.mp4 as win_frames.npy\n"
     ]
    },
    {
     "name": "stderr",
     "output_type": "stream",
     "text": [
      "\rProcessing Videos:  13%|█▎        | 1500/11980 [42:36<4:16:34,  1.47s/video]"
     ]
    },
    {
     "name": "stdout",
     "output_type": "stream",
     "text": [
      "Saved 63418.mp4 as window_frames.npy\n"
     ]
    },
    {
     "name": "stderr",
     "output_type": "stream",
     "text": [
      "\rProcessing Videos:  13%|█▎        | 1501/11980 [42:38<4:16:32,  1.47s/video]"
     ]
    },
    {
     "name": "stdout",
     "output_type": "stream",
     "text": [
      "Saved 63316.mp4 as wide_frames.npy\n"
     ]
    },
    {
     "name": "stderr",
     "output_type": "stream",
     "text": [
      "\rProcessing Videos:  13%|█▎        | 1502/11980 [42:40<4:37:55,  1.59s/video]"
     ]
    },
    {
     "name": "stdout",
     "output_type": "stream",
     "text": [
      "Saved 63312.mp4 as wide_frames.npy\n"
     ]
    },
    {
     "name": "stderr",
     "output_type": "stream",
     "text": [
      "\rProcessing Videos:  13%|█▎        | 1503/11980 [42:41<4:42:24,  1.62s/video]"
     ]
    },
    {
     "name": "stdout",
     "output_type": "stream",
     "text": [
      "Saved 63337.mp4 as wife_frames.npy\n"
     ]
    },
    {
     "name": "stderr",
     "output_type": "stream",
     "text": [
      "\rProcessing Videos:  13%|█▎        | 1504/11980 [42:43<4:47:26,  1.65s/video]"
     ]
    },
    {
     "name": "stdout",
     "output_type": "stream",
     "text": [
      "Saved 63497.mp4 as winter_frames.npy\n"
     ]
    },
    {
     "name": "stderr",
     "output_type": "stream",
     "text": [
      "\rProcessing Videos:  13%|█▎        | 1505/11980 [42:44<4:10:13,  1.43s/video]"
     ]
    },
    {
     "name": "stdout",
     "output_type": "stream",
     "text": [
      "Saved 63310.mp4 as wide_frames.npy\n"
     ]
    },
    {
     "name": "stderr",
     "output_type": "stream",
     "text": [
      "\rProcessing Videos:  13%|█▎        | 1506/11980 [42:46<4:23:07,  1.51s/video]"
     ]
    },
    {
     "name": "stdout",
     "output_type": "stream",
     "text": [
      "Saved 63404.mp4 as wind_frames.npy\n"
     ]
    },
    {
     "name": "stderr",
     "output_type": "stream",
     "text": [
      "\rProcessing Videos:  13%|█▎        | 1507/11980 [42:47<4:33:56,  1.57s/video]"
     ]
    },
    {
     "name": "stdout",
     "output_type": "stream",
     "text": [
      "Saved 63410.mp4 as wind_frames.npy\n"
     ]
    },
    {
     "name": "stderr",
     "output_type": "stream",
     "text": [
      "\rProcessing Videos:  13%|█▎        | 1508/11980 [42:49<4:48:36,  1.65s/video]"
     ]
    },
    {
     "name": "stdout",
     "output_type": "stream",
     "text": [
      "Saved 63374.mp4 as will_frames.npy\n"
     ]
    },
    {
     "name": "stderr",
     "output_type": "stream",
     "text": [
      "\rProcessing Videos:  13%|█▎        | 1509/11980 [42:52<5:35:42,  1.92s/video]"
     ]
    },
    {
     "name": "stdout",
     "output_type": "stream",
     "text": [
      "Saved 63469.mp4 as win_frames.npy\n"
     ]
    },
    {
     "name": "stderr",
     "output_type": "stream",
     "text": [
      "\rProcessing Videos:  13%|█▎        | 1510/11980 [42:53<4:57:40,  1.71s/video]"
     ]
    },
    {
     "name": "stdout",
     "output_type": "stream",
     "text": [
      "Saved 63292.mp4 as why_frames.npy\n"
     ]
    },
    {
     "name": "stderr",
     "output_type": "stream",
     "text": [
      "\rProcessing Videos:  13%|█▎        | 1511/11980 [42:54<3:59:24,  1.37s/video]"
     ]
    },
    {
     "name": "stdout",
     "output_type": "stream",
     "text": [
      "Saved 63289.mp4 as why_frames.npy\n"
     ]
    },
    {
     "name": "stderr",
     "output_type": "stream",
     "text": [
      "\rProcessing Videos:  13%|█▎        | 1512/11980 [42:54<3:12:26,  1.10s/video]"
     ]
    },
    {
     "name": "stdout",
     "output_type": "stream",
     "text": [
      "Saved 63364.mp4 as will_frames.npy\n"
     ]
    },
    {
     "name": "stderr",
     "output_type": "stream",
     "text": [
      "\rProcessing Videos:  13%|█▎        | 1513/11980 [42:56<3:51:56,  1.33s/video]"
     ]
    },
    {
     "name": "stdout",
     "output_type": "stream",
     "text": [
      "Saved 63450.mp4 as wine_frames.npy\n"
     ]
    },
    {
     "name": "stderr",
     "output_type": "stream",
     "text": [
      "\rProcessing Videos:  13%|█▎        | 1514/11980 [42:58<4:10:29,  1.44s/video]"
     ]
    },
    {
     "name": "stdout",
     "output_type": "stream",
     "text": [
      "Saved 63360.mp4 as will_frames.npy\n"
     ]
    },
    {
     "name": "stderr",
     "output_type": "stream",
     "text": [
      "\rProcessing Videos:  13%|█▎        | 1515/11980 [43:02<6:21:39,  2.19s/video]"
     ]
    },
    {
     "name": "stdout",
     "output_type": "stream",
     "text": [
      "Saved 63449.mp4 as wine_frames.npy\n"
     ]
    },
    {
     "name": "stderr",
     "output_type": "stream",
     "text": [
      "\rProcessing Videos:  13%|█▎        | 1516/11980 [43:02<5:03:04,  1.74s/video]"
     ]
    },
    {
     "name": "stdout",
     "output_type": "stream",
     "text": [
      "Saved 63332.mp4 as wife_frames.npy\n"
     ]
    },
    {
     "name": "stderr",
     "output_type": "stream",
     "text": [
      "\rProcessing Videos:  13%|█▎        | 1517/11980 [43:03<4:02:33,  1.39s/video]"
     ]
    },
    {
     "name": "stdout",
     "output_type": "stream",
     "text": [
      "Saved 63473.mp4 as win_frames.npy\n"
     ]
    },
    {
     "name": "stderr",
     "output_type": "stream",
     "text": [
      "\rProcessing Videos:  13%|█▎        | 1518/11980 [43:04<3:26:36,  1.18s/video]"
     ]
    },
    {
     "name": "stdout",
     "output_type": "stream",
     "text": [
      "Saved 63407.mp4 as wind_frames.npy\n"
     ]
    },
    {
     "name": "stderr",
     "output_type": "stream",
     "text": [
      "\rProcessing Videos:  13%|█▎        | 1519/11980 [43:04<2:48:52,  1.03video/s]"
     ]
    },
    {
     "name": "stdout",
     "output_type": "stream",
     "text": [
      "Saved 63380.mp4 as willing_frames.npy\n"
     ]
    },
    {
     "name": "stderr",
     "output_type": "stream",
     "text": [
      "\rProcessing Videos:  13%|█▎        | 1520/11980 [43:05<2:42:33,  1.07video/s]"
     ]
    },
    {
     "name": "stdout",
     "output_type": "stream",
     "text": [
      "Saved 63408.mp4 as wind_frames.npy\n"
     ]
    },
    {
     "name": "stderr",
     "output_type": "stream",
     "text": [
      "\rProcessing Videos:  13%|█▎        | 1521/11980 [43:06<2:53:09,  1.01video/s]"
     ]
    },
    {
     "name": "stdout",
     "output_type": "stream",
     "text": [
      "Saved 63326.mp4 as wife_frames.npy\n"
     ]
    },
    {
     "name": "stderr",
     "output_type": "stream",
     "text": [
      "\rProcessing Videos:  13%|█▎        | 1522/11980 [43:08<3:56:44,  1.36s/video]"
     ]
    },
    {
     "name": "stdout",
     "output_type": "stream",
     "text": [
      "Saved 63405.mp4 as wind_frames.npy\n"
     ]
    },
    {
     "name": "stderr",
     "output_type": "stream",
     "text": [
      "\rProcessing Videos:  13%|█▎        | 1523/11980 [43:11<5:16:34,  1.82s/video]"
     ]
    },
    {
     "name": "stdout",
     "output_type": "stream",
     "text": [
      "Saved 63496.mp4 as winter_frames.npy\n"
     ]
    },
    {
     "name": "stderr",
     "output_type": "stream",
     "text": [
      "\rProcessing Videos:  13%|█▎        | 1524/11980 [43:12<4:16:33,  1.47s/video]"
     ]
    },
    {
     "name": "stdout",
     "output_type": "stream",
     "text": [
      "Saved 63381.mp4 as willing_frames.npy\n"
     ]
    },
    {
     "name": "stderr",
     "output_type": "stream",
     "text": [
      "\rProcessing Videos:  13%|█▎        | 1525/11980 [43:14<4:35:43,  1.58s/video]"
     ]
    },
    {
     "name": "stdout",
     "output_type": "stream",
     "text": [
      "Saved 63427.mp4 as window_frames.npy\n"
     ]
    },
    {
     "name": "stderr",
     "output_type": "stream",
     "text": [
      "\rProcessing Videos:  13%|█▎        | 1526/11980 [43:15<4:44:01,  1.63s/video]"
     ]
    },
    {
     "name": "stdout",
     "output_type": "stream",
     "text": [
      "Saved 63478.mp4 as win_frames.npy\n"
     ]
    },
    {
     "name": "stderr",
     "output_type": "stream",
     "text": [
      "\rProcessing Videos:  13%|█▎        | 1527/11980 [43:16<4:08:33,  1.43s/video]"
     ]
    },
    {
     "name": "stdout",
     "output_type": "stream",
     "text": [
      "Saved 63448.mp4 as wine_frames.npy\n"
     ]
    },
    {
     "name": "stderr",
     "output_type": "stream",
     "text": [
      "\rProcessing Videos:  13%|█▎        | 1528/11980 [43:17<3:30:00,  1.21s/video]"
     ]
    },
    {
     "name": "stdout",
     "output_type": "stream",
     "text": [
      "Saved 63422.mp4 as window_frames.npy\n"
     ]
    },
    {
     "name": "stderr",
     "output_type": "stream",
     "text": [
      "\rProcessing Videos:  13%|█▎        | 1529/11980 [43:21<5:38:23,  1.94s/video]"
     ]
    },
    {
     "name": "stdout",
     "output_type": "stream",
     "text": [
      "Saved 63328.mp4 as wife_frames.npy\n"
     ]
    },
    {
     "name": "stderr",
     "output_type": "stream",
     "text": [
      "\rProcessing Videos:  13%|█▎        | 1530/11980 [43:22<4:58:27,  1.71s/video]"
     ]
    },
    {
     "name": "stdout",
     "output_type": "stream",
     "text": [
      "Saved 63470.mp4 as win_frames.npy\n"
     ]
    },
    {
     "name": "stderr",
     "output_type": "stream",
     "text": [
      "\rProcessing Videos:  13%|█▎        | 1531/11980 [43:23<4:13:51,  1.46s/video]"
     ]
    },
    {
     "name": "stdout",
     "output_type": "stream",
     "text": [
      "Saved 63377.mp4 as willing_frames.npy\n"
     ]
    },
    {
     "name": "stderr",
     "output_type": "stream",
     "text": [
      "\rProcessing Videos:  13%|█▎        | 1532/11980 [43:26<5:30:52,  1.90s/video]"
     ]
    },
    {
     "name": "stdout",
     "output_type": "stream",
     "text": [
      "Saved 63403.mp4 as wind_frames.npy\n"
     ]
    },
    {
     "name": "stderr",
     "output_type": "stream",
     "text": [
      "\rProcessing Videos:  13%|█▎        | 1533/11980 [43:27<5:18:37,  1.83s/video]"
     ]
    },
    {
     "name": "stdout",
     "output_type": "stream",
     "text": [
      "Saved 63311.mp4 as wide_frames.npy\n"
     ]
    },
    {
     "name": "stderr",
     "output_type": "stream",
     "text": [
      "\rProcessing Videos:  13%|█▎        | 1534/11980 [43:30<5:47:41,  2.00s/video]"
     ]
    },
    {
     "name": "stdout",
     "output_type": "stream",
     "text": [
      "Saved 63599.mp4 as within_frames.npy\n"
     ]
    },
    {
     "name": "stderr",
     "output_type": "stream",
     "text": [
      "\rProcessing Videos:  13%|█▎        | 1535/11980 [43:31<5:38:43,  1.95s/video]"
     ]
    },
    {
     "name": "stdout",
     "output_type": "stream",
     "text": [
      "Saved 63499.mp4 as winter_frames.npy\n"
     ]
    },
    {
     "name": "stderr",
     "output_type": "stream",
     "text": [
      "\rProcessing Videos:  13%|█▎        | 1536/11980 [43:33<5:25:00,  1.87s/video]"
     ]
    },
    {
     "name": "stdout",
     "output_type": "stream",
     "text": [
      "Saved 63691.mp4 as wonderful_frames.npy\n"
     ]
    },
    {
     "name": "stderr",
     "output_type": "stream",
     "text": [
      "\rProcessing Videos:  13%|█▎        | 1537/11980 [43:34<4:10:14,  1.44s/video]"
     ]
    },
    {
     "name": "stdout",
     "output_type": "stream",
     "text": [
      "Saved 63656.mp4 as wolf_frames.npy\n"
     ]
    },
    {
     "name": "stderr",
     "output_type": "stream",
     "text": [
      "\rProcessing Videos:  13%|█▎        | 1538/11980 [43:35<3:53:11,  1.34s/video]"
     ]
    },
    {
     "name": "stdout",
     "output_type": "stream",
     "text": [
      "Saved 63666.mp4 as woman_frames.npy\n"
     ]
    },
    {
     "name": "stderr",
     "output_type": "stream",
     "text": [
      "\rProcessing Videos:  13%|█▎        | 1539/11980 [43:36<4:07:00,  1.42s/video]"
     ]
    },
    {
     "name": "stdout",
     "output_type": "stream",
     "text": [
      "Saved 63556.mp4 as wish_frames.npy\n"
     ]
    },
    {
     "name": "stderr",
     "output_type": "stream",
     "text": [
      "\rProcessing Videos:  13%|█▎        | 1540/11980 [43:37<3:28:43,  1.20s/video]"
     ]
    },
    {
     "name": "stdout",
     "output_type": "stream",
     "text": [
      "Saved 63612.mp4 as without_frames.npy\n"
     ]
    },
    {
     "name": "stderr",
     "output_type": "stream",
     "text": [
      "\rProcessing Videos:  13%|█▎        | 1541/11980 [43:38<3:04:39,  1.06s/video]"
     ]
    },
    {
     "name": "stdout",
     "output_type": "stream",
     "text": [
      "Saved 63603.mp4 as within_frames.npy\n"
     ]
    },
    {
     "name": "stderr",
     "output_type": "stream",
     "text": [
      "\rProcessing Videos:  13%|█▎        | 1542/11980 [43:39<3:34:12,  1.23s/video]"
     ]
    },
    {
     "name": "stdout",
     "output_type": "stream",
     "text": [
      "Saved 63590.mp4 as with_frames.npy\n"
     ]
    },
    {
     "name": "stderr",
     "output_type": "stream",
     "text": [
      "\rProcessing Videos:  13%|█▎        | 1543/11980 [43:41<4:06:29,  1.42s/video]"
     ]
    },
    {
     "name": "stdout",
     "output_type": "stream",
     "text": [
      "Saved 63668.mp4 as woman_frames.npy\n"
     ]
    },
    {
     "name": "stderr",
     "output_type": "stream",
     "text": [
      "\rProcessing Videos:  13%|█▎        | 1544/11980 [43:42<3:20:43,  1.15s/video]"
     ]
    },
    {
     "name": "stdout",
     "output_type": "stream",
     "text": [
      "Saved 63657.mp4 as wolf_frames.npy\n"
     ]
    },
    {
     "name": "stderr",
     "output_type": "stream",
     "text": [
      "\rProcessing Videos:  13%|█▎        | 1545/11980 [43:44<3:53:51,  1.34s/video]"
     ]
    },
    {
     "name": "stdout",
     "output_type": "stream",
     "text": [
      "Saved 63504.mp4 as winter_frames.npy\n"
     ]
    },
    {
     "name": "stderr",
     "output_type": "stream",
     "text": [
      "\rProcessing Videos:  13%|█▎        | 1546/11980 [43:45<4:05:49,  1.41s/video]"
     ]
    },
    {
     "name": "stdout",
     "output_type": "stream",
     "text": [
      "Saved 63679.mp4 as woman_frames.npy\n"
     ]
    },
    {
     "name": "stderr",
     "output_type": "stream",
     "text": [
      "\rProcessing Videos:  13%|█▎        | 1547/11980 [43:47<4:10:00,  1.44s/video]"
     ]
    },
    {
     "name": "stdout",
     "output_type": "stream",
     "text": [
      "Saved 63596.mp4 as with_frames.npy\n"
     ]
    },
    {
     "name": "stderr",
     "output_type": "stream",
     "text": [
      "\rProcessing Videos:  13%|█▎        | 1548/11980 [43:47<3:18:55,  1.14s/video]"
     ]
    },
    {
     "name": "stdout",
     "output_type": "stream",
     "text": [
      "Saved 63672.mp4 as woman_frames.npy\n"
     ]
    },
    {
     "name": "stderr",
     "output_type": "stream",
     "text": [
      "\rProcessing Videos:  13%|█▎        | 1549/11980 [43:49<4:03:52,  1.40s/video]"
     ]
    },
    {
     "name": "stdout",
     "output_type": "stream",
     "text": [
      "Saved 63669.mp4 as woman_frames.npy\n"
     ]
    },
    {
     "name": "stderr",
     "output_type": "stream",
     "text": [
      "\rProcessing Videos:  13%|█▎        | 1550/11980 [43:51<4:09:58,  1.44s/video]"
     ]
    },
    {
     "name": "stdout",
     "output_type": "stream",
     "text": [
      "Saved 63640.mp4 as witness_frames.npy\n"
     ]
    },
    {
     "name": "stderr",
     "output_type": "stream",
     "text": [
      "\rProcessing Videos:  13%|█▎        | 1551/11980 [43:51<3:27:50,  1.20s/video]"
     ]
    },
    {
     "name": "stdout",
     "output_type": "stream",
     "text": [
      "Saved 63693.mp4 as wonderful_frames.npy\n"
     ]
    },
    {
     "name": "stderr",
     "output_type": "stream",
     "text": [
      "\rProcessing Videos:  13%|█▎        | 1552/11980 [43:52<2:51:35,  1.01video/s]"
     ]
    },
    {
     "name": "stdout",
     "output_type": "stream",
     "text": [
      "Saved 63629.mp4 as witness_frames.npy\n"
     ]
    },
    {
     "name": "stderr",
     "output_type": "stream",
     "text": [
      "\rProcessing Videos:  13%|█▎        | 1553/11980 [43:55<4:29:01,  1.55s/video]"
     ]
    },
    {
     "name": "stdout",
     "output_type": "stream",
     "text": [
      "Saved 63608.mp4 as without_frames.npy\n"
     ]
    },
    {
     "name": "stderr",
     "output_type": "stream",
     "text": [
      "\rProcessing Videos:  13%|█▎        | 1554/11980 [43:55<3:50:45,  1.33s/video]"
     ]
    },
    {
     "name": "stdout",
     "output_type": "stream",
     "text": [
      "Saved 63598.mp4 as within_frames.npy\n"
     ]
    },
    {
     "name": "stderr",
     "output_type": "stream",
     "text": [
      "\rProcessing Videos:  13%|█▎        | 1555/11980 [43:57<4:17:25,  1.48s/video]"
     ]
    },
    {
     "name": "stdout",
     "output_type": "stream",
     "text": [
      "Saved 63654.mp4 as wolf_frames.npy\n"
     ]
    },
    {
     "name": "stderr",
     "output_type": "stream",
     "text": [
      "\rProcessing Videos:  13%|█▎        | 1556/11980 [43:59<4:47:41,  1.66s/video]"
     ]
    },
    {
     "name": "stdout",
     "output_type": "stream",
     "text": [
      "Saved 63623.mp4 as witness_frames.npy\n"
     ]
    },
    {
     "name": "stderr",
     "output_type": "stream",
     "text": [
      "\rProcessing Videos:  13%|█▎        | 1557/11980 [44:00<4:12:10,  1.45s/video]"
     ]
    },
    {
     "name": "stdout",
     "output_type": "stream",
     "text": [
      "Saved 63665.mp4 as woman_frames.npy\n"
     ]
    },
    {
     "name": "stderr",
     "output_type": "stream",
     "text": [
      "\rProcessing Videos:  13%|█▎        | 1558/11980 [44:04<5:48:28,  2.01s/video]"
     ]
    },
    {
     "name": "stdout",
     "output_type": "stream",
     "text": [
      "Saved 63588.mp4 as with_frames.npy\n"
     ]
    },
    {
     "name": "stderr",
     "output_type": "stream",
     "text": [
      "\rProcessing Videos:  13%|█▎        | 1559/11980 [44:05<5:20:51,  1.85s/video]"
     ]
    },
    {
     "name": "stdout",
     "output_type": "stream",
     "text": [
      "Saved 63694.mp4 as wonderful_frames.npy\n"
     ]
    },
    {
     "name": "stderr",
     "output_type": "stream",
     "text": [
      "\rProcessing Videos:  13%|█▎        | 1560/11980 [44:06<4:36:44,  1.59s/video]"
     ]
    },
    {
     "name": "stdout",
     "output_type": "stream",
     "text": [
      "Saved 63587.mp4 as with_frames.npy\n"
     ]
    },
    {
     "name": "stderr",
     "output_type": "stream",
     "text": [
      "\rProcessing Videos:  13%|█▎        | 1561/11980 [44:07<4:05:54,  1.42s/video]"
     ]
    },
    {
     "name": "stdout",
     "output_type": "stream",
     "text": [
      "Saved 63622.mp4 as witness_frames.npy\n"
     ]
    },
    {
     "name": "stderr",
     "output_type": "stream",
     "text": [
      "\rProcessing Videos:  13%|█▎        | 1562/11980 [44:08<3:40:14,  1.27s/video]"
     ]
    },
    {
     "name": "stdout",
     "output_type": "stream",
     "text": [
      "Saved 63689.mp4 as wonderful_frames.npy\n"
     ]
    },
    {
     "name": "stderr",
     "output_type": "stream",
     "text": [
      "\rProcessing Videos:  13%|█▎        | 1563/11980 [44:10<4:01:43,  1.39s/video]"
     ]
    },
    {
     "name": "stdout",
     "output_type": "stream",
     "text": [
      "Saved 63610.mp4 as without_frames.npy\n"
     ]
    },
    {
     "name": "stderr",
     "output_type": "stream",
     "text": [
      "\rProcessing Videos:  13%|█▎        | 1564/11980 [44:11<4:01:22,  1.39s/video]"
     ]
    },
    {
     "name": "stdout",
     "output_type": "stream",
     "text": [
      "Saved 63604.mp4 as within_frames.npy\n"
     ]
    },
    {
     "name": "stderr",
     "output_type": "stream",
     "text": [
      "\rProcessing Videos:  13%|█▎        | 1565/11980 [44:13<4:04:43,  1.41s/video]"
     ]
    },
    {
     "name": "stdout",
     "output_type": "stream",
     "text": [
      "Saved 63667.mp4 as woman_frames.npy\n"
     ]
    },
    {
     "name": "stderr",
     "output_type": "stream",
     "text": [
      "\rProcessing Videos:  13%|█▎        | 1566/11980 [44:13<3:28:50,  1.20s/video]"
     ]
    },
    {
     "name": "stdout",
     "output_type": "stream",
     "text": [
      "Saved 63502.mp4 as winter_frames.npy\n"
     ]
    },
    {
     "name": "stderr",
     "output_type": "stream",
     "text": [
      "\rProcessing Videos:  13%|█▎        | 1567/11980 [44:14<3:01:24,  1.05s/video]"
     ]
    },
    {
     "name": "stdout",
     "output_type": "stream",
     "text": [
      "Saved 63628.mp4 as witness_frames.npy\n"
     ]
    },
    {
     "name": "stderr",
     "output_type": "stream",
     "text": [
      "\rProcessing Videos:  13%|█▎        | 1568/11980 [44:14<2:35:04,  1.12video/s]"
     ]
    },
    {
     "name": "stdout",
     "output_type": "stream",
     "text": [
      "Saved 63673.mp4 as woman_frames.npy\n"
     ]
    },
    {
     "name": "stderr",
     "output_type": "stream",
     "text": [
      "\rProcessing Videos:  13%|█▎        | 1569/11980 [44:18<5:06:28,  1.77s/video]"
     ]
    },
    {
     "name": "stdout",
     "output_type": "stream",
     "text": [
      "Saved 63589.mp4 as with_frames.npy\n"
     ]
    },
    {
     "name": "stderr",
     "output_type": "stream",
     "text": [
      "\rProcessing Videos:  13%|█▎        | 1570/11980 [44:19<4:13:23,  1.46s/video]"
     ]
    },
    {
     "name": "stdout",
     "output_type": "stream",
     "text": [
      "Saved 63630.mp4 as witness_frames.npy\n"
     ]
    },
    {
     "name": "stderr",
     "output_type": "stream",
     "text": [
      "\rProcessing Videos:  13%|█▎        | 1571/11980 [44:20<3:29:47,  1.21s/video]"
     ]
    },
    {
     "name": "stdout",
     "output_type": "stream",
     "text": [
      "Saved 63592.mp4 as with_frames.npy\n"
     ]
    },
    {
     "name": "stderr",
     "output_type": "stream",
     "text": [
      "\rProcessing Videos:  13%|█▎        | 1572/11980 [44:20<2:51:23,  1.01video/s]"
     ]
    },
    {
     "name": "stdout",
     "output_type": "stream",
     "text": [
      "Saved 63560.mp4 as wish_frames.npy\n"
     ]
    },
    {
     "name": "stderr",
     "output_type": "stream",
     "text": [
      "\rProcessing Videos:  13%|█▎        | 1573/11980 [44:22<3:19:40,  1.15s/video]"
     ]
    },
    {
     "name": "stdout",
     "output_type": "stream",
     "text": [
      "Saved 63653.mp4 as wolf_frames.npy\n"
     ]
    },
    {
     "name": "stderr",
     "output_type": "stream",
     "text": [
      "\rProcessing Videos:  13%|█▎        | 1574/11980 [44:25<5:26:40,  1.88s/video]"
     ]
    },
    {
     "name": "stdout",
     "output_type": "stream",
     "text": [
      "Saved 63690.mp4 as wonderful_frames.npy\n"
     ]
    },
    {
     "name": "stderr",
     "output_type": "stream",
     "text": [
      "\rProcessing Videos:  13%|█▎        | 1575/11980 [44:27<4:56:38,  1.71s/video]"
     ]
    },
    {
     "name": "stdout",
     "output_type": "stream",
     "text": [
      "Saved 63609.mp4 as without_frames.npy\n"
     ]
    },
    {
     "name": "stderr",
     "output_type": "stream",
     "text": [
      "\rProcessing Videos:  13%|█▎        | 1576/11980 [44:29<5:24:48,  1.87s/video]"
     ]
    },
    {
     "name": "stdout",
     "output_type": "stream",
     "text": [
      "Saved 63659.mp4 as wolf_frames.npy\n"
     ]
    },
    {
     "name": "stderr",
     "output_type": "stream",
     "text": [
      "\rProcessing Videos:  13%|█▎        | 1577/11980 [44:30<5:00:35,  1.73s/video]"
     ]
    },
    {
     "name": "stdout",
     "output_type": "stream",
     "text": [
      "Saved 63615.mp4 as without_frames.npy\n"
     ]
    },
    {
     "name": "stderr",
     "output_type": "stream",
     "text": [
      "\rProcessing Videos:  13%|█▎        | 1578/11980 [44:31<4:34:33,  1.58s/video]"
     ]
    },
    {
     "name": "stdout",
     "output_type": "stream",
     "text": [
      "Saved 63563.mp4 as wish_frames.npy\n"
     ]
    },
    {
     "name": "stderr",
     "output_type": "stream",
     "text": [
      "\rProcessing Videos:  13%|█▎        | 1579/11980 [44:33<4:11:57,  1.45s/video]"
     ]
    },
    {
     "name": "stdout",
     "output_type": "stream",
     "text": [
      "Saved 63607.mp4 as without_frames.npy\n"
     ]
    },
    {
     "name": "stderr",
     "output_type": "stream",
     "text": [
      "\rProcessing Videos:  13%|█▎        | 1580/11980 [44:34<4:24:36,  1.53s/video]"
     ]
    },
    {
     "name": "stdout",
     "output_type": "stream",
     "text": [
      "Saved 63600.mp4 as within_frames.npy\n"
     ]
    },
    {
     "name": "stderr",
     "output_type": "stream",
     "text": [
      "\rProcessing Videos:  13%|█▎        | 1581/11980 [44:35<3:53:45,  1.35s/video]"
     ]
    },
    {
     "name": "stdout",
     "output_type": "stream",
     "text": [
      "Saved 63664.mp4 as woman_frames.npy\n"
     ]
    },
    {
     "name": "stderr",
     "output_type": "stream",
     "text": [
      "\rProcessing Videos:  13%|█▎        | 1582/11980 [44:36<3:43:18,  1.29s/video]"
     ]
    },
    {
     "name": "stdout",
     "output_type": "stream",
     "text": [
      "Saved 63837.mp4 as world_frames.npy\n"
     ]
    },
    {
     "name": "stderr",
     "output_type": "stream",
     "text": [
      "\rProcessing Videos:  13%|█▎        | 1583/11980 [44:37<3:21:56,  1.17s/video]"
     ]
    },
    {
     "name": "stdout",
     "output_type": "stream",
     "text": [
      "Saved 63836.mp4 as world_frames.npy\n"
     ]
    },
    {
     "name": "stderr",
     "output_type": "stream",
     "text": [
      "\rProcessing Videos:  13%|█▎        | 1584/11980 [44:38<3:07:55,  1.08s/video]"
     ]
    },
    {
     "name": "stdout",
     "output_type": "stream",
     "text": [
      "Saved 63788.mp4 as work_frames.npy\n"
     ]
    },
    {
     "name": "stderr",
     "output_type": "stream",
     "text": [
      "\rProcessing Videos:  13%|█▎        | 1585/11980 [44:40<3:36:57,  1.25s/video]"
     ]
    },
    {
     "name": "stdout",
     "output_type": "stream",
     "text": [
      "Saved 63729.mp4 as wood_frames.npy\n"
     ]
    },
    {
     "name": "stderr",
     "output_type": "stream",
     "text": [
      "\rProcessing Videos:  13%|█▎        | 1586/11980 [44:41<3:16:47,  1.14s/video]"
     ]
    },
    {
     "name": "stdout",
     "output_type": "stream",
     "text": [
      "Saved 63780.mp4 as worker_frames.npy\n"
     ]
    },
    {
     "name": "stderr",
     "output_type": "stream",
     "text": [
      "\rProcessing Videos:  13%|█▎        | 1587/11980 [44:42<3:45:16,  1.30s/video]"
     ]
    },
    {
     "name": "stdout",
     "output_type": "stream",
     "text": [
      "Saved 63753.mp4 as word_frames.npy\n"
     ]
    },
    {
     "name": "stderr",
     "output_type": "stream",
     "text": [
      "\rProcessing Videos:  13%|█▎        | 1588/11980 [44:45<4:35:52,  1.59s/video]"
     ]
    },
    {
     "name": "stdout",
     "output_type": "stream",
     "text": [
      "Saved 63791.mp4 as work_frames.npy\n"
     ]
    },
    {
     "name": "stderr",
     "output_type": "stream",
     "text": [
      "\rProcessing Videos:  13%|█▎        | 1589/11980 [44:47<4:56:13,  1.71s/video]"
     ]
    },
    {
     "name": "stdout",
     "output_type": "stream",
     "text": [
      "Saved 63754.mp4 as word_frames.npy\n"
     ]
    },
    {
     "name": "stderr",
     "output_type": "stream",
     "text": [
      "\rProcessing Videos:  13%|█▎        | 1590/11980 [44:47<4:10:12,  1.44s/video]"
     ]
    },
    {
     "name": "stdout",
     "output_type": "stream",
     "text": [
      "Saved 63824.mp4 as workshop_frames.npy\n"
     ]
    },
    {
     "name": "stderr",
     "output_type": "stream",
     "text": [
      "\rProcessing Videos:  13%|█▎        | 1591/11980 [44:50<4:48:03,  1.66s/video]"
     ]
    },
    {
     "name": "stdout",
     "output_type": "stream",
     "text": [
      "Saved 63886.mp4 as worse_frames.npy\n"
     ]
    },
    {
     "name": "stderr",
     "output_type": "stream",
     "text": [
      "\rProcessing Videos:  13%|█▎        | 1592/11980 [44:51<4:57:12,  1.72s/video]"
     ]
    },
    {
     "name": "stdout",
     "output_type": "stream",
     "text": [
      "Saved 63856.mp4 as worm_frames.npy\n"
     ]
    },
    {
     "name": "stderr",
     "output_type": "stream",
     "text": [
      "\rProcessing Videos:  13%|█▎        | 1593/11980 [44:53<4:48:46,  1.67s/video]"
     ]
    },
    {
     "name": "stdout",
     "output_type": "stream",
     "text": [
      "Saved 63789.mp4 as work_frames.npy\n"
     ]
    },
    {
     "name": "stderr",
     "output_type": "stream",
     "text": [
      "\rProcessing Videos:  13%|█▎        | 1594/11980 [44:55<5:13:14,  1.81s/video]"
     ]
    },
    {
     "name": "stdout",
     "output_type": "stream",
     "text": [
      "Saved 63876.mp4 as worry_frames.npy\n"
     ]
    },
    {
     "name": "stderr",
     "output_type": "stream",
     "text": [
      "\rProcessing Videos:  13%|█▎        | 1595/11980 [44:57<5:01:00,  1.74s/video]"
     ]
    },
    {
     "name": "stdout",
     "output_type": "stream",
     "text": [
      "Saved 63763.mp4 as word_frames.npy\n"
     ]
    },
    {
     "name": "stderr",
     "output_type": "stream",
     "text": [
      "\rProcessing Videos:  13%|█▎        | 1596/11980 [44:58<4:30:14,  1.56s/video]"
     ]
    },
    {
     "name": "stdout",
     "output_type": "stream",
     "text": [
      "Saved 63832.mp4 as world_frames.npy\n"
     ]
    },
    {
     "name": "stderr",
     "output_type": "stream",
     "text": [
      "\rProcessing Videos:  13%|█▎        | 1597/11980 [45:00<5:09:06,  1.79s/video]"
     ]
    },
    {
     "name": "stdout",
     "output_type": "stream",
     "text": [
      "Saved 63822.mp4 as workshop_frames.npy\n"
     ]
    },
    {
     "name": "stderr",
     "output_type": "stream",
     "text": [
      "\rProcessing Videos:  13%|█▎        | 1598/11980 [45:02<4:56:43,  1.71s/video]"
     ]
    },
    {
     "name": "stdout",
     "output_type": "stream",
     "text": [
      "Saved 63756.mp4 as word_frames.npy\n"
     ]
    },
    {
     "name": "stderr",
     "output_type": "stream",
     "text": [
      "\rProcessing Videos:  13%|█▎        | 1599/11980 [45:02<4:04:19,  1.41s/video]"
     ]
    },
    {
     "name": "stdout",
     "output_type": "stream",
     "text": [
      "Saved 63701.mp4 as wonder_frames.npy\n"
     ]
    },
    {
     "name": "stderr",
     "output_type": "stream",
     "text": [
      "\rProcessing Videos:  13%|█▎        | 1600/11980 [45:04<4:07:00,  1.43s/video]"
     ]
    },
    {
     "name": "stdout",
     "output_type": "stream",
     "text": [
      "Saved 63827.mp4 as workshop_frames.npy\n"
     ]
    },
    {
     "name": "stderr",
     "output_type": "stream",
     "text": [
      "\rProcessing Videos:  13%|█▎        | 1601/11980 [45:06<5:04:14,  1.76s/video]"
     ]
    },
    {
     "name": "stdout",
     "output_type": "stream",
     "text": [
      "Saved 63875.mp4 as worry_frames.npy\n"
     ]
    },
    {
     "name": "stderr",
     "output_type": "stream",
     "text": [
      "\rProcessing Videos:  13%|█▎        | 1602/11980 [45:07<4:03:17,  1.41s/video]"
     ]
    },
    {
     "name": "stdout",
     "output_type": "stream",
     "text": [
      "Saved 63783.mp4 as worker_frames.npy\n"
     ]
    },
    {
     "name": "stderr",
     "output_type": "stream",
     "text": [
      "\rProcessing Videos:  13%|█▎        | 1603/11980 [45:09<4:29:21,  1.56s/video]"
     ]
    },
    {
     "name": "stdout",
     "output_type": "stream",
     "text": [
      "Saved 63851.mp4 as worm_frames.npy\n"
     ]
    },
    {
     "name": "stderr",
     "output_type": "stream",
     "text": [
      "\rProcessing Videos:  13%|█▎        | 1604/11980 [45:10<3:42:39,  1.29s/video]"
     ]
    },
    {
     "name": "stdout",
     "output_type": "stream",
     "text": [
      "Saved 63853.mp4 as worm_frames.npy\n"
     ]
    },
    {
     "name": "stderr",
     "output_type": "stream",
     "text": [
      "\rProcessing Videos:  13%|█▎        | 1605/11980 [45:11<3:37:25,  1.26s/video]"
     ]
    },
    {
     "name": "stdout",
     "output_type": "stream",
     "text": [
      "Saved 63806.mp4 as work_frames.npy\n"
     ]
    },
    {
     "name": "stderr",
     "output_type": "stream",
     "text": [
      "\rProcessing Videos:  13%|█▎        | 1606/11980 [45:13<4:14:03,  1.47s/video]"
     ]
    },
    {
     "name": "stdout",
     "output_type": "stream",
     "text": [
      "Saved 63793.mp4 as work_frames.npy\n"
     ]
    },
    {
     "name": "stderr",
     "output_type": "stream",
     "text": [
      "\rProcessing Videos:  13%|█▎        | 1607/11980 [45:14<4:14:35,  1.47s/video]"
     ]
    },
    {
     "name": "stdout",
     "output_type": "stream",
     "text": [
      "Saved 63785.mp4 as worker_frames.npy\n"
     ]
    },
    {
     "name": "stderr",
     "output_type": "stream",
     "text": [
      "\rProcessing Videos:  13%|█▎        | 1608/11980 [45:16<4:21:45,  1.51s/video]"
     ]
    },
    {
     "name": "stdout",
     "output_type": "stream",
     "text": [
      "Saved 63841.mp4 as world_frames.npy\n"
     ]
    },
    {
     "name": "stderr",
     "output_type": "stream",
     "text": [
      "\rProcessing Videos:  13%|█▎        | 1609/11980 [45:18<5:18:53,  1.84s/video]"
     ]
    },
    {
     "name": "stdout",
     "output_type": "stream",
     "text": [
      "Saved 63792.mp4 as work_frames.npy\n"
     ]
    },
    {
     "name": "stderr",
     "output_type": "stream",
     "text": [
      "\rProcessing Videos:  13%|█▎        | 1610/11980 [45:19<4:33:29,  1.58s/video]"
     ]
    },
    {
     "name": "stdout",
     "output_type": "stream",
     "text": [
      "Saved 63752.mp4 as word_frames.npy\n"
     ]
    },
    {
     "name": "stderr",
     "output_type": "stream",
     "text": [
      "\rProcessing Videos:  13%|█▎        | 1611/11980 [45:20<3:57:05,  1.37s/video]"
     ]
    },
    {
     "name": "stdout",
     "output_type": "stream",
     "text": [
      "Saved 63722.mp4 as wood_frames.npy\n"
     ]
    },
    {
     "name": "stderr",
     "output_type": "stream",
     "text": [
      "\rProcessing Videos:  13%|█▎        | 1612/11980 [45:22<4:31:23,  1.57s/video]"
     ]
    },
    {
     "name": "stdout",
     "output_type": "stream",
     "text": [
      "Saved 63724.mp4 as wood_frames.npy\n"
     ]
    },
    {
     "name": "stderr",
     "output_type": "stream",
     "text": [
      "\rProcessing Videos:  13%|█▎        | 1613/11980 [45:23<4:01:12,  1.40s/video]"
     ]
    },
    {
     "name": "stdout",
     "output_type": "stream",
     "text": [
      "Saved 63831.mp4 as world_frames.npy\n"
     ]
    },
    {
     "name": "stderr",
     "output_type": "stream",
     "text": [
      "\rProcessing Videos:  13%|█▎        | 1614/11980 [45:24<3:40:42,  1.28s/video]"
     ]
    },
    {
     "name": "stdout",
     "output_type": "stream",
     "text": [
      "Saved 63695.mp4 as wonder_frames.npy\n"
     ]
    },
    {
     "name": "stderr",
     "output_type": "stream",
     "text": [
      "\rProcessing Videos:  13%|█▎        | 1615/11980 [45:25<3:16:04,  1.14s/video]"
     ]
    },
    {
     "name": "stdout",
     "output_type": "stream",
     "text": [
      "Saved 63885.mp4 as worse_frames.npy\n"
     ]
    },
    {
     "name": "stderr",
     "output_type": "stream",
     "text": [
      "\rProcessing Videos:  13%|█▎        | 1616/11980 [45:28<4:50:21,  1.68s/video]"
     ]
    },
    {
     "name": "stdout",
     "output_type": "stream",
     "text": [
      "Saved 63723.mp4 as wood_frames.npy\n"
     ]
    },
    {
     "name": "stderr",
     "output_type": "stream",
     "text": [
      "\rProcessing Videos:  13%|█▎        | 1617/11980 [45:29<4:31:51,  1.57s/video]"
     ]
    },
    {
     "name": "stdout",
     "output_type": "stream",
     "text": [
      "Saved 63850.mp4 as worm_frames.npy\n"
     ]
    },
    {
     "name": "stderr",
     "output_type": "stream",
     "text": [
      "\rProcessing Videos:  14%|█▎        | 1618/11980 [45:32<5:10:03,  1.80s/video]"
     ]
    },
    {
     "name": "stdout",
     "output_type": "stream",
     "text": [
      "Saved 63755.mp4 as word_frames.npy\n"
     ]
    },
    {
     "name": "stderr",
     "output_type": "stream",
     "text": [
      "\rProcessing Videos:  14%|█▎        | 1619/11980 [45:33<4:34:51,  1.59s/video]"
     ]
    },
    {
     "name": "stdout",
     "output_type": "stream",
     "text": [
      "Saved 63790.mp4 as work_frames.npy\n"
     ]
    },
    {
     "name": "stderr",
     "output_type": "stream",
     "text": [
      "\rProcessing Videos:  14%|█▎        | 1620/11980 [45:35<4:46:44,  1.66s/video]"
     ]
    },
    {
     "name": "stdout",
     "output_type": "stream",
     "text": [
      "Saved 63781.mp4 as worker_frames.npy\n"
     ]
    },
    {
     "name": "stderr",
     "output_type": "stream",
     "text": [
      "\rProcessing Videos:  14%|█▎        | 1621/11980 [45:35<3:55:08,  1.36s/video]"
     ]
    },
    {
     "name": "stdout",
     "output_type": "stream",
     "text": [
      "Saved 63799.mp4 as work_frames.npy\n"
     ]
    },
    {
     "name": "stderr",
     "output_type": "stream",
     "text": [
      "\rProcessing Videos:  14%|█▎        | 1622/11980 [45:37<4:14:59,  1.48s/video]"
     ]
    },
    {
     "name": "stdout",
     "output_type": "stream",
     "text": [
      "Saved 63697.mp4 as wonder_frames.npy\n"
     ]
    },
    {
     "name": "stderr",
     "output_type": "stream",
     "text": [
      "\rProcessing Videos:  14%|█▎        | 1623/11980 [45:37<3:22:30,  1.17s/video]"
     ]
    },
    {
     "name": "stdout",
     "output_type": "stream",
     "text": [
      "Saved 63760.mp4 as word_frames.npy\n"
     ]
    },
    {
     "name": "stderr",
     "output_type": "stream",
     "text": [
      "\rProcessing Videos:  14%|█▎        | 1624/11980 [45:38<2:56:30,  1.02s/video]"
     ]
    },
    {
     "name": "stdout",
     "output_type": "stream",
     "text": [
      "Saved 63726.mp4 as wood_frames.npy\n"
     ]
    },
    {
     "name": "stderr",
     "output_type": "stream",
     "text": [
      "\rProcessing Videos:  14%|█▎        | 1625/11980 [45:40<3:37:29,  1.26s/video]"
     ]
    },
    {
     "name": "stdout",
     "output_type": "stream",
     "text": [
      "Saved 63696.mp4 as wonder_frames.npy\n"
     ]
    },
    {
     "name": "stderr",
     "output_type": "stream",
     "text": [
      "\rProcessing Videos:  14%|█▎        | 1626/11980 [45:41<3:24:49,  1.19s/video]"
     ]
    },
    {
     "name": "stdout",
     "output_type": "stream",
     "text": [
      "Saved 63879.mp4 as worry_frames.npy\n"
     ]
    },
    {
     "name": "stderr",
     "output_type": "stream",
     "text": [
      "\rProcessing Videos:  14%|█▎        | 1627/11980 [45:42<3:30:30,  1.22s/video]"
     ]
    },
    {
     "name": "stdout",
     "output_type": "stream",
     "text": [
      "Saved 63873.mp4 as worry_frames.npy\n"
     ]
    },
    {
     "name": "stderr",
     "output_type": "stream",
     "text": [
      "\rProcessing Videos:  14%|█▎        | 1628/11980 [45:43<3:00:12,  1.04s/video]"
     ]
    },
    {
     "name": "stdout",
     "output_type": "stream",
     "text": [
      "Saved 63795.mp4 as work_frames.npy\n"
     ]
    },
    {
     "name": "stderr",
     "output_type": "stream",
     "text": [
      "\rProcessing Videos:  14%|█▎        | 1629/11980 [45:44<2:43:04,  1.06video/s]"
     ]
    },
    {
     "name": "stdout",
     "output_type": "stream",
     "text": [
      "Saved 63821.mp4 as workshop_frames.npy\n"
     ]
    },
    {
     "name": "stderr",
     "output_type": "stream",
     "text": [
      "\rProcessing Videos:  14%|█▎        | 1630/11980 [45:45<3:27:35,  1.20s/video]"
     ]
    },
    {
     "name": "stdout",
     "output_type": "stream",
     "text": [
      "Saved 63922.mp4 as worthless_frames.npy\n"
     ]
    },
    {
     "name": "stderr",
     "output_type": "stream",
     "text": [
      "\rProcessing Videos:  14%|█▎        | 1631/11980 [45:47<4:04:50,  1.42s/video]"
     ]
    },
    {
     "name": "stdout",
     "output_type": "stream",
     "text": [
      "Saved 64087.mp4 as wrong_frames.npy\n"
     ]
    },
    {
     "name": "stderr",
     "output_type": "stream",
     "text": [
      "\rProcessing Videos:  14%|█▎        | 1632/11980 [45:49<4:40:40,  1.63s/video]"
     ]
    },
    {
     "name": "stdout",
     "output_type": "stream",
     "text": [
      "Saved 63955.mp4 as wow_frames.npy\n"
     ]
    },
    {
     "name": "stderr",
     "output_type": "stream",
     "text": [
      "\rProcessing Videos:  14%|█▎        | 1633/11980 [45:50<3:41:40,  1.29s/video]"
     ]
    },
    {
     "name": "stdout",
     "output_type": "stream",
     "text": [
      "Saved 64003.mp4 as wrench_frames.npy\n"
     ]
    },
    {
     "name": "stderr",
     "output_type": "stream",
     "text": [
      "\rProcessing Videos:  14%|█▎        | 1634/11980 [45:53<4:49:04,  1.68s/video]"
     ]
    },
    {
     "name": "stdout",
     "output_type": "stream",
     "text": [
      "Saved 63951.mp4 as wow_frames.npy\n"
     ]
    },
    {
     "name": "stderr",
     "output_type": "stream",
     "text": [
      "\rProcessing Videos:  14%|█▎        | 1635/11980 [45:53<4:03:34,  1.41s/video]"
     ]
    },
    {
     "name": "stdout",
     "output_type": "stream",
     "text": [
      "Saved 63974.mp4 as wrap_frames.npy\n"
     ]
    },
    {
     "name": "stderr",
     "output_type": "stream",
     "text": [
      "\rProcessing Videos:  14%|█▎        | 1636/11980 [45:55<4:03:58,  1.42s/video]"
     ]
    },
    {
     "name": "stdout",
     "output_type": "stream",
     "text": [
      "Saved 64048.mp4 as wristwatch_frames.npy\n"
     ]
    },
    {
     "name": "stderr",
     "output_type": "stream",
     "text": [
      "\rProcessing Videos:  14%|█▎        | 1637/11980 [45:56<3:40:33,  1.28s/video]"
     ]
    },
    {
     "name": "stdout",
     "output_type": "stream",
     "text": [
      "Saved 63948.mp4 as wow_frames.npy\n"
     ]
    },
    {
     "name": "stderr",
     "output_type": "stream",
     "text": [
      "\rProcessing Videos:  14%|█▎        | 1638/11980 [45:56<3:05:31,  1.08s/video]"
     ]
    },
    {
     "name": "stdout",
     "output_type": "stream",
     "text": [
      "Saved 64091.mp4 as wrong_frames.npy\n"
     ]
    },
    {
     "name": "stderr",
     "output_type": "stream",
     "text": [
      "\rProcessing Videos:  14%|█▎        | 1639/11980 [45:58<4:00:36,  1.40s/video]"
     ]
    },
    {
     "name": "stdout",
     "output_type": "stream",
     "text": [
      "Saved 63918.mp4 as worthless_frames.npy\n"
     ]
    },
    {
     "name": "stderr",
     "output_type": "stream",
     "text": [
      "\rProcessing Videos:  14%|█▎        | 1640/11980 [46:02<5:33:31,  1.94s/video]"
     ]
    },
    {
     "name": "stdout",
     "output_type": "stream",
     "text": [
      "Saved 64058.mp4 as write_frames.npy\n"
     ]
    },
    {
     "name": "stderr",
     "output_type": "stream",
     "text": [
      "\rProcessing Videos:  14%|█▎        | 1641/11980 [46:03<5:22:59,  1.87s/video]"
     ]
    },
    {
     "name": "stdout",
     "output_type": "stream",
     "text": [
      "Saved 64086.mp4 as wrong_frames.npy\n"
     ]
    },
    {
     "name": "stderr",
     "output_type": "stream",
     "text": [
      "\rProcessing Videos:  14%|█▎        | 1642/11980 [46:04<4:19:27,  1.51s/video]"
     ]
    },
    {
     "name": "stdout",
     "output_type": "stream",
     "text": [
      "Saved 63920.mp4 as worthless_frames.npy\n"
     ]
    },
    {
     "name": "stderr",
     "output_type": "stream",
     "text": [
      "\rProcessing Videos:  14%|█▎        | 1643/11980 [46:06<4:59:03,  1.74s/video]"
     ]
    },
    {
     "name": "stdout",
     "output_type": "stream",
     "text": [
      "Saved 63971.mp4 as wrap_frames.npy\n"
     ]
    },
    {
     "name": "stderr",
     "output_type": "stream",
     "text": [
      "\rProcessing Videos:  14%|█▎        | 1644/11980 [46:07<4:25:46,  1.54s/video]"
     ]
    },
    {
     "name": "stdout",
     "output_type": "stream",
     "text": [
      "Saved 64210.mp4 as year_frames.npy\n"
     ]
    },
    {
     "name": "stderr",
     "output_type": "stream",
     "text": [
      "\rProcessing Videos:  14%|█▎        | 1645/11980 [46:08<3:26:00,  1.20s/video]"
     ]
    },
    {
     "name": "stdout",
     "output_type": "stream",
     "text": [
      "Saved 64090.mp4 as wrong_frames.npy\n"
     ]
    },
    {
     "name": "stderr",
     "output_type": "stream",
     "text": [
      "\rProcessing Videos:  14%|█▎        | 1646/11980 [46:10<4:30:32,  1.57s/video]"
     ]
    },
    {
     "name": "stdout",
     "output_type": "stream",
     "text": [
      "Saved 63953.mp4 as wow_frames.npy\n"
     ]
    },
    {
     "name": "stderr",
     "output_type": "stream",
     "text": [
      "\rProcessing Videos:  14%|█▎        | 1647/11980 [46:12<4:54:29,  1.71s/video]"
     ]
    },
    {
     "name": "stdout",
     "output_type": "stream",
     "text": [
      "Saved 64043.mp4 as wristwatch_frames.npy\n"
     ]
    },
    {
     "name": "stderr",
     "output_type": "stream",
     "text": [
      "\rProcessing Videos:  14%|█▍        | 1648/11980 [46:13<4:06:50,  1.43s/video]"
     ]
    },
    {
     "name": "stdout",
     "output_type": "stream",
     "text": [
      "Saved 63964.mp4 as wow_frames.npy\n"
     ]
    },
    {
     "name": "stderr",
     "output_type": "stream",
     "text": [
      "\rProcessing Videos:  14%|█▍        | 1649/11980 [46:15<4:18:20,  1.50s/video]"
     ]
    },
    {
     "name": "stdout",
     "output_type": "stream",
     "text": [
      "Saved 64088.mp4 as wrong_frames.npy\n"
     ]
    },
    {
     "name": "stderr",
     "output_type": "stream",
     "text": [
      "\rProcessing Videos:  14%|█▍        | 1650/11980 [46:17<4:34:57,  1.60s/video]"
     ]
    },
    {
     "name": "stdout",
     "output_type": "stream",
     "text": [
      "Saved 63887.mp4 as worse_frames.npy\n"
     ]
    },
    {
     "name": "stderr",
     "output_type": "stream",
     "text": [
      "\rProcessing Videos:  14%|█▍        | 1651/11980 [46:17<4:00:01,  1.39s/video]"
     ]
    },
    {
     "name": "stdout",
     "output_type": "stream",
     "text": [
      "Saved 64001.mp4 as wrench_frames.npy\n"
     ]
    },
    {
     "name": "stderr",
     "output_type": "stream",
     "text": [
      "\rProcessing Videos:  14%|█▍        | 1652/11980 [46:18<3:18:59,  1.16s/video]"
     ]
    },
    {
     "name": "stdout",
     "output_type": "stream",
     "text": [
      "Saved 64046.mp4 as wristwatch_frames.npy\n"
     ]
    },
    {
     "name": "stderr",
     "output_type": "stream",
     "text": [
      "\rProcessing Videos:  14%|█▍        | 1653/11980 [46:21<4:31:06,  1.58s/video]"
     ]
    },
    {
     "name": "stdout",
     "output_type": "stream",
     "text": [
      "Saved 63949.mp4 as wow_frames.npy\n"
     ]
    },
    {
     "name": "stderr",
     "output_type": "stream",
     "text": [
      "\rProcessing Videos:  14%|█▍        | 1654/11980 [46:21<3:53:41,  1.36s/video]"
     ]
    },
    {
     "name": "stdout",
     "output_type": "stream",
     "text": [
      "Saved 64209.mp4 as year_frames.npy\n"
     ]
    },
    {
     "name": "stderr",
     "output_type": "stream",
     "text": [
      "\rProcessing Videos:  14%|█▍        | 1655/11980 [46:22<3:22:05,  1.17s/video]"
     ]
    },
    {
     "name": "stdout",
     "output_type": "stream",
     "text": [
      "Saved 63962.mp4 as wow_frames.npy\n"
     ]
    },
    {
     "name": "stderr",
     "output_type": "stream",
     "text": [
      "\rProcessing Videos:  14%|█▍        | 1656/11980 [46:23<3:13:00,  1.12s/video]"
     ]
    },
    {
     "name": "stdout",
     "output_type": "stream",
     "text": [
      "Saved 64056.mp4 as write_frames.npy\n"
     ]
    },
    {
     "name": "stderr",
     "output_type": "stream",
     "text": [
      "\rProcessing Videos:  14%|█▍        | 1657/11980 [46:25<3:56:27,  1.37s/video]"
     ]
    },
    {
     "name": "stdout",
     "output_type": "stream",
     "text": [
      "Saved 63978.mp4 as wrap_frames.npy\n"
     ]
    },
    {
     "name": "stderr",
     "output_type": "stream",
     "text": [
      "\rProcessing Videos:  14%|█▍        | 1658/11980 [46:27<3:57:38,  1.38s/video]"
     ]
    },
    {
     "name": "stdout",
     "output_type": "stream",
     "text": [
      "Saved 64068.mp4 as write_frames.npy\n"
     ]
    },
    {
     "name": "stderr",
     "output_type": "stream",
     "text": [
      "\rProcessing Videos:  14%|█▍        | 1659/11980 [46:27<3:19:39,  1.16s/video]"
     ]
    },
    {
     "name": "stdout",
     "output_type": "stream",
     "text": [
      "Saved 64065.mp4 as write_frames.npy\n"
     ]
    },
    {
     "name": "stderr",
     "output_type": "stream",
     "text": [
      "\rProcessing Videos:  14%|█▍        | 1660/11980 [46:29<3:51:04,  1.34s/video]"
     ]
    },
    {
     "name": "stdout",
     "output_type": "stream",
     "text": [
      "Saved 64044.mp4 as wristwatch_frames.npy\n"
     ]
    },
    {
     "name": "stderr",
     "output_type": "stream",
     "text": [
      "\rProcessing Videos:  14%|█▍        | 1661/11980 [46:30<3:31:32,  1.23s/video]"
     ]
    },
    {
     "name": "stdout",
     "output_type": "stream",
     "text": [
      "Saved 64057.mp4 as write_frames.npy\n"
     ]
    },
    {
     "name": "stderr",
     "output_type": "stream",
     "text": [
      "\rProcessing Videos:  14%|█▍        | 1662/11980 [46:32<3:55:47,  1.37s/video]"
     ]
    },
    {
     "name": "stdout",
     "output_type": "stream",
     "text": [
      "Saved 63917.mp4 as worthless_frames.npy\n"
     ]
    },
    {
     "name": "stderr",
     "output_type": "stream",
     "text": [
      "\rProcessing Videos:  14%|█▍        | 1663/11980 [46:33<4:03:19,  1.42s/video]"
     ]
    },
    {
     "name": "stdout",
     "output_type": "stream",
     "text": [
      "Saved 64013.mp4 as wrench_frames.npy\n"
     ]
    },
    {
     "name": "stderr",
     "output_type": "stream",
     "text": [
      "\rProcessing Videos:  14%|█▍        | 1664/11980 [46:34<3:38:30,  1.27s/video]"
     ]
    },
    {
     "name": "stdout",
     "output_type": "stream",
     "text": [
      "Saved 64042.mp4 as wristwatch_frames.npy\n"
     ]
    },
    {
     "name": "stderr",
     "output_type": "stream",
     "text": [
      "\rProcessing Videos:  14%|█▍        | 1665/11980 [46:36<4:04:01,  1.42s/video]"
     ]
    },
    {
     "name": "stdout",
     "output_type": "stream",
     "text": [
      "Saved 64061.mp4 as write_frames.npy\n"
     ]
    },
    {
     "name": "stderr",
     "output_type": "stream",
     "text": [
      "\rProcessing Videos:  14%|█▍        | 1666/11980 [46:37<3:24:15,  1.19s/video]"
     ]
    },
    {
     "name": "stdout",
     "output_type": "stream",
     "text": [
      "Saved 63975.mp4 as wrap_frames.npy\n"
     ]
    },
    {
     "name": "stderr",
     "output_type": "stream",
     "text": [
      "\rProcessing Videos:  14%|█▍        | 1667/11980 [46:37<3:05:47,  1.08s/video]"
     ]
    },
    {
     "name": "stdout",
     "output_type": "stream",
     "text": [
      "Saved 63970.mp4 as wrap_frames.npy\n"
     ]
    },
    {
     "name": "stderr",
     "output_type": "stream",
     "text": [
      "\rProcessing Videos:  14%|█▍        | 1668/11980 [46:40<4:25:34,  1.55s/video]"
     ]
    },
    {
     "name": "stdout",
     "output_type": "stream",
     "text": [
      "Saved 64085.mp4 as wrong_frames.npy\n"
     ]
    },
    {
     "name": "stderr",
     "output_type": "stream",
     "text": [
      "\rProcessing Videos:  14%|█▍        | 1669/11980 [46:42<4:32:53,  1.59s/video]"
     ]
    },
    {
     "name": "stdout",
     "output_type": "stream",
     "text": [
      "Saved 63958.mp4 as wow_frames.npy\n"
     ]
    },
    {
     "name": "stderr",
     "output_type": "stream",
     "text": [
      "\rProcessing Videos:  14%|█▍        | 1670/11980 [46:44<5:11:48,  1.81s/video]"
     ]
    },
    {
     "name": "stdout",
     "output_type": "stream",
     "text": [
      "Saved 63968.mp4 as wow_frames.npy\n"
     ]
    },
    {
     "name": "stderr",
     "output_type": "stream",
     "text": [
      "\rProcessing Videos:  14%|█▍        | 1671/11980 [46:46<4:57:16,  1.73s/video]"
     ]
    },
    {
     "name": "stdout",
     "output_type": "stream",
     "text": [
      "Saved 63891.mp4 as worse_frames.npy\n"
     ]
    },
    {
     "name": "stderr",
     "output_type": "stream",
     "text": [
      "\rProcessing Videos:  14%|█▍        | 1672/11980 [46:48<5:50:16,  2.04s/video]"
     ]
    },
    {
     "name": "stdout",
     "output_type": "stream",
     "text": [
      "Saved 64211.mp4 as year_frames.npy\n"
     ]
    },
    {
     "name": "stderr",
     "output_type": "stream",
     "text": [
      "\rProcessing Videos:  14%|█▍        | 1673/11980 [46:49<4:33:10,  1.59s/video]"
     ]
    },
    {
     "name": "stdout",
     "output_type": "stream",
     "text": [
      "Saved 63889.mp4 as worse_frames.npy\n"
     ]
    },
    {
     "name": "stderr",
     "output_type": "stream",
     "text": [
      "\rProcessing Videos:  14%|█▍        | 1674/11980 [46:50<4:01:05,  1.40s/video]"
     ]
    },
    {
     "name": "stdout",
     "output_type": "stream",
     "text": [
      "Saved 64084.mp4 as wrong_frames.npy\n"
     ]
    },
    {
     "name": "stderr",
     "output_type": "stream",
     "text": [
      "\rProcessing Videos:  14%|█▍        | 1675/11980 [46:51<4:14:16,  1.48s/video]"
     ]
    },
    {
     "name": "stdout",
     "output_type": "stream",
     "text": [
      "Saved 64059.mp4 as write_frames.npy\n"
     ]
    },
    {
     "name": "stderr",
     "output_type": "stream",
     "text": [
      "\rProcessing Videos:  14%|█▍        | 1676/11980 [46:53<4:12:18,  1.47s/video]"
     ]
    },
    {
     "name": "stdout",
     "output_type": "stream",
     "text": [
      "Saved 64097.mp4 as wrong_frames.npy\n"
     ]
    },
    {
     "name": "stderr",
     "output_type": "stream",
     "text": [
      "\rProcessing Videos:  14%|█▍        | 1677/11980 [46:55<4:24:33,  1.54s/video]"
     ]
    },
    {
     "name": "stdout",
     "output_type": "stream",
     "text": [
      "Saved 64060.mp4 as write_frames.npy\n"
     ]
    },
    {
     "name": "stderr",
     "output_type": "stream",
     "text": [
      "\rProcessing Videos:  14%|█▍        | 1678/11980 [46:55<3:33:07,  1.24s/video]"
     ]
    },
    {
     "name": "stdout",
     "output_type": "stream",
     "text": [
      "Saved 64219.mp4 as year_frames.npy\n"
     ]
    },
    {
     "name": "stderr",
     "output_type": "stream",
     "text": [
      "\rProcessing Videos:  14%|█▍        | 1679/11980 [46:57<3:57:30,  1.38s/video]"
     ]
    },
    {
     "name": "stdout",
     "output_type": "stream",
     "text": [
      "Saved 64419.mp4 as young_frames.npy\n"
     ]
    },
    {
     "name": "stderr",
     "output_type": "stream",
     "text": [
      "\rProcessing Videos:  14%|█▍        | 1680/11980 [46:58<3:33:32,  1.24s/video]"
     ]
    },
    {
     "name": "stdout",
     "output_type": "stream",
     "text": [
      "Saved 64262.mp4 as yellow_frames.npy\n"
     ]
    },
    {
     "name": "stderr",
     "output_type": "stream",
     "text": [
      "\rProcessing Videos:  14%|█▍        | 1681/11980 [46:59<3:52:05,  1.35s/video]"
     ]
    },
    {
     "name": "stdout",
     "output_type": "stream",
     "text": [
      "Saved 64315.mp4 as yesterday_frames.npy\n"
     ]
    },
    {
     "name": "stderr",
     "output_type": "stream",
     "text": [
      "\rProcessing Videos:  14%|█▍        | 1682/11980 [47:00<3:29:02,  1.22s/video]"
     ]
    },
    {
     "name": "stdout",
     "output_type": "stream",
     "text": [
      "Saved 64411.mp4 as young_frames.npy\n"
     ]
    },
    {
     "name": "stderr",
     "output_type": "stream",
     "text": [
      "\rProcessing Videos:  14%|█▍        | 1683/11980 [47:01<3:16:16,  1.14s/video]"
     ]
    },
    {
     "name": "stdout",
     "output_type": "stream",
     "text": [
      "Saved 64280.mp4 as yes_frames.npy\n"
     ]
    },
    {
     "name": "stderr",
     "output_type": "stream",
     "text": [
      "\rProcessing Videos:  14%|█▍        | 1684/11980 [47:03<3:49:04,  1.33s/video]"
     ]
    },
    {
     "name": "stdout",
     "output_type": "stream",
     "text": [
      "Saved 64263.mp4 as yellow_frames.npy\n"
     ]
    },
    {
     "name": "stderr",
     "output_type": "stream",
     "text": [
      "\rProcessing Videos:  14%|█▍        | 1685/11980 [47:04<3:16:15,  1.14s/video]"
     ]
    },
    {
     "name": "stdout",
     "output_type": "stream",
     "text": [
      "Saved 64293.mp4 as yes_frames.npy\n"
     ]
    },
    {
     "name": "stderr",
     "output_type": "stream",
     "text": [
      "\rProcessing Videos:  14%|█▍        | 1686/11980 [47:07<5:08:52,  1.80s/video]"
     ]
    },
    {
     "name": "stdout",
     "output_type": "stream",
     "text": [
      "Saved 64307.mp4 as yesterday_frames.npy\n"
     ]
    },
    {
     "name": "stderr",
     "output_type": "stream",
     "text": [
      "\rProcessing Videos:  14%|█▍        | 1687/11980 [47:10<6:17:32,  2.20s/video]"
     ]
    },
    {
     "name": "stdout",
     "output_type": "stream",
     "text": [
      "Saved 64212.mp4 as year_frames.npy\n"
     ]
    },
    {
     "name": "stderr",
     "output_type": "stream",
     "text": [
      "\rProcessing Videos:  14%|█▍        | 1688/11980 [47:11<5:16:07,  1.84s/video]"
     ]
    },
    {
     "name": "stdout",
     "output_type": "stream",
     "text": [
      "Saved 64281.mp4 as yes_frames.npy\n"
     ]
    },
    {
     "name": "stderr",
     "output_type": "stream",
     "text": [
      "\rProcessing Videos:  14%|█▍        | 1689/11980 [47:13<5:09:46,  1.81s/video]"
     ]
    },
    {
     "name": "stdout",
     "output_type": "stream",
     "text": [
      "Saved 64430.mp4 as your_frames.npy\n"
     ]
    },
    {
     "name": "stderr",
     "output_type": "stream",
     "text": [
      "\rProcessing Videos:  14%|█▍        | 1690/11980 [47:14<4:28:26,  1.57s/video]"
     ]
    },
    {
     "name": "stdout",
     "output_type": "stream",
     "text": [
      "Saved 64428.mp4 as your_frames.npy\n"
     ]
    },
    {
     "name": "stderr",
     "output_type": "stream",
     "text": [
      "\rProcessing Videos:  14%|█▍        | 1691/11980 [47:14<3:32:42,  1.24s/video]"
     ]
    },
    {
     "name": "stdout",
     "output_type": "stream",
     "text": [
      "Saved 64434.mp4 as your_frames.npy\n"
     ]
    },
    {
     "name": "stderr",
     "output_type": "stream",
     "text": [
      "\rProcessing Videos:  14%|█▍        | 1692/11980 [47:16<4:04:26,  1.43s/video]"
     ]
    },
    {
     "name": "stdout",
     "output_type": "stream",
     "text": [
      "Saved 64383.mp4 as you_frames.npy\n"
     ]
    },
    {
     "name": "stderr",
     "output_type": "stream",
     "text": [
      "\rProcessing Videos:  14%|█▍        | 1693/11980 [47:18<4:04:23,  1.43s/video]"
     ]
    },
    {
     "name": "stdout",
     "output_type": "stream",
     "text": [
      "Saved 64300.mp4 as yes_frames.npy\n"
     ]
    },
    {
     "name": "stderr",
     "output_type": "stream",
     "text": [
      "\rProcessing Videos:  14%|█▍        | 1694/11980 [47:20<4:22:59,  1.53s/video]"
     ]
    },
    {
     "name": "stdout",
     "output_type": "stream",
     "text": [
      "Saved 64309.mp4 as yesterday_frames.npy\n"
     ]
    },
    {
     "name": "stderr",
     "output_type": "stream",
     "text": [
      "\rProcessing Videos:  14%|█▍        | 1695/11980 [47:21<4:30:51,  1.58s/video]"
     ]
    },
    {
     "name": "stdout",
     "output_type": "stream",
     "text": [
      "Saved 64224.mp4 as year_frames.npy\n"
     ]
    },
    {
     "name": "stderr",
     "output_type": "stream",
     "text": [
      "\rProcessing Videos:  14%|█▍        | 1696/11980 [47:22<3:50:22,  1.34s/video]"
     ]
    },
    {
     "name": "stdout",
     "output_type": "stream",
     "text": [
      "Saved 64261.mp4 as yellow_frames.npy\n"
     ]
    },
    {
     "name": "stderr",
     "output_type": "stream",
     "text": [
      "\rProcessing Videos:  14%|█▍        | 1697/11980 [47:22<3:05:52,  1.08s/video]"
     ]
    },
    {
     "name": "stdout",
     "output_type": "stream",
     "text": [
      "Saved 64433.mp4 as your_frames.npy\n"
     ]
    },
    {
     "name": "stderr",
     "output_type": "stream",
     "text": [
      "\rProcessing Videos:  14%|█▍        | 1698/11980 [47:23<2:50:47,  1.00video/s]"
     ]
    },
    {
     "name": "stdout",
     "output_type": "stream",
     "text": [
      "Saved 64266.mp4 as yellow_frames.npy\n"
     ]
    },
    {
     "name": "stderr",
     "output_type": "stream",
     "text": [
      "\rProcessing Videos:  14%|█▍        | 1699/11980 [47:25<3:48:57,  1.34s/video]"
     ]
    },
    {
     "name": "stdout",
     "output_type": "stream",
     "text": [
      "Saved 64308.mp4 as yesterday_frames.npy\n"
     ]
    },
    {
     "name": "stderr",
     "output_type": "stream",
     "text": [
      "\rProcessing Videos:  14%|█▍        | 1700/11980 [47:26<3:15:46,  1.14s/video]"
     ]
    },
    {
     "name": "stdout",
     "output_type": "stream",
     "text": [
      "Saved 64291.mp4 as yes_frames.npy\n"
     ]
    },
    {
     "name": "stderr",
     "output_type": "stream",
     "text": [
      "\rProcessing Videos:  14%|█▍        | 1701/11980 [47:28<3:41:28,  1.29s/video]"
     ]
    },
    {
     "name": "stdout",
     "output_type": "stream",
     "text": [
      "Saved 64414.mp4 as young_frames.npy\n"
     ]
    },
    {
     "name": "stderr",
     "output_type": "stream",
     "text": [
      "\rProcessing Videos:  14%|█▍        | 1702/11980 [47:29<3:19:44,  1.17s/video]"
     ]
    },
    {
     "name": "stdout",
     "output_type": "stream",
     "text": [
      "Saved 64445.mp4 as yourself_frames.npy\n"
     ]
    },
    {
     "name": "stderr",
     "output_type": "stream",
     "text": [
      "\rProcessing Videos:  14%|█▍        | 1703/11980 [47:30<3:22:00,  1.18s/video]"
     ]
    },
    {
     "name": "stdout",
     "output_type": "stream",
     "text": [
      "Saved 64429.mp4 as your_frames.npy\n"
     ]
    },
    {
     "name": "stderr",
     "output_type": "stream",
     "text": [
      "\rProcessing Videos:  14%|█▍        | 1704/11980 [47:31<2:57:38,  1.04s/video]"
     ]
    },
    {
     "name": "stdout",
     "output_type": "stream",
     "text": [
      "Saved 64416.mp4 as young_frames.npy\n"
     ]
    },
    {
     "name": "stderr",
     "output_type": "stream",
     "text": [
      "\rProcessing Videos:  14%|█▍        | 1705/11980 [47:32<3:13:43,  1.13s/video]"
     ]
    },
    {
     "name": "stdout",
     "output_type": "stream",
     "text": [
      "Saved 64391.mp4 as you_frames.npy\n"
     ]
    },
    {
     "name": "stderr",
     "output_type": "stream",
     "text": [
      "\rProcessing Videos:  14%|█▍        | 1706/11980 [47:35<4:55:54,  1.73s/video]"
     ]
    },
    {
     "name": "stdout",
     "output_type": "stream",
     "text": [
      "Saved 64284.mp4 as yes_frames.npy\n"
     ]
    },
    {
     "name": "stderr",
     "output_type": "stream",
     "text": [
      "\rProcessing Videos:  14%|█▍        | 1707/11980 [47:36<4:37:31,  1.62s/video]"
     ]
    },
    {
     "name": "stdout",
     "output_type": "stream",
     "text": [
      "Saved 64283.mp4 as yes_frames.npy\n"
     ]
    },
    {
     "name": "stderr",
     "output_type": "stream",
     "text": [
      "\rProcessing Videos:  14%|█▍        | 1708/11980 [47:38<4:40:30,  1.64s/video]"
     ]
    },
    {
     "name": "stdout",
     "output_type": "stream",
     "text": [
      "Saved 64381.mp4 as you_frames.npy\n"
     ]
    },
    {
     "name": "stderr",
     "output_type": "stream",
     "text": [
      "\rProcessing Videos:  14%|█▍        | 1709/11980 [47:39<4:05:20,  1.43s/video]"
     ]
    },
    {
     "name": "stdout",
     "output_type": "stream",
     "text": [
      "Saved 64380.mp4 as you_frames.npy\n"
     ]
    },
    {
     "name": "stderr",
     "output_type": "stream",
     "text": [
      "\rProcessing Videos:  14%|█▍        | 1710/11980 [47:40<3:22:41,  1.18s/video]"
     ]
    },
    {
     "name": "stdout",
     "output_type": "stream",
     "text": [
      "Saved 64292.mp4 as yes_frames.npy\n"
     ]
    },
    {
     "name": "stderr",
     "output_type": "stream",
     "text": [
      "\rProcessing Videos:  14%|█▍        | 1711/11980 [47:41<3:51:47,  1.35s/video]"
     ]
    },
    {
     "name": "stdout",
     "output_type": "stream",
     "text": [
      "Saved 64213.mp4 as year_frames.npy\n"
     ]
    },
    {
     "name": "stderr",
     "output_type": "stream",
     "text": [
      "\rProcessing Videos:  14%|█▍        | 1712/11980 [47:43<4:05:00,  1.43s/video]"
     ]
    },
    {
     "name": "stdout",
     "output_type": "stream",
     "text": [
      "Saved 64287.mp4 as yes_frames.npy\n"
     ]
    },
    {
     "name": "stderr",
     "output_type": "stream",
     "text": [
      "\rProcessing Videos:  14%|█▍        | 1713/11980 [47:44<3:36:12,  1.26s/video]"
     ]
    },
    {
     "name": "stdout",
     "output_type": "stream",
     "text": [
      "Saved 64218.mp4 as year_frames.npy\n"
     ]
    },
    {
     "name": "stderr",
     "output_type": "stream",
     "text": [
      "\rProcessing Videos:  14%|█▍        | 1714/11980 [47:47<4:49:35,  1.69s/video]"
     ]
    },
    {
     "name": "stdout",
     "output_type": "stream",
     "text": [
      "Saved 64305.mp4 as yesterday_frames.npy\n"
     ]
    },
    {
     "name": "stderr",
     "output_type": "stream",
     "text": [
      "\rProcessing Videos:  14%|█▍        | 1715/11980 [47:47<3:50:23,  1.35s/video]"
     ]
    },
    {
     "name": "stdout",
     "output_type": "stream",
     "text": [
      "Saved 64311.mp4 as yesterday_frames.npy\n"
     ]
    },
    {
     "name": "stderr",
     "output_type": "stream",
     "text": [
      "\rProcessing Videos:  14%|█▍        | 1716/11980 [47:48<3:16:55,  1.15s/video]"
     ]
    },
    {
     "name": "stdout",
     "output_type": "stream",
     "text": [
      "Saved 64379.mp4 as you_frames.npy\n"
     ]
    },
    {
     "name": "stderr",
     "output_type": "stream",
     "text": [
      "\rProcessing Videos:  14%|█▍        | 1717/11980 [47:50<3:53:19,  1.36s/video]"
     ]
    },
    {
     "name": "stdout",
     "output_type": "stream",
     "text": [
      "Saved 64264.mp4 as yellow_frames.npy\n"
     ]
    },
    {
     "name": "stderr",
     "output_type": "stream",
     "text": [
      "\rProcessing Videos:  14%|█▍        | 1718/11980 [47:51<3:57:39,  1.39s/video]"
     ]
    },
    {
     "name": "stdout",
     "output_type": "stream",
     "text": [
      "Saved 64288.mp4 as yes_frames.npy\n"
     ]
    },
    {
     "name": "stderr",
     "output_type": "stream",
     "text": [
      "\rProcessing Videos:  14%|█▍        | 1719/11980 [47:52<3:16:06,  1.15s/video]"
     ]
    },
    {
     "name": "stdout",
     "output_type": "stream",
     "text": [
      "Saved 64385.mp4 as you_frames.npy\n"
     ]
    },
    {
     "name": "stderr",
     "output_type": "stream",
     "text": [
      "\rProcessing Videos:  14%|█▍        | 1720/11980 [47:52<2:51:20,  1.00s/video]"
     ]
    },
    {
     "name": "stdout",
     "output_type": "stream",
     "text": [
      "Saved 64304.mp4 as yesterday_frames.npy\n"
     ]
    },
    {
     "name": "stderr",
     "output_type": "stream",
     "text": [
      "\rProcessing Videos:  14%|█▍        | 1721/11980 [47:55<4:33:12,  1.60s/video]"
     ]
    },
    {
     "name": "stdout",
     "output_type": "stream",
     "text": [
      "Saved 64306.mp4 as yesterday_frames.npy\n"
     ]
    },
    {
     "name": "stderr",
     "output_type": "stream",
     "text": [
      "\rProcessing Videos:  14%|█▍        | 1722/11980 [47:57<4:27:05,  1.56s/video]"
     ]
    },
    {
     "name": "stdout",
     "output_type": "stream",
     "text": [
      "Saved 64382.mp4 as you_frames.npy\n"
     ]
    },
    {
     "name": "stderr",
     "output_type": "stream",
     "text": [
      "\rProcessing Videos:  14%|█▍        | 1723/11980 [47:59<5:10:05,  1.81s/video]"
     ]
    },
    {
     "name": "stdout",
     "output_type": "stream",
     "text": [
      "Saved 64413.mp4 as young_frames.npy\n"
     ]
    },
    {
     "name": "stderr",
     "output_type": "stream",
     "text": [
      "\rProcessing Videos:  14%|█▍        | 1724/11980 [48:00<4:20:03,  1.52s/video]"
     ]
    },
    {
     "name": "stdout",
     "output_type": "stream",
     "text": [
      "Saved 64427.mp4 as your_frames.npy\n"
     ]
    },
    {
     "name": "stderr",
     "output_type": "stream",
     "text": [
      "\rProcessing Videos:  14%|█▍        | 1725/11980 [48:02<4:48:12,  1.69s/video]"
     ]
    },
    {
     "name": "stdout",
     "output_type": "stream",
     "text": [
      "Saved 64271.mp4 as yellow_frames.npy\n"
     ]
    },
    {
     "name": "stderr",
     "output_type": "stream",
     "text": [
      "\rProcessing Videos:  14%|█▍        | 1726/11980 [48:03<4:25:54,  1.56s/video]"
     ]
    },
    {
     "name": "stdout",
     "output_type": "stream",
     "text": [
      "Saved 65010.mp4 as accomplish_frames.npy\n"
     ]
    },
    {
     "name": "stderr",
     "output_type": "stream",
     "text": [
      "\rProcessing Videos:  14%|█▍        | 1727/11980 [48:04<3:48:45,  1.34s/video]"
     ]
    },
    {
     "name": "stdout",
     "output_type": "stream",
     "text": [
      "Saved 65054.mp4 as allow_frames.npy\n"
     ]
    },
    {
     "name": "stderr",
     "output_type": "stream",
     "text": [
      "\rProcessing Videos:  14%|█▍        | 1728/11980 [48:05<3:26:50,  1.21s/video]"
     ]
    },
    {
     "name": "stdout",
     "output_type": "stream",
     "text": [
      "Saved 65040.mp4 as alarm_frames.npy\n"
     ]
    },
    {
     "name": "stderr",
     "output_type": "stream",
     "text": [
      "\rProcessing Videos:  14%|█▍        | 1729/11980 [48:06<3:25:17,  1.20s/video]"
     ]
    },
    {
     "name": "stdout",
     "output_type": "stream",
     "text": [
      "Saved 65038.mp4 as airplane_frames.npy\n"
     ]
    },
    {
     "name": "stderr",
     "output_type": "stream",
     "text": [
      "\rProcessing Videos:  14%|█▍        | 1730/11980 [48:08<3:30:57,  1.23s/video]"
     ]
    },
    {
     "name": "stdout",
     "output_type": "stream",
     "text": [
      "Saved 65063.mp4 as amazing_frames.npy\n"
     ]
    },
    {
     "name": "stderr",
     "output_type": "stream",
     "text": [
      "\rProcessing Videos:  14%|█▍        | 1731/11980 [48:09<3:31:03,  1.24s/video]"
     ]
    },
    {
     "name": "stdout",
     "output_type": "stream",
     "text": [
      "Saved 65052.mp4 as allow_frames.npy\n"
     ]
    },
    {
     "name": "stderr",
     "output_type": "stream",
     "text": [
      "\rProcessing Videos:  14%|█▍        | 1732/11980 [48:10<3:40:49,  1.29s/video]"
     ]
    },
    {
     "name": "stdout",
     "output_type": "stream",
     "text": [
      "Saved 65018.mp4 as add_frames.npy\n"
     ]
    },
    {
     "name": "stderr",
     "output_type": "stream",
     "text": [
      "\rProcessing Videos:  14%|█▍        | 1733/11980 [48:11<3:34:00,  1.25s/video]"
     ]
    },
    {
     "name": "stdout",
     "output_type": "stream",
     "text": [
      "Saved 65061.mp4 as always_frames.npy\n"
     ]
    },
    {
     "name": "stderr",
     "output_type": "stream",
     "text": [
      "\rProcessing Videos:  14%|█▍        | 1734/11980 [48:12<3:22:22,  1.19s/video]"
     ]
    },
    {
     "name": "stdout",
     "output_type": "stream",
     "text": [
      "Saved 65011.mp4 as accountant_frames.npy\n"
     ]
    },
    {
     "name": "stderr",
     "output_type": "stream",
     "text": [
      "\rProcessing Videos:  14%|█▍        | 1735/11980 [48:13<2:55:15,  1.03s/video]"
     ]
    },
    {
     "name": "stdout",
     "output_type": "stream",
     "text": [
      "Saved 65003.mp4 as about_frames.npy\n"
     ]
    },
    {
     "name": "stderr",
     "output_type": "stream",
     "text": [
      "\rProcessing Videos:  14%|█▍        | 1736/11980 [48:14<2:37:23,  1.08video/s]"
     ]
    },
    {
     "name": "stdout",
     "output_type": "stream",
     "text": [
      "Saved 65025.mp4 as advantage_frames.npy\n"
     ]
    },
    {
     "name": "stderr",
     "output_type": "stream",
     "text": [
      "\rProcessing Videos:  14%|█▍        | 1737/11980 [48:15<2:41:33,  1.06video/s]"
     ]
    },
    {
     "name": "stdout",
     "output_type": "stream",
     "text": [
      "Saved 65059.mp4 as also_frames.npy\n"
     ]
    },
    {
     "name": "stderr",
     "output_type": "stream",
     "text": [
      "\rProcessing Videos:  15%|█▍        | 1738/11980 [48:15<2:27:18,  1.16video/s]"
     ]
    },
    {
     "name": "stdout",
     "output_type": "stream",
     "text": [
      "Saved 65021.mp4 as admit_frames.npy\n"
     ]
    },
    {
     "name": "stderr",
     "output_type": "stream",
     "text": [
      "\rProcessing Videos:  15%|█▍        | 1739/11980 [48:17<2:49:17,  1.01video/s]"
     ]
    },
    {
     "name": "stdout",
     "output_type": "stream",
     "text": [
      "Saved 65016.mp4 as activity_frames.npy\n"
     ]
    },
    {
     "name": "stderr",
     "output_type": "stream",
     "text": [
      "\rProcessing Videos:  15%|█▍        | 1740/11980 [48:18<3:12:16,  1.13s/video]"
     ]
    },
    {
     "name": "stdout",
     "output_type": "stream",
     "text": [
      "Saved 65066.mp4 as analyze_frames.npy\n"
     ]
    },
    {
     "name": "stderr",
     "output_type": "stream",
     "text": [
      "\rProcessing Videos:  15%|█▍        | 1741/11980 [48:19<2:47:53,  1.02video/s]"
     ]
    },
    {
     "name": "stdout",
     "output_type": "stream",
     "text": [
      "Saved 64544.mp4 as zero_frames.npy\n"
     ]
    },
    {
     "name": "stderr",
     "output_type": "stream",
     "text": [
      "\rProcessing Videos:  15%|█▍        | 1742/11980 [48:24<6:04:11,  2.13s/video]"
     ]
    },
    {
     "name": "stdout",
     "output_type": "stream",
     "text": [
      "Saved 65009.mp4 as accident_frames.npy\n"
     ]
    },
    {
     "name": "stderr",
     "output_type": "stream",
     "text": [
      "\rProcessing Videos:  15%|█▍        | 1743/11980 [48:25<5:17:27,  1.86s/video]"
     ]
    },
    {
     "name": "stdout",
     "output_type": "stream",
     "text": [
      "Saved 65043.mp4 as all_frames.npy\n"
     ]
    },
    {
     "name": "stderr",
     "output_type": "stream",
     "text": [
      "\rProcessing Videos:  15%|█▍        | 1744/11980 [48:26<5:02:35,  1.77s/video]"
     ]
    },
    {
     "name": "stdout",
     "output_type": "stream",
     "text": [
      "Saved 65056.mp4 as almost_frames.npy\n"
     ]
    },
    {
     "name": "stderr",
     "output_type": "stream",
     "text": [
      "\rProcessing Videos:  15%|█▍        | 1745/11980 [48:28<4:50:33,  1.70s/video]"
     ]
    },
    {
     "name": "stdout",
     "output_type": "stream",
     "text": [
      "Saved 65072.mp4 as angry_frames.npy\n"
     ]
    },
    {
     "name": "stderr",
     "output_type": "stream",
     "text": [
      "\rProcessing Videos:  15%|█▍        | 1746/11980 [48:29<4:18:15,  1.51s/video]"
     ]
    },
    {
     "name": "stdout",
     "output_type": "stream",
     "text": [
      "Saved 65050.mp4 as allergy_frames.npy\n"
     ]
    },
    {
     "name": "stderr",
     "output_type": "stream",
     "text": [
      "\rProcessing Videos:  15%|█▍        | 1747/11980 [48:30<4:11:51,  1.48s/video]"
     ]
    },
    {
     "name": "stdout",
     "output_type": "stream",
     "text": [
      "Saved 65022.mp4 as adopt_frames.npy\n"
     ]
    },
    {
     "name": "stderr",
     "output_type": "stream",
     "text": [
      "\rProcessing Videos:  15%|█▍        | 1748/11980 [48:31<3:19:11,  1.17s/video]"
     ]
    },
    {
     "name": "stdout",
     "output_type": "stream",
     "text": [
      "Saved 64547.mp4 as zero_frames.npy\n"
     ]
    },
    {
     "name": "stderr",
     "output_type": "stream",
     "text": [
      "\rProcessing Videos:  15%|█▍        | 1749/11980 [48:32<3:28:54,  1.23s/video]"
     ]
    },
    {
     "name": "stdout",
     "output_type": "stream",
     "text": [
      "Saved 65033.mp4 as against_frames.npy\n"
     ]
    },
    {
     "name": "stderr",
     "output_type": "stream",
     "text": [
      "\rProcessing Videos:  15%|█▍        | 1750/11980 [48:34<3:44:28,  1.32s/video]"
     ]
    },
    {
     "name": "stdout",
     "output_type": "stream",
     "text": [
      "Saved 65020.mp4 as admire_frames.npy\n"
     ]
    },
    {
     "name": "stderr",
     "output_type": "stream",
     "text": [
      "\rProcessing Videos:  15%|█▍        | 1751/11980 [48:35<3:30:30,  1.23s/video]"
     ]
    },
    {
     "name": "stdout",
     "output_type": "stream",
     "text": [
      "Saved 65002.mp4 as about_frames.npy\n"
     ]
    },
    {
     "name": "stderr",
     "output_type": "stream",
     "text": [
      "\rProcessing Videos:  15%|█▍        | 1752/11980 [48:36<3:12:03,  1.13s/video]"
     ]
    },
    {
     "name": "stdout",
     "output_type": "stream",
     "text": [
      "Saved 65057.mp4 as alone_frames.npy\n"
     ]
    },
    {
     "name": "stderr",
     "output_type": "stream",
     "text": [
      "\rProcessing Videos:  15%|█▍        | 1753/11980 [48:37<3:34:28,  1.26s/video]"
     ]
    },
    {
     "name": "stdout",
     "output_type": "stream",
     "text": [
      "Saved 65017.mp4 as actor_frames.npy\n"
     ]
    },
    {
     "name": "stderr",
     "output_type": "stream",
     "text": [
      "\rProcessing Videos:  15%|█▍        | 1754/11980 [48:38<3:21:49,  1.18s/video]"
     ]
    },
    {
     "name": "stdout",
     "output_type": "stream",
     "text": [
      "Saved 65037.mp4 as agreement_frames.npy\n"
     ]
    },
    {
     "name": "stderr",
     "output_type": "stream",
     "text": [
      "\rProcessing Videos:  15%|█▍        | 1755/11980 [48:40<3:38:15,  1.28s/video]"
     ]
    },
    {
     "name": "stdout",
     "output_type": "stream",
     "text": [
      "Saved 65031.mp4 as afternoon_frames.npy\n"
     ]
    },
    {
     "name": "stderr",
     "output_type": "stream",
     "text": [
      "\rProcessing Videos:  15%|█▍        | 1756/11980 [48:41<3:40:46,  1.30s/video]"
     ]
    },
    {
     "name": "stdout",
     "output_type": "stream",
     "text": [
      "Saved 65030.mp4 as after_frames.npy\n"
     ]
    },
    {
     "name": "stderr",
     "output_type": "stream",
     "text": [
      "\rProcessing Videos:  15%|█▍        | 1757/11980 [48:42<3:34:34,  1.26s/video]"
     ]
    },
    {
     "name": "stdout",
     "output_type": "stream",
     "text": [
      "Saved 65004.mp4 as above_frames.npy\n"
     ]
    },
    {
     "name": "stderr",
     "output_type": "stream",
     "text": [
      "\rProcessing Videos:  15%|█▍        | 1758/11980 [48:44<3:50:45,  1.35s/video]"
     ]
    },
    {
     "name": "stdout",
     "output_type": "stream",
     "text": [
      "Saved 64551.mp4 as zero_frames.npy\n"
     ]
    },
    {
     "name": "stderr",
     "output_type": "stream",
     "text": [
      "\rProcessing Videos:  15%|█▍        | 1759/11980 [48:45<3:43:52,  1.31s/video]"
     ]
    },
    {
     "name": "stdout",
     "output_type": "stream",
     "text": [
      "Saved 65051.mp4 as allergy_frames.npy\n"
     ]
    },
    {
     "name": "stderr",
     "output_type": "stream",
     "text": [
      "\rProcessing Videos:  15%|█▍        | 1760/11980 [48:46<3:36:24,  1.27s/video]"
     ]
    },
    {
     "name": "stdout",
     "output_type": "stream",
     "text": [
      "Saved 65034.mp4 as age_frames.npy\n"
     ]
    },
    {
     "name": "stderr",
     "output_type": "stream",
     "text": [
      "\rProcessing Videos:  15%|█▍        | 1761/11980 [48:47<2:53:05,  1.02s/video]"
     ]
    },
    {
     "name": "stdout",
     "output_type": "stream",
     "text": [
      "Saved 64451.mp4 as yourself_frames.npy\n"
     ]
    },
    {
     "name": "stderr",
     "output_type": "stream",
     "text": [
      "\rProcessing Videos:  15%|█▍        | 1762/11980 [48:48<3:11:41,  1.13s/video]"
     ]
    },
    {
     "name": "stdout",
     "output_type": "stream",
     "text": [
      "Saved 65014.mp4 as act_frames.npy\n"
     ]
    },
    {
     "name": "stderr",
     "output_type": "stream",
     "text": [
      "\rProcessing Videos:  15%|█▍        | 1763/11980 [48:50<3:31:21,  1.24s/video]"
     ]
    },
    {
     "name": "stdout",
     "output_type": "stream",
     "text": [
      "Saved 65029.mp4 as africa_frames.npy\n"
     ]
    },
    {
     "name": "stderr",
     "output_type": "stream",
     "text": [
      "\rProcessing Videos:  15%|█▍        | 1764/11980 [48:51<3:49:55,  1.35s/video]"
     ]
    },
    {
     "name": "stdout",
     "output_type": "stream",
     "text": [
      "Saved 65053.mp4 as allow_frames.npy\n"
     ]
    },
    {
     "name": "stderr",
     "output_type": "stream",
     "text": [
      "\rProcessing Videos:  15%|█▍        | 1765/11980 [48:52<3:13:43,  1.14s/video]"
     ]
    },
    {
     "name": "stdout",
     "output_type": "stream",
     "text": [
      "Saved 65007.mp4 as accept_frames.npy\n"
     ]
    },
    {
     "name": "stderr",
     "output_type": "stream",
     "text": [
      "\rProcessing Videos:  15%|█▍        | 1766/11980 [48:53<3:23:15,  1.19s/video]"
     ]
    },
    {
     "name": "stdout",
     "output_type": "stream",
     "text": [
      "Saved 65024.mp4 as adult_frames.npy\n"
     ]
    },
    {
     "name": "stderr",
     "output_type": "stream",
     "text": [
      "\rProcessing Videos:  15%|█▍        | 1767/11980 [48:55<3:55:05,  1.38s/video]"
     ]
    },
    {
     "name": "stdout",
     "output_type": "stream",
     "text": [
      "Saved 64448.mp4 as yourself_frames.npy\n"
     ]
    },
    {
     "name": "stderr",
     "output_type": "stream",
     "text": [
      "\rProcessing Videos:  15%|█▍        | 1768/11980 [48:56<3:29:55,  1.23s/video]"
     ]
    },
    {
     "name": "stdout",
     "output_type": "stream",
     "text": [
      "Saved 65071.mp4 as angel_frames.npy\n"
     ]
    },
    {
     "name": "stderr",
     "output_type": "stream",
     "text": [
      "\rProcessing Videos:  15%|█▍        | 1769/11980 [48:57<3:19:55,  1.17s/video]"
     ]
    },
    {
     "name": "stdout",
     "output_type": "stream",
     "text": [
      "Saved 65006.mp4 as accent_frames.npy\n"
     ]
    },
    {
     "name": "stderr",
     "output_type": "stream",
     "text": [
      "\rProcessing Videos:  15%|█▍        | 1770/11980 [48:58<3:19:19,  1.17s/video]"
     ]
    },
    {
     "name": "stdout",
     "output_type": "stream",
     "text": [
      "Saved 65032.mp4 as again_frames.npy\n"
     ]
    },
    {
     "name": "stderr",
     "output_type": "stream",
     "text": [
      "\rProcessing Videos:  15%|█▍        | 1771/11980 [48:59<3:24:58,  1.20s/video]"
     ]
    },
    {
     "name": "stdout",
     "output_type": "stream",
     "text": [
      "Saved 65015.mp4 as action_frames.npy\n"
     ]
    },
    {
     "name": "stderr",
     "output_type": "stream",
     "text": [
      "\rProcessing Videos:  15%|█▍        | 1772/11980 [49:02<4:17:44,  1.51s/video]"
     ]
    },
    {
     "name": "stdout",
     "output_type": "stream",
     "text": [
      "Saved 64447.mp4 as yourself_frames.npy\n"
     ]
    },
    {
     "name": "stderr",
     "output_type": "stream",
     "text": [
      "\rProcessing Videos:  15%|█▍        | 1773/11980 [49:04<5:03:01,  1.78s/video]"
     ]
    },
    {
     "name": "stdout",
     "output_type": "stream",
     "text": [
      "Saved 64446.mp4 as yourself_frames.npy\n"
     ]
    },
    {
     "name": "stderr",
     "output_type": "stream",
     "text": [
      "\rProcessing Videos:  15%|█▍        | 1774/11980 [49:05<4:14:35,  1.50s/video]"
     ]
    },
    {
     "name": "stdout",
     "output_type": "stream",
     "text": [
      "Saved 65058.mp4 as alphabet_frames.npy\n"
     ]
    },
    {
     "name": "stderr",
     "output_type": "stream",
     "text": [
      "\rProcessing Videos:  15%|█▍        | 1775/11980 [49:06<3:34:05,  1.26s/video]"
     ]
    },
    {
     "name": "stdout",
     "output_type": "stream",
     "text": [
      "Saved 65064.mp4 as america_frames.npy\n"
     ]
    },
    {
     "name": "stderr",
     "output_type": "stream",
     "text": [
      "\rProcessing Videos:  15%|█▍        | 1776/11980 [49:07<4:00:08,  1.41s/video]"
     ]
    },
    {
     "name": "stdout",
     "output_type": "stream",
     "text": [
      "Saved 65067.mp4 as and_frames.npy\n"
     ]
    },
    {
     "name": "stderr",
     "output_type": "stream",
     "text": [
      "\rProcessing Videos:  15%|█▍        | 1777/11980 [49:09<4:11:15,  1.48s/video]"
     ]
    },
    {
     "name": "stdout",
     "output_type": "stream",
     "text": [
      "Saved 65088.mp4 as approach_frames.npy\n"
     ]
    },
    {
     "name": "stderr",
     "output_type": "stream",
     "text": [
      "\rProcessing Videos:  15%|█▍        | 1778/11980 [49:10<3:53:23,  1.37s/video]"
     ]
    },
    {
     "name": "stdout",
     "output_type": "stream",
     "text": [
      "Saved 65133.mp4 as balloon_frames.npy\n"
     ]
    },
    {
     "name": "stderr",
     "output_type": "stream",
     "text": [
      "\rProcessing Videos:  15%|█▍        | 1779/11980 [49:11<3:17:43,  1.16s/video]"
     ]
    },
    {
     "name": "stdout",
     "output_type": "stream",
     "text": [
      "Saved 65135.mp4 as banana_frames.npy\n"
     ]
    },
    {
     "name": "stderr",
     "output_type": "stream",
     "text": [
      "\rProcessing Videos:  15%|█▍        | 1780/11980 [49:12<3:21:14,  1.18s/video]"
     ]
    },
    {
     "name": "stdout",
     "output_type": "stream",
     "text": [
      "Saved 65110.mp4 as aunt_frames.npy\n"
     ]
    },
    {
     "name": "stderr",
     "output_type": "stream",
     "text": [
      "\rProcessing Videos:  15%|█▍        | 1781/11980 [49:13<3:37:23,  1.28s/video]"
     ]
    },
    {
     "name": "stdout",
     "output_type": "stream",
     "text": [
      "Saved 65100.mp4 as asia_frames.npy\n"
     ]
    },
    {
     "name": "stderr",
     "output_type": "stream",
     "text": [
      "\rProcessing Videos:  15%|█▍        | 1782/11980 [49:15<3:26:57,  1.22s/video]"
     ]
    },
    {
     "name": "stdout",
     "output_type": "stream",
     "text": [
      "Saved 65114.mp4 as avoid_frames.npy\n"
     ]
    },
    {
     "name": "stderr",
     "output_type": "stream",
     "text": [
      "\rProcessing Videos:  15%|█▍        | 1783/11980 [49:16<3:25:24,  1.21s/video]"
     ]
    },
    {
     "name": "stdout",
     "output_type": "stream",
     "text": [
      "Saved 65111.mp4 as australia_frames.npy\n"
     ]
    },
    {
     "name": "stderr",
     "output_type": "stream",
     "text": [
      "\rProcessing Videos:  15%|█▍        | 1784/11980 [49:17<3:17:50,  1.16s/video]"
     ]
    },
    {
     "name": "stdout",
     "output_type": "stream",
     "text": [
      "Saved 65087.mp4 as appointment_frames.npy\n"
     ]
    },
    {
     "name": "stderr",
     "output_type": "stream",
     "text": [
      "\rProcessing Videos:  15%|█▍        | 1785/11980 [49:18<3:26:14,  1.21s/video]"
     ]
    },
    {
     "name": "stdout",
     "output_type": "stream",
     "text": [
      "Saved 65119.mp4 as baby_frames.npy\n"
     ]
    },
    {
     "name": "stderr",
     "output_type": "stream",
     "text": [
      "\rProcessing Videos:  15%|█▍        | 1786/11980 [49:19<3:35:49,  1.27s/video]"
     ]
    },
    {
     "name": "stdout",
     "output_type": "stream",
     "text": [
      "Saved 65081.mp4 as apart_frames.npy\n"
     ]
    },
    {
     "name": "stderr",
     "output_type": "stream",
     "text": [
      "\rProcessing Videos:  15%|█▍        | 1787/11980 [49:21<3:42:22,  1.31s/video]"
     ]
    },
    {
     "name": "stdout",
     "output_type": "stream",
     "text": [
      "Saved 65120.mp4 as back_frames.npy\n"
     ]
    },
    {
     "name": "stderr",
     "output_type": "stream",
     "text": [
      "\rProcessing Videos:  15%|█▍        | 1788/11980 [49:22<3:47:26,  1.34s/video]"
     ]
    },
    {
     "name": "stdout",
     "output_type": "stream",
     "text": [
      "Saved 65140.mp4 as baseball_frames.npy\n"
     ]
    },
    {
     "name": "stderr",
     "output_type": "stream",
     "text": [
      "\rProcessing Videos:  15%|█▍        | 1789/11980 [49:24<4:09:03,  1.47s/video]"
     ]
    },
    {
     "name": "stdout",
     "output_type": "stream",
     "text": [
      "Saved 65134.mp4 as banana_frames.npy\n"
     ]
    },
    {
     "name": "stderr",
     "output_type": "stream",
     "text": [
      "\rProcessing Videos:  15%|█▍        | 1790/11980 [49:25<3:54:25,  1.38s/video]"
     ]
    },
    {
     "name": "stdout",
     "output_type": "stream",
     "text": [
      "Saved 65085.mp4 as apple_frames.npy\n"
     ]
    },
    {
     "name": "stderr",
     "output_type": "stream",
     "text": [
      "\rProcessing Videos:  15%|█▍        | 1791/11980 [49:27<3:57:51,  1.40s/video]"
     ]
    },
    {
     "name": "stdout",
     "output_type": "stream",
     "text": [
      "Saved 65084.mp4 as apple_frames.npy\n"
     ]
    },
    {
     "name": "stderr",
     "output_type": "stream",
     "text": [
      "\rProcessing Videos:  15%|█▍        | 1792/11980 [49:28<4:15:38,  1.51s/video]"
     ]
    },
    {
     "name": "stdout",
     "output_type": "stream",
     "text": [
      "Saved 65129.mp4 as balance_frames.npy\n"
     ]
    },
    {
     "name": "stderr",
     "output_type": "stream",
     "text": [
      "\rProcessing Videos:  15%|█▍        | 1793/11980 [49:30<4:08:38,  1.46s/video]"
     ]
    },
    {
     "name": "stdout",
     "output_type": "stream",
     "text": [
      "Saved 65107.mp4 as attention_frames.npy\n"
     ]
    },
    {
     "name": "stderr",
     "output_type": "stream",
     "text": [
      "\rProcessing Videos:  15%|█▍        | 1794/11980 [49:30<3:28:45,  1.23s/video]"
     ]
    },
    {
     "name": "stdout",
     "output_type": "stream",
     "text": [
      "Saved 65137.mp4 as bar_frames.npy\n"
     ]
    },
    {
     "name": "stderr",
     "output_type": "stream",
     "text": [
      "\rProcessing Videos:  15%|█▍        | 1795/11980 [49:31<3:16:29,  1.16s/video]"
     ]
    },
    {
     "name": "stdout",
     "output_type": "stream",
     "text": [
      "Saved 65076.mp4 as answer_frames.npy\n"
     ]
    },
    {
     "name": "stderr",
     "output_type": "stream",
     "text": [
      "\rProcessing Videos:  15%|█▍        | 1796/11980 [49:33<3:27:10,  1.22s/video]"
     ]
    },
    {
     "name": "stdout",
     "output_type": "stream",
     "text": [
      "Saved 65138.mp4 as barely_frames.npy\n"
     ]
    },
    {
     "name": "stderr",
     "output_type": "stream",
     "text": [
      "\rProcessing Videos:  15%|█▌        | 1797/11980 [49:35<4:00:06,  1.41s/video]"
     ]
    },
    {
     "name": "stdout",
     "output_type": "stream",
     "text": [
      "Saved 65082.mp4 as apostrophe_frames.npy\n"
     ]
    },
    {
     "name": "stderr",
     "output_type": "stream",
     "text": [
      "\rProcessing Videos:  15%|█▌        | 1798/11980 [49:36<3:57:27,  1.40s/video]"
     ]
    },
    {
     "name": "stdout",
     "output_type": "stream",
     "text": [
      "Saved 65117.mp4 as away_frames.npy\n"
     ]
    },
    {
     "name": "stderr",
     "output_type": "stream",
     "text": [
      "\rProcessing Videos:  15%|█▌        | 1799/11980 [49:37<3:40:17,  1.30s/video]"
     ]
    },
    {
     "name": "stdout",
     "output_type": "stream",
     "text": [
      "Saved 65094.mp4 as arm_frames.npy\n"
     ]
    },
    {
     "name": "stderr",
     "output_type": "stream",
     "text": [
      "\rProcessing Videos:  15%|█▌        | 1800/11980 [49:38<3:10:49,  1.12s/video]"
     ]
    },
    {
     "name": "stdout",
     "output_type": "stream",
     "text": [
      "Saved 65074.mp4 as announce_frames.npy\n"
     ]
    },
    {
     "name": "stderr",
     "output_type": "stream",
     "text": [
      "\rProcessing Videos:  15%|█▌        | 1801/11980 [49:39<3:24:43,  1.21s/video]"
     ]
    },
    {
     "name": "stdout",
     "output_type": "stream",
     "text": [
      "Saved 65092.mp4 as argue_frames.npy\n"
     ]
    },
    {
     "name": "stderr",
     "output_type": "stream",
     "text": [
      "\rProcessing Videos:  15%|█▌        | 1802/11980 [49:40<3:25:57,  1.21s/video]"
     ]
    },
    {
     "name": "stdout",
     "output_type": "stream",
     "text": [
      "Saved 65101.mp4 as ask_frames.npy\n"
     ]
    },
    {
     "name": "stderr",
     "output_type": "stream",
     "text": [
      "\rProcessing Videos:  15%|█▌        | 1803/11980 [49:42<3:33:58,  1.26s/video]"
     ]
    },
    {
     "name": "stdout",
     "output_type": "stream",
     "text": [
      "Saved 65083.mp4 as appear_frames.npy\n"
     ]
    },
    {
     "name": "stderr",
     "output_type": "stream",
     "text": [
      "\rProcessing Videos:  15%|█▌        | 1804/11980 [49:43<3:36:12,  1.27s/video]"
     ]
    },
    {
     "name": "stdout",
     "output_type": "stream",
     "text": [
      "Saved 65127.mp4 as bake_frames.npy\n"
     ]
    },
    {
     "name": "stderr",
     "output_type": "stream",
     "text": [
      "\rProcessing Videos:  15%|█▌        | 1805/11980 [49:45<3:49:23,  1.35s/video]"
     ]
    },
    {
     "name": "stdout",
     "output_type": "stream",
     "text": [
      "Saved 65130.mp4 as bald_frames.npy\n"
     ]
    },
    {
     "name": "stderr",
     "output_type": "stream",
     "text": [
      "\rProcessing Videos:  15%|█▌        | 1806/11980 [49:46<3:41:25,  1.31s/video]"
     ]
    },
    {
     "name": "stdout",
     "output_type": "stream",
     "text": [
      "Saved 65093.mp4 as arizona_frames.npy\n"
     ]
    },
    {
     "name": "stderr",
     "output_type": "stream",
     "text": [
      "\rProcessing Videos:  15%|█▌        | 1807/11980 [49:47<3:14:10,  1.15s/video]"
     ]
    },
    {
     "name": "stdout",
     "output_type": "stream",
     "text": [
      "Saved 65108.mp4 as attitude_frames.npy\n"
     ]
    },
    {
     "name": "stderr",
     "output_type": "stream",
     "text": [
      "\rProcessing Videos:  15%|█▌        | 1808/11980 [49:48<3:34:59,  1.27s/video]"
     ]
    },
    {
     "name": "stdout",
     "output_type": "stream",
     "text": [
      "Saved 65122.mp4 as background_frames.npy\n"
     ]
    },
    {
     "name": "stderr",
     "output_type": "stream",
     "text": [
      "\rProcessing Videos:  15%|█▌        | 1809/11980 [49:49<3:17:07,  1.16s/video]"
     ]
    },
    {
     "name": "stdout",
     "output_type": "stream",
     "text": [
      "Saved 65132.mp4 as balloon_frames.npy\n"
     ]
    },
    {
     "name": "stderr",
     "output_type": "stream",
     "text": [
      "\rProcessing Videos:  15%|█▌        | 1810/11980 [49:51<3:27:50,  1.23s/video]"
     ]
    },
    {
     "name": "stdout",
     "output_type": "stream",
     "text": [
      "Saved 65073.mp4 as animal_frames.npy\n"
     ]
    },
    {
     "name": "stderr",
     "output_type": "stream",
     "text": [
      "\rProcessing Videos:  15%|█▌        | 1811/11980 [49:52<3:28:46,  1.23s/video]"
     ]
    },
    {
     "name": "stdout",
     "output_type": "stream",
     "text": [
      "Saved 65131.mp4 as ball_frames.npy\n"
     ]
    },
    {
     "name": "stderr",
     "output_type": "stream",
     "text": [
      "\rProcessing Videos:  15%|█▌        | 1812/11980 [49:53<3:34:54,  1.27s/video]"
     ]
    },
    {
     "name": "stdout",
     "output_type": "stream",
     "text": [
      "Saved 65118.mp4 as awful_frames.npy\n"
     ]
    },
    {
     "name": "stderr",
     "output_type": "stream",
     "text": [
      "\rProcessing Videos:  15%|█▌        | 1813/11980 [49:55<3:43:38,  1.32s/video]"
     ]
    },
    {
     "name": "stdout",
     "output_type": "stream",
     "text": [
      "Saved 65116.mp4 as awake_frames.npy\n"
     ]
    },
    {
     "name": "stderr",
     "output_type": "stream",
     "text": [
      "\rProcessing Videos:  15%|█▌        | 1814/11980 [49:56<3:44:05,  1.32s/video]"
     ]
    },
    {
     "name": "stdout",
     "output_type": "stream",
     "text": [
      "Saved 65098.mp4 as article_frames.npy\n"
     ]
    },
    {
     "name": "stderr",
     "output_type": "stream",
     "text": [
      "\rProcessing Videos:  15%|█▌        | 1815/11980 [49:57<3:53:20,  1.38s/video]"
     ]
    },
    {
     "name": "stdout",
     "output_type": "stream",
     "text": [
      "Saved 65141.mp4 as baseball_frames.npy\n"
     ]
    },
    {
     "name": "stderr",
     "output_type": "stream",
     "text": [
      "\rProcessing Videos:  15%|█▌        | 1816/11980 [49:59<4:01:27,  1.43s/video]"
     ]
    },
    {
     "name": "stdout",
     "output_type": "stream",
     "text": [
      "Saved 65096.mp4 as arrive_frames.npy\n"
     ]
    },
    {
     "name": "stderr",
     "output_type": "stream",
     "text": [
      "\rProcessing Videos:  15%|█▌        | 1817/11980 [50:01<4:11:41,  1.49s/video]"
     ]
    },
    {
     "name": "stdout",
     "output_type": "stream",
     "text": [
      "Saved 65086.mp4 as apple_frames.npy\n"
     ]
    },
    {
     "name": "stderr",
     "output_type": "stream",
     "text": [
      "\rProcessing Videos:  15%|█▌        | 1818/11980 [50:02<4:05:13,  1.45s/video]"
     ]
    },
    {
     "name": "stdout",
     "output_type": "stream",
     "text": [
      "Saved 65091.mp4 as area_frames.npy\n"
     ]
    },
    {
     "name": "stderr",
     "output_type": "stream",
     "text": [
      "\rProcessing Videos:  15%|█▌        | 1819/11980 [50:08<7:59:29,  2.83s/video]"
     ]
    },
    {
     "name": "stdout",
     "output_type": "stream",
     "text": [
      "Saved 65095.mp4 as army_frames.npy\n"
     ]
    },
    {
     "name": "stderr",
     "output_type": "stream",
     "text": [
      "\rProcessing Videos:  15%|█▌        | 1820/11980 [50:09<6:45:57,  2.40s/video]"
     ]
    },
    {
     "name": "stdout",
     "output_type": "stream",
     "text": [
      "Saved 65128.mp4 as bake_frames.npy\n"
     ]
    },
    {
     "name": "stderr",
     "output_type": "stream",
     "text": [
      "\rProcessing Videos:  15%|█▌        | 1821/11980 [50:11<5:47:28,  2.05s/video]"
     ]
    },
    {
     "name": "stdout",
     "output_type": "stream",
     "text": [
      "Saved 65123.mp4 as backpack_frames.npy\n"
     ]
    },
    {
     "name": "stderr",
     "output_type": "stream",
     "text": [
      "\rProcessing Videos:  15%|█▌        | 1822/11980 [50:12<5:07:24,  1.82s/video]"
     ]
    },
    {
     "name": "stdout",
     "output_type": "stream",
     "text": [
      "Saved 65139.mp4 as bark_frames.npy\n"
     ]
    },
    {
     "name": "stderr",
     "output_type": "stream",
     "text": [
      "\rProcessing Videos:  15%|█▌        | 1823/11980 [50:13<4:22:28,  1.55s/video]"
     ]
    },
    {
     "name": "stdout",
     "output_type": "stream",
     "text": [
      "Saved 65079.mp4 as any_frames.npy\n"
     ]
    },
    {
     "name": "stderr",
     "output_type": "stream",
     "text": [
      "\rProcessing Videos:  15%|█▌        | 1824/11980 [50:14<4:01:49,  1.43s/video]"
     ]
    },
    {
     "name": "stdout",
     "output_type": "stream",
     "text": [
      "Saved 65124.mp4 as bacon_frames.npy\n"
     ]
    },
    {
     "name": "stderr",
     "output_type": "stream",
     "text": [
      "\rProcessing Videos:  15%|█▌        | 1825/11980 [50:16<4:10:15,  1.48s/video]"
     ]
    },
    {
     "name": "stdout",
     "output_type": "stream",
     "text": [
      "Saved 65097.mp4 as art_frames.npy\n"
     ]
    },
    {
     "name": "stderr",
     "output_type": "stream",
     "text": [
      "\rProcessing Videos:  15%|█▌        | 1826/11980 [50:17<3:55:57,  1.39s/video]"
     ]
    },
    {
     "name": "stdout",
     "output_type": "stream",
     "text": [
      "Saved 65113.mp4 as autumn_frames.npy\n"
     ]
    },
    {
     "name": "stderr",
     "output_type": "stream",
     "text": [
      "\rProcessing Videos:  15%|█▌        | 1827/11980 [50:18<3:56:00,  1.39s/video]"
     ]
    },
    {
     "name": "stdout",
     "output_type": "stream",
     "text": [
      "Saved 65125.mp4 as bad_frames.npy\n"
     ]
    },
    {
     "name": "stderr",
     "output_type": "stream",
     "text": [
      "\rProcessing Videos:  15%|█▌        | 1828/11980 [50:20<4:08:34,  1.47s/video]"
     ]
    },
    {
     "name": "stdout",
     "output_type": "stream",
     "text": [
      "Saved 65224.mp4 as bone_frames.npy\n"
     ]
    },
    {
     "name": "stderr",
     "output_type": "stream",
     "text": [
      "\rProcessing Videos:  15%|█▌        | 1829/11980 [50:21<3:54:36,  1.39s/video]"
     ]
    },
    {
     "name": "stdout",
     "output_type": "stream",
     "text": [
      "Saved 65171.mp4 as believe_frames.npy\n"
     ]
    },
    {
     "name": "stderr",
     "output_type": "stream",
     "text": [
      "\rProcessing Videos:  15%|█▌        | 1830/11980 [50:23<4:05:26,  1.45s/video]"
     ]
    },
    {
     "name": "stdout",
     "output_type": "stream",
     "text": [
      "Saved 65204.mp4 as blanket_frames.npy\n"
     ]
    },
    {
     "name": "stderr",
     "output_type": "stream",
     "text": [
      "\rProcessing Videos:  15%|█▌        | 1831/11980 [50:24<3:54:32,  1.39s/video]"
     ]
    },
    {
     "name": "stdout",
     "output_type": "stream",
     "text": [
      "Saved 65186.mp4 as biology_frames.npy\n"
     ]
    },
    {
     "name": "stderr",
     "output_type": "stream",
     "text": [
      "\rProcessing Videos:  15%|█▌        | 1832/11980 [50:25<3:54:04,  1.38s/video]"
     ]
    },
    {
     "name": "stdout",
     "output_type": "stream",
     "text": [
      "Saved 65182.mp4 as big_frames.npy\n"
     ]
    },
    {
     "name": "stderr",
     "output_type": "stream",
     "text": [
      "\rProcessing Videos:  15%|█▌        | 1833/11980 [50:26<3:40:58,  1.31s/video]"
     ]
    },
    {
     "name": "stdout",
     "output_type": "stream",
     "text": [
      "Saved 65143.mp4 as basic_frames.npy\n"
     ]
    },
    {
     "name": "stderr",
     "output_type": "stream",
     "text": [
      "\rProcessing Videos:  15%|█▌        | 1834/11980 [50:28<3:43:56,  1.32s/video]"
     ]
    },
    {
     "name": "stdout",
     "output_type": "stream",
     "text": [
      "Saved 65212.mp4 as blood_frames.npy\n"
     ]
    },
    {
     "name": "stderr",
     "output_type": "stream",
     "text": [
      "\rProcessing Videos:  15%|█▌        | 1835/11980 [50:29<3:18:19,  1.17s/video]"
     ]
    },
    {
     "name": "stdout",
     "output_type": "stream",
     "text": [
      "Saved 65144.mp4 as basketball_frames.npy\n"
     ]
    },
    {
     "name": "stderr",
     "output_type": "stream",
     "text": [
      "\rProcessing Videos:  15%|█▌        | 1836/11980 [50:30<3:34:38,  1.27s/video]"
     ]
    },
    {
     "name": "stdout",
     "output_type": "stream",
     "text": [
      "Saved 65199.mp4 as bite_frames.npy\n"
     ]
    },
    {
     "name": "stderr",
     "output_type": "stream",
     "text": [
      "\rProcessing Videos:  15%|█▌        | 1837/11980 [50:32<3:47:24,  1.35s/video]"
     ]
    },
    {
     "name": "stdout",
     "output_type": "stream",
     "text": [
      "Saved 65202.mp4 as blame_frames.npy\n"
     ]
    },
    {
     "name": "stderr",
     "output_type": "stream",
     "text": [
      "\rProcessing Videos:  15%|█▌        | 1838/11980 [50:33<3:53:47,  1.38s/video]"
     ]
    },
    {
     "name": "stdout",
     "output_type": "stream",
     "text": [
      "Saved 65226.mp4 as boots_frames.npy\n"
     ]
    },
    {
     "name": "stderr",
     "output_type": "stream",
     "text": [
      "\rProcessing Videos:  15%|█▌        | 1839/11980 [50:34<3:41:49,  1.31s/video]"
     ]
    },
    {
     "name": "stdout",
     "output_type": "stream",
     "text": [
      "Saved 65147.mp4 as bath_frames.npy\n"
     ]
    },
    {
     "name": "stderr",
     "output_type": "stream",
     "text": [
      "\rProcessing Videos:  15%|█▌        | 1840/11980 [50:35<3:42:38,  1.32s/video]"
     ]
    },
    {
     "name": "stdout",
     "output_type": "stream",
     "text": [
      "Saved 65169.mp4 as behind_frames.npy\n"
     ]
    },
    {
     "name": "stderr",
     "output_type": "stream",
     "text": [
      "\rProcessing Videos:  15%|█▌        | 1841/11980 [50:37<3:39:14,  1.30s/video]"
     ]
    },
    {
     "name": "stdout",
     "output_type": "stream",
     "text": [
      "Saved 65167.mp4 as before_frames.npy\n"
     ]
    },
    {
     "name": "stderr",
     "output_type": "stream",
     "text": [
      "\rProcessing Videos:  15%|█▌        | 1842/11980 [50:38<3:32:04,  1.26s/video]"
     ]
    },
    {
     "name": "stdout",
     "output_type": "stream",
     "text": [
      "Saved 65156.mp4 as beard_frames.npy\n"
     ]
    },
    {
     "name": "stderr",
     "output_type": "stream",
     "text": [
      "\rProcessing Videos:  15%|█▌        | 1843/11980 [50:39<3:34:47,  1.27s/video]"
     ]
    },
    {
     "name": "stdout",
     "output_type": "stream",
     "text": [
      "Saved 65148.mp4 as bathroom_frames.npy\n"
     ]
    },
    {
     "name": "stderr",
     "output_type": "stream",
     "text": [
      "\rProcessing Videos:  15%|█▌        | 1844/11980 [50:41<3:38:09,  1.29s/video]"
     ]
    },
    {
     "name": "stdout",
     "output_type": "stream",
     "text": [
      "Saved 65222.mp4 as body_frames.npy\n"
     ]
    },
    {
     "name": "stderr",
     "output_type": "stream",
     "text": [
      "\rProcessing Videos:  15%|█▌        | 1845/11980 [50:42<3:39:38,  1.30s/video]"
     ]
    },
    {
     "name": "stdout",
     "output_type": "stream",
     "text": [
      "Saved 65168.mp4 as beg_frames.npy\n"
     ]
    },
    {
     "name": "stderr",
     "output_type": "stream",
     "text": [
      "\rProcessing Videos:  15%|█▌        | 1846/11980 [50:43<3:47:24,  1.35s/video]"
     ]
    },
    {
     "name": "stdout",
     "output_type": "stream",
     "text": [
      "Saved 65155.mp4 as bear_frames.npy\n"
     ]
    },
    {
     "name": "stderr",
     "output_type": "stream",
     "text": [
      "\rProcessing Videos:  15%|█▌        | 1847/11980 [50:44<3:23:01,  1.20s/video]"
     ]
    },
    {
     "name": "stdout",
     "output_type": "stream",
     "text": [
      "Saved 65189.mp4 as birth_frames.npy\n"
     ]
    },
    {
     "name": "stderr",
     "output_type": "stream",
     "text": [
      "\rProcessing Videos:  15%|█▌        | 1848/11980 [50:46<3:41:33,  1.31s/video]"
     ]
    },
    {
     "name": "stdout",
     "output_type": "stream",
     "text": [
      "Saved 65192.mp4 as birthday_frames.npy\n"
     ]
    },
    {
     "name": "stderr",
     "output_type": "stream",
     "text": [
      "\rProcessing Videos:  15%|█▌        | 1849/11980 [50:47<3:43:52,  1.33s/video]"
     ]
    },
    {
     "name": "stdout",
     "output_type": "stream",
     "text": [
      "Saved 65170.mp4 as believe_frames.npy\n"
     ]
    },
    {
     "name": "stderr",
     "output_type": "stream",
     "text": [
      "\rProcessing Videos:  15%|█▌        | 1850/11980 [50:48<3:13:51,  1.15s/video]"
     ]
    },
    {
     "name": "stdout",
     "output_type": "stream",
     "text": [
      "Saved 65180.mp4 as between_frames.npy\n"
     ]
    },
    {
     "name": "stderr",
     "output_type": "stream",
     "text": [
      "\rProcessing Videos:  15%|█▌        | 1851/11980 [50:49<3:26:09,  1.22s/video]"
     ]
    },
    {
     "name": "stdout",
     "output_type": "stream",
     "text": [
      "Saved 65164.mp4 as bedroom_frames.npy\n"
     ]
    },
    {
     "name": "stderr",
     "output_type": "stream",
     "text": [
      "\rProcessing Videos:  15%|█▌        | 1852/11980 [50:50<3:05:39,  1.10s/video]"
     ]
    },
    {
     "name": "stdout",
     "output_type": "stream",
     "text": [
      "Saved 65209.mp4 as blind_frames.npy\n"
     ]
    },
    {
     "name": "stderr",
     "output_type": "stream",
     "text": [
      "\rProcessing Videos:  15%|█▌        | 1853/11980 [50:51<2:49:51,  1.01s/video]"
     ]
    },
    {
     "name": "stdout",
     "output_type": "stream",
     "text": [
      "Saved 65162.mp4 as bed_frames.npy\n"
     ]
    },
    {
     "name": "stderr",
     "output_type": "stream",
     "text": [
      "\rProcessing Videos:  15%|█▌        | 1854/11980 [50:52<3:12:31,  1.14s/video]"
     ]
    },
    {
     "name": "stdout",
     "output_type": "stream",
     "text": [
      "Saved 65179.mp4 as better_frames.npy\n"
     ]
    },
    {
     "name": "stderr",
     "output_type": "stream",
     "text": [
      "\rProcessing Videos:  15%|█▌        | 1855/11980 [50:54<3:20:46,  1.19s/video]"
     ]
    },
    {
     "name": "stdout",
     "output_type": "stream",
     "text": [
      "Saved 65142.mp4 as basement_frames.npy\n"
     ]
    },
    {
     "name": "stderr",
     "output_type": "stream",
     "text": [
      "\rProcessing Videos:  15%|█▌        | 1856/11980 [50:55<3:23:50,  1.21s/video]"
     ]
    },
    {
     "name": "stdout",
     "output_type": "stream",
     "text": [
      "Saved 65185.mp4 as binoculars_frames.npy\n"
     ]
    },
    {
     "name": "stderr",
     "output_type": "stream",
     "text": [
      "\rProcessing Videos:  16%|█▌        | 1857/11980 [50:56<3:27:22,  1.23s/video]"
     ]
    },
    {
     "name": "stdout",
     "output_type": "stream",
     "text": [
      "Saved 65160.mp4 as become_frames.npy\n"
     ]
    },
    {
     "name": "stderr",
     "output_type": "stream",
     "text": [
      "\rProcessing Videos:  16%|█▌        | 1858/11980 [50:57<3:13:29,  1.15s/video]"
     ]
    },
    {
     "name": "stdout",
     "output_type": "stream",
     "text": [
      "Saved 65176.mp4 as berry_frames.npy\n"
     ]
    },
    {
     "name": "stderr",
     "output_type": "stream",
     "text": [
      "\rProcessing Videos:  16%|█▌        | 1859/11980 [50:59<3:34:25,  1.27s/video]"
     ]
    },
    {
     "name": "stdout",
     "output_type": "stream",
     "text": [
      "Saved 65221.mp4 as boat_frames.npy\n"
     ]
    },
    {
     "name": "stderr",
     "output_type": "stream",
     "text": [
      "\rProcessing Videos:  16%|█▌        | 1860/11980 [51:00<3:46:00,  1.34s/video]"
     ]
    },
    {
     "name": "stdout",
     "output_type": "stream",
     "text": [
      "Saved 65149.mp4 as battery_frames.npy\n"
     ]
    },
    {
     "name": "stderr",
     "output_type": "stream",
     "text": [
      "\rProcessing Videos:  16%|█▌        | 1861/11980 [51:01<3:37:34,  1.29s/video]"
     ]
    },
    {
     "name": "stdout",
     "output_type": "stream",
     "text": [
      "Saved 65158.mp4 as because_frames.npy\n"
     ]
    },
    {
     "name": "stderr",
     "output_type": "stream",
     "text": [
      "\rProcessing Videos:  16%|█▌        | 1862/11980 [51:03<3:39:24,  1.30s/video]"
     ]
    },
    {
     "name": "stdout",
     "output_type": "stream",
     "text": [
      "Saved 65165.mp4 as bee_frames.npy\n"
     ]
    },
    {
     "name": "stderr",
     "output_type": "stream",
     "text": [
      "\rProcessing Videos:  16%|█▌        | 1863/11980 [51:04<3:38:45,  1.30s/video]"
     ]
    },
    {
     "name": "stdout",
     "output_type": "stream",
     "text": [
      "Saved 65205.mp4 as blanket_frames.npy\n"
     ]
    },
    {
     "name": "stderr",
     "output_type": "stream",
     "text": [
      "\rProcessing Videos:  16%|█▌        | 1864/11980 [51:05<3:28:43,  1.24s/video]"
     ]
    },
    {
     "name": "stdout",
     "output_type": "stream",
     "text": [
      "Saved 65200.mp4 as black_frames.npy\n"
     ]
    },
    {
     "name": "stderr",
     "output_type": "stream",
     "text": [
      "\rProcessing Videos:  16%|█▌        | 1865/11980 [51:06<3:24:51,  1.22s/video]"
     ]
    },
    {
     "name": "stdout",
     "output_type": "stream",
     "text": [
      "Saved 65161.mp4 as bed_frames.npy\n"
     ]
    },
    {
     "name": "stderr",
     "output_type": "stream",
     "text": [
      "\rProcessing Videos:  16%|█▌        | 1866/11980 [51:08<3:38:03,  1.29s/video]"
     ]
    },
    {
     "name": "stdout",
     "output_type": "stream",
     "text": [
      "Saved 65190.mp4 as birth_frames.npy\n"
     ]
    },
    {
     "name": "stderr",
     "output_type": "stream",
     "text": [
      "\rProcessing Videos:  16%|█▌        | 1867/11980 [51:09<3:43:37,  1.33s/video]"
     ]
    },
    {
     "name": "stdout",
     "output_type": "stream",
     "text": [
      "Saved 65206.mp4 as bless_frames.npy\n"
     ]
    },
    {
     "name": "stderr",
     "output_type": "stream",
     "text": [
      "\rProcessing Videos:  16%|█▌        | 1868/11980 [51:10<3:31:53,  1.26s/video]"
     ]
    },
    {
     "name": "stdout",
     "output_type": "stream",
     "text": [
      "Saved 65145.mp4 as basketball_frames.npy\n"
     ]
    },
    {
     "name": "stderr",
     "output_type": "stream",
     "text": [
      "\rProcessing Videos:  16%|█▌        | 1869/11980 [51:12<3:38:08,  1.29s/video]"
     ]
    },
    {
     "name": "stdout",
     "output_type": "stream",
     "text": [
      "Saved 65183.mp4 as big_frames.npy\n"
     ]
    },
    {
     "name": "stderr",
     "output_type": "stream",
     "text": [
      "\rProcessing Videos:  16%|█▌        | 1870/11980 [51:13<3:41:29,  1.31s/video]"
     ]
    },
    {
     "name": "stdout",
     "output_type": "stream",
     "text": [
      "Saved 65159.mp4 as because_frames.npy\n"
     ]
    },
    {
     "name": "stderr",
     "output_type": "stream",
     "text": [
      "\rProcessing Videos:  16%|█▌        | 1871/11980 [51:15<3:58:03,  1.41s/video]"
     ]
    },
    {
     "name": "stdout",
     "output_type": "stream",
     "text": [
      "Saved 65181.mp4 as bicycle_frames.npy\n"
     ]
    },
    {
     "name": "stderr",
     "output_type": "stream",
     "text": [
      "\rProcessing Videos:  16%|█▌        | 1872/11980 [51:16<3:48:37,  1.36s/video]"
     ]
    },
    {
     "name": "stdout",
     "output_type": "stream",
     "text": [
      "Saved 65173.mp4 as belt_frames.npy\n"
     ]
    },
    {
     "name": "stderr",
     "output_type": "stream",
     "text": [
      "\rProcessing Videos:  16%|█▌        | 1873/11980 [51:17<3:41:17,  1.31s/video]"
     ]
    },
    {
     "name": "stdout",
     "output_type": "stream",
     "text": [
      "Saved 65187.mp4 as bird_frames.npy\n"
     ]
    },
    {
     "name": "stderr",
     "output_type": "stream",
     "text": [
      "\rProcessing Videos:  16%|█▌        | 1874/11980 [51:18<3:47:36,  1.35s/video]"
     ]
    },
    {
     "name": "stdout",
     "output_type": "stream",
     "text": [
      "Saved 65216.mp4 as blue_frames.npy\n"
     ]
    },
    {
     "name": "stderr",
     "output_type": "stream",
     "text": [
      "\rProcessing Videos:  16%|█▌        | 1875/11980 [51:19<3:17:39,  1.17s/video]"
     ]
    },
    {
     "name": "stdout",
     "output_type": "stream",
     "text": [
      "Saved 65166.mp4 as beer_frames.npy\n"
     ]
    },
    {
     "name": "stderr",
     "output_type": "stream",
     "text": [
      "\rProcessing Videos:  16%|█▌        | 1876/11980 [51:20<3:11:20,  1.14s/video]"
     ]
    },
    {
     "name": "stdout",
     "output_type": "stream",
     "text": [
      "Saved 65175.mp4 as benefit_frames.npy\n"
     ]
    },
    {
     "name": "stderr",
     "output_type": "stream",
     "text": [
      "\rProcessing Videos:  16%|█▌        | 1877/11980 [51:21<2:57:14,  1.05s/video]"
     ]
    },
    {
     "name": "stdout",
     "output_type": "stream",
     "text": [
      "Saved 65163.mp4 as bed_frames.npy\n"
     ]
    },
    {
     "name": "stderr",
     "output_type": "stream",
     "text": [
      "\rProcessing Videos:  16%|█▌        | 1878/11980 [51:23<3:17:28,  1.17s/video]"
     ]
    },
    {
     "name": "stdout",
     "output_type": "stream",
     "text": [
      "Saved 65265.mp4 as brush_frames.npy\n"
     ]
    },
    {
     "name": "stderr",
     "output_type": "stream",
     "text": [
      "\rProcessing Videos:  16%|█▌        | 1879/11980 [51:24<3:21:12,  1.20s/video]"
     ]
    },
    {
     "name": "stdout",
     "output_type": "stream",
     "text": [
      "Saved 65281.mp4 as button_frames.npy\n"
     ]
    },
    {
     "name": "stderr",
     "output_type": "stream",
     "text": [
      "\rProcessing Videos:  16%|█▌        | 1880/11980 [51:25<3:29:18,  1.24s/video]"
     ]
    },
    {
     "name": "stdout",
     "output_type": "stream",
     "text": [
      "Saved 65300.mp4 as candy_frames.npy\n"
     ]
    },
    {
     "name": "stderr",
     "output_type": "stream",
     "text": [
      "\rProcessing Videos:  16%|█▌        | 1881/11980 [51:27<3:41:55,  1.32s/video]"
     ]
    },
    {
     "name": "stdout",
     "output_type": "stream",
     "text": [
      "Saved 65247.mp4 as bracelet_frames.npy\n"
     ]
    },
    {
     "name": "stderr",
     "output_type": "stream",
     "text": [
      "\rProcessing Videos:  16%|█▌        | 1882/11980 [51:28<3:53:45,  1.39s/video]"
     ]
    },
    {
     "name": "stdout",
     "output_type": "stream",
     "text": [
      "Saved 65301.mp4 as cannot_frames.npy\n"
     ]
    },
    {
     "name": "stderr",
     "output_type": "stream",
     "text": [
      "\rProcessing Videos:  16%|█▌        | 1883/11980 [51:29<3:48:48,  1.36s/video]"
     ]
    },
    {
     "name": "stdout",
     "output_type": "stream",
     "text": [
      "Saved 65256.mp4 as breathe_frames.npy\n"
     ]
    },
    {
     "name": "stderr",
     "output_type": "stream",
     "text": [
      "\rProcessing Videos:  16%|█▌        | 1884/11980 [51:30<3:19:09,  1.18s/video]"
     ]
    },
    {
     "name": "stdout",
     "output_type": "stream",
     "text": [
      "Saved 65277.mp4 as busy_frames.npy\n"
     ]
    },
    {
     "name": "stderr",
     "output_type": "stream",
     "text": [
      "\rProcessing Videos:  16%|█▌        | 1885/11980 [51:32<3:24:08,  1.21s/video]"
     ]
    },
    {
     "name": "stdout",
     "output_type": "stream",
     "text": [
      "Saved 65292.mp4 as camera_frames.npy\n"
     ]
    },
    {
     "name": "stderr",
     "output_type": "stream",
     "text": [
      "\rProcessing Videos:  16%|█▌        | 1886/11980 [51:33<3:32:02,  1.26s/video]"
     ]
    },
    {
     "name": "stdout",
     "output_type": "stream",
     "text": [
      "Saved 65305.mp4 as cards_frames.npy\n"
     ]
    },
    {
     "name": "stderr",
     "output_type": "stream",
     "text": [
      "\rProcessing Videos:  16%|█▌        | 1887/11980 [51:35<3:49:18,  1.36s/video]"
     ]
    },
    {
     "name": "stdout",
     "output_type": "stream",
     "text": [
      "Saved 65262.mp4 as brother_frames.npy\n"
     ]
    },
    {
     "name": "stderr",
     "output_type": "stream",
     "text": [
      "\rProcessing Videos:  16%|█▌        | 1888/11980 [51:36<3:53:27,  1.39s/video]"
     ]
    },
    {
     "name": "stdout",
     "output_type": "stream",
     "text": [
      "Saved 65264.mp4 as brush_frames.npy\n"
     ]
    },
    {
     "name": "stderr",
     "output_type": "stream",
     "text": [
      "\rProcessing Videos:  16%|█▌        | 1889/11980 [51:37<3:56:14,  1.40s/video]"
     ]
    },
    {
     "name": "stdout",
     "output_type": "stream",
     "text": [
      "Saved 65246.mp4 as bra_frames.npy\n"
     ]
    },
    {
     "name": "stderr",
     "output_type": "stream",
     "text": [
      "\rProcessing Videos:  16%|█▌        | 1890/11980 [51:38<3:30:42,  1.25s/video]"
     ]
    },
    {
     "name": "stdout",
     "output_type": "stream",
     "text": [
      "Saved 65229.mp4 as bored_frames.npy\n"
     ]
    },
    {
     "name": "stderr",
     "output_type": "stream",
     "text": [
      "\rProcessing Videos:  16%|█▌        | 1891/11980 [51:40<3:37:19,  1.29s/video]"
     ]
    },
    {
     "name": "stdout",
     "output_type": "stream",
     "text": [
      "Saved 65280.mp4 as butterfly_frames.npy\n"
     ]
    },
    {
     "name": "stderr",
     "output_type": "stream",
     "text": [
      "\rProcessing Videos:  16%|█▌        | 1892/11980 [51:41<3:54:16,  1.39s/video]"
     ]
    },
    {
     "name": "stdout",
     "output_type": "stream",
     "text": [
      "Saved 65285.mp4 as cake_frames.npy\n"
     ]
    },
    {
     "name": "stderr",
     "output_type": "stream",
     "text": [
      "\rProcessing Videos:  16%|█▌        | 1893/11980 [51:43<4:05:41,  1.46s/video]"
     ]
    },
    {
     "name": "stdout",
     "output_type": "stream",
     "text": [
      "Saved 65260.mp4 as bring_frames.npy\n"
     ]
    },
    {
     "name": "stderr",
     "output_type": "stream",
     "text": [
      "\rProcessing Videos:  16%|█▌        | 1894/11980 [51:44<3:41:57,  1.32s/video]"
     ]
    },
    {
     "name": "stdout",
     "output_type": "stream",
     "text": [
      "Saved 65234.mp4 as bother_frames.npy\n"
     ]
    },
    {
     "name": "stderr",
     "output_type": "stream",
     "text": [
      "\rProcessing Videos:  16%|█▌        | 1895/11980 [51:45<3:41:58,  1.32s/video]"
     ]
    },
    {
     "name": "stdout",
     "output_type": "stream",
     "text": [
      "Saved 65245.mp4 as boy_frames.npy\n"
     ]
    },
    {
     "name": "stderr",
     "output_type": "stream",
     "text": [
      "\rProcessing Videos:  16%|█▌        | 1896/11980 [51:47<3:52:01,  1.38s/video]"
     ]
    },
    {
     "name": "stdout",
     "output_type": "stream",
     "text": [
      "Saved 65293.mp4 as camping_frames.npy\n"
     ]
    },
    {
     "name": "stderr",
     "output_type": "stream",
     "text": [
      "\rProcessing Videos:  16%|█▌        | 1897/11980 [51:48<3:49:20,  1.36s/video]"
     ]
    },
    {
     "name": "stdout",
     "output_type": "stream",
     "text": [
      "Saved 65235.mp4 as bottle_frames.npy\n"
     ]
    },
    {
     "name": "stderr",
     "output_type": "stream",
     "text": [
      "\rProcessing Videos:  16%|█▌        | 1898/11980 [51:49<3:42:24,  1.32s/video]"
     ]
    },
    {
     "name": "stdout",
     "output_type": "stream",
     "text": [
      "Saved 65295.mp4 as canada_frames.npy\n"
     ]
    },
    {
     "name": "stderr",
     "output_type": "stream",
     "text": [
      "\rProcessing Videos:  16%|█▌        | 1899/11980 [51:51<3:40:16,  1.31s/video]"
     ]
    },
    {
     "name": "stdout",
     "output_type": "stream",
     "text": [
      "Saved 65268.mp4 as build_frames.npy\n"
     ]
    },
    {
     "name": "stderr",
     "output_type": "stream",
     "text": [
      "\rProcessing Videos:  16%|█▌        | 1900/11980 [51:52<3:26:23,  1.23s/video]"
     ]
    },
    {
     "name": "stdout",
     "output_type": "stream",
     "text": [
      "Saved 65298.mp4 as candy_frames.npy\n"
     ]
    },
    {
     "name": "stderr",
     "output_type": "stream",
     "text": [
      "\rProcessing Videos:  16%|█▌        | 1901/11980 [51:53<3:37:55,  1.30s/video]"
     ]
    },
    {
     "name": "stdout",
     "output_type": "stream",
     "text": [
      "Saved 65244.mp4 as box_frames.npy\n"
     ]
    },
    {
     "name": "stderr",
     "output_type": "stream",
     "text": [
      "\rProcessing Videos:  16%|█▌        | 1902/11980 [51:54<3:38:16,  1.30s/video]"
     ]
    },
    {
     "name": "stdout",
     "output_type": "stream",
     "text": [
      "Saved 65269.mp4 as building_frames.npy\n"
     ]
    },
    {
     "name": "stderr",
     "output_type": "stream",
     "text": [
      "\rProcessing Videos:  16%|█▌        | 1903/11980 [51:56<3:36:12,  1.29s/video]"
     ]
    },
    {
     "name": "stdout",
     "output_type": "stream",
     "text": [
      "Saved 65286.mp4 as cake_frames.npy\n"
     ]
    },
    {
     "name": "stderr",
     "output_type": "stream",
     "text": [
      "\rProcessing Videos:  16%|█▌        | 1904/11980 [51:57<3:37:27,  1.29s/video]"
     ]
    },
    {
     "name": "stdout",
     "output_type": "stream",
     "text": [
      "Saved 65294.mp4 as can_frames.npy\n"
     ]
    },
    {
     "name": "stderr",
     "output_type": "stream",
     "text": [
      "\rProcessing Videos:  16%|█▌        | 1905/11980 [51:58<3:31:33,  1.26s/video]"
     ]
    },
    {
     "name": "stdout",
     "output_type": "stream",
     "text": [
      "Saved 65279.mp4 as butter_frames.npy\n"
     ]
    },
    {
     "name": "stderr",
     "output_type": "stream",
     "text": [
      "\rProcessing Videos:  16%|█▌        | 1906/11980 [52:00<3:41:37,  1.32s/video]"
     ]
    },
    {
     "name": "stdout",
     "output_type": "stream",
     "text": [
      "Saved 65304.mp4 as card_frames.npy\n"
     ]
    }
   ],
   "source": [
    "# Process each video sequentially\n",
    "processed_videos = 0\n",
    "for video_file in tqdm(video_files, desc=\"Processing Videos\", unit=\"video\"):\n",
    "    if process_and_save_video(video_file):\n",
    "        processed_videos += 1\n",
    "\n",
    "print(f\"Processed and saved frames for {processed_videos} videos in {SAVE_PATH}.\")"
   ]
  },
  {
   "cell_type": "code",
   "execution_count": null,
   "metadata": {
    "id": "wdA342xPKDp1"
   },
   "outputs": [],
   "source": []
  },
  {
   "cell_type": "code",
   "execution_count": null,
   "metadata": {
    "id": "p4B8V3ZNKDnl"
   },
   "outputs": [],
   "source": []
  },
  {
   "cell_type": "code",
   "execution_count": null,
   "metadata": {
    "id": "g03tMRLZKDlR"
   },
   "outputs": [],
   "source": []
  },
  {
   "cell_type": "code",
   "execution_count": null,
   "metadata": {
    "id": "sujaL0_-KDit"
   },
   "outputs": [],
   "source": []
  },
  {
   "cell_type": "code",
   "execution_count": null,
   "metadata": {
    "id": "1v9eKTLsKDgR"
   },
   "outputs": [],
   "source": []
  },
  {
   "cell_type": "code",
   "execution_count": null,
   "metadata": {
    "id": "ni3RVQmaKDeF"
   },
   "outputs": [],
   "source": []
  },
  {
   "cell_type": "code",
   "execution_count": null,
   "metadata": {
    "id": "gI9oQA4DKDb-"
   },
   "outputs": [],
   "source": []
  },
  {
   "cell_type": "code",
   "execution_count": null,
   "metadata": {
    "id": "uoxX9iE2KDZl"
   },
   "outputs": [],
   "source": []
  },
  {
   "cell_type": "code",
   "execution_count": null,
   "metadata": {
    "id": "iv9JO-nLKDXF"
   },
   "outputs": [],
   "source": []
  },
  {
   "cell_type": "code",
   "execution_count": null,
   "metadata": {
    "id": "BFnPovIpKDU1"
   },
   "outputs": [],
   "source": []
  },
  {
   "cell_type": "code",
   "execution_count": null,
   "metadata": {
    "id": "0_BF8Xe_KDSR"
   },
   "outputs": [],
   "source": []
  },
  {
   "cell_type": "code",
   "execution_count": 11,
   "metadata": {
    "executionInfo": {
     "elapsed": 333,
     "status": "ok",
     "timestamp": 1733322914474,
     "user": {
      "displayName": "Aaron Ramirez",
      "userId": "09089953805173967437"
     },
     "user_tz": -540
    },
    "id": "roUe9JFzGK6h"
   },
   "outputs": [],
   "source": [
    "import tensorflow as tf\n",
    "from tensorflow.keras import layers, models\n",
    "\n",
    "# Load InceptionV3 pretrained on ImageNet\n",
    "def load_imagenet_pretrained(input_shape=(90, 224, 224, 3)):\n",
    "    base_model = tf.keras.applications.InceptionV3(\n",
    "        include_top=False,  # Exclude the top classification layer\n",
    "        weights='imagenet',  # Pretrained on ImageNet\n",
    "        input_shape=input_shape[1:]  # Spatial dimensions (no temporal yet)\n",
    "    )\n",
    "    return base_model\n"
   ]
  },
  {
   "cell_type": "code",
   "execution_count": 15,
   "metadata": {
    "executionInfo": {
     "elapsed": 258,
     "status": "ok",
     "timestamp": 1733323001893,
     "user": {
      "displayName": "Aaron Ramirez",
      "userId": "09089953805173967437"
     },
     "user_tz": -540
    },
    "id": "fewk9vNfFWfy"
   },
   "outputs": [],
   "source": [
    "def inflate_2d_to_3d(base_model):\n",
    "    # Wrap base_model with TimeDistributed to handle temporal input\n",
    "    model = layers.TimeDistributed(base_model, input_shape=(90, 224, 224, 3))\n",
    "\n",
    "    # Add 3D Convolutional layers for temporal modeling\n",
    "    model = layers.Conv3D(64, (3, 3, 3), activation='relu', padding='same')(model)\n",
    "    model = layers.MaxPooling3D(pool_size=(2, 2, 2))(model)\n",
    "\n",
    "    model = layers.Conv3D(128, (3, 3, 3), activation='relu', padding='same')(model)\n",
    "    model = layers.MaxPooling3D(pool_size=(2, 2, 2))(model)\n",
    "\n",
    "    model = layers.Flatten()(model)\n",
    "    return model\n",
    "\n"
   ]
  },
  {
   "cell_type": "code",
   "execution_count": 17,
   "metadata": {
    "executionInfo": {
     "elapsed": 255,
     "status": "ok",
     "timestamp": 1733323013345,
     "user": {
      "displayName": "Aaron Ramirez",
      "userId": "09089953805173967437"
     },
     "user_tz": -540
    },
    "id": "d4CA6LlGGO4c"
   },
   "outputs": [],
   "source": [
    "def build_model(num_classes=2000):\n",
    "    # Input tensor for video sequences (90 frames, 224x224 RGB images)\n",
    "    input_tensor = layers.Input(shape=(90, 224, 224, 3))\n",
    "\n",
    "    # Load base model pretrained on ImageNet\n",
    "    base_model = load_imagenet_pretrained()  # Pretrained InceptionV3\n",
    "\n",
    "    # Apply TimeDistributed wrapper\n",
    "    x = layers.TimeDistributed(base_model)(input_tensor)\n",
    "\n",
    "    # Add 3D convolutions for temporal modeling\n",
    "    x = layers.Conv3D(64, (3, 3, 3), activation='relu', padding='same')(x)\n",
    "    x = layers.MaxPooling3D(pool_size=(2, 2, 2))(x)\n",
    "\n",
    "    x = layers.Conv3D(128, (3, 3, 3), activation='relu', padding='same')(x)\n",
    "    x = layers.MaxPooling3D(pool_size=(2, 2, 2))(x)\n",
    "\n",
    "    # Flatten the output and add fully connected layers\n",
    "    x = layers.Flatten()(x)\n",
    "    x = layers.Dense(512, activation='relu')(x)\n",
    "    x = layers.Dropout(0.5)(x)\n",
    "\n",
    "    # Final classification layer for WLASL\n",
    "    output_tensor = layers.Dense(num_classes, activation='softmax')(x)\n",
    "\n",
    "    # Create the model\n",
    "    model = models.Model(inputs=input_tensor, outputs=output_tensor)\n",
    "    return model\n",
    "\n"
   ]
  },
  {
   "cell_type": "code",
   "execution_count": 21,
   "metadata": {
    "colab": {
     "base_uri": "https://localhost:8080/",
     "height": 476
    },
    "executionInfo": {
     "elapsed": 2005,
     "status": "ok",
     "timestamp": 1733323101059,
     "user": {
      "displayName": "Aaron Ramirez",
      "userId": "09089953805173967437"
     },
     "user_tz": -540
    },
    "id": "p3ctEUoeGRCU",
    "outputId": "47ba391e-41e1-464d-b43f-9cf13f0eef69"
   },
   "outputs": [
    {
     "data": {
      "text/html": [
       "<pre style=\"white-space:pre;overflow-x:auto;line-height:normal;font-family:Menlo,'DejaVu Sans Mono',consolas,'Courier New',monospace\"><span style=\"font-weight: bold\">Model: \"functional_6\"</span>\n",
       "</pre>\n"
      ],
      "text/plain": [
       "\u001b[1mModel: \"functional_6\"\u001b[0m\n"
      ]
     },
     "metadata": {},
     "output_type": "display_data"
    },
    {
     "data": {
      "text/html": [
       "<pre style=\"white-space:pre;overflow-x:auto;line-height:normal;font-family:Menlo,'DejaVu Sans Mono',consolas,'Courier New',monospace\">┏━━━━━━━━━━━━━━━━━━━━━━━━━━━━━━━━━━━━━━┳━━━━━━━━━━━━━━━━━━━━━━━━━━━━━┳━━━━━━━━━━━━━━━━━┓\n",
       "┃<span style=\"font-weight: bold\"> Layer (type)                         </span>┃<span style=\"font-weight: bold\"> Output Shape                </span>┃<span style=\"font-weight: bold\">         Param # </span>┃\n",
       "┡━━━━━━━━━━━━━━━━━━━━━━━━━━━━━━━━━━━━━━╇━━━━━━━━━━━━━━━━━━━━━━━━━━━━━╇━━━━━━━━━━━━━━━━━┩\n",
       "│ input_layer_5 (<span style=\"color: #0087ff; text-decoration-color: #0087ff\">InputLayer</span>)           │ (<span style=\"color: #00d7ff; text-decoration-color: #00d7ff\">None</span>, <span style=\"color: #00af00; text-decoration-color: #00af00\">90</span>, <span style=\"color: #00af00; text-decoration-color: #00af00\">224</span>, <span style=\"color: #00af00; text-decoration-color: #00af00\">224</span>, <span style=\"color: #00af00; text-decoration-color: #00af00\">3</span>)     │               <span style=\"color: #00af00; text-decoration-color: #00af00\">0</span> │\n",
       "├──────────────────────────────────────┼─────────────────────────────┼─────────────────┤\n",
       "│ time_distributed_4 (<span style=\"color: #0087ff; text-decoration-color: #0087ff\">TimeDistributed</span>) │ (<span style=\"color: #00d7ff; text-decoration-color: #00d7ff\">None</span>, <span style=\"color: #00af00; text-decoration-color: #00af00\">90</span>, <span style=\"color: #00af00; text-decoration-color: #00af00\">5</span>, <span style=\"color: #00af00; text-decoration-color: #00af00\">5</span>, <span style=\"color: #00af00; text-decoration-color: #00af00\">2048</span>)      │      <span style=\"color: #00af00; text-decoration-color: #00af00\">21,802,784</span> │\n",
       "├──────────────────────────────────────┼─────────────────────────────┼─────────────────┤\n",
       "│ conv3d_5 (<span style=\"color: #0087ff; text-decoration-color: #0087ff\">Conv3D</span>)                    │ (<span style=\"color: #00d7ff; text-decoration-color: #00d7ff\">None</span>, <span style=\"color: #00af00; text-decoration-color: #00af00\">90</span>, <span style=\"color: #00af00; text-decoration-color: #00af00\">5</span>, <span style=\"color: #00af00; text-decoration-color: #00af00\">5</span>, <span style=\"color: #00af00; text-decoration-color: #00af00\">64</span>)        │       <span style=\"color: #00af00; text-decoration-color: #00af00\">3,539,008</span> │\n",
       "├──────────────────────────────────────┼─────────────────────────────┼─────────────────┤\n",
       "│ max_pooling3d_2 (<span style=\"color: #0087ff; text-decoration-color: #0087ff\">MaxPooling3D</span>)       │ (<span style=\"color: #00d7ff; text-decoration-color: #00d7ff\">None</span>, <span style=\"color: #00af00; text-decoration-color: #00af00\">45</span>, <span style=\"color: #00af00; text-decoration-color: #00af00\">2</span>, <span style=\"color: #00af00; text-decoration-color: #00af00\">2</span>, <span style=\"color: #00af00; text-decoration-color: #00af00\">64</span>)        │               <span style=\"color: #00af00; text-decoration-color: #00af00\">0</span> │\n",
       "├──────────────────────────────────────┼─────────────────────────────┼─────────────────┤\n",
       "│ conv3d_6 (<span style=\"color: #0087ff; text-decoration-color: #0087ff\">Conv3D</span>)                    │ (<span style=\"color: #00d7ff; text-decoration-color: #00d7ff\">None</span>, <span style=\"color: #00af00; text-decoration-color: #00af00\">45</span>, <span style=\"color: #00af00; text-decoration-color: #00af00\">2</span>, <span style=\"color: #00af00; text-decoration-color: #00af00\">2</span>, <span style=\"color: #00af00; text-decoration-color: #00af00\">128</span>)       │         <span style=\"color: #00af00; text-decoration-color: #00af00\">221,312</span> │\n",
       "├──────────────────────────────────────┼─────────────────────────────┼─────────────────┤\n",
       "│ max_pooling3d_3 (<span style=\"color: #0087ff; text-decoration-color: #0087ff\">MaxPooling3D</span>)       │ (<span style=\"color: #00d7ff; text-decoration-color: #00d7ff\">None</span>, <span style=\"color: #00af00; text-decoration-color: #00af00\">22</span>, <span style=\"color: #00af00; text-decoration-color: #00af00\">1</span>, <span style=\"color: #00af00; text-decoration-color: #00af00\">1</span>, <span style=\"color: #00af00; text-decoration-color: #00af00\">128</span>)       │               <span style=\"color: #00af00; text-decoration-color: #00af00\">0</span> │\n",
       "├──────────────────────────────────────┼─────────────────────────────┼─────────────────┤\n",
       "│ flatten_1 (<span style=\"color: #0087ff; text-decoration-color: #0087ff\">Flatten</span>)                  │ (<span style=\"color: #00d7ff; text-decoration-color: #00d7ff\">None</span>, <span style=\"color: #00af00; text-decoration-color: #00af00\">2816</span>)                │               <span style=\"color: #00af00; text-decoration-color: #00af00\">0</span> │\n",
       "├──────────────────────────────────────┼─────────────────────────────┼─────────────────┤\n",
       "│ dense (<span style=\"color: #0087ff; text-decoration-color: #0087ff\">Dense</span>)                        │ (<span style=\"color: #00d7ff; text-decoration-color: #00d7ff\">None</span>, <span style=\"color: #00af00; text-decoration-color: #00af00\">512</span>)                 │       <span style=\"color: #00af00; text-decoration-color: #00af00\">1,442,304</span> │\n",
       "├──────────────────────────────────────┼─────────────────────────────┼─────────────────┤\n",
       "│ dropout (<span style=\"color: #0087ff; text-decoration-color: #0087ff\">Dropout</span>)                    │ (<span style=\"color: #00d7ff; text-decoration-color: #00d7ff\">None</span>, <span style=\"color: #00af00; text-decoration-color: #00af00\">512</span>)                 │               <span style=\"color: #00af00; text-decoration-color: #00af00\">0</span> │\n",
       "├──────────────────────────────────────┼─────────────────────────────┼─────────────────┤\n",
       "│ dense_1 (<span style=\"color: #0087ff; text-decoration-color: #0087ff\">Dense</span>)                      │ (<span style=\"color: #00d7ff; text-decoration-color: #00d7ff\">None</span>, <span style=\"color: #00af00; text-decoration-color: #00af00\">2000</span>)                │       <span style=\"color: #00af00; text-decoration-color: #00af00\">1,026,000</span> │\n",
       "└──────────────────────────────────────┴─────────────────────────────┴─────────────────┘\n",
       "</pre>\n"
      ],
      "text/plain": [
       "┏━━━━━━━━━━━━━━━━━━━━━━━━━━━━━━━━━━━━━━┳━━━━━━━━━━━━━━━━━━━━━━━━━━━━━┳━━━━━━━━━━━━━━━━━┓\n",
       "┃\u001b[1m \u001b[0m\u001b[1mLayer (type)                        \u001b[0m\u001b[1m \u001b[0m┃\u001b[1m \u001b[0m\u001b[1mOutput Shape               \u001b[0m\u001b[1m \u001b[0m┃\u001b[1m \u001b[0m\u001b[1m        Param #\u001b[0m\u001b[1m \u001b[0m┃\n",
       "┡━━━━━━━━━━━━━━━━━━━━━━━━━━━━━━━━━━━━━━╇━━━━━━━━━━━━━━━━━━━━━━━━━━━━━╇━━━━━━━━━━━━━━━━━┩\n",
       "│ input_layer_5 (\u001b[38;5;33mInputLayer\u001b[0m)           │ (\u001b[38;5;45mNone\u001b[0m, \u001b[38;5;34m90\u001b[0m, \u001b[38;5;34m224\u001b[0m, \u001b[38;5;34m224\u001b[0m, \u001b[38;5;34m3\u001b[0m)     │               \u001b[38;5;34m0\u001b[0m │\n",
       "├──────────────────────────────────────┼─────────────────────────────┼─────────────────┤\n",
       "│ time_distributed_4 (\u001b[38;5;33mTimeDistributed\u001b[0m) │ (\u001b[38;5;45mNone\u001b[0m, \u001b[38;5;34m90\u001b[0m, \u001b[38;5;34m5\u001b[0m, \u001b[38;5;34m5\u001b[0m, \u001b[38;5;34m2048\u001b[0m)      │      \u001b[38;5;34m21,802,784\u001b[0m │\n",
       "├──────────────────────────────────────┼─────────────────────────────┼─────────────────┤\n",
       "│ conv3d_5 (\u001b[38;5;33mConv3D\u001b[0m)                    │ (\u001b[38;5;45mNone\u001b[0m, \u001b[38;5;34m90\u001b[0m, \u001b[38;5;34m5\u001b[0m, \u001b[38;5;34m5\u001b[0m, \u001b[38;5;34m64\u001b[0m)        │       \u001b[38;5;34m3,539,008\u001b[0m │\n",
       "├──────────────────────────────────────┼─────────────────────────────┼─────────────────┤\n",
       "│ max_pooling3d_2 (\u001b[38;5;33mMaxPooling3D\u001b[0m)       │ (\u001b[38;5;45mNone\u001b[0m, \u001b[38;5;34m45\u001b[0m, \u001b[38;5;34m2\u001b[0m, \u001b[38;5;34m2\u001b[0m, \u001b[38;5;34m64\u001b[0m)        │               \u001b[38;5;34m0\u001b[0m │\n",
       "├──────────────────────────────────────┼─────────────────────────────┼─────────────────┤\n",
       "│ conv3d_6 (\u001b[38;5;33mConv3D\u001b[0m)                    │ (\u001b[38;5;45mNone\u001b[0m, \u001b[38;5;34m45\u001b[0m, \u001b[38;5;34m2\u001b[0m, \u001b[38;5;34m2\u001b[0m, \u001b[38;5;34m128\u001b[0m)       │         \u001b[38;5;34m221,312\u001b[0m │\n",
       "├──────────────────────────────────────┼─────────────────────────────┼─────────────────┤\n",
       "│ max_pooling3d_3 (\u001b[38;5;33mMaxPooling3D\u001b[0m)       │ (\u001b[38;5;45mNone\u001b[0m, \u001b[38;5;34m22\u001b[0m, \u001b[38;5;34m1\u001b[0m, \u001b[38;5;34m1\u001b[0m, \u001b[38;5;34m128\u001b[0m)       │               \u001b[38;5;34m0\u001b[0m │\n",
       "├──────────────────────────────────────┼─────────────────────────────┼─────────────────┤\n",
       "│ flatten_1 (\u001b[38;5;33mFlatten\u001b[0m)                  │ (\u001b[38;5;45mNone\u001b[0m, \u001b[38;5;34m2816\u001b[0m)                │               \u001b[38;5;34m0\u001b[0m │\n",
       "├──────────────────────────────────────┼─────────────────────────────┼─────────────────┤\n",
       "│ dense (\u001b[38;5;33mDense\u001b[0m)                        │ (\u001b[38;5;45mNone\u001b[0m, \u001b[38;5;34m512\u001b[0m)                 │       \u001b[38;5;34m1,442,304\u001b[0m │\n",
       "├──────────────────────────────────────┼─────────────────────────────┼─────────────────┤\n",
       "│ dropout (\u001b[38;5;33mDropout\u001b[0m)                    │ (\u001b[38;5;45mNone\u001b[0m, \u001b[38;5;34m512\u001b[0m)                 │               \u001b[38;5;34m0\u001b[0m │\n",
       "├──────────────────────────────────────┼─────────────────────────────┼─────────────────┤\n",
       "│ dense_1 (\u001b[38;5;33mDense\u001b[0m)                      │ (\u001b[38;5;45mNone\u001b[0m, \u001b[38;5;34m2000\u001b[0m)                │       \u001b[38;5;34m1,026,000\u001b[0m │\n",
       "└──────────────────────────────────────┴─────────────────────────────┴─────────────────┘\n"
      ]
     },
     "metadata": {},
     "output_type": "display_data"
    },
    {
     "data": {
      "text/html": [
       "<pre style=\"white-space:pre;overflow-x:auto;line-height:normal;font-family:Menlo,'DejaVu Sans Mono',consolas,'Courier New',monospace\"><span style=\"font-weight: bold\"> Total params: </span><span style=\"color: #00af00; text-decoration-color: #00af00\">28,031,408</span> (106.93 MB)\n",
       "</pre>\n"
      ],
      "text/plain": [
       "\u001b[1m Total params: \u001b[0m\u001b[38;5;34m28,031,408\u001b[0m (106.93 MB)\n"
      ]
     },
     "metadata": {},
     "output_type": "display_data"
    },
    {
     "data": {
      "text/html": [
       "<pre style=\"white-space:pre;overflow-x:auto;line-height:normal;font-family:Menlo,'DejaVu Sans Mono',consolas,'Courier New',monospace\"><span style=\"font-weight: bold\"> Trainable params: </span><span style=\"color: #00af00; text-decoration-color: #00af00\">1,026,000</span> (3.91 MB)\n",
       "</pre>\n"
      ],
      "text/plain": [
       "\u001b[1m Trainable params: \u001b[0m\u001b[38;5;34m1,026,000\u001b[0m (3.91 MB)\n"
      ]
     },
     "metadata": {},
     "output_type": "display_data"
    },
    {
     "data": {
      "text/html": [
       "<pre style=\"white-space:pre;overflow-x:auto;line-height:normal;font-family:Menlo,'DejaVu Sans Mono',consolas,'Courier New',monospace\"><span style=\"font-weight: bold\"> Non-trainable params: </span><span style=\"color: #00af00; text-decoration-color: #00af00\">27,005,408</span> (103.02 MB)\n",
       "</pre>\n"
      ],
      "text/plain": [
       "\u001b[1m Non-trainable params: \u001b[0m\u001b[38;5;34m27,005,408\u001b[0m (103.02 MB)\n"
      ]
     },
     "metadata": {},
     "output_type": "display_data"
    }
   ],
   "source": [
    "# Build the model\n",
    "num_classes = 2000  # Number of classes in WLASL\n",
    "model = build_model(num_classes=num_classes)\n",
    "\n",
    "# Freeze the base layers\n",
    "for layer in model.layers[:-2]:\n",
    "    layer.trainable = False\n",
    "\n",
    "# Compile the model\n",
    "model.compile(optimizer='adam', loss='categorical_crossentropy', metrics=['accuracy'])\n",
    "\n",
    "# Print the model summary\n",
    "model.summary()\n",
    "\n",
    "\n"
   ]
  }
 ],
 "metadata": {
  "accelerator": "GPU",
  "colab": {
   "authorship_tag": "ABX9TyMU8Gbz0wuVZM65v+N/rN89",
   "gpuType": "L4",
   "mount_file_id": "1nKUH3kSpqejOs3dsTq6TDRUJ-qkdHWcF",
   "provenance": []
  },
  "kernelspec": {
   "display_name": "Python 3",
   "name": "python3"
  },
  "language_info": {
   "name": "python"
  }
 },
 "nbformat": 4,
 "nbformat_minor": 0
}
